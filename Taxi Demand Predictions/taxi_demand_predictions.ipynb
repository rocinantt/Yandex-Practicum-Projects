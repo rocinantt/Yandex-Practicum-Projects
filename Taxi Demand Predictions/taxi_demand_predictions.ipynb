{
 "cells": [
  {
   "cell_type": "markdown",
   "metadata": {
    "toc": true
   },
   "source": [
    "<h1>Содержание<span class=\"tocSkip\"></span></h1>\n",
    "<div class=\"toc\"><ul class=\"toc-item\"><li><span><a href=\"#Загрузка-и-подготовка-данных\" data-toc-modified-id=\"Загрузка-и-подготовка-данных-1\"><span class=\"toc-item-num\">1&nbsp;&nbsp;</span>Загрузка и подготовка данных</a></span><ul class=\"toc-item\"><li><span><a href=\"#Промежуточный-вывод\" data-toc-modified-id=\"Промежуточный-вывод-1.1\"><span class=\"toc-item-num\">1.1&nbsp;&nbsp;</span>Промежуточный вывод</a></span></li></ul></li><li><span><a href=\"#Анализ\" data-toc-modified-id=\"Анализ-2\"><span class=\"toc-item-num\">2&nbsp;&nbsp;</span>Анализ</a></span><ul class=\"toc-item\"><li><span><a href=\"#Декомпозиция\" data-toc-modified-id=\"Декомпозиция-2.1\"><span class=\"toc-item-num\">2.1&nbsp;&nbsp;</span>Декомпозиция</a></span></li><li><span><a href=\"#Стационарность\" data-toc-modified-id=\"Стационарность-2.2\"><span class=\"toc-item-num\">2.2&nbsp;&nbsp;</span>Стационарность</a></span></li><li><span><a href=\"#Создадим-новые-признаки\" data-toc-modified-id=\"Создадим-новые-признаки-2.3\"><span class=\"toc-item-num\">2.3&nbsp;&nbsp;</span>Создадим новые признаки</a></span></li></ul></li><li><span><a href=\"#Обучение\" data-toc-modified-id=\"Обучение-3\"><span class=\"toc-item-num\">3&nbsp;&nbsp;</span>Обучение</a></span><ul class=\"toc-item\"><li><span><a href=\"#Тестирование-моделей\" data-toc-modified-id=\"Тестирование-моделей-3.1\"><span class=\"toc-item-num\">3.1&nbsp;&nbsp;</span>Тестирование моделей</a></span></li><li><span><a href=\"#KNN-Regressor\" data-toc-modified-id=\"KNN-Regressor-3.2\"><span class=\"toc-item-num\">3.2&nbsp;&nbsp;</span>KNN-Regressor</a></span></li><li><span><a href=\"#RandomForest\" data-toc-modified-id=\"RandomForest-3.3\"><span class=\"toc-item-num\">3.3&nbsp;&nbsp;</span>RandomForest</a></span></li><li><span><a href=\"#LightGBM\" data-toc-modified-id=\"LightGBM-3.4\"><span class=\"toc-item-num\">3.4&nbsp;&nbsp;</span>LightGBM</a></span></li></ul></li><li><span><a href=\"#Тестирование\" data-toc-modified-id=\"Тестирование-4\"><span class=\"toc-item-num\">4&nbsp;&nbsp;</span>Тестирование</a></span></li><li><span><a href=\"#Вывод\" data-toc-modified-id=\"Вывод-5\"><span class=\"toc-item-num\">5&nbsp;&nbsp;</span>Вывод</a></span></li><li><span><a href=\"#Чек-лист-проверки\" data-toc-modified-id=\"Чек-лист-проверки-6\"><span class=\"toc-item-num\">6&nbsp;&nbsp;</span>Чек-лист проверки</a></span></li></ul></div>"
   ]
  },
  {
   "cell_type": "markdown",
   "metadata": {},
   "source": [
    "#  Прогнозирование заказов такси"
   ]
  },
  {
   "cell_type": "markdown",
   "metadata": {},
   "source": [
    "Компания предоставляющая услуги такси собрала исторические данные о заказах такси в аэропортах. Чтобы привлекать больше водителей в период пиковой нагрузки, нужно спрогнозировать количество заказов такси на следующий час. Постройте модель для такого предсказания.\n",
    "\n",
    "Значение метрики *RMSE* на тестовой выборке должно быть не больше 48."
   ]
  },
  {
   "cell_type": "markdown",
   "metadata": {},
   "source": [
    "## Загрузка и подготовка данных"
   ]
  },
  {
   "cell_type": "code",
   "execution_count": 1,
   "metadata": {},
   "outputs": [],
   "source": [
    "!pip -q install imblearn\n",
    "!pip -q install -U scikit-learn\n",
    "!pip -q install optuna\n",
    "!pip -q install catboost"
   ]
  },
  {
   "cell_type": "code",
   "execution_count": 2,
   "metadata": {},
   "outputs": [],
   "source": [
    "import pandas as pd\n",
    "import matplotlib.pyplot as plt\n",
    "import seaborn as sns\n",
    "import numpy as np\n",
    "import optuna\n",
    "import catboost as cb\n",
    "import lightgbm as lgb\n",
    "from sklearn.neighbors import KNeighborsRegressor\n",
    "from sklearn.ensemble import RandomForestRegressor\n",
    "from sklearn.model_selection import TimeSeriesSplit, cross_val_score, train_test_split\n",
    "from statsmodels.tsa.seasonal import seasonal_decompose\n",
    "from statsmodels. tsa.stattools import adfuller\n",
    "from imblearn.pipeline import Pipeline\n",
    "from sklearn.metrics import mean_squared_error"
   ]
  },
  {
   "cell_type": "code",
   "execution_count": 4,
   "metadata": {},
   "outputs": [
    {
     "data": {
      "text/html": [
       "<div>\n",
       "<style scoped>\n",
       "    .dataframe tbody tr th:only-of-type {\n",
       "        vertical-align: middle;\n",
       "    }\n",
       "\n",
       "    .dataframe tbody tr th {\n",
       "        vertical-align: top;\n",
       "    }\n",
       "\n",
       "    .dataframe thead th {\n",
       "        text-align: right;\n",
       "    }\n",
       "</style>\n",
       "<table border=\"1\" class=\"dataframe\">\n",
       "  <thead>\n",
       "    <tr style=\"text-align: right;\">\n",
       "      <th></th>\n",
       "      <th>num_orders</th>\n",
       "    </tr>\n",
       "    <tr>\n",
       "      <th>datetime</th>\n",
       "      <th></th>\n",
       "    </tr>\n",
       "  </thead>\n",
       "  <tbody>\n",
       "    <tr>\n",
       "      <th>2018-03-01 00:00:00</th>\n",
       "      <td>9</td>\n",
       "    </tr>\n",
       "    <tr>\n",
       "      <th>2018-03-01 00:10:00</th>\n",
       "      <td>14</td>\n",
       "    </tr>\n",
       "    <tr>\n",
       "      <th>2018-03-01 00:20:00</th>\n",
       "      <td>28</td>\n",
       "    </tr>\n",
       "    <tr>\n",
       "      <th>2018-03-01 00:30:00</th>\n",
       "      <td>20</td>\n",
       "    </tr>\n",
       "    <tr>\n",
       "      <th>2018-03-01 00:40:00</th>\n",
       "      <td>32</td>\n",
       "    </tr>\n",
       "  </tbody>\n",
       "</table>\n",
       "</div>"
      ],
      "text/plain": [
       "                     num_orders\n",
       "datetime                       \n",
       "2018-03-01 00:00:00           9\n",
       "2018-03-01 00:10:00          14\n",
       "2018-03-01 00:20:00          28\n",
       "2018-03-01 00:30:00          20\n",
       "2018-03-01 00:40:00          32"
      ]
     },
     "execution_count": 4,
     "metadata": {},
     "output_type": "execute_result"
    }
   ],
   "source": [
    "df.head()"
   ]
  },
  {
   "cell_type": "code",
   "execution_count": 5,
   "metadata": {},
   "outputs": [
    {
     "name": "stdout",
     "output_type": "stream",
     "text": [
      "<class 'pandas.core.frame.DataFrame'>\n",
      "DatetimeIndex: 26496 entries, 2018-03-01 00:00:00 to 2018-08-31 23:50:00\n",
      "Data columns (total 1 columns):\n",
      " #   Column      Non-Null Count  Dtype\n",
      "---  ------      --------------  -----\n",
      " 0   num_orders  26496 non-null  int64\n",
      "dtypes: int64(1)\n",
      "memory usage: 414.0 KB\n"
     ]
    }
   ],
   "source": [
    "df.info()"
   ]
  },
  {
   "cell_type": "markdown",
   "metadata": {},
   "source": [
    "Проверим расположены ли записи в хронологическом порядке "
   ]
  },
  {
   "cell_type": "code",
   "execution_count": 6,
   "metadata": {},
   "outputs": [
    {
     "name": "stdout",
     "output_type": "stream",
     "text": [
      "True\n"
     ]
    }
   ],
   "source": [
    "print(df.index.is_monotonic_increasing)"
   ]
  },
  {
   "cell_type": "markdown",
   "metadata": {},
   "source": [
    "Теперь проверим неизменен ли интервал между записями"
   ]
  },
  {
   "cell_type": "code",
   "execution_count": 7,
   "metadata": {},
   "outputs": [],
   "source": [
    "index_values = df.index.values  \n",
    "intervals = np.diff(index_values)"
   ]
  },
  {
   "cell_type": "code",
   "execution_count": 8,
   "metadata": {},
   "outputs": [
    {
     "name": "stdout",
     "output_type": "stream",
     "text": [
      "Интервалы равномерны.\n"
     ]
    }
   ],
   "source": [
    "if np.all(intervals == intervals[0]):\n",
    "    print(\"Интервалы равномерны.\")\n",
    "else:\n",
    "    print(\"Интервалы не равномерны.\")"
   ]
  },
  {
   "cell_type": "code",
   "execution_count": 9,
   "metadata": {},
   "outputs": [
    {
     "data": {
      "text/plain": [
       "26496"
      ]
     },
     "execution_count": 9,
     "metadata": {},
     "output_type": "execute_result"
    }
   ],
   "source": [
    "df.shape[0]"
   ]
  },
  {
   "cell_type": "markdown",
   "metadata": {},
   "source": [
    "Узнаем дату и время первой и последней записей"
   ]
  },
  {
   "cell_type": "code",
   "execution_count": 10,
   "metadata": {},
   "outputs": [
    {
     "data": {
      "text/plain": [
       "Timestamp('2018-03-01 00:00:00')"
      ]
     },
     "execution_count": 10,
     "metadata": {},
     "output_type": "execute_result"
    }
   ],
   "source": [
    "df.index.min()"
   ]
  },
  {
   "cell_type": "code",
   "execution_count": 11,
   "metadata": {},
   "outputs": [
    {
     "data": {
      "text/plain": [
       "Timestamp('2018-08-31 23:50:00')"
      ]
     },
     "execution_count": 11,
     "metadata": {},
     "output_type": "execute_result"
    }
   ],
   "source": [
    "df.index.max()"
   ]
  },
  {
   "cell_type": "code",
   "execution_count": 12,
   "metadata": {},
   "outputs": [
    {
     "data": {
      "text/html": [
       "<div>\n",
       "<style scoped>\n",
       "    .dataframe tbody tr th:only-of-type {\n",
       "        vertical-align: middle;\n",
       "    }\n",
       "\n",
       "    .dataframe tbody tr th {\n",
       "        vertical-align: top;\n",
       "    }\n",
       "\n",
       "    .dataframe thead th {\n",
       "        text-align: right;\n",
       "    }\n",
       "</style>\n",
       "<table border=\"1\" class=\"dataframe\">\n",
       "  <thead>\n",
       "    <tr style=\"text-align: right;\">\n",
       "      <th></th>\n",
       "      <th>count</th>\n",
       "      <th>mean</th>\n",
       "      <th>std</th>\n",
       "      <th>min</th>\n",
       "      <th>25%</th>\n",
       "      <th>50%</th>\n",
       "      <th>75%</th>\n",
       "      <th>max</th>\n",
       "    </tr>\n",
       "  </thead>\n",
       "  <tbody>\n",
       "    <tr>\n",
       "      <th>num_orders</th>\n",
       "      <td>26496.0</td>\n",
       "      <td>14.070463</td>\n",
       "      <td>9.21133</td>\n",
       "      <td>0.0</td>\n",
       "      <td>8.0</td>\n",
       "      <td>13.0</td>\n",
       "      <td>19.0</td>\n",
       "      <td>119.0</td>\n",
       "    </tr>\n",
       "  </tbody>\n",
       "</table>\n",
       "</div>"
      ],
      "text/plain": [
       "              count       mean      std  min  25%   50%   75%    max\n",
       "num_orders  26496.0  14.070463  9.21133  0.0  8.0  13.0  19.0  119.0"
      ]
     },
     "execution_count": 12,
     "metadata": {},
     "output_type": "execute_result"
    }
   ],
   "source": [
    "df.describe().T"
   ]
  },
  {
   "cell_type": "code",
   "execution_count": 13,
   "metadata": {},
   "outputs": [],
   "source": [
    "def plot_line(df):\n",
    "    plt.figure(figsize=(12, 6))\n",
    "    sns.set(style='whitegrid')\n",
    "    sns.set_palette('Set2')\n",
    "    sns.lineplot(data=df)\n",
    "    plt.xlabel('Дата')\n",
    "    plt.ylabel('Количество заказов');"
   ]
  },
  {
   "cell_type": "code",
   "execution_count": 14,
   "metadata": {
    "scrolled": true
   },
   "outputs": [
    {
     "data": {
      "image/png": "[encoded data removed]",
      "text/plain": [
       "<Figure size 864x432 with 1 Axes>"
      ]
     },
     "metadata": {
      "needs_background": "light"
     },
     "output_type": "display_data"
    }
   ],
   "source": [
    "plot_line(df)\n",
    "plt.title('Изменение количества заказов c интервалом 10 минут');"
   ]
  },
  {
   "cell_type": "markdown",
   "metadata": {},
   "source": [
    "Выполним ресэмплирование по одному часу"
   ]
  },
  {
   "cell_type": "code",
   "execution_count": 15,
   "metadata": {},
   "outputs": [],
   "source": [
    "df = df.resample('1H').sum()"
   ]
  },
  {
   "cell_type": "code",
   "execution_count": 16,
   "metadata": {},
   "outputs": [
    {
     "data": {
      "text/html": [
       "<div>\n",
       "<style scoped>\n",
       "    .dataframe tbody tr th:only-of-type {\n",
       "        vertical-align: middle;\n",
       "    }\n",
       "\n",
       "    .dataframe tbody tr th {\n",
       "        vertical-align: top;\n",
       "    }\n",
       "\n",
       "    .dataframe thead th {\n",
       "        text-align: right;\n",
       "    }\n",
       "</style>\n",
       "<table border=\"1\" class=\"dataframe\">\n",
       "  <thead>\n",
       "    <tr style=\"text-align: right;\">\n",
       "      <th></th>\n",
       "      <th>count</th>\n",
       "      <th>mean</th>\n",
       "      <th>std</th>\n",
       "      <th>min</th>\n",
       "      <th>25%</th>\n",
       "      <th>50%</th>\n",
       "      <th>75%</th>\n",
       "      <th>max</th>\n",
       "    </tr>\n",
       "  </thead>\n",
       "  <tbody>\n",
       "    <tr>\n",
       "      <th>num_orders</th>\n",
       "      <td>4416.0</td>\n",
       "      <td>84.422781</td>\n",
       "      <td>45.023853</td>\n",
       "      <td>0.0</td>\n",
       "      <td>54.0</td>\n",
       "      <td>78.0</td>\n",
       "      <td>107.0</td>\n",
       "      <td>462.0</td>\n",
       "    </tr>\n",
       "  </tbody>\n",
       "</table>\n",
       "</div>"
      ],
      "text/plain": [
       "             count       mean        std  min   25%   50%    75%    max\n",
       "num_orders  4416.0  84.422781  45.023853  0.0  54.0  78.0  107.0  462.0"
      ]
     },
     "execution_count": 16,
     "metadata": {},
     "output_type": "execute_result"
    }
   ],
   "source": [
    "df.describe().T"
   ]
  },
  {
   "cell_type": "code",
   "execution_count": 17,
   "metadata": {},
   "outputs": [
    {
     "data": {
      "image/png": "[encoded data removed]",
      "text/plain": [
       "<Figure size 864x432 with 1 Axes>"
      ]
     },
     "metadata": {},
     "output_type": "display_data"
    }
   ],
   "source": [
    "plot_line(df)\n",
    "plt.title('Изменение суммарного количества заказов с интервалом 1 час');"
   ]
  },
  {
   "cell_type": "markdown",
   "metadata": {},
   "source": [
    "### Промежуточный вывод"
   ]
  },
  {
   "cell_type": "markdown",
   "metadata": {},
   "source": [
    "1. В нашем распоряжении датафрейм содержащий информацию количестве заказов такси с интервалом за час с 1 марта по 31 августа 2018 года.\n",
    "2. Всего имеется 26496 строк\n",
    "3. Мы изменили интервал временного ряда с 10 минут на 1 час, в результате у нас осталось 4416 строк\n",
    "4. Записи расположены в хронологическом порядке с неизменным интервалом"
   ]
  },
  {
   "cell_type": "markdown",
   "metadata": {},
   "source": [
    "## Анализ"
   ]
  },
  {
   "cell_type": "markdown",
   "metadata": {},
   "source": [
    "### Декомпозиция"
   ]
  },
  {
   "cell_type": "code",
   "execution_count": 18,
   "metadata": {},
   "outputs": [],
   "source": [
    "decomposed = seasonal_decompose(df['num_orders'])"
   ]
  },
  {
   "cell_type": "code",
   "execution_count": 19,
   "metadata": {},
   "outputs": [
    {
     "data": {
      "image/png": "[encoded data removed]",
      "text/plain": [
       "<Figure size 864x432 with 1 Axes>"
      ]
     },
     "metadata": {},
     "output_type": "display_data"
    }
   ],
   "source": [
    "plot_line(decomposed.trend)\n",
    "plt.title('Тренд изменения количества заказов')\n",
    "plt.show();"
   ]
  },
  {
   "cell_type": "code",
   "execution_count": 20,
   "metadata": {},
   "outputs": [
    {
     "data": {
      "image/png": "[encoded data removed]",
      "text/plain": [
       "<Figure size 864x432 with 1 Axes>"
      ]
     },
     "metadata": {},
     "output_type": "display_data"
    }
   ],
   "source": [
    "plot_line(decomposed.resid)\n",
    "plt.title('Шум после декомпозиции временного ряда');"
   ]
  },
  {
   "cell_type": "code",
   "execution_count": 21,
   "metadata": {},
   "outputs": [
    {
     "data": {
      "image/png": "[encoded data removed]",
      "text/plain": [
       "<Figure size 864x432 with 1 Axes>"
      ]
     },
     "metadata": {},
     "output_type": "display_data"
    }
   ],
   "source": [
    "plot_line(decomposed.seasonal)\n",
    "plt.title('Сезонность после декомпозиции временного ряда');"
   ]
  },
  {
   "cell_type": "code",
   "execution_count": 22,
   "metadata": {
    "scrolled": true
   },
   "outputs": [
    {
     "data": {
      "image/png": "[encoded data removed]",
      "text/plain": [
       "<Figure size 864x432 with 1 Axes>"
      ]
     },
     "metadata": {},
     "output_type": "display_data"
    }
   ],
   "source": [
    "plot_line(decomposed.seasonal['2018-03-03' : '2018-03-05'])\n",
    "plt.title('Колебания количества заказов в зависимости от времени суток');"
   ]
  },
  {
   "cell_type": "code",
   "execution_count": 23,
   "metadata": {},
   "outputs": [],
   "source": [
    "decomposed = seasonal_decompose(df['num_orders'].resample('1D').sum())"
   ]
  },
  {
   "cell_type": "code",
   "execution_count": 24,
   "metadata": {
    "scrolled": true
   },
   "outputs": [
    {
     "data": {
      "image/png": "[encoded data removed]",
      "text/plain": [
       "<Figure size 864x432 with 1 Axes>"
      ]
     },
     "metadata": {},
     "output_type": "display_data"
    }
   ],
   "source": [
    "plot_line(decomposed.seasonal['2018-04-01':'2018-04-14'])\n",
    "plt.title('Колебания количества заказов в зависимости от дня недели');"
   ]
  },
  {
   "cell_type": "markdown",
   "metadata": {},
   "source": [
    "1. Явно виден тренд на увеличение количества заказов\n",
    "2. Так как у нас данные только за полгода, сезонность связанная с временем года не наблюдается, однако, имеются суточные и недельные паттерны."
   ]
  },
  {
   "cell_type": "markdown",
   "metadata": {},
   "source": [
    "### Стационарность"
   ]
  },
  {
   "cell_type": "code",
   "execution_count": 25,
   "metadata": {},
   "outputs": [],
   "source": [
    "df['std'] = df['num_orders'].rolling(15).std()\n",
    "df['mean'] = df['num_orders'].rolling(15).mean()"
   ]
  },
  {
   "cell_type": "code",
   "execution_count": 26,
   "metadata": {},
   "outputs": [
    {
     "data": {
      "image/png": "[encoded data removed]",
      "text/plain": [
       "<Figure size 864x432 with 1 Axes>"
      ]
     },
     "metadata": {},
     "output_type": "display_data"
    }
   ],
   "source": [
    "plot_line(df[['std', 'mean']])\n",
    "plt.title('Изменение статистических показателей временного ряда');"
   ]
  },
  {
   "cell_type": "code",
   "execution_count": 27,
   "metadata": {},
   "outputs": [],
   "source": [
    "df.drop(['std', 'mean'], axis=1, inplace=True)"
   ]
  },
  {
   "cell_type": "markdown",
   "metadata": {},
   "source": [
    "По графику видно, что временной ряд не является стационарным, так как у него меняется среднее и стандартное отклонение. "
   ]
  },
  {
   "cell_type": "markdown",
   "metadata": {},
   "source": [
    "Дополнительно воспользуемся расширенным тестом Дики-Фуллера для проверки ряда на стационарность\n",
    "- H0 Временной ряд является нестационарным\n",
    "- H1 временной ряд является стационарным\n",
    "- p-value = 0.05"
   ]
  },
  {
   "cell_type": "code",
   "execution_count": 28,
   "metadata": {},
   "outputs": [],
   "source": [
    "def adf(df):\n",
    "    if adfuller(df)[1] < 0.05:\n",
    "        print('Отвергаем нулевую гипотезу, временной ряд является стационарным')\n",
    "    else:\n",
    "        print('Нулевую гипотезу отвергнуть не удалось, временный ряд нестационарный')"
   ]
  },
  {
   "cell_type": "code",
   "execution_count": 29,
   "metadata": {
    "scrolled": true
   },
   "outputs": [
    {
     "name": "stdout",
     "output_type": "stream",
     "text": [
      "Отвергаем нулевую гипотезу, временной ряд является стационарным\n"
     ]
    }
   ],
   "source": [
    "adf(df)"
   ]
  },
  {
   "cell_type": "markdown",
   "metadata": {},
   "source": [
    "Результаты теста Дики-Фуллера указывают на стационарность ряда, однако, визуальный анализ графиков среднего, стандартного отклонения и тренда после декомпозиции говорят об обратном. Проблему нестационарности мы решим созданием новых признаков с использованием, в том числе, скользящего среднего."
   ]
  },
  {
   "cell_type": "code",
   "execution_count": 30,
   "metadata": {},
   "outputs": [
    {
     "data": {
      "image/png": "[encoded data removed]",
      "text/plain": [
       "<Figure size 864x432 with 1 Axes>"
      ]
     },
     "metadata": {},
     "output_type": "display_data"
    }
   ],
   "source": [
    "plot_line(df)"
   ]
  },
  {
   "cell_type": "markdown",
   "metadata": {},
   "source": [
    "### Создадим новые признаки"
   ]
  },
  {
   "cell_type": "markdown",
   "metadata": {},
   "source": [
    "Напишем функцию для создания доп. признаков, таких как:\n",
    "   - Месяц, день, час, день недели, выходной ли и время дня и закодируем их средним значеним для каждой группы по скользящему среднему\n",
    "   - Отстающие значения\n",
    "   - Скользящее среднее\n",
    "   \n",
    "Оптимальные значения max_lag и rolling_mean_size будем подбирать наравне с гиперпараметрами"
   ]
  },
  {
   "cell_type": "code",
   "execution_count": 31,
   "metadata": {},
   "outputs": [],
   "source": [
    "def code_mean(df, cat_feature, real_feature):\n",
    "\n",
    "    return dict(df.groupby(cat_feature)[real_feature].mean())"
   ]
  },
  {
   "cell_type": "code",
   "execution_count": 32,
   "metadata": {},
   "outputs": [],
   "source": [
    "def prepare_df(df, max_lag=0, rolling_mean_size=1, test_size=0.1, split=True):\n",
    "    \n",
    "    df_copy = df.copy()\n",
    "    test_index = int(len(df) * (1 - test_size))\n",
    "    \n",
    "    #df_copy['month'] = df_copy.index.month\n",
    "    #df_copy['day'] = df_copy.index.day\n",
    "    df_copy['hour'] = df_copy.index.hour\n",
    "    df_copy['day_of_week'] = df_copy.index.dayofweek\n",
    "    df_copy['is_weekend'] = df_copy['day_of_week'].apply(lambda x: 1 if x > 4 else 0)\n",
    "    df_copy['time_of_day'] = pd.cut(df_copy.index.hour,\n",
    "                               bins=[0, 6, 12, 18, 24],\n",
    "                               labels=[0, 1, 2, 3],\n",
    "                               include_lowest=True)\n",
    "    \n",
    "    \n",
    "    if max_lag != 0:\n",
    "        for lag in range(1, max_lag + 1):\n",
    "            df_copy[f'lag_{lag}'] = df_copy['num_orders'].shift(lag)\n",
    "    \n",
    "    \n",
    "    df_copy['rolling_mean'] = df_copy['num_orders'].shift().rolling(rolling_mean_size).mean()\n",
    "        \n",
    "    df_copy['hour_mean'] = df_copy['hour'].map(df_copy[:test_index].groupby('hour')['rolling_mean'].mean())\n",
    "    df_copy['day_of_week_mean'] = df_copy['day_of_week'].map(\n",
    "        df_copy[:test_index].groupby('day_of_week')['rolling_mean'].mean())\n",
    "    df_copy['is_weekend_mean'] = df_copy['is_weekend'].map(\n",
    "        df_copy[:test_index].groupby('is_weekend')['rolling_mean'].mean())\n",
    "    df_copy['time_of_day_mean'] = df_copy['time_of_day'].map(\n",
    "        df_copy[:test_index].groupby('time_of_day')['rolling_mean'].mean())\n",
    "        \n",
    "    df_copy = df_copy.drop(['hour', 'day_of_week', 'is_weekend', 'time_of_day'], axis=1)\n",
    "        \n",
    "    df_copy = df_copy.dropna()\n",
    "    \n",
    "    train = df_copy.iloc[:test_index]\n",
    "    test = df_copy.iloc[test_index:]\n",
    "    \n",
    "    if split == True:\n",
    "        \n",
    "        X_train = train.drop('num_orders', axis=1)\n",
    "        X_test = test.drop('num_orders', axis=1)\n",
    "        y_train = train['num_orders']\n",
    "        y_test = test['num_orders']\n",
    "    \n",
    "        return X_train, X_test, y_train, y_test\n",
    "    else:\n",
    "        return train, test"
   ]
  },
  {
   "cell_type": "markdown",
   "metadata": {},
   "source": [
    "## Обучение"
   ]
  },
  {
   "cell_type": "markdown",
   "metadata": {},
   "source": [
    "### Тестирование моделей"
   ]
  },
  {
   "cell_type": "markdown",
   "metadata": {},
   "source": [
    "Подберем оптимальные значения max_lag и rolling_mean_size а также оптимальные гиперпараметры с помощью фреймворка optuna.\n",
    "Протестируем следующие модели:\n",
    "- KNN-Regressor\n",
    "- RandomForest\n",
    "- LightGBM"
   ]
  },
  {
   "cell_type": "markdown",
   "metadata": {},
   "source": [
    "### KNN-Regressor"
   ]
  },
  {
   "cell_type": "code",
   "execution_count": 33,
   "metadata": {},
   "outputs": [],
   "source": [
    "def objective_knn(trial):\n",
    "    \n",
    "    max_lag = trial.suggest_int('max_lag', 1, 30)\n",
    "    rolling_mean_size = trial.suggest_int('rolling_mean_size', 1, 30)\n",
    "    \n",
    "    X_train, X_test, y_train, y_test = prepare_df(df, max_lag, rolling_mean_size)\n",
    "    \n",
    "    params = {\n",
    "        'n_neighbors': trial.suggest_int('n_neighbors', 1, 30),\n",
    "        'weights': trial.suggest_categorical('weights', ['uniform', 'distance']),\n",
    "        'p': trial.suggest_int('p', 1, 2),  \n",
    "    }\n",
    "    \n",
    "    \n",
    "    model = KNeighborsRegressor(**params)\n",
    "    \n",
    "    tscv = TimeSeriesSplit(n_splits=3)\n",
    "    cv_scores = cross_val_score(model, X_train, y_train, cv=tscv, scoring='neg_root_mean_squared_error')\n",
    "    \n",
    "    \n",
    "    rmse_mean = -cv_scores.mean()\n",
    "    \n",
    "    return rmse_mean"
   ]
  },
  {
   "cell_type": "code",
   "execution_count": 34,
   "metadata": {
    "scrolled": true
   },
   "outputs": [
    {
     "name": "stderr",
     "output_type": "stream",
     "text": [
      "[I 2023-11-20 16:02:06,042] A new study created in memory with name: no-name-0a5e3a6e-77f5-4cd3-b43e-16ea98c27bf4\n",
      "[I 2023-11-20 16:02:06,482] Trial 0 finished with value: 31.189652231333014 and parameters: {'max_lag': 12, 'rolling_mean_size': 16, 'n_neighbors': 7, 'weights': 'uniform', 'p': 1}. Best is trial 0 with value: 31.189652231333014.\n",
      "[I 2023-11-20 16:02:06,563] Trial 1 finished with value: 31.438715614957868 and parameters: {'max_lag': 14, 'rolling_mean_size': 13, 'n_neighbors': 8, 'weights': 'distance', 'p': 2}. Best is trial 0 with value: 31.189652231333014.\n",
      "[I 2023-11-20 16:02:06,655] Trial 2 finished with value: 31.938900068597366 and parameters: {'max_lag': 2, 'rolling_mean_size': 14, 'n_neighbors': 23, 'weights': 'uniform', 'p': 1}. Best is trial 0 with value: 31.189652231333014.\n",
      "[I 2023-11-20 16:02:06,742] Trial 3 finished with value: 34.12973496064771 and parameters: {'max_lag': 3, 'rolling_mean_size': 23, 'n_neighbors': 28, 'weights': 'distance', 'p': 2}. Best is trial 0 with value: 31.189652231333014.\n",
      "[I 2023-11-20 16:02:07,025] Trial 4 finished with value: 28.53848650085864 and parameters: {'max_lag': 26, 'rolling_mean_size': 5, 'n_neighbors': 27, 'weights': 'uniform', 'p': 1}. Best is trial 4 with value: 28.53848650085864.\n",
      "[I 2023-11-20 16:02:07,209] Trial 5 finished with value: 38.80962218685459 and parameters: {'max_lag': 10, 'rolling_mean_size': 5, 'n_neighbors': 1, 'weights': 'distance', 'p': 1}. Best is trial 4 with value: 28.53848650085864.\n",
      "[I 2023-11-20 16:02:07,277] Trial 6 finished with value: 31.995781980109758 and parameters: {'max_lag': 1, 'rolling_mean_size': 2, 'n_neighbors': 14, 'weights': 'uniform', 'p': 1}. Best is trial 4 with value: 28.53848650085864.\n",
      "[I 2023-11-20 16:02:07,389] Trial 7 finished with value: 31.226454994386348 and parameters: {'max_lag': 20, 'rolling_mean_size': 2, 'n_neighbors': 28, 'weights': 'distance', 'p': 2}. Best is trial 4 with value: 28.53848650085864.\n",
      "[I 2023-11-20 16:02:07,586] Trial 8 finished with value: 33.11054881650917 and parameters: {'max_lag': 7, 'rolling_mean_size': 27, 'n_neighbors': 21, 'weights': 'uniform', 'p': 1}. Best is trial 4 with value: 28.53848650085864.\n",
      "[I 2023-11-20 16:02:07,816] Trial 9 finished with value: 30.939391686491188 and parameters: {'max_lag': 10, 'rolling_mean_size': 5, 'n_neighbors': 11, 'weights': 'distance', 'p': 1}. Best is trial 4 with value: 28.53848650085864.\n",
      "[I 2023-11-20 16:02:07,950] Trial 10 finished with value: 28.852202240461367 and parameters: {'max_lag': 30, 'rolling_mean_size': 9, 'n_neighbors': 21, 'weights': 'uniform', 'p': 2}. Best is trial 4 with value: 28.53848650085864.\n",
      "[I 2023-11-20 16:02:08,079] Trial 11 finished with value: 28.80468974627102 and parameters: {'max_lag': 30, 'rolling_mean_size': 9, 'n_neighbors': 20, 'weights': 'uniform', 'p': 2}. Best is trial 4 with value: 28.53848650085864.\n",
      "[I 2023-11-20 16:02:08,215] Trial 12 finished with value: 28.86235985405288 and parameters: {'max_lag': 29, 'rolling_mean_size': 9, 'n_neighbors': 24, 'weights': 'uniform', 'p': 2}. Best is trial 4 with value: 28.53848650085864.\n",
      "[I 2023-11-20 16:02:08,335] Trial 13 finished with value: 31.133079792264795 and parameters: {'max_lag': 21, 'rolling_mean_size': 19, 'n_neighbors': 17, 'weights': 'uniform', 'p': 2}. Best is trial 4 with value: 28.53848650085864.\n",
      "[I 2023-11-20 16:02:08,632] Trial 14 finished with value: 28.66556145783034 and parameters: {'max_lag': 25, 'rolling_mean_size': 9, 'n_neighbors': 30, 'weights': 'uniform', 'p': 1}. Best is trial 4 with value: 28.53848650085864.\n"
     ]
    }
   ],
   "source": [
    "study = optuna.create_study(direction='minimize')\n",
    "study.optimize(objective_knn, n_trials=15, show_progress_bar=False)"
   ]
  },
  {
   "cell_type": "code",
   "execution_count": 35,
   "metadata": {},
   "outputs": [
    {
     "name": "stdout",
     "output_type": "stream",
     "text": [
      "Лучшие гиперпараметры: {'max_lag': 26, 'rolling_mean_size': 5, 'n_neighbors': 27, 'weights': 'uniform', 'p': 1}\n",
      "Лучшее RMSE: 28.53848650085864\n"
     ]
    }
   ],
   "source": [
    "print('Лучшие гиперпараметры:', study.best_params)\n",
    "print('Лучшее RMSE:', study.best_value)"
   ]
  },
  {
   "cell_type": "code",
   "execution_count": 37,
   "metadata": {},
   "outputs": [],
   "source": [
    "knn_params = study.best_params"
   ]
  },
  {
   "cell_type": "markdown",
   "metadata": {},
   "source": [
    "### RandomForest"
   ]
  },
  {
   "cell_type": "code",
   "execution_count": 37,
   "metadata": {},
   "outputs": [],
   "source": [
    "def objective_random_forest(trial):\n",
    "    max_lag = trial.suggest_int('max_lag', 1, 30)\n",
    "    rolling_mean_size = trial.suggest_int('rolling_mean_size', 1, 30)\n",
    "    \n",
    "    X_train, X_test, y_train, y_test = prepare_df(df, max_lag, rolling_mean_size)\n",
    "    \n",
    "    params = {\n",
    "        'n_estimators': trial.suggest_int('n_estimators', 10, 600),\n",
    "        'max_depth': trial.suggest_int('max_depth', 5, 100),\n",
    "        'min_samples_split': trial.suggest_int('min_samples_split', 2, 20),\n",
    "        'min_samples_leaf': trial.suggest_int('min_samples_leaf', 1, 20),\n",
    "        'max_features': trial.suggest_float('max_features', 0.1, 1.0),\n",
    "    }\n",
    "    \n",
    "    model = RandomForestRegressor(**params, random_state=1)\n",
    "    \n",
    "    tscv = TimeSeriesSplit(n_splits=3)\n",
    "    cv_scores = cross_val_score(model, X_train, y_train, cv=tscv, scoring='neg_root_mean_squared_error')\n",
    "    \n",
    "    #rmse_mean = np.sqrt(-cv_scores.mean())\n",
    "    rmse_mean = -cv_scores.mean()\n",
    "    return rmse_mean"
   ]
  },
  {
   "cell_type": "code",
   "execution_count": 38,
   "metadata": {
    "scrolled": true
   },
   "outputs": [
    {
     "name": "stderr",
     "output_type": "stream",
     "text": [
      "[I 2023-11-20 11:01:52,996] A new study created in memory with name: no-name-aaae303a-bea9-4efb-8ed0-8debee8000d8\n",
      "/tmp/ipykernel_975/2289832436.py:30: FutureWarning: The default of observed=False is deprecated and will be changed to True in a future version of pandas. Pass observed=False to retain current behavior or observed=True to adopt the future default and silence this warning.\n",
      "  df_copy[:test_index].groupby('time_of_day')['rolling_mean'].mean())\n",
      "[I 2023-11-20 11:01:55,528] Trial 0 finished with value: 31.748630222604607 and parameters: {'max_lag': 19, 'rolling_mean_size': 5, 'n_estimators': 228, 'max_depth': 35, 'min_samples_split': 15, 'min_samples_leaf': 8, 'max_features': 0.17807291057001295}. Best is trial 0 with value: 31.748630222604607.\n",
      "/tmp/ipykernel_975/2289832436.py:30: FutureWarning: The default of observed=False is deprecated and will be changed to True in a future version of pandas. Pass observed=False to retain current behavior or observed=True to adopt the future default and silence this warning.\n",
      "  df_copy[:test_index].groupby('time_of_day')['rolling_mean'].mean())\n",
      "[I 2023-11-20 11:01:57,423] Trial 1 finished with value: 28.24736925612936 and parameters: {'max_lag': 15, 'rolling_mean_size': 1, 'n_estimators': 63, 'max_depth': 56, 'min_samples_split': 12, 'min_samples_leaf': 11, 'max_features': 0.9016546489585808}. Best is trial 1 with value: 28.24736925612936.\n",
      "/tmp/ipykernel_975/2289832436.py:30: FutureWarning: The default of observed=False is deprecated and will be changed to True in a future version of pandas. Pass observed=False to retain current behavior or observed=True to adopt the future default and silence this warning.\n",
      "  df_copy[:test_index].groupby('time_of_day')['rolling_mean'].mean())\n",
      "[I 2023-11-20 11:01:59,934] Trial 2 finished with value: 30.1896689016255 and parameters: {'max_lag': 8, 'rolling_mean_size': 7, 'n_estimators': 266, 'max_depth': 83, 'min_samples_split': 5, 'min_samples_leaf': 18, 'max_features': 0.41252400181439597}. Best is trial 1 with value: 28.24736925612936.\n",
      "/tmp/ipykernel_975/2289832436.py:30: FutureWarning: The default of observed=False is deprecated and will be changed to True in a future version of pandas. Pass observed=False to retain current behavior or observed=True to adopt the future default and silence this warning.\n",
      "  df_copy[:test_index].groupby('time_of_day')['rolling_mean'].mean())\n",
      "[I 2023-11-20 11:02:00,159] Trial 3 finished with value: 28.461190412518416 and parameters: {'max_lag': 29, 'rolling_mean_size': 6, 'n_estimators': 11, 'max_depth': 7, 'min_samples_split': 6, 'min_samples_leaf': 3, 'max_features': 0.2867331332143272}. Best is trial 1 with value: 28.24736925612936.\n",
      "/tmp/ipykernel_975/2289832436.py:30: FutureWarning: The default of observed=False is deprecated and will be changed to True in a future version of pandas. Pass observed=False to retain current behavior or observed=True to adopt the future default and silence this warning.\n",
      "  df_copy[:test_index].groupby('time_of_day')['rolling_mean'].mean())\n",
      "[I 2023-11-20 11:02:01,076] Trial 4 finished with value: 33.591954831692014 and parameters: {'max_lag': 22, 'rolling_mean_size': 28, 'n_estimators': 110, 'max_depth': 39, 'min_samples_split': 5, 'min_samples_leaf': 17, 'max_features': 0.1389504049109008}. Best is trial 1 with value: 28.24736925612936.\n",
      "/tmp/ipykernel_975/2289832436.py:30: FutureWarning: The default of observed=False is deprecated and will be changed to True in a future version of pandas. Pass observed=False to retain current behavior or observed=True to adopt the future default and silence this warning.\n",
      "  df_copy[:test_index].groupby('time_of_day')['rolling_mean'].mean())\n",
      "[I 2023-11-20 11:02:03,975] Trial 5 finished with value: 28.010817310571383 and parameters: {'max_lag': 9, 'rolling_mean_size': 9, 'n_estimators': 154, 'max_depth': 66, 'min_samples_split': 15, 'min_samples_leaf': 12, 'max_features': 0.821428079240258}. Best is trial 5 with value: 28.010817310571383.\n",
      "/tmp/ipykernel_975/2289832436.py:30: FutureWarning: The default of observed=False is deprecated and will be changed to True in a future version of pandas. Pass observed=False to retain current behavior or observed=True to adopt the future default and silence this warning.\n",
      "  df_copy[:test_index].groupby('time_of_day')['rolling_mean'].mean())\n",
      "[I 2023-11-20 11:02:08,197] Trial 6 finished with value: 29.807531500670034 and parameters: {'max_lag': 23, 'rolling_mean_size': 5, 'n_estimators': 103, 'max_depth': 96, 'min_samples_split': 9, 'min_samples_leaf': 14, 'max_features': 0.8354040981788106}. Best is trial 5 with value: 28.010817310571383.\n",
      "/tmp/ipykernel_975/2289832436.py:30: FutureWarning: The default of observed=False is deprecated and will be changed to True in a future version of pandas. Pass observed=False to retain current behavior or observed=True to adopt the future default and silence this warning.\n",
      "  df_copy[:test_index].groupby('time_of_day')['rolling_mean'].mean())\n",
      "[I 2023-11-20 11:02:12,792] Trial 7 finished with value: 27.88935778820169 and parameters: {'max_lag': 27, 'rolling_mean_size': 9, 'n_estimators': 161, 'max_depth': 99, 'min_samples_split': 3, 'min_samples_leaf': 18, 'max_features': 0.4772017614434081}. Best is trial 7 with value: 27.88935778820169.\n",
      "/tmp/ipykernel_975/2289832436.py:30: FutureWarning: The default of observed=False is deprecated and will be changed to True in a future version of pandas. Pass observed=False to retain current behavior or observed=True to adopt the future default and silence this warning.\n",
      "  df_copy[:test_index].groupby('time_of_day')['rolling_mean'].mean())\n",
      "[I 2023-11-20 11:02:19,214] Trial 8 finished with value: 29.256585430960044 and parameters: {'max_lag': 13, 'rolling_mean_size': 30, 'n_estimators': 354, 'max_depth': 98, 'min_samples_split': 4, 'min_samples_leaf': 12, 'max_features': 0.5888540541589394}. Best is trial 7 with value: 27.88935778820169.\n",
      "/tmp/ipykernel_975/2289832436.py:30: FutureWarning: The default of observed=False is deprecated and will be changed to True in a future version of pandas. Pass observed=False to retain current behavior or observed=True to adopt the future default and silence this warning.\n",
      "  df_copy[:test_index].groupby('time_of_day')['rolling_mean'].mean())\n",
      "[I 2023-11-20 11:02:37,630] Trial 9 finished with value: 29.30588481702029 and parameters: {'max_lag': 23, 'rolling_mean_size': 26, 'n_estimators': 412, 'max_depth': 21, 'min_samples_split': 9, 'min_samples_leaf': 13, 'max_features': 0.9597530062877041}. Best is trial 7 with value: 27.88935778820169.\n"
     ]
    }
   ],
   "source": [
    "study = optuna.create_study(direction='minimize')\n",
    "study.optimize(objective_random_forest, n_trials=10, show_progress_bar=False)"
   ]
  },
  {
   "cell_type": "code",
   "execution_count": 39,
   "metadata": {
    "scrolled": true
   },
   "outputs": [
    {
     "name": "stdout",
     "output_type": "stream",
     "text": [
      "Лучшие гиперпараметры: {'max_lag': 27, 'rolling_mean_size': 9, 'n_estimators': 161, 'max_depth': 99, 'min_samples_split': 3, 'min_samples_leaf': 18, 'max_features': 0.4772017614434081}\n",
      "Лучшее RMSE: 27.88935778820169\n"
     ]
    }
   ],
   "source": [
    "print('Лучшие гиперпараметры:', study.best_params)\n",
    "print('Лучшее RMSE:', study.best_value)"
   ]
  },
  {
   "cell_type": "code",
   "execution_count": 40,
   "metadata": {},
   "outputs": [],
   "source": [
    "rf_params = study.best_params"
   ]
  },
  {
   "cell_type": "markdown",
   "metadata": {},
   "source": [
    "### LightGBM"
   ]
  },
  {
   "cell_type": "code",
   "execution_count": 57,
   "metadata": {},
   "outputs": [],
   "source": [
    "def objective_lightgbm(trial):\n",
    "    \n",
    "    max_lag = trial.suggest_int('max_lag', 1, 20)\n",
    "    rolling_mean_size = trial.suggest_int('rolling_mean_size', 1, 20)\n",
    "    \n",
    "    X_train, X_test, y_train, y_test = prepare_df(df, max_lag, rolling_mean_size)\n",
    "    \n",
    "    \n",
    "    params = {\n",
    "        'num_leaves': trial.suggest_int('num_leaves', 2, 64),\n",
    "        'learning_rate': trial.suggest_float('learning_rate', 1e-2, 0.1, log=True),\n",
    "        'min_child_samples': trial.suggest_int('min_child_samples', 5, 50),\n",
    "        'boosting_type': trial.suggest_categorical('boosting_type', ['gbdt', 'dart'])\n",
    "    }\n",
    "    \n",
    "    model = lgb.LGBMRegressor(**params, verbose=0)\n",
    "    \n",
    "    tscv = TimeSeriesSplit(n_splits=3)\n",
    "    cv_scores = cross_val_score(model, X_train, y_train, cv=tscv, scoring='neg_root_mean_squared_error')\n",
    "    \n",
    "    \n",
    "    rmse_mean = -cv_scores.mean()\n",
    "    \n",
    "    return rmse_mean"
   ]
  },
  {
   "cell_type": "code",
   "execution_count": 58,
   "metadata": {
    "scrolled": true
   },
   "outputs": [
    {
     "name": "stderr",
     "output_type": "stream",
     "text": [
      "[I 2023-11-20 11:07:49,940] A new study created in memory with name: no-name-97d389be-0999-488c-a967-cd94064db349\n"
     ]
    },
    {
     "name": "stdout",
     "output_type": "stream",
     "text": [
      "[LightGBM] [Warning] Auto-choosing col-wise multi-threading, the overhead of testing was 0.000243 seconds.\n",
      "You can set `force_col_wise=true` to remove the overhead.\n",
      "[LightGBM] [Warning] No further splits with positive gain, best gain: -inf\n",
      "[LightGBM] [Warning] No further splits with positive gain, best gain: -inf\n",
      "[LightGBM] [Warning] No further splits with positive gain, best gain: -inf\n",
      "[LightGBM] [Warning] No further splits with positive gain, best gain: -inf\n",
      "[LightGBM] [Warning] No further splits with positive gain, best gain: -inf\n",
      "[LightGBM] [Warning] No further splits with positive gain, best gain: -inf\n",
      "[LightGBM] [Warning] No further splits with positive gain, best gain: -inf\n",
      "[LightGBM] [Warning] No further splits with positive gain, best gain: -inf\n",
      "[LightGBM] [Warning] No further splits with positive gain, best gain: -inf\n",
      "[LightGBM] [Warning] No further splits with positive gain, best gain: -inf\n",
      "[LightGBM] [Warning] No further splits with positive gain, best gain: -inf\n",
      "[LightGBM] [Warning] No further splits with positive gain, best gain: -inf\n",
      "[LightGBM] [Warning] No further splits with positive gain, best gain: -inf\n",
      "[LightGBM] [Warning] No further splits with positive gain, best gain: -inf\n",
      "[LightGBM] [Warning] No further splits with positive gain, best gain: -inf\n",
      "[LightGBM] [Warning] No further splits with positive gain, best gain: -inf\n",
      "[LightGBM] [Warning] No further splits with positive gain, best gain: -inf\n",
      "[LightGBM] [Warning] No further splits with positive gain, best gain: -inf\n",
      "[LightGBM] [Warning] No further splits with positive gain, best gain: -inf\n",
      "[LightGBM] [Warning] No further splits with positive gain, best gain: -inf\n",
      "[LightGBM] [Warning] No further splits with positive gain, best gain: -inf\n",
      "[LightGBM] [Warning] No further splits with positive gain, best gain: -inf\n",
      "[LightGBM] [Warning] No further splits with positive gain, best gain: -inf\n",
      "[LightGBM] [Warning] No further splits with positive gain, best gain: -inf\n",
      "[LightGBM] [Warning] No further splits with positive gain, best gain: -inf\n",
      "[LightGBM] [Warning] No further splits with positive gain, best gain: -inf\n",
      "[LightGBM] [Warning] No further splits with positive gain, best gain: -inf\n",
      "[LightGBM] [Warning] No further splits with positive gain, best gain: -inf\n",
      "[LightGBM] [Warning] No further splits with positive gain, best gain: -inf\n",
      "[LightGBM] [Warning] No further splits with positive gain, best gain: -inf\n",
      "[LightGBM] [Warning] No further splits with positive gain, best gain: -inf\n",
      "[LightGBM] [Warning] No further splits with positive gain, best gain: -inf\n",
      "[LightGBM] [Warning] No further splits with positive gain, best gain: -inf\n",
      "[LightGBM] [Warning] No further splits with positive gain, best gain: -inf\n",
      "[LightGBM] [Warning] No further splits with positive gain, best gain: -inf\n",
      "[LightGBM] [Warning] No further splits with positive gain, best gain: -inf\n",
      "[LightGBM] [Warning] No further splits with positive gain, best gain: -inf\n",
      "[LightGBM] [Warning] No further splits with positive gain, best gain: -inf\n",
      "[LightGBM] [Warning] No further splits with positive gain, best gain: -inf\n",
      "[LightGBM] [Warning] No further splits with positive gain, best gain: -inf\n",
      "[LightGBM] [Warning] No further splits with positive gain, best gain: -inf\n",
      "[LightGBM] [Warning] No further splits with positive gain, best gain: -inf\n",
      "[LightGBM] [Warning] No further splits with positive gain, best gain: -inf\n",
      "[LightGBM] [Warning] No further splits with positive gain, best gain: -inf\n",
      "[LightGBM] [Warning] No further splits with positive gain, best gain: -inf\n",
      "[LightGBM] [Warning] No further splits with positive gain, best gain: -inf\n",
      "[LightGBM] [Warning] No further splits with positive gain, best gain: -inf\n",
      "[LightGBM] [Warning] No further splits with positive gain, best gain: -inf\n",
      "[LightGBM] [Warning] No further splits with positive gain, best gain: -inf\n",
      "[LightGBM] [Warning] No further splits with positive gain, best gain: -inf\n",
      "[LightGBM] [Warning] No further splits with positive gain, best gain: -inf\n",
      "[LightGBM] [Warning] No further splits with positive gain, best gain: -inf\n",
      "[LightGBM] [Warning] No further splits with positive gain, best gain: -inf\n",
      "[LightGBM] [Warning] No further splits with positive gain, best gain: -inf\n",
      "[LightGBM] [Warning] No further splits with positive gain, best gain: -inf\n",
      "[LightGBM] [Warning] No further splits with positive gain, best gain: -inf\n",
      "[LightGBM] [Warning] No further splits with positive gain, best gain: -inf\n",
      "[LightGBM] [Warning] No further splits with positive gain, best gain: -inf\n",
      "[LightGBM] [Warning] No further splits with positive gain, best gain: -inf\n",
      "[LightGBM] [Warning] No further splits with positive gain, best gain: -inf\n",
      "[LightGBM] [Warning] No further splits with positive gain, best gain: -inf\n",
      "[LightGBM] [Warning] No further splits with positive gain, best gain: -inf\n",
      "[LightGBM] [Warning] No further splits with positive gain, best gain: -inf\n",
      "[LightGBM] [Warning] No further splits with positive gain, best gain: -inf\n",
      "[LightGBM] [Warning] No further splits with positive gain, best gain: -inf\n",
      "[LightGBM] [Warning] No further splits with positive gain, best gain: -inf\n",
      "[LightGBM] [Warning] No further splits with positive gain, best gain: -inf\n",
      "[LightGBM] [Warning] No further splits with positive gain, best gain: -inf\n",
      "[LightGBM] [Warning] No further splits with positive gain, best gain: -inf\n",
      "[LightGBM] [Warning] No further splits with positive gain, best gain: -inf\n",
      "[LightGBM] [Warning] No further splits with positive gain, best gain: -inf\n",
      "[LightGBM] [Warning] No further splits with positive gain, best gain: -inf\n",
      "[LightGBM] [Warning] No further splits with positive gain, best gain: -inf\n",
      "[LightGBM] [Warning] No further splits with positive gain, best gain: -inf\n",
      "[LightGBM] [Warning] No further splits with positive gain, best gain: -inf\n",
      "[LightGBM] [Warning] No further splits with positive gain, best gain: -inf\n",
      "[LightGBM] [Warning] No further splits with positive gain, best gain: -inf\n",
      "[LightGBM] [Warning] No further splits with positive gain, best gain: -inf\n",
      "[LightGBM] [Warning] No further splits with positive gain, best gain: -inf\n",
      "[LightGBM] [Warning] No further splits with positive gain, best gain: -inf\n",
      "[LightGBM] [Warning] No further splits with positive gain, best gain: -inf\n",
      "[LightGBM] [Warning] No further splits with positive gain, best gain: -inf\n",
      "[LightGBM] [Warning] No further splits with positive gain, best gain: -inf\n",
      "[LightGBM] [Warning] No further splits with positive gain, best gain: -inf\n",
      "[LightGBM] [Warning] No further splits with positive gain, best gain: -inf\n",
      "[LightGBM] [Warning] No further splits with positive gain, best gain: -inf\n",
      "[LightGBM] [Warning] No further splits with positive gain, best gain: -inf\n",
      "[LightGBM] [Warning] No further splits with positive gain, best gain: -inf\n",
      "[LightGBM] [Warning] No further splits with positive gain, best gain: -inf\n",
      "[LightGBM] [Warning] No further splits with positive gain, best gain: -inf\n",
      "[LightGBM] [Warning] No further splits with positive gain, best gain: -inf\n",
      "[LightGBM] [Warning] No further splits with positive gain, best gain: -inf\n",
      "[LightGBM] [Warning] No further splits with positive gain, best gain: -inf\n",
      "[LightGBM] [Warning] No further splits with positive gain, best gain: -inf\n",
      "[LightGBM] [Warning] No further splits with positive gain, best gain: -inf\n",
      "[LightGBM] [Warning] No further splits with positive gain, best gain: -inf\n",
      "[LightGBM] [Warning] No further splits with positive gain, best gain: -inf\n",
      "[LightGBM] [Warning] No further splits with positive gain, best gain: -inf\n",
      "[LightGBM] [Warning] No further splits with positive gain, best gain: -inf\n",
      "[LightGBM] [Warning] No further splits with positive gain, best gain: -inf\n",
      "[LightGBM] [Warning] Auto-choosing col-wise multi-threading, the overhead of testing was 0.000312 seconds.\n",
      "You can set `force_col_wise=true` to remove the overhead.\n",
      "[LightGBM] [Warning] No further splits with positive gain, best gain: -inf\n",
      "[LightGBM] [Warning] No further splits with positive gain, best gain: -inf\n",
      "[LightGBM] [Warning] No further splits with positive gain, best gain: -inf\n",
      "[LightGBM] [Warning] No further splits with positive gain, best gain: -inf\n",
      "[LightGBM] [Warning] No further splits with positive gain, best gain: -inf\n",
      "[LightGBM] [Warning] No further splits with positive gain, best gain: -inf\n",
      "[LightGBM] [Warning] No further splits with positive gain, best gain: -inf\n",
      "[LightGBM] [Warning] No further splits with positive gain, best gain: -inf\n",
      "[LightGBM] [Warning] No further splits with positive gain, best gain: -inf\n",
      "[LightGBM] [Warning] No further splits with positive gain, best gain: -inf\n",
      "[LightGBM] [Warning] No further splits with positive gain, best gain: -inf\n",
      "[LightGBM] [Warning] No further splits with positive gain, best gain: -inf\n",
      "[LightGBM] [Warning] No further splits with positive gain, best gain: -inf\n",
      "[LightGBM] [Warning] No further splits with positive gain, best gain: -inf\n",
      "[LightGBM] [Warning] No further splits with positive gain, best gain: -inf\n",
      "[LightGBM] [Warning] No further splits with positive gain, best gain: -inf\n",
      "[LightGBM] [Warning] No further splits with positive gain, best gain: -inf\n",
      "[LightGBM] [Warning] No further splits with positive gain, best gain: -inf\n",
      "[LightGBM] [Warning] No further splits with positive gain, best gain: -inf\n",
      "[LightGBM] [Warning] No further splits with positive gain, best gain: -inf\n",
      "[LightGBM] [Warning] No further splits with positive gain, best gain: -inf\n",
      "[LightGBM] [Warning] Auto-choosing col-wise multi-threading, the overhead of testing was 0.007260 seconds.\n",
      "You can set `force_col_wise=true` to remove the overhead.\n"
     ]
    },
    {
     "name": "stderr",
     "output_type": "stream",
     "text": [
      "[I 2023-11-20 11:07:54,261] Trial 0 finished with value: 43.392607006428456 and parameters: {'max_lag': 9, 'rolling_mean_size': 13, 'num_leaves': 52, 'learning_rate': 0.025236619697230327, 'min_child_samples': 29, 'boosting_type': 'dart'}. Best is trial 0 with value: 43.392607006428456.\n"
     ]
    },
    {
     "name": "stdout",
     "output_type": "stream",
     "text": [
      "[LightGBM] [Warning] Auto-choosing col-wise multi-threading, the overhead of testing was 0.000293 seconds.\n",
      "You can set `force_col_wise=true` to remove the overhead.\n",
      "[LightGBM] [Warning] Auto-choosing col-wise multi-threading, the overhead of testing was 0.000357 seconds.\n",
      "You can set `force_col_wise=true` to remove the overhead.\n",
      "[LightGBM] [Warning] Auto-choosing col-wise multi-threading, the overhead of testing was 0.000512 seconds.\n",
      "You can set `force_col_wise=true` to remove the overhead.\n"
     ]
    },
    {
     "name": "stderr",
     "output_type": "stream",
     "text": [
      "[I 2023-11-20 11:07:56,563] Trial 1 finished with value: 31.90263483880128 and parameters: {'max_lag': 11, 'rolling_mean_size': 14, 'num_leaves': 26, 'learning_rate': 0.010110303633835194, 'min_child_samples': 12, 'boosting_type': 'gbdt'}. Best is trial 1 with value: 31.90263483880128.\n"
     ]
    },
    {
     "name": "stdout",
     "output_type": "stream",
     "text": [
      "[LightGBM] [Warning] Auto-choosing col-wise multi-threading, the overhead of testing was 0.000225 seconds.\n",
      "You can set `force_col_wise=true` to remove the overhead.\n",
      "[LightGBM] [Warning] No further splits with positive gain, best gain: -inf\n",
      "[LightGBM] [Warning] No further splits with positive gain, best gain: -inf\n",
      "[LightGBM] [Warning] No further splits with positive gain, best gain: -inf\n",
      "[LightGBM] [Warning] No further splits with positive gain, best gain: -inf\n",
      "[LightGBM] [Warning] No further splits with positive gain, best gain: -inf\n",
      "[LightGBM] [Warning] No further splits with positive gain, best gain: -inf\n",
      "[LightGBM] [Warning] No further splits with positive gain, best gain: -inf\n",
      "[LightGBM] [Warning] No further splits with positive gain, best gain: -inf\n",
      "[LightGBM] [Warning] No further splits with positive gain, best gain: -inf\n",
      "[LightGBM] [Warning] No further splits with positive gain, best gain: -inf\n",
      "[LightGBM] [Warning] No further splits with positive gain, best gain: -inf\n",
      "[LightGBM] [Warning] No further splits with positive gain, best gain: -inf\n",
      "[LightGBM] [Warning] No further splits with positive gain, best gain: -inf\n",
      "[LightGBM] [Warning] No further splits with positive gain, best gain: -inf\n",
      "[LightGBM] [Warning] No further splits with positive gain, best gain: -inf\n",
      "[LightGBM] [Warning] No further splits with positive gain, best gain: -inf\n",
      "[LightGBM] [Warning] No further splits with positive gain, best gain: -inf\n",
      "[LightGBM] [Warning] No further splits with positive gain, best gain: -inf\n",
      "[LightGBM] [Warning] No further splits with positive gain, best gain: -inf\n",
      "[LightGBM] [Warning] No further splits with positive gain, best gain: -inf\n",
      "[LightGBM] [Warning] No further splits with positive gain, best gain: -inf\n",
      "[LightGBM] [Warning] No further splits with positive gain, best gain: -inf\n",
      "[LightGBM] [Warning] No further splits with positive gain, best gain: -inf\n",
      "[LightGBM] [Warning] No further splits with positive gain, best gain: -inf\n",
      "[LightGBM] [Warning] No further splits with positive gain, best gain: -inf\n",
      "[LightGBM] [Warning] No further splits with positive gain, best gain: -inf\n",
      "[LightGBM] [Warning] No further splits with positive gain, best gain: -inf\n",
      "[LightGBM] [Warning] No further splits with positive gain, best gain: -inf\n",
      "[LightGBM] [Warning] No further splits with positive gain, best gain: -inf\n",
      "[LightGBM] [Warning] No further splits with positive gain, best gain: -inf\n",
      "[LightGBM] [Warning] No further splits with positive gain, best gain: -inf\n",
      "[LightGBM] [Warning] No further splits with positive gain, best gain: -inf\n",
      "[LightGBM] [Warning] No further splits with positive gain, best gain: -inf\n",
      "[LightGBM] [Warning] No further splits with positive gain, best gain: -inf\n",
      "[LightGBM] [Warning] No further splits with positive gain, best gain: -inf\n",
      "[LightGBM] [Warning] No further splits with positive gain, best gain: -inf\n",
      "[LightGBM] [Warning] No further splits with positive gain, best gain: -inf\n",
      "[LightGBM] [Warning] No further splits with positive gain, best gain: -inf\n",
      "[LightGBM] [Warning] No further splits with positive gain, best gain: -inf\n",
      "[LightGBM] [Warning] No further splits with positive gain, best gain: -inf\n",
      "[LightGBM] [Warning] No further splits with positive gain, best gain: -inf\n",
      "[LightGBM] [Warning] No further splits with positive gain, best gain: -inf\n",
      "[LightGBM] [Warning] No further splits with positive gain, best gain: -inf\n",
      "[LightGBM] [Warning] No further splits with positive gain, best gain: -inf\n",
      "[LightGBM] [Warning] No further splits with positive gain, best gain: -inf\n",
      "[LightGBM] [Warning] No further splits with positive gain, best gain: -inf\n",
      "[LightGBM] [Warning] No further splits with positive gain, best gain: -inf\n",
      "[LightGBM] [Warning] No further splits with positive gain, best gain: -inf\n",
      "[LightGBM] [Warning] No further splits with positive gain, best gain: -inf\n",
      "[LightGBM] [Warning] No further splits with positive gain, best gain: -inf\n",
      "[LightGBM] [Warning] No further splits with positive gain, best gain: -inf\n",
      "[LightGBM] [Warning] No further splits with positive gain, best gain: -inf\n",
      "[LightGBM] [Warning] No further splits with positive gain, best gain: -inf\n",
      "[LightGBM] [Warning] No further splits with positive gain, best gain: -inf\n",
      "[LightGBM] [Warning] No further splits with positive gain, best gain: -inf\n",
      "[LightGBM] [Warning] No further splits with positive gain, best gain: -inf\n",
      "[LightGBM] [Warning] No further splits with positive gain, best gain: -inf\n",
      "[LightGBM] [Warning] No further splits with positive gain, best gain: -inf\n",
      "[LightGBM] [Warning] No further splits with positive gain, best gain: -inf\n",
      "[LightGBM] [Warning] No further splits with positive gain, best gain: -inf\n",
      "[LightGBM] [Warning] No further splits with positive gain, best gain: -inf\n",
      "[LightGBM] [Warning] No further splits with positive gain, best gain: -inf\n",
      "[LightGBM] [Warning] No further splits with positive gain, best gain: -inf\n",
      "[LightGBM] [Warning] No further splits with positive gain, best gain: -inf\n",
      "[LightGBM] [Warning] No further splits with positive gain, best gain: -inf\n",
      "[LightGBM] [Warning] No further splits with positive gain, best gain: -inf\n",
      "[LightGBM] [Warning] No further splits with positive gain, best gain: -inf\n",
      "[LightGBM] [Warning] No further splits with positive gain, best gain: -inf\n",
      "[LightGBM] [Warning] No further splits with positive gain, best gain: -inf\n",
      "[LightGBM] [Warning] No further splits with positive gain, best gain: -inf\n",
      "[LightGBM] [Warning] No further splits with positive gain, best gain: -inf\n",
      "[LightGBM] [Warning] No further splits with positive gain, best gain: -inf\n",
      "[LightGBM] [Warning] No further splits with positive gain, best gain: -inf\n",
      "[LightGBM] [Warning] No further splits with positive gain, best gain: -inf\n",
      "[LightGBM] [Warning] No further splits with positive gain, best gain: -inf\n",
      "[LightGBM] [Warning] No further splits with positive gain, best gain: -inf\n",
      "[LightGBM] [Warning] No further splits with positive gain, best gain: -inf\n",
      "[LightGBM] [Warning] No further splits with positive gain, best gain: -inf\n",
      "[LightGBM] [Warning] No further splits with positive gain, best gain: -inf\n",
      "[LightGBM] [Warning] No further splits with positive gain, best gain: -inf\n",
      "[LightGBM] [Warning] No further splits with positive gain, best gain: -inf\n",
      "[LightGBM] [Warning] No further splits with positive gain, best gain: -inf\n",
      "[LightGBM] [Warning] No further splits with positive gain, best gain: -inf\n",
      "[LightGBM] [Warning] No further splits with positive gain, best gain: -inf\n",
      "[LightGBM] [Warning] No further splits with positive gain, best gain: -inf\n",
      "[LightGBM] [Warning] No further splits with positive gain, best gain: -inf\n",
      "[LightGBM] [Warning] No further splits with positive gain, best gain: -inf\n",
      "[LightGBM] [Warning] No further splits with positive gain, best gain: -inf\n",
      "[LightGBM] [Warning] No further splits with positive gain, best gain: -inf\n",
      "[LightGBM] [Warning] No further splits with positive gain, best gain: -inf\n",
      "[LightGBM] [Warning] No further splits with positive gain, best gain: -inf\n",
      "[LightGBM] [Warning] No further splits with positive gain, best gain: -inf\n",
      "[LightGBM] [Warning] No further splits with positive gain, best gain: -inf\n",
      "[LightGBM] [Warning] No further splits with positive gain, best gain: -inf\n",
      "[LightGBM] [Warning] No further splits with positive gain, best gain: -inf\n",
      "[LightGBM] [Warning] No further splits with positive gain, best gain: -inf\n",
      "[LightGBM] [Warning] No further splits with positive gain, best gain: -inf\n",
      "[LightGBM] [Warning] No further splits with positive gain, best gain: -inf\n",
      "[LightGBM] [Warning] No further splits with positive gain, best gain: -inf\n",
      "[LightGBM] [Warning] No further splits with positive gain, best gain: -inf\n",
      "[LightGBM] [Warning] Auto-choosing col-wise multi-threading, the overhead of testing was 0.000233 seconds.\n",
      "You can set `force_col_wise=true` to remove the overhead.\n",
      "[LightGBM] [Warning] Auto-choosing col-wise multi-threading, the overhead of testing was 0.000317 seconds.\n",
      "You can set `force_col_wise=true` to remove the overhead.\n"
     ]
    },
    {
     "name": "stderr",
     "output_type": "stream",
     "text": [
      "[I 2023-11-20 11:08:02,061] Trial 2 finished with value: 31.877804404188822 and parameters: {'max_lag': 9, 'rolling_mean_size': 20, 'num_leaves': 60, 'learning_rate': 0.0878227800419287, 'min_child_samples': 20, 'boosting_type': 'dart'}. Best is trial 2 with value: 31.877804404188822.\n"
     ]
    },
    {
     "name": "stdout",
     "output_type": "stream",
     "text": [
      "[LightGBM] [Warning] Auto-choosing col-wise multi-threading, the overhead of testing was 0.007514 seconds.\n",
      "You can set `force_col_wise=true` to remove the overhead.\n",
      "[LightGBM] [Warning] Auto-choosing row-wise multi-threading, the overhead of testing was 0.000221 seconds.\n",
      "You can set `force_row_wise=true` to remove the overhead.\n",
      "And if memory is not enough, you can set `force_col_wise=true`.\n",
      "[LightGBM] [Warning] Auto-choosing col-wise multi-threading, the overhead of testing was 0.000604 seconds.\n",
      "You can set `force_col_wise=true` to remove the overhead.\n"
     ]
    },
    {
     "name": "stderr",
     "output_type": "stream",
     "text": [
      "[I 2023-11-20 11:08:06,761] Trial 3 finished with value: 27.359692918153215 and parameters: {'max_lag': 18, 'rolling_mean_size': 6, 'num_leaves': 46, 'learning_rate': 0.0350759666206076, 'min_child_samples': 5, 'boosting_type': 'gbdt'}. Best is trial 3 with value: 27.359692918153215.\n"
     ]
    },
    {
     "name": "stdout",
     "output_type": "stream",
     "text": [
      "[LightGBM] [Warning] Auto-choosing col-wise multi-threading, the overhead of testing was 0.000295 seconds.\n",
      "You can set `force_col_wise=true` to remove the overhead.\n",
      "[LightGBM] [Warning] No further splits with positive gain, best gain: -inf\n",
      "[LightGBM] [Warning] No further splits with positive gain, best gain: -inf\n",
      "[LightGBM] [Warning] No further splits with positive gain, best gain: -inf\n",
      "[LightGBM] [Warning] No further splits with positive gain, best gain: -inf\n",
      "[LightGBM] [Warning] No further splits with positive gain, best gain: -inf\n",
      "[LightGBM] [Warning] No further splits with positive gain, best gain: -inf\n",
      "[LightGBM] [Warning] No further splits with positive gain, best gain: -inf\n",
      "[LightGBM] [Warning] No further splits with positive gain, best gain: -inf\n",
      "[LightGBM] [Warning] No further splits with positive gain, best gain: -inf\n",
      "[LightGBM] [Warning] No further splits with positive gain, best gain: -inf\n",
      "[LightGBM] [Warning] No further splits with positive gain, best gain: -inf\n",
      "[LightGBM] [Warning] No further splits with positive gain, best gain: -inf\n",
      "[LightGBM] [Warning] No further splits with positive gain, best gain: -inf\n",
      "[LightGBM] [Warning] No further splits with positive gain, best gain: -inf\n",
      "[LightGBM] [Warning] No further splits with positive gain, best gain: -inf\n",
      "[LightGBM] [Warning] No further splits with positive gain, best gain: -inf\n",
      "[LightGBM] [Warning] No further splits with positive gain, best gain: -inf\n",
      "[LightGBM] [Warning] No further splits with positive gain, best gain: -inf\n",
      "[LightGBM] [Warning] No further splits with positive gain, best gain: -inf\n",
      "[LightGBM] [Warning] No further splits with positive gain, best gain: -inf\n",
      "[LightGBM] [Warning] No further splits with positive gain, best gain: -inf\n",
      "[LightGBM] [Warning] No further splits with positive gain, best gain: -inf\n",
      "[LightGBM] [Warning] No further splits with positive gain, best gain: -inf\n",
      "[LightGBM] [Warning] No further splits with positive gain, best gain: -inf\n",
      "[LightGBM] [Warning] No further splits with positive gain, best gain: -inf\n",
      "[LightGBM] [Warning] No further splits with positive gain, best gain: -inf\n",
      "[LightGBM] [Warning] No further splits with positive gain, best gain: -inf\n",
      "[LightGBM] [Warning] No further splits with positive gain, best gain: -inf\n",
      "[LightGBM] [Warning] No further splits with positive gain, best gain: -inf\n",
      "[LightGBM] [Warning] No further splits with positive gain, best gain: -inf\n",
      "[LightGBM] [Warning] No further splits with positive gain, best gain: -inf\n",
      "[LightGBM] [Warning] No further splits with positive gain, best gain: -inf\n",
      "[LightGBM] [Warning] No further splits with positive gain, best gain: -inf\n",
      "[LightGBM] [Warning] No further splits with positive gain, best gain: -inf\n",
      "[LightGBM] [Warning] No further splits with positive gain, best gain: -inf\n",
      "[LightGBM] [Warning] No further splits with positive gain, best gain: -inf\n",
      "[LightGBM] [Warning] No further splits with positive gain, best gain: -inf\n",
      "[LightGBM] [Warning] No further splits with positive gain, best gain: -inf\n",
      "[LightGBM] [Warning] No further splits with positive gain, best gain: -inf\n",
      "[LightGBM] [Warning] No further splits with positive gain, best gain: -inf\n",
      "[LightGBM] [Warning] No further splits with positive gain, best gain: -inf\n",
      "[LightGBM] [Warning] No further splits with positive gain, best gain: -inf\n",
      "[LightGBM] [Warning] No further splits with positive gain, best gain: -inf\n",
      "[LightGBM] [Warning] No further splits with positive gain, best gain: -inf\n",
      "[LightGBM] [Warning] No further splits with positive gain, best gain: -inf\n",
      "[LightGBM] [Warning] No further splits with positive gain, best gain: -inf\n",
      "[LightGBM] [Warning] No further splits with positive gain, best gain: -inf\n",
      "[LightGBM] [Warning] No further splits with positive gain, best gain: -inf\n",
      "[LightGBM] [Warning] No further splits with positive gain, best gain: -inf\n",
      "[LightGBM] [Warning] No further splits with positive gain, best gain: -inf\n",
      "[LightGBM] [Warning] No further splits with positive gain, best gain: -inf\n",
      "[LightGBM] [Warning] No further splits with positive gain, best gain: -inf\n",
      "[LightGBM] [Warning] No further splits with positive gain, best gain: -inf\n",
      "[LightGBM] [Warning] No further splits with positive gain, best gain: -inf\n",
      "[LightGBM] [Warning] No further splits with positive gain, best gain: -inf\n",
      "[LightGBM] [Warning] No further splits with positive gain, best gain: -inf\n",
      "[LightGBM] [Warning] No further splits with positive gain, best gain: -inf\n",
      "[LightGBM] [Warning] No further splits with positive gain, best gain: -inf\n",
      "[LightGBM] [Warning] No further splits with positive gain, best gain: -inf\n",
      "[LightGBM] [Warning] No further splits with positive gain, best gain: -inf\n",
      "[LightGBM] [Warning] No further splits with positive gain, best gain: -inf\n",
      "[LightGBM] [Warning] No further splits with positive gain, best gain: -inf\n",
      "[LightGBM] [Warning] No further splits with positive gain, best gain: -inf\n",
      "[LightGBM] [Warning] No further splits with positive gain, best gain: -inf\n",
      "[LightGBM] [Warning] No further splits with positive gain, best gain: -inf\n",
      "[LightGBM] [Warning] No further splits with positive gain, best gain: -inf\n",
      "[LightGBM] [Warning] No further splits with positive gain, best gain: -inf\n",
      "[LightGBM] [Warning] No further splits with positive gain, best gain: -inf\n",
      "[LightGBM] [Warning] No further splits with positive gain, best gain: -inf\n",
      "[LightGBM] [Warning] No further splits with positive gain, best gain: -inf\n",
      "[LightGBM] [Warning] No further splits with positive gain, best gain: -inf\n",
      "[LightGBM] [Warning] No further splits with positive gain, best gain: -inf\n",
      "[LightGBM] [Warning] No further splits with positive gain, best gain: -inf\n",
      "[LightGBM] [Warning] No further splits with positive gain, best gain: -inf\n",
      "[LightGBM] [Warning] No further splits with positive gain, best gain: -inf\n",
      "[LightGBM] [Warning] No further splits with positive gain, best gain: -inf\n",
      "[LightGBM] [Warning] No further splits with positive gain, best gain: -inf\n",
      "[LightGBM] [Warning] No further splits with positive gain, best gain: -inf\n",
      "[LightGBM] [Warning] No further splits with positive gain, best gain: -inf\n",
      "[LightGBM] [Warning] No further splits with positive gain, best gain: -inf\n",
      "[LightGBM] [Warning] No further splits with positive gain, best gain: -inf\n",
      "[LightGBM] [Warning] No further splits with positive gain, best gain: -inf\n",
      "[LightGBM] [Warning] No further splits with positive gain, best gain: -inf\n",
      "[LightGBM] [Warning] No further splits with positive gain, best gain: -inf\n",
      "[LightGBM] [Warning] No further splits with positive gain, best gain: -inf\n",
      "[LightGBM] [Warning] No further splits with positive gain, best gain: -inf\n",
      "[LightGBM] [Warning] No further splits with positive gain, best gain: -inf\n",
      "[LightGBM] [Warning] No further splits with positive gain, best gain: -inf\n",
      "[LightGBM] [Warning] No further splits with positive gain, best gain: -inf\n",
      "[LightGBM] [Warning] No further splits with positive gain, best gain: -inf\n",
      "[LightGBM] [Warning] No further splits with positive gain, best gain: -inf\n",
      "[LightGBM] [Warning] No further splits with positive gain, best gain: -inf\n",
      "[LightGBM] [Warning] No further splits with positive gain, best gain: -inf\n",
      "[LightGBM] [Warning] No further splits with positive gain, best gain: -inf\n",
      "[LightGBM] [Warning] No further splits with positive gain, best gain: -inf\n",
      "[LightGBM] [Warning] No further splits with positive gain, best gain: -inf\n",
      "[LightGBM] [Warning] No further splits with positive gain, best gain: -inf\n",
      "[LightGBM] [Warning] No further splits with positive gain, best gain: -inf\n",
      "[LightGBM] [Warning] No further splits with positive gain, best gain: -inf\n",
      "[LightGBM] [Warning] No further splits with positive gain, best gain: -inf\n",
      "[LightGBM] [Warning] Auto-choosing col-wise multi-threading, the overhead of testing was 0.000385 seconds.\n",
      "You can set `force_col_wise=true` to remove the overhead.\n",
      "[LightGBM] [Warning] No further splits with positive gain, best gain: -inf\n",
      "[LightGBM] [Warning] No further splits with positive gain, best gain: -inf\n",
      "[LightGBM] [Warning] No further splits with positive gain, best gain: -inf\n",
      "[LightGBM] [Warning] No further splits with positive gain, best gain: -inf\n",
      "[LightGBM] [Warning] No further splits with positive gain, best gain: -inf\n",
      "[LightGBM] [Warning] No further splits with positive gain, best gain: -inf\n",
      "[LightGBM] [Warning] No further splits with positive gain, best gain: -inf\n",
      "[LightGBM] [Warning] No further splits with positive gain, best gain: -inf\n",
      "[LightGBM] [Warning] No further splits with positive gain, best gain: -inf\n",
      "[LightGBM] [Warning] No further splits with positive gain, best gain: -inf\n",
      "[LightGBM] [Warning] No further splits with positive gain, best gain: -inf\n",
      "[LightGBM] [Warning] No further splits with positive gain, best gain: -inf\n",
      "[LightGBM] [Warning] No further splits with positive gain, best gain: -inf\n",
      "[LightGBM] [Warning] No further splits with positive gain, best gain: -inf\n",
      "[LightGBM] [Warning] No further splits with positive gain, best gain: -inf\n",
      "[LightGBM] [Warning] No further splits with positive gain, best gain: -inf\n",
      "[LightGBM] [Warning] No further splits with positive gain, best gain: -inf\n",
      "[LightGBM] [Warning] No further splits with positive gain, best gain: -inf\n",
      "[LightGBM] [Warning] No further splits with positive gain, best gain: -inf\n",
      "[LightGBM] [Warning] No further splits with positive gain, best gain: -inf\n",
      "[LightGBM] [Warning] No further splits with positive gain, best gain: -inf\n",
      "[LightGBM] [Warning] No further splits with positive gain, best gain: -inf\n",
      "[LightGBM] [Warning] No further splits with positive gain, best gain: -inf\n",
      "[LightGBM] [Warning] No further splits with positive gain, best gain: -inf\n",
      "[LightGBM] [Warning] No further splits with positive gain, best gain: -inf\n",
      "[LightGBM] [Warning] No further splits with positive gain, best gain: -inf\n",
      "[LightGBM] [Warning] No further splits with positive gain, best gain: -inf\n",
      "[LightGBM] [Warning] No further splits with positive gain, best gain: -inf\n",
      "[LightGBM] [Warning] No further splits with positive gain, best gain: -inf\n",
      "[LightGBM] [Warning] No further splits with positive gain, best gain: -inf\n",
      "[LightGBM] [Warning] No further splits with positive gain, best gain: -inf\n",
      "[LightGBM] [Warning] No further splits with positive gain, best gain: -inf\n",
      "[LightGBM] [Warning] No further splits with positive gain, best gain: -inf\n",
      "[LightGBM] [Warning] No further splits with positive gain, best gain: -inf\n",
      "[LightGBM] [Warning] No further splits with positive gain, best gain: -inf\n",
      "[LightGBM] [Warning] No further splits with positive gain, best gain: -inf\n",
      "[LightGBM] [Warning] No further splits with positive gain, best gain: -inf\n",
      "[LightGBM] [Warning] No further splits with positive gain, best gain: -inf\n",
      "[LightGBM] [Warning] No further splits with positive gain, best gain: -inf\n",
      "[LightGBM] [Warning] No further splits with positive gain, best gain: -inf\n",
      "[LightGBM] [Warning] No further splits with positive gain, best gain: -inf\n",
      "[LightGBM] [Warning] No further splits with positive gain, best gain: -inf\n",
      "[LightGBM] [Warning] No further splits with positive gain, best gain: -inf\n",
      "[LightGBM] [Warning] No further splits with positive gain, best gain: -inf\n",
      "[LightGBM] [Warning] No further splits with positive gain, best gain: -inf\n",
      "[LightGBM] [Warning] No further splits with positive gain, best gain: -inf\n",
      "[LightGBM] [Warning] No further splits with positive gain, best gain: -inf\n",
      "[LightGBM] [Warning] No further splits with positive gain, best gain: -inf\n",
      "[LightGBM] [Warning] No further splits with positive gain, best gain: -inf\n",
      "[LightGBM] [Warning] No further splits with positive gain, best gain: -inf\n",
      "[LightGBM] [Warning] No further splits with positive gain, best gain: -inf\n",
      "[LightGBM] [Warning] Auto-choosing col-wise multi-threading, the overhead of testing was 0.000387 seconds.\n",
      "You can set `force_col_wise=true` to remove the overhead.\n"
     ]
    },
    {
     "name": "stderr",
     "output_type": "stream",
     "text": [
      "[I 2023-11-20 11:08:09,872] Trial 4 finished with value: 49.213782366223036 and parameters: {'max_lag': 13, 'rolling_mean_size': 10, 'num_leaves': 32, 'learning_rate': 0.015597417522132229, 'min_child_samples': 46, 'boosting_type': 'dart'}. Best is trial 3 with value: 27.359692918153215.\n"
     ]
    },
    {
     "name": "stdout",
     "output_type": "stream",
     "text": [
      "[LightGBM] [Warning] Auto-choosing col-wise multi-threading, the overhead of testing was 0.000287 seconds.\n",
      "You can set `force_col_wise=true` to remove the overhead.\n",
      "[LightGBM] [Warning] Auto-choosing col-wise multi-threading, the overhead of testing was 0.000296 seconds.\n",
      "You can set `force_col_wise=true` to remove the overhead.\n",
      "[LightGBM] [Warning] Auto-choosing col-wise multi-threading, the overhead of testing was 0.000413 seconds.\n",
      "You can set `force_col_wise=true` to remove the overhead.\n"
     ]
    },
    {
     "name": "stderr",
     "output_type": "stream",
     "text": [
      "[I 2023-11-20 11:08:12,460] Trial 5 finished with value: 44.93318712435086 and parameters: {'max_lag': 11, 'rolling_mean_size': 12, 'num_leaves': 20, 'learning_rate': 0.023340354785128043, 'min_child_samples': 10, 'boosting_type': 'dart'}. Best is trial 3 with value: 27.359692918153215.\n"
     ]
    },
    {
     "name": "stdout",
     "output_type": "stream",
     "text": [
      "[LightGBM] [Warning] Auto-choosing col-wise multi-threading, the overhead of testing was 0.000230 seconds.\n",
      "You can set `force_col_wise=true` to remove the overhead.\n",
      "[LightGBM] [Warning] No further splits with positive gain, best gain: -inf\n",
      "[LightGBM] [Warning] No further splits with positive gain, best gain: -inf\n",
      "[LightGBM] [Warning] No further splits with positive gain, best gain: -inf\n",
      "[LightGBM] [Warning] No further splits with positive gain, best gain: -inf\n",
      "[LightGBM] [Warning] No further splits with positive gain, best gain: -inf\n",
      "[LightGBM] [Warning] No further splits with positive gain, best gain: -inf\n",
      "[LightGBM] [Warning] No further splits with positive gain, best gain: -inf\n",
      "[LightGBM] [Warning] No further splits with positive gain, best gain: -inf\n",
      "[LightGBM] [Warning] No further splits with positive gain, best gain: -inf\n",
      "[LightGBM] [Warning] No further splits with positive gain, best gain: -inf\n",
      "[LightGBM] [Warning] No further splits with positive gain, best gain: -inf\n",
      "[LightGBM] [Warning] No further splits with positive gain, best gain: -inf\n",
      "[LightGBM] [Warning] No further splits with positive gain, best gain: -inf\n",
      "[LightGBM] [Warning] No further splits with positive gain, best gain: -inf\n",
      "[LightGBM] [Warning] No further splits with positive gain, best gain: -inf\n",
      "[LightGBM] [Warning] No further splits with positive gain, best gain: -inf\n",
      "[LightGBM] [Warning] No further splits with positive gain, best gain: -inf\n",
      "[LightGBM] [Warning] No further splits with positive gain, best gain: -inf\n",
      "[LightGBM] [Warning] No further splits with positive gain, best gain: -inf\n",
      "[LightGBM] [Warning] No further splits with positive gain, best gain: -inf\n",
      "[LightGBM] [Warning] No further splits with positive gain, best gain: -inf\n",
      "[LightGBM] [Warning] No further splits with positive gain, best gain: -inf\n",
      "[LightGBM] [Warning] No further splits with positive gain, best gain: -inf\n",
      "[LightGBM] [Warning] No further splits with positive gain, best gain: -inf\n",
      "[LightGBM] [Warning] No further splits with positive gain, best gain: -inf\n",
      "[LightGBM] [Warning] No further splits with positive gain, best gain: -inf\n",
      "[LightGBM] [Warning] No further splits with positive gain, best gain: -inf\n",
      "[LightGBM] [Warning] No further splits with positive gain, best gain: -inf\n",
      "[LightGBM] [Warning] No further splits with positive gain, best gain: -inf\n",
      "[LightGBM] [Warning] No further splits with positive gain, best gain: -inf\n",
      "[LightGBM] [Warning] No further splits with positive gain, best gain: -inf\n",
      "[LightGBM] [Warning] No further splits with positive gain, best gain: -inf\n",
      "[LightGBM] [Warning] No further splits with positive gain, best gain: -inf\n",
      "[LightGBM] [Warning] No further splits with positive gain, best gain: -inf\n",
      "[LightGBM] [Warning] No further splits with positive gain, best gain: -inf\n",
      "[LightGBM] [Warning] No further splits with positive gain, best gain: -inf\n",
      "[LightGBM] [Warning] No further splits with positive gain, best gain: -inf\n",
      "[LightGBM] [Warning] No further splits with positive gain, best gain: -inf\n",
      "[LightGBM] [Warning] No further splits with positive gain, best gain: -inf\n",
      "[LightGBM] [Warning] No further splits with positive gain, best gain: -inf\n",
      "[LightGBM] [Warning] No further splits with positive gain, best gain: -inf\n",
      "[LightGBM] [Warning] No further splits with positive gain, best gain: -inf\n",
      "[LightGBM] [Warning] No further splits with positive gain, best gain: -inf\n",
      "[LightGBM] [Warning] No further splits with positive gain, best gain: -inf\n",
      "[LightGBM] [Warning] No further splits with positive gain, best gain: -inf\n",
      "[LightGBM] [Warning] No further splits with positive gain, best gain: -inf\n",
      "[LightGBM] [Warning] No further splits with positive gain, best gain: -inf\n",
      "[LightGBM] [Warning] No further splits with positive gain, best gain: -inf\n",
      "[LightGBM] [Warning] No further splits with positive gain, best gain: -inf\n",
      "[LightGBM] [Warning] No further splits with positive gain, best gain: -inf\n",
      "[LightGBM] [Warning] No further splits with positive gain, best gain: -inf\n",
      "[LightGBM] [Warning] No further splits with positive gain, best gain: -inf\n",
      "[LightGBM] [Warning] No further splits with positive gain, best gain: -inf\n",
      "[LightGBM] [Warning] No further splits with positive gain, best gain: -inf\n",
      "[LightGBM] [Warning] No further splits with positive gain, best gain: -inf\n",
      "[LightGBM] [Warning] No further splits with positive gain, best gain: -inf\n",
      "[LightGBM] [Warning] No further splits with positive gain, best gain: -inf\n",
      "[LightGBM] [Warning] No further splits with positive gain, best gain: -inf\n",
      "[LightGBM] [Warning] No further splits with positive gain, best gain: -inf\n",
      "[LightGBM] [Warning] No further splits with positive gain, best gain: -inf\n",
      "[LightGBM] [Warning] No further splits with positive gain, best gain: -inf\n",
      "[LightGBM] [Warning] No further splits with positive gain, best gain: -inf\n",
      "[LightGBM] [Warning] No further splits with positive gain, best gain: -inf\n",
      "[LightGBM] [Warning] No further splits with positive gain, best gain: -inf\n",
      "[LightGBM] [Warning] No further splits with positive gain, best gain: -inf\n",
      "[LightGBM] [Warning] No further splits with positive gain, best gain: -inf\n",
      "[LightGBM] [Warning] No further splits with positive gain, best gain: -inf\n",
      "[LightGBM] [Warning] No further splits with positive gain, best gain: -inf\n",
      "[LightGBM] [Warning] No further splits with positive gain, best gain: -inf\n",
      "[LightGBM] [Warning] No further splits with positive gain, best gain: -inf\n",
      "[LightGBM] [Warning] No further splits with positive gain, best gain: -inf\n",
      "[LightGBM] [Warning] No further splits with positive gain, best gain: -inf\n",
      "[LightGBM] [Warning] No further splits with positive gain, best gain: -inf\n",
      "[LightGBM] [Warning] No further splits with positive gain, best gain: -inf\n",
      "[LightGBM] [Warning] No further splits with positive gain, best gain: -inf\n",
      "[LightGBM] [Warning] No further splits with positive gain, best gain: -inf\n",
      "[LightGBM] [Warning] No further splits with positive gain, best gain: -inf\n",
      "[LightGBM] [Warning] No further splits with positive gain, best gain: -inf\n",
      "[LightGBM] [Warning] No further splits with positive gain, best gain: -inf\n",
      "[LightGBM] [Warning] No further splits with positive gain, best gain: -inf\n",
      "[LightGBM] [Warning] No further splits with positive gain, best gain: -inf\n",
      "[LightGBM] [Warning] No further splits with positive gain, best gain: -inf\n",
      "[LightGBM] [Warning] No further splits with positive gain, best gain: -inf\n",
      "[LightGBM] [Warning] No further splits with positive gain, best gain: -inf\n",
      "[LightGBM] [Warning] No further splits with positive gain, best gain: -inf\n",
      "[LightGBM] [Warning] No further splits with positive gain, best gain: -inf\n",
      "[LightGBM] [Warning] No further splits with positive gain, best gain: -inf\n",
      "[LightGBM] [Warning] No further splits with positive gain, best gain: -inf\n",
      "[LightGBM] [Warning] No further splits with positive gain, best gain: -inf\n",
      "[LightGBM] [Warning] No further splits with positive gain, best gain: -inf\n",
      "[LightGBM] [Warning] No further splits with positive gain, best gain: -inf\n",
      "[LightGBM] [Warning] No further splits with positive gain, best gain: -inf\n",
      "[LightGBM] [Warning] No further splits with positive gain, best gain: -inf\n",
      "[LightGBM] [Warning] No further splits with positive gain, best gain: -inf\n",
      "[LightGBM] [Warning] No further splits with positive gain, best gain: -inf\n",
      "[LightGBM] [Warning] No further splits with positive gain, best gain: -inf\n",
      "[LightGBM] [Warning] No further splits with positive gain, best gain: -inf\n",
      "[LightGBM] [Warning] No further splits with positive gain, best gain: -inf\n",
      "[LightGBM] [Warning] No further splits with positive gain, best gain: -inf\n",
      "[LightGBM] [Warning] No further splits with positive gain, best gain: -inf\n",
      "[LightGBM] [Warning] Auto-choosing col-wise multi-threading, the overhead of testing was 0.000294 seconds.\n",
      "You can set `force_col_wise=true` to remove the overhead.\n",
      "[LightGBM] [Warning] Auto-choosing col-wise multi-threading, the overhead of testing was 0.000418 seconds.\n",
      "You can set `force_col_wise=true` to remove the overhead.\n"
     ]
    },
    {
     "name": "stderr",
     "output_type": "stream",
     "text": [
      "[I 2023-11-20 11:08:15,868] Trial 6 finished with value: 26.87123593702533 and parameters: {'max_lag': 11, 'rolling_mean_size': 18, 'num_leaves': 46, 'learning_rate': 0.04276502980435798, 'min_child_samples': 24, 'boosting_type': 'gbdt'}. Best is trial 6 with value: 26.87123593702533.\n"
     ]
    },
    {
     "name": "stdout",
     "output_type": "stream",
     "text": [
      "[LightGBM] [Warning] Auto-choosing col-wise multi-threading, the overhead of testing was 0.000311 seconds.\n",
      "You can set `force_col_wise=true` to remove the overhead.\n",
      "[LightGBM] [Warning] Auto-choosing col-wise multi-threading, the overhead of testing was 0.000352 seconds.\n",
      "You can set `force_col_wise=true` to remove the overhead.\n",
      "[LightGBM] [Warning] Auto-choosing col-wise multi-threading, the overhead of testing was 0.000464 seconds.\n",
      "You can set `force_col_wise=true` to remove the overhead.\n"
     ]
    },
    {
     "name": "stderr",
     "output_type": "stream",
     "text": [
      "[I 2023-11-20 11:08:17,361] Trial 7 finished with value: 27.37023818694824 and parameters: {'max_lag': 15, 'rolling_mean_size': 16, 'num_leaves': 12, 'learning_rate': 0.03926212605408229, 'min_child_samples': 32, 'boosting_type': 'gbdt'}. Best is trial 6 with value: 26.87123593702533.\n"
     ]
    },
    {
     "name": "stdout",
     "output_type": "stream",
     "text": [
      "[LightGBM] [Warning] Auto-choosing col-wise multi-threading, the overhead of testing was 0.000170 seconds.\n",
      "You can set `force_col_wise=true` to remove the overhead.\n",
      "[LightGBM] [Warning] Auto-choosing col-wise multi-threading, the overhead of testing was 0.000222 seconds.\n",
      "You can set `force_col_wise=true` to remove the overhead.\n",
      "[LightGBM] [Warning] Auto-choosing col-wise multi-threading, the overhead of testing was 0.000248 seconds.\n",
      "You can set `force_col_wise=true` to remove the overhead.\n"
     ]
    },
    {
     "name": "stderr",
     "output_type": "stream",
     "text": [
      "[I 2023-11-20 11:08:18,765] Trial 8 finished with value: 52.37229472720836 and parameters: {'max_lag': 6, 'rolling_mean_size': 11, 'num_leaves': 9, 'learning_rate': 0.01260007422124426, 'min_child_samples': 33, 'boosting_type': 'dart'}. Best is trial 6 with value: 26.87123593702533.\n"
     ]
    },
    {
     "name": "stdout",
     "output_type": "stream",
     "text": [
      "[LightGBM] [Warning] Auto-choosing col-wise multi-threading, the overhead of testing was 0.000186 seconds.\n",
      "You can set `force_col_wise=true` to remove the overhead.\n",
      "[LightGBM] [Warning] Auto-choosing col-wise multi-threading, the overhead of testing was 0.000216 seconds.\n",
      "You can set `force_col_wise=true` to remove the overhead.\n",
      "[LightGBM] [Warning] Auto-choosing col-wise multi-threading, the overhead of testing was 0.000350 seconds.\n",
      "You can set `force_col_wise=true` to remove the overhead.\n"
     ]
    },
    {
     "name": "stderr",
     "output_type": "stream",
     "text": [
      "[I 2023-11-20 11:08:20,163] Trial 9 finished with value: 28.290020643490113 and parameters: {'max_lag': 7, 'rolling_mean_size': 7, 'num_leaves': 13, 'learning_rate': 0.03310062407360723, 'min_child_samples': 21, 'boosting_type': 'gbdt'}. Best is trial 6 with value: 26.87123593702533.\n"
     ]
    }
   ],
   "source": [
    "study = optuna.create_study(direction='minimize')\n",
    "study.optimize(objective_lightgbm, n_trials=10, show_progress_bar=False)"
   ]
  },
  {
   "cell_type": "code",
   "execution_count": 59,
   "metadata": {
    "scrolled": true
   },
   "outputs": [
    {
     "name": "stdout",
     "output_type": "stream",
     "text": [
      "Лучшие гиперпараметры: {'max_lag': 11, 'rolling_mean_size': 18, 'num_leaves': 46, 'learning_rate': 0.04276502980435798, 'min_child_samples': 24, 'boosting_type': 'gbdt'}\n",
      "Лучшее RMSE: 26.87123593702533\n"
     ]
    }
   ],
   "source": [
    "print('Лучшие гиперпараметры:', study.best_params)\n",
    "print('Лучшее RMSE:', study.best_value)"
   ]
  },
  {
   "cell_type": "code",
   "execution_count": 60,
   "metadata": {},
   "outputs": [],
   "source": [
    "lgbm_params = study.best_params"
   ]
  },
  {
   "cell_type": "code",
   "execution_count": 61,
   "metadata": {},
   "outputs": [],
   "source": [
    "lgbm_params = {k: lgbm_params[k] for k in lgbm_params if k not in ['max_lag', 'rolling_mean_size']}"
   ]
  },
  {
   "cell_type": "markdown",
   "metadata": {},
   "source": [
    "У всех моделей разница оказалась незначительной, лучший результат показала модель LightGBM с результатом RMSE 26.978"
   ]
  },
  {
   "cell_type": "markdown",
   "metadata": {},
   "source": [
    "## Тестирование"
   ]
  },
  {
   "cell_type": "code",
   "execution_count": 62,
   "metadata": {},
   "outputs": [],
   "source": [
    "X_train, X_test, y_train, y_test = prepare_df(df, 11, 18)"
   ]
  },
  {
   "cell_type": "code",
   "execution_count": 63,
   "metadata": {},
   "outputs": [],
   "source": [
    "model = lgb.LGBMRegressor(**lgbm_params)"
   ]
  },
  {
   "cell_type": "code",
   "execution_count": 64,
   "metadata": {},
   "outputs": [
    {
     "data": {
      "text/html": [
       "<style>#sk-container-id-2 {color: black;}#sk-container-id-2 pre{padding: 0;}#sk-container-id-2 div.sk-toggleable {background-color: white;}#sk-container-id-2 label.sk-toggleable__label {cursor: pointer;display: block;width: 100%;margin-bottom: 0;padding: 0.3em;box-sizing: border-box;text-align: center;}#sk-container-id-2 label.sk-toggleable__label-arrow:before {content: \"▸\";float: left;margin-right: 0.25em;color: #696969;}#sk-container-id-2 label.sk-toggleable__label-arrow:hover:before {color: black;}#sk-container-id-2 div.sk-estimator:hover label.sk-toggleable__label-arrow:before {color: black;}#sk-container-id-2 div.sk-toggleable__content {max-height: 0;max-width: 0;overflow: hidden;text-align: left;background-color: #f0f8ff;}#sk-container-id-2 div.sk-toggleable__content pre {margin: 0.2em;color: black;border-radius: 0.25em;background-color: #f0f8ff;}#sk-container-id-2 input.sk-toggleable__control:checked~div.sk-toggleable__content {max-height: 200px;max-width: 100%;overflow: auto;}#sk-container-id-2 input.sk-toggleable__control:checked~label.sk-toggleable__label-arrow:before {content: \"▾\";}#sk-container-id-2 div.sk-estimator input.sk-toggleable__control:checked~label.sk-toggleable__label {background-color: #d4ebff;}#sk-container-id-2 div.sk-label input.sk-toggleable__control:checked~label.sk-toggleable__label {background-color: #d4ebff;}#sk-container-id-2 input.sk-hidden--visually {border: 0;clip: rect(1px 1px 1px 1px);clip: rect(1px, 1px, 1px, 1px);height: 1px;margin: -1px;overflow: hidden;padding: 0;position: absolute;width: 1px;}#sk-container-id-2 div.sk-estimator {font-family: monospace;background-color: #f0f8ff;border: 1px dotted black;border-radius: 0.25em;box-sizing: border-box;margin-bottom: 0.5em;}#sk-container-id-2 div.sk-estimator:hover {background-color: #d4ebff;}#sk-container-id-2 div.sk-parallel-item::after {content: \"\";width: 100%;border-bottom: 1px solid gray;flex-grow: 1;}#sk-container-id-2 div.sk-label:hover label.sk-toggleable__label {background-color: #d4ebff;}#sk-container-id-2 div.sk-serial::before {content: \"\";position: absolute;border-left: 1px solid gray;box-sizing: border-box;top: 0;bottom: 0;left: 50%;z-index: 0;}#sk-container-id-2 div.sk-serial {display: flex;flex-direction: column;align-items: center;background-color: white;padding-right: 0.2em;padding-left: 0.2em;position: relative;}#sk-container-id-2 div.sk-item {position: relative;z-index: 1;}#sk-container-id-2 div.sk-parallel {display: flex;align-items: stretch;justify-content: center;background-color: white;position: relative;}#sk-container-id-2 div.sk-item::before, #sk-container-id-2 div.sk-parallel-item::before {content: \"\";position: absolute;border-left: 1px solid gray;box-sizing: border-box;top: 0;bottom: 0;left: 50%;z-index: -1;}#sk-container-id-2 div.sk-parallel-item {display: flex;flex-direction: column;z-index: 1;position: relative;background-color: white;}#sk-container-id-2 div.sk-parallel-item:first-child::after {align-self: flex-end;width: 50%;}#sk-container-id-2 div.sk-parallel-item:last-child::after {align-self: flex-start;width: 50%;}#sk-container-id-2 div.sk-parallel-item:only-child::after {width: 0;}#sk-container-id-2 div.sk-dashed-wrapped {border: 1px dashed gray;margin: 0 0.4em 0.5em 0.4em;box-sizing: border-box;padding-bottom: 0.4em;background-color: white;}#sk-container-id-2 div.sk-label label {font-family: monospace;font-weight: bold;display: inline-block;line-height: 1.2em;}#sk-container-id-2 div.sk-label-container {text-align: center;}#sk-container-id-2 div.sk-container {/* jupyter's `normalize.less` sets `[hidden] { display: none; }` but bootstrap.min.css set `[hidden] { display: none !important; }` so we also need the `!important` here to be able to override the default hidden behavior on the sphinx rendered scikit-learn.org. See: https://github.com/scikit-learn/scikit-learn/issues/21755 */display: inline-block !important;position: relative;}#sk-container-id-2 div.sk-text-repr-fallback {display: none;}</style><div id=\"sk-container-id-2\" class=\"sk-top-container\"><div class=\"sk-text-repr-fallback\"><pre>LGBMRegressor(learning_rate=0.04276502980435798, min_child_samples=24,\n",
       "              num_leaves=46)</pre><b>In a Jupyter environment, please rerun this cell to show the HTML representation or trust the notebook. <br />On GitHub, the HTML representation is unable to render, please try loading this page with nbviewer.org.</b></div><div class=\"sk-container\" hidden><div class=\"sk-item\"><div class=\"sk-estimator sk-toggleable\"><input class=\"sk-toggleable__control sk-hidden--visually\" id=\"sk-estimator-id-2\" type=\"checkbox\" checked><label for=\"sk-estimator-id-2\" class=\"sk-toggleable__label sk-toggleable__label-arrow\">LGBMRegressor</label><div class=\"sk-toggleable__content\"><pre>LGBMRegressor(learning_rate=0.04276502980435798, min_child_samples=24,\n",
       "              num_leaves=46)</pre></div></div></div></div></div>"
      ],
      "text/plain": [
       "LGBMRegressor(learning_rate=0.04276502980435798, min_child_samples=24,\n",
       "              num_leaves=46)"
      ]
     },
     "execution_count": 64,
     "metadata": {},
     "output_type": "execute_result"
    }
   ],
   "source": [
    "model.fit(X_train, y_train)"
   ]
  },
  {
   "cell_type": "code",
   "execution_count": 65,
   "metadata": {},
   "outputs": [],
   "source": [
    "y_pred = model.predict(X_test)"
   ]
  },
  {
   "cell_type": "code",
   "execution_count": 66,
   "metadata": {},
   "outputs": [],
   "source": [
    "rmse_lgbm = np.sqrt(mean_squared_error(y_test, y_pred))"
   ]
  },
  {
   "cell_type": "code",
   "execution_count": 67,
   "metadata": {},
   "outputs": [
    {
     "name": "stderr",
     "output_type": "stream",
     "text": [
      "/tmp/ipykernel_975/3773023409.py:1: FutureWarning: Series.__getitem__ treating keys as positions is deprecated. In a future version, integer keys will always be treated as labels (consistent with DataFrame behavior). To access a value by position, use `ser.iloc[pos]`\n",
      "  constant_pred = y_test.shift(fill_value=y_train[-1])\n"
     ]
    }
   ],
   "source": [
    "constant_pred = y_test.shift(fill_value=y_train[-1])"
   ]
  },
  {
   "cell_type": "code",
   "execution_count": 68,
   "metadata": {},
   "outputs": [],
   "source": [
    "rmse_const = np.sqrt(mean_squared_error(y_test, constant_pred))"
   ]
  },
  {
   "cell_type": "code",
   "execution_count": 69,
   "metadata": {},
   "outputs": [
    {
     "name": "stdout",
     "output_type": "stream",
     "text": [
      "Результаты на тестовой выборке для:\n",
      "LightGBM: 44.3371611920864\n",
      "Константной модели: 58.88742457931834\n"
     ]
    }
   ],
   "source": [
    "print(f'Результаты на тестовой выборке для:\\nLightGBM: {rmse_lgbm}\\nКонстантной модели: {rmse_const}')"
   ]
  },
  {
   "cell_type": "markdown",
   "metadata": {},
   "source": [
    "## Вывод"
   ]
  },
  {
   "cell_type": "markdown",
   "metadata": {},
   "source": [
    "1. В начале проекта мы загрузили данные о заказах такси в аэропортах за период с 1 марта по 31 августа 2018 года. Данные содержат информацию о количестве заказов с интервалом в 10 минут. Далее мы провели ресемплирование данных по одному часу, чтобы уменьшить шум и сделать временной ряд более устойчивым. В результате получили 4416 строк данных.\n",
    "2. Для улучшения предсказательной способности моделей мы создали новые признаки:\n",
    " - Месяц, день, час, день недели, выходной ли день и время суток.\n",
    " - День недели, выходной, время суток и час мы заакодированное средним значением для каждой группы по скользящему среднему\n",
    " - Отстающие значения (lag) с максимальным лагом max_lag\n",
    " - Скользящее среднее с окном размера rolling_mean_size\n",
    " \n",
    "3. Далее мы приступили к обучению различных моделей с использованием библиотеки optuna для оптимизации гиперпараметров и параметров функции - max_lag и rolling_mean_size. Протестировали следующие модели:\n",
    "\n",
    "  - KNN-Regressor\n",
    "  - RandomForest\n",
    "  - LightGBM\n",
    "Лучшие результаты показала LightGBM - 26.978.\n",
    "\n",
    "4. Мы использовали лучшие гиперпараметры для модели и параметры для функции и протестировали модель на тестовой выборке. У LightGBM результат получился 42.9, у константной модели, предсказывающей медианным значеним обучающей выборки - 87.5. \n",
    "\n",
    "4. Во время проекта мы разработали эффективную модель для прогнозирования количества заказов такси на следующий час. Мы провели предварительный анализ данных, создали новые признаки, и успешно обучили и протестировали несколько моделей машинного обучения. В результате LightGBM показал наилучшие результаты, что подтверждает его эффективность для задачи временных рядов."
   ]
  }
 ],
 "metadata": {
  "ExecuteTimeLog": [
   {
    "duration": 831,
    "start_time": "2023-11-18T11:52:19.618Z"
   },
   {
    "duration": 6946,
    "start_time": "2023-11-18T11:53:08.880Z"
   },
   {
    "duration": 643,
    "start_time": "2023-11-18T11:53:39.641Z"
   },
   {
    "duration": 6094,
    "start_time": "2023-11-18T11:53:52.074Z"
   },
   {
    "duration": 299,
    "start_time": "2023-11-18T11:53:58.170Z"
   },
   {
    "duration": 3,
    "start_time": "2023-11-18T11:56:27.347Z"
   },
   {
    "duration": 130,
    "start_time": "2023-11-18T12:00:04.454Z"
   },
   {
    "duration": 9,
    "start_time": "2023-11-18T12:00:13.511Z"
   },
   {
    "duration": 34,
    "start_time": "2023-11-18T12:00:34.086Z"
   },
   {
    "duration": 13,
    "start_time": "2023-11-18T12:00:36.533Z"
   },
   {
    "duration": 4,
    "start_time": "2023-11-18T12:01:06.129Z"
   },
   {
    "duration": 3,
    "start_time": "2023-11-18T12:01:08.931Z"
   },
   {
    "duration": 44,
    "start_time": "2023-11-18T12:02:52.416Z"
   },
   {
    "duration": 6,
    "start_time": "2023-11-18T12:02:53.471Z"
   },
   {
    "duration": 46,
    "start_time": "2023-11-18T12:03:19.851Z"
   },
   {
    "duration": 6,
    "start_time": "2023-11-18T12:03:20.746Z"
   },
   {
    "duration": 11,
    "start_time": "2023-11-18T12:03:36.122Z"
   },
   {
    "duration": 9,
    "start_time": "2023-11-18T12:04:21.871Z"
   },
   {
    "duration": 4,
    "start_time": "2023-11-18T12:04:26.393Z"
   },
   {
    "duration": 8,
    "start_time": "2023-11-18T12:13:35.273Z"
   },
   {
    "duration": 9,
    "start_time": "2023-11-18T12:13:40.044Z"
   },
   {
    "duration": 26,
    "start_time": "2023-11-18T12:15:48.717Z"
   },
   {
    "duration": 212,
    "start_time": "2023-11-18T12:16:00.575Z"
   },
   {
    "duration": 407,
    "start_time": "2023-11-18T12:16:50.271Z"
   },
   {
    "duration": 444,
    "start_time": "2023-11-18T12:17:22.633Z"
   },
   {
    "duration": 525,
    "start_time": "2023-11-18T12:17:30.913Z"
   },
   {
    "duration": 456,
    "start_time": "2023-11-18T12:17:38.433Z"
   },
   {
    "duration": 3,
    "start_time": "2023-11-18T12:22:22.364Z"
   },
   {
    "duration": 27,
    "start_time": "2023-11-18T12:24:35.500Z"
   },
   {
    "duration": 3,
    "start_time": "2023-11-18T12:24:46.680Z"
   },
   {
    "duration": 424,
    "start_time": "2023-11-18T12:24:46.949Z"
   },
   {
    "duration": 14,
    "start_time": "2023-11-18T12:29:22.911Z"
   },
   {
    "duration": 48,
    "start_time": "2023-11-18T12:31:40.236Z"
   },
   {
    "duration": 6,
    "start_time": "2023-11-18T12:31:41.267Z"
   },
   {
    "duration": 9,
    "start_time": "2023-11-18T12:31:41.447Z"
   },
   {
    "duration": 4,
    "start_time": "2023-11-18T12:31:41.655Z"
   },
   {
    "duration": 16,
    "start_time": "2023-11-18T12:31:42.451Z"
   },
   {
    "duration": 4,
    "start_time": "2023-11-18T12:31:46.575Z"
   },
   {
    "duration": 7,
    "start_time": "2023-11-18T12:31:50.741Z"
   },
   {
    "duration": 15,
    "start_time": "2023-11-18T12:31:53.293Z"
   },
   {
    "duration": 26,
    "start_time": "2023-11-18T12:33:30.032Z"
   },
   {
    "duration": 8,
    "start_time": "2023-11-18T12:34:01.976Z"
   },
   {
    "duration": 5,
    "start_time": "2023-11-18T12:34:29.780Z"
   },
   {
    "duration": 4,
    "start_time": "2023-11-18T12:34:33.702Z"
   },
   {
    "duration": 48,
    "start_time": "2023-11-18T12:35:55.955Z"
   },
   {
    "duration": 6,
    "start_time": "2023-11-18T12:35:56.124Z"
   },
   {
    "duration": 11,
    "start_time": "2023-11-18T12:35:56.313Z"
   },
   {
    "duration": 3,
    "start_time": "2023-11-18T12:35:56.523Z"
   },
   {
    "duration": 4,
    "start_time": "2023-11-18T12:35:57.323Z"
   },
   {
    "duration": 4,
    "start_time": "2023-11-18T12:35:59.610Z"
   },
   {
    "duration": 391,
    "start_time": "2023-11-18T12:37:38.723Z"
   },
   {
    "duration": 389,
    "start_time": "2023-11-18T12:38:29.612Z"
   },
   {
    "duration": 794,
    "start_time": "2023-11-18T12:38:40.523Z"
   },
   {
    "duration": 389,
    "start_time": "2023-11-18T12:38:48.401Z"
   },
   {
    "duration": 399,
    "start_time": "2023-11-18T12:38:50.894Z"
   },
   {
    "duration": 7,
    "start_time": "2023-11-18T12:39:01.058Z"
   },
   {
    "duration": 414,
    "start_time": "2023-11-18T12:39:08.530Z"
   },
   {
    "duration": 122,
    "start_time": "2023-11-18T12:42:16.930Z"
   },
   {
    "duration": 3,
    "start_time": "2023-11-18T12:43:01.241Z"
   },
   {
    "duration": 8,
    "start_time": "2023-11-18T12:43:11.183Z"
   },
   {
    "duration": 95,
    "start_time": "2023-11-18T12:43:36.850Z"
   },
   {
    "duration": 8,
    "start_time": "2023-11-18T12:43:37.273Z"
   },
   {
    "duration": 2,
    "start_time": "2023-11-18T12:43:40.506Z"
   },
   {
    "duration": 5,
    "start_time": "2023-11-18T12:43:40.896Z"
   },
   {
    "duration": 18974,
    "start_time": "2023-11-18T12:44:21.147Z"
   },
   {
    "duration": 46,
    "start_time": "2023-11-18T12:54:43.722Z"
   },
   {
    "duration": 1176,
    "start_time": "2023-11-18T12:54:48.668Z"
   },
   {
    "duration": 1268,
    "start_time": "2023-11-18T13:00:17.285Z"
   },
   {
    "duration": 5,
    "start_time": "2023-11-18T13:00:25.026Z"
   },
   {
    "duration": 2053,
    "start_time": "2023-11-18T13:00:29.355Z"
   },
   {
    "duration": 1053,
    "start_time": "2023-11-18T13:00:39.777Z"
   },
   {
    "duration": 6,
    "start_time": "2023-11-18T13:01:12.553Z"
   },
   {
    "duration": 1112,
    "start_time": "2023-11-18T13:01:13.050Z"
   },
   {
    "duration": 6,
    "start_time": "2023-11-18T13:01:27.688Z"
   },
   {
    "duration": 1059,
    "start_time": "2023-11-18T13:01:27.960Z"
   },
   {
    "duration": 6,
    "start_time": "2023-11-18T13:01:32.540Z"
   },
   {
    "duration": 1013,
    "start_time": "2023-11-18T13:01:32.808Z"
   },
   {
    "duration": 6,
    "start_time": "2023-11-18T13:08:02.184Z"
   },
   {
    "duration": 1135,
    "start_time": "2023-11-18T13:08:02.649Z"
   },
   {
    "duration": 6,
    "start_time": "2023-11-18T13:08:08.308Z"
   },
   {
    "duration": 11075,
    "start_time": "2023-11-19T10:22:09.763Z"
   },
   {
    "duration": 1744,
    "start_time": "2023-11-19T10:22:20.840Z"
   },
   {
    "duration": 4,
    "start_time": "2023-11-19T10:22:22.586Z"
   },
   {
    "duration": 16,
    "start_time": "2023-11-19T10:22:22.593Z"
   },
   {
    "duration": 145,
    "start_time": "2023-11-19T10:22:22.611Z"
   },
   {
    "duration": 11,
    "start_time": "2023-11-19T10:22:22.758Z"
   },
   {
    "duration": 10,
    "start_time": "2023-11-19T10:22:22.770Z"
   },
   {
    "duration": 4,
    "start_time": "2023-11-19T10:22:22.782Z"
   },
   {
    "duration": 19,
    "start_time": "2023-11-19T10:22:22.788Z"
   },
   {
    "duration": 4,
    "start_time": "2023-11-19T10:22:22.811Z"
   },
   {
    "duration": 37,
    "start_time": "2023-11-19T10:22:22.816Z"
   },
   {
    "duration": 3,
    "start_time": "2023-11-19T10:22:22.855Z"
   },
   {
    "duration": 1345,
    "start_time": "2023-11-19T10:22:22.860Z"
   },
   {
    "duration": 12,
    "start_time": "2023-11-19T10:22:24.206Z"
   },
   {
    "duration": 29,
    "start_time": "2023-11-19T10:22:24.220Z"
   },
   {
    "duration": 529,
    "start_time": "2023-11-19T10:22:24.251Z"
   },
   {
    "duration": 4,
    "start_time": "2023-11-19T10:22:24.782Z"
   },
   {
    "duration": 416,
    "start_time": "2023-11-19T10:22:24.788Z"
   },
   {
    "duration": 131,
    "start_time": "2023-11-19T10:22:25.205Z"
   },
   {
    "duration": 0,
    "start_time": "2023-11-19T10:22:25.337Z"
   },
   {
    "duration": 0,
    "start_time": "2023-11-19T10:22:25.338Z"
   },
   {
    "duration": 0,
    "start_time": "2023-11-19T10:22:25.339Z"
   },
   {
    "duration": 0,
    "start_time": "2023-11-19T10:22:25.340Z"
   },
   {
    "duration": 0,
    "start_time": "2023-11-19T10:22:25.341Z"
   },
   {
    "duration": 3,
    "start_time": "2023-11-19T10:22:37.113Z"
   },
   {
    "duration": 582,
    "start_time": "2023-11-19T10:22:39.991Z"
   },
   {
    "duration": 4,
    "start_time": "2023-11-19T10:22:50.551Z"
   },
   {
    "duration": 593,
    "start_time": "2023-11-19T10:22:52.865Z"
   },
   {
    "duration": 4,
    "start_time": "2023-11-19T10:23:02.660Z"
   },
   {
    "duration": 667,
    "start_time": "2023-11-19T10:23:04.920Z"
   },
   {
    "duration": 4,
    "start_time": "2023-11-19T10:23:23.224Z"
   },
   {
    "duration": 621,
    "start_time": "2023-11-19T10:23:25.255Z"
   },
   {
    "duration": 3,
    "start_time": "2023-11-19T10:23:33.632Z"
   },
   {
    "duration": 584,
    "start_time": "2023-11-19T10:23:35.850Z"
   },
   {
    "duration": 3,
    "start_time": "2023-11-19T10:23:48.627Z"
   },
   {
    "duration": 28,
    "start_time": "2023-11-19T10:23:50.693Z"
   },
   {
    "duration": 4,
    "start_time": "2023-11-19T10:24:02.794Z"
   },
   {
    "duration": 665,
    "start_time": "2023-11-19T10:24:21.267Z"
   },
   {
    "duration": 4,
    "start_time": "2023-11-19T10:24:28.909Z"
   },
   {
    "duration": 575,
    "start_time": "2023-11-19T10:24:31.475Z"
   },
   {
    "duration": 4716,
    "start_time": "2023-11-19T10:24:38.451Z"
   },
   {
    "duration": 1463,
    "start_time": "2023-11-19T10:24:43.170Z"
   },
   {
    "duration": 3,
    "start_time": "2023-11-19T10:24:44.635Z"
   },
   {
    "duration": 17,
    "start_time": "2023-11-19T10:24:44.640Z"
   },
   {
    "duration": 51,
    "start_time": "2023-11-19T10:24:44.659Z"
   },
   {
    "duration": 9,
    "start_time": "2023-11-19T10:24:44.712Z"
   },
   {
    "duration": 10,
    "start_time": "2023-11-19T10:24:44.722Z"
   },
   {
    "duration": 4,
    "start_time": "2023-11-19T10:24:44.733Z"
   },
   {
    "duration": 16,
    "start_time": "2023-11-19T10:24:44.739Z"
   },
   {
    "duration": 4,
    "start_time": "2023-11-19T10:24:44.758Z"
   },
   {
    "duration": 15,
    "start_time": "2023-11-19T10:24:44.764Z"
   },
   {
    "duration": 3,
    "start_time": "2023-11-19T10:24:44.781Z"
   },
   {
    "duration": 1268,
    "start_time": "2023-11-19T10:24:44.786Z"
   },
   {
    "duration": 9,
    "start_time": "2023-11-19T10:24:46.056Z"
   },
   {
    "duration": 35,
    "start_time": "2023-11-19T10:24:46.067Z"
   },
   {
    "duration": 502,
    "start_time": "2023-11-19T10:24:46.104Z"
   },
   {
    "duration": 13,
    "start_time": "2023-11-19T10:24:46.607Z"
   },
   {
    "duration": 401,
    "start_time": "2023-11-19T10:24:46.622Z"
   },
   {
    "duration": 131,
    "start_time": "2023-11-19T10:24:47.025Z"
   },
   {
    "duration": 0,
    "start_time": "2023-11-19T10:24:47.158Z"
   },
   {
    "duration": 0,
    "start_time": "2023-11-19T10:24:47.159Z"
   },
   {
    "duration": 0,
    "start_time": "2023-11-19T10:24:47.160Z"
   },
   {
    "duration": 0,
    "start_time": "2023-11-19T10:24:47.161Z"
   },
   {
    "duration": 0,
    "start_time": "2023-11-19T10:24:47.162Z"
   },
   {
    "duration": 4,
    "start_time": "2023-11-19T10:24:52.289Z"
   },
   {
    "duration": 576,
    "start_time": "2023-11-19T10:24:54.367Z"
   },
   {
    "duration": 5054,
    "start_time": "2023-11-19T10:24:59.775Z"
   },
   {
    "duration": 1514,
    "start_time": "2023-11-19T10:25:04.831Z"
   },
   {
    "duration": 3,
    "start_time": "2023-11-19T10:25:06.347Z"
   },
   {
    "duration": 32,
    "start_time": "2023-11-19T10:25:06.352Z"
   },
   {
    "duration": 73,
    "start_time": "2023-11-19T10:25:06.385Z"
   },
   {
    "duration": 11,
    "start_time": "2023-11-19T10:25:06.460Z"
   },
   {
    "duration": 18,
    "start_time": "2023-11-19T10:25:06.472Z"
   },
   {
    "duration": 8,
    "start_time": "2023-11-19T10:25:06.491Z"
   },
   {
    "duration": 28,
    "start_time": "2023-11-19T10:25:06.500Z"
   },
   {
    "duration": 7,
    "start_time": "2023-11-19T10:25:06.530Z"
   },
   {
    "duration": 56,
    "start_time": "2023-11-19T10:25:06.539Z"
   },
   {
    "duration": 39,
    "start_time": "2023-11-19T10:25:06.597Z"
   },
   {
    "duration": 1301,
    "start_time": "2023-11-19T10:25:06.637Z"
   },
   {
    "duration": 9,
    "start_time": "2023-11-19T10:25:07.939Z"
   },
   {
    "duration": 15,
    "start_time": "2023-11-19T10:25:07.949Z"
   },
   {
    "duration": 530,
    "start_time": "2023-11-19T10:25:07.966Z"
   },
   {
    "duration": 5,
    "start_time": "2023-11-19T10:25:08.498Z"
   },
   {
    "duration": 435,
    "start_time": "2023-11-19T10:25:08.504Z"
   },
   {
    "duration": 124,
    "start_time": "2023-11-19T10:25:08.941Z"
   },
   {
    "duration": 0,
    "start_time": "2023-11-19T10:25:09.067Z"
   },
   {
    "duration": 0,
    "start_time": "2023-11-19T10:25:09.068Z"
   },
   {
    "duration": 0,
    "start_time": "2023-11-19T10:25:09.069Z"
   },
   {
    "duration": 0,
    "start_time": "2023-11-19T10:25:09.070Z"
   },
   {
    "duration": 0,
    "start_time": "2023-11-19T10:25:09.071Z"
   },
   {
    "duration": 4799,
    "start_time": "2023-11-19T10:25:28.416Z"
   },
   {
    "duration": 1528,
    "start_time": "2023-11-19T10:25:33.217Z"
   },
   {
    "duration": 3,
    "start_time": "2023-11-19T10:25:34.747Z"
   },
   {
    "duration": 5,
    "start_time": "2023-11-19T10:25:34.752Z"
   },
   {
    "duration": 54,
    "start_time": "2023-11-19T10:25:34.758Z"
   },
   {
    "duration": 10,
    "start_time": "2023-11-19T10:25:34.813Z"
   },
   {
    "duration": 9,
    "start_time": "2023-11-19T10:25:34.824Z"
   },
   {
    "duration": 3,
    "start_time": "2023-11-19T10:25:34.834Z"
   },
   {
    "duration": 5,
    "start_time": "2023-11-19T10:25:34.839Z"
   },
   {
    "duration": 4,
    "start_time": "2023-11-19T10:25:34.847Z"
   },
   {
    "duration": 16,
    "start_time": "2023-11-19T10:25:34.852Z"
   },
   {
    "duration": 2,
    "start_time": "2023-11-19T10:25:34.869Z"
   },
   {
    "duration": 1319,
    "start_time": "2023-11-19T10:25:34.873Z"
   },
   {
    "duration": 9,
    "start_time": "2023-11-19T10:25:36.193Z"
   },
   {
    "duration": 26,
    "start_time": "2023-11-19T10:25:36.203Z"
   },
   {
    "duration": 513,
    "start_time": "2023-11-19T10:25:36.230Z"
   },
   {
    "duration": 5,
    "start_time": "2023-11-19T10:25:36.745Z"
   },
   {
    "duration": 433,
    "start_time": "2023-11-19T10:25:36.751Z"
   },
   {
    "duration": 133,
    "start_time": "2023-11-19T10:25:37.185Z"
   },
   {
    "duration": 0,
    "start_time": "2023-11-19T10:25:37.320Z"
   },
   {
    "duration": 0,
    "start_time": "2023-11-19T10:25:37.321Z"
   },
   {
    "duration": 0,
    "start_time": "2023-11-19T10:25:37.322Z"
   },
   {
    "duration": 0,
    "start_time": "2023-11-19T10:25:37.323Z"
   },
   {
    "duration": 0,
    "start_time": "2023-11-19T10:25:37.324Z"
   },
   {
    "duration": 4765,
    "start_time": "2023-11-19T10:25:53.572Z"
   },
   {
    "duration": 1599,
    "start_time": "2023-11-19T10:25:58.339Z"
   },
   {
    "duration": 4,
    "start_time": "2023-11-19T10:25:59.940Z"
   },
   {
    "duration": 6,
    "start_time": "2023-11-19T10:25:59.945Z"
   },
   {
    "duration": 53,
    "start_time": "2023-11-19T10:25:59.953Z"
   },
   {
    "duration": 10,
    "start_time": "2023-11-19T10:26:00.008Z"
   },
   {
    "duration": 59,
    "start_time": "2023-11-19T10:26:00.020Z"
   },
   {
    "duration": 7,
    "start_time": "2023-11-19T10:26:00.081Z"
   },
   {
    "duration": 33,
    "start_time": "2023-11-19T10:26:00.089Z"
   },
   {
    "duration": 11,
    "start_time": "2023-11-19T10:26:00.124Z"
   },
   {
    "duration": 26,
    "start_time": "2023-11-19T10:26:00.136Z"
   },
   {
    "duration": 16,
    "start_time": "2023-11-19T10:26:00.164Z"
   },
   {
    "duration": 1267,
    "start_time": "2023-11-19T10:26:00.181Z"
   },
   {
    "duration": 8,
    "start_time": "2023-11-19T10:26:01.450Z"
   },
   {
    "duration": 28,
    "start_time": "2023-11-19T10:26:01.459Z"
   },
   {
    "duration": 515,
    "start_time": "2023-11-19T10:26:01.489Z"
   },
   {
    "duration": 12,
    "start_time": "2023-11-19T10:26:02.006Z"
   },
   {
    "duration": 456,
    "start_time": "2023-11-19T10:26:02.020Z"
   },
   {
    "duration": 134,
    "start_time": "2023-11-19T10:26:02.477Z"
   },
   {
    "duration": 0,
    "start_time": "2023-11-19T10:26:02.613Z"
   },
   {
    "duration": 0,
    "start_time": "2023-11-19T10:26:02.614Z"
   },
   {
    "duration": 0,
    "start_time": "2023-11-19T10:26:02.618Z"
   },
   {
    "duration": 0,
    "start_time": "2023-11-19T10:26:02.620Z"
   },
   {
    "duration": 0,
    "start_time": "2023-11-19T10:26:02.621Z"
   },
   {
    "duration": 11,
    "start_time": "2023-11-19T10:26:38.762Z"
   },
   {
    "duration": 4725,
    "start_time": "2023-11-19T10:28:14.638Z"
   },
   {
    "duration": 1506,
    "start_time": "2023-11-19T10:28:19.366Z"
   },
   {
    "duration": 3,
    "start_time": "2023-11-19T10:28:20.874Z"
   },
   {
    "duration": 8,
    "start_time": "2023-11-19T10:28:20.879Z"
   },
   {
    "duration": 65,
    "start_time": "2023-11-19T10:28:20.888Z"
   },
   {
    "duration": 10,
    "start_time": "2023-11-19T10:28:20.955Z"
   },
   {
    "duration": 21,
    "start_time": "2023-11-19T10:28:20.967Z"
   },
   {
    "duration": 24,
    "start_time": "2023-11-19T10:28:20.990Z"
   },
   {
    "duration": 18,
    "start_time": "2023-11-19T10:28:21.016Z"
   },
   {
    "duration": 14,
    "start_time": "2023-11-19T10:28:21.037Z"
   },
   {
    "duration": 30,
    "start_time": "2023-11-19T10:28:21.052Z"
   },
   {
    "duration": 16,
    "start_time": "2023-11-19T10:28:21.084Z"
   },
   {
    "duration": 143,
    "start_time": "2023-11-19T10:28:21.102Z"
   },
   {
    "duration": 0,
    "start_time": "2023-11-19T10:28:21.247Z"
   },
   {
    "duration": 0,
    "start_time": "2023-11-19T10:28:21.248Z"
   },
   {
    "duration": 0,
    "start_time": "2023-11-19T10:28:21.249Z"
   },
   {
    "duration": 0,
    "start_time": "2023-11-19T10:28:21.250Z"
   },
   {
    "duration": 0,
    "start_time": "2023-11-19T10:28:21.251Z"
   },
   {
    "duration": 0,
    "start_time": "2023-11-19T10:28:21.252Z"
   },
   {
    "duration": 0,
    "start_time": "2023-11-19T10:28:21.253Z"
   },
   {
    "duration": 0,
    "start_time": "2023-11-19T10:28:21.254Z"
   },
   {
    "duration": 0,
    "start_time": "2023-11-19T10:28:21.255Z"
   },
   {
    "duration": 0,
    "start_time": "2023-11-19T10:28:21.257Z"
   },
   {
    "duration": 0,
    "start_time": "2023-11-19T10:28:21.258Z"
   },
   {
    "duration": 4,
    "start_time": "2023-11-19T10:28:37.199Z"
   },
   {
    "duration": 4,
    "start_time": "2023-11-19T10:28:40.445Z"
   },
   {
    "duration": 1289,
    "start_time": "2023-11-19T10:28:43.248Z"
   },
   {
    "duration": 3,
    "start_time": "2023-11-19T10:28:53.743Z"
   },
   {
    "duration": 3,
    "start_time": "2023-11-19T10:28:56.262Z"
   },
   {
    "duration": 29,
    "start_time": "2023-11-19T10:28:58.697Z"
   },
   {
    "duration": 4,
    "start_time": "2023-11-19T10:29:03.741Z"
   },
   {
    "duration": 1267,
    "start_time": "2023-11-19T10:29:07.412Z"
   },
   {
    "duration": 4,
    "start_time": "2023-11-19T10:29:51.308Z"
   },
   {
    "duration": 1235,
    "start_time": "2023-11-19T10:29:53.785Z"
   },
   {
    "duration": 4914,
    "start_time": "2023-11-19T10:29:59.955Z"
   },
   {
    "duration": 1485,
    "start_time": "2023-11-19T10:30:04.872Z"
   },
   {
    "duration": 3,
    "start_time": "2023-11-19T10:30:06.359Z"
   },
   {
    "duration": 10,
    "start_time": "2023-11-19T10:30:06.364Z"
   },
   {
    "duration": 71,
    "start_time": "2023-11-19T10:30:06.376Z"
   },
   {
    "duration": 10,
    "start_time": "2023-11-19T10:30:06.449Z"
   },
   {
    "duration": 12,
    "start_time": "2023-11-19T10:30:06.460Z"
   },
   {
    "duration": 3,
    "start_time": "2023-11-19T10:30:06.474Z"
   },
   {
    "duration": 10,
    "start_time": "2023-11-19T10:30:06.478Z"
   },
   {
    "duration": 6,
    "start_time": "2023-11-19T10:30:06.489Z"
   },
   {
    "duration": 32,
    "start_time": "2023-11-19T10:30:06.497Z"
   },
   {
    "duration": 2,
    "start_time": "2023-11-19T10:30:06.531Z"
   },
   {
    "duration": 1283,
    "start_time": "2023-11-19T10:30:06.535Z"
   },
   {
    "duration": 7,
    "start_time": "2023-11-19T10:30:07.821Z"
   },
   {
    "duration": 21,
    "start_time": "2023-11-19T10:30:07.830Z"
   },
   {
    "duration": 529,
    "start_time": "2023-11-19T10:30:07.853Z"
   },
   {
    "duration": 4,
    "start_time": "2023-11-19T10:30:08.384Z"
   },
   {
    "duration": 462,
    "start_time": "2023-11-19T10:30:08.390Z"
   },
   {
    "duration": 144,
    "start_time": "2023-11-19T10:30:08.854Z"
   },
   {
    "duration": 0,
    "start_time": "2023-11-19T10:30:09.000Z"
   },
   {
    "duration": 0,
    "start_time": "2023-11-19T10:30:09.001Z"
   },
   {
    "duration": 0,
    "start_time": "2023-11-19T10:30:09.002Z"
   },
   {
    "duration": 0,
    "start_time": "2023-11-19T10:30:09.003Z"
   },
   {
    "duration": 0,
    "start_time": "2023-11-19T10:30:09.005Z"
   },
   {
    "duration": 3,
    "start_time": "2023-11-19T10:30:12.206Z"
   },
   {
    "duration": 607,
    "start_time": "2023-11-19T10:30:14.367Z"
   },
   {
    "duration": 4890,
    "start_time": "2023-11-19T10:30:20.238Z"
   },
   {
    "duration": 1519,
    "start_time": "2023-11-19T10:30:25.130Z"
   },
   {
    "duration": 3,
    "start_time": "2023-11-19T10:30:26.651Z"
   },
   {
    "duration": 25,
    "start_time": "2023-11-19T10:30:26.656Z"
   },
   {
    "duration": 65,
    "start_time": "2023-11-19T10:30:26.683Z"
   },
   {
    "duration": 9,
    "start_time": "2023-11-19T10:30:26.750Z"
   },
   {
    "duration": 17,
    "start_time": "2023-11-19T10:30:26.760Z"
   },
   {
    "duration": 12,
    "start_time": "2023-11-19T10:30:26.778Z"
   },
   {
    "duration": 18,
    "start_time": "2023-11-19T10:30:26.792Z"
   },
   {
    "duration": 24,
    "start_time": "2023-11-19T10:30:26.812Z"
   },
   {
    "duration": 34,
    "start_time": "2023-11-19T10:30:26.838Z"
   },
   {
    "duration": 16,
    "start_time": "2023-11-19T10:30:26.873Z"
   },
   {
    "duration": 1266,
    "start_time": "2023-11-19T10:30:26.890Z"
   },
   {
    "duration": 12,
    "start_time": "2023-11-19T10:30:28.158Z"
   },
   {
    "duration": 29,
    "start_time": "2023-11-19T10:30:28.172Z"
   },
   {
    "duration": 536,
    "start_time": "2023-11-19T10:30:28.203Z"
   },
   {
    "duration": 4,
    "start_time": "2023-11-19T10:30:28.741Z"
   },
   {
    "duration": 414,
    "start_time": "2023-11-19T10:30:28.747Z"
   },
   {
    "duration": 139,
    "start_time": "2023-11-19T10:30:29.163Z"
   },
   {
    "duration": 0,
    "start_time": "2023-11-19T10:30:29.304Z"
   },
   {
    "duration": 0,
    "start_time": "2023-11-19T10:30:29.305Z"
   },
   {
    "duration": 0,
    "start_time": "2023-11-19T10:30:29.318Z"
   },
   {
    "duration": 0,
    "start_time": "2023-11-19T10:30:29.319Z"
   },
   {
    "duration": 0,
    "start_time": "2023-11-19T10:30:29.320Z"
   },
   {
    "duration": 3,
    "start_time": "2023-11-19T10:30:34.181Z"
   },
   {
    "duration": 592,
    "start_time": "2023-11-19T10:30:36.943Z"
   },
   {
    "duration": 4804,
    "start_time": "2023-11-19T10:30:43.960Z"
   },
   {
    "duration": 1587,
    "start_time": "2023-11-19T10:30:48.767Z"
   },
   {
    "duration": 4,
    "start_time": "2023-11-19T10:30:50.356Z"
   },
   {
    "duration": 5,
    "start_time": "2023-11-19T10:30:50.362Z"
   },
   {
    "duration": 56,
    "start_time": "2023-11-19T10:30:50.368Z"
   },
   {
    "duration": 10,
    "start_time": "2023-11-19T10:30:50.426Z"
   },
   {
    "duration": 15,
    "start_time": "2023-11-19T10:30:50.437Z"
   },
   {
    "duration": 3,
    "start_time": "2023-11-19T10:30:50.454Z"
   },
   {
    "duration": 16,
    "start_time": "2023-11-19T10:30:50.458Z"
   },
   {
    "duration": 5,
    "start_time": "2023-11-19T10:30:50.477Z"
   },
   {
    "duration": 17,
    "start_time": "2023-11-19T10:30:50.484Z"
   },
   {
    "duration": 18,
    "start_time": "2023-11-19T10:30:50.503Z"
   },
   {
    "duration": 1252,
    "start_time": "2023-11-19T10:30:50.522Z"
   },
   {
    "duration": 9,
    "start_time": "2023-11-19T10:30:51.776Z"
   },
   {
    "duration": 43,
    "start_time": "2023-11-19T10:30:51.787Z"
   },
   {
    "duration": 506,
    "start_time": "2023-11-19T10:30:51.831Z"
   },
   {
    "duration": 5,
    "start_time": "2023-11-19T10:30:52.339Z"
   },
   {
    "duration": 459,
    "start_time": "2023-11-19T10:30:52.345Z"
   },
   {
    "duration": 131,
    "start_time": "2023-11-19T10:30:52.805Z"
   },
   {
    "duration": 0,
    "start_time": "2023-11-19T10:30:52.937Z"
   },
   {
    "duration": 0,
    "start_time": "2023-11-19T10:30:52.938Z"
   },
   {
    "duration": 0,
    "start_time": "2023-11-19T10:30:52.939Z"
   },
   {
    "duration": 0,
    "start_time": "2023-11-19T10:30:52.940Z"
   },
   {
    "duration": 0,
    "start_time": "2023-11-19T10:30:52.942Z"
   },
   {
    "duration": 13,
    "start_time": "2023-11-19T10:32:59.946Z"
   },
   {
    "duration": 13,
    "start_time": "2023-11-19T10:33:07.633Z"
   },
   {
    "duration": 6,
    "start_time": "2023-11-19T10:33:11.976Z"
   },
   {
    "duration": 6,
    "start_time": "2023-11-19T10:33:21.737Z"
   },
   {
    "duration": 989,
    "start_time": "2023-11-19T10:33:30.401Z"
   },
   {
    "duration": 4974,
    "start_time": "2023-11-19T10:33:56.899Z"
   },
   {
    "duration": 1609,
    "start_time": "2023-11-19T10:34:01.876Z"
   },
   {
    "duration": 3,
    "start_time": "2023-11-19T10:34:03.487Z"
   },
   {
    "duration": 35,
    "start_time": "2023-11-19T10:34:03.492Z"
   },
   {
    "duration": 73,
    "start_time": "2023-11-19T10:34:03.529Z"
   },
   {
    "duration": 10,
    "start_time": "2023-11-19T10:34:03.604Z"
   },
   {
    "duration": 16,
    "start_time": "2023-11-19T10:34:03.615Z"
   },
   {
    "duration": 3,
    "start_time": "2023-11-19T10:34:03.633Z"
   },
   {
    "duration": 6,
    "start_time": "2023-11-19T10:34:03.638Z"
   },
   {
    "duration": 4,
    "start_time": "2023-11-19T10:34:03.647Z"
   },
   {
    "duration": 18,
    "start_time": "2023-11-19T10:34:03.652Z"
   },
   {
    "duration": 3,
    "start_time": "2023-11-19T10:34:03.671Z"
   },
   {
    "duration": 1299,
    "start_time": "2023-11-19T10:34:03.676Z"
   },
   {
    "duration": 10,
    "start_time": "2023-11-19T10:34:04.977Z"
   },
   {
    "duration": 31,
    "start_time": "2023-11-19T10:34:04.989Z"
   },
   {
    "duration": 530,
    "start_time": "2023-11-19T10:34:05.022Z"
   },
   {
    "duration": 3,
    "start_time": "2023-11-19T10:34:05.554Z"
   },
   {
    "duration": 17,
    "start_time": "2023-11-19T10:34:05.558Z"
   },
   {
    "duration": 22,
    "start_time": "2023-11-19T10:34:05.576Z"
   },
   {
    "duration": 405,
    "start_time": "2023-11-19T10:34:05.600Z"
   },
   {
    "duration": 416,
    "start_time": "2023-11-19T10:34:06.007Z"
   },
   {
    "duration": 409,
    "start_time": "2023-11-19T10:34:06.426Z"
   },
   {
    "duration": 9,
    "start_time": "2023-11-19T10:34:06.837Z"
   },
   {
    "duration": 17,
    "start_time": "2023-11-19T10:34:06.847Z"
   },
   {
    "duration": 766,
    "start_time": "2023-11-19T10:34:06.866Z"
   },
   {
    "duration": 1379,
    "start_time": "2023-11-19T10:34:54.708Z"
   },
   {
    "duration": 0,
    "start_time": "2023-11-19T10:34:56.088Z"
   },
   {
    "duration": 4855,
    "start_time": "2023-11-19T10:35:10.640Z"
   },
   {
    "duration": 1610,
    "start_time": "2023-11-19T10:35:15.498Z"
   },
   {
    "duration": 4,
    "start_time": "2023-11-19T10:35:17.110Z"
   },
   {
    "duration": 4,
    "start_time": "2023-11-19T10:35:17.120Z"
   },
   {
    "duration": 67,
    "start_time": "2023-11-19T10:35:17.125Z"
   },
   {
    "duration": 10,
    "start_time": "2023-11-19T10:35:17.194Z"
   },
   {
    "duration": 93,
    "start_time": "2023-11-19T10:35:17.205Z"
   },
   {
    "duration": 28,
    "start_time": "2023-11-19T10:35:17.300Z"
   },
   {
    "duration": 7,
    "start_time": "2023-11-19T10:35:17.330Z"
   },
   {
    "duration": 4,
    "start_time": "2023-11-19T10:35:17.340Z"
   },
   {
    "duration": 17,
    "start_time": "2023-11-19T10:35:17.346Z"
   },
   {
    "duration": 3,
    "start_time": "2023-11-19T10:35:17.364Z"
   },
   {
    "duration": 1301,
    "start_time": "2023-11-19T10:35:17.369Z"
   },
   {
    "duration": 8,
    "start_time": "2023-11-19T10:35:18.671Z"
   },
   {
    "duration": 24,
    "start_time": "2023-11-19T10:35:18.681Z"
   },
   {
    "duration": 500,
    "start_time": "2023-11-19T10:35:18.707Z"
   },
   {
    "duration": 9,
    "start_time": "2023-11-19T10:35:19.209Z"
   },
   {
    "duration": 400,
    "start_time": "2023-11-19T10:35:19.220Z"
   },
   {
    "duration": 134,
    "start_time": "2023-11-19T10:35:19.622Z"
   },
   {
    "duration": 0,
    "start_time": "2023-11-19T10:35:19.757Z"
   },
   {
    "duration": 0,
    "start_time": "2023-11-19T10:35:19.758Z"
   },
   {
    "duration": 0,
    "start_time": "2023-11-19T10:35:19.760Z"
   },
   {
    "duration": 7,
    "start_time": "2023-11-19T10:35:22.566Z"
   },
   {
    "duration": 379,
    "start_time": "2023-11-19T10:35:23.142Z"
   },
   {
    "duration": 402,
    "start_time": "2023-11-19T10:35:23.523Z"
   },
   {
    "duration": 385,
    "start_time": "2023-11-19T10:35:23.926Z"
   },
   {
    "duration": 10,
    "start_time": "2023-11-19T10:36:34.273Z"
   },
   {
    "duration": 6,
    "start_time": "2023-11-19T10:36:56.568Z"
   },
   {
    "duration": 9,
    "start_time": "2023-11-19T10:37:14.305Z"
   },
   {
    "duration": 600,
    "start_time": "2023-11-19T10:37:18.444Z"
   },
   {
    "duration": 3,
    "start_time": "2023-11-19T10:37:54.889Z"
   },
   {
    "duration": 1013,
    "start_time": "2023-11-19T10:37:57.806Z"
   },
   {
    "duration": 4990,
    "start_time": "2023-11-19T10:38:05.831Z"
   },
   {
    "duration": 1664,
    "start_time": "2023-11-19T10:38:10.824Z"
   },
   {
    "duration": 4,
    "start_time": "2023-11-19T10:38:12.490Z"
   },
   {
    "duration": 41,
    "start_time": "2023-11-19T10:38:12.496Z"
   },
   {
    "duration": 136,
    "start_time": "2023-11-19T10:38:12.539Z"
   },
   {
    "duration": 11,
    "start_time": "2023-11-19T10:38:12.677Z"
   },
   {
    "duration": 20,
    "start_time": "2023-11-19T10:38:12.689Z"
   },
   {
    "duration": 26,
    "start_time": "2023-11-19T10:38:12.711Z"
   },
   {
    "duration": 29,
    "start_time": "2023-11-19T10:38:12.739Z"
   },
   {
    "duration": 18,
    "start_time": "2023-11-19T10:38:12.770Z"
   },
   {
    "duration": 42,
    "start_time": "2023-11-19T10:38:12.790Z"
   },
   {
    "duration": 5,
    "start_time": "2023-11-19T10:38:12.834Z"
   },
   {
    "duration": 1327,
    "start_time": "2023-11-19T10:38:12.841Z"
   },
   {
    "duration": 8,
    "start_time": "2023-11-19T10:38:14.170Z"
   },
   {
    "duration": 17,
    "start_time": "2023-11-19T10:38:14.180Z"
   },
   {
    "duration": 536,
    "start_time": "2023-11-19T10:38:14.198Z"
   },
   {
    "duration": 4,
    "start_time": "2023-11-19T10:38:14.736Z"
   },
   {
    "duration": 422,
    "start_time": "2023-11-19T10:38:14.742Z"
   },
   {
    "duration": 8,
    "start_time": "2023-11-19T10:38:15.165Z"
   },
   {
    "duration": 460,
    "start_time": "2023-11-19T10:38:15.174Z"
   },
   {
    "duration": 434,
    "start_time": "2023-11-19T10:38:15.636Z"
   },
   {
    "duration": 395,
    "start_time": "2023-11-19T10:38:16.072Z"
   },
   {
    "duration": 6,
    "start_time": "2023-11-19T10:38:16.468Z"
   },
   {
    "duration": 613,
    "start_time": "2023-11-19T10:38:16.476Z"
   },
   {
    "duration": 414,
    "start_time": "2023-11-19T10:41:36.793Z"
   },
   {
    "duration": 1156,
    "start_time": "2023-11-19T10:42:06.981Z"
   },
   {
    "duration": 13,
    "start_time": "2023-11-19T10:47:05.502Z"
   },
   {
    "duration": 1551,
    "start_time": "2023-11-19T10:47:43.480Z"
   },
   {
    "duration": 4,
    "start_time": "2023-11-19T10:47:49.273Z"
   },
   {
    "duration": 4,
    "start_time": "2023-11-19T10:47:49.561Z"
   },
   {
    "duration": 56,
    "start_time": "2023-11-19T10:47:49.912Z"
   },
   {
    "duration": 10,
    "start_time": "2023-11-19T10:47:50.250Z"
   },
   {
    "duration": 9,
    "start_time": "2023-11-19T10:47:54.552Z"
   },
   {
    "duration": 3,
    "start_time": "2023-11-19T10:47:56.093Z"
   },
   {
    "duration": 7,
    "start_time": "2023-11-19T10:48:02.116Z"
   },
   {
    "duration": 9,
    "start_time": "2023-11-19T10:48:03.763Z"
   },
   {
    "duration": 3,
    "start_time": "2023-11-19T10:48:14.152Z"
   },
   {
    "duration": 17,
    "start_time": "2023-11-19T10:49:13.617Z"
   },
   {
    "duration": 1278,
    "start_time": "2023-11-19T10:49:14.311Z"
   },
   {
    "duration": 1297,
    "start_time": "2023-11-19T10:49:22.476Z"
   },
   {
    "duration": 1384,
    "start_time": "2023-11-19T10:49:42.779Z"
   },
   {
    "duration": 8,
    "start_time": "2023-11-19T10:49:46.642Z"
   },
   {
    "duration": 15,
    "start_time": "2023-11-19T10:49:47.045Z"
   },
   {
    "duration": 8,
    "start_time": "2023-11-19T10:49:48.034Z"
   },
   {
    "duration": 464,
    "start_time": "2023-11-19T10:49:59.955Z"
   },
   {
    "duration": 47,
    "start_time": "2023-11-19T10:55:12.280Z"
   },
   {
    "duration": 7,
    "start_time": "2023-11-19T10:55:12.491Z"
   },
   {
    "duration": 3,
    "start_time": "2023-11-19T10:55:15.639Z"
   },
   {
    "duration": 4,
    "start_time": "2023-11-19T10:55:19.448Z"
   },
   {
    "duration": 4,
    "start_time": "2023-11-19T10:55:35.251Z"
   },
   {
    "duration": 3,
    "start_time": "2023-11-19T10:56:23.527Z"
   },
   {
    "duration": 3,
    "start_time": "2023-11-19T10:56:24.086Z"
   },
   {
    "duration": 6,
    "start_time": "2023-11-19T10:57:14.633Z"
   },
   {
    "duration": 1061,
    "start_time": "2023-11-19T10:57:14.959Z"
   },
   {
    "duration": 6,
    "start_time": "2023-11-19T10:58:09.361Z"
   },
   {
    "duration": 1081,
    "start_time": "2023-11-19T10:58:09.564Z"
   },
   {
    "duration": 7,
    "start_time": "2023-11-19T10:58:16.203Z"
   },
   {
    "duration": 1097,
    "start_time": "2023-11-19T10:58:16.391Z"
   },
   {
    "duration": 10,
    "start_time": "2023-11-19T11:05:49.339Z"
   },
   {
    "duration": 5034,
    "start_time": "2023-11-19T11:06:00.002Z"
   },
   {
    "duration": 1608,
    "start_time": "2023-11-19T11:06:05.039Z"
   },
   {
    "duration": 3,
    "start_time": "2023-11-19T11:06:06.649Z"
   },
   {
    "duration": 26,
    "start_time": "2023-11-19T11:06:06.655Z"
   },
   {
    "duration": 110,
    "start_time": "2023-11-19T11:06:06.683Z"
   },
   {
    "duration": 28,
    "start_time": "2023-11-19T11:06:06.795Z"
   },
   {
    "duration": 37,
    "start_time": "2023-11-19T11:06:06.825Z"
   },
   {
    "duration": 26,
    "start_time": "2023-11-19T11:06:06.865Z"
   },
   {
    "duration": 37,
    "start_time": "2023-11-19T11:06:06.893Z"
   },
   {
    "duration": 21,
    "start_time": "2023-11-19T11:06:06.934Z"
   },
   {
    "duration": 12,
    "start_time": "2023-11-19T11:06:06.957Z"
   },
   {
    "duration": 26,
    "start_time": "2023-11-19T11:06:06.971Z"
   },
   {
    "duration": 54,
    "start_time": "2023-11-19T11:06:06.999Z"
   },
   {
    "duration": 26,
    "start_time": "2023-11-19T11:06:07.055Z"
   },
   {
    "duration": 1375,
    "start_time": "2023-11-19T11:06:07.083Z"
   },
   {
    "duration": 10,
    "start_time": "2023-11-19T11:06:08.459Z"
   },
   {
    "duration": 21,
    "start_time": "2023-11-19T11:06:08.471Z"
   },
   {
    "duration": 573,
    "start_time": "2023-11-19T11:06:08.494Z"
   },
   {
    "duration": 6,
    "start_time": "2023-11-19T11:06:09.069Z"
   },
   {
    "duration": 400,
    "start_time": "2023-11-19T11:06:09.077Z"
   },
   {
    "duration": 423,
    "start_time": "2023-11-19T11:06:09.479Z"
   },
   {
    "duration": 417,
    "start_time": "2023-11-19T11:06:09.904Z"
   },
   {
    "duration": 7,
    "start_time": "2023-11-19T11:06:10.323Z"
   },
   {
    "duration": 628,
    "start_time": "2023-11-19T11:06:10.332Z"
   },
   {
    "duration": 15,
    "start_time": "2023-11-19T11:06:10.962Z"
   },
   {
    "duration": 143,
    "start_time": "2023-11-19T11:06:40.881Z"
   },
   {
    "duration": 7,
    "start_time": "2023-11-19T11:07:01.900Z"
   },
   {
    "duration": 93,
    "start_time": "2023-11-19T11:07:22.312Z"
   },
   {
    "duration": 11,
    "start_time": "2023-11-19T11:07:25.634Z"
   },
   {
    "duration": 4,
    "start_time": "2023-11-19T11:07:33.251Z"
   },
   {
    "duration": 11,
    "start_time": "2023-11-19T11:07:34.548Z"
   },
   {
    "duration": 5,
    "start_time": "2023-11-19T11:12:15.599Z"
   },
   {
    "duration": 10,
    "start_time": "2023-11-19T11:13:03.004Z"
   },
   {
    "duration": 6,
    "start_time": "2023-11-19T11:14:42.488Z"
   },
   {
    "duration": 7,
    "start_time": "2023-11-19T11:14:47.600Z"
   },
   {
    "duration": 9,
    "start_time": "2023-11-19T11:15:05.439Z"
   },
   {
    "duration": 4,
    "start_time": "2023-11-19T11:21:20.450Z"
   },
   {
    "duration": 7,
    "start_time": "2023-11-19T11:21:39.860Z"
   },
   {
    "duration": 23,
    "start_time": "2023-11-19T11:21:42.685Z"
   },
   {
    "duration": 10,
    "start_time": "2023-11-19T11:22:35.525Z"
   },
   {
    "duration": 36,
    "start_time": "2023-11-19T11:22:36.006Z"
   },
   {
    "duration": 6,
    "start_time": "2023-11-19T11:23:49.826Z"
   },
   {
    "duration": 10,
    "start_time": "2023-11-19T11:23:51.270Z"
   },
   {
    "duration": 31,
    "start_time": "2023-11-19T11:23:51.779Z"
   },
   {
    "duration": 8704,
    "start_time": "2023-11-19T11:28:07.014Z"
   },
   {
    "duration": 17,
    "start_time": "2023-11-19T11:29:04.880Z"
   },
   {
    "duration": 40,
    "start_time": "2023-11-19T11:29:17.031Z"
   },
   {
    "duration": 3,
    "start_time": "2023-11-19T11:29:25.991Z"
   },
   {
    "duration": 4,
    "start_time": "2023-11-19T11:29:29.276Z"
   },
   {
    "duration": 5,
    "start_time": "2023-11-19T11:29:37.904Z"
   },
   {
    "duration": 4,
    "start_time": "2023-11-19T11:29:43.546Z"
   },
   {
    "duration": 27,
    "start_time": "2023-11-19T11:32:24.338Z"
   },
   {
    "duration": 3,
    "start_time": "2023-11-19T11:32:27.298Z"
   },
   {
    "duration": 5,
    "start_time": "2023-11-19T11:32:28.947Z"
   },
   {
    "duration": 33,
    "start_time": "2023-11-19T11:33:39.206Z"
   },
   {
    "duration": 27,
    "start_time": "2023-11-19T11:34:06.871Z"
   },
   {
    "duration": 7,
    "start_time": "2023-11-19T11:34:18.686Z"
   },
   {
    "duration": 8,
    "start_time": "2023-11-19T11:34:23.687Z"
   },
   {
    "duration": 28,
    "start_time": "2023-11-19T11:34:37.219Z"
   },
   {
    "duration": 33,
    "start_time": "2023-11-19T11:35:26.244Z"
   },
   {
    "duration": 10,
    "start_time": "2023-11-19T11:36:26.788Z"
   },
   {
    "duration": 11,
    "start_time": "2023-11-19T11:36:34.802Z"
   },
   {
    "duration": 3,
    "start_time": "2023-11-19T11:37:20.824Z"
   },
   {
    "duration": 3,
    "start_time": "2023-11-19T11:37:26.479Z"
   },
   {
    "duration": 4,
    "start_time": "2023-11-19T11:37:30.501Z"
   },
   {
    "duration": 34,
    "start_time": "2023-11-19T11:38:28.504Z"
   },
   {
    "duration": 27,
    "start_time": "2023-11-19T11:43:49.820Z"
   },
   {
    "duration": 34,
    "start_time": "2023-11-19T11:44:39.052Z"
   },
   {
    "duration": 7,
    "start_time": "2023-11-19T11:47:28.536Z"
   },
   {
    "duration": 10,
    "start_time": "2023-11-19T11:47:29.707Z"
   },
   {
    "duration": 34,
    "start_time": "2023-11-19T11:47:33.573Z"
   },
   {
    "duration": 26,
    "start_time": "2023-11-19T11:48:35.181Z"
   },
   {
    "duration": 28,
    "start_time": "2023-11-19T11:50:58.128Z"
   },
   {
    "duration": 11,
    "start_time": "2023-11-19T11:53:30.380Z"
   },
   {
    "duration": 8327,
    "start_time": "2023-11-19T11:53:38.682Z"
   },
   {
    "duration": 53,
    "start_time": "2023-11-19T11:53:47.012Z"
   },
   {
    "duration": 4,
    "start_time": "2023-11-19T11:55:10.306Z"
   },
   {
    "duration": 29,
    "start_time": "2023-11-19T11:55:33.180Z"
   },
   {
    "duration": 7555,
    "start_time": "2023-11-19T11:55:51.746Z"
   },
   {
    "duration": 1740,
    "start_time": "2023-11-19T11:55:59.303Z"
   },
   {
    "duration": 3,
    "start_time": "2023-11-19T11:56:01.045Z"
   },
   {
    "duration": 28,
    "start_time": "2023-11-19T11:56:01.050Z"
   },
   {
    "duration": 83,
    "start_time": "2023-11-19T11:56:01.079Z"
   },
   {
    "duration": 9,
    "start_time": "2023-11-19T11:56:01.163Z"
   },
   {
    "duration": 36,
    "start_time": "2023-11-19T11:56:01.174Z"
   },
   {
    "duration": 32,
    "start_time": "2023-11-19T11:56:01.212Z"
   },
   {
    "duration": 27,
    "start_time": "2023-11-19T11:56:01.245Z"
   },
   {
    "duration": 55,
    "start_time": "2023-11-19T11:56:01.274Z"
   },
   {
    "duration": 28,
    "start_time": "2023-11-19T11:56:01.331Z"
   },
   {
    "duration": 38,
    "start_time": "2023-11-19T11:56:01.361Z"
   },
   {
    "duration": 28,
    "start_time": "2023-11-19T11:56:01.400Z"
   },
   {
    "duration": 52,
    "start_time": "2023-11-19T11:56:01.430Z"
   },
   {
    "duration": 1511,
    "start_time": "2023-11-19T11:56:01.483Z"
   },
   {
    "duration": 9,
    "start_time": "2023-11-19T11:56:02.996Z"
   },
   {
    "duration": 33,
    "start_time": "2023-11-19T11:56:03.006Z"
   },
   {
    "duration": 475,
    "start_time": "2023-11-19T11:56:03.040Z"
   },
   {
    "duration": 10,
    "start_time": "2023-11-19T11:56:03.517Z"
   },
   {
    "duration": 435,
    "start_time": "2023-11-19T11:56:03.529Z"
   },
   {
    "duration": 432,
    "start_time": "2023-11-19T11:56:03.966Z"
   },
   {
    "duration": 429,
    "start_time": "2023-11-19T11:56:04.399Z"
   },
   {
    "duration": 7,
    "start_time": "2023-11-19T11:56:04.830Z"
   },
   {
    "duration": 684,
    "start_time": "2023-11-19T11:56:04.838Z"
   },
   {
    "duration": 6,
    "start_time": "2023-11-19T11:56:05.524Z"
   },
   {
    "duration": 7,
    "start_time": "2023-11-19T11:56:05.532Z"
   },
   {
    "duration": 23,
    "start_time": "2023-11-19T11:56:05.540Z"
   },
   {
    "duration": 3,
    "start_time": "2023-11-19T11:58:44.581Z"
   },
   {
    "duration": 2,
    "start_time": "2023-11-19T11:59:36.693Z"
   },
   {
    "duration": 11,
    "start_time": "2023-11-19T12:44:03.773Z"
   },
   {
    "duration": 15,
    "start_time": "2023-11-19T12:44:08.356Z"
   },
   {
    "duration": 95,
    "start_time": "2023-11-19T12:47:18.631Z"
   },
   {
    "duration": 91,
    "start_time": "2023-11-19T12:47:23.822Z"
   },
   {
    "duration": 5,
    "start_time": "2023-11-19T12:47:30.728Z"
   },
   {
    "duration": 9,
    "start_time": "2023-11-19T12:47:31.944Z"
   },
   {
    "duration": 17,
    "start_time": "2023-11-19T12:47:32.440Z"
   },
   {
    "duration": 14,
    "start_time": "2023-11-19T12:47:39.518Z"
   },
   {
    "duration": 12,
    "start_time": "2023-11-19T12:47:51.808Z"
   },
   {
    "duration": 19,
    "start_time": "2023-11-19T12:48:07.676Z"
   },
   {
    "duration": 16,
    "start_time": "2023-11-19T12:48:27.357Z"
   },
   {
    "duration": 28,
    "start_time": "2023-11-19T12:49:43.672Z"
   },
   {
    "duration": 6,
    "start_time": "2023-11-19T12:50:07.625Z"
   },
   {
    "duration": 6,
    "start_time": "2023-11-19T12:50:16.985Z"
   },
   {
    "duration": 6,
    "start_time": "2023-11-19T12:53:07.427Z"
   },
   {
    "duration": 5,
    "start_time": "2023-11-19T12:53:47.197Z"
   },
   {
    "duration": 16,
    "start_time": "2023-11-19T12:53:47.702Z"
   },
   {
    "duration": 5,
    "start_time": "2023-11-19T12:53:48.572Z"
   },
   {
    "duration": 6,
    "start_time": "2023-11-19T12:53:51.100Z"
   },
   {
    "duration": 5,
    "start_time": "2023-11-19T12:53:53.084Z"
   },
   {
    "duration": 5,
    "start_time": "2023-11-19T12:53:53.651Z"
   },
   {
    "duration": 5,
    "start_time": "2023-11-19T12:54:06.908Z"
   },
   {
    "duration": 8,
    "start_time": "2023-11-19T12:54:14.916Z"
   },
   {
    "duration": 17,
    "start_time": "2023-11-19T12:54:15.392Z"
   },
   {
    "duration": 7,
    "start_time": "2023-11-19T12:54:17.721Z"
   },
   {
    "duration": 6,
    "start_time": "2023-11-19T12:54:18.611Z"
   },
   {
    "duration": 5,
    "start_time": "2023-11-19T12:58:19.560Z"
   },
   {
    "duration": 8,
    "start_time": "2023-11-19T12:58:20.136Z"
   },
   {
    "duration": 16,
    "start_time": "2023-11-19T12:58:23.032Z"
   },
   {
    "duration": 3,
    "start_time": "2023-11-19T12:58:52.974Z"
   },
   {
    "duration": 17,
    "start_time": "2023-11-19T12:58:55.557Z"
   },
   {
    "duration": 3,
    "start_time": "2023-11-19T13:02:59.910Z"
   },
   {
    "duration": 3,
    "start_time": "2023-11-19T13:07:38.652Z"
   },
   {
    "duration": 5,
    "start_time": "2023-11-19T13:07:44.851Z"
   },
   {
    "duration": 8953,
    "start_time": "2023-11-19T13:22:30.749Z"
   },
   {
    "duration": 10038,
    "start_time": "2023-11-19T13:22:53.608Z"
   },
   {
    "duration": 6,
    "start_time": "2023-11-19T13:23:10.233Z"
   },
   {
    "duration": 51,
    "start_time": "2023-11-19T13:23:38.325Z"
   },
   {
    "duration": 18162,
    "start_time": "2023-11-19T13:23:42.063Z"
   },
   {
    "duration": 145,
    "start_time": "2023-11-19T13:25:09.456Z"
   },
   {
    "duration": 12,
    "start_time": "2023-11-19T13:25:13.160Z"
   },
   {
    "duration": 11,
    "start_time": "2023-11-19T13:25:16.317Z"
   },
   {
    "duration": 18020,
    "start_time": "2023-11-19T13:25:53.507Z"
   },
   {
    "duration": 17042,
    "start_time": "2023-11-19T13:30:45.577Z"
   },
   {
    "duration": 17116,
    "start_time": "2023-11-19T13:35:53.016Z"
   },
   {
    "duration": 9,
    "start_time": "2023-11-19T13:41:48.820Z"
   },
   {
    "duration": 4,
    "start_time": "2023-11-19T13:42:19.908Z"
   },
   {
    "duration": 10,
    "start_time": "2023-11-19T13:42:23.268Z"
   },
   {
    "duration": 9,
    "start_time": "2023-11-19T13:42:27.260Z"
   },
   {
    "duration": 1307,
    "start_time": "2023-11-19T13:42:44.901Z"
   },
   {
    "duration": 1141,
    "start_time": "2023-11-19T13:42:55.693Z"
   },
   {
    "duration": 3,
    "start_time": "2023-11-19T13:44:07.399Z"
   },
   {
    "duration": 1283,
    "start_time": "2023-11-19T13:44:08.157Z"
   },
   {
    "duration": 3,
    "start_time": "2023-11-19T13:44:34.541Z"
   },
   {
    "duration": 17675,
    "start_time": "2023-11-19T13:44:41.044Z"
   },
   {
    "duration": 15210,
    "start_time": "2023-11-19T13:44:58.723Z"
   },
   {
    "duration": 8,
    "start_time": "2023-11-19T13:46:57.879Z"
   },
   {
    "duration": 8,
    "start_time": "2023-11-19T13:47:03.328Z"
   },
   {
    "duration": 3,
    "start_time": "2023-11-19T13:48:21.193Z"
   },
   {
    "duration": 8,
    "start_time": "2023-11-19T13:48:23.593Z"
   },
   {
    "duration": 7,
    "start_time": "2023-11-19T13:48:29.584Z"
   },
   {
    "duration": 4,
    "start_time": "2023-11-19T13:52:43.865Z"
   },
   {
    "duration": 1174,
    "start_time": "2023-11-19T13:52:45.548Z"
   },
   {
    "duration": 4,
    "start_time": "2023-11-19T13:53:18.220Z"
   },
   {
    "duration": 3,
    "start_time": "2023-11-19T13:56:57.335Z"
   },
   {
    "duration": 6,
    "start_time": "2023-11-19T14:00:04.752Z"
   },
   {
    "duration": 12,
    "start_time": "2023-11-19T14:00:14.751Z"
   },
   {
    "duration": 121,
    "start_time": "2023-11-19T14:00:29.625Z"
   },
   {
    "duration": 5,
    "start_time": "2023-11-19T14:01:10.755Z"
   },
   {
    "duration": 4,
    "start_time": "2023-11-19T14:01:23.563Z"
   },
   {
    "duration": 20,
    "start_time": "2023-11-19T14:01:23.909Z"
   },
   {
    "duration": 5,
    "start_time": "2023-11-19T14:07:11.030Z"
   },
   {
    "duration": 140,
    "start_time": "2023-11-19T14:07:11.527Z"
   },
   {
    "duration": 33,
    "start_time": "2023-11-19T14:07:37.287Z"
   },
   {
    "duration": 106,
    "start_time": "2023-11-19T14:08:43.840Z"
   },
   {
    "duration": 3,
    "start_time": "2023-11-19T14:08:47.094Z"
   },
   {
    "duration": 5,
    "start_time": "2023-11-19T14:08:50.189Z"
   },
   {
    "duration": 53,
    "start_time": "2023-11-19T14:08:50.649Z"
   },
   {
    "duration": 29,
    "start_time": "2023-11-19T14:10:40.250Z"
   },
   {
    "duration": 17,
    "start_time": "2023-11-19T14:10:51.602Z"
   },
   {
    "duration": 4,
    "start_time": "2023-11-19T14:11:09.153Z"
   },
   {
    "duration": 46,
    "start_time": "2023-11-19T14:11:19.839Z"
   },
   {
    "duration": 5,
    "start_time": "2023-11-19T14:11:24.752Z"
   },
   {
    "duration": 64,
    "start_time": "2023-11-19T14:11:25.066Z"
   },
   {
    "duration": 44,
    "start_time": "2023-11-19T14:12:08.497Z"
   },
   {
    "duration": 5,
    "start_time": "2023-11-19T14:12:14.295Z"
   },
   {
    "duration": 71,
    "start_time": "2023-11-19T14:12:14.588Z"
   },
   {
    "duration": 5,
    "start_time": "2023-11-19T14:12:23.721Z"
   },
   {
    "duration": 60,
    "start_time": "2023-11-19T14:12:24.170Z"
   },
   {
    "duration": 4,
    "start_time": "2023-11-19T14:12:34.189Z"
   },
   {
    "duration": 30890,
    "start_time": "2023-11-19T14:12:34.522Z"
   },
   {
    "duration": 3,
    "start_time": "2023-11-19T14:13:57.043Z"
   },
   {
    "duration": 5,
    "start_time": "2023-11-19T14:14:09.546Z"
   },
   {
    "duration": 49437,
    "start_time": "2023-11-19T14:14:09.843Z"
   },
   {
    "duration": 4,
    "start_time": "2023-11-19T14:16:22.538Z"
   },
   {
    "duration": 29844,
    "start_time": "2023-11-19T14:16:29.205Z"
   },
   {
    "duration": 4,
    "start_time": "2023-11-19T14:17:09.156Z"
   },
   {
    "duration": 4,
    "start_time": "2023-11-19T14:17:42.005Z"
   },
   {
    "duration": 61,
    "start_time": "2023-11-19T14:17:42.707Z"
   },
   {
    "duration": 7,
    "start_time": "2023-11-19T14:19:48.573Z"
   },
   {
    "duration": 61,
    "start_time": "2023-11-19T14:19:48.882Z"
   },
   {
    "duration": 10659,
    "start_time": "2023-11-19T14:20:29.837Z"
   },
   {
    "duration": 6,
    "start_time": "2023-11-19T14:21:01.171Z"
   },
   {
    "duration": 72,
    "start_time": "2023-11-19T14:21:01.605Z"
   },
   {
    "duration": 5,
    "start_time": "2023-11-19T14:21:16.837Z"
   },
   {
    "duration": 60,
    "start_time": "2023-11-19T14:21:17.164Z"
   },
   {
    "duration": 5,
    "start_time": "2023-11-19T14:22:13.445Z"
   },
   {
    "duration": 40210,
    "start_time": "2023-11-19T14:22:13.647Z"
   },
   {
    "duration": 5,
    "start_time": "2023-11-19T14:23:15.660Z"
   },
   {
    "duration": 36357,
    "start_time": "2023-11-19T14:23:16.233Z"
   },
   {
    "duration": 4,
    "start_time": "2023-11-19T14:24:30.397Z"
   },
   {
    "duration": 3,
    "start_time": "2023-11-19T14:24:48.175Z"
   },
   {
    "duration": 26376,
    "start_time": "2023-11-19T14:24:59.036Z"
   },
   {
    "duration": 4,
    "start_time": "2023-11-19T14:27:05.858Z"
   },
   {
    "duration": 5,
    "start_time": "2023-11-19T14:27:47.595Z"
   },
   {
    "duration": 41336,
    "start_time": "2023-11-19T14:27:50.346Z"
   },
   {
    "duration": 5,
    "start_time": "2023-11-19T14:28:51.575Z"
   },
   {
    "duration": 41332,
    "start_time": "2023-11-19T14:28:57.106Z"
   },
   {
    "duration": 5,
    "start_time": "2023-11-19T14:29:44.227Z"
   },
   {
    "duration": 51266,
    "start_time": "2023-11-19T14:29:44.614Z"
   },
   {
    "duration": 6,
    "start_time": "2023-11-19T14:31:12.927Z"
   },
   {
    "duration": 4,
    "start_time": "2023-11-19T14:31:40.802Z"
   },
   {
    "duration": 11,
    "start_time": "2023-11-19T14:31:48.735Z"
   },
   {
    "duration": 1433,
    "start_time": "2023-11-19T14:31:55.980Z"
   },
   {
    "duration": 3,
    "start_time": "2023-11-19T14:33:02.713Z"
   },
   {
    "duration": 2,
    "start_time": "2023-11-19T14:33:29.675Z"
   },
   {
    "duration": 5,
    "start_time": "2023-11-19T14:34:22.822Z"
   },
   {
    "duration": 1322,
    "start_time": "2023-11-19T14:34:23.362Z"
   },
   {
    "duration": 256,
    "start_time": "2023-11-19T14:45:02.167Z"
   },
   {
    "duration": 188,
    "start_time": "2023-11-19T14:46:05.083Z"
   },
   {
    "duration": 394,
    "start_time": "2023-11-19T14:46:16.204Z"
   },
   {
    "duration": 8,
    "start_time": "2023-11-19T14:50:13.870Z"
   },
   {
    "duration": 269,
    "start_time": "2023-11-19T14:50:20.908Z"
   },
   {
    "duration": 266,
    "start_time": "2023-11-19T14:51:37.332Z"
   },
   {
    "duration": 245,
    "start_time": "2023-11-19T14:53:14.761Z"
   },
   {
    "duration": 354,
    "start_time": "2023-11-19T14:53:28.995Z"
   },
   {
    "duration": 304,
    "start_time": "2023-11-19T14:54:08.774Z"
   },
   {
    "duration": 12,
    "start_time": "2023-11-19T14:54:15.720Z"
   },
   {
    "duration": 236,
    "start_time": "2023-11-19T14:54:16.136Z"
   },
   {
    "duration": 249,
    "start_time": "2023-11-19T14:54:16.374Z"
   },
   {
    "duration": 281,
    "start_time": "2023-11-19T14:54:16.625Z"
   },
   {
    "duration": 13,
    "start_time": "2023-11-19T14:54:23.100Z"
   },
   {
    "duration": 10018,
    "start_time": "2023-11-19T14:54:44.523Z"
   },
   {
    "duration": 1627,
    "start_time": "2023-11-19T14:54:54.543Z"
   },
   {
    "duration": 4,
    "start_time": "2023-11-19T14:54:56.172Z"
   },
   {
    "duration": 16,
    "start_time": "2023-11-19T14:54:56.178Z"
   },
   {
    "duration": 53,
    "start_time": "2023-11-19T14:54:56.196Z"
   },
   {
    "duration": 10,
    "start_time": "2023-11-19T14:54:56.251Z"
   },
   {
    "duration": 12,
    "start_time": "2023-11-19T14:54:56.262Z"
   },
   {
    "duration": 3,
    "start_time": "2023-11-19T14:54:56.275Z"
   },
   {
    "duration": 5,
    "start_time": "2023-11-19T14:54:56.279Z"
   },
   {
    "duration": 5,
    "start_time": "2023-11-19T14:54:56.285Z"
   },
   {
    "duration": 6,
    "start_time": "2023-11-19T14:54:56.291Z"
   },
   {
    "duration": 20,
    "start_time": "2023-11-19T14:54:56.299Z"
   },
   {
    "duration": 3,
    "start_time": "2023-11-19T14:54:56.321Z"
   },
   {
    "duration": 37,
    "start_time": "2023-11-19T14:54:56.327Z"
   },
   {
    "duration": 1382,
    "start_time": "2023-11-19T14:54:56.366Z"
   },
   {
    "duration": 7,
    "start_time": "2023-11-19T14:54:57.750Z"
   },
   {
    "duration": 20,
    "start_time": "2023-11-19T14:54:57.759Z"
   },
   {
    "duration": 433,
    "start_time": "2023-11-19T14:54:57.780Z"
   },
   {
    "duration": 8,
    "start_time": "2023-11-19T14:54:58.214Z"
   },
   {
    "duration": 376,
    "start_time": "2023-11-19T14:54:58.224Z"
   },
   {
    "duration": 387,
    "start_time": "2023-11-19T14:54:58.601Z"
   },
   {
    "duration": 405,
    "start_time": "2023-11-19T14:54:58.989Z"
   },
   {
    "duration": 238,
    "start_time": "2023-11-19T14:54:59.395Z"
   },
   {
    "duration": 8,
    "start_time": "2023-11-19T14:54:59.634Z"
   },
   {
    "duration": 311,
    "start_time": "2023-11-19T14:54:59.644Z"
   },
   {
    "duration": 229,
    "start_time": "2023-11-19T14:54:59.957Z"
   },
   {
    "duration": 5,
    "start_time": "2023-11-19T14:55:00.188Z"
   },
   {
    "duration": 707,
    "start_time": "2023-11-19T14:55:00.195Z"
   },
   {
    "duration": 3,
    "start_time": "2023-11-19T14:55:00.904Z"
   },
   {
    "duration": 24,
    "start_time": "2023-11-19T14:55:00.908Z"
   },
   {
    "duration": 1787,
    "start_time": "2023-11-19T14:55:00.933Z"
   },
   {
    "duration": 530,
    "start_time": "2023-11-19T14:55:02.725Z"
   },
   {
    "duration": 7,
    "start_time": "2023-11-19T14:55:03.256Z"
   },
   {
    "duration": 169,
    "start_time": "2023-11-19T14:55:03.265Z"
   },
   {
    "duration": 0,
    "start_time": "2023-11-19T14:55:03.436Z"
   },
   {
    "duration": 0,
    "start_time": "2023-11-19T14:55:03.437Z"
   },
   {
    "duration": 0,
    "start_time": "2023-11-19T14:55:03.438Z"
   },
   {
    "duration": 0,
    "start_time": "2023-11-19T14:55:03.439Z"
   },
   {
    "duration": 0,
    "start_time": "2023-11-19T14:55:03.440Z"
   },
   {
    "duration": 0,
    "start_time": "2023-11-19T14:55:03.441Z"
   },
   {
    "duration": 0,
    "start_time": "2023-11-19T14:55:03.442Z"
   },
   {
    "duration": 0,
    "start_time": "2023-11-19T14:55:03.443Z"
   },
   {
    "duration": 0,
    "start_time": "2023-11-19T14:55:03.444Z"
   },
   {
    "duration": 0,
    "start_time": "2023-11-19T14:55:03.444Z"
   },
   {
    "duration": 0,
    "start_time": "2023-11-19T14:55:03.445Z"
   },
   {
    "duration": 0,
    "start_time": "2023-11-19T14:55:03.447Z"
   },
   {
    "duration": 0,
    "start_time": "2023-11-19T14:55:03.448Z"
   },
   {
    "duration": 0,
    "start_time": "2023-11-19T14:55:03.449Z"
   },
   {
    "duration": 4,
    "start_time": "2023-11-19T14:57:46.434Z"
   },
   {
    "duration": 7,
    "start_time": "2023-11-19T14:57:46.688Z"
   },
   {
    "duration": 5,
    "start_time": "2023-11-19T14:57:57.701Z"
   },
   {
    "duration": 520,
    "start_time": "2023-11-19T14:57:58.885Z"
   },
   {
    "duration": 6,
    "start_time": "2023-11-19T14:58:24.060Z"
   },
   {
    "duration": 3,
    "start_time": "2023-11-19T14:58:25.998Z"
   },
   {
    "duration": 4,
    "start_time": "2023-11-19T14:59:40.874Z"
   },
   {
    "duration": 1039,
    "start_time": "2023-11-19T14:59:41.402Z"
   },
   {
    "duration": 1489,
    "start_time": "2023-11-19T15:00:31.245Z"
   },
   {
    "duration": 32,
    "start_time": "2023-11-19T15:00:44.952Z"
   },
   {
    "duration": 10113,
    "start_time": "2023-11-19T15:01:59.729Z"
   },
   {
    "duration": 1614,
    "start_time": "2023-11-19T15:02:09.845Z"
   },
   {
    "duration": 3,
    "start_time": "2023-11-19T15:02:11.461Z"
   },
   {
    "duration": 6,
    "start_time": "2023-11-19T15:02:11.466Z"
   },
   {
    "duration": 56,
    "start_time": "2023-11-19T15:02:11.474Z"
   },
   {
    "duration": 9,
    "start_time": "2023-11-19T15:02:11.531Z"
   },
   {
    "duration": 13,
    "start_time": "2023-11-19T15:02:11.542Z"
   },
   {
    "duration": 20,
    "start_time": "2023-11-19T15:02:11.556Z"
   },
   {
    "duration": 11,
    "start_time": "2023-11-19T15:02:11.578Z"
   },
   {
    "duration": 15,
    "start_time": "2023-11-19T15:02:11.592Z"
   },
   {
    "duration": 10,
    "start_time": "2023-11-19T15:02:11.609Z"
   },
   {
    "duration": 20,
    "start_time": "2023-11-19T15:02:11.620Z"
   },
   {
    "duration": 18,
    "start_time": "2023-11-19T15:02:11.642Z"
   },
   {
    "duration": 32,
    "start_time": "2023-11-19T15:02:11.661Z"
   },
   {
    "duration": 1423,
    "start_time": "2023-11-19T15:02:11.695Z"
   },
   {
    "duration": 8,
    "start_time": "2023-11-19T15:02:13.120Z"
   },
   {
    "duration": 29,
    "start_time": "2023-11-19T15:02:13.129Z"
   },
   {
    "duration": 443,
    "start_time": "2023-11-19T15:02:13.160Z"
   },
   {
    "duration": 13,
    "start_time": "2023-11-19T15:02:13.605Z"
   },
   {
    "duration": 390,
    "start_time": "2023-11-19T15:02:13.620Z"
   },
   {
    "duration": 405,
    "start_time": "2023-11-19T15:02:14.012Z"
   },
   {
    "duration": 416,
    "start_time": "2023-11-19T15:02:14.419Z"
   },
   {
    "duration": 231,
    "start_time": "2023-11-19T15:02:14.837Z"
   },
   {
    "duration": 7,
    "start_time": "2023-11-19T15:02:15.070Z"
   },
   {
    "duration": 262,
    "start_time": "2023-11-19T15:02:15.079Z"
   },
   {
    "duration": 6,
    "start_time": "2023-11-19T15:02:15.342Z"
   },
   {
    "duration": 715,
    "start_time": "2023-11-19T15:02:15.349Z"
   },
   {
    "duration": 4,
    "start_time": "2023-11-19T15:02:16.067Z"
   },
   {
    "duration": 4,
    "start_time": "2023-11-19T15:02:16.118Z"
   },
   {
    "duration": 1896,
    "start_time": "2023-11-19T15:02:16.124Z"
   },
   {
    "duration": 852,
    "start_time": "2023-11-19T15:02:18.022Z"
   },
   {
    "duration": 7,
    "start_time": "2023-11-19T15:02:18.875Z"
   },
   {
    "duration": 15,
    "start_time": "2023-11-19T15:02:18.883Z"
   },
   {
    "duration": 19,
    "start_time": "2023-11-19T15:02:18.899Z"
   },
   {
    "duration": 6,
    "start_time": "2023-11-19T15:02:18.920Z"
   },
   {
    "duration": 530,
    "start_time": "2023-11-19T15:02:18.928Z"
   },
   {
    "duration": 5,
    "start_time": "2023-11-19T15:02:19.459Z"
   },
   {
    "duration": 6,
    "start_time": "2023-11-19T15:02:19.466Z"
   },
   {
    "duration": 10,
    "start_time": "2023-11-19T15:02:19.473Z"
   },
   {
    "duration": 1626,
    "start_time": "2023-11-19T15:02:19.485Z"
   },
   {
    "duration": 8,
    "start_time": "2023-11-19T15:02:21.113Z"
   },
   {
    "duration": 16,
    "start_time": "2023-11-19T15:02:21.122Z"
   },
   {
    "duration": 1152,
    "start_time": "2023-11-19T15:02:21.140Z"
   },
   {
    "duration": 4,
    "start_time": "2023-11-19T15:02:22.293Z"
   },
   {
    "duration": 21,
    "start_time": "2023-11-19T15:02:22.298Z"
   },
   {
    "duration": 1505,
    "start_time": "2023-11-19T15:02:22.320Z"
   },
   {
    "duration": 30,
    "start_time": "2023-11-19T15:02:25.365Z"
   },
   {
    "duration": 31,
    "start_time": "2023-11-19T15:03:00.541Z"
   },
   {
    "duration": 10516,
    "start_time": "2023-11-19T15:03:16.877Z"
   },
   {
    "duration": 1729,
    "start_time": "2023-11-19T15:03:27.395Z"
   },
   {
    "duration": 4,
    "start_time": "2023-11-19T15:03:29.126Z"
   },
   {
    "duration": 51,
    "start_time": "2023-11-19T15:03:29.131Z"
   },
   {
    "duration": 68,
    "start_time": "2023-11-19T15:03:29.184Z"
   },
   {
    "duration": 15,
    "start_time": "2023-11-19T15:03:29.254Z"
   },
   {
    "duration": 39,
    "start_time": "2023-11-19T15:03:29.270Z"
   },
   {
    "duration": 7,
    "start_time": "2023-11-19T15:03:29.311Z"
   },
   {
    "duration": 12,
    "start_time": "2023-11-19T15:03:29.319Z"
   },
   {
    "duration": 7,
    "start_time": "2023-11-19T15:03:29.333Z"
   },
   {
    "duration": 13,
    "start_time": "2023-11-19T15:03:29.342Z"
   },
   {
    "duration": 13,
    "start_time": "2023-11-19T15:03:29.357Z"
   },
   {
    "duration": 5,
    "start_time": "2023-11-19T15:03:29.372Z"
   },
   {
    "duration": 20,
    "start_time": "2023-11-19T15:03:29.378Z"
   },
   {
    "duration": 1370,
    "start_time": "2023-11-19T15:03:29.399Z"
   },
   {
    "duration": 8,
    "start_time": "2023-11-19T15:03:30.771Z"
   },
   {
    "duration": 38,
    "start_time": "2023-11-19T15:03:30.780Z"
   },
   {
    "duration": 425,
    "start_time": "2023-11-19T15:03:30.819Z"
   },
   {
    "duration": 8,
    "start_time": "2023-11-19T15:03:31.245Z"
   },
   {
    "duration": 385,
    "start_time": "2023-11-19T15:03:31.254Z"
   },
   {
    "duration": 405,
    "start_time": "2023-11-19T15:03:31.641Z"
   },
   {
    "duration": 399,
    "start_time": "2023-11-19T15:03:32.047Z"
   },
   {
    "duration": 231,
    "start_time": "2023-11-19T15:03:32.447Z"
   },
   {
    "duration": 7,
    "start_time": "2023-11-19T15:03:32.680Z"
   },
   {
    "duration": 255,
    "start_time": "2023-11-19T15:03:32.689Z"
   },
   {
    "duration": 5,
    "start_time": "2023-11-19T15:03:32.946Z"
   },
   {
    "duration": 652,
    "start_time": "2023-11-19T15:03:32.952Z"
   },
   {
    "duration": 4,
    "start_time": "2023-11-19T15:03:33.607Z"
   },
   {
    "duration": 12,
    "start_time": "2023-11-19T15:03:33.613Z"
   },
   {
    "duration": 1893,
    "start_time": "2023-11-19T15:03:33.626Z"
   },
   {
    "duration": 513,
    "start_time": "2023-11-19T15:03:35.521Z"
   },
   {
    "duration": 9,
    "start_time": "2023-11-19T15:03:36.035Z"
   },
   {
    "duration": 59,
    "start_time": "2023-11-19T15:03:36.045Z"
   },
   {
    "duration": 10,
    "start_time": "2023-11-19T15:03:36.105Z"
   },
   {
    "duration": 14,
    "start_time": "2023-11-19T15:03:36.116Z"
   },
   {
    "duration": 10,
    "start_time": "2023-11-19T15:03:36.132Z"
   },
   {
    "duration": 585,
    "start_time": "2023-11-19T15:03:36.144Z"
   },
   {
    "duration": 136,
    "start_time": "2023-11-19T15:03:36.731Z"
   },
   {
    "duration": 0,
    "start_time": "2023-11-19T15:03:36.869Z"
   },
   {
    "duration": 0,
    "start_time": "2023-11-19T15:03:36.870Z"
   },
   {
    "duration": 0,
    "start_time": "2023-11-19T15:03:36.871Z"
   },
   {
    "duration": 0,
    "start_time": "2023-11-19T15:03:36.872Z"
   },
   {
    "duration": 0,
    "start_time": "2023-11-19T15:03:36.873Z"
   },
   {
    "duration": 0,
    "start_time": "2023-11-19T15:03:36.874Z"
   },
   {
    "duration": 0,
    "start_time": "2023-11-19T15:03:36.875Z"
   },
   {
    "duration": 0,
    "start_time": "2023-11-19T15:03:36.876Z"
   },
   {
    "duration": 0,
    "start_time": "2023-11-19T15:03:36.877Z"
   },
   {
    "duration": 0,
    "start_time": "2023-11-19T15:03:36.878Z"
   },
   {
    "duration": 9,
    "start_time": "2023-11-19T15:03:46.619Z"
   },
   {
    "duration": 9,
    "start_time": "2023-11-19T15:04:19.697Z"
   },
   {
    "duration": 5,
    "start_time": "2023-11-19T15:06:49.776Z"
   },
   {
    "duration": 3,
    "start_time": "2023-11-19T15:06:51.795Z"
   },
   {
    "duration": 5,
    "start_time": "2023-11-19T15:06:57.628Z"
   },
   {
    "duration": 1696,
    "start_time": "2023-11-19T15:06:58.810Z"
   },
   {
    "duration": 10,
    "start_time": "2023-11-19T15:07:07.126Z"
   },
   {
    "duration": 4,
    "start_time": "2023-11-19T15:07:15.092Z"
   },
   {
    "duration": 1316,
    "start_time": "2023-11-19T15:07:15.723Z"
   },
   {
    "duration": 4,
    "start_time": "2023-11-19T15:07:20.941Z"
   },
   {
    "duration": 4,
    "start_time": "2023-11-19T15:07:28.674Z"
   },
   {
    "duration": 1352,
    "start_time": "2023-11-19T15:07:29.040Z"
   },
   {
    "duration": 4,
    "start_time": "2023-11-19T15:07:32.003Z"
   },
   {
    "duration": 5,
    "start_time": "2023-11-19T15:07:34.556Z"
   },
   {
    "duration": 1500,
    "start_time": "2023-11-19T15:07:34.874Z"
   },
   {
    "duration": 4,
    "start_time": "2023-11-19T15:07:38.387Z"
   },
   {
    "duration": 3,
    "start_time": "2023-11-19T15:07:55.525Z"
   },
   {
    "duration": 5,
    "start_time": "2023-11-19T15:07:57.492Z"
   },
   {
    "duration": 1273,
    "start_time": "2023-11-19T15:07:57.911Z"
   },
   {
    "duration": 5,
    "start_time": "2023-11-19T15:08:13.180Z"
   },
   {
    "duration": 1443,
    "start_time": "2023-11-19T15:08:13.379Z"
   },
   {
    "duration": 40,
    "start_time": "2023-11-19T15:09:06.416Z"
   },
   {
    "duration": 30940,
    "start_time": "2023-11-19T15:09:20.438Z"
   },
   {
    "duration": 22,
    "start_time": "2023-11-19T15:09:51.381Z"
   },
   {
    "duration": 18938,
    "start_time": "2023-11-19T15:10:28.205Z"
   },
   {
    "duration": 19,
    "start_time": "2023-11-19T15:10:47.145Z"
   },
   {
    "duration": 19002,
    "start_time": "2023-11-19T15:11:11.077Z"
   },
   {
    "duration": 22590,
    "start_time": "2023-11-19T15:12:29.810Z"
   },
   {
    "duration": 21402,
    "start_time": "2023-11-19T15:13:11.848Z"
   },
   {
    "duration": 16905,
    "start_time": "2023-11-19T15:14:59.236Z"
   },
   {
    "duration": 21,
    "start_time": "2023-11-19T15:15:22.583Z"
   },
   {
    "duration": 55,
    "start_time": "2023-11-19T15:15:40.329Z"
   },
   {
    "duration": 5,
    "start_time": "2023-11-19T15:18:32.506Z"
   },
   {
    "duration": 1478,
    "start_time": "2023-11-19T15:18:42.267Z"
   },
   {
    "duration": 5,
    "start_time": "2023-11-19T15:19:14.776Z"
   },
   {
    "duration": 1186,
    "start_time": "2023-11-19T15:19:15.159Z"
   },
   {
    "duration": 6,
    "start_time": "2023-11-19T15:19:20.988Z"
   },
   {
    "duration": 1734,
    "start_time": "2023-11-19T15:19:21.147Z"
   },
   {
    "duration": 5,
    "start_time": "2023-11-19T15:22:18.258Z"
   },
   {
    "duration": 1322,
    "start_time": "2023-11-19T15:22:18.848Z"
   },
   {
    "duration": 23,
    "start_time": "2023-11-19T15:34:13.303Z"
   },
   {
    "duration": 5,
    "start_time": "2023-11-19T15:34:20.174Z"
   },
   {
    "duration": 3,
    "start_time": "2023-11-19T15:34:57.502Z"
   },
   {
    "duration": 9,
    "start_time": "2023-11-19T15:38:33.962Z"
   },
   {
    "duration": 5,
    "start_time": "2023-11-19T15:41:01.173Z"
   },
   {
    "duration": 6,
    "start_time": "2023-11-19T15:43:43.617Z"
   },
   {
    "duration": 23,
    "start_time": "2023-11-19T15:43:53.724Z"
   },
   {
    "duration": 7,
    "start_time": "2023-11-19T15:44:11.994Z"
   },
   {
    "duration": 49,
    "start_time": "2023-11-19T15:44:12.469Z"
   },
   {
    "duration": 5,
    "start_time": "2023-11-19T15:45:04.508Z"
   },
   {
    "duration": 38926,
    "start_time": "2023-11-19T15:45:05.197Z"
   },
   {
    "duration": 13,
    "start_time": "2023-11-19T15:46:03.569Z"
   },
   {
    "duration": 4,
    "start_time": "2023-11-19T15:46:09.926Z"
   },
   {
    "duration": 5,
    "start_time": "2023-11-19T15:47:55.622Z"
   },
   {
    "duration": 84,
    "start_time": "2023-11-19T15:54:16.853Z"
   },
   {
    "duration": 5,
    "start_time": "2023-11-19T15:54:25.536Z"
   },
   {
    "duration": 31,
    "start_time": "2023-11-19T15:54:56.122Z"
   },
   {
    "duration": 6,
    "start_time": "2023-11-19T15:55:04.785Z"
   },
   {
    "duration": 58,
    "start_time": "2023-11-19T15:55:05.178Z"
   },
   {
    "duration": 5,
    "start_time": "2023-11-19T15:57:11.522Z"
   },
   {
    "duration": 36,
    "start_time": "2023-11-19T15:57:11.715Z"
   },
   {
    "duration": 5,
    "start_time": "2023-11-19T15:57:29.734Z"
   },
   {
    "duration": 46,
    "start_time": "2023-11-19T15:57:29.998Z"
   },
   {
    "duration": 4,
    "start_time": "2023-11-19T15:58:08.491Z"
   },
   {
    "duration": 14,
    "start_time": "2023-11-19T15:58:08.717Z"
   },
   {
    "duration": 5,
    "start_time": "2023-11-19T15:58:16.980Z"
   },
   {
    "duration": 18,
    "start_time": "2023-11-19T15:58:17.405Z"
   },
   {
    "duration": 4,
    "start_time": "2023-11-19T15:58:49.672Z"
   },
   {
    "duration": 30,
    "start_time": "2023-11-19T16:01:42.067Z"
   },
   {
    "duration": 5,
    "start_time": "2023-11-19T16:06:44.537Z"
   },
   {
    "duration": 11153,
    "start_time": "2023-11-19T16:08:33.544Z"
   },
   {
    "duration": 1625,
    "start_time": "2023-11-19T16:08:44.699Z"
   },
   {
    "duration": 3,
    "start_time": "2023-11-19T16:08:46.326Z"
   },
   {
    "duration": 53,
    "start_time": "2023-11-19T16:08:46.331Z"
   },
   {
    "duration": 11,
    "start_time": "2023-11-19T16:08:46.385Z"
   },
   {
    "duration": 10,
    "start_time": "2023-11-19T16:08:46.397Z"
   },
   {
    "duration": 4,
    "start_time": "2023-11-19T16:08:46.408Z"
   },
   {
    "duration": 6,
    "start_time": "2023-11-19T16:08:46.414Z"
   },
   {
    "duration": 4,
    "start_time": "2023-11-19T16:08:46.421Z"
   },
   {
    "duration": 4,
    "start_time": "2023-11-19T16:08:46.428Z"
   },
   {
    "duration": 5,
    "start_time": "2023-11-19T16:08:46.433Z"
   },
   {
    "duration": 4,
    "start_time": "2023-11-19T16:08:46.439Z"
   },
   {
    "duration": 15,
    "start_time": "2023-11-19T16:08:46.444Z"
   },
   {
    "duration": 1337,
    "start_time": "2023-11-19T16:08:46.460Z"
   },
   {
    "duration": 8,
    "start_time": "2023-11-19T16:08:47.799Z"
   },
   {
    "duration": 13,
    "start_time": "2023-11-19T16:08:47.818Z"
   },
   {
    "duration": 416,
    "start_time": "2023-11-19T16:08:47.833Z"
   },
   {
    "duration": 5,
    "start_time": "2023-11-19T16:08:48.251Z"
   },
   {
    "duration": 371,
    "start_time": "2023-11-19T16:08:48.258Z"
   },
   {
    "duration": 398,
    "start_time": "2023-11-19T16:08:48.630Z"
   },
   {
    "duration": 405,
    "start_time": "2023-11-19T16:08:49.029Z"
   },
   {
    "duration": 233,
    "start_time": "2023-11-19T16:08:49.436Z"
   },
   {
    "duration": 9,
    "start_time": "2023-11-19T16:08:49.671Z"
   },
   {
    "duration": 245,
    "start_time": "2023-11-19T16:08:49.681Z"
   },
   {
    "duration": 5,
    "start_time": "2023-11-19T16:08:49.927Z"
   },
   {
    "duration": 662,
    "start_time": "2023-11-19T16:08:49.934Z"
   },
   {
    "duration": 4,
    "start_time": "2023-11-19T16:08:50.597Z"
   },
   {
    "duration": 9,
    "start_time": "2023-11-19T16:08:50.604Z"
   },
   {
    "duration": 1809,
    "start_time": "2023-11-19T16:08:50.614Z"
   },
   {
    "duration": 628,
    "start_time": "2023-11-19T16:08:52.425Z"
   },
   {
    "duration": 8,
    "start_time": "2023-11-19T16:08:53.054Z"
   },
   {
    "duration": 18,
    "start_time": "2023-11-19T16:08:53.063Z"
   },
   {
    "duration": 14,
    "start_time": "2023-11-19T16:08:53.083Z"
   },
   {
    "duration": 13,
    "start_time": "2023-11-19T16:08:53.099Z"
   },
   {
    "duration": 506,
    "start_time": "2023-11-19T16:08:53.114Z"
   },
   {
    "duration": 5,
    "start_time": "2023-11-19T16:08:53.621Z"
   },
   {
    "duration": 19,
    "start_time": "2023-11-19T16:08:53.627Z"
   },
   {
    "duration": 16,
    "start_time": "2023-11-19T16:08:53.647Z"
   },
   {
    "duration": 1282,
    "start_time": "2023-11-19T16:08:53.664Z"
   },
   {
    "duration": 4,
    "start_time": "2023-11-19T16:08:54.947Z"
   },
   {
    "duration": 11,
    "start_time": "2023-11-19T16:08:54.953Z"
   },
   {
    "duration": 7,
    "start_time": "2023-11-19T16:08:54.965Z"
   },
   {
    "duration": 4131,
    "start_time": "2023-11-19T16:08:54.973Z"
   },
   {
    "duration": 12,
    "start_time": "2023-11-19T16:08:59.106Z"
   },
   {
    "duration": 3,
    "start_time": "2023-11-19T16:08:59.120Z"
   },
   {
    "duration": 9,
    "start_time": "2023-11-19T16:08:59.125Z"
   },
   {
    "duration": 1601,
    "start_time": "2023-11-19T16:08:59.136Z"
   },
   {
    "duration": 4,
    "start_time": "2023-11-19T16:09:00.739Z"
   },
   {
    "duration": 38,
    "start_time": "2023-11-19T16:09:00.744Z"
   },
   {
    "duration": 5,
    "start_time": "2023-11-19T16:10:01.372Z"
   },
   {
    "duration": 1941,
    "start_time": "2023-11-19T16:10:02.310Z"
   },
   {
    "duration": 10468,
    "start_time": "2023-11-19T16:10:43.796Z"
   },
   {
    "duration": 1549,
    "start_time": "2023-11-19T16:10:54.266Z"
   },
   {
    "duration": 4,
    "start_time": "2023-11-19T16:10:55.818Z"
   },
   {
    "duration": 56,
    "start_time": "2023-11-19T16:10:55.824Z"
   },
   {
    "duration": 11,
    "start_time": "2023-11-19T16:10:55.882Z"
   },
   {
    "duration": 15,
    "start_time": "2023-11-19T16:10:55.894Z"
   },
   {
    "duration": 3,
    "start_time": "2023-11-19T16:10:55.910Z"
   },
   {
    "duration": 20,
    "start_time": "2023-11-19T16:10:55.915Z"
   },
   {
    "duration": 7,
    "start_time": "2023-11-19T16:10:55.936Z"
   },
   {
    "duration": 4,
    "start_time": "2023-11-19T16:10:55.946Z"
   },
   {
    "duration": 5,
    "start_time": "2023-11-19T16:10:55.951Z"
   },
   {
    "duration": 4,
    "start_time": "2023-11-19T16:10:55.958Z"
   },
   {
    "duration": 17,
    "start_time": "2023-11-19T16:10:55.963Z"
   },
   {
    "duration": 1344,
    "start_time": "2023-11-19T16:10:55.981Z"
   },
   {
    "duration": 9,
    "start_time": "2023-11-19T16:10:57.326Z"
   },
   {
    "duration": 16,
    "start_time": "2023-11-19T16:10:57.336Z"
   },
   {
    "duration": 453,
    "start_time": "2023-11-19T16:10:57.354Z"
   },
   {
    "duration": 11,
    "start_time": "2023-11-19T16:10:57.809Z"
   },
   {
    "duration": 375,
    "start_time": "2023-11-19T16:10:57.822Z"
   },
   {
    "duration": 388,
    "start_time": "2023-11-19T16:10:58.198Z"
   },
   {
    "duration": 420,
    "start_time": "2023-11-19T16:10:58.587Z"
   },
   {
    "duration": 249,
    "start_time": "2023-11-19T16:10:59.009Z"
   },
   {
    "duration": 8,
    "start_time": "2023-11-19T16:10:59.260Z"
   },
   {
    "duration": 258,
    "start_time": "2023-11-19T16:10:59.269Z"
   },
   {
    "duration": 6,
    "start_time": "2023-11-19T16:10:59.528Z"
   },
   {
    "duration": 628,
    "start_time": "2023-11-19T16:10:59.535Z"
   },
   {
    "duration": 3,
    "start_time": "2023-11-19T16:11:00.165Z"
   },
   {
    "duration": 31,
    "start_time": "2023-11-19T16:11:00.171Z"
   },
   {
    "duration": 1818,
    "start_time": "2023-11-19T16:11:00.204Z"
   },
   {
    "duration": 618,
    "start_time": "2023-11-19T16:11:02.024Z"
   },
   {
    "duration": 8,
    "start_time": "2023-11-19T16:11:02.644Z"
   },
   {
    "duration": 35,
    "start_time": "2023-11-19T16:11:02.654Z"
   },
   {
    "duration": 37,
    "start_time": "2023-11-19T16:11:02.690Z"
   },
   {
    "duration": 70,
    "start_time": "2023-11-19T16:11:02.728Z"
   },
   {
    "duration": 562,
    "start_time": "2023-11-19T16:11:02.800Z"
   },
   {
    "duration": 5,
    "start_time": "2023-11-19T16:11:03.364Z"
   },
   {
    "duration": 113,
    "start_time": "2023-11-19T16:11:03.371Z"
   },
   {
    "duration": 47,
    "start_time": "2023-11-19T16:11:03.485Z"
   },
   {
    "duration": 3204,
    "start_time": "2023-11-19T16:11:03.534Z"
   },
   {
    "duration": 4,
    "start_time": "2023-11-19T16:11:06.740Z"
   },
   {
    "duration": 48,
    "start_time": "2023-11-19T16:11:06.745Z"
   },
   {
    "duration": 20,
    "start_time": "2023-11-19T16:11:06.795Z"
   },
   {
    "duration": 3283,
    "start_time": "2023-11-19T16:11:06.817Z"
   },
   {
    "duration": 4,
    "start_time": "2023-11-19T16:11:10.102Z"
   },
   {
    "duration": 2,
    "start_time": "2023-11-19T16:11:10.119Z"
   },
   {
    "duration": 6,
    "start_time": "2023-11-19T16:11:10.123Z"
   },
   {
    "duration": 2765,
    "start_time": "2023-11-19T16:11:10.131Z"
   },
   {
    "duration": 3,
    "start_time": "2023-11-19T16:11:12.897Z"
   },
   {
    "duration": 17,
    "start_time": "2023-11-19T16:11:12.902Z"
   },
   {
    "duration": 5,
    "start_time": "2023-11-19T16:14:20.157Z"
   },
   {
    "duration": 3084,
    "start_time": "2023-11-19T16:14:20.603Z"
   },
   {
    "duration": 4,
    "start_time": "2023-11-19T16:14:29.485Z"
   },
   {
    "duration": 3,
    "start_time": "2023-11-19T16:14:33.095Z"
   },
   {
    "duration": 10459,
    "start_time": "2023-11-19T16:15:45.078Z"
   },
   {
    "duration": 1574,
    "start_time": "2023-11-19T16:15:55.539Z"
   },
   {
    "duration": 4,
    "start_time": "2023-11-19T16:15:57.115Z"
   },
   {
    "duration": 56,
    "start_time": "2023-11-19T16:15:57.120Z"
   },
   {
    "duration": 11,
    "start_time": "2023-11-19T16:15:57.177Z"
   },
   {
    "duration": 10,
    "start_time": "2023-11-19T16:15:57.189Z"
   },
   {
    "duration": 3,
    "start_time": "2023-11-19T16:15:57.200Z"
   },
   {
    "duration": 5,
    "start_time": "2023-11-19T16:15:57.204Z"
   },
   {
    "duration": 8,
    "start_time": "2023-11-19T16:15:57.210Z"
   },
   {
    "duration": 4,
    "start_time": "2023-11-19T16:15:57.220Z"
   },
   {
    "duration": 5,
    "start_time": "2023-11-19T16:15:57.225Z"
   },
   {
    "duration": 4,
    "start_time": "2023-11-19T16:15:57.232Z"
   },
   {
    "duration": 21,
    "start_time": "2023-11-19T16:15:57.237Z"
   },
   {
    "duration": 1361,
    "start_time": "2023-11-19T16:15:57.259Z"
   },
   {
    "duration": 9,
    "start_time": "2023-11-19T16:15:58.622Z"
   },
   {
    "duration": 15,
    "start_time": "2023-11-19T16:15:58.633Z"
   },
   {
    "duration": 434,
    "start_time": "2023-11-19T16:15:58.649Z"
   },
   {
    "duration": 6,
    "start_time": "2023-11-19T16:15:59.084Z"
   },
   {
    "duration": 383,
    "start_time": "2023-11-19T16:15:59.092Z"
   },
   {
    "duration": 417,
    "start_time": "2023-11-19T16:15:59.476Z"
   },
   {
    "duration": 398,
    "start_time": "2023-11-19T16:15:59.895Z"
   },
   {
    "duration": 250,
    "start_time": "2023-11-19T16:16:00.294Z"
   },
   {
    "duration": 8,
    "start_time": "2023-11-19T16:16:00.545Z"
   },
   {
    "duration": 346,
    "start_time": "2023-11-19T16:16:00.554Z"
   },
   {
    "duration": 6,
    "start_time": "2023-11-19T16:16:00.901Z"
   },
   {
    "duration": 663,
    "start_time": "2023-11-19T16:16:00.909Z"
   },
   {
    "duration": 4,
    "start_time": "2023-11-19T16:16:01.573Z"
   },
   {
    "duration": 32,
    "start_time": "2023-11-19T16:16:01.580Z"
   },
   {
    "duration": 1813,
    "start_time": "2023-11-19T16:16:01.614Z"
   },
   {
    "duration": 601,
    "start_time": "2023-11-19T16:16:03.429Z"
   },
   {
    "duration": 9,
    "start_time": "2023-11-19T16:16:04.031Z"
   },
   {
    "duration": 112,
    "start_time": "2023-11-19T16:16:04.042Z"
   },
   {
    "duration": 9,
    "start_time": "2023-11-19T16:16:04.156Z"
   },
   {
    "duration": 54,
    "start_time": "2023-11-19T16:16:04.166Z"
   },
   {
    "duration": 1108,
    "start_time": "2023-11-19T16:16:04.222Z"
   },
   {
    "duration": 5,
    "start_time": "2023-11-19T16:16:05.332Z"
   },
   {
    "duration": 18,
    "start_time": "2023-11-19T16:16:05.339Z"
   },
   {
    "duration": 10,
    "start_time": "2023-11-19T16:16:05.359Z"
   },
   {
    "duration": 2714,
    "start_time": "2023-11-19T16:16:05.370Z"
   },
   {
    "duration": 4,
    "start_time": "2023-11-19T16:16:08.086Z"
   },
   {
    "duration": 7,
    "start_time": "2023-11-19T16:16:08.091Z"
   },
   {
    "duration": 19,
    "start_time": "2023-11-19T16:16:08.099Z"
   },
   {
    "duration": 3814,
    "start_time": "2023-11-19T16:16:08.120Z"
   },
   {
    "duration": 4,
    "start_time": "2023-11-19T16:16:11.935Z"
   },
   {
    "duration": 8,
    "start_time": "2023-11-19T16:16:11.940Z"
   },
   {
    "duration": 5,
    "start_time": "2023-11-19T16:16:11.949Z"
   },
   {
    "duration": 4628,
    "start_time": "2023-11-19T16:16:11.956Z"
   },
   {
    "duration": 4,
    "start_time": "2023-11-19T16:16:16.585Z"
   },
   {
    "duration": 11,
    "start_time": "2023-11-19T16:16:16.590Z"
   },
   {
    "duration": 10456,
    "start_time": "2023-11-19T16:16:48.293Z"
   },
   {
    "duration": 1584,
    "start_time": "2023-11-19T16:16:58.752Z"
   },
   {
    "duration": 3,
    "start_time": "2023-11-19T16:17:00.338Z"
   },
   {
    "duration": 94,
    "start_time": "2023-11-19T16:17:00.344Z"
   },
   {
    "duration": 17,
    "start_time": "2023-11-19T16:17:00.440Z"
   },
   {
    "duration": 59,
    "start_time": "2023-11-19T16:17:00.459Z"
   },
   {
    "duration": 36,
    "start_time": "2023-11-19T16:17:00.520Z"
   },
   {
    "duration": 63,
    "start_time": "2023-11-19T16:17:00.558Z"
   },
   {
    "duration": 58,
    "start_time": "2023-11-19T16:17:00.622Z"
   },
   {
    "duration": 43,
    "start_time": "2023-11-19T16:17:00.684Z"
   },
   {
    "duration": 30,
    "start_time": "2023-11-19T16:17:00.729Z"
   },
   {
    "duration": 47,
    "start_time": "2023-11-19T16:17:00.761Z"
   },
   {
    "duration": 45,
    "start_time": "2023-11-19T16:17:00.810Z"
   },
   {
    "duration": 1351,
    "start_time": "2023-11-19T16:17:00.857Z"
   },
   {
    "duration": 15,
    "start_time": "2023-11-19T16:17:02.210Z"
   },
   {
    "duration": 57,
    "start_time": "2023-11-19T16:17:02.227Z"
   },
   {
    "duration": 489,
    "start_time": "2023-11-19T16:17:02.286Z"
   },
   {
    "duration": 7,
    "start_time": "2023-11-19T16:17:02.777Z"
   },
   {
    "duration": 435,
    "start_time": "2023-11-19T16:17:02.785Z"
   },
   {
    "duration": 421,
    "start_time": "2023-11-19T16:17:03.222Z"
   },
   {
    "duration": 434,
    "start_time": "2023-11-19T16:17:03.646Z"
   },
   {
    "duration": 282,
    "start_time": "2023-11-19T16:17:04.082Z"
   },
   {
    "duration": 8,
    "start_time": "2023-11-19T16:17:04.365Z"
   },
   {
    "duration": 268,
    "start_time": "2023-11-19T16:17:04.374Z"
   },
   {
    "duration": 6,
    "start_time": "2023-11-19T16:17:04.644Z"
   },
   {
    "duration": 657,
    "start_time": "2023-11-19T16:17:04.651Z"
   },
   {
    "duration": 5,
    "start_time": "2023-11-19T16:17:05.309Z"
   },
   {
    "duration": 11,
    "start_time": "2023-11-19T16:17:05.317Z"
   },
   {
    "duration": 2493,
    "start_time": "2023-11-19T16:17:05.330Z"
   },
   {
    "duration": 607,
    "start_time": "2023-11-19T16:17:07.825Z"
   },
   {
    "duration": 3,
    "start_time": "2023-11-19T16:17:08.434Z"
   },
   {
    "duration": 526,
    "start_time": "2023-11-19T16:17:08.439Z"
   },
   {
    "duration": 6,
    "start_time": "2023-11-19T16:17:08.966Z"
   },
   {
    "duration": 12,
    "start_time": "2023-11-19T16:17:08.974Z"
   },
   {
    "duration": 13,
    "start_time": "2023-11-19T16:17:08.988Z"
   },
   {
    "duration": 3303,
    "start_time": "2023-11-19T16:17:09.002Z"
   },
   {
    "duration": 11,
    "start_time": "2023-11-19T16:17:12.307Z"
   },
   {
    "duration": 3,
    "start_time": "2023-11-19T16:17:12.320Z"
   },
   {
    "duration": 16,
    "start_time": "2023-11-19T16:17:12.324Z"
   },
   {
    "duration": 4352,
    "start_time": "2023-11-19T16:17:12.341Z"
   },
   {
    "duration": 4,
    "start_time": "2023-11-19T16:17:16.695Z"
   },
   {
    "duration": 17,
    "start_time": "2023-11-19T16:17:16.701Z"
   },
   {
    "duration": 12,
    "start_time": "2023-11-19T16:17:16.720Z"
   },
   {
    "duration": 4163,
    "start_time": "2023-11-19T16:17:16.734Z"
   },
   {
    "duration": 4,
    "start_time": "2023-11-19T16:17:20.898Z"
   },
   {
    "duration": 64,
    "start_time": "2023-11-19T16:17:20.903Z"
   },
   {
    "duration": 3,
    "start_time": "2023-11-19T16:18:21.025Z"
   },
   {
    "duration": 4,
    "start_time": "2023-11-19T16:19:51.984Z"
   },
   {
    "duration": 2814,
    "start_time": "2023-11-19T16:19:56.622Z"
   },
   {
    "duration": 5,
    "start_time": "2023-11-19T16:20:08.435Z"
   },
   {
    "duration": 10634,
    "start_time": "2023-11-19T16:21:52.914Z"
   },
   {
    "duration": 1687,
    "start_time": "2023-11-19T16:22:03.551Z"
   },
   {
    "duration": 4,
    "start_time": "2023-11-19T16:22:05.240Z"
   },
   {
    "duration": 76,
    "start_time": "2023-11-19T16:22:05.245Z"
   },
   {
    "duration": 11,
    "start_time": "2023-11-19T16:22:05.324Z"
   },
   {
    "duration": 25,
    "start_time": "2023-11-19T16:22:05.337Z"
   },
   {
    "duration": 33,
    "start_time": "2023-11-19T16:22:05.363Z"
   },
   {
    "duration": 56,
    "start_time": "2023-11-19T16:22:05.398Z"
   },
   {
    "duration": 45,
    "start_time": "2023-11-19T16:22:05.456Z"
   },
   {
    "duration": 56,
    "start_time": "2023-11-19T16:22:05.503Z"
   },
   {
    "duration": 26,
    "start_time": "2023-11-19T16:22:05.561Z"
   },
   {
    "duration": 61,
    "start_time": "2023-11-19T16:22:05.588Z"
   },
   {
    "duration": 85,
    "start_time": "2023-11-19T16:22:05.650Z"
   },
   {
    "duration": 1405,
    "start_time": "2023-11-19T16:22:05.738Z"
   },
   {
    "duration": 9,
    "start_time": "2023-11-19T16:22:07.145Z"
   },
   {
    "duration": 20,
    "start_time": "2023-11-19T16:22:07.156Z"
   },
   {
    "duration": 453,
    "start_time": "2023-11-19T16:22:07.178Z"
   },
   {
    "duration": 12,
    "start_time": "2023-11-19T16:22:07.633Z"
   },
   {
    "duration": 422,
    "start_time": "2023-11-19T16:22:07.647Z"
   },
   {
    "duration": 399,
    "start_time": "2023-11-19T16:22:08.071Z"
   },
   {
    "duration": 415,
    "start_time": "2023-11-19T16:22:08.472Z"
   },
   {
    "duration": 248,
    "start_time": "2023-11-19T16:22:08.888Z"
   },
   {
    "duration": 8,
    "start_time": "2023-11-19T16:22:09.138Z"
   },
   {
    "duration": 243,
    "start_time": "2023-11-19T16:22:09.148Z"
   },
   {
    "duration": 6,
    "start_time": "2023-11-19T16:22:09.392Z"
   },
   {
    "duration": 653,
    "start_time": "2023-11-19T16:22:09.399Z"
   },
   {
    "duration": 4,
    "start_time": "2023-11-19T16:22:10.053Z"
   },
   {
    "duration": 18,
    "start_time": "2023-11-19T16:22:10.059Z"
   },
   {
    "duration": 1645,
    "start_time": "2023-11-19T16:22:10.078Z"
   },
   {
    "duration": 654,
    "start_time": "2023-11-19T16:22:11.725Z"
   },
   {
    "duration": 4,
    "start_time": "2023-11-19T16:22:12.381Z"
   },
   {
    "duration": 574,
    "start_time": "2023-11-19T16:22:12.387Z"
   },
   {
    "duration": 6,
    "start_time": "2023-11-19T16:22:12.963Z"
   },
   {
    "duration": 4,
    "start_time": "2023-11-19T16:22:12.971Z"
   },
   {
    "duration": 9,
    "start_time": "2023-11-19T16:22:12.976Z"
   },
   {
    "duration": 1481,
    "start_time": "2023-11-19T16:22:12.987Z"
   },
   {
    "duration": 4,
    "start_time": "2023-11-19T16:22:14.470Z"
   },
   {
    "duration": 7,
    "start_time": "2023-11-19T16:22:14.476Z"
   },
   {
    "duration": 6,
    "start_time": "2023-11-19T16:22:14.484Z"
   },
   {
    "duration": 78050,
    "start_time": "2023-11-19T16:22:14.492Z"
   },
   {
    "duration": 4,
    "start_time": "2023-11-19T16:23:32.548Z"
   },
   {
    "duration": 40,
    "start_time": "2023-11-19T16:23:32.553Z"
   },
   {
    "duration": 22,
    "start_time": "2023-11-19T16:23:32.595Z"
   },
   {
    "duration": 1501,
    "start_time": "2023-11-19T16:23:32.619Z"
   },
   {
    "duration": 0,
    "start_time": "2023-11-19T16:23:34.123Z"
   },
   {
    "duration": 0,
    "start_time": "2023-11-19T16:23:34.124Z"
   },
   {
    "duration": 0,
    "start_time": "2023-11-19T16:23:34.126Z"
   },
   {
    "duration": 4,
    "start_time": "2023-11-19T16:27:22.620Z"
   },
   {
    "duration": 11,
    "start_time": "2023-11-19T16:27:26.355Z"
   },
   {
    "duration": 4,
    "start_time": "2023-11-19T16:27:29.323Z"
   },
   {
    "duration": 15,
    "start_time": "2023-11-19T16:30:45.615Z"
   },
   {
    "duration": 3,
    "start_time": "2023-11-19T16:31:19.585Z"
   },
   {
    "duration": 5,
    "start_time": "2023-11-19T16:31:27.368Z"
   },
   {
    "duration": 10679,
    "start_time": "2023-11-19T16:40:10.680Z"
   },
   {
    "duration": 1595,
    "start_time": "2023-11-19T16:40:21.361Z"
   },
   {
    "duration": 2,
    "start_time": "2023-11-19T16:40:22.958Z"
   },
   {
    "duration": 55,
    "start_time": "2023-11-19T16:40:22.962Z"
   },
   {
    "duration": 11,
    "start_time": "2023-11-19T16:40:23.019Z"
   },
   {
    "duration": 10,
    "start_time": "2023-11-19T16:40:23.031Z"
   },
   {
    "duration": 3,
    "start_time": "2023-11-19T16:40:23.043Z"
   },
   {
    "duration": 4,
    "start_time": "2023-11-19T16:40:23.048Z"
   },
   {
    "duration": 10,
    "start_time": "2023-11-19T16:40:23.053Z"
   },
   {
    "duration": 23,
    "start_time": "2023-11-19T16:40:23.065Z"
   },
   {
    "duration": 5,
    "start_time": "2023-11-19T16:40:23.089Z"
   },
   {
    "duration": 4,
    "start_time": "2023-11-19T16:40:23.095Z"
   },
   {
    "duration": 29,
    "start_time": "2023-11-19T16:40:23.101Z"
   },
   {
    "duration": 1372,
    "start_time": "2023-11-19T16:40:23.132Z"
   },
   {
    "duration": 15,
    "start_time": "2023-11-19T16:40:24.505Z"
   },
   {
    "duration": 16,
    "start_time": "2023-11-19T16:40:24.521Z"
   },
   {
    "duration": 435,
    "start_time": "2023-11-19T16:40:24.538Z"
   },
   {
    "duration": 6,
    "start_time": "2023-11-19T16:40:24.975Z"
   },
   {
    "duration": 380,
    "start_time": "2023-11-19T16:40:24.983Z"
   },
   {
    "duration": 387,
    "start_time": "2023-11-19T16:40:25.365Z"
   },
   {
    "duration": 428,
    "start_time": "2023-11-19T16:40:25.754Z"
   },
   {
    "duration": 231,
    "start_time": "2023-11-19T16:40:26.184Z"
   },
   {
    "duration": 8,
    "start_time": "2023-11-19T16:40:26.418Z"
   },
   {
    "duration": 248,
    "start_time": "2023-11-19T16:40:26.427Z"
   },
   {
    "duration": 6,
    "start_time": "2023-11-19T16:40:26.676Z"
   },
   {
    "duration": 628,
    "start_time": "2023-11-19T16:40:26.683Z"
   },
   {
    "duration": 4,
    "start_time": "2023-11-19T16:40:27.313Z"
   },
   {
    "duration": 7,
    "start_time": "2023-11-19T16:40:27.320Z"
   },
   {
    "duration": 3300,
    "start_time": "2023-11-19T16:40:27.328Z"
   },
   {
    "duration": 608,
    "start_time": "2023-11-19T16:40:30.630Z"
   },
   {
    "duration": 4,
    "start_time": "2023-11-19T16:40:31.239Z"
   },
   {
    "duration": 557,
    "start_time": "2023-11-19T16:40:31.245Z"
   },
   {
    "duration": 5,
    "start_time": "2023-11-19T16:40:31.804Z"
   },
   {
    "duration": 20,
    "start_time": "2023-11-19T16:40:31.817Z"
   },
   {
    "duration": 22,
    "start_time": "2023-11-19T16:40:31.838Z"
   },
   {
    "duration": 1625,
    "start_time": "2023-11-19T16:40:31.862Z"
   },
   {
    "duration": 5,
    "start_time": "2023-11-19T16:40:33.490Z"
   },
   {
    "duration": 9,
    "start_time": "2023-11-19T16:40:33.496Z"
   },
   {
    "duration": 13,
    "start_time": "2023-11-19T16:40:33.507Z"
   },
   {
    "duration": 90570,
    "start_time": "2023-11-19T16:40:33.522Z"
   },
   {
    "duration": 4,
    "start_time": "2023-11-19T16:42:04.094Z"
   },
   {
    "duration": 13,
    "start_time": "2023-11-19T16:42:04.100Z"
   },
   {
    "duration": 2,
    "start_time": "2023-11-19T16:42:04.119Z"
   },
   {
    "duration": 26,
    "start_time": "2023-11-19T16:42:04.123Z"
   },
   {
    "duration": 10699,
    "start_time": "2023-11-19T16:43:28.257Z"
   },
   {
    "duration": 1604,
    "start_time": "2023-11-19T16:43:38.958Z"
   },
   {
    "duration": 4,
    "start_time": "2023-11-19T16:43:40.563Z"
   },
   {
    "duration": 74,
    "start_time": "2023-11-19T16:43:40.568Z"
   },
   {
    "duration": 12,
    "start_time": "2023-11-19T16:43:40.645Z"
   },
   {
    "duration": 14,
    "start_time": "2023-11-19T16:43:40.659Z"
   },
   {
    "duration": 4,
    "start_time": "2023-11-19T16:43:40.675Z"
   },
   {
    "duration": 8,
    "start_time": "2023-11-19T16:43:40.680Z"
   },
   {
    "duration": 6,
    "start_time": "2023-11-19T16:43:40.689Z"
   },
   {
    "duration": 4,
    "start_time": "2023-11-19T16:43:40.719Z"
   },
   {
    "duration": 8,
    "start_time": "2023-11-19T16:43:40.724Z"
   },
   {
    "duration": 12,
    "start_time": "2023-11-19T16:43:40.733Z"
   },
   {
    "duration": 25,
    "start_time": "2023-11-19T16:43:40.746Z"
   },
   {
    "duration": 1379,
    "start_time": "2023-11-19T16:43:40.775Z"
   },
   {
    "duration": 9,
    "start_time": "2023-11-19T16:43:42.156Z"
   },
   {
    "duration": 19,
    "start_time": "2023-11-19T16:43:42.167Z"
   },
   {
    "duration": 453,
    "start_time": "2023-11-19T16:43:42.188Z"
   },
   {
    "duration": 7,
    "start_time": "2023-11-19T16:43:42.643Z"
   },
   {
    "duration": 403,
    "start_time": "2023-11-19T16:43:42.651Z"
   },
   {
    "duration": 418,
    "start_time": "2023-11-19T16:43:43.055Z"
   },
   {
    "duration": 412,
    "start_time": "2023-11-19T16:43:43.475Z"
   },
   {
    "duration": 236,
    "start_time": "2023-11-19T16:43:43.888Z"
   },
   {
    "duration": 8,
    "start_time": "2023-11-19T16:43:44.125Z"
   },
   {
    "duration": 237,
    "start_time": "2023-11-19T16:43:44.135Z"
   },
   {
    "duration": 6,
    "start_time": "2023-11-19T16:43:44.373Z"
   },
   {
    "duration": 603,
    "start_time": "2023-11-19T16:43:44.380Z"
   },
   {
    "duration": 4,
    "start_time": "2023-11-19T16:43:44.986Z"
   },
   {
    "duration": 4,
    "start_time": "2023-11-19T16:43:44.992Z"
   },
   {
    "duration": 1730,
    "start_time": "2023-11-19T16:43:44.997Z"
   },
   {
    "duration": 586,
    "start_time": "2023-11-19T16:43:46.729Z"
   },
   {
    "duration": 3,
    "start_time": "2023-11-19T16:43:47.319Z"
   },
   {
    "duration": 559,
    "start_time": "2023-11-19T16:43:47.323Z"
   },
   {
    "duration": 5,
    "start_time": "2023-11-19T16:43:47.884Z"
   },
   {
    "duration": 28,
    "start_time": "2023-11-19T16:43:47.890Z"
   },
   {
    "duration": 10,
    "start_time": "2023-11-19T16:43:47.919Z"
   },
   {
    "duration": 1669,
    "start_time": "2023-11-19T16:43:47.931Z"
   },
   {
    "duration": 16,
    "start_time": "2023-11-19T16:43:49.602Z"
   },
   {
    "duration": 23,
    "start_time": "2023-11-19T16:43:49.620Z"
   },
   {
    "duration": 5,
    "start_time": "2023-11-19T16:43:49.645Z"
   },
   {
    "duration": 53909,
    "start_time": "2023-11-19T16:43:49.651Z"
   },
   {
    "duration": 4,
    "start_time": "2023-11-19T16:44:43.564Z"
   },
   {
    "duration": 4,
    "start_time": "2023-11-19T16:44:43.570Z"
   },
   {
    "duration": 4,
    "start_time": "2023-11-19T16:44:43.576Z"
   },
   {
    "duration": 4,
    "start_time": "2023-11-19T16:44:43.582Z"
   },
   {
    "duration": 10405,
    "start_time": "2023-11-19T16:49:30.542Z"
   },
   {
    "duration": 1562,
    "start_time": "2023-11-19T16:49:40.949Z"
   },
   {
    "duration": 7,
    "start_time": "2023-11-19T16:49:42.513Z"
   },
   {
    "duration": 58,
    "start_time": "2023-11-19T16:49:42.522Z"
   },
   {
    "duration": 12,
    "start_time": "2023-11-19T16:49:42.581Z"
   },
   {
    "duration": 10,
    "start_time": "2023-11-19T16:49:42.594Z"
   },
   {
    "duration": 3,
    "start_time": "2023-11-19T16:49:42.605Z"
   },
   {
    "duration": 9,
    "start_time": "2023-11-19T16:49:42.609Z"
   },
   {
    "duration": 4,
    "start_time": "2023-11-19T16:49:42.620Z"
   },
   {
    "duration": 4,
    "start_time": "2023-11-19T16:49:42.626Z"
   },
   {
    "duration": 14,
    "start_time": "2023-11-19T16:49:42.631Z"
   },
   {
    "duration": 5,
    "start_time": "2023-11-19T16:49:42.647Z"
   },
   {
    "duration": 20,
    "start_time": "2023-11-19T16:49:42.654Z"
   },
   {
    "duration": 1383,
    "start_time": "2023-11-19T16:49:42.676Z"
   },
   {
    "duration": 9,
    "start_time": "2023-11-19T16:49:44.060Z"
   },
   {
    "duration": 17,
    "start_time": "2023-11-19T16:49:44.070Z"
   },
   {
    "duration": 437,
    "start_time": "2023-11-19T16:49:44.088Z"
   },
   {
    "duration": 6,
    "start_time": "2023-11-19T16:49:44.527Z"
   },
   {
    "duration": 373,
    "start_time": "2023-11-19T16:49:44.535Z"
   },
   {
    "duration": 391,
    "start_time": "2023-11-19T16:49:44.910Z"
   },
   {
    "duration": 420,
    "start_time": "2023-11-19T16:49:45.302Z"
   },
   {
    "duration": 254,
    "start_time": "2023-11-19T16:49:45.724Z"
   },
   {
    "duration": 8,
    "start_time": "2023-11-19T16:49:45.980Z"
   },
   {
    "duration": 243,
    "start_time": "2023-11-19T16:49:45.990Z"
   },
   {
    "duration": 6,
    "start_time": "2023-11-19T16:49:46.234Z"
   },
   {
    "duration": 615,
    "start_time": "2023-11-19T16:49:46.241Z"
   },
   {
    "duration": 4,
    "start_time": "2023-11-19T16:49:46.857Z"
   },
   {
    "duration": 4,
    "start_time": "2023-11-19T16:49:46.864Z"
   },
   {
    "duration": 1857,
    "start_time": "2023-11-19T16:49:46.869Z"
   },
   {
    "duration": 505,
    "start_time": "2023-11-19T16:49:48.819Z"
   },
   {
    "duration": 4,
    "start_time": "2023-11-19T16:49:49.325Z"
   },
   {
    "duration": 541,
    "start_time": "2023-11-19T16:49:49.330Z"
   },
   {
    "duration": 7,
    "start_time": "2023-11-19T16:49:49.873Z"
   },
   {
    "duration": 16,
    "start_time": "2023-11-19T16:49:49.881Z"
   },
   {
    "duration": 38,
    "start_time": "2023-11-19T16:49:49.899Z"
   },
   {
    "duration": 1849,
    "start_time": "2023-11-19T16:49:49.939Z"
   },
   {
    "duration": 4,
    "start_time": "2023-11-19T16:49:51.790Z"
   },
   {
    "duration": 49,
    "start_time": "2023-11-19T16:49:51.796Z"
   },
   {
    "duration": 6,
    "start_time": "2023-11-19T16:49:51.847Z"
   },
   {
    "duration": 109804,
    "start_time": "2023-11-19T16:49:51.855Z"
   },
   {
    "duration": 3,
    "start_time": "2023-11-19T16:51:41.661Z"
   },
   {
    "duration": 5,
    "start_time": "2023-11-19T16:51:41.666Z"
   },
   {
    "duration": 10,
    "start_time": "2023-11-19T16:51:41.672Z"
   },
   {
    "duration": 189,
    "start_time": "2023-11-19T16:51:41.683Z"
   },
   {
    "duration": 0,
    "start_time": "2023-11-19T16:51:41.874Z"
   },
   {
    "duration": 0,
    "start_time": "2023-11-19T16:51:41.875Z"
   },
   {
    "duration": 0,
    "start_time": "2023-11-19T16:51:41.876Z"
   },
   {
    "duration": 0,
    "start_time": "2023-11-19T16:51:41.877Z"
   },
   {
    "duration": 3,
    "start_time": "2023-11-19T16:51:56.639Z"
   },
   {
    "duration": 7,
    "start_time": "2023-11-19T16:51:59.906Z"
   },
   {
    "duration": 11416,
    "start_time": "2023-11-19T17:02:58.949Z"
   },
   {
    "duration": 1576,
    "start_time": "2023-11-19T17:03:10.368Z"
   },
   {
    "duration": 4,
    "start_time": "2023-11-19T17:03:11.945Z"
   },
   {
    "duration": 61,
    "start_time": "2023-11-19T17:03:11.950Z"
   },
   {
    "duration": 10,
    "start_time": "2023-11-19T17:03:12.013Z"
   },
   {
    "duration": 9,
    "start_time": "2023-11-19T17:03:12.025Z"
   },
   {
    "duration": 4,
    "start_time": "2023-11-19T17:03:12.036Z"
   },
   {
    "duration": 4,
    "start_time": "2023-11-19T17:03:12.042Z"
   },
   {
    "duration": 6,
    "start_time": "2023-11-19T17:03:12.047Z"
   },
   {
    "duration": 6,
    "start_time": "2023-11-19T17:03:12.055Z"
   },
   {
    "duration": 6,
    "start_time": "2023-11-19T17:03:12.063Z"
   },
   {
    "duration": 8,
    "start_time": "2023-11-19T17:03:12.070Z"
   },
   {
    "duration": 50,
    "start_time": "2023-11-19T17:03:12.079Z"
   },
   {
    "duration": 1400,
    "start_time": "2023-11-19T17:03:12.131Z"
   },
   {
    "duration": 9,
    "start_time": "2023-11-19T17:03:13.533Z"
   },
   {
    "duration": 17,
    "start_time": "2023-11-19T17:03:13.543Z"
   },
   {
    "duration": 459,
    "start_time": "2023-11-19T17:03:13.562Z"
   },
   {
    "duration": 8,
    "start_time": "2023-11-19T17:03:14.022Z"
   },
   {
    "duration": 392,
    "start_time": "2023-11-19T17:03:14.032Z"
   },
   {
    "duration": 383,
    "start_time": "2023-11-19T17:03:14.425Z"
   },
   {
    "duration": 411,
    "start_time": "2023-11-19T17:03:14.810Z"
   },
   {
    "duration": 243,
    "start_time": "2023-11-19T17:03:15.223Z"
   },
   {
    "duration": 8,
    "start_time": "2023-11-19T17:03:15.468Z"
   },
   {
    "duration": 242,
    "start_time": "2023-11-19T17:03:15.478Z"
   },
   {
    "duration": 5,
    "start_time": "2023-11-19T17:03:15.722Z"
   },
   {
    "duration": 646,
    "start_time": "2023-11-19T17:03:15.729Z"
   },
   {
    "duration": 4,
    "start_time": "2023-11-19T17:03:16.377Z"
   },
   {
    "duration": 18,
    "start_time": "2023-11-19T17:03:16.384Z"
   },
   {
    "duration": 1925,
    "start_time": "2023-11-19T17:03:16.403Z"
   },
   {
    "duration": 512,
    "start_time": "2023-11-19T17:03:18.420Z"
   },
   {
    "duration": 3,
    "start_time": "2023-11-19T17:03:18.934Z"
   },
   {
    "duration": 556,
    "start_time": "2023-11-19T17:03:18.938Z"
   },
   {
    "duration": 5,
    "start_time": "2023-11-19T17:03:19.496Z"
   },
   {
    "duration": 7,
    "start_time": "2023-11-19T17:03:19.503Z"
   },
   {
    "duration": 4,
    "start_time": "2023-11-19T17:03:19.518Z"
   },
   {
    "duration": 1398,
    "start_time": "2023-11-19T17:03:19.524Z"
   },
   {
    "duration": 4,
    "start_time": "2023-11-19T17:03:20.924Z"
   },
   {
    "duration": 27,
    "start_time": "2023-11-19T17:03:20.929Z"
   },
   {
    "duration": 9,
    "start_time": "2023-11-19T17:03:20.958Z"
   },
   {
    "duration": 88103,
    "start_time": "2023-11-19T17:03:20.968Z"
   },
   {
    "duration": 4,
    "start_time": "2023-11-19T17:04:49.072Z"
   },
   {
    "duration": 6,
    "start_time": "2023-11-19T17:04:49.077Z"
   },
   {
    "duration": 5,
    "start_time": "2023-11-19T17:04:49.084Z"
   },
   {
    "duration": 6,
    "start_time": "2023-11-19T17:04:49.090Z"
   },
   {
    "duration": 10475,
    "start_time": "2023-11-19T17:08:29.573Z"
   },
   {
    "duration": 1570,
    "start_time": "2023-11-19T17:08:40.051Z"
   },
   {
    "duration": 3,
    "start_time": "2023-11-19T17:08:41.623Z"
   },
   {
    "duration": 55,
    "start_time": "2023-11-19T17:08:41.628Z"
   },
   {
    "duration": 10,
    "start_time": "2023-11-19T17:08:41.685Z"
   },
   {
    "duration": 13,
    "start_time": "2023-11-19T17:08:41.697Z"
   },
   {
    "duration": 8,
    "start_time": "2023-11-19T17:08:41.712Z"
   },
   {
    "duration": 8,
    "start_time": "2023-11-19T17:08:41.722Z"
   },
   {
    "duration": 15,
    "start_time": "2023-11-19T17:08:41.731Z"
   },
   {
    "duration": 11,
    "start_time": "2023-11-19T17:08:41.749Z"
   },
   {
    "duration": 15,
    "start_time": "2023-11-19T17:08:41.762Z"
   },
   {
    "duration": 12,
    "start_time": "2023-11-19T17:08:41.779Z"
   },
   {
    "duration": 29,
    "start_time": "2023-11-19T17:08:41.793Z"
   },
   {
    "duration": 1339,
    "start_time": "2023-11-19T17:08:41.823Z"
   },
   {
    "duration": 9,
    "start_time": "2023-11-19T17:08:43.163Z"
   },
   {
    "duration": 31,
    "start_time": "2023-11-19T17:08:43.173Z"
   },
   {
    "duration": 429,
    "start_time": "2023-11-19T17:08:43.205Z"
   },
   {
    "duration": 7,
    "start_time": "2023-11-19T17:08:43.635Z"
   },
   {
    "duration": 377,
    "start_time": "2023-11-19T17:08:43.643Z"
   },
   {
    "duration": 392,
    "start_time": "2023-11-19T17:08:44.022Z"
   },
   {
    "duration": 402,
    "start_time": "2023-11-19T17:08:44.416Z"
   },
   {
    "duration": 239,
    "start_time": "2023-11-19T17:08:44.820Z"
   },
   {
    "duration": 8,
    "start_time": "2023-11-19T17:08:45.061Z"
   },
   {
    "duration": 435,
    "start_time": "2023-11-19T17:08:45.071Z"
   },
   {
    "duration": 10,
    "start_time": "2023-11-19T17:08:45.508Z"
   },
   {
    "duration": 603,
    "start_time": "2023-11-19T17:08:45.520Z"
   },
   {
    "duration": 4,
    "start_time": "2023-11-19T17:08:46.125Z"
   },
   {
    "duration": 6,
    "start_time": "2023-11-19T17:08:46.132Z"
   },
   {
    "duration": 1979,
    "start_time": "2023-11-19T17:08:46.140Z"
   },
   {
    "duration": 517,
    "start_time": "2023-11-19T17:08:48.121Z"
   },
   {
    "duration": 5,
    "start_time": "2023-11-19T17:08:48.640Z"
   },
   {
    "duration": 537,
    "start_time": "2023-11-19T17:08:48.646Z"
   },
   {
    "duration": 5,
    "start_time": "2023-11-19T17:08:49.185Z"
   },
   {
    "duration": 19,
    "start_time": "2023-11-19T17:08:49.192Z"
   },
   {
    "duration": 13,
    "start_time": "2023-11-19T17:08:49.213Z"
   },
   {
    "duration": 1809,
    "start_time": "2023-11-19T17:08:49.228Z"
   },
   {
    "duration": 5,
    "start_time": "2023-11-19T17:08:51.039Z"
   },
   {
    "duration": 11,
    "start_time": "2023-11-19T17:08:51.045Z"
   },
   {
    "duration": 13,
    "start_time": "2023-11-19T17:08:51.058Z"
   },
   {
    "duration": 73577,
    "start_time": "2023-11-19T17:08:51.073Z"
   },
   {
    "duration": 4,
    "start_time": "2023-11-19T17:10:04.652Z"
   },
   {
    "duration": 6,
    "start_time": "2023-11-19T17:10:04.657Z"
   },
   {
    "duration": 8,
    "start_time": "2023-11-19T17:10:04.665Z"
   },
   {
    "duration": 153,
    "start_time": "2023-11-19T17:10:04.674Z"
   },
   {
    "duration": 0,
    "start_time": "2023-11-19T17:10:04.829Z"
   },
   {
    "duration": 0,
    "start_time": "2023-11-19T17:10:04.831Z"
   },
   {
    "duration": 0,
    "start_time": "2023-11-19T17:10:04.832Z"
   },
   {
    "duration": 0,
    "start_time": "2023-11-19T17:10:04.833Z"
   },
   {
    "duration": 0,
    "start_time": "2023-11-19T17:10:04.834Z"
   },
   {
    "duration": 0,
    "start_time": "2023-11-19T17:10:04.835Z"
   },
   {
    "duration": 0,
    "start_time": "2023-11-19T17:10:04.836Z"
   },
   {
    "duration": 0,
    "start_time": "2023-11-19T17:10:04.837Z"
   },
   {
    "duration": 0,
    "start_time": "2023-11-19T17:10:04.838Z"
   },
   {
    "duration": 0,
    "start_time": "2023-11-19T17:10:04.839Z"
   },
   {
    "duration": 39,
    "start_time": "2023-11-19T17:44:59.240Z"
   },
   {
    "duration": 36,
    "start_time": "2023-11-19T17:45:16.098Z"
   },
   {
    "duration": 41005,
    "start_time": "2023-11-19T17:45:20.228Z"
   },
   {
    "duration": 5,
    "start_time": "2023-11-19T17:46:21.886Z"
   },
   {
    "duration": 4,
    "start_time": "2023-11-19T17:46:37.971Z"
   },
   {
    "duration": 46,
    "start_time": "2023-11-19T17:46:38.890Z"
   },
   {
    "duration": 3,
    "start_time": "2023-11-19T17:46:45.392Z"
   },
   {
    "duration": 5,
    "start_time": "2023-11-19T17:46:45.855Z"
   },
   {
    "duration": 159385,
    "start_time": "2023-11-19T17:46:46.381Z"
   },
   {
    "duration": 0,
    "start_time": "2023-11-19T17:49:25.769Z"
   },
   {
    "duration": 10,
    "start_time": "2023-11-19T17:49:35.453Z"
   },
   {
    "duration": 5,
    "start_time": "2023-11-19T17:49:39.112Z"
   },
   {
    "duration": 10464,
    "start_time": "2023-11-19T17:50:29.028Z"
   },
   {
    "duration": 1680,
    "start_time": "2023-11-19T17:50:39.494Z"
   },
   {
    "duration": 3,
    "start_time": "2023-11-19T17:50:41.176Z"
   },
   {
    "duration": 62,
    "start_time": "2023-11-19T17:50:41.182Z"
   },
   {
    "duration": 11,
    "start_time": "2023-11-19T17:50:41.245Z"
   },
   {
    "duration": 10,
    "start_time": "2023-11-19T17:50:41.258Z"
   },
   {
    "duration": 3,
    "start_time": "2023-11-19T17:50:41.269Z"
   },
   {
    "duration": 4,
    "start_time": "2023-11-19T17:50:41.274Z"
   },
   {
    "duration": 4,
    "start_time": "2023-11-19T17:50:41.279Z"
   },
   {
    "duration": 33,
    "start_time": "2023-11-19T17:50:41.285Z"
   },
   {
    "duration": 6,
    "start_time": "2023-11-19T17:50:41.320Z"
   },
   {
    "duration": 7,
    "start_time": "2023-11-19T17:50:41.327Z"
   },
   {
    "duration": 21,
    "start_time": "2023-11-19T17:50:41.335Z"
   },
   {
    "duration": 1370,
    "start_time": "2023-11-19T17:50:41.357Z"
   },
   {
    "duration": 8,
    "start_time": "2023-11-19T17:50:42.729Z"
   },
   {
    "duration": 18,
    "start_time": "2023-11-19T17:50:42.739Z"
   },
   {
    "duration": 459,
    "start_time": "2023-11-19T17:50:42.759Z"
   },
   {
    "duration": 6,
    "start_time": "2023-11-19T17:50:43.220Z"
   },
   {
    "duration": 391,
    "start_time": "2023-11-19T17:50:43.227Z"
   },
   {
    "duration": 404,
    "start_time": "2023-11-19T17:50:43.620Z"
   },
   {
    "duration": 390,
    "start_time": "2023-11-19T17:50:44.026Z"
   },
   {
    "duration": 235,
    "start_time": "2023-11-19T17:50:44.418Z"
   },
   {
    "duration": 8,
    "start_time": "2023-11-19T17:50:44.655Z"
   },
   {
    "duration": 241,
    "start_time": "2023-11-19T17:50:44.664Z"
   },
   {
    "duration": 13,
    "start_time": "2023-11-19T17:50:44.907Z"
   },
   {
    "duration": 593,
    "start_time": "2023-11-19T17:50:44.922Z"
   },
   {
    "duration": 4,
    "start_time": "2023-11-19T17:50:45.517Z"
   },
   {
    "duration": 21,
    "start_time": "2023-11-19T17:50:45.525Z"
   },
   {
    "duration": 1871,
    "start_time": "2023-11-19T17:50:45.548Z"
   },
   {
    "duration": 544,
    "start_time": "2023-11-19T17:50:47.422Z"
   },
   {
    "duration": 3,
    "start_time": "2023-11-19T17:50:47.968Z"
   },
   {
    "duration": 528,
    "start_time": "2023-11-19T17:50:47.973Z"
   },
   {
    "duration": 5,
    "start_time": "2023-11-19T17:50:48.503Z"
   },
   {
    "duration": 14,
    "start_time": "2023-11-19T17:50:48.509Z"
   },
   {
    "duration": 6,
    "start_time": "2023-11-19T17:50:48.524Z"
   },
   {
    "duration": 1698,
    "start_time": "2023-11-19T17:50:48.531Z"
   },
   {
    "duration": 4,
    "start_time": "2023-11-19T17:50:50.231Z"
   },
   {
    "duration": 48,
    "start_time": "2023-11-19T17:50:50.237Z"
   },
   {
    "duration": 10,
    "start_time": "2023-11-19T17:50:50.287Z"
   },
   {
    "duration": 68256,
    "start_time": "2023-11-19T17:50:50.299Z"
   },
   {
    "duration": 5,
    "start_time": "2023-11-19T17:51:58.556Z"
   },
   {
    "duration": 13,
    "start_time": "2023-11-19T17:51:58.563Z"
   },
   {
    "duration": 15,
    "start_time": "2023-11-19T17:51:58.578Z"
   },
   {
    "duration": 20,
    "start_time": "2023-11-19T17:51:58.595Z"
   },
   {
    "duration": 34703,
    "start_time": "2023-11-19T17:51:58.617Z"
   },
   {
    "duration": 159,
    "start_time": "2023-11-19T17:52:33.321Z"
   },
   {
    "duration": 0,
    "start_time": "2023-11-19T17:52:33.482Z"
   },
   {
    "duration": 0,
    "start_time": "2023-11-19T17:52:33.483Z"
   },
   {
    "duration": 0,
    "start_time": "2023-11-19T17:52:33.484Z"
   },
   {
    "duration": 0,
    "start_time": "2023-11-19T17:52:33.485Z"
   },
   {
    "duration": 0,
    "start_time": "2023-11-19T17:52:33.486Z"
   },
   {
    "duration": 251,
    "start_time": "2023-11-19T18:21:58.015Z"
   },
   {
    "duration": 284,
    "start_time": "2023-11-19T18:22:42.228Z"
   },
   {
    "duration": 260,
    "start_time": "2023-11-19T18:23:18.658Z"
   },
   {
    "duration": 3,
    "start_time": "2023-11-19T18:28:59.091Z"
   },
   {
    "duration": 3,
    "start_time": "2023-11-19T18:29:02.136Z"
   },
   {
    "duration": 3,
    "start_time": "2023-11-19T18:46:56.901Z"
   },
   {
    "duration": 7,
    "start_time": "2023-11-19T18:52:20.953Z"
   },
   {
    "duration": 7,
    "start_time": "2023-11-19T19:02:19.052Z"
   },
   {
    "duration": 26,
    "start_time": "2023-11-19T19:02:47.150Z"
   },
   {
    "duration": 7,
    "start_time": "2023-11-19T19:05:34.102Z"
   },
   {
    "duration": 29,
    "start_time": "2023-11-19T19:05:34.395Z"
   },
   {
    "duration": 3,
    "start_time": "2023-11-19T19:05:58.324Z"
   },
   {
    "duration": 8,
    "start_time": "2023-11-19T19:05:58.588Z"
   },
   {
    "duration": 46,
    "start_time": "2023-11-19T19:05:59.126Z"
   },
   {
    "duration": 9,
    "start_time": "2023-11-19T19:07:34.929Z"
   },
   {
    "duration": 42,
    "start_time": "2023-11-19T19:07:35.410Z"
   },
   {
    "duration": 9,
    "start_time": "2023-11-19T19:07:55.722Z"
   },
   {
    "duration": 42,
    "start_time": "2023-11-19T19:07:56.105Z"
   },
   {
    "duration": 8,
    "start_time": "2023-11-19T19:08:04.800Z"
   },
   {
    "duration": 24,
    "start_time": "2023-11-19T19:08:04.963Z"
   },
   {
    "duration": 15,
    "start_time": "2023-11-19T19:08:09.856Z"
   },
   {
    "duration": 9,
    "start_time": "2023-11-19T19:08:46.067Z"
   },
   {
    "duration": 31,
    "start_time": "2023-11-19T19:08:46.640Z"
   },
   {
    "duration": 19,
    "start_time": "2023-11-19T19:08:47.210Z"
   },
   {
    "duration": 8,
    "start_time": "2023-11-19T19:09:09.527Z"
   },
   {
    "duration": 23,
    "start_time": "2023-11-19T19:09:09.806Z"
   },
   {
    "duration": 16,
    "start_time": "2023-11-19T19:09:10.210Z"
   },
   {
    "duration": 19,
    "start_time": "2023-11-19T19:09:23.083Z"
   },
   {
    "duration": 7,
    "start_time": "2023-11-19T19:10:13.130Z"
   },
   {
    "duration": 2056,
    "start_time": "2023-11-19T19:10:14.152Z"
   },
   {
    "duration": 2589,
    "start_time": "2023-11-19T19:10:22.218Z"
   },
   {
    "duration": 8,
    "start_time": "2023-11-19T19:10:48.670Z"
   },
   {
    "duration": 4,
    "start_time": "2023-11-19T19:10:53.262Z"
   },
   {
    "duration": 2820,
    "start_time": "2023-11-19T19:10:53.548Z"
   },
   {
    "duration": 16736,
    "start_time": "2023-11-20T06:55:48.901Z"
   },
   {
    "duration": 1923,
    "start_time": "2023-11-20T06:56:05.640Z"
   },
   {
    "duration": 3,
    "start_time": "2023-11-20T06:56:07.564Z"
   },
   {
    "duration": 136,
    "start_time": "2023-11-20T06:56:07.569Z"
   },
   {
    "duration": 9,
    "start_time": "2023-11-20T06:56:07.707Z"
   },
   {
    "duration": 9,
    "start_time": "2023-11-20T06:56:07.717Z"
   },
   {
    "duration": 3,
    "start_time": "2023-11-20T06:56:07.727Z"
   },
   {
    "duration": 3,
    "start_time": "2023-11-20T06:56:07.731Z"
   },
   {
    "duration": 8,
    "start_time": "2023-11-20T06:56:07.736Z"
   },
   {
    "duration": 15,
    "start_time": "2023-11-20T06:56:07.746Z"
   },
   {
    "duration": 6,
    "start_time": "2023-11-20T06:56:07.762Z"
   },
   {
    "duration": 4,
    "start_time": "2023-11-20T06:56:07.769Z"
   },
   {
    "duration": 17,
    "start_time": "2023-11-20T06:56:07.774Z"
   },
   {
    "duration": 1347,
    "start_time": "2023-11-20T06:56:07.793Z"
   },
   {
    "duration": 8,
    "start_time": "2023-11-20T06:56:09.142Z"
   },
   {
    "duration": 14,
    "start_time": "2023-11-20T06:56:09.155Z"
   },
   {
    "duration": 419,
    "start_time": "2023-11-20T06:56:09.170Z"
   },
   {
    "duration": 6,
    "start_time": "2023-11-20T06:56:09.591Z"
   },
   {
    "duration": 390,
    "start_time": "2023-11-20T06:56:09.598Z"
   },
   {
    "duration": 375,
    "start_time": "2023-11-20T06:56:09.989Z"
   },
   {
    "duration": 435,
    "start_time": "2023-11-20T06:56:10.366Z"
   },
   {
    "duration": 242,
    "start_time": "2023-11-20T06:56:10.803Z"
   },
   {
    "duration": 12,
    "start_time": "2023-11-20T06:56:11.047Z"
   },
   {
    "duration": 255,
    "start_time": "2023-11-20T06:56:11.060Z"
   },
   {
    "duration": 6,
    "start_time": "2023-11-20T06:56:11.316Z"
   },
   {
    "duration": 606,
    "start_time": "2023-11-20T06:56:11.323Z"
   },
   {
    "duration": 3,
    "start_time": "2023-11-20T06:56:11.931Z"
   },
   {
    "duration": 16,
    "start_time": "2023-11-20T06:56:11.936Z"
   },
   {
    "duration": 2303,
    "start_time": "2023-11-20T06:56:11.953Z"
   },
   {
    "duration": 512,
    "start_time": "2023-11-20T06:56:14.258Z"
   },
   {
    "duration": 5,
    "start_time": "2023-11-20T06:56:14.772Z"
   },
   {
    "duration": 536,
    "start_time": "2023-11-20T06:56:14.779Z"
   },
   {
    "duration": 3,
    "start_time": "2023-11-20T06:56:15.316Z"
   },
   {
    "duration": 15,
    "start_time": "2023-11-20T06:56:15.320Z"
   },
   {
    "duration": 33,
    "start_time": "2023-11-20T06:56:15.336Z"
   },
   {
    "duration": 136,
    "start_time": "2023-11-20T06:56:15.370Z"
   },
   {
    "duration": 0,
    "start_time": "2023-11-20T06:56:15.508Z"
   },
   {
    "duration": 0,
    "start_time": "2023-11-20T06:56:15.509Z"
   },
   {
    "duration": 0,
    "start_time": "2023-11-20T06:56:15.510Z"
   },
   {
    "duration": 0,
    "start_time": "2023-11-20T06:56:15.511Z"
   },
   {
    "duration": 0,
    "start_time": "2023-11-20T06:56:15.512Z"
   },
   {
    "duration": 0,
    "start_time": "2023-11-20T06:56:15.513Z"
   },
   {
    "duration": 0,
    "start_time": "2023-11-20T06:56:15.514Z"
   },
   {
    "duration": 0,
    "start_time": "2023-11-20T06:56:15.515Z"
   },
   {
    "duration": 0,
    "start_time": "2023-11-20T06:56:15.516Z"
   },
   {
    "duration": 0,
    "start_time": "2023-11-20T06:56:15.517Z"
   },
   {
    "duration": 0,
    "start_time": "2023-11-20T06:56:15.518Z"
   },
   {
    "duration": 0,
    "start_time": "2023-11-20T06:56:15.519Z"
   },
   {
    "duration": 0,
    "start_time": "2023-11-20T06:56:15.520Z"
   },
   {
    "duration": 0,
    "start_time": "2023-11-20T06:56:15.521Z"
   },
   {
    "duration": 0,
    "start_time": "2023-11-20T06:56:15.522Z"
   },
   {
    "duration": 0,
    "start_time": "2023-11-20T06:56:15.523Z"
   },
   {
    "duration": 0,
    "start_time": "2023-11-20T06:56:15.524Z"
   },
   {
    "duration": 5,
    "start_time": "2023-11-20T06:56:21.936Z"
   },
   {
    "duration": 2690,
    "start_time": "2023-11-20T06:56:26.606Z"
   },
   {
    "duration": 4,
    "start_time": "2023-11-20T06:56:55.304Z"
   },
   {
    "duration": 2933,
    "start_time": "2023-11-20T06:56:56.096Z"
   },
   {
    "duration": 4,
    "start_time": "2023-11-20T06:57:03.697Z"
   },
   {
    "duration": 2080,
    "start_time": "2023-11-20T06:57:04.023Z"
   },
   {
    "duration": 4,
    "start_time": "2023-11-20T06:57:11.342Z"
   },
   {
    "duration": 3,
    "start_time": "2023-11-20T06:57:13.837Z"
   },
   {
    "duration": 5,
    "start_time": "2023-11-20T06:57:16.315Z"
   },
   {
    "duration": 16,
    "start_time": "2023-11-20T06:57:50.484Z"
   },
   {
    "duration": 10,
    "start_time": "2023-11-20T06:58:10.725Z"
   },
   {
    "duration": 4,
    "start_time": "2023-11-20T06:59:42.844Z"
   },
   {
    "duration": 92990,
    "start_time": "2023-11-20T06:59:43.338Z"
   },
   {
    "duration": 3,
    "start_time": "2023-11-20T07:01:43.194Z"
   },
   {
    "duration": 2,
    "start_time": "2023-11-20T07:01:46.506Z"
   },
   {
    "duration": 3,
    "start_time": "2023-11-20T07:01:49.650Z"
   },
   {
    "duration": 4,
    "start_time": "2023-11-20T07:02:04.507Z"
   },
   {
    "duration": 79330,
    "start_time": "2023-11-20T07:02:05.745Z"
   },
   {
    "duration": 55701,
    "start_time": "2023-11-20T07:03:49.770Z"
   },
   {
    "duration": 4,
    "start_time": "2023-11-20T07:04:45.473Z"
   },
   {
    "duration": 5,
    "start_time": "2023-11-20T07:05:54.790Z"
   },
   {
    "duration": 77348,
    "start_time": "2023-11-20T07:05:55.308Z"
   },
   {
    "duration": 31977,
    "start_time": "2023-11-20T07:07:12.658Z"
   },
   {
    "duration": 897,
    "start_time": "2023-11-20T07:07:44.638Z"
   },
   {
    "duration": 9,
    "start_time": "2023-11-20T07:07:54.446Z"
   },
   {
    "duration": 16267,
    "start_time": "2023-11-20T07:13:59.177Z"
   },
   {
    "duration": 33,
    "start_time": "2023-11-20T07:14:15.446Z"
   },
   {
    "duration": 12,
    "start_time": "2023-11-20T07:15:32.452Z"
   },
   {
    "duration": 17,
    "start_time": "2023-11-20T07:15:35.935Z"
   },
   {
    "duration": 18404,
    "start_time": "2023-11-20T07:17:32.221Z"
   },
   {
    "duration": 32,
    "start_time": "2023-11-20T07:20:18.375Z"
   },
   {
    "duration": 4,
    "start_time": "2023-11-20T07:20:29.481Z"
   },
   {
    "duration": 17,
    "start_time": "2023-11-20T07:20:33.175Z"
   },
   {
    "duration": 15911,
    "start_time": "2023-11-20T07:21:47.799Z"
   },
   {
    "duration": 44,
    "start_time": "2023-11-20T07:22:23.361Z"
   },
   {
    "duration": 11081,
    "start_time": "2023-11-20T07:22:31.624Z"
   },
   {
    "duration": 4,
    "start_time": "2023-11-20T07:22:42.707Z"
   },
   {
    "duration": 3,
    "start_time": "2023-11-20T07:23:27.363Z"
   },
   {
    "duration": 4,
    "start_time": "2023-11-20T07:23:34.872Z"
   },
   {
    "duration": 18,
    "start_time": "2023-11-20T07:23:45.603Z"
   },
   {
    "duration": 11,
    "start_time": "2023-11-20T07:23:49.610Z"
   },
   {
    "duration": 4,
    "start_time": "2023-11-20T07:24:03.731Z"
   },
   {
    "duration": 3,
    "start_time": "2023-11-20T07:24:40.196Z"
   },
   {
    "duration": 4,
    "start_time": "2023-11-20T07:24:45.135Z"
   },
   {
    "duration": 10,
    "start_time": "2023-11-20T07:27:19.223Z"
   },
   {
    "duration": 12,
    "start_time": "2023-11-20T07:27:25.568Z"
   },
   {
    "duration": 2,
    "start_time": "2023-11-20T07:27:42.799Z"
   },
   {
    "duration": 3,
    "start_time": "2023-11-20T07:27:43.289Z"
   },
   {
    "duration": 5,
    "start_time": "2023-11-20T07:27:47.310Z"
   },
   {
    "duration": 11,
    "start_time": "2023-11-20T07:30:53.045Z"
   },
   {
    "duration": 28,
    "start_time": "2023-11-20T07:31:08.960Z"
   },
   {
    "duration": 4,
    "start_time": "2023-11-20T07:32:32.022Z"
   },
   {
    "duration": 10298,
    "start_time": "2023-11-20T07:33:55.155Z"
   },
   {
    "duration": 2305,
    "start_time": "2023-11-20T07:34:05.456Z"
   },
   {
    "duration": 3,
    "start_time": "2023-11-20T07:34:07.762Z"
   },
   {
    "duration": 67,
    "start_time": "2023-11-20T07:34:07.767Z"
   },
   {
    "duration": 8,
    "start_time": "2023-11-20T07:34:07.836Z"
   },
   {
    "duration": 7,
    "start_time": "2023-11-20T07:34:07.846Z"
   },
   {
    "duration": 150,
    "start_time": "2023-11-20T07:34:07.854Z"
   },
   {
    "duration": 0,
    "start_time": "2023-11-20T07:34:08.006Z"
   },
   {
    "duration": 0,
    "start_time": "2023-11-20T07:34:08.008Z"
   },
   {
    "duration": 0,
    "start_time": "2023-11-20T07:34:08.009Z"
   },
   {
    "duration": 0,
    "start_time": "2023-11-20T07:34:08.010Z"
   },
   {
    "duration": 0,
    "start_time": "2023-11-20T07:34:08.011Z"
   },
   {
    "duration": 0,
    "start_time": "2023-11-20T07:34:08.012Z"
   },
   {
    "duration": 0,
    "start_time": "2023-11-20T07:34:08.013Z"
   },
   {
    "duration": 0,
    "start_time": "2023-11-20T07:34:08.015Z"
   },
   {
    "duration": 0,
    "start_time": "2023-11-20T07:34:08.016Z"
   },
   {
    "duration": 0,
    "start_time": "2023-11-20T07:34:08.017Z"
   },
   {
    "duration": 0,
    "start_time": "2023-11-20T07:34:08.017Z"
   },
   {
    "duration": 0,
    "start_time": "2023-11-20T07:34:08.019Z"
   },
   {
    "duration": 0,
    "start_time": "2023-11-20T07:34:08.019Z"
   },
   {
    "duration": 0,
    "start_time": "2023-11-20T07:34:08.020Z"
   },
   {
    "duration": 0,
    "start_time": "2023-11-20T07:34:08.021Z"
   },
   {
    "duration": 0,
    "start_time": "2023-11-20T07:34:08.022Z"
   },
   {
    "duration": 0,
    "start_time": "2023-11-20T07:34:08.023Z"
   },
   {
    "duration": 0,
    "start_time": "2023-11-20T07:34:08.024Z"
   },
   {
    "duration": 0,
    "start_time": "2023-11-20T07:34:08.025Z"
   },
   {
    "duration": 0,
    "start_time": "2023-11-20T07:34:08.026Z"
   },
   {
    "duration": 0,
    "start_time": "2023-11-20T07:34:08.055Z"
   },
   {
    "duration": 0,
    "start_time": "2023-11-20T07:34:08.056Z"
   },
   {
    "duration": 0,
    "start_time": "2023-11-20T07:34:08.057Z"
   },
   {
    "duration": 0,
    "start_time": "2023-11-20T07:34:08.059Z"
   },
   {
    "duration": 0,
    "start_time": "2023-11-20T07:34:08.061Z"
   },
   {
    "duration": 0,
    "start_time": "2023-11-20T07:34:08.062Z"
   },
   {
    "duration": 0,
    "start_time": "2023-11-20T07:34:08.063Z"
   },
   {
    "duration": 0,
    "start_time": "2023-11-20T07:34:08.064Z"
   },
   {
    "duration": 0,
    "start_time": "2023-11-20T07:34:08.065Z"
   },
   {
    "duration": 0,
    "start_time": "2023-11-20T07:34:08.066Z"
   },
   {
    "duration": 0,
    "start_time": "2023-11-20T07:34:08.067Z"
   },
   {
    "duration": 0,
    "start_time": "2023-11-20T07:34:08.068Z"
   },
   {
    "duration": 0,
    "start_time": "2023-11-20T07:34:08.070Z"
   },
   {
    "duration": 0,
    "start_time": "2023-11-20T07:34:08.071Z"
   },
   {
    "duration": 0,
    "start_time": "2023-11-20T07:34:08.072Z"
   },
   {
    "duration": 0,
    "start_time": "2023-11-20T07:34:08.073Z"
   },
   {
    "duration": 0,
    "start_time": "2023-11-20T07:34:08.074Z"
   },
   {
    "duration": 0,
    "start_time": "2023-11-20T07:34:08.075Z"
   },
   {
    "duration": 0,
    "start_time": "2023-11-20T07:34:08.076Z"
   },
   {
    "duration": 0,
    "start_time": "2023-11-20T07:34:08.077Z"
   },
   {
    "duration": 0,
    "start_time": "2023-11-20T07:34:08.078Z"
   },
   {
    "duration": 0,
    "start_time": "2023-11-20T07:34:08.079Z"
   },
   {
    "duration": 0,
    "start_time": "2023-11-20T07:34:08.080Z"
   },
   {
    "duration": 0,
    "start_time": "2023-11-20T07:34:08.081Z"
   },
   {
    "duration": 0,
    "start_time": "2023-11-20T07:34:08.082Z"
   },
   {
    "duration": 11,
    "start_time": "2023-11-20T07:37:21.515Z"
   },
   {
    "duration": 10,
    "start_time": "2023-11-20T07:38:00.789Z"
   },
   {
    "duration": 4,
    "start_time": "2023-11-20T07:38:03.249Z"
   },
   {
    "duration": 3,
    "start_time": "2023-11-20T07:38:05.535Z"
   },
   {
    "duration": 50,
    "start_time": "2023-11-20T07:38:05.768Z"
   },
   {
    "duration": 6,
    "start_time": "2023-11-20T07:38:06.068Z"
   },
   {
    "duration": 9,
    "start_time": "2023-11-20T07:38:06.397Z"
   },
   {
    "duration": 10,
    "start_time": "2023-11-20T07:38:07.768Z"
   },
   {
    "duration": 116,
    "start_time": "2023-11-20T07:38:47.382Z"
   },
   {
    "duration": 13547,
    "start_time": "2023-11-20T07:38:53.374Z"
   },
   {
    "duration": 4,
    "start_time": "2023-11-20T07:39:36.368Z"
   },
   {
    "duration": 4,
    "start_time": "2023-11-20T07:39:36.628Z"
   },
   {
    "duration": 52,
    "start_time": "2023-11-20T07:39:37.015Z"
   },
   {
    "duration": 6,
    "start_time": "2023-11-20T07:39:37.384Z"
   },
   {
    "duration": 8,
    "start_time": "2023-11-20T07:39:38.021Z"
   },
   {
    "duration": 17,
    "start_time": "2023-11-20T07:39:39.677Z"
   },
   {
    "duration": 13390,
    "start_time": "2023-11-20T07:42:32.964Z"
   },
   {
    "duration": 2194,
    "start_time": "2023-11-20T07:42:46.356Z"
   },
   {
    "duration": 4,
    "start_time": "2023-11-20T07:42:48.551Z"
   },
   {
    "duration": 62,
    "start_time": "2023-11-20T07:42:48.557Z"
   },
   {
    "duration": 8,
    "start_time": "2023-11-20T07:42:48.620Z"
   },
   {
    "duration": 7,
    "start_time": "2023-11-20T07:42:48.630Z"
   },
   {
    "duration": 142,
    "start_time": "2023-11-20T07:42:48.639Z"
   },
   {
    "duration": 0,
    "start_time": "2023-11-20T07:42:48.783Z"
   },
   {
    "duration": 0,
    "start_time": "2023-11-20T07:42:48.784Z"
   },
   {
    "duration": 0,
    "start_time": "2023-11-20T07:42:48.785Z"
   },
   {
    "duration": 0,
    "start_time": "2023-11-20T07:42:48.787Z"
   },
   {
    "duration": 1,
    "start_time": "2023-11-20T07:42:48.787Z"
   },
   {
    "duration": 0,
    "start_time": "2023-11-20T07:42:48.789Z"
   },
   {
    "duration": 0,
    "start_time": "2023-11-20T07:42:48.790Z"
   },
   {
    "duration": 0,
    "start_time": "2023-11-20T07:42:48.791Z"
   },
   {
    "duration": 0,
    "start_time": "2023-11-20T07:42:48.792Z"
   },
   {
    "duration": 0,
    "start_time": "2023-11-20T07:42:48.793Z"
   },
   {
    "duration": 0,
    "start_time": "2023-11-20T07:42:48.794Z"
   },
   {
    "duration": 0,
    "start_time": "2023-11-20T07:42:48.795Z"
   },
   {
    "duration": 0,
    "start_time": "2023-11-20T07:42:48.796Z"
   },
   {
    "duration": 0,
    "start_time": "2023-11-20T07:42:48.797Z"
   },
   {
    "duration": 0,
    "start_time": "2023-11-20T07:42:48.798Z"
   },
   {
    "duration": 0,
    "start_time": "2023-11-20T07:42:48.799Z"
   },
   {
    "duration": 0,
    "start_time": "2023-11-20T07:42:48.800Z"
   },
   {
    "duration": 0,
    "start_time": "2023-11-20T07:42:48.801Z"
   },
   {
    "duration": 0,
    "start_time": "2023-11-20T07:42:48.802Z"
   },
   {
    "duration": 0,
    "start_time": "2023-11-20T07:42:48.803Z"
   },
   {
    "duration": 0,
    "start_time": "2023-11-20T07:42:48.804Z"
   },
   {
    "duration": 0,
    "start_time": "2023-11-20T07:42:48.804Z"
   },
   {
    "duration": 0,
    "start_time": "2023-11-20T07:42:48.805Z"
   },
   {
    "duration": 0,
    "start_time": "2023-11-20T07:42:48.807Z"
   },
   {
    "duration": 0,
    "start_time": "2023-11-20T07:42:48.808Z"
   },
   {
    "duration": 0,
    "start_time": "2023-11-20T07:42:48.809Z"
   },
   {
    "duration": 0,
    "start_time": "2023-11-20T07:42:48.811Z"
   },
   {
    "duration": 0,
    "start_time": "2023-11-20T07:42:48.812Z"
   },
   {
    "duration": 0,
    "start_time": "2023-11-20T07:42:48.856Z"
   },
   {
    "duration": 1,
    "start_time": "2023-11-20T07:42:48.856Z"
   },
   {
    "duration": 0,
    "start_time": "2023-11-20T07:42:48.858Z"
   },
   {
    "duration": 0,
    "start_time": "2023-11-20T07:42:48.858Z"
   },
   {
    "duration": 0,
    "start_time": "2023-11-20T07:42:48.860Z"
   },
   {
    "duration": 0,
    "start_time": "2023-11-20T07:42:48.861Z"
   },
   {
    "duration": 0,
    "start_time": "2023-11-20T07:42:48.862Z"
   },
   {
    "duration": 0,
    "start_time": "2023-11-20T07:42:48.863Z"
   },
   {
    "duration": 0,
    "start_time": "2023-11-20T07:42:48.864Z"
   },
   {
    "duration": 0,
    "start_time": "2023-11-20T07:42:48.865Z"
   },
   {
    "duration": 0,
    "start_time": "2023-11-20T07:42:48.866Z"
   },
   {
    "duration": 0,
    "start_time": "2023-11-20T07:42:48.867Z"
   },
   {
    "duration": 0,
    "start_time": "2023-11-20T07:42:48.868Z"
   },
   {
    "duration": 0,
    "start_time": "2023-11-20T07:42:48.869Z"
   },
   {
    "duration": 0,
    "start_time": "2023-11-20T07:42:48.870Z"
   },
   {
    "duration": 0,
    "start_time": "2023-11-20T07:42:48.871Z"
   },
   {
    "duration": 0,
    "start_time": "2023-11-20T07:42:48.872Z"
   },
   {
    "duration": 16896,
    "start_time": "2023-11-20T07:43:36.073Z"
   },
   {
    "duration": 4,
    "start_time": "2023-11-20T07:44:19.448Z"
   },
   {
    "duration": 3,
    "start_time": "2023-11-20T07:44:21.552Z"
   },
   {
    "duration": 61,
    "start_time": "2023-11-20T07:44:21.929Z"
   },
   {
    "duration": 7,
    "start_time": "2023-11-20T07:44:22.603Z"
   },
   {
    "duration": 8,
    "start_time": "2023-11-20T07:44:24.471Z"
   },
   {
    "duration": 20,
    "start_time": "2023-11-20T07:44:25.968Z"
   },
   {
    "duration": 2,
    "start_time": "2023-11-20T07:44:50.500Z"
   },
   {
    "duration": 13541,
    "start_time": "2023-11-20T07:44:59.911Z"
   },
   {
    "duration": 2355,
    "start_time": "2023-11-20T07:45:13.455Z"
   },
   {
    "duration": 3,
    "start_time": "2023-11-20T07:45:15.813Z"
   },
   {
    "duration": 84,
    "start_time": "2023-11-20T07:45:15.817Z"
   },
   {
    "duration": 8,
    "start_time": "2023-11-20T07:45:15.903Z"
   },
   {
    "duration": 10,
    "start_time": "2023-11-20T07:45:15.912Z"
   },
   {
    "duration": 2,
    "start_time": "2023-11-20T07:45:15.923Z"
   },
   {
    "duration": 7,
    "start_time": "2023-11-20T07:45:15.927Z"
   },
   {
    "duration": 7,
    "start_time": "2023-11-20T07:45:15.935Z"
   },
   {
    "duration": 6,
    "start_time": "2023-11-20T07:45:15.944Z"
   },
   {
    "duration": 6,
    "start_time": "2023-11-20T07:45:15.951Z"
   },
   {
    "duration": 6,
    "start_time": "2023-11-20T07:45:15.958Z"
   },
   {
    "duration": 58,
    "start_time": "2023-11-20T07:45:15.965Z"
   },
   {
    "duration": 873,
    "start_time": "2023-11-20T07:45:16.025Z"
   },
   {
    "duration": 6,
    "start_time": "2023-11-20T07:45:16.900Z"
   },
   {
    "duration": 14,
    "start_time": "2023-11-20T07:45:16.908Z"
   },
   {
    "duration": 365,
    "start_time": "2023-11-20T07:45:16.924Z"
   },
   {
    "duration": 5,
    "start_time": "2023-11-20T07:45:17.291Z"
   },
   {
    "duration": 358,
    "start_time": "2023-11-20T07:45:17.298Z"
   },
   {
    "duration": 327,
    "start_time": "2023-11-20T07:45:17.658Z"
   },
   {
    "duration": 363,
    "start_time": "2023-11-20T07:45:17.987Z"
   },
   {
    "duration": 236,
    "start_time": "2023-11-20T07:45:18.356Z"
   },
   {
    "duration": 7,
    "start_time": "2023-11-20T07:45:18.594Z"
   },
   {
    "duration": 239,
    "start_time": "2023-11-20T07:45:18.603Z"
   },
   {
    "duration": 11,
    "start_time": "2023-11-20T07:45:18.844Z"
   },
   {
    "duration": 466,
    "start_time": "2023-11-20T07:45:18.857Z"
   },
   {
    "duration": 4,
    "start_time": "2023-11-20T07:45:19.324Z"
   },
   {
    "duration": 17,
    "start_time": "2023-11-20T07:45:19.331Z"
   },
   {
    "duration": 1314,
    "start_time": "2023-11-20T07:45:19.350Z"
   },
   {
    "duration": 529,
    "start_time": "2023-11-20T07:45:20.665Z"
   },
   {
    "duration": 5,
    "start_time": "2023-11-20T07:45:21.195Z"
   },
   {
    "duration": 363,
    "start_time": "2023-11-20T07:45:21.201Z"
   },
   {
    "duration": 3,
    "start_time": "2023-11-20T07:45:21.565Z"
   },
   {
    "duration": 132,
    "start_time": "2023-11-20T07:45:21.569Z"
   },
   {
    "duration": 29,
    "start_time": "2023-11-20T07:45:21.703Z"
   },
   {
    "duration": 2694,
    "start_time": "2023-11-20T07:45:21.734Z"
   },
   {
    "duration": 4,
    "start_time": "2023-11-20T07:45:24.430Z"
   },
   {
    "duration": 48,
    "start_time": "2023-11-20T07:45:24.435Z"
   },
   {
    "duration": 30,
    "start_time": "2023-11-20T07:45:24.484Z"
   },
   {
    "duration": 16861,
    "start_time": "2023-11-20T07:45:24.516Z"
   },
   {
    "duration": 0,
    "start_time": "2023-11-20T07:45:41.379Z"
   },
   {
    "duration": 0,
    "start_time": "2023-11-20T07:45:41.380Z"
   },
   {
    "duration": 0,
    "start_time": "2023-11-20T07:45:41.381Z"
   },
   {
    "duration": 0,
    "start_time": "2023-11-20T07:45:41.382Z"
   },
   {
    "duration": 0,
    "start_time": "2023-11-20T07:45:41.383Z"
   },
   {
    "duration": 0,
    "start_time": "2023-11-20T07:45:41.384Z"
   },
   {
    "duration": 0,
    "start_time": "2023-11-20T07:45:41.385Z"
   },
   {
    "duration": 0,
    "start_time": "2023-11-20T07:45:41.386Z"
   },
   {
    "duration": 0,
    "start_time": "2023-11-20T07:45:41.387Z"
   },
   {
    "duration": 0,
    "start_time": "2023-11-20T07:45:41.388Z"
   },
   {
    "duration": 0,
    "start_time": "2023-11-20T07:45:41.389Z"
   },
   {
    "duration": 0,
    "start_time": "2023-11-20T07:45:41.390Z"
   },
   {
    "duration": 14010,
    "start_time": "2023-11-20T07:49:11.416Z"
   },
   {
    "duration": 2356,
    "start_time": "2023-11-20T07:49:25.428Z"
   },
   {
    "duration": 3,
    "start_time": "2023-11-20T07:49:27.785Z"
   },
   {
    "duration": 55,
    "start_time": "2023-11-20T07:49:27.790Z"
   },
   {
    "duration": 7,
    "start_time": "2023-11-20T07:49:27.847Z"
   },
   {
    "duration": 16,
    "start_time": "2023-11-20T07:49:27.856Z"
   },
   {
    "duration": 23,
    "start_time": "2023-11-20T07:49:27.874Z"
   },
   {
    "duration": 14,
    "start_time": "2023-11-20T07:49:27.899Z"
   },
   {
    "duration": 7,
    "start_time": "2023-11-20T07:49:27.914Z"
   },
   {
    "duration": 12,
    "start_time": "2023-11-20T07:49:27.923Z"
   },
   {
    "duration": 13,
    "start_time": "2023-11-20T07:49:27.936Z"
   },
   {
    "duration": 6,
    "start_time": "2023-11-20T07:49:27.951Z"
   },
   {
    "duration": 18,
    "start_time": "2023-11-20T07:49:27.959Z"
   },
   {
    "duration": 911,
    "start_time": "2023-11-20T07:49:27.979Z"
   },
   {
    "duration": 6,
    "start_time": "2023-11-20T07:49:28.892Z"
   },
   {
    "duration": 53,
    "start_time": "2023-11-20T07:49:28.899Z"
   },
   {
    "duration": 362,
    "start_time": "2023-11-20T07:49:28.953Z"
   },
   {
    "duration": 5,
    "start_time": "2023-11-20T07:49:29.317Z"
   },
   {
    "duration": 364,
    "start_time": "2023-11-20T07:49:29.324Z"
   },
   {
    "duration": 339,
    "start_time": "2023-11-20T07:49:29.690Z"
   },
   {
    "duration": 348,
    "start_time": "2023-11-20T07:49:30.030Z"
   },
   {
    "duration": 234,
    "start_time": "2023-11-20T07:49:30.380Z"
   },
   {
    "duration": 8,
    "start_time": "2023-11-20T07:49:30.616Z"
   },
   {
    "duration": 347,
    "start_time": "2023-11-20T07:49:30.626Z"
   },
   {
    "duration": 6,
    "start_time": "2023-11-20T07:49:30.975Z"
   },
   {
    "duration": 522,
    "start_time": "2023-11-20T07:49:30.982Z"
   },
   {
    "duration": 3,
    "start_time": "2023-11-20T07:49:31.506Z"
   },
   {
    "duration": 16,
    "start_time": "2023-11-20T07:49:31.512Z"
   },
   {
    "duration": 1836,
    "start_time": "2023-11-20T07:49:31.529Z"
   },
   {
    "duration": 806,
    "start_time": "2023-11-20T07:49:33.456Z"
   },
   {
    "duration": 4,
    "start_time": "2023-11-20T07:49:34.264Z"
   },
   {
    "duration": 672,
    "start_time": "2023-11-20T07:49:34.270Z"
   },
   {
    "duration": 2,
    "start_time": "2023-11-20T07:49:34.944Z"
   },
   {
    "duration": 130,
    "start_time": "2023-11-20T07:49:34.956Z"
   },
   {
    "duration": 9,
    "start_time": "2023-11-20T07:49:35.088Z"
   },
   {
    "duration": 2433,
    "start_time": "2023-11-20T07:49:35.098Z"
   },
   {
    "duration": 4,
    "start_time": "2023-11-20T07:49:37.532Z"
   },
   {
    "duration": 20,
    "start_time": "2023-11-20T07:49:37.537Z"
   },
   {
    "duration": 11,
    "start_time": "2023-11-20T07:49:37.559Z"
   },
   {
    "duration": 33739,
    "start_time": "2023-11-20T07:49:37.572Z"
   },
   {
    "duration": 0,
    "start_time": "2023-11-20T07:50:11.312Z"
   },
   {
    "duration": 0,
    "start_time": "2023-11-20T07:50:11.313Z"
   },
   {
    "duration": 0,
    "start_time": "2023-11-20T07:50:11.314Z"
   },
   {
    "duration": 0,
    "start_time": "2023-11-20T07:50:11.315Z"
   },
   {
    "duration": 0,
    "start_time": "2023-11-20T07:50:11.316Z"
   },
   {
    "duration": 0,
    "start_time": "2023-11-20T07:50:11.317Z"
   },
   {
    "duration": 0,
    "start_time": "2023-11-20T07:50:11.317Z"
   },
   {
    "duration": 0,
    "start_time": "2023-11-20T07:50:11.318Z"
   },
   {
    "duration": 0,
    "start_time": "2023-11-20T07:50:11.320Z"
   },
   {
    "duration": 1,
    "start_time": "2023-11-20T07:50:11.320Z"
   },
   {
    "duration": 0,
    "start_time": "2023-11-20T07:50:11.321Z"
   },
   {
    "duration": 0,
    "start_time": "2023-11-20T07:50:11.322Z"
   },
   {
    "duration": 5,
    "start_time": "2023-11-20T07:51:13.492Z"
   },
   {
    "duration": 106302,
    "start_time": "2023-11-20T07:51:14.014Z"
   },
   {
    "duration": 4,
    "start_time": "2023-11-20T07:54:54.598Z"
   },
   {
    "duration": 3,
    "start_time": "2023-11-20T07:54:54.978Z"
   },
   {
    "duration": 4,
    "start_time": "2023-11-20T07:54:59.171Z"
   },
   {
    "duration": 7949,
    "start_time": "2023-11-20T07:57:47.671Z"
   },
   {
    "duration": 2271,
    "start_time": "2023-11-20T07:57:55.622Z"
   },
   {
    "duration": 54,
    "start_time": "2023-11-20T07:57:57.895Z"
   },
   {
    "duration": 8,
    "start_time": "2023-11-20T07:57:57.951Z"
   },
   {
    "duration": 33,
    "start_time": "2023-11-20T07:57:57.960Z"
   },
   {
    "duration": 9,
    "start_time": "2023-11-20T07:57:57.995Z"
   },
   {
    "duration": 8,
    "start_time": "2023-11-20T07:57:58.005Z"
   },
   {
    "duration": 9,
    "start_time": "2023-11-20T07:57:58.015Z"
   },
   {
    "duration": 18,
    "start_time": "2023-11-20T07:57:58.025Z"
   },
   {
    "duration": 15,
    "start_time": "2023-11-20T07:57:58.045Z"
   },
   {
    "duration": 19,
    "start_time": "2023-11-20T07:57:58.061Z"
   },
   {
    "duration": 23,
    "start_time": "2023-11-20T07:57:58.082Z"
   },
   {
    "duration": 6,
    "start_time": "2023-11-20T07:57:58.107Z"
   },
   {
    "duration": 894,
    "start_time": "2023-11-20T07:57:58.114Z"
   },
   {
    "duration": 6,
    "start_time": "2023-11-20T07:57:59.010Z"
   },
   {
    "duration": 15,
    "start_time": "2023-11-20T07:57:59.018Z"
   },
   {
    "duration": 358,
    "start_time": "2023-11-20T07:57:59.034Z"
   },
   {
    "duration": 7,
    "start_time": "2023-11-20T07:57:59.394Z"
   },
   {
    "duration": 362,
    "start_time": "2023-11-20T07:57:59.402Z"
   },
   {
    "duration": 318,
    "start_time": "2023-11-20T07:57:59.766Z"
   },
   {
    "duration": 341,
    "start_time": "2023-11-20T07:58:00.086Z"
   },
   {
    "duration": 247,
    "start_time": "2023-11-20T07:58:00.429Z"
   },
   {
    "duration": 7,
    "start_time": "2023-11-20T07:58:00.677Z"
   },
   {
    "duration": 250,
    "start_time": "2023-11-20T07:58:00.686Z"
   },
   {
    "duration": 5,
    "start_time": "2023-11-20T07:58:00.938Z"
   },
   {
    "duration": 511,
    "start_time": "2023-11-20T07:58:00.944Z"
   },
   {
    "duration": 4,
    "start_time": "2023-11-20T07:58:01.457Z"
   },
   {
    "duration": 16,
    "start_time": "2023-11-20T07:58:01.465Z"
   },
   {
    "duration": 1286,
    "start_time": "2023-11-20T07:58:01.482Z"
   },
   {
    "duration": 532,
    "start_time": "2023-11-20T07:58:02.769Z"
   },
   {
    "duration": 4,
    "start_time": "2023-11-20T07:58:03.303Z"
   },
   {
    "duration": 363,
    "start_time": "2023-11-20T07:58:03.308Z"
   },
   {
    "duration": 3,
    "start_time": "2023-11-20T07:58:03.673Z"
   },
   {
    "duration": 12,
    "start_time": "2023-11-20T07:58:03.678Z"
   },
   {
    "duration": 19,
    "start_time": "2023-11-20T07:58:03.691Z"
   },
   {
    "duration": 3702,
    "start_time": "2023-11-20T07:58:03.712Z"
   },
   {
    "duration": 3,
    "start_time": "2023-11-20T07:58:07.416Z"
   },
   {
    "duration": 10,
    "start_time": "2023-11-20T07:58:07.420Z"
   },
   {
    "duration": 16,
    "start_time": "2023-11-20T07:58:07.431Z"
   },
   {
    "duration": 61682,
    "start_time": "2023-11-20T07:58:07.448Z"
   },
   {
    "duration": 4,
    "start_time": "2023-11-20T07:59:09.132Z"
   },
   {
    "duration": 31,
    "start_time": "2023-11-20T07:59:09.137Z"
   },
   {
    "duration": 22,
    "start_time": "2023-11-20T07:59:09.169Z"
   },
   {
    "duration": 8245,
    "start_time": "2023-11-20T08:08:41.070Z"
   },
   {
    "duration": 2258,
    "start_time": "2023-11-20T08:08:49.317Z"
   },
   {
    "duration": 54,
    "start_time": "2023-11-20T08:08:51.577Z"
   },
   {
    "duration": 8,
    "start_time": "2023-11-20T08:08:51.633Z"
   },
   {
    "duration": 19,
    "start_time": "2023-11-20T08:08:51.643Z"
   },
   {
    "duration": 22,
    "start_time": "2023-11-20T08:08:51.664Z"
   },
   {
    "duration": 5,
    "start_time": "2023-11-20T08:08:51.687Z"
   },
   {
    "duration": 7,
    "start_time": "2023-11-20T08:08:51.694Z"
   },
   {
    "duration": 10,
    "start_time": "2023-11-20T08:08:51.702Z"
   },
   {
    "duration": 5,
    "start_time": "2023-11-20T08:08:51.714Z"
   },
   {
    "duration": 6,
    "start_time": "2023-11-20T08:08:51.720Z"
   },
   {
    "duration": 20,
    "start_time": "2023-11-20T08:08:51.727Z"
   },
   {
    "duration": 3,
    "start_time": "2023-11-20T08:08:51.748Z"
   },
   {
    "duration": 944,
    "start_time": "2023-11-20T08:08:51.752Z"
   },
   {
    "duration": 6,
    "start_time": "2023-11-20T08:08:52.698Z"
   },
   {
    "duration": 20,
    "start_time": "2023-11-20T08:08:52.706Z"
   },
   {
    "duration": 371,
    "start_time": "2023-11-20T08:08:52.728Z"
   },
   {
    "duration": 6,
    "start_time": "2023-11-20T08:08:53.101Z"
   },
   {
    "duration": 424,
    "start_time": "2023-11-20T08:08:53.108Z"
   },
   {
    "duration": 346,
    "start_time": "2023-11-20T08:08:53.533Z"
   },
   {
    "duration": 359,
    "start_time": "2023-11-20T08:08:53.880Z"
   },
   {
    "duration": 243,
    "start_time": "2023-11-20T08:08:54.241Z"
   },
   {
    "duration": 8,
    "start_time": "2023-11-20T08:08:54.485Z"
   },
   {
    "duration": 245,
    "start_time": "2023-11-20T08:08:54.494Z"
   },
   {
    "duration": 26,
    "start_time": "2023-11-20T08:08:54.740Z"
   },
   {
    "duration": 483,
    "start_time": "2023-11-20T08:08:54.768Z"
   },
   {
    "duration": 9,
    "start_time": "2023-11-20T08:08:55.252Z"
   },
   {
    "duration": 10,
    "start_time": "2023-11-20T08:08:55.267Z"
   },
   {
    "duration": 2591,
    "start_time": "2023-11-20T08:08:55.278Z"
   },
   {
    "duration": 536,
    "start_time": "2023-11-20T08:08:57.871Z"
   },
   {
    "duration": 2,
    "start_time": "2023-11-20T08:08:58.409Z"
   },
   {
    "duration": 8,
    "start_time": "2023-11-20T08:08:58.412Z"
   },
   {
    "duration": 16,
    "start_time": "2023-11-20T08:08:58.421Z"
   },
   {
    "duration": 2804,
    "start_time": "2023-11-20T08:08:58.439Z"
   },
   {
    "duration": 4,
    "start_time": "2023-11-20T08:09:01.244Z"
   },
   {
    "duration": 27,
    "start_time": "2023-11-20T08:09:01.259Z"
   },
   {
    "duration": 81,
    "start_time": "2023-11-20T08:09:01.288Z"
   },
   {
    "duration": 64295,
    "start_time": "2023-11-20T08:09:01.371Z"
   },
   {
    "duration": 4,
    "start_time": "2023-11-20T08:10:05.668Z"
   },
   {
    "duration": 19,
    "start_time": "2023-11-20T08:10:05.673Z"
   },
   {
    "duration": 21,
    "start_time": "2023-11-20T08:10:05.694Z"
   },
   {
    "duration": 8901,
    "start_time": "2023-11-20T08:11:41.781Z"
   },
   {
    "duration": 2309,
    "start_time": "2023-11-20T08:11:50.684Z"
   },
   {
    "duration": 54,
    "start_time": "2023-11-20T08:11:52.994Z"
   },
   {
    "duration": 20,
    "start_time": "2023-11-20T08:11:53.050Z"
   },
   {
    "duration": 12,
    "start_time": "2023-11-20T08:11:53.071Z"
   },
   {
    "duration": 6,
    "start_time": "2023-11-20T08:11:53.084Z"
   },
   {
    "duration": 29,
    "start_time": "2023-11-20T08:11:53.091Z"
   },
   {
    "duration": 7,
    "start_time": "2023-11-20T08:11:53.122Z"
   },
   {
    "duration": 18,
    "start_time": "2023-11-20T08:11:53.130Z"
   },
   {
    "duration": 21,
    "start_time": "2023-11-20T08:11:53.150Z"
   },
   {
    "duration": 6,
    "start_time": "2023-11-20T08:11:53.172Z"
   },
   {
    "duration": 20,
    "start_time": "2023-11-20T08:11:53.179Z"
   },
   {
    "duration": 11,
    "start_time": "2023-11-20T08:11:53.201Z"
   },
   {
    "duration": 1056,
    "start_time": "2023-11-20T08:11:53.213Z"
   },
   {
    "duration": 6,
    "start_time": "2023-11-20T08:11:54.270Z"
   },
   {
    "duration": 71,
    "start_time": "2023-11-20T08:11:54.278Z"
   },
   {
    "duration": 494,
    "start_time": "2023-11-20T08:11:54.350Z"
   },
   {
    "duration": 13,
    "start_time": "2023-11-20T08:11:54.845Z"
   },
   {
    "duration": 452,
    "start_time": "2023-11-20T08:11:54.859Z"
   },
   {
    "duration": 481,
    "start_time": "2023-11-20T08:11:55.313Z"
   },
   {
    "duration": 473,
    "start_time": "2023-11-20T08:11:55.796Z"
   },
   {
    "duration": 354,
    "start_time": "2023-11-20T08:11:56.271Z"
   },
   {
    "duration": 8,
    "start_time": "2023-11-20T08:11:56.627Z"
   },
   {
    "duration": 382,
    "start_time": "2023-11-20T08:11:56.637Z"
   },
   {
    "duration": 4,
    "start_time": "2023-11-20T08:11:57.021Z"
   },
   {
    "duration": 775,
    "start_time": "2023-11-20T08:11:57.026Z"
   },
   {
    "duration": 3,
    "start_time": "2023-11-20T08:11:57.802Z"
   },
   {
    "duration": 38,
    "start_time": "2023-11-20T08:11:57.808Z"
   },
   {
    "duration": 2315,
    "start_time": "2023-11-20T08:11:57.848Z"
   },
   {
    "duration": 550,
    "start_time": "2023-11-20T08:12:00.167Z"
   },
   {
    "duration": 3,
    "start_time": "2023-11-20T08:12:00.718Z"
   },
   {
    "duration": 127,
    "start_time": "2023-11-20T08:12:00.723Z"
   },
   {
    "duration": 114,
    "start_time": "2023-11-20T08:12:00.852Z"
   },
   {
    "duration": 3547,
    "start_time": "2023-11-20T08:12:00.968Z"
   },
   {
    "duration": 4,
    "start_time": "2023-11-20T08:12:04.517Z"
   },
   {
    "duration": 29,
    "start_time": "2023-11-20T08:12:04.522Z"
   },
   {
    "duration": 19,
    "start_time": "2023-11-20T08:12:04.552Z"
   },
   {
    "duration": 40876,
    "start_time": "2023-11-20T08:12:04.572Z"
   },
   {
    "duration": 19,
    "start_time": "2023-11-20T08:12:45.449Z"
   },
   {
    "duration": 3,
    "start_time": "2023-11-20T08:12:45.471Z"
   },
   {
    "duration": 172,
    "start_time": "2023-11-20T08:12:45.476Z"
   },
   {
    "duration": 0,
    "start_time": "2023-11-20T08:12:45.649Z"
   },
   {
    "duration": 0,
    "start_time": "2023-11-20T08:12:45.650Z"
   },
   {
    "duration": 0,
    "start_time": "2023-11-20T08:12:45.652Z"
   },
   {
    "duration": 0,
    "start_time": "2023-11-20T08:12:45.653Z"
   },
   {
    "duration": 0,
    "start_time": "2023-11-20T08:12:45.657Z"
   },
   {
    "duration": 0,
    "start_time": "2023-11-20T08:12:45.657Z"
   },
   {
    "duration": 0,
    "start_time": "2023-11-20T08:12:45.658Z"
   },
   {
    "duration": 0,
    "start_time": "2023-11-20T08:12:45.659Z"
   },
   {
    "duration": 0,
    "start_time": "2023-11-20T08:12:45.659Z"
   },
   {
    "duration": 0,
    "start_time": "2023-11-20T08:12:45.660Z"
   },
   {
    "duration": 0,
    "start_time": "2023-11-20T08:12:45.660Z"
   },
   {
    "duration": 0,
    "start_time": "2023-11-20T08:12:45.665Z"
   },
   {
    "duration": 0,
    "start_time": "2023-11-20T08:12:45.666Z"
   },
   {
    "duration": 360,
    "start_time": "2023-11-20T08:13:03.400Z"
   },
   {
    "duration": 3,
    "start_time": "2023-11-20T08:13:18.993Z"
   },
   {
    "duration": 91,
    "start_time": "2023-11-20T08:13:22.157Z"
   },
   {
    "duration": 351,
    "start_time": "2023-11-20T08:13:24.932Z"
   },
   {
    "duration": 332,
    "start_time": "2023-11-20T08:13:26.867Z"
   },
   {
    "duration": 11068,
    "start_time": "2023-11-20T08:14:15.801Z"
   },
   {
    "duration": 4,
    "start_time": "2023-11-20T08:14:28.208Z"
   },
   {
    "duration": 5,
    "start_time": "2023-11-20T08:14:54.607Z"
   },
   {
    "duration": 21,
    "start_time": "2023-11-20T08:15:14.619Z"
   },
   {
    "duration": 719,
    "start_time": "2023-11-20T08:15:20.129Z"
   },
   {
    "duration": 9,
    "start_time": "2023-11-20T08:16:16.514Z"
   },
   {
    "duration": 5,
    "start_time": "2023-11-20T08:16:31.354Z"
   },
   {
    "duration": 541,
    "start_time": "2023-11-20T08:16:32.084Z"
   },
   {
    "duration": 8,
    "start_time": "2023-11-20T08:16:55.878Z"
   },
   {
    "duration": 5,
    "start_time": "2023-11-20T08:17:58.011Z"
   },
   {
    "duration": 10431,
    "start_time": "2023-11-20T08:18:46.113Z"
   },
   {
    "duration": 2275,
    "start_time": "2023-11-20T08:18:56.546Z"
   },
   {
    "duration": 53,
    "start_time": "2023-11-20T08:18:58.823Z"
   },
   {
    "duration": 7,
    "start_time": "2023-11-20T08:18:58.878Z"
   },
   {
    "duration": 16,
    "start_time": "2023-11-20T08:18:58.887Z"
   },
   {
    "duration": 3,
    "start_time": "2023-11-20T08:18:58.904Z"
   },
   {
    "duration": 10,
    "start_time": "2023-11-20T08:18:58.908Z"
   },
   {
    "duration": 4,
    "start_time": "2023-11-20T08:18:58.919Z"
   },
   {
    "duration": 30,
    "start_time": "2023-11-20T08:18:58.924Z"
   },
   {
    "duration": 5,
    "start_time": "2023-11-20T08:18:58.956Z"
   },
   {
    "duration": 9,
    "start_time": "2023-11-20T08:18:58.963Z"
   },
   {
    "duration": 24,
    "start_time": "2023-11-20T08:18:58.974Z"
   },
   {
    "duration": 3,
    "start_time": "2023-11-20T08:18:58.999Z"
   },
   {
    "duration": 880,
    "start_time": "2023-11-20T08:18:59.005Z"
   },
   {
    "duration": 6,
    "start_time": "2023-11-20T08:18:59.886Z"
   },
   {
    "duration": 13,
    "start_time": "2023-11-20T08:18:59.893Z"
   },
   {
    "duration": 374,
    "start_time": "2023-11-20T08:18:59.907Z"
   },
   {
    "duration": 5,
    "start_time": "2023-11-20T08:19:00.283Z"
   },
   {
    "duration": 347,
    "start_time": "2023-11-20T08:19:00.289Z"
   },
   {
    "duration": 330,
    "start_time": "2023-11-20T08:19:00.637Z"
   },
   {
    "duration": 373,
    "start_time": "2023-11-20T08:19:00.969Z"
   },
   {
    "duration": 226,
    "start_time": "2023-11-20T08:19:01.344Z"
   },
   {
    "duration": 7,
    "start_time": "2023-11-20T08:19:01.571Z"
   },
   {
    "duration": 230,
    "start_time": "2023-11-20T08:19:01.579Z"
   },
   {
    "duration": 5,
    "start_time": "2023-11-20T08:19:01.810Z"
   },
   {
    "duration": 497,
    "start_time": "2023-11-20T08:19:01.817Z"
   },
   {
    "duration": 3,
    "start_time": "2023-11-20T08:19:02.316Z"
   },
   {
    "duration": 14,
    "start_time": "2023-11-20T08:19:02.321Z"
   },
   {
    "duration": 1827,
    "start_time": "2023-11-20T08:19:02.336Z"
   },
   {
    "duration": 511,
    "start_time": "2023-11-20T08:19:04.165Z"
   },
   {
    "duration": 2,
    "start_time": "2023-11-20T08:19:04.678Z"
   },
   {
    "duration": 18,
    "start_time": "2023-11-20T08:19:04.681Z"
   },
   {
    "duration": 7,
    "start_time": "2023-11-20T08:19:04.701Z"
   },
   {
    "duration": 2680,
    "start_time": "2023-11-20T08:19:04.710Z"
   },
   {
    "duration": 4,
    "start_time": "2023-11-20T08:19:07.392Z"
   },
   {
    "duration": 3,
    "start_time": "2023-11-20T08:19:07.397Z"
   },
   {
    "duration": 11,
    "start_time": "2023-11-20T08:19:07.401Z"
   },
   {
    "duration": 54477,
    "start_time": "2023-11-20T08:19:07.414Z"
   },
   {
    "duration": 3,
    "start_time": "2023-11-20T08:20:01.893Z"
   },
   {
    "duration": 52,
    "start_time": "2023-11-20T08:20:01.897Z"
   },
   {
    "duration": 51,
    "start_time": "2023-11-20T08:20:01.953Z"
   },
   {
    "duration": 51265,
    "start_time": "2023-11-20T08:20:02.006Z"
   },
   {
    "duration": 4,
    "start_time": "2023-11-20T08:20:53.355Z"
   },
   {
    "duration": 4,
    "start_time": "2023-11-20T08:20:53.360Z"
   },
   {
    "duration": 6,
    "start_time": "2023-11-20T08:20:53.366Z"
   },
   {
    "duration": 20,
    "start_time": "2023-11-20T08:20:53.373Z"
   },
   {
    "duration": 2,
    "start_time": "2023-11-20T08:20:53.394Z"
   },
   {
    "duration": 2360,
    "start_time": "2023-11-20T08:20:53.398Z"
   },
   {
    "duration": 7,
    "start_time": "2023-11-20T08:20:55.759Z"
   },
   {
    "duration": 27,
    "start_time": "2023-11-20T08:20:55.768Z"
   },
   {
    "duration": 25,
    "start_time": "2023-11-20T08:20:55.796Z"
   },
   {
    "duration": 30,
    "start_time": "2023-11-20T08:20:55.822Z"
   },
   {
    "duration": 26,
    "start_time": "2023-11-20T08:20:55.853Z"
   },
   {
    "duration": 3,
    "start_time": "2023-11-20T08:21:57.019Z"
   },
   {
    "duration": 2,
    "start_time": "2023-11-20T08:22:06.207Z"
   },
   {
    "duration": 24,
    "start_time": "2023-11-20T08:23:50.746Z"
   },
   {
    "duration": 2,
    "start_time": "2023-11-20T08:23:52.492Z"
   },
   {
    "duration": 6182,
    "start_time": "2023-11-20T08:23:53.378Z"
   },
   {
    "duration": 18,
    "start_time": "2023-11-20T08:23:59.562Z"
   },
   {
    "duration": 7,
    "start_time": "2023-11-20T08:23:59.581Z"
   },
   {
    "duration": 3,
    "start_time": "2023-11-20T08:24:02.348Z"
   },
   {
    "duration": 3,
    "start_time": "2023-11-20T08:24:02.597Z"
   },
   {
    "duration": 3,
    "start_time": "2023-11-20T08:24:02.841Z"
   },
   {
    "duration": 11105,
    "start_time": "2023-11-20T08:24:18.497Z"
   },
   {
    "duration": 2472,
    "start_time": "2023-11-20T08:24:29.604Z"
   },
   {
    "duration": 56,
    "start_time": "2023-11-20T08:24:32.077Z"
   },
   {
    "duration": 11,
    "start_time": "2023-11-20T08:24:32.134Z"
   },
   {
    "duration": 8,
    "start_time": "2023-11-20T08:24:32.146Z"
   },
   {
    "duration": 82,
    "start_time": "2023-11-20T08:24:32.155Z"
   },
   {
    "duration": 28,
    "start_time": "2023-11-20T08:24:32.238Z"
   },
   {
    "duration": 96,
    "start_time": "2023-11-20T08:24:32.268Z"
   },
   {
    "duration": 255,
    "start_time": "2023-11-20T08:24:32.366Z"
   },
   {
    "duration": 153,
    "start_time": "2023-11-20T08:24:32.624Z"
   },
   {
    "duration": 20,
    "start_time": "2023-11-20T08:24:32.779Z"
   },
   {
    "duration": 55,
    "start_time": "2023-11-20T08:24:32.801Z"
   },
   {
    "duration": 20,
    "start_time": "2023-11-20T08:24:32.858Z"
   },
   {
    "duration": 975,
    "start_time": "2023-11-20T08:24:32.879Z"
   },
   {
    "duration": 7,
    "start_time": "2023-11-20T08:24:33.856Z"
   },
   {
    "duration": 24,
    "start_time": "2023-11-20T08:24:33.864Z"
   },
   {
    "duration": 384,
    "start_time": "2023-11-20T08:24:33.889Z"
   },
   {
    "duration": 5,
    "start_time": "2023-11-20T08:24:34.274Z"
   },
   {
    "duration": 356,
    "start_time": "2023-11-20T08:24:34.280Z"
   },
   {
    "duration": 344,
    "start_time": "2023-11-20T08:24:34.637Z"
   },
   {
    "duration": 373,
    "start_time": "2023-11-20T08:24:34.982Z"
   },
   {
    "duration": 249,
    "start_time": "2023-11-20T08:24:35.357Z"
   },
   {
    "duration": 7,
    "start_time": "2023-11-20T08:24:35.608Z"
   },
   {
    "duration": 268,
    "start_time": "2023-11-20T08:24:35.616Z"
   },
   {
    "duration": 4,
    "start_time": "2023-11-20T08:24:35.885Z"
   },
   {
    "duration": 632,
    "start_time": "2023-11-20T08:24:35.891Z"
   },
   {
    "duration": 4,
    "start_time": "2023-11-20T08:24:36.524Z"
   },
   {
    "duration": 9,
    "start_time": "2023-11-20T08:24:36.531Z"
   },
   {
    "duration": 1814,
    "start_time": "2023-11-20T08:24:36.541Z"
   },
   {
    "duration": 460,
    "start_time": "2023-11-20T08:24:38.357Z"
   },
   {
    "duration": 3,
    "start_time": "2023-11-20T08:24:38.818Z"
   },
   {
    "duration": 11,
    "start_time": "2023-11-20T08:24:38.822Z"
   },
   {
    "duration": 32,
    "start_time": "2023-11-20T08:24:38.834Z"
   },
   {
    "duration": 2891,
    "start_time": "2023-11-20T08:24:38.868Z"
   },
   {
    "duration": 5,
    "start_time": "2023-11-20T08:24:41.761Z"
   },
   {
    "duration": 6,
    "start_time": "2023-11-20T08:24:41.767Z"
   },
   {
    "duration": 8,
    "start_time": "2023-11-20T08:24:41.775Z"
   },
   {
    "duration": 67995,
    "start_time": "2023-11-20T08:24:41.784Z"
   },
   {
    "duration": 4,
    "start_time": "2023-11-20T08:25:49.781Z"
   },
   {
    "duration": 6,
    "start_time": "2023-11-20T08:25:49.787Z"
   },
   {
    "duration": 6,
    "start_time": "2023-11-20T08:25:49.795Z"
   },
   {
    "duration": 325268,
    "start_time": "2023-11-20T08:25:49.802Z"
   },
   {
    "duration": 3,
    "start_time": "2023-11-20T08:31:15.073Z"
   },
   {
    "duration": 28,
    "start_time": "2023-11-20T08:31:15.078Z"
   },
   {
    "duration": 32,
    "start_time": "2023-11-20T08:31:15.107Z"
   },
   {
    "duration": 42,
    "start_time": "2023-11-20T08:31:15.140Z"
   },
   {
    "duration": 2,
    "start_time": "2023-11-20T08:31:15.184Z"
   },
   {
    "duration": 8184,
    "start_time": "2023-11-20T08:31:15.188Z"
   },
   {
    "duration": 6,
    "start_time": "2023-11-20T08:31:23.376Z"
   },
   {
    "duration": 13,
    "start_time": "2023-11-20T08:31:23.456Z"
   },
   {
    "duration": 3,
    "start_time": "2023-11-20T08:31:23.471Z"
   },
   {
    "duration": 4,
    "start_time": "2023-11-20T08:31:23.476Z"
   },
   {
    "duration": 3,
    "start_time": "2023-11-20T08:31:23.482Z"
   },
   {
    "duration": 25,
    "start_time": "2023-11-20T08:32:02.110Z"
   },
   {
    "duration": 2,
    "start_time": "2023-11-20T08:32:18.194Z"
   },
   {
    "duration": 2891,
    "start_time": "2023-11-20T08:32:19.285Z"
   },
   {
    "duration": 9,
    "start_time": "2023-11-20T08:32:25.041Z"
   },
   {
    "duration": 4,
    "start_time": "2023-11-20T08:32:26.146Z"
   },
   {
    "duration": 4,
    "start_time": "2023-11-20T08:32:27.434Z"
   },
   {
    "duration": 3,
    "start_time": "2023-11-20T08:32:27.915Z"
   },
   {
    "duration": 3,
    "start_time": "2023-11-20T08:32:28.371Z"
   },
   {
    "duration": 16162,
    "start_time": "2023-11-20T09:32:22.816Z"
   },
   {
    "duration": 1601,
    "start_time": "2023-11-20T09:32:38.980Z"
   },
   {
    "duration": 138,
    "start_time": "2023-11-20T09:32:40.583Z"
   },
   {
    "duration": 10,
    "start_time": "2023-11-20T09:32:40.723Z"
   },
   {
    "duration": 45,
    "start_time": "2023-11-20T09:32:40.735Z"
   },
   {
    "duration": 12,
    "start_time": "2023-11-20T09:32:40.781Z"
   },
   {
    "duration": 31,
    "start_time": "2023-11-20T09:32:40.794Z"
   },
   {
    "duration": 22,
    "start_time": "2023-11-20T09:32:40.826Z"
   },
   {
    "duration": 22,
    "start_time": "2023-11-20T09:32:40.850Z"
   },
   {
    "duration": 19,
    "start_time": "2023-11-20T09:32:40.874Z"
   },
   {
    "duration": 19,
    "start_time": "2023-11-20T09:32:40.894Z"
   },
   {
    "duration": 27,
    "start_time": "2023-11-20T09:32:40.914Z"
   },
   {
    "duration": 7,
    "start_time": "2023-11-20T09:32:40.943Z"
   },
   {
    "duration": 1477,
    "start_time": "2023-11-20T09:32:40.952Z"
   },
   {
    "duration": 8,
    "start_time": "2023-11-20T09:32:42.431Z"
   },
   {
    "duration": 32,
    "start_time": "2023-11-20T09:32:42.441Z"
   },
   {
    "duration": 445,
    "start_time": "2023-11-20T09:32:42.475Z"
   },
   {
    "duration": 6,
    "start_time": "2023-11-20T09:32:42.922Z"
   },
   {
    "duration": 401,
    "start_time": "2023-11-20T09:32:42.930Z"
   },
   {
    "duration": 408,
    "start_time": "2023-11-20T09:32:43.332Z"
   },
   {
    "duration": 424,
    "start_time": "2023-11-20T09:32:43.742Z"
   },
   {
    "duration": 248,
    "start_time": "2023-11-20T09:32:44.171Z"
   },
   {
    "duration": 8,
    "start_time": "2023-11-20T09:32:44.420Z"
   },
   {
    "duration": 258,
    "start_time": "2023-11-20T09:32:44.430Z"
   },
   {
    "duration": 6,
    "start_time": "2023-11-20T09:32:44.689Z"
   },
   {
    "duration": 607,
    "start_time": "2023-11-20T09:32:44.696Z"
   },
   {
    "duration": 4,
    "start_time": "2023-11-20T09:32:45.304Z"
   },
   {
    "duration": 8,
    "start_time": "2023-11-20T09:32:45.310Z"
   },
   {
    "duration": 1757,
    "start_time": "2023-11-20T09:32:45.319Z"
   },
   {
    "duration": 615,
    "start_time": "2023-11-20T09:32:47.078Z"
   },
   {
    "duration": 2,
    "start_time": "2023-11-20T09:32:47.695Z"
   },
   {
    "duration": 8,
    "start_time": "2023-11-20T09:32:47.699Z"
   },
   {
    "duration": 32,
    "start_time": "2023-11-20T09:32:47.708Z"
   },
   {
    "duration": 13,
    "start_time": "2023-11-20T09:32:47.741Z"
   },
   {
    "duration": 14,
    "start_time": "2023-11-20T09:33:45.259Z"
   },
   {
    "duration": 108,
    "start_time": "2023-11-20T10:49:26.105Z"
   },
   {
    "duration": 8,
    "start_time": "2023-11-20T10:55:21.811Z"
   },
   {
    "duration": 5,
    "start_time": "2023-11-20T10:55:33.299Z"
   },
   {
    "duration": 163,
    "start_time": "2023-11-20T10:55:54.376Z"
   },
   {
    "duration": 4,
    "start_time": "2023-11-20T10:56:00.427Z"
   },
   {
    "duration": 6,
    "start_time": "2023-11-20T10:56:04.938Z"
   },
   {
    "duration": 4,
    "start_time": "2023-11-20T10:56:26.707Z"
   },
   {
    "duration": 4,
    "start_time": "2023-11-20T10:56:27.223Z"
   },
   {
    "duration": 10516,
    "start_time": "2023-11-20T10:57:22.700Z"
   },
   {
    "duration": 2256,
    "start_time": "2023-11-20T10:57:33.218Z"
   },
   {
    "duration": 58,
    "start_time": "2023-11-20T10:57:35.475Z"
   },
   {
    "duration": 9,
    "start_time": "2023-11-20T10:57:35.534Z"
   },
   {
    "duration": 21,
    "start_time": "2023-11-20T10:57:35.544Z"
   },
   {
    "duration": 37,
    "start_time": "2023-11-20T10:57:35.566Z"
   },
   {
    "duration": 49,
    "start_time": "2023-11-20T10:57:35.604Z"
   },
   {
    "duration": 11,
    "start_time": "2023-11-20T10:57:35.655Z"
   },
   {
    "duration": 12,
    "start_time": "2023-11-20T10:57:35.668Z"
   },
   {
    "duration": 42,
    "start_time": "2023-11-20T10:57:35.683Z"
   },
   {
    "duration": 42,
    "start_time": "2023-11-20T10:57:35.727Z"
   },
   {
    "duration": 33,
    "start_time": "2023-11-20T10:57:35.771Z"
   },
   {
    "duration": 9,
    "start_time": "2023-11-20T10:57:35.805Z"
   },
   {
    "duration": 912,
    "start_time": "2023-11-20T10:57:35.815Z"
   },
   {
    "duration": 7,
    "start_time": "2023-11-20T10:57:36.728Z"
   },
   {
    "duration": 36,
    "start_time": "2023-11-20T10:57:36.737Z"
   },
   {
    "duration": 431,
    "start_time": "2023-11-20T10:57:36.774Z"
   },
   {
    "duration": 5,
    "start_time": "2023-11-20T10:57:37.206Z"
   },
   {
    "duration": 343,
    "start_time": "2023-11-20T10:57:37.213Z"
   },
   {
    "duration": 328,
    "start_time": "2023-11-20T10:57:37.558Z"
   },
   {
    "duration": 352,
    "start_time": "2023-11-20T10:57:37.888Z"
   },
   {
    "duration": 246,
    "start_time": "2023-11-20T10:57:38.241Z"
   },
   {
    "duration": 9,
    "start_time": "2023-11-20T10:57:38.489Z"
   },
   {
    "duration": 250,
    "start_time": "2023-11-20T10:57:38.499Z"
   },
   {
    "duration": 7,
    "start_time": "2023-11-20T10:57:38.751Z"
   },
   {
    "duration": 534,
    "start_time": "2023-11-20T10:57:38.760Z"
   },
   {
    "duration": 4,
    "start_time": "2023-11-20T10:57:39.296Z"
   },
   {
    "duration": 34,
    "start_time": "2023-11-20T10:57:39.304Z"
   },
   {
    "duration": 1624,
    "start_time": "2023-11-20T10:57:39.340Z"
   },
   {
    "duration": 457,
    "start_time": "2023-11-20T10:57:41.057Z"
   },
   {
    "duration": 3,
    "start_time": "2023-11-20T10:57:41.515Z"
   },
   {
    "duration": 29,
    "start_time": "2023-11-20T10:57:41.519Z"
   },
   {
    "duration": 29,
    "start_time": "2023-11-20T10:57:41.550Z"
   },
   {
    "duration": 2289,
    "start_time": "2023-11-20T10:57:41.581Z"
   },
   {
    "duration": 3,
    "start_time": "2023-11-20T10:57:43.872Z"
   },
   {
    "duration": 21,
    "start_time": "2023-11-20T10:57:43.877Z"
   },
   {
    "duration": 26,
    "start_time": "2023-11-20T10:57:43.899Z"
   },
   {
    "duration": 26095,
    "start_time": "2023-11-20T10:57:43.926Z"
   },
   {
    "duration": 0,
    "start_time": "2023-11-20T10:58:10.023Z"
   },
   {
    "duration": 0,
    "start_time": "2023-11-20T10:58:10.024Z"
   },
   {
    "duration": 0,
    "start_time": "2023-11-20T10:58:10.025Z"
   },
   {
    "duration": 0,
    "start_time": "2023-11-20T10:58:10.026Z"
   },
   {
    "duration": 0,
    "start_time": "2023-11-20T10:58:10.027Z"
   },
   {
    "duration": 0,
    "start_time": "2023-11-20T10:58:10.028Z"
   },
   {
    "duration": 0,
    "start_time": "2023-11-20T10:58:10.029Z"
   },
   {
    "duration": 0,
    "start_time": "2023-11-20T10:58:10.030Z"
   },
   {
    "duration": 0,
    "start_time": "2023-11-20T10:58:10.031Z"
   },
   {
    "duration": 0,
    "start_time": "2023-11-20T10:58:10.032Z"
   },
   {
    "duration": 0,
    "start_time": "2023-11-20T10:58:10.033Z"
   },
   {
    "duration": 0,
    "start_time": "2023-11-20T10:58:10.034Z"
   },
   {
    "duration": 0,
    "start_time": "2023-11-20T10:58:10.056Z"
   },
   {
    "duration": 0,
    "start_time": "2023-11-20T10:58:10.058Z"
   },
   {
    "duration": 0,
    "start_time": "2023-11-20T10:58:10.059Z"
   },
   {
    "duration": 11375,
    "start_time": "2023-11-20T10:58:32.220Z"
   },
   {
    "duration": 2281,
    "start_time": "2023-11-20T10:58:43.597Z"
   },
   {
    "duration": 56,
    "start_time": "2023-11-20T10:58:45.879Z"
   },
   {
    "duration": 9,
    "start_time": "2023-11-20T10:58:45.936Z"
   },
   {
    "duration": 21,
    "start_time": "2023-11-20T10:58:45.946Z"
   },
   {
    "duration": 14,
    "start_time": "2023-11-20T10:58:45.968Z"
   },
   {
    "duration": 20,
    "start_time": "2023-11-20T10:58:45.984Z"
   },
   {
    "duration": 5,
    "start_time": "2023-11-20T10:58:46.006Z"
   },
   {
    "duration": 5,
    "start_time": "2023-11-20T10:58:46.013Z"
   },
   {
    "duration": 5,
    "start_time": "2023-11-20T10:58:46.020Z"
   },
   {
    "duration": 18,
    "start_time": "2023-11-20T10:58:46.027Z"
   },
   {
    "duration": 15,
    "start_time": "2023-11-20T10:58:46.047Z"
   },
   {
    "duration": 4,
    "start_time": "2023-11-20T10:58:46.063Z"
   },
   {
    "duration": 878,
    "start_time": "2023-11-20T10:58:46.068Z"
   },
   {
    "duration": 11,
    "start_time": "2023-11-20T10:58:46.947Z"
   },
   {
    "duration": 36,
    "start_time": "2023-11-20T10:58:46.960Z"
   },
   {
    "duration": 383,
    "start_time": "2023-11-20T10:58:46.998Z"
   },
   {
    "duration": 5,
    "start_time": "2023-11-20T10:58:47.382Z"
   },
   {
    "duration": 348,
    "start_time": "2023-11-20T10:58:47.388Z"
   },
   {
    "duration": 334,
    "start_time": "2023-11-20T10:58:47.737Z"
   },
   {
    "duration": 359,
    "start_time": "2023-11-20T10:58:48.073Z"
   },
   {
    "duration": 237,
    "start_time": "2023-11-20T10:58:48.433Z"
   },
   {
    "duration": 7,
    "start_time": "2023-11-20T10:58:48.672Z"
   },
   {
    "duration": 238,
    "start_time": "2023-11-20T10:58:48.681Z"
   },
   {
    "duration": 5,
    "start_time": "2023-11-20T10:58:48.921Z"
   },
   {
    "duration": 485,
    "start_time": "2023-11-20T10:58:48.927Z"
   },
   {
    "duration": 4,
    "start_time": "2023-11-20T10:58:49.413Z"
   },
   {
    "duration": 8,
    "start_time": "2023-11-20T10:58:49.420Z"
   },
   {
    "duration": 1235,
    "start_time": "2023-11-20T10:58:49.429Z"
   },
   {
    "duration": 447,
    "start_time": "2023-11-20T10:58:50.756Z"
   },
   {
    "duration": 3,
    "start_time": "2023-11-20T10:58:51.205Z"
   },
   {
    "duration": 11,
    "start_time": "2023-11-20T10:58:51.210Z"
   },
   {
    "duration": 5,
    "start_time": "2023-11-20T10:58:51.223Z"
   },
   {
    "duration": 3247,
    "start_time": "2023-11-20T10:58:51.229Z"
   },
   {
    "duration": 3,
    "start_time": "2023-11-20T10:58:54.478Z"
   },
   {
    "duration": 17,
    "start_time": "2023-11-20T10:58:54.482Z"
   },
   {
    "duration": 15,
    "start_time": "2023-11-20T10:58:54.500Z"
   },
   {
    "duration": 62059,
    "start_time": "2023-11-20T10:58:54.516Z"
   },
   {
    "duration": 3,
    "start_time": "2023-11-20T10:59:56.576Z"
   },
   {
    "duration": 11,
    "start_time": "2023-11-20T10:59:56.580Z"
   },
   {
    "duration": 11,
    "start_time": "2023-11-20T10:59:56.592Z"
   },
   {
    "duration": 36658,
    "start_time": "2023-11-20T10:59:56.604Z"
   },
   {
    "duration": 3,
    "start_time": "2023-11-20T11:00:33.263Z"
   },
   {
    "duration": 25,
    "start_time": "2023-11-20T11:00:33.268Z"
   },
   {
    "duration": 34,
    "start_time": "2023-11-20T11:00:33.294Z"
   },
   {
    "duration": 38,
    "start_time": "2023-11-20T11:00:33.329Z"
   },
   {
    "duration": 16,
    "start_time": "2023-11-20T11:00:33.369Z"
   },
   {
    "duration": 1175,
    "start_time": "2023-11-20T11:00:33.386Z"
   },
   {
    "duration": 8,
    "start_time": "2023-11-20T11:00:34.562Z"
   },
   {
    "duration": 18,
    "start_time": "2023-11-20T11:00:34.571Z"
   },
   {
    "duration": 22,
    "start_time": "2023-11-20T11:00:34.591Z"
   },
   {
    "duration": 40,
    "start_time": "2023-11-20T11:00:34.615Z"
   },
   {
    "duration": 13,
    "start_time": "2023-11-20T11:00:34.657Z"
   },
   {
    "duration": 24,
    "start_time": "2023-11-20T11:00:50.532Z"
   },
   {
    "duration": 3,
    "start_time": "2023-11-20T11:00:51.178Z"
   },
   {
    "duration": 952,
    "start_time": "2023-11-20T11:00:51.615Z"
   },
   {
    "duration": 6,
    "start_time": "2023-11-20T11:00:53.348Z"
   },
   {
    "duration": 4,
    "start_time": "2023-11-20T11:00:53.861Z"
   },
   {
    "duration": 4,
    "start_time": "2023-11-20T11:00:55.963Z"
   },
   {
    "duration": 4,
    "start_time": "2023-11-20T11:00:56.166Z"
   },
   {
    "duration": 3,
    "start_time": "2023-11-20T11:00:56.340Z"
   },
   {
    "duration": 10548,
    "start_time": "2023-11-20T11:01:32.323Z"
   },
   {
    "duration": 2260,
    "start_time": "2023-11-20T11:01:42.874Z"
   },
   {
    "duration": 56,
    "start_time": "2023-11-20T11:01:45.135Z"
   },
   {
    "duration": 8,
    "start_time": "2023-11-20T11:01:45.193Z"
   },
   {
    "duration": 33,
    "start_time": "2023-11-20T11:01:45.202Z"
   },
   {
    "duration": 3,
    "start_time": "2023-11-20T11:01:45.237Z"
   },
   {
    "duration": 5,
    "start_time": "2023-11-20T11:01:45.241Z"
   },
   {
    "duration": 6,
    "start_time": "2023-11-20T11:01:45.247Z"
   },
   {
    "duration": 5,
    "start_time": "2023-11-20T11:01:45.254Z"
   },
   {
    "duration": 4,
    "start_time": "2023-11-20T11:01:45.261Z"
   },
   {
    "duration": 4,
    "start_time": "2023-11-20T11:01:45.266Z"
   },
   {
    "duration": 13,
    "start_time": "2023-11-20T11:01:45.272Z"
   },
   {
    "duration": 3,
    "start_time": "2023-11-20T11:01:45.286Z"
   },
   {
    "duration": 899,
    "start_time": "2023-11-20T11:01:45.290Z"
   },
   {
    "duration": 6,
    "start_time": "2023-11-20T11:01:46.190Z"
   },
   {
    "duration": 15,
    "start_time": "2023-11-20T11:01:46.197Z"
   },
   {
    "duration": 358,
    "start_time": "2023-11-20T11:01:46.213Z"
   },
   {
    "duration": 5,
    "start_time": "2023-11-20T11:01:46.573Z"
   },
   {
    "duration": 349,
    "start_time": "2023-11-20T11:01:46.579Z"
   },
   {
    "duration": 309,
    "start_time": "2023-11-20T11:01:46.929Z"
   },
   {
    "duration": 341,
    "start_time": "2023-11-20T11:01:47.240Z"
   },
   {
    "duration": 234,
    "start_time": "2023-11-20T11:01:47.583Z"
   },
   {
    "duration": 8,
    "start_time": "2023-11-20T11:01:47.818Z"
   },
   {
    "duration": 252,
    "start_time": "2023-11-20T11:01:47.827Z"
   },
   {
    "duration": 5,
    "start_time": "2023-11-20T11:01:48.080Z"
   },
   {
    "duration": 492,
    "start_time": "2023-11-20T11:01:48.087Z"
   },
   {
    "duration": 4,
    "start_time": "2023-11-20T11:01:48.580Z"
   },
   {
    "duration": 10,
    "start_time": "2023-11-20T11:01:48.587Z"
   },
   {
    "duration": 1562,
    "start_time": "2023-11-20T11:01:48.598Z"
   },
   {
    "duration": 524,
    "start_time": "2023-11-20T11:01:50.162Z"
   },
   {
    "duration": 3,
    "start_time": "2023-11-20T11:01:50.687Z"
   },
   {
    "duration": 24,
    "start_time": "2023-11-20T11:01:50.691Z"
   },
   {
    "duration": 14,
    "start_time": "2023-11-20T11:01:50.716Z"
   },
   {
    "duration": 2224,
    "start_time": "2023-11-20T11:01:50.732Z"
   },
   {
    "duration": 3,
    "start_time": "2023-11-20T11:01:52.958Z"
   },
   {
    "duration": 12,
    "start_time": "2023-11-20T11:01:52.963Z"
   },
   {
    "duration": 11,
    "start_time": "2023-11-20T11:01:52.976Z"
   },
   {
    "duration": 44645,
    "start_time": "2023-11-20T11:01:52.988Z"
   },
   {
    "duration": 4,
    "start_time": "2023-11-20T11:02:37.635Z"
   },
   {
    "duration": 18,
    "start_time": "2023-11-20T11:02:37.641Z"
   },
   {
    "duration": 6,
    "start_time": "2023-11-20T11:02:37.661Z"
   },
   {
    "duration": 33699,
    "start_time": "2023-11-20T11:02:37.668Z"
   },
   {
    "duration": 3,
    "start_time": "2023-11-20T11:03:11.368Z"
   },
   {
    "duration": 93,
    "start_time": "2023-11-20T11:03:11.373Z"
   },
   {
    "duration": 24,
    "start_time": "2023-11-20T11:03:11.468Z"
   },
   {
    "duration": 167,
    "start_time": "2023-11-20T11:03:11.494Z"
   },
   {
    "duration": 0,
    "start_time": "2023-11-20T11:03:11.663Z"
   },
   {
    "duration": 0,
    "start_time": "2023-11-20T11:03:11.664Z"
   },
   {
    "duration": 0,
    "start_time": "2023-11-20T11:03:11.665Z"
   },
   {
    "duration": 0,
    "start_time": "2023-11-20T11:03:11.666Z"
   },
   {
    "duration": 0,
    "start_time": "2023-11-20T11:03:11.667Z"
   },
   {
    "duration": 0,
    "start_time": "2023-11-20T11:03:11.668Z"
   },
   {
    "duration": 0,
    "start_time": "2023-11-20T11:03:11.669Z"
   },
   {
    "duration": 0,
    "start_time": "2023-11-20T11:03:11.670Z"
   },
   {
    "duration": 23,
    "start_time": "2023-11-20T11:03:28.691Z"
   },
   {
    "duration": 4,
    "start_time": "2023-11-20T11:03:36.032Z"
   },
   {
    "duration": 3,
    "start_time": "2023-11-20T11:03:44.291Z"
   },
   {
    "duration": 1234,
    "start_time": "2023-11-20T11:03:44.724Z"
   },
   {
    "duration": 7,
    "start_time": "2023-11-20T11:03:45.960Z"
   },
   {
    "duration": 31,
    "start_time": "2023-11-20T11:03:45.968Z"
   },
   {
    "duration": 4,
    "start_time": "2023-11-20T11:03:55.896Z"
   },
   {
    "duration": 4,
    "start_time": "2023-11-20T11:03:56.747Z"
   },
   {
    "duration": 3,
    "start_time": "2023-11-20T11:03:57.292Z"
   },
   {
    "duration": 6,
    "start_time": "2023-11-20T11:07:35.184Z"
   },
   {
    "duration": 5,
    "start_time": "2023-11-20T11:07:48.989Z"
   },
   {
    "duration": 30227,
    "start_time": "2023-11-20T11:07:49.938Z"
   },
   {
    "duration": 3,
    "start_time": "2023-11-20T11:08:27.905Z"
   },
   {
    "duration": 3,
    "start_time": "2023-11-20T11:08:28.463Z"
   },
   {
    "duration": 2,
    "start_time": "2023-11-20T11:08:29.364Z"
   },
   {
    "duration": 15,
    "start_time": "2023-11-20T11:08:37.338Z"
   },
   {
    "duration": 2,
    "start_time": "2023-11-20T11:08:38.223Z"
   },
   {
    "duration": 1262,
    "start_time": "2023-11-20T11:08:38.701Z"
   },
   {
    "duration": 6,
    "start_time": "2023-11-20T11:08:39.965Z"
   },
   {
    "duration": 3,
    "start_time": "2023-11-20T11:08:40.965Z"
   },
   {
    "duration": 3,
    "start_time": "2023-11-20T11:08:41.837Z"
   },
   {
    "duration": 4,
    "start_time": "2023-11-20T11:08:42.050Z"
   },
   {
    "duration": 3,
    "start_time": "2023-11-20T11:08:42.247Z"
   },
   {
    "duration": 8,
    "start_time": "2023-11-20T11:08:58.127Z"
   },
   {
    "duration": 16029,
    "start_time": "2023-11-20T15:55:32.242Z"
   },
   {
    "duration": 1595,
    "start_time": "2023-11-20T15:55:48.273Z"
   },
   {
    "duration": 138,
    "start_time": "2023-11-20T15:55:49.872Z"
   },
   {
    "duration": 10,
    "start_time": "2023-11-20T15:55:50.012Z"
   },
   {
    "duration": 60,
    "start_time": "2023-11-20T15:55:50.024Z"
   },
   {
    "duration": 58,
    "start_time": "2023-11-20T15:55:50.085Z"
   },
   {
    "duration": 26,
    "start_time": "2023-11-20T15:55:50.145Z"
   },
   {
    "duration": 7,
    "start_time": "2023-11-20T15:55:50.172Z"
   },
   {
    "duration": 13,
    "start_time": "2023-11-20T15:55:50.181Z"
   },
   {
    "duration": 5,
    "start_time": "2023-11-20T15:55:50.196Z"
   },
   {
    "duration": 4,
    "start_time": "2023-11-20T15:55:50.203Z"
   },
   {
    "duration": 16,
    "start_time": "2023-11-20T15:55:50.208Z"
   },
   {
    "duration": 4,
    "start_time": "2023-11-20T15:55:50.226Z"
   },
   {
    "duration": 1380,
    "start_time": "2023-11-20T15:55:50.232Z"
   },
   {
    "duration": 10,
    "start_time": "2023-11-20T15:55:51.614Z"
   },
   {
    "duration": 20,
    "start_time": "2023-11-20T15:55:51.626Z"
   },
   {
    "duration": 449,
    "start_time": "2023-11-20T15:55:51.648Z"
   },
   {
    "duration": 6,
    "start_time": "2023-11-20T15:55:52.098Z"
   },
   {
    "duration": 399,
    "start_time": "2023-11-20T15:55:52.105Z"
   },
   {
    "duration": 401,
    "start_time": "2023-11-20T15:55:52.505Z"
   },
   {
    "duration": 422,
    "start_time": "2023-11-20T15:55:52.907Z"
   },
   {
    "duration": 261,
    "start_time": "2023-11-20T15:55:53.331Z"
   },
   {
    "duration": 8,
    "start_time": "2023-11-20T15:55:53.594Z"
   },
   {
    "duration": 258,
    "start_time": "2023-11-20T15:55:53.603Z"
   },
   {
    "duration": 13,
    "start_time": "2023-11-20T15:55:53.863Z"
   },
   {
    "duration": 651,
    "start_time": "2023-11-20T15:55:53.877Z"
   },
   {
    "duration": 3,
    "start_time": "2023-11-20T15:55:54.529Z"
   },
   {
    "duration": 7,
    "start_time": "2023-11-20T15:55:54.534Z"
   },
   {
    "duration": 2439,
    "start_time": "2023-11-20T15:55:54.542Z"
   },
   {
    "duration": 566,
    "start_time": "2023-11-20T15:55:57.072Z"
   },
   {
    "duration": 2,
    "start_time": "2023-11-20T15:55:57.640Z"
   },
   {
    "duration": 11,
    "start_time": "2023-11-20T15:55:57.644Z"
   },
   {
    "duration": 16,
    "start_time": "2023-11-20T15:55:57.656Z"
   },
   {
    "duration": 2872,
    "start_time": "2023-11-20T15:55:57.674Z"
   },
   {
    "duration": 4,
    "start_time": "2023-11-20T15:56:00.548Z"
   },
   {
    "duration": 320,
    "start_time": "2023-11-20T15:56:00.553Z"
   },
   {
    "duration": 0,
    "start_time": "2023-11-20T15:56:00.875Z"
   },
   {
    "duration": 158,
    "start_time": "2023-11-20T15:58:26.284Z"
   },
   {
    "duration": 449,
    "start_time": "2023-11-20T15:59:05.832Z"
   },
   {
    "duration": 154,
    "start_time": "2023-11-20T16:00:03.164Z"
   },
   {
    "duration": 272,
    "start_time": "2023-11-20T16:01:24.814Z"
   },
   {
    "duration": 10360,
    "start_time": "2023-11-20T16:01:46.864Z"
   },
   {
    "duration": 1752,
    "start_time": "2023-11-20T16:01:57.226Z"
   },
   {
    "duration": 51,
    "start_time": "2023-11-20T16:01:58.979Z"
   },
   {
    "duration": 10,
    "start_time": "2023-11-20T16:01:59.031Z"
   },
   {
    "duration": 11,
    "start_time": "2023-11-20T16:01:59.043Z"
   },
   {
    "duration": 3,
    "start_time": "2023-11-20T16:01:59.055Z"
   },
   {
    "duration": 6,
    "start_time": "2023-11-20T16:01:59.060Z"
   },
   {
    "duration": 8,
    "start_time": "2023-11-20T16:01:59.067Z"
   },
   {
    "duration": 7,
    "start_time": "2023-11-20T16:01:59.076Z"
   },
   {
    "duration": 6,
    "start_time": "2023-11-20T16:01:59.084Z"
   },
   {
    "duration": 14,
    "start_time": "2023-11-20T16:01:59.091Z"
   },
   {
    "duration": 18,
    "start_time": "2023-11-20T16:01:59.107Z"
   },
   {
    "duration": 4,
    "start_time": "2023-11-20T16:01:59.126Z"
   },
   {
    "duration": 1371,
    "start_time": "2023-11-20T16:01:59.132Z"
   },
   {
    "duration": 8,
    "start_time": "2023-11-20T16:02:00.505Z"
   },
   {
    "duration": 42,
    "start_time": "2023-11-20T16:02:00.514Z"
   },
   {
    "duration": 466,
    "start_time": "2023-11-20T16:02:00.558Z"
   },
   {
    "duration": 7,
    "start_time": "2023-11-20T16:02:01.025Z"
   },
   {
    "duration": 439,
    "start_time": "2023-11-20T16:02:01.034Z"
   },
   {
    "duration": 458,
    "start_time": "2023-11-20T16:02:01.474Z"
   },
   {
    "duration": 425,
    "start_time": "2023-11-20T16:02:01.933Z"
   },
   {
    "duration": 247,
    "start_time": "2023-11-20T16:02:02.360Z"
   },
   {
    "duration": 9,
    "start_time": "2023-11-20T16:02:02.608Z"
   },
   {
    "duration": 253,
    "start_time": "2023-11-20T16:02:02.619Z"
   },
   {
    "duration": 5,
    "start_time": "2023-11-20T16:02:02.874Z"
   },
   {
    "duration": 600,
    "start_time": "2023-11-20T16:02:02.880Z"
   },
   {
    "duration": 3,
    "start_time": "2023-11-20T16:02:03.481Z"
   },
   {
    "duration": 20,
    "start_time": "2023-11-20T16:02:03.486Z"
   },
   {
    "duration": 1868,
    "start_time": "2023-11-20T16:02:03.507Z"
   },
   {
    "duration": 602,
    "start_time": "2023-11-20T16:02:05.377Z"
   },
   {
    "duration": 3,
    "start_time": "2023-11-20T16:02:05.980Z"
   },
   {
    "duration": 16,
    "start_time": "2023-11-20T16:02:05.985Z"
   },
   {
    "duration": 29,
    "start_time": "2023-11-20T16:02:06.003Z"
   },
   {
    "duration": 2602,
    "start_time": "2023-11-20T16:02:06.033Z"
   },
   {
    "duration": 5,
    "start_time": "2023-11-20T16:02:08.636Z"
   },
   {
    "duration": 339,
    "start_time": "2023-11-20T16:02:08.642Z"
   },
   {
    "duration": 3,
    "start_time": "2023-11-20T16:02:08.982Z"
   }
  ],
  "kernelspec": {
   "display_name": "Python 3 (ipykernel)",
   "language": "python",
   "name": "python3"
  },
  "language_info": {
   "codemirror_mode": {
    "name": "ipython",
    "version": 3
   },
   "file_extension": ".py",
   "mimetype": "text/x-python",
   "name": "python",
   "nbconvert_exporter": "python",
   "pygments_lexer": "ipython3",
   "version": "3.10.12"
  },
  "toc": {
   "base_numbering": 1,
   "nav_menu": {},
   "number_sections": true,
   "sideBar": true,
   "skip_h1_title": true,
   "title_cell": "Содержание",
   "title_sidebar": "Contents",
   "toc_cell": true,
   "toc_position": {
    "height": "calc(100% - 180px)",
    "left": "10px",
    "top": "150px",
    "width": "415.617px"
   },
   "toc_section_display": true,
   "toc_window_display": true
  }
 },
 "nbformat": 4,
 "nbformat_minor": 4
}
