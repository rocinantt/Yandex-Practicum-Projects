{
 "cells": [
  {
   "cell_type": "markdown",
   "metadata": {},
   "source": [
    "# Рекомендация тарифов\n"
   ]
  },
  {
   "cell_type": "markdown",
   "metadata": {},
   "source": [
    "# Описание проекта\n",
    "\n",
    "Оператор мобильной связи выяснил: многие клиенты пользуются архивными тарифами. Они хотят построить систему, способную проанализировать поведение клиентов и предложить пользователям новый тариф: «Смарт» или «Ультра».\n",
    "В вашем распоряжении данные о поведении клиентов, которые уже перешли на эти тарифы. Нужно построить модель для задачи классификации, которая выберет подходящий тариф.\n",
    "\n",
    " **Наша цель**: построить модель с максимально большим значением `accuracy`. Минимум - 0.75"
   ]
  },
  {
   "cell_type": "markdown",
   "metadata": {},
   "source": [
    "# План работы\n",
    "\n",
    "1. Получим файл с данными и изучим общую информацию о них\n",
    "2. Разделим исходную выборку на обучающую, валидационную и тестовую в соотношени 3:1:1\n",
    "3. Исследуем качество разных моделей, меняя гиперпараметры. Напишем выводы исследования\n",
    "4. Проверим качество модели на тестовой выборки\n",
    "5. Проверим модели на вменяемость"
   ]
  },
  {
   "cell_type": "markdown",
   "metadata": {
    "toc": true
   },
   "source": [
    "<h1>Table of Contents<span class=\"tocSkip\"></span></h1>\n",
    "<div class=\"toc\"><ul class=\"toc-item\"><li><span><a href=\"#Откройте-и-изучите-файл\" data-toc-modified-id=\"Откройте-и-изучите-файл-1\"><span class=\"toc-item-num\">1&nbsp;&nbsp;</span>Откройте и изучите файл</a></span></li><li><span><a href=\"#Разбейте-данные-на-выборки\" data-toc-modified-id=\"Разбейте-данные-на-выборки-2\"><span class=\"toc-item-num\">2&nbsp;&nbsp;</span>Разбейте данные на выборки</a></span></li><li><span><a href=\"#Исследуйте-модели\" data-toc-modified-id=\"Исследуйте-модели-3\"><span class=\"toc-item-num\">3&nbsp;&nbsp;</span>Исследуйте модели</a></span><ul class=\"toc-item\"><li><span><a href=\"#Решающее-дерево\" data-toc-modified-id=\"Решающее-дерево-3.1\"><span class=\"toc-item-num\">3.1&nbsp;&nbsp;</span>Решающее дерево</a></span></li><li><span><a href=\"#Случайный-лес\" data-toc-modified-id=\"Случайный-лес-3.2\"><span class=\"toc-item-num\">3.2&nbsp;&nbsp;</span>Случайный лес</a></span></li><li><span><a href=\"#Логистическая-регрессия\" data-toc-modified-id=\"Логистическая-регрессия-3.3\"><span class=\"toc-item-num\">3.3&nbsp;&nbsp;</span>Логистическая регрессия</a></span></li><li><span><a href=\"#Промежуточный-вывод\" data-toc-modified-id=\"Промежуточный-вывод-3.4\"><span class=\"toc-item-num\">3.4&nbsp;&nbsp;</span>Промежуточный вывод</a></span></li></ul></li><li><span><a href=\"#Проверьте-модель-на-тестовой-выборке\" data-toc-modified-id=\"Проверьте-модель-на-тестовой-выборке-4\"><span class=\"toc-item-num\">4&nbsp;&nbsp;</span>Проверьте модель на тестовой выборке</a></span><ul class=\"toc-item\"><li><span><a href=\"#Проверим-модели-решающего-дерева\" data-toc-modified-id=\"Проверим-модели-решающего-дерева-4.1\"><span class=\"toc-item-num\">4.1&nbsp;&nbsp;</span>Проверим модели решающего дерева</a></span></li></ul></li><li><span><a href=\"#(бонус)-Проверьте-модели-на-адекватность\" data-toc-modified-id=\"(бонус)-Проверьте-модели-на-адекватность-5\"><span class=\"toc-item-num\">5&nbsp;&nbsp;</span>(бонус) Проверьте модели на адекватность</a></span></li><li><span><a href=\"#Вывод\" data-toc-modified-id=\"Вывод-6\"><span class=\"toc-item-num\">6&nbsp;&nbsp;</span>Вывод</a></span></li><li><span><a href=\"#Чек-лист-готовности-проекта\" data-toc-modified-id=\"Чек-лист-готовности-проекта-7\"><span class=\"toc-item-num\">7&nbsp;&nbsp;</span>Чек-лист готовности проекта</a></span></li></ul></div>"
   ]
  },
  {
   "cell_type": "markdown",
   "metadata": {},
   "source": [
    "----"
   ]
  },
  {
   "cell_type": "markdown",
   "metadata": {},
   "source": [
    "## Откройте и изучите файл"
   ]
  },
  {
   "cell_type": "markdown",
   "metadata": {},
   "source": [
    "Импортируем необходимые библиотеки"
   ]
  },
  {
   "cell_type": "code",
   "execution_count": 1,
   "metadata": {},
   "outputs": [],
   "source": [
    "import pandas as pd\n",
    "from sklearn.linear_model import LogisticRegression # модель логистической регрессии\n",
    "from sklearn.tree import DecisionTreeClassifier  # модель решающее дерево\n",
    "from sklearn.ensemble import RandomForestClassifier # модель случайный лес\n",
    "from sklearn.model_selection import train_test_split # функция для разделение выборки\n",
    "from sklearn.metrics import accuracy_score, precision_score, recall_score # функции для оценки модели\n",
    "import matplotlib.pyplot as plt\n",
    "import seaborn as sns\n",
    "import numpy as np\n",
    "from joblib import dump # функция для сохранения модели\n",
    "from joblib import load # функция для загрузки модели\n",
    "from sklearn.model_selection import RandomizedSearchCV # функция для случайного поиска оптимальных гиперпараметров\n",
    "from sklearn.metrics import confusion_matrix # функция для построения матрицы ошибок\n",
    "from sklearn.preprocessing import StandardScaler"
   ]
  },
  {
   "cell_type": "markdown",
   "metadata": {},
   "source": [
    "Считаем данные из файла в датафрейм и сохраним в переменной `df`"
   ]
  },
  {
   "cell_type": "markdown",
   "metadata": {},
   "source": [
    "Изучим общую информацию"
   ]
  },
  {
   "cell_type": "code",
   "execution_count": 3,
   "metadata": {},
   "outputs": [
    {
     "data": {
      "text/html": [
       "<div>\n",
       "<style scoped>\n",
       "    .dataframe tbody tr th:only-of-type {\n",
       "        vertical-align: middle;\n",
       "    }\n",
       "\n",
       "    .dataframe tbody tr th {\n",
       "        vertical-align: top;\n",
       "    }\n",
       "\n",
       "    .dataframe thead th {\n",
       "        text-align: right;\n",
       "    }\n",
       "</style>\n",
       "<table border=\"1\" class=\"dataframe\">\n",
       "  <thead>\n",
       "    <tr style=\"text-align: right;\">\n",
       "      <th></th>\n",
       "      <th>calls</th>\n",
       "      <th>minutes</th>\n",
       "      <th>messages</th>\n",
       "      <th>mb_used</th>\n",
       "      <th>is_ultra</th>\n",
       "    </tr>\n",
       "  </thead>\n",
       "  <tbody>\n",
       "    <tr>\n",
       "      <th>0</th>\n",
       "      <td>40.0</td>\n",
       "      <td>311.90</td>\n",
       "      <td>83.0</td>\n",
       "      <td>19915.42</td>\n",
       "      <td>0</td>\n",
       "    </tr>\n",
       "    <tr>\n",
       "      <th>1</th>\n",
       "      <td>85.0</td>\n",
       "      <td>516.75</td>\n",
       "      <td>56.0</td>\n",
       "      <td>22696.96</td>\n",
       "      <td>0</td>\n",
       "    </tr>\n",
       "    <tr>\n",
       "      <th>2</th>\n",
       "      <td>77.0</td>\n",
       "      <td>467.66</td>\n",
       "      <td>86.0</td>\n",
       "      <td>21060.45</td>\n",
       "      <td>0</td>\n",
       "    </tr>\n",
       "    <tr>\n",
       "      <th>3</th>\n",
       "      <td>106.0</td>\n",
       "      <td>745.53</td>\n",
       "      <td>81.0</td>\n",
       "      <td>8437.39</td>\n",
       "      <td>1</td>\n",
       "    </tr>\n",
       "    <tr>\n",
       "      <th>4</th>\n",
       "      <td>66.0</td>\n",
       "      <td>418.74</td>\n",
       "      <td>1.0</td>\n",
       "      <td>14502.75</td>\n",
       "      <td>0</td>\n",
       "    </tr>\n",
       "    <tr>\n",
       "      <th>5</th>\n",
       "      <td>58.0</td>\n",
       "      <td>344.56</td>\n",
       "      <td>21.0</td>\n",
       "      <td>15823.37</td>\n",
       "      <td>0</td>\n",
       "    </tr>\n",
       "    <tr>\n",
       "      <th>6</th>\n",
       "      <td>57.0</td>\n",
       "      <td>431.64</td>\n",
       "      <td>20.0</td>\n",
       "      <td>3738.90</td>\n",
       "      <td>1</td>\n",
       "    </tr>\n",
       "    <tr>\n",
       "      <th>7</th>\n",
       "      <td>15.0</td>\n",
       "      <td>132.40</td>\n",
       "      <td>6.0</td>\n",
       "      <td>21911.60</td>\n",
       "      <td>0</td>\n",
       "    </tr>\n",
       "    <tr>\n",
       "      <th>8</th>\n",
       "      <td>7.0</td>\n",
       "      <td>43.39</td>\n",
       "      <td>3.0</td>\n",
       "      <td>2538.67</td>\n",
       "      <td>1</td>\n",
       "    </tr>\n",
       "    <tr>\n",
       "      <th>9</th>\n",
       "      <td>90.0</td>\n",
       "      <td>665.41</td>\n",
       "      <td>38.0</td>\n",
       "      <td>17358.61</td>\n",
       "      <td>0</td>\n",
       "    </tr>\n",
       "  </tbody>\n",
       "</table>\n",
       "</div>"
      ],
      "text/plain": [
       "   calls  minutes  messages   mb_used  is_ultra\n",
       "0   40.0   311.90      83.0  19915.42         0\n",
       "1   85.0   516.75      56.0  22696.96         0\n",
       "2   77.0   467.66      86.0  21060.45         0\n",
       "3  106.0   745.53      81.0   8437.39         1\n",
       "4   66.0   418.74       1.0  14502.75         0\n",
       "5   58.0   344.56      21.0  15823.37         0\n",
       "6   57.0   431.64      20.0   3738.90         1\n",
       "7   15.0   132.40       6.0  21911.60         0\n",
       "8    7.0    43.39       3.0   2538.67         1\n",
       "9   90.0   665.41      38.0  17358.61         0"
      ]
     },
     "execution_count": 3,
     "metadata": {},
     "output_type": "execute_result"
    }
   ],
   "source": [
    "df.head(10)"
   ]
  },
  {
   "cell_type": "code",
   "execution_count": 4,
   "metadata": {},
   "outputs": [
    {
     "name": "stdout",
     "output_type": "stream",
     "text": [
      "<class 'pandas.core.frame.DataFrame'>\n",
      "RangeIndex: 3214 entries, 0 to 3213\n",
      "Data columns (total 5 columns):\n",
      " #   Column    Non-Null Count  Dtype  \n",
      "---  ------    --------------  -----  \n",
      " 0   calls     3214 non-null   float64\n",
      " 1   minutes   3214 non-null   float64\n",
      " 2   messages  3214 non-null   float64\n",
      " 3   mb_used   3214 non-null   float64\n",
      " 4   is_ultra  3214 non-null   int64  \n",
      "dtypes: float64(4), int64(1)\n",
      "memory usage: 125.7 KB\n"
     ]
    }
   ],
   "source": [
    "df.info()"
   ]
  },
  {
   "cell_type": "markdown",
   "metadata": {},
   "source": [
    "Пропусков нет, проверим на дубликаты"
   ]
  },
  {
   "cell_type": "code",
   "execution_count": 5,
   "metadata": {},
   "outputs": [
    {
     "data": {
      "text/plain": [
       "0"
      ]
     },
     "execution_count": 5,
     "metadata": {},
     "output_type": "execute_result"
    }
   ],
   "source": [
    "df.duplicated().sum()"
   ]
  },
  {
   "cell_type": "code",
   "execution_count": 6,
   "metadata": {
    "scrolled": true
   },
   "outputs": [
    {
     "data": {
      "text/html": [
       "<div>\n",
       "<style scoped>\n",
       "    .dataframe tbody tr th:only-of-type {\n",
       "        vertical-align: middle;\n",
       "    }\n",
       "\n",
       "    .dataframe tbody tr th {\n",
       "        vertical-align: top;\n",
       "    }\n",
       "\n",
       "    .dataframe thead th {\n",
       "        text-align: right;\n",
       "    }\n",
       "</style>\n",
       "<table border=\"1\" class=\"dataframe\">\n",
       "  <thead>\n",
       "    <tr style=\"text-align: right;\">\n",
       "      <th></th>\n",
       "      <th>calls</th>\n",
       "      <th>minutes</th>\n",
       "      <th>messages</th>\n",
       "      <th>mb_used</th>\n",
       "      <th>is_ultra</th>\n",
       "    </tr>\n",
       "  </thead>\n",
       "  <tbody>\n",
       "    <tr>\n",
       "      <th>count</th>\n",
       "      <td>3214.000000</td>\n",
       "      <td>3214.000000</td>\n",
       "      <td>3214.000000</td>\n",
       "      <td>3214.000000</td>\n",
       "      <td>3214.000000</td>\n",
       "    </tr>\n",
       "    <tr>\n",
       "      <th>mean</th>\n",
       "      <td>63.038892</td>\n",
       "      <td>438.208787</td>\n",
       "      <td>38.281269</td>\n",
       "      <td>17207.673836</td>\n",
       "      <td>0.306472</td>\n",
       "    </tr>\n",
       "    <tr>\n",
       "      <th>std</th>\n",
       "      <td>33.236368</td>\n",
       "      <td>234.569872</td>\n",
       "      <td>36.148326</td>\n",
       "      <td>7570.968246</td>\n",
       "      <td>0.461100</td>\n",
       "    </tr>\n",
       "    <tr>\n",
       "      <th>min</th>\n",
       "      <td>0.000000</td>\n",
       "      <td>0.000000</td>\n",
       "      <td>0.000000</td>\n",
       "      <td>0.000000</td>\n",
       "      <td>0.000000</td>\n",
       "    </tr>\n",
       "    <tr>\n",
       "      <th>25%</th>\n",
       "      <td>40.000000</td>\n",
       "      <td>274.575000</td>\n",
       "      <td>9.000000</td>\n",
       "      <td>12491.902500</td>\n",
       "      <td>0.000000</td>\n",
       "    </tr>\n",
       "    <tr>\n",
       "      <th>50%</th>\n",
       "      <td>62.000000</td>\n",
       "      <td>430.600000</td>\n",
       "      <td>30.000000</td>\n",
       "      <td>16943.235000</td>\n",
       "      <td>0.000000</td>\n",
       "    </tr>\n",
       "    <tr>\n",
       "      <th>75%</th>\n",
       "      <td>82.000000</td>\n",
       "      <td>571.927500</td>\n",
       "      <td>57.000000</td>\n",
       "      <td>21424.700000</td>\n",
       "      <td>1.000000</td>\n",
       "    </tr>\n",
       "    <tr>\n",
       "      <th>max</th>\n",
       "      <td>244.000000</td>\n",
       "      <td>1632.060000</td>\n",
       "      <td>224.000000</td>\n",
       "      <td>49745.730000</td>\n",
       "      <td>1.000000</td>\n",
       "    </tr>\n",
       "  </tbody>\n",
       "</table>\n",
       "</div>"
      ],
      "text/plain": [
       "             calls      minutes     messages       mb_used     is_ultra\n",
       "count  3214.000000  3214.000000  3214.000000   3214.000000  3214.000000\n",
       "mean     63.038892   438.208787    38.281269  17207.673836     0.306472\n",
       "std      33.236368   234.569872    36.148326   7570.968246     0.461100\n",
       "min       0.000000     0.000000     0.000000      0.000000     0.000000\n",
       "25%      40.000000   274.575000     9.000000  12491.902500     0.000000\n",
       "50%      62.000000   430.600000    30.000000  16943.235000     0.000000\n",
       "75%      82.000000   571.927500    57.000000  21424.700000     1.000000\n",
       "max     244.000000  1632.060000   224.000000  49745.730000     1.000000"
      ]
     },
     "execution_count": 6,
     "metadata": {},
     "output_type": "execute_result"
    }
   ],
   "source": [
    "df.describe()"
   ]
  },
  {
   "cell_type": "code",
   "execution_count": 7,
   "metadata": {},
   "outputs": [
    {
     "data": {
      "text/plain": [
       "0    2229\n",
       "1     985\n",
       "Name: is_ultra, dtype: int64"
      ]
     },
     "execution_count": 7,
     "metadata": {},
     "output_type": "execute_result"
    }
   ],
   "source": [
    "df['is_ultra'].value_counts()"
   ]
  },
  {
   "cell_type": "markdown",
   "metadata": {},
   "source": [
    "<font size = 4> Промежуточный вывод </font>\n",
    "    \n",
    "- Датафрейм содержит данные о действиях пользователей\n",
    "- Каждый объект - информация о поведении пользователя за месяц\n",
    "- В датафрейме содержится информация о:\n",
    "    + Количестве звонков\n",
    "    + Суммарной длительности звонков в минутах\n",
    "    + Количестве сообщений\n",
    "    + Израсходованном интернет-трафике в мб.\n",
    "    + Типе тарифа, которым пользовался в течение месяца\n",
    "- Данных о пользователях с тарифом смарт более чем в 2 раза больше, чем о пользователях с тарифом ультра, отношение двух категорий 1:2, что значит что наша выборка несбалансированна\n",
    "- Датафрейм предварительно обработан и готов к исследованию"
   ]
  },
  {
   "cell_type": "code",
   "execution_count": 8,
   "metadata": {},
   "outputs": [
    {
     "data": {
      "text/html": [
       "<div>\n",
       "<style scoped>\n",
       "    .dataframe tbody tr th:only-of-type {\n",
       "        vertical-align: middle;\n",
       "    }\n",
       "\n",
       "    .dataframe tbody tr th {\n",
       "        vertical-align: top;\n",
       "    }\n",
       "\n",
       "    .dataframe thead th {\n",
       "        text-align: right;\n",
       "    }\n",
       "</style>\n",
       "<table border=\"1\" class=\"dataframe\">\n",
       "  <thead>\n",
       "    <tr style=\"text-align: right;\">\n",
       "      <th></th>\n",
       "      <th>calls</th>\n",
       "      <th>minutes</th>\n",
       "      <th>messages</th>\n",
       "      <th>mb_used</th>\n",
       "      <th>is_ultra</th>\n",
       "    </tr>\n",
       "  </thead>\n",
       "  <tbody>\n",
       "    <tr>\n",
       "      <th>calls</th>\n",
       "      <td>1.000000</td>\n",
       "      <td>0.982083</td>\n",
       "      <td>0.177385</td>\n",
       "      <td>0.286442</td>\n",
       "      <td>0.207122</td>\n",
       "    </tr>\n",
       "    <tr>\n",
       "      <th>minutes</th>\n",
       "      <td>0.982083</td>\n",
       "      <td>1.000000</td>\n",
       "      <td>0.173110</td>\n",
       "      <td>0.280967</td>\n",
       "      <td>0.206955</td>\n",
       "    </tr>\n",
       "    <tr>\n",
       "      <th>messages</th>\n",
       "      <td>0.177385</td>\n",
       "      <td>0.173110</td>\n",
       "      <td>1.000000</td>\n",
       "      <td>0.195721</td>\n",
       "      <td>0.203830</td>\n",
       "    </tr>\n",
       "    <tr>\n",
       "      <th>mb_used</th>\n",
       "      <td>0.286442</td>\n",
       "      <td>0.280967</td>\n",
       "      <td>0.195721</td>\n",
       "      <td>1.000000</td>\n",
       "      <td>0.198568</td>\n",
       "    </tr>\n",
       "    <tr>\n",
       "      <th>is_ultra</th>\n",
       "      <td>0.207122</td>\n",
       "      <td>0.206955</td>\n",
       "      <td>0.203830</td>\n",
       "      <td>0.198568</td>\n",
       "      <td>1.000000</td>\n",
       "    </tr>\n",
       "  </tbody>\n",
       "</table>\n",
       "</div>"
      ],
      "text/plain": [
       "             calls   minutes  messages   mb_used  is_ultra\n",
       "calls     1.000000  0.982083  0.177385  0.286442  0.207122\n",
       "minutes   0.982083  1.000000  0.173110  0.280967  0.206955\n",
       "messages  0.177385  0.173110  1.000000  0.195721  0.203830\n",
       "mb_used   0.286442  0.280967  0.195721  1.000000  0.198568\n",
       "is_ultra  0.207122  0.206955  0.203830  0.198568  1.000000"
      ]
     },
     "execution_count": 8,
     "metadata": {},
     "output_type": "execute_result"
    }
   ],
   "source": [
    "df.corr()"
   ]
  },
  {
   "cell_type": "markdown",
   "metadata": {},
   "source": [
    "---"
   ]
  },
  {
   "cell_type": "markdown",
   "metadata": {},
   "source": [
    "## Разбейте данные на выборки"
   ]
  },
  {
   "cell_type": "markdown",
   "metadata": {},
   "source": [
    "Объявим две переменные и запишем в них отдельно признаки и целевой признак"
   ]
  },
  {
   "cell_type": "markdown",
   "metadata": {},
   "source": [
    "Также отбросим данные о звонках в целях избавления от мультиколлинеарности"
   ]
  },
  {
   "cell_type": "code",
   "execution_count": 9,
   "metadata": {},
   "outputs": [],
   "source": [
    "features = df.drop(['is_ultra', 'calls'], axis=1)\n",
    "target = df['is_ultra']"
   ]
  },
  {
   "cell_type": "markdown",
   "metadata": {},
   "source": [
    "Разобьем данные на три выборки: обучающую, валидационную и тестовую в соотношени 3:1:1"
   ]
  },
  {
   "cell_type": "markdown",
   "metadata": {},
   "source": [
    "Для этого сначала поделим выборку на обучающую и валидационную в соотношении 3:2"
   ]
  },
  {
   "cell_type": "code",
   "execution_count": 10,
   "metadata": {},
   "outputs": [],
   "source": [
    "features_train, features_valid, target_train, target_valid = (\n",
    "    train_test_split(features, target, test_size=0.4, random_state=1613, stratify=target)\n",
    ")"
   ]
  },
  {
   "cell_type": "markdown",
   "metadata": {},
   "source": [
    "Затем отделим от валидационной выборки половину"
   ]
  },
  {
   "cell_type": "code",
   "execution_count": 11,
   "metadata": {},
   "outputs": [],
   "source": [
    "features_test, features_valid, target_test, target_valid = (\n",
    "    train_test_split(features_valid, target_valid, test_size=0.5, random_state=1613, stratify=target_valid)\n",
    ")"
   ]
  },
  {
   "cell_type": "markdown",
   "metadata": {},
   "source": [
    "Проверим наши выборки на размерность и соотношение"
   ]
  },
  {
   "cell_type": "code",
   "execution_count": 12,
   "metadata": {},
   "outputs": [],
   "source": [
    "samples = {\n",
    "    'features_train': features_train,\n",
    "    'features_test': features_test,\n",
    "    'features_valid': features_valid,\n",
    "    'target_test': target_test,\n",
    "    'target_valid': target_valid,    \n",
    "    'target_train': target_train,\n",
    "}"
   ]
  },
  {
   "cell_type": "code",
   "execution_count": 13,
   "metadata": {},
   "outputs": [
    {
     "name": "stdout",
     "output_type": "stream",
     "text": [
      "- Размер выборки features_train: (1928, 3)\n",
      "- Размер выборки features_test: (643, 3)\n",
      "- Размер выборки features_valid: (643, 3)\n",
      "- Размер выборки target_test: (643,)\n",
      "Соотношение тарифов в выборке: 2.3:1.0\n",
      "- Размер выборки target_valid: (643,)\n",
      "Соотношение тарифов в выборке: 2.3:1.0\n",
      "- Размер выборки target_train: (1928,)\n",
      "Соотношение тарифов в выборке: 2.3:1.0\n"
     ]
    }
   ],
   "source": [
    "for name, sample in samples.items():\n",
    "    print(f'- Размер выборки {name}: {sample.shape}')\n",
    "    if isinstance(sample, pd.Series):\n",
    "        class_counts = sample.value_counts()\n",
    "        prop = (class_counts / class_counts[1]).round(1)\n",
    "        print(f'Соотношение тарифов в выборке: {prop[0]}:{prop[1]}')\n"
   ]
  },
  {
   "cell_type": "markdown",
   "metadata": {},
   "source": [
    "Теперь у нас есть 3 выборки для обучения, валидации и теста."
   ]
  },
  {
   "cell_type": "code",
   "execution_count": 14,
   "metadata": {},
   "outputs": [],
   "source": [
    "scaler = StandardScaler()"
   ]
  },
  {
   "cell_type": "code",
   "execution_count": 15,
   "metadata": {},
   "outputs": [],
   "source": [
    "features_train = scaler.fit_transform(features_train)"
   ]
  },
  {
   "cell_type": "code",
   "execution_count": 16,
   "metadata": {},
   "outputs": [],
   "source": [
    "features_valid = scaler.transform(features_valid)\n",
    "features_test = scaler.transform(features_test)"
   ]
  },
  {
   "cell_type": "markdown",
   "metadata": {},
   "source": [
    "## Исследуйте модели"
   ]
  },
  {
   "cell_type": "markdown",
   "metadata": {},
   "source": [
    "Нам нужно построить обученную модель для задачи классификации.\n",
    "Для определения наиболее удачной мы будем исследовать следующие модели:\n",
    "\n",
    "- Решающее дерево\n",
    "- Случайный лес\n",
    "- Логистическая регрессия"
   ]
  },
  {
   "cell_type": "markdown",
   "metadata": {},
   "source": [
    "### Решающее дерево"
   ]
  },
  {
   "cell_type": "markdown",
   "metadata": {},
   "source": [
    "Попробуем разные гиперпараметры для определения лучших сочетаний"
   ]
  },
  {
   "cell_type": "markdown",
   "metadata": {},
   "source": [
    "Напишем функцию которая на вход получает словарь и строит линейный график по его значениям."
   ]
  },
  {
   "cell_type": "code",
   "execution_count": 17,
   "metadata": {},
   "outputs": [],
   "source": [
    "def graph(**kwargs):\n",
    "    \"\"\"Функция для построения графика точности модели в зависимости от значений различных гиперпараметров.\"\"\"\n",
    "        \n",
    "    y = list(kwargs.values())\n",
    "    x = list(kwargs.keys())\n",
    "    plt.plot(x,y, '-o', )\n",
    "    plt.grid(True, axis='y', linewidth=0.5, alpha=0.5)\n",
    "    plt.ylabel('accuracy')\n",
    "    plt.xlabel('Максимальная глубина дерева')\n",
    "    "
   ]
  },
  {
   "cell_type": "markdown",
   "metadata": {},
   "source": [
    "Напишем функцию которая получает модель и выводит значение ее качества"
   ]
  },
  {
   "cell_type": "code",
   "execution_count": 18,
   "metadata": {},
   "outputs": [],
   "source": [
    "def accuracy(model): \n",
    "    predictions = model.predict(features_valid)\n",
    "    print(f'- У модели {str(model)}\\naccuracy:{accuracy_score(target_valid, predictions).round(4)}')"
   ]
  },
  {
   "cell_type": "markdown",
   "metadata": {},
   "source": [
    "Напишем функцию которая на вход получает параметры для `DecisionTreeClassifier` и название словаря"
   ]
  },
  {
   "cell_type": "code",
   "execution_count": 19,
   "metadata": {},
   "outputs": [],
   "source": [
    "def decision_tree_classifier(*, random_state=1613, criterion='gini',\n",
    "                             max_features=None, max_leaf_nodes=None, min_samples_leaf=1, my_dict):\n",
    "    \n",
    "    \"\"\" Функция для обучения модели Decision Tree Classifier с различными гиперпараметрами\n",
    "    и сохранения точности модели в словаре.\"\"\"\n",
    "    \n",
    "    max_accuracy = 0\n",
    "    best_model = None\n",
    "    for depth in range(1, 16):\n",
    "        model = DecisionTreeClassifier(random_state=random_state, max_depth=depth, \n",
    "                                       criterion=criterion, max_features=max_features,\n",
    "                                       max_leaf_nodes=max_leaf_nodes, min_samples_leaf=min_samples_leaf)\n",
    "        model.fit(features_train, target_train)\n",
    "        predictions = model.predict(features_valid)\n",
    "        accuracy = accuracy_score(target_valid, predictions)\n",
    "        my_dict[str(depth)] = accuracy.round(3)\n",
    "        if accuracy > max_accuracy:\n",
    "            max_accuracy = accuracy\n",
    "            best_model = model\n",
    "    return(my_dict, best_model)"
   ]
  },
  {
   "cell_type": "markdown",
   "metadata": {},
   "source": [
    "Построим график изменения точности моделей с разными гиперпараметрами в зависимости от максимальной глубины дерева"
   ]
  },
  {
   "cell_type": "code",
   "execution_count": 20,
   "metadata": {},
   "outputs": [],
   "source": [
    "my_dict_1 = {}\n",
    "my_dict_2 = {}\n",
    "my_dict_3 = {}\n",
    "my_dict_4 = {}"
   ]
  },
  {
   "cell_type": "markdown",
   "metadata": {},
   "source": [
    "Сохраним результаты работы функции в переменные"
   ]
  },
  {
   "cell_type": "code",
   "execution_count": 21,
   "metadata": {},
   "outputs": [],
   "source": [
    "model_t_1 = decision_tree_classifier(random_state=1613, my_dict=my_dict_1)\n",
    "model_t_2 = decision_tree_classifier(random_state=1613, max_features=2, my_dict=my_dict_2)\n",
    "model_t_3 = decision_tree_classifier(random_state=1613, criterion='entropy',  my_dict=my_dict_3)\n",
    "model_t_4 = decision_tree_classifier(random_state=1613, max_features='sqrt', min_samples_leaf=5, my_dict=my_dict_4)"
   ]
  },
  {
   "cell_type": "code",
   "execution_count": 22,
   "metadata": {},
   "outputs": [
    {
     "data": {
      "image/png": "[encoded data removed]",
      "text/plain": [
       "<Figure size 1080x576 with 1 Axes>"
      ]
     },
     "metadata": {
      "needs_background": "light"
     },
     "output_type": "display_data"
    }
   ],
   "source": [
    "sns.set_palette(\"Set2\")\n",
    "fig = plt.subplots(figsize=(15,8))\n",
    "\n",
    "graph(**model_t_1[0])\n",
    "graph(**model_t_2[0])\n",
    "graph(**model_t_3[0])\n",
    "graph(**model_t_4[0])\n",
    "\n",
    "plt.ylim(0.70, 0.82)\n",
    "plt.yticks(np.arange(0.70, 0.82, 0.01))\n",
    "labels = ['defolt', 'max_features=2', 'entropy', 'min_samples_leaf=5']\n",
    "plt.legend(labels, fontsize=12);\n",
    "plt.title('График зависимости accuracy от гиперпараметров');"
   ]
  },
  {
   "cell_type": "code",
   "execution_count": 23,
   "metadata": {},
   "outputs": [
    {
     "name": "stdout",
     "output_type": "stream",
     "text": [
      "- У модели DecisionTreeClassifier(max_depth=7, random_state=1613)\n",
      "accuracy:0.804\n",
      "- У модели DecisionTreeClassifier(max_depth=7, max_features=2, random_state=1613)\n",
      "accuracy:0.804\n",
      "- У модели DecisionTreeClassifier(criterion='entropy', max_depth=9, random_state=1613)\n",
      "accuracy:0.7947\n",
      "- У модели DecisionTreeClassifier(max_depth=13, max_features='sqrt', min_samples_leaf=5,\n",
      "                       random_state=1613)\n",
      "accuracy:0.7978\n"
     ]
    }
   ],
   "source": [
    "accuracy(model_t_1[1])\n",
    "accuracy(model_t_2[1])\n",
    "accuracy(model_t_3[1])\n",
    "accuracy(model_t_4[1])"
   ]
  },
  {
   "cell_type": "markdown",
   "metadata": {},
   "source": [
    "- Лучшие показатели `accuracy` у решающего дерева с гиперпараметрами `max_depth=7, max_features=2` и \n",
    "`min_samples_leaf=5, max_depth=7, max_features='sqrt'`\n",
    "- Сохраним эти две модели"
   ]
  },
  {
   "cell_type": "code",
   "execution_count": 24,
   "metadata": {},
   "outputs": [],
   "source": [
    "dump(model_t_2[1], 'model_t_1.joblib')\n",
    "dump(model_t_4[1], 'model_t_2.joblib');"
   ]
  },
  {
   "cell_type": "markdown",
   "metadata": {},
   "source": [
    "### Случайный лес"
   ]
  },
  {
   "cell_type": "markdown",
   "metadata": {},
   "source": [
    "Напишем функцию для обучения модели `RandomForestClassifier` с различными гиперпараметрами"
   ]
  },
  {
   "cell_type": "code",
   "execution_count": 25,
   "metadata": {},
   "outputs": [],
   "source": [
    "def random_forest_classifier(*,max_depth=None, random_state=1613, criterion='gini',\n",
    "                             max_features=None, max_leaf_nodes=None, min_samples_leaf=1, my_dict):\n",
    "    \"\"\"Функция для обучения модели Random Forest Classifier с различными гиперпараметрами\n",
    "    и сохранения accuracy модели в словаре.\"\"\"\n",
    "    \n",
    "    max_accuracy = 0\n",
    "    best_model = None\n",
    "    for est in range(1, 152, 25):\n",
    "            model = RandomForestClassifier(random_state=random_state, n_estimators=est, \n",
    "                                           criterion=criterion, max_features=max_features,\n",
    "                                           max_leaf_nodes=max_leaf_nodes, min_samples_leaf=min_samples_leaf)\n",
    "            model.fit(features_train, target_train)\n",
    "            predictions = model.predict(features_valid)\n",
    "            accuracy = accuracy_score(target_valid, predictions)\n",
    "            my_dict[str(est)] = accuracy.round(3)\n",
    "            if accuracy > max_accuracy:\n",
    "                max_accuracy = accuracy\n",
    "                best_model = model   \n",
    "    return(my_dict, best_model)"
   ]
  },
  {
   "cell_type": "markdown",
   "metadata": {},
   "source": [
    "Объявим пустые словари"
   ]
  },
  {
   "cell_type": "code",
   "execution_count": 26,
   "metadata": {},
   "outputs": [],
   "source": [
    "my_dict_5 = {}\n",
    "my_dict_6 = {}\n",
    "my_dict_7 = {}\n",
    "my_dict_8 = {}"
   ]
  },
  {
   "cell_type": "markdown",
   "metadata": {},
   "source": [
    "Сохраним результаты работы функции в переменные"
   ]
  },
  {
   "cell_type": "code",
   "execution_count": 27,
   "metadata": {},
   "outputs": [],
   "source": [
    "model_f_1 = random_forest_classifier(random_state=1613, my_dict=my_dict_5)\n",
    "model_f_2 = random_forest_classifier(random_state=1613, my_dict=my_dict_6, min_samples_leaf=5)\n",
    "model_f_3 = random_forest_classifier(random_state=1613, my_dict=my_dict_7, criterion='entropy')\n",
    "model_f_4 = random_forest_classifier(random_state=1613, my_dict=my_dict_8, min_samples_leaf=5, criterion='entropy')"
   ]
  },
  {
   "cell_type": "code",
   "execution_count": 28,
   "metadata": {},
   "outputs": [
    {
     "name": "stdout",
     "output_type": "stream",
     "text": [
      "- У модели RandomForestClassifier(max_features=None, n_estimators=51, random_state=1613)\n",
      "accuracy:0.8025\n"
     ]
    }
   ],
   "source": [
    "accuracy(model_f_1[1])"
   ]
  },
  {
   "cell_type": "markdown",
   "metadata": {},
   "source": [
    "Построим графики зависимости `accuracy` от количества деревьев с различными гиперпараметрами"
   ]
  },
  {
   "cell_type": "code",
   "execution_count": 29,
   "metadata": {},
   "outputs": [
    {
     "data": {
      "image/png": "[encoded data removed]",
      "text/plain": [
       "<Figure size 1080x576 with 1 Axes>"
      ]
     },
     "metadata": {
      "needs_background": "light"
     },
     "output_type": "display_data"
    }
   ],
   "source": [
    "sns.set_palette(\"Set2\")\n",
    "fig = plt.subplots(figsize=(15,8))\n",
    "\n",
    "graph(**model_f_1[0])\n",
    "graph(**model_f_2[0])\n",
    "graph(**model_f_3[0])\n",
    "graph(**model_f_4[0])\n",
    "\n",
    "plt.ylim(0.70, 0.85)\n",
    "plt.yticks(np.arange(0.70, 0.85, 0.01))\n",
    "labels = ['defolt', 'min_samples_leaf=5', 'entropy', 'min_samples_leaf=5 + entropy']\n",
    "plt.legend(labels, fontsize=12);\n",
    "plt.title('График зависимости accuracy от гиперпараметров');"
   ]
  },
  {
   "cell_type": "code",
   "execution_count": 30,
   "metadata": {},
   "outputs": [
    {
     "name": "stdout",
     "output_type": "stream",
     "text": [
      "- У модели RandomForestClassifier(max_features=None, n_estimators=51, random_state=1613)\n",
      "accuracy:0.8025\n",
      "- У модели RandomForestClassifier(max_features=None, min_samples_leaf=5, n_estimators=101,\n",
      "                       random_state=1613)\n",
      "accuracy:0.8134\n",
      "- У модели RandomForestClassifier(criterion='entropy', max_features=None, n_estimators=26,\n",
      "                       random_state=1613)\n",
      "accuracy:0.8087\n",
      "- У модели RandomForestClassifier(criterion='entropy', max_features=None,\n",
      "                       min_samples_leaf=5, n_estimators=76, random_state=1613)\n",
      "accuracy:0.8165\n"
     ]
    }
   ],
   "source": [
    "accuracy(model_f_1[1])\n",
    "accuracy(model_f_2[1])\n",
    "accuracy(model_f_3[1])\n",
    "accuracy(model_f_4[1])"
   ]
  },
  {
   "cell_type": "markdown",
   "metadata": {},
   "source": [
    "Для подбора оптимальных гиперпараметров из широкого диапазона значений для `RandomForestClassifier` можно воспользоваться рандомизированным поиском `RandomizedSearchCV`"
   ]
  },
  {
   "cell_type": "markdown",
   "metadata": {},
   "source": [
    "Определим модель и геперпараметры, которые нужно настроить"
   ]
  },
  {
   "cell_type": "code",
   "execution_count": 31,
   "metadata": {},
   "outputs": [],
   "source": [
    "model = RandomForestClassifier()\n",
    "param_grid = {\n",
    "    'n_estimators': [25, 50, 100, 150],\n",
    "    'max_depth': [None, 5, 7, 10, 30],\n",
    "    'min_samples_leaf': [1, 3, 4, 5],\n",
    "    'max_features': ['auto', 'sqrt', 'log2'],\n",
    "    'min_samples_split': [2, 5, 10, 25],\n",
    "    'criterion' : ['gini', 'entropy'],\n",
    "    'random_state': [1613]\n",
    "}"
   ]
  },
  {
   "cell_type": "markdown",
   "metadata": {},
   "source": [
    "Запустим случайный поиск"
   ]
  },
  {
   "cell_type": "code",
   "execution_count": 32,
   "metadata": {},
   "outputs": [],
   "source": [
    "search = RandomizedSearchCV(estimator=model, param_distributions=param_grid, n_iter=50, scoring='accuracy')"
   ]
  },
  {
   "cell_type": "code",
   "execution_count": 33,
   "metadata": {},
   "outputs": [],
   "source": [
    "search.fit(features_train, target_train);"
   ]
  },
  {
   "cell_type": "markdown",
   "metadata": {},
   "source": [
    "Выведем лучшее "
   ]
  },
  {
   "cell_type": "code",
   "execution_count": 34,
   "metadata": {},
   "outputs": [
    {
     "name": "stdout",
     "output_type": "stream",
     "text": [
      "Лучшее accuracy: 0.8044573043536773\n",
      "Лучшие параметры: {'random_state': 1613, 'n_estimators': 50, 'min_samples_split': 5, 'min_samples_leaf': 1, 'max_features': 'log2', 'max_depth': 10, 'criterion': 'entropy'}\n"
     ]
    }
   ],
   "source": [
    "print(f'Лучшее accuracy: {search.best_score_}')\n",
    "print(f'Лучшие параметры: {search.best_params_}')"
   ]
  },
  {
   "cell_type": "code",
   "execution_count": 38,
   "metadata": {},
   "outputs": [],
   "source": [
    "model = search.best_estimator_"
   ]
  },
  {
   "cell_type": "code",
   "execution_count": 39,
   "metadata": {},
   "outputs": [],
   "source": [
    "predictions = model.predict(features_valid)"
   ]
  },
  {
   "cell_type": "code",
   "execution_count": 40,
   "metadata": {
    "scrolled": true
   },
   "outputs": [
    {
     "data": {
      "text/plain": [
       "0.8087091757387247"
      ]
     },
     "execution_count": 40,
     "metadata": {},
     "output_type": "execute_result"
    }
   ],
   "source": [
    "accuracy_score(target_valid, predictions)"
   ]
  },
  {
   "cell_type": "markdown",
   "metadata": {},
   "source": [
    "Сохраним модель наиболее удачную из 4 опробованных и модель с гиперпараметрами, подобранными с помощью случайного поиска"
   ]
  },
  {
   "cell_type": "code",
   "execution_count": 41,
   "metadata": {},
   "outputs": [],
   "source": [
    "dump(model_f_2[1], 'model_f_1.joblib')\n",
    "dump(model, 'model_f_2.joblib');"
   ]
  },
  {
   "cell_type": "markdown",
   "metadata": {},
   "source": [
    "### Логистическая регрессия"
   ]
  },
  {
   "cell_type": "markdown",
   "metadata": {},
   "source": [
    "Попробуем несколько наборов гиперпараметров при обучении модели логистической регрессии"
   ]
  },
  {
   "cell_type": "code",
   "execution_count": 42,
   "metadata": {},
   "outputs": [],
   "source": [
    "model = LogisticRegression(random_state=1613, solver='liblinear', max_iter=10000, class_weight=None)\n",
    "model.fit(features_train, target_train)\n",
    "predictions = model.predict(features_valid)"
   ]
  },
  {
   "cell_type": "code",
   "execution_count": 43,
   "metadata": {
    "scrolled": true
   },
   "outputs": [
    {
     "data": {
      "text/plain": [
       "0.744945567651633"
      ]
     },
     "execution_count": 43,
     "metadata": {},
     "output_type": "execute_result"
    }
   ],
   "source": [
    "model.score(features_valid, target_valid)"
   ]
  },
  {
   "cell_type": "markdown",
   "metadata": {},
   "source": [
    "Попробуем другой набор гиперпараметров"
   ]
  },
  {
   "cell_type": "code",
   "execution_count": 44,
   "metadata": {},
   "outputs": [],
   "source": [
    "model = LogisticRegression(random_state=1613, solver='lbfgs', max_iter=10000, class_weight={0:2, 1:1})\n",
    "model.fit(features_train, target_train)\n",
    "predictions = model.predict(features_valid)"
   ]
  },
  {
   "cell_type": "code",
   "execution_count": 45,
   "metadata": {},
   "outputs": [
    {
     "data": {
      "text/plain": [
       "0.7231726283048211"
      ]
     },
     "execution_count": 45,
     "metadata": {},
     "output_type": "execute_result"
    }
   ],
   "source": [
    "model.score(features_valid, target_valid)"
   ]
  },
  {
   "cell_type": "code",
   "execution_count": 46,
   "metadata": {},
   "outputs": [],
   "source": [
    "dump(model, 'model_l_1.joblib');"
   ]
  },
  {
   "cell_type": "markdown",
   "metadata": {},
   "source": [
    "И еще один"
   ]
  },
  {
   "cell_type": "code",
   "execution_count": 47,
   "metadata": {},
   "outputs": [],
   "source": [
    "model = LogisticRegression(random_state=1613, solver='liblinear', max_iter=10000, class_weight=None, penalty='l1')\n",
    "model.fit(features_train, target_train)\n",
    "predictions = model.predict(features_valid)\n"
   ]
  },
  {
   "cell_type": "code",
   "execution_count": 48,
   "metadata": {},
   "outputs": [
    {
     "data": {
      "text/plain": [
       "0.744945567651633"
      ]
     },
     "execution_count": 48,
     "metadata": {},
     "output_type": "execute_result"
    }
   ],
   "source": [
    "model.score(features_valid, target_valid)"
   ]
  },
  {
   "cell_type": "code",
   "execution_count": 49,
   "metadata": {},
   "outputs": [],
   "source": [
    "dump(model, 'model_l_2.joblib');"
   ]
  },
  {
   "cell_type": "markdown",
   "metadata": {},
   "source": [
    "### Промежуточный вывод"
   ]
  },
  {
   "cell_type": "markdown",
   "metadata": {},
   "source": [
    "Мы протестировали три модели для решения задач классификации с несколькими наборами гиперпараметров и выбрали наборы достигшие наибольшего качества.\n",
    "\n",
    " - Решающее дерево\n",
    "    - Модели со стандартным значением `max_features` имеют наилучшие показатели accuracy на максимальной глубине дерева равной 3, дальше они начинают переобучаться. \n",
    "    - Модели со значеним max_features равным sqrt или 2 достигают максимума accuracy на глубине равной 7, и только потом начинают переобучаться\n",
    "    - Абсолютное влияение на качество модели оказывает выбор максимальной глубины.\n",
    "    - Значительного эффекта от изменения остальных гиперпараметров достичь не удалось - между \"лучшим\" и \"худшим\" набором гиперпараметров с оптимальным значением глубины разница около 0.01.\n",
    " - Случайный лес\n",
    "     - Наибольшее влияние оказывает достаточно высокое значение максимального количества деревьев, между показателем `accuracy` при 1 дереве в лесу и при 26 разница около 0.08, однако, между 26 и 151 деревом разница уже максимум 0.02\n",
    "     - Мы воспользовались функцией `RandomizedSearchCV` для подбора оптимального сочетания гиперпараметров, прирост при использовании найденного набора составил около 0.01\n",
    " - Логистическая регрессия\n",
    "     - С тремя разными испробованными наборами гиперпараметров логистическая регрессия значительно уступает двум другим моделям по показателю `accuracy`\n",
    "     - Максимум `accuracy`, которого удалось достичь 0.7496."
   ]
  },
  {
   "cell_type": "markdown",
   "metadata": {},
   "source": [
    "## Проверьте модель на тестовой выборке"
   ]
  },
  {
   "cell_type": "markdown",
   "metadata": {},
   "source": [
    "### Проверим модели решающего дерева"
   ]
  },
  {
   "cell_type": "markdown",
   "metadata": {},
   "source": [
    "Напишем функцию для тестирования моделей"
   ]
  },
  {
   "cell_type": "code",
   "execution_count": 50,
   "metadata": {},
   "outputs": [],
   "source": [
    "def test(joblib):\n",
    "    name = str(joblib)\n",
    "    model = load(joblib)\n",
    "    predictions = model.predict(features_test)\n",
    "    print(f'- accuracy {name}\\nна тестовой выборке: {model.score(features_test, target_test).round(4)}')\n",
    "    print('')\n",
    "    "
   ]
  },
  {
   "cell_type": "markdown",
   "metadata": {},
   "source": [
    "Создадим список с нашими моделями"
   ]
  },
  {
   "cell_type": "code",
   "execution_count": 51,
   "metadata": {},
   "outputs": [],
   "source": [
    "best_model = ['model_t_1.joblib', 'model_t_2.joblib', 'model_f_1.joblib',\n",
    "              'model_f_2.joblib', 'model_l_1.joblib', 'model_l_2.joblib']"
   ]
  },
  {
   "cell_type": "markdown",
   "metadata": {},
   "source": [
    "Запустим цикл тестирования на тестовой выборке моделей из нашего списка"
   ]
  },
  {
   "cell_type": "code",
   "execution_count": 52,
   "metadata": {},
   "outputs": [
    {
     "name": "stdout",
     "output_type": "stream",
     "text": [
      "- accuracy model_t_1.joblib\n",
      "на тестовой выборке: 0.8072\n",
      "\n",
      "- accuracy model_t_2.joblib\n",
      "на тестовой выборке: 0.7838\n",
      "\n",
      "- accuracy model_f_1.joblib\n",
      "на тестовой выборке: 0.8149\n",
      "\n",
      "- accuracy model_f_2.joblib\n",
      "на тестовой выборке: 0.8118\n",
      "\n",
      "- accuracy model_l_1.joblib\n",
      "на тестовой выборке: 0.7325\n",
      "\n",
      "- accuracy model_l_2.joblib\n",
      "на тестовой выборке: 0.7481\n",
      "\n"
     ]
    }
   ],
   "source": [
    "for model in best_model:\n",
    "    test(model)"
   ]
  },
  {
   "cell_type": "markdown",
   "metadata": {},
   "source": [
    "На тестовой выборке наилучшее `accuracy` продемонстрировали модели:\n",
    "  - DecisionTreeClassifier(max_depth=7, max_features=2, random_state=1613), accuracy = 0.8103\n",
    "  - RandomForestClassifier(criterion='entropy', max_depth=10, max_features='log2', \n",
    "   min_samples_leaf=3, min_samples_split=10, random_state=1613) accuracy = 0.8243"
   ]
  },
  {
   "cell_type": "markdown",
   "metadata": {},
   "source": [
    "## (бонус) Проверьте модели на адекватность"
   ]
  },
  {
   "cell_type": "markdown",
   "metadata": {},
   "source": [
    "Проверим наши модели на другие метрики:\n",
    "  - `precision` процент верно предсказанных обладателей подписки smart\n",
    "  - `recall` процент верно предсказанных обладателей подписки ultra"
   ]
  },
  {
   "cell_type": "markdown",
   "metadata": {},
   "source": [
    "Напишем функцию для вывода значений основных метрик для наших моделей"
   ]
  },
  {
   "cell_type": "code",
   "execution_count": 53,
   "metadata": {},
   "outputs": [],
   "source": [
    "def full_test(joblib):\n",
    "    name = str(joblib)\n",
    "    model = load(joblib)\n",
    "    predictions = model.predict(features_test)\n",
    "    accuracy = accuracy_score(target_test, predictions)\n",
    "    precision = precision_score(target_test, predictions)\n",
    "    recall = recall_score(target_test, predictions)\n",
    "\n",
    "    print(f'- {name} на тестовой выборке имеет следующие показатели:\\n\\\n",
    "    accuracy: {accuracy},\\\n",
    "    precision: {precision},\\\n",
    "    recall: {recall}\\n ')"
   ]
  },
  {
   "cell_type": "markdown",
   "metadata": {},
   "source": [
    "Выведем их"
   ]
  },
  {
   "cell_type": "code",
   "execution_count": 54,
   "metadata": {},
   "outputs": [
    {
     "name": "stdout",
     "output_type": "stream",
     "text": [
      "- model_t_1.joblib на тестовой выборке имеет следующие показатели:\n",
      "    accuracy: 0.807153965785381,    precision: 0.7588652482269503,    recall: 0.5431472081218274\n",
      " \n",
      "- model_t_2.joblib на тестовой выборке имеет следующие показатели:\n",
      "    accuracy: 0.7838258164852255,    precision: 0.68125,    recall: 0.5532994923857868\n",
      " \n",
      "- model_f_1.joblib на тестовой выборке имеет следующие показатели:\n",
      "    accuracy: 0.8149300155520995,    precision: 0.75,    recall: 0.5939086294416244\n",
      " \n",
      "- model_f_2.joblib на тестовой выборке имеет следующие показатели:\n",
      "    accuracy: 0.8118195956454122,    precision: 0.7602739726027398,    recall: 0.5634517766497462\n",
      " \n",
      "- model_l_1.joblib на тестовой выборке имеет следующие показатели:\n",
      "    accuracy: 0.7325038880248833,    precision: 0.9629629629629629,    recall: 0.1319796954314721\n",
      " \n",
      "- model_l_2.joblib на тестовой выборке имеет следующие показатели:\n",
      "    accuracy: 0.7480559875583204,    precision: 0.8181818181818182,    recall: 0.22842639593908629\n",
      " \n"
     ]
    }
   ],
   "source": [
    "for model in best_model:\n",
    "    full_test(model)"
   ]
  },
  {
   "cell_type": "markdown",
   "metadata": {},
   "source": [
    "Построим тепловую карту для матрицы ошибок\n",
    "   - Количество верно предсказанных отрицательных классов (True Negative, TN). Это верно предсказанные обладатели подписки **smart**\n",
    "   - Количество неверно предсказанных положительных классов (False Positive, FP). Это неверно предсказанные обладатели подписки **ultra**\n",
    "   - Количество неверно предсказанных отрицательных классов (False Negative, FN). Это неверно предсказанные обладатели подписки **smart** \n",
    "   - Количество верно предсказанных положительных классов (True Positive, TP). Это верно предсказанные обладатели подписки **ultra**\n"
   ]
  },
  {
   "cell_type": "code",
   "execution_count": 55,
   "metadata": {},
   "outputs": [],
   "source": [
    "confusions = []\n",
    "values = []"
   ]
  },
  {
   "cell_type": "code",
   "execution_count": 56,
   "metadata": {},
   "outputs": [],
   "source": [
    "def confusion(joblib):\n",
    "    name = str(joblib)\n",
    "    model = load(joblib)\n",
    "    predictions = model.predict(features_test)\n",
    "    confusions.append(confusion_matrix(predictions, target_test))"
   ]
  },
  {
   "cell_type": "code",
   "execution_count": 57,
   "metadata": {},
   "outputs": [],
   "source": [
    "for model in best_model:\n",
    "    confusion(model)"
   ]
  },
  {
   "cell_type": "code",
   "execution_count": 58,
   "metadata": {},
   "outputs": [],
   "source": [
    "for value in confusions:\n",
    "    values.append([value[0][0], value[1][0], value[0][1], value[1][1]])"
   ]
  },
  {
   "cell_type": "code",
   "execution_count": 59,
   "metadata": {},
   "outputs": [
    {
     "data": {
      "image/png": "[encoded data removed]",
      "text/plain": [
       "<Figure size 1080x432 with 2 Axes>"
      ]
     },
     "metadata": {
      "needs_background": "light"
     },
     "output_type": "display_data"
    }
   ],
   "source": [
    "fig= plt.subplots(figsize=(15, 6))\n",
    "sns.heatmap(values,fmt='d', annot=True, xticklabels=['TN', 'FN', 'FP', 'TP'],\n",
    "            yticklabels=best_model, cmap='coolwarm', center=100, vmax=600, linewidths=1, linecolor='black')\n",
    "plt.title('Тепловая карта матрицы ошибок', size=14)\n",
    "plt.xlabel('Предсказания', size=12)\n",
    "plt.ylabel('Модели', size=12);"
   ]
  },
  {
   "cell_type": "markdown",
   "metadata": {},
   "source": [
    "- Лучший показатель `recall` которого удалось добиться - 0.53\n",
    "- Лучшая наша модель по соотношению трех метрик \n",
    "```\n",
    "    RandomForestClassifier(max_features=None, min_samples_leaf=5, n_estimators=51)\n",
    "```"
   ]
  },
  {
   "cell_type": "markdown",
   "metadata": {},
   "source": [
    "## Вывод"
   ]
  },
  {
   "cell_type": "markdown",
   "metadata": {},
   "source": [
    "- Мы загрузили данные и получили общую информацию о них:\n",
    "  + Изучили объекты и признаки представленные в датафрейме\n",
    "  + Определили что выборка несбалансирована\n",
    "  + Убедились что данные предобработаны\n",
    "- Разбили данные на обучающую, валидационную и тестовую выборки в соотношении 3:1:1\n",
    "- Обучили и исследовали 3 модели для задачи классификации:\n",
    "  + Для решающего дерева было выявлено, что наибольшее влияние оказывает глубина дерева, а максимальное значние `accuracy` достигается при глубине равной 7 для моделей с max_features равным sqrt или 2. \n",
    "  + В случае случайного леса наибольшее влияние оказывает количество деревьев, однако разница в показателе accuracy между разными значениями достигает максимум 0.08. Также опробовали метод случайного поиска оптимальных гиперпараметров.\n",
    "  + Логистическая регрессия показала значительно более низкое значение accuracy, достигнув максимума в 0.7496.\n",
    "- Проверили модель на тестовой выборке, максимальное значение `accuracy` продемонстрировали модели\n",
    "  + ```DecisionTreeClassifier(max_depth=7, max_features=2, random_state=1613)``` c `accuracy` = **0.8103**\n",
    "  + ```RandomForestClassifier(criterion='entropy', max_depth=10, max_features='log2', min_samples_leaf=3, min_samples_split=10, random_state=1613)``` c `accuracy` = **0.8243**\n",
    "- Оценили результаты модели с помощью метрик `precision` и `recall`, а также матрицы ошибок\n",
    "  + Лучшая модель  ```RandomForestClassifier``` с параметрами ```max_features=None, min_samples_leaf=5, n_estimators=51``` имеет следующие значения метрик: \n",
    "      - accuracy: 0.8242612752721618\n",
    "      - precision: 0.8145161290322581\n",
    "      - recall: 0.528795811518324\n",
    "    \n",
    " Мы использовали не все модели для задач классификации, а также почти не прибегали к автоматическим методам подбора оптимальных гиперпараметров. Также мы не балансировали выборку. Все это ,скорее всего, могло бы повысить эффективность машинного обучения в анализе поведения пользователей и предсказания наиболее подходящего им тарифа.\n",
    " \n",
    "Метрика `accuracy` не только не является исчерпывающем критерием качества модели, но и не дает возможности делать вывод о вменяемости модели. Из-за чего можно абсолютно неработающую модель принять за качественную.\n",
    "\n",
    "Тем не менее, задачу проекта мы выполнили, достигнув `accuracy` значения 0.82"
   ]
  },
  {
   "cell_type": "code",
   "execution_count": null,
   "metadata": {},
   "outputs": [],
   "source": []
  }
 ],
 "metadata": {
  "ExecuteTimeLog": [
   {
    "duration": 1240,
    "start_time": "2023-08-22T10:17:51.052Z"
   },
   {
    "duration": 134,
    "start_time": "2023-08-22T10:20:17.951Z"
   },
   {
    "duration": 22,
    "start_time": "2023-08-22T10:21:41.359Z"
   },
   {
    "duration": 13,
    "start_time": "2023-08-22T10:22:00.834Z"
   },
   {
    "duration": 12,
    "start_time": "2023-08-22T10:22:06.269Z"
   },
   {
    "duration": 24,
    "start_time": "2023-08-22T10:22:21.747Z"
   },
   {
    "duration": 4,
    "start_time": "2023-08-22T10:46:41.091Z"
   },
   {
    "duration": 80,
    "start_time": "2023-08-22T10:52:45.432Z"
   },
   {
    "duration": 82,
    "start_time": "2023-08-22T10:52:53.916Z"
   },
   {
    "duration": 6,
    "start_time": "2023-08-22T10:53:01.535Z"
   },
   {
    "duration": 6,
    "start_time": "2023-08-22T10:53:13.211Z"
   },
   {
    "duration": 16,
    "start_time": "2023-08-22T10:53:19.231Z"
   },
   {
    "duration": 3,
    "start_time": "2023-08-22T10:53:24.676Z"
   },
   {
    "duration": 139,
    "start_time": "2023-08-22T10:55:31.596Z"
   },
   {
    "duration": 6,
    "start_time": "2023-08-22T10:55:38.362Z"
   },
   {
    "duration": 5,
    "start_time": "2023-08-22T10:57:09.647Z"
   },
   {
    "duration": 3,
    "start_time": "2023-08-22T11:05:56.060Z"
   },
   {
    "duration": 16,
    "start_time": "2023-08-22T11:06:39.708Z"
   },
   {
    "duration": 9,
    "start_time": "2023-08-22T11:07:02.153Z"
   },
   {
    "duration": 3,
    "start_time": "2023-08-22T11:07:04.957Z"
   },
   {
    "duration": 13,
    "start_time": "2023-08-22T11:07:05.394Z"
   },
   {
    "duration": 3,
    "start_time": "2023-08-22T11:07:13.174Z"
   },
   {
    "duration": 12,
    "start_time": "2023-08-22T11:07:13.588Z"
   },
   {
    "duration": 4,
    "start_time": "2023-08-22T11:08:13.757Z"
   },
   {
    "duration": 15,
    "start_time": "2023-08-22T11:08:15.203Z"
   },
   {
    "duration": 3,
    "start_time": "2023-08-22T11:08:43.250Z"
   },
   {
    "duration": 18,
    "start_time": "2023-08-22T11:08:44.341Z"
   },
   {
    "duration": 3,
    "start_time": "2023-08-22T11:08:55.274Z"
   },
   {
    "duration": 3,
    "start_time": "2023-08-22T11:08:56.277Z"
   },
   {
    "duration": 2,
    "start_time": "2023-08-22T11:12:39.631Z"
   },
   {
    "duration": 4,
    "start_time": "2023-08-22T11:16:01.073Z"
   },
   {
    "duration": 131,
    "start_time": "2023-08-22T11:20:44.394Z"
   },
   {
    "duration": 15,
    "start_time": "2023-08-22T11:20:51.423Z"
   },
   {
    "duration": 68,
    "start_time": "2023-08-22T11:21:01.754Z"
   },
   {
    "duration": 66,
    "start_time": "2023-08-22T11:22:10.823Z"
   },
   {
    "duration": 70,
    "start_time": "2023-08-22T11:24:05.380Z"
   },
   {
    "duration": 68,
    "start_time": "2023-08-22T11:24:41.620Z"
   },
   {
    "duration": 65,
    "start_time": "2023-08-22T11:26:14.436Z"
   },
   {
    "duration": 448,
    "start_time": "2023-08-22T11:29:53.822Z"
   },
   {
    "duration": 4,
    "start_time": "2023-08-22T11:38:05.651Z"
   },
   {
    "duration": 79,
    "start_time": "2023-08-22T11:42:15.800Z"
   },
   {
    "duration": 4,
    "start_time": "2023-08-22T11:42:23.988Z"
   },
   {
    "duration": 18,
    "start_time": "2023-08-22T11:42:58.737Z"
   },
   {
    "duration": 8,
    "start_time": "2023-08-22T11:43:06.099Z"
   },
   {
    "duration": 4,
    "start_time": "2023-08-22T11:44:24.931Z"
   },
   {
    "duration": 78,
    "start_time": "2023-08-22T11:44:27.925Z"
   },
   {
    "duration": 4,
    "start_time": "2023-08-22T11:44:28.482Z"
   },
   {
    "duration": 9,
    "start_time": "2023-08-22T11:44:30.034Z"
   },
   {
    "duration": 22,
    "start_time": "2023-08-22T11:44:34.603Z"
   },
   {
    "duration": 9,
    "start_time": "2023-08-22T11:47:04.488Z"
   },
   {
    "duration": 156,
    "start_time": "2023-08-22T11:48:43.393Z"
   },
   {
    "duration": 71,
    "start_time": "2023-08-22T11:48:51.305Z"
   },
   {
    "duration": 9,
    "start_time": "2023-08-22T11:48:54.017Z"
   },
   {
    "duration": 155,
    "start_time": "2023-08-22T11:48:56.627Z"
   },
   {
    "duration": 203,
    "start_time": "2023-08-22T11:50:10.558Z"
   },
   {
    "duration": 73,
    "start_time": "2023-08-22T11:51:18.748Z"
   },
   {
    "duration": 252,
    "start_time": "2023-08-22T11:51:32.478Z"
   },
   {
    "duration": 75,
    "start_time": "2023-08-22T11:53:13.980Z"
   },
   {
    "duration": 77,
    "start_time": "2023-08-22T11:53:14.585Z"
   },
   {
    "duration": 85,
    "start_time": "2023-08-22T11:53:17.350Z"
   },
   {
    "duration": 194,
    "start_time": "2023-08-22T11:53:20.873Z"
   },
   {
    "duration": 68,
    "start_time": "2023-08-22T11:53:52.548Z"
   },
   {
    "duration": 187,
    "start_time": "2023-08-22T11:53:56.900Z"
   },
   {
    "duration": 70,
    "start_time": "2023-08-22T11:54:08.250Z"
   },
   {
    "duration": 276,
    "start_time": "2023-08-22T11:54:10.395Z"
   },
   {
    "duration": 76,
    "start_time": "2023-08-22T11:54:19.179Z"
   },
   {
    "duration": 176,
    "start_time": "2023-08-22T11:54:20.745Z"
   },
   {
    "duration": 67,
    "start_time": "2023-08-22T11:54:30.921Z"
   },
   {
    "duration": 204,
    "start_time": "2023-08-22T11:54:32.680Z"
   },
   {
    "duration": 137,
    "start_time": "2023-08-22T11:55:31.225Z"
   },
   {
    "duration": 4,
    "start_time": "2023-08-22T11:55:38.104Z"
   },
   {
    "duration": 73,
    "start_time": "2023-08-22T11:55:40.180Z"
   },
   {
    "duration": 52,
    "start_time": "2023-08-22T11:55:40.864Z"
   },
   {
    "duration": 161,
    "start_time": "2023-08-22T11:55:44.178Z"
   },
   {
    "duration": 4,
    "start_time": "2023-08-22T11:56:00.382Z"
   },
   {
    "duration": 207,
    "start_time": "2023-08-22T11:56:03.355Z"
   },
   {
    "duration": 225,
    "start_time": "2023-08-22T11:57:00.600Z"
   },
   {
    "duration": 263,
    "start_time": "2023-08-22T11:58:02.595Z"
   },
   {
    "duration": 215,
    "start_time": "2023-08-22T11:58:13.991Z"
   },
   {
    "duration": 220,
    "start_time": "2023-08-22T11:58:30.165Z"
   },
   {
    "duration": 224,
    "start_time": "2023-08-22T11:58:36.654Z"
   },
   {
    "duration": 67,
    "start_time": "2023-08-22T11:59:39.655Z"
   },
   {
    "duration": 59,
    "start_time": "2023-08-22T11:59:49.789Z"
   },
   {
    "duration": 227,
    "start_time": "2023-08-22T11:59:51.649Z"
   },
   {
    "duration": 33,
    "start_time": "2023-08-22T12:02:07.399Z"
   },
   {
    "duration": 111,
    "start_time": "2023-08-22T12:02:17.358Z"
   },
   {
    "duration": 242,
    "start_time": "2023-08-22T12:02:27.046Z"
   },
   {
    "duration": 85,
    "start_time": "2023-08-22T12:02:36.689Z"
   },
   {
    "duration": 338,
    "start_time": "2023-08-22T12:02:37.434Z"
   },
   {
    "duration": 3,
    "start_time": "2023-08-22T12:03:05.659Z"
   },
   {
    "duration": 69,
    "start_time": "2023-08-22T12:03:06.753Z"
   },
   {
    "duration": 68,
    "start_time": "2023-08-22T12:03:08.402Z"
   },
   {
    "duration": 86,
    "start_time": "2023-08-22T12:03:14.593Z"
   },
   {
    "duration": 261,
    "start_time": "2023-08-22T12:03:15.237Z"
   },
   {
    "duration": 60,
    "start_time": "2023-08-22T12:03:37.246Z"
   },
   {
    "duration": 235,
    "start_time": "2023-08-22T12:03:37.732Z"
   },
   {
    "duration": 74,
    "start_time": "2023-08-22T12:03:44.590Z"
   },
   {
    "duration": 230,
    "start_time": "2023-08-22T12:03:46.036Z"
   },
   {
    "duration": 221,
    "start_time": "2023-08-22T12:04:45.778Z"
   },
   {
    "duration": 238,
    "start_time": "2023-08-22T12:04:57.547Z"
   },
   {
    "duration": 230,
    "start_time": "2023-08-22T12:05:17.829Z"
   },
   {
    "duration": 232,
    "start_time": "2023-08-22T12:05:26.481Z"
   },
   {
    "duration": 222,
    "start_time": "2023-08-22T12:05:32.999Z"
   },
   {
    "duration": 248,
    "start_time": "2023-08-22T12:06:22.652Z"
   },
   {
    "duration": 212,
    "start_time": "2023-08-22T12:06:34.365Z"
   },
   {
    "duration": 230,
    "start_time": "2023-08-22T12:06:41.428Z"
   },
   {
    "duration": 315,
    "start_time": "2023-08-22T12:06:51.258Z"
   },
   {
    "duration": 222,
    "start_time": "2023-08-22T12:06:54.866Z"
   },
   {
    "duration": 4,
    "start_time": "2023-08-22T12:07:28.492Z"
   },
   {
    "duration": 309,
    "start_time": "2023-08-22T12:07:48.283Z"
   },
   {
    "duration": 237,
    "start_time": "2023-08-22T12:07:58.752Z"
   },
   {
    "duration": 235,
    "start_time": "2023-08-22T12:08:06.786Z"
   },
   {
    "duration": 250,
    "start_time": "2023-08-22T12:08:19.171Z"
   },
   {
    "duration": 75,
    "start_time": "2023-08-22T12:09:47.157Z"
   },
   {
    "duration": 227,
    "start_time": "2023-08-22T12:09:48.946Z"
   },
   {
    "duration": 68,
    "start_time": "2023-08-22T12:09:59.681Z"
   },
   {
    "duration": 47,
    "start_time": "2023-08-22T12:10:00.050Z"
   },
   {
    "duration": 66,
    "start_time": "2023-08-22T12:10:00.396Z"
   },
   {
    "duration": 75,
    "start_time": "2023-08-22T12:10:00.785Z"
   },
   {
    "duration": 220,
    "start_time": "2023-08-22T12:10:01.288Z"
   },
   {
    "duration": 59,
    "start_time": "2023-08-22T12:10:10.946Z"
   },
   {
    "duration": 230,
    "start_time": "2023-08-22T12:10:11.557Z"
   },
   {
    "duration": 69,
    "start_time": "2023-08-22T12:10:16.150Z"
   },
   {
    "duration": 244,
    "start_time": "2023-08-22T12:10:16.626Z"
   },
   {
    "duration": 36,
    "start_time": "2023-08-22T12:11:35.056Z"
   },
   {
    "duration": 244,
    "start_time": "2023-08-22T12:11:35.944Z"
   },
   {
    "duration": 235,
    "start_time": "2023-08-22T12:11:50.843Z"
   },
   {
    "duration": 78,
    "start_time": "2023-08-22T12:11:59.211Z"
   },
   {
    "duration": 358,
    "start_time": "2023-08-22T12:11:59.911Z"
   },
   {
    "duration": 79,
    "start_time": "2023-08-22T12:12:04.110Z"
   },
   {
    "duration": 238,
    "start_time": "2023-08-22T12:12:04.583Z"
   },
   {
    "duration": 80,
    "start_time": "2023-08-22T12:12:08.837Z"
   },
   {
    "duration": 248,
    "start_time": "2023-08-22T12:12:09.209Z"
   },
   {
    "duration": 65,
    "start_time": "2023-08-22T12:12:13.535Z"
   },
   {
    "duration": 226,
    "start_time": "2023-08-22T12:12:13.869Z"
   },
   {
    "duration": 76,
    "start_time": "2023-08-22T12:12:19.140Z"
   },
   {
    "duration": 240,
    "start_time": "2023-08-22T12:12:19.735Z"
   },
   {
    "duration": 222,
    "start_time": "2023-08-22T12:15:51.756Z"
   },
   {
    "duration": 255,
    "start_time": "2023-08-22T12:16:11.639Z"
   },
   {
    "duration": 275,
    "start_time": "2023-08-22T12:16:19.601Z"
   },
   {
    "duration": 286,
    "start_time": "2023-08-22T12:16:23.464Z"
   },
   {
    "duration": 289,
    "start_time": "2023-08-22T12:16:44.996Z"
   },
   {
    "duration": 148,
    "start_time": "2023-08-22T12:50:29.729Z"
   },
   {
    "duration": 114,
    "start_time": "2023-08-22T12:51:02.571Z"
   },
   {
    "duration": 5,
    "start_time": "2023-08-22T12:51:08.143Z"
   },
   {
    "duration": 5,
    "start_time": "2023-08-22T12:51:32.442Z"
   },
   {
    "duration": 4,
    "start_time": "2023-08-22T12:53:14.599Z"
   },
   {
    "duration": 59,
    "start_time": "2023-08-22T12:53:38.227Z"
   },
   {
    "duration": 83,
    "start_time": "2023-08-22T12:54:02.357Z"
   },
   {
    "duration": 214,
    "start_time": "2023-08-22T12:54:27.140Z"
   },
   {
    "duration": 3,
    "start_time": "2023-08-22T13:08:22.269Z"
   },
   {
    "duration": 4,
    "start_time": "2023-08-22T13:10:37.224Z"
   },
   {
    "duration": 3,
    "start_time": "2023-08-22T13:11:47.229Z"
   },
   {
    "duration": 5,
    "start_time": "2023-08-22T13:15:14.235Z"
   },
   {
    "duration": 280,
    "start_time": "2023-08-22T13:18:55.162Z"
   },
   {
    "duration": 361,
    "start_time": "2023-08-22T13:19:45.903Z"
   },
   {
    "duration": 330,
    "start_time": "2023-08-22T13:19:56.923Z"
   },
   {
    "duration": 15,
    "start_time": "2023-08-22T13:21:30.707Z"
   },
   {
    "duration": 305,
    "start_time": "2023-08-22T13:21:31.931Z"
   },
   {
    "duration": 7,
    "start_time": "2023-08-22T13:21:43.849Z"
   },
   {
    "duration": 463,
    "start_time": "2023-08-22T13:21:44.694Z"
   },
   {
    "duration": 1533,
    "start_time": "2023-08-22T13:22:26.826Z"
   },
   {
    "duration": 39,
    "start_time": "2023-08-22T13:22:28.361Z"
   },
   {
    "duration": 30,
    "start_time": "2023-08-22T13:22:28.403Z"
   },
   {
    "duration": 24,
    "start_time": "2023-08-22T13:22:28.435Z"
   },
   {
    "duration": 36,
    "start_time": "2023-08-22T13:22:28.462Z"
   },
   {
    "duration": 4,
    "start_time": "2023-08-22T13:22:28.500Z"
   },
   {
    "duration": 28,
    "start_time": "2023-08-22T13:22:28.505Z"
   },
   {
    "duration": 42,
    "start_time": "2023-08-22T13:22:28.535Z"
   },
   {
    "duration": 10,
    "start_time": "2023-08-22T13:22:28.579Z"
   },
   {
    "duration": 140,
    "start_time": "2023-08-22T13:22:28.592Z"
   },
   {
    "duration": 0,
    "start_time": "2023-08-22T13:22:28.734Z"
   },
   {
    "duration": 5,
    "start_time": "2023-08-22T13:24:39.355Z"
   },
   {
    "duration": 161,
    "start_time": "2023-08-22T13:24:42.047Z"
   },
   {
    "duration": 3,
    "start_time": "2023-08-22T13:25:36.797Z"
   },
   {
    "duration": 303,
    "start_time": "2023-08-22T13:25:39.524Z"
   },
   {
    "duration": 3,
    "start_time": "2023-08-22T13:25:58.892Z"
   },
   {
    "duration": 340,
    "start_time": "2023-08-22T13:26:09.060Z"
   },
   {
    "duration": 645,
    "start_time": "2023-08-22T13:30:01.530Z"
   },
   {
    "duration": 528,
    "start_time": "2023-08-22T13:40:37.266Z"
   },
   {
    "duration": 612,
    "start_time": "2023-08-22T13:40:42.401Z"
   },
   {
    "duration": 663,
    "start_time": "2023-08-22T13:42:56.064Z"
   },
   {
    "duration": 574,
    "start_time": "2023-08-22T13:43:38.394Z"
   },
   {
    "duration": 589,
    "start_time": "2023-08-22T13:43:56.067Z"
   },
   {
    "duration": 610,
    "start_time": "2023-08-22T13:44:02.848Z"
   },
   {
    "duration": 564,
    "start_time": "2023-08-22T13:44:09.667Z"
   },
   {
    "duration": 607,
    "start_time": "2023-08-22T13:44:57.868Z"
   },
   {
    "duration": 618,
    "start_time": "2023-08-22T13:45:02.024Z"
   },
   {
    "duration": 575,
    "start_time": "2023-08-22T13:45:06.321Z"
   },
   {
    "duration": 6,
    "start_time": "2023-08-22T14:40:40.166Z"
   },
   {
    "duration": 269,
    "start_time": "2023-08-22T14:40:42.436Z"
   },
   {
    "duration": 131,
    "start_time": "2023-08-22T14:44:21.766Z"
   },
   {
    "duration": 336,
    "start_time": "2023-08-22T14:44:57.489Z"
   },
   {
    "duration": 627,
    "start_time": "2023-08-22T14:45:08.014Z"
   },
   {
    "duration": 6,
    "start_time": "2023-08-22T14:45:59.510Z"
   },
   {
    "duration": 3,
    "start_time": "2023-08-22T14:46:24.690Z"
   },
   {
    "duration": 5,
    "start_time": "2023-08-22T14:46:27.425Z"
   },
   {
    "duration": 2,
    "start_time": "2023-08-22T14:46:31.254Z"
   },
   {
    "duration": 512,
    "start_time": "2023-08-22T14:46:33.890Z"
   },
   {
    "duration": 4,
    "start_time": "2023-08-22T15:05:41.941Z"
   },
   {
    "duration": 4,
    "start_time": "2023-08-22T15:09:49.942Z"
   },
   {
    "duration": 150,
    "start_time": "2023-08-22T15:10:03.693Z"
   },
   {
    "duration": 99,
    "start_time": "2023-08-22T15:10:30.092Z"
   },
   {
    "duration": 207,
    "start_time": "2023-08-22T15:10:43.367Z"
   },
   {
    "duration": 4,
    "start_time": "2023-08-22T15:11:14.411Z"
   },
   {
    "duration": 50,
    "start_time": "2023-08-22T15:13:04.086Z"
   },
   {
    "duration": 72,
    "start_time": "2023-08-22T15:13:12.281Z"
   },
   {
    "duration": 11,
    "start_time": "2023-08-22T15:19:05.619Z"
   },
   {
    "duration": 6,
    "start_time": "2023-08-22T15:19:19.664Z"
   },
   {
    "duration": 5,
    "start_time": "2023-08-22T15:19:43.102Z"
   },
   {
    "duration": 19,
    "start_time": "2023-08-22T15:21:12.080Z"
   },
   {
    "duration": 6,
    "start_time": "2023-08-22T15:21:39.713Z"
   },
   {
    "duration": 108,
    "start_time": "2023-08-22T15:38:59.249Z"
   },
   {
    "duration": 81,
    "start_time": "2023-08-22T15:39:18.415Z"
   },
   {
    "duration": 385,
    "start_time": "2023-08-22T15:39:33.738Z"
   },
   {
    "duration": 278,
    "start_time": "2023-08-22T15:39:37.001Z"
   },
   {
    "duration": 6,
    "start_time": "2023-08-22T15:50:25.857Z"
   },
   {
    "duration": 10,
    "start_time": "2023-08-22T15:52:44.434Z"
   },
   {
    "duration": 6,
    "start_time": "2023-08-22T15:52:48.591Z"
   },
   {
    "duration": 20,
    "start_time": "2023-08-22T15:52:51.079Z"
   },
   {
    "duration": 9,
    "start_time": "2023-08-22T15:53:06.328Z"
   },
   {
    "duration": 5,
    "start_time": "2023-08-22T15:53:09.595Z"
   },
   {
    "duration": 4239,
    "start_time": "2023-08-22T15:53:10.053Z"
   },
   {
    "duration": 5,
    "start_time": "2023-08-22T15:53:37.100Z"
   },
   {
    "duration": 3940,
    "start_time": "2023-08-22T15:53:37.729Z"
   },
   {
    "duration": 5,
    "start_time": "2023-08-22T15:55:39.076Z"
   },
   {
    "duration": 24,
    "start_time": "2023-08-22T15:55:40.702Z"
   },
   {
    "duration": 5,
    "start_time": "2023-08-22T15:55:45.625Z"
   },
   {
    "duration": 24,
    "start_time": "2023-08-22T15:55:46.931Z"
   },
   {
    "duration": 6,
    "start_time": "2023-08-22T15:56:34.709Z"
   },
   {
    "duration": 561,
    "start_time": "2023-08-22T15:56:35.219Z"
   },
   {
    "duration": 5,
    "start_time": "2023-08-22T15:57:07.989Z"
   },
   {
    "duration": 504,
    "start_time": "2023-08-22T15:57:10.199Z"
   },
   {
    "duration": 496,
    "start_time": "2023-08-22T15:57:29.654Z"
   },
   {
    "duration": 501,
    "start_time": "2023-08-22T15:57:33.423Z"
   },
   {
    "duration": 513,
    "start_time": "2023-08-22T15:57:36.535Z"
   },
   {
    "duration": 500,
    "start_time": "2023-08-22T15:57:40.159Z"
   },
   {
    "duration": 504,
    "start_time": "2023-08-22T15:57:51.473Z"
   },
   {
    "duration": 6,
    "start_time": "2023-08-22T15:57:56.690Z"
   },
   {
    "duration": 489,
    "start_time": "2023-08-22T15:57:57.147Z"
   },
   {
    "duration": 515,
    "start_time": "2023-08-22T15:58:01.071Z"
   },
   {
    "duration": 5,
    "start_time": "2023-08-22T15:58:10.619Z"
   },
   {
    "duration": 673,
    "start_time": "2023-08-22T15:58:11.040Z"
   },
   {
    "duration": 678,
    "start_time": "2023-08-22T15:58:15.961Z"
   },
   {
    "duration": 664,
    "start_time": "2023-08-22T15:58:20.091Z"
   },
   {
    "duration": 445,
    "start_time": "2023-08-22T15:58:41.894Z"
   },
   {
    "duration": 610,
    "start_time": "2023-08-22T15:58:47.313Z"
   },
   {
    "duration": 388,
    "start_time": "2023-08-22T15:58:51.692Z"
   },
   {
    "duration": 511,
    "start_time": "2023-08-22T15:58:56.662Z"
   },
   {
    "duration": 457,
    "start_time": "2023-08-22T15:59:16.071Z"
   },
   {
    "duration": 461,
    "start_time": "2023-08-22T15:59:19.338Z"
   },
   {
    "duration": 593,
    "start_time": "2023-08-22T15:59:25.438Z"
   },
   {
    "duration": 8,
    "start_time": "2023-08-22T15:59:39.504Z"
   },
   {
    "duration": 458,
    "start_time": "2023-08-22T15:59:52.039Z"
   },
   {
    "duration": 419,
    "start_time": "2023-08-22T15:59:57.967Z"
   },
   {
    "duration": 604,
    "start_time": "2023-08-22T16:00:04.017Z"
   },
   {
    "duration": 424,
    "start_time": "2023-08-22T16:00:09.830Z"
   },
   {
    "duration": 9,
    "start_time": "2023-08-22T16:00:27.239Z"
   },
   {
    "duration": 27,
    "start_time": "2023-08-22T16:00:32.862Z"
   },
   {
    "duration": 488,
    "start_time": "2023-08-22T16:00:41.649Z"
   },
   {
    "duration": 7,
    "start_time": "2023-08-22T16:00:50.696Z"
   },
   {
    "duration": 946,
    "start_time": "2023-08-22T16:00:52.192Z"
   },
   {
    "duration": 829,
    "start_time": "2023-08-22T16:01:06.340Z"
   },
   {
    "duration": 925,
    "start_time": "2023-08-22T16:01:12.286Z"
   },
   {
    "duration": 731,
    "start_time": "2023-08-22T16:01:18.845Z"
   },
   {
    "duration": 778,
    "start_time": "2023-08-22T16:01:27.718Z"
   },
   {
    "duration": 795,
    "start_time": "2023-08-22T16:01:47.868Z"
   },
   {
    "duration": 3,
    "start_time": "2023-08-22T16:34:21.366Z"
   },
   {
    "duration": 144,
    "start_time": "2023-08-22T16:37:30.719Z"
   },
   {
    "duration": 4,
    "start_time": "2023-08-22T16:37:38.911Z"
   },
   {
    "duration": 2,
    "start_time": "2023-08-22T16:38:10.816Z"
   },
   {
    "duration": 2442,
    "start_time": "2023-08-22T16:38:30.596Z"
   },
   {
    "duration": 5,
    "start_time": "2023-08-22T16:38:52.472Z"
   },
   {
    "duration": 4,
    "start_time": "2023-08-22T16:39:04.812Z"
   },
   {
    "duration": 5,
    "start_time": "2023-08-22T16:40:12.629Z"
   },
   {
    "duration": 2,
    "start_time": "2023-08-22T16:40:13.128Z"
   },
   {
    "duration": 2217,
    "start_time": "2023-08-22T16:40:13.556Z"
   },
   {
    "duration": 3,
    "start_time": "2023-08-22T16:40:15.775Z"
   },
   {
    "duration": 12,
    "start_time": "2023-08-22T16:40:15.780Z"
   },
   {
    "duration": 3,
    "start_time": "2023-08-22T16:40:31.026Z"
   },
   {
    "duration": 3,
    "start_time": "2023-08-22T16:40:35.192Z"
   },
   {
    "duration": 2021,
    "start_time": "2023-08-22T16:40:35.522Z"
   },
   {
    "duration": 4,
    "start_time": "2023-08-22T16:40:37.545Z"
   },
   {
    "duration": 14,
    "start_time": "2023-08-22T16:40:37.550Z"
   },
   {
    "duration": 4,
    "start_time": "2023-08-22T16:40:45.510Z"
   },
   {
    "duration": 3,
    "start_time": "2023-08-22T16:40:46.768Z"
   },
   {
    "duration": 2525,
    "start_time": "2023-08-22T16:40:47.063Z"
   },
   {
    "duration": 3,
    "start_time": "2023-08-22T16:40:49.591Z"
   },
   {
    "duration": 14,
    "start_time": "2023-08-22T16:40:49.596Z"
   },
   {
    "duration": 3,
    "start_time": "2023-08-22T16:40:55.466Z"
   },
   {
    "duration": 2,
    "start_time": "2023-08-22T16:40:56.052Z"
   },
   {
    "duration": 7861,
    "start_time": "2023-08-22T16:40:56.355Z"
   },
   {
    "duration": 4,
    "start_time": "2023-08-22T16:41:04.218Z"
   },
   {
    "duration": 9,
    "start_time": "2023-08-22T16:41:04.223Z"
   },
   {
    "duration": 6,
    "start_time": "2023-08-22T16:42:45.636Z"
   },
   {
    "duration": 9,
    "start_time": "2023-08-22T16:42:46.484Z"
   },
   {
    "duration": 9697,
    "start_time": "2023-08-22T16:43:06.710Z"
   },
   {
    "duration": 5,
    "start_time": "2023-08-22T16:43:23.051Z"
   },
   {
    "duration": 9845,
    "start_time": "2023-08-22T16:43:23.555Z"
   },
   {
    "duration": 9999,
    "start_time": "2023-08-22T16:44:46.972Z"
   },
   {
    "duration": 10083,
    "start_time": "2023-08-22T16:45:40.264Z"
   },
   {
    "duration": 6,
    "start_time": "2023-08-22T16:46:03.012Z"
   },
   {
    "duration": 4613,
    "start_time": "2023-08-22T16:46:04.788Z"
   },
   {
    "duration": 6666,
    "start_time": "2023-08-22T16:48:30.881Z"
   },
   {
    "duration": 9024,
    "start_time": "2023-08-22T16:50:30.399Z"
   },
   {
    "duration": 3,
    "start_time": "2023-08-22T16:52:33.370Z"
   },
   {
    "duration": 8856,
    "start_time": "2023-08-22T16:52:34.130Z"
   },
   {
    "duration": 3,
    "start_time": "2023-08-22T16:57:09.409Z"
   },
   {
    "duration": 5,
    "start_time": "2023-08-22T16:57:53.101Z"
   },
   {
    "duration": 3,
    "start_time": "2023-08-22T16:57:54.499Z"
   },
   {
    "duration": 8822,
    "start_time": "2023-08-22T16:57:57.691Z"
   },
   {
    "duration": 8966,
    "start_time": "2023-08-22T17:00:58.990Z"
   },
   {
    "duration": 9646,
    "start_time": "2023-08-22T17:01:45.452Z"
   },
   {
    "duration": 9456,
    "start_time": "2023-08-22T17:02:36.156Z"
   },
   {
    "duration": 9708,
    "start_time": "2023-08-22T17:04:51.766Z"
   },
   {
    "duration": 134,
    "start_time": "2023-08-22T17:06:28.282Z"
   },
   {
    "duration": 89,
    "start_time": "2023-08-22T17:06:35.731Z"
   },
   {
    "duration": 4,
    "start_time": "2023-08-22T17:06:44.202Z"
   },
   {
    "duration": 10282,
    "start_time": "2023-08-22T18:24:23.733Z"
   },
   {
    "duration": 10498,
    "start_time": "2023-08-22T18:25:23.499Z"
   },
   {
    "duration": 10307,
    "start_time": "2023-08-22T18:26:16.465Z"
   },
   {
    "duration": 10379,
    "start_time": "2023-08-22T18:26:34.086Z"
   },
   {
    "duration": 4,
    "start_time": "2023-08-22T18:27:13.912Z"
   },
   {
    "duration": 3,
    "start_time": "2023-08-22T18:27:14.554Z"
   },
   {
    "duration": 2984,
    "start_time": "2023-08-22T18:27:15.037Z"
   },
   {
    "duration": 4,
    "start_time": "2023-08-22T18:27:20.457Z"
   },
   {
    "duration": 3,
    "start_time": "2023-08-22T18:27:21.042Z"
   },
   {
    "duration": 4,
    "start_time": "2023-08-22T18:27:23.522Z"
   },
   {
    "duration": 13,
    "start_time": "2023-08-22T18:29:26.942Z"
   },
   {
    "duration": 8,
    "start_time": "2023-08-22T18:30:23.361Z"
   },
   {
    "duration": 3,
    "start_time": "2023-08-22T18:33:41.981Z"
   },
   {
    "duration": 61056,
    "start_time": "2023-08-22T18:33:43.054Z"
   },
   {
    "duration": 3,
    "start_time": "2023-08-22T18:34:49.460Z"
   },
   {
    "duration": 4,
    "start_time": "2023-08-22T18:34:50.061Z"
   },
   {
    "duration": 3,
    "start_time": "2023-08-22T18:36:07.871Z"
   },
   {
    "duration": 30550,
    "start_time": "2023-08-22T18:36:08.344Z"
   },
   {
    "duration": 35248,
    "start_time": "2023-08-22T18:37:09.603Z"
   },
   {
    "duration": 3,
    "start_time": "2023-08-22T18:37:44.853Z"
   },
   {
    "duration": 5,
    "start_time": "2023-08-22T18:37:44.857Z"
   },
   {
    "duration": 31,
    "start_time": "2023-08-22T18:37:44.864Z"
   },
   {
    "duration": 29,
    "start_time": "2023-08-22T18:38:04.488Z"
   },
   {
    "duration": 3,
    "start_time": "2023-08-22T18:39:23.467Z"
   },
   {
    "duration": 4,
    "start_time": "2023-08-22T18:40:42.094Z"
   },
   {
    "duration": 3,
    "start_time": "2023-08-22T18:40:47.273Z"
   },
   {
    "duration": 3,
    "start_time": "2023-08-22T18:40:52.483Z"
   },
   {
    "duration": 28,
    "start_time": "2023-08-22T18:40:58.488Z"
   },
   {
    "duration": 4,
    "start_time": "2023-08-22T18:41:19.815Z"
   },
   {
    "duration": 2,
    "start_time": "2023-08-22T18:41:20.658Z"
   },
   {
    "duration": 56339,
    "start_time": "2023-08-22T18:41:22.080Z"
   },
   {
    "duration": 3,
    "start_time": "2023-08-22T18:42:18.421Z"
   },
   {
    "duration": 31,
    "start_time": "2023-08-22T18:42:18.426Z"
   },
   {
    "duration": 4,
    "start_time": "2023-08-22T18:43:47.294Z"
   },
   {
    "duration": 4,
    "start_time": "2023-08-22T18:43:48.184Z"
   },
   {
    "duration": 42147,
    "start_time": "2023-08-22T18:43:48.645Z"
   },
   {
    "duration": 3,
    "start_time": "2023-08-22T18:44:37.963Z"
   },
   {
    "duration": 26,
    "start_time": "2023-08-22T18:44:38.448Z"
   },
   {
    "duration": 4,
    "start_time": "2023-08-22T18:46:11.254Z"
   },
   {
    "duration": 4,
    "start_time": "2023-08-22T18:47:10.282Z"
   },
   {
    "duration": 4,
    "start_time": "2023-08-22T19:08:49.261Z"
   },
   {
    "duration": 3,
    "start_time": "2023-08-22T19:08:50.827Z"
   },
   {
    "duration": 39992,
    "start_time": "2023-08-22T19:08:54.382Z"
   },
   {
    "duration": 4,
    "start_time": "2023-08-22T19:09:38.738Z"
   },
   {
    "duration": 28,
    "start_time": "2023-08-22T19:09:43.611Z"
   },
   {
    "duration": 11,
    "start_time": "2023-08-22T19:13:44.338Z"
   },
   {
    "duration": 3,
    "start_time": "2023-08-22T19:13:56.147Z"
   },
   {
    "duration": 359,
    "start_time": "2023-08-22T19:14:27.043Z"
   },
   {
    "duration": 368,
    "start_time": "2023-08-22T19:14:34.732Z"
   },
   {
    "duration": 26,
    "start_time": "2023-08-22T19:14:55.368Z"
   },
   {
    "duration": 26,
    "start_time": "2023-08-22T19:15:44.952Z"
   },
   {
    "duration": 283,
    "start_time": "2023-08-22T19:16:49.178Z"
   },
   {
    "duration": 360,
    "start_time": "2023-08-22T19:16:53.324Z"
   },
   {
    "duration": 2485,
    "start_time": "2023-08-22T19:25:36.023Z"
   },
   {
    "duration": 2507,
    "start_time": "2023-08-22T19:25:44.052Z"
   },
   {
    "duration": 2615,
    "start_time": "2023-08-22T19:26:12.853Z"
   },
   {
    "duration": 2496,
    "start_time": "2023-08-22T19:26:23.067Z"
   },
   {
    "duration": 27,
    "start_time": "2023-08-22T19:35:56.768Z"
   },
   {
    "duration": 24,
    "start_time": "2023-08-22T19:36:03.937Z"
   },
   {
    "duration": 234,
    "start_time": "2023-08-22T19:36:21.374Z"
   },
   {
    "duration": 9,
    "start_time": "2023-08-22T19:36:26.504Z"
   },
   {
    "duration": 7,
    "start_time": "2023-08-22T19:36:41.998Z"
   },
   {
    "duration": 11,
    "start_time": "2023-08-22T19:36:59.288Z"
   },
   {
    "duration": 7,
    "start_time": "2023-08-22T19:36:59.793Z"
   },
   {
    "duration": 11,
    "start_time": "2023-08-22T19:37:04.437Z"
   },
   {
    "duration": 7,
    "start_time": "2023-08-22T19:37:04.905Z"
   },
   {
    "duration": 83,
    "start_time": "2023-08-22T19:37:09.092Z"
   },
   {
    "duration": 11,
    "start_time": "2023-08-22T19:37:12.728Z"
   },
   {
    "duration": 7,
    "start_time": "2023-08-22T19:37:13.123Z"
   },
   {
    "duration": 10,
    "start_time": "2023-08-22T19:39:00.436Z"
   },
   {
    "duration": 7,
    "start_time": "2023-08-22T19:39:00.875Z"
   },
   {
    "duration": 24,
    "start_time": "2023-08-22T19:39:14.587Z"
   },
   {
    "duration": 7,
    "start_time": "2023-08-22T19:39:15.079Z"
   },
   {
    "duration": 26,
    "start_time": "2023-08-22T19:39:18.587Z"
   },
   {
    "duration": 7,
    "start_time": "2023-08-22T19:39:18.887Z"
   },
   {
    "duration": 10,
    "start_time": "2023-08-22T19:41:15.581Z"
   },
   {
    "duration": 12,
    "start_time": "2023-08-22T19:41:28.179Z"
   },
   {
    "duration": 6,
    "start_time": "2023-08-22T19:41:28.981Z"
   },
   {
    "duration": 6,
    "start_time": "2023-08-22T19:46:22.703Z"
   },
   {
    "duration": 25,
    "start_time": "2023-08-22T19:53:03.334Z"
   },
   {
    "duration": 7,
    "start_time": "2023-08-22T19:53:04.481Z"
   },
   {
    "duration": 37,
    "start_time": "2023-08-22T19:53:10.719Z"
   },
   {
    "duration": 7,
    "start_time": "2023-08-22T19:53:11.181Z"
   },
   {
    "duration": 6,
    "start_time": "2023-08-22T19:53:15.437Z"
   },
   {
    "duration": 11,
    "start_time": "2023-08-22T19:53:45.546Z"
   },
   {
    "duration": 6,
    "start_time": "2023-08-22T19:53:45.812Z"
   },
   {
    "duration": 36,
    "start_time": "2023-08-22T19:53:57.138Z"
   },
   {
    "duration": 7,
    "start_time": "2023-08-22T19:53:57.645Z"
   },
   {
    "duration": 37,
    "start_time": "2023-08-22T19:54:00.533Z"
   },
   {
    "duration": 7,
    "start_time": "2023-08-22T19:54:00.796Z"
   },
   {
    "duration": 34,
    "start_time": "2023-08-22T19:54:04.405Z"
   },
   {
    "duration": 7,
    "start_time": "2023-08-22T19:54:04.626Z"
   },
   {
    "duration": 36,
    "start_time": "2023-08-22T19:54:07.028Z"
   },
   {
    "duration": 7,
    "start_time": "2023-08-22T19:54:07.229Z"
   },
   {
    "duration": 35,
    "start_time": "2023-08-22T19:54:13.036Z"
   },
   {
    "duration": 6,
    "start_time": "2023-08-22T19:54:13.281Z"
   },
   {
    "duration": 5,
    "start_time": "2023-08-22T19:56:05.674Z"
   },
   {
    "duration": 3,
    "start_time": "2023-08-22T19:56:48.685Z"
   },
   {
    "duration": 5,
    "start_time": "2023-08-22T19:58:32.730Z"
   },
   {
    "duration": 13,
    "start_time": "2023-08-22T19:58:56.329Z"
   },
   {
    "duration": 2728,
    "start_time": "2023-08-22T19:59:14.699Z"
   },
   {
    "duration": 5,
    "start_time": "2023-08-22T19:59:32.556Z"
   },
   {
    "duration": 2422,
    "start_time": "2023-08-22T19:59:35.568Z"
   },
   {
    "duration": 3,
    "start_time": "2023-08-22T19:59:50.981Z"
   },
   {
    "duration": 5,
    "start_time": "2023-08-22T20:00:00.576Z"
   },
   {
    "duration": 11,
    "start_time": "2023-08-22T20:00:22.513Z"
   },
   {
    "duration": 5,
    "start_time": "2023-08-22T20:01:16.867Z"
   },
   {
    "duration": 2434,
    "start_time": "2023-08-22T20:01:17.423Z"
   },
   {
    "duration": 4,
    "start_time": "2023-08-22T20:01:20.630Z"
   },
   {
    "duration": 4,
    "start_time": "2023-08-22T20:01:28.987Z"
   },
   {
    "duration": 4,
    "start_time": "2023-08-22T20:01:33.337Z"
   },
   {
    "duration": 2506,
    "start_time": "2023-08-22T20:01:33.622Z"
   },
   {
    "duration": 4,
    "start_time": "2023-08-22T20:01:36.130Z"
   },
   {
    "duration": 4,
    "start_time": "2023-08-22T20:01:42.823Z"
   },
   {
    "duration": 2410,
    "start_time": "2023-08-22T20:01:43.267Z"
   },
   {
    "duration": 3,
    "start_time": "2023-08-22T20:01:45.679Z"
   },
   {
    "duration": 85,
    "start_time": "2023-08-22T20:02:23.233Z"
   },
   {
    "duration": 97,
    "start_time": "2023-08-22T20:02:34.507Z"
   },
   {
    "duration": 16,
    "start_time": "2023-08-22T20:02:38.198Z"
   },
   {
    "duration": 4,
    "start_time": "2023-08-22T20:02:43.877Z"
   },
   {
    "duration": 2344,
    "start_time": "2023-08-22T20:02:45.140Z"
   },
   {
    "duration": 4,
    "start_time": "2023-08-22T20:02:47.486Z"
   },
   {
    "duration": 4,
    "start_time": "2023-08-22T20:03:10.982Z"
   },
   {
    "duration": 1561,
    "start_time": "2023-08-22T20:03:11.648Z"
   },
   {
    "duration": 4,
    "start_time": "2023-08-22T20:03:15.707Z"
   },
   {
    "duration": 4,
    "start_time": "2023-08-22T20:03:25.100Z"
   },
   {
    "duration": 3,
    "start_time": "2023-08-22T20:03:38.070Z"
   },
   {
    "duration": 1458,
    "start_time": "2023-08-22T20:03:38.582Z"
   },
   {
    "duration": 4,
    "start_time": "2023-08-22T20:03:40.993Z"
   },
   {
    "duration": 4,
    "start_time": "2023-08-22T20:03:48.271Z"
   },
   {
    "duration": 6,
    "start_time": "2023-08-22T20:04:55.166Z"
   },
   {
    "duration": 3,
    "start_time": "2023-08-22T20:04:56.461Z"
   },
   {
    "duration": 561,
    "start_time": "2023-08-22T20:04:58.398Z"
   },
   {
    "duration": 6,
    "start_time": "2023-08-22T20:05:34.456Z"
   },
   {
    "duration": 565,
    "start_time": "2023-08-22T20:05:37.068Z"
   },
   {
    "duration": 6,
    "start_time": "2023-08-22T20:05:47.548Z"
   },
   {
    "duration": 3,
    "start_time": "2023-08-22T20:05:48.878Z"
   },
   {
    "duration": 9955,
    "start_time": "2023-08-22T20:05:52.233Z"
   },
   {
    "duration": 37,
    "start_time": "2023-08-22T20:06:54.219Z"
   },
   {
    "duration": 7,
    "start_time": "2023-08-22T20:06:54.571Z"
   },
   {
    "duration": 9,
    "start_time": "2023-08-22T20:07:03.503Z"
   },
   {
    "duration": 6,
    "start_time": "2023-08-22T20:07:03.836Z"
   },
   {
    "duration": 26,
    "start_time": "2023-08-22T20:07:15.173Z"
   },
   {
    "duration": 7,
    "start_time": "2023-08-22T20:07:15.692Z"
   },
   {
    "duration": 10,
    "start_time": "2023-08-22T20:07:20.435Z"
   },
   {
    "duration": 6,
    "start_time": "2023-08-22T20:07:20.894Z"
   },
   {
    "duration": 10,
    "start_time": "2023-08-22T20:07:29.535Z"
   },
   {
    "duration": 6,
    "start_time": "2023-08-22T20:07:29.735Z"
   },
   {
    "duration": 35,
    "start_time": "2023-08-22T20:07:33.111Z"
   },
   {
    "duration": 6,
    "start_time": "2023-08-22T20:07:33.366Z"
   },
   {
    "duration": 24,
    "start_time": "2023-08-22T20:08:13.867Z"
   },
   {
    "duration": 7,
    "start_time": "2023-08-22T20:08:14.087Z"
   },
   {
    "duration": 11,
    "start_time": "2023-08-22T20:08:22.071Z"
   },
   {
    "duration": 7,
    "start_time": "2023-08-22T20:08:22.302Z"
   },
   {
    "duration": 34,
    "start_time": "2023-08-22T20:08:24.206Z"
   },
   {
    "duration": 7,
    "start_time": "2023-08-22T20:08:29.815Z"
   },
   {
    "duration": 1731,
    "start_time": "2023-08-23T07:39:34.684Z"
   },
   {
    "duration": 131,
    "start_time": "2023-08-23T07:39:36.418Z"
   },
   {
    "duration": 16,
    "start_time": "2023-08-23T07:39:36.552Z"
   },
   {
    "duration": 12,
    "start_time": "2023-08-23T07:39:36.570Z"
   },
   {
    "duration": 38,
    "start_time": "2023-08-23T07:39:36.583Z"
   },
   {
    "duration": 7,
    "start_time": "2023-08-23T07:39:36.622Z"
   },
   {
    "duration": 18,
    "start_time": "2023-08-23T07:39:36.631Z"
   },
   {
    "duration": 5,
    "start_time": "2023-08-23T07:39:36.651Z"
   },
   {
    "duration": 13,
    "start_time": "2023-08-23T07:39:36.657Z"
   },
   {
    "duration": 42,
    "start_time": "2023-08-23T07:39:36.673Z"
   },
   {
    "duration": 44,
    "start_time": "2023-08-23T07:39:36.717Z"
   },
   {
    "duration": 655,
    "start_time": "2023-08-23T07:39:36.763Z"
   },
   {
    "duration": 297,
    "start_time": "2023-08-23T07:39:37.419Z"
   },
   {
    "duration": 6,
    "start_time": "2023-08-23T07:39:37.718Z"
   },
   {
    "duration": 47,
    "start_time": "2023-08-23T07:39:37.726Z"
   },
   {
    "duration": 10781,
    "start_time": "2023-08-23T07:39:37.775Z"
   },
   {
    "duration": 4,
    "start_time": "2023-08-23T07:39:48.558Z"
   },
   {
    "duration": 9,
    "start_time": "2023-08-23T07:39:48.563Z"
   },
   {
    "duration": 37180,
    "start_time": "2023-08-23T07:39:48.574Z"
   },
   {
    "duration": 6,
    "start_time": "2023-08-23T07:40:25.757Z"
   },
   {
    "duration": 51,
    "start_time": "2023-08-23T07:40:25.765Z"
   },
   {
    "duration": 3,
    "start_time": "2023-08-23T07:40:25.818Z"
   },
   {
    "duration": 465,
    "start_time": "2023-08-23T07:40:25.823Z"
   },
   {
    "duration": 22,
    "start_time": "2023-08-23T07:40:26.289Z"
   },
   {
    "duration": 42,
    "start_time": "2023-08-23T07:40:26.313Z"
   },
   {
    "duration": 2849,
    "start_time": "2023-08-23T07:40:26.357Z"
   },
   {
    "duration": 11,
    "start_time": "2023-08-23T07:40:29.208Z"
   },
   {
    "duration": 30,
    "start_time": "2023-08-23T07:40:29.221Z"
   },
   {
    "duration": 234,
    "start_time": "2023-08-23T07:40:29.253Z"
   },
   {
    "duration": 33,
    "start_time": "2023-08-23T07:40:29.489Z"
   },
   {
    "duration": 9,
    "start_time": "2023-08-23T07:40:29.526Z"
   },
   {
    "duration": 201,
    "start_time": "2023-08-23T07:40:29.540Z"
   },
   {
    "duration": 6,
    "start_time": "2023-08-23T08:47:58.447Z"
   },
   {
    "duration": 767,
    "start_time": "2023-08-23T08:48:02.479Z"
   },
   {
    "duration": 4,
    "start_time": "2023-08-23T08:51:42.605Z"
   },
   {
    "duration": 787,
    "start_time": "2023-08-23T08:51:45.616Z"
   },
   {
    "duration": 4,
    "start_time": "2023-08-23T08:51:55.392Z"
   },
   {
    "duration": 667,
    "start_time": "2023-08-23T08:51:57.995Z"
   },
   {
    "duration": 4,
    "start_time": "2023-08-23T08:52:07.098Z"
   },
   {
    "duration": 676,
    "start_time": "2023-08-23T08:52:09.883Z"
   },
   {
    "duration": 5,
    "start_time": "2023-08-23T08:53:37.718Z"
   },
   {
    "duration": 396,
    "start_time": "2023-08-23T08:53:41.044Z"
   },
   {
    "duration": 6,
    "start_time": "2023-08-23T08:55:59.306Z"
   },
   {
    "duration": 4,
    "start_time": "2023-08-23T09:00:49.295Z"
   },
   {
    "duration": 258,
    "start_time": "2023-08-23T09:00:53.177Z"
   },
   {
    "duration": 11,
    "start_time": "2023-08-23T09:01:33.026Z"
   },
   {
    "duration": 789,
    "start_time": "2023-08-23T09:01:35.789Z"
   },
   {
    "duration": 5,
    "start_time": "2023-08-23T09:02:01.013Z"
   },
   {
    "duration": 717,
    "start_time": "2023-08-23T09:02:04.143Z"
   },
   {
    "duration": 5,
    "start_time": "2023-08-23T09:02:57.188Z"
   },
   {
    "duration": 361,
    "start_time": "2023-08-23T09:02:59.931Z"
   },
   {
    "duration": 5,
    "start_time": "2023-08-23T09:05:12.877Z"
   },
   {
    "duration": 750,
    "start_time": "2023-08-23T09:05:16.242Z"
   },
   {
    "duration": 676,
    "start_time": "2023-08-23T09:05:22.054Z"
   },
   {
    "duration": 621,
    "start_time": "2023-08-23T09:05:26.885Z"
   },
   {
    "duration": 711,
    "start_time": "2023-08-23T09:05:39.265Z"
   },
   {
    "duration": 656,
    "start_time": "2023-08-23T09:05:59.777Z"
   },
   {
    "duration": 644,
    "start_time": "2023-08-23T09:06:12.192Z"
   },
   {
    "duration": 614,
    "start_time": "2023-08-23T09:06:40.762Z"
   },
   {
    "duration": 3747,
    "start_time": "2023-08-23T09:07:27.588Z"
   },
   {
    "duration": 239,
    "start_time": "2023-08-23T09:07:49.770Z"
   },
   {
    "duration": 732,
    "start_time": "2023-08-23T09:07:58.535Z"
   },
   {
    "duration": 679,
    "start_time": "2023-08-23T09:08:04.617Z"
   },
   {
    "duration": 766,
    "start_time": "2023-08-23T09:08:50.117Z"
   },
   {
    "duration": 5,
    "start_time": "2023-08-23T09:09:08.969Z"
   },
   {
    "duration": 752,
    "start_time": "2023-08-23T09:09:12.066Z"
   },
   {
    "duration": 733,
    "start_time": "2023-08-23T09:09:30.023Z"
   },
   {
    "duration": 120,
    "start_time": "2023-08-23T09:10:00.663Z"
   },
   {
    "duration": 5,
    "start_time": "2023-08-23T09:10:24.991Z"
   },
   {
    "duration": 40522,
    "start_time": "2023-08-23T09:10:27.916Z"
   },
   {
    "duration": 5,
    "start_time": "2023-08-23T09:11:08.707Z"
   },
   {
    "duration": 742,
    "start_time": "2023-08-23T09:11:12.764Z"
   },
   {
    "duration": 28,
    "start_time": "2023-08-23T09:11:42.094Z"
   },
   {
    "duration": 9,
    "start_time": "2023-08-23T09:11:45.352Z"
   },
   {
    "duration": 70,
    "start_time": "2023-08-23T09:13:44.191Z"
   },
   {
    "duration": 112,
    "start_time": "2023-08-23T09:13:56.776Z"
   },
   {
    "duration": 19,
    "start_time": "2023-08-23T09:14:35.757Z"
   },
   {
    "duration": 6,
    "start_time": "2023-08-23T09:15:05.057Z"
   },
   {
    "duration": 6,
    "start_time": "2023-08-23T09:15:16.582Z"
   },
   {
    "duration": 4,
    "start_time": "2023-08-23T09:18:51.885Z"
   },
   {
    "duration": 118,
    "start_time": "2023-08-23T09:19:05.753Z"
   },
   {
    "duration": 4,
    "start_time": "2023-08-23T09:20:09.388Z"
   },
   {
    "duration": 54,
    "start_time": "2023-08-23T09:20:09.954Z"
   },
   {
    "duration": 91,
    "start_time": "2023-08-23T09:20:32.811Z"
   },
   {
    "duration": 3,
    "start_time": "2023-08-23T09:22:38.362Z"
   },
   {
    "duration": 731,
    "start_time": "2023-08-23T09:23:07.797Z"
   },
   {
    "duration": 4,
    "start_time": "2023-08-23T09:23:25.211Z"
   },
   {
    "duration": 9,
    "start_time": "2023-08-23T09:23:26.542Z"
   },
   {
    "duration": 454,
    "start_time": "2023-08-23T09:23:26.961Z"
   },
   {
    "duration": 4,
    "start_time": "2023-08-23T09:25:17.277Z"
   },
   {
    "duration": 422,
    "start_time": "2023-08-23T09:25:18.843Z"
   },
   {
    "duration": 5,
    "start_time": "2023-08-23T09:26:48.793Z"
   },
   {
    "duration": 728,
    "start_time": "2023-08-23T09:29:35.702Z"
   },
   {
    "duration": 406,
    "start_time": "2023-08-23T09:29:45.865Z"
   },
   {
    "duration": 666,
    "start_time": "2023-08-23T09:29:51.899Z"
   },
   {
    "duration": 1884,
    "start_time": "2023-08-23T09:30:03.960Z"
   },
   {
    "duration": 46,
    "start_time": "2023-08-23T09:30:05.851Z"
   },
   {
    "duration": 17,
    "start_time": "2023-08-23T09:30:05.899Z"
   },
   {
    "duration": 22,
    "start_time": "2023-08-23T09:30:05.918Z"
   },
   {
    "duration": 41,
    "start_time": "2023-08-23T09:30:05.944Z"
   },
   {
    "duration": 4,
    "start_time": "2023-08-23T09:30:05.987Z"
   },
   {
    "duration": 8,
    "start_time": "2023-08-23T09:30:05.992Z"
   },
   {
    "duration": 5,
    "start_time": "2023-08-23T09:30:06.002Z"
   },
   {
    "duration": 25,
    "start_time": "2023-08-23T09:30:06.009Z"
   },
   {
    "duration": 9,
    "start_time": "2023-08-23T09:30:06.059Z"
   },
   {
    "duration": 10,
    "start_time": "2023-08-23T09:30:06.073Z"
   },
   {
    "duration": 755,
    "start_time": "2023-08-23T09:30:06.084Z"
   },
   {
    "duration": 397,
    "start_time": "2023-08-23T09:30:06.841Z"
   },
   {
    "duration": 15,
    "start_time": "2023-08-23T09:30:07.242Z"
   },
   {
    "duration": 14,
    "start_time": "2023-08-23T09:30:07.260Z"
   },
   {
    "duration": 12179,
    "start_time": "2023-08-23T09:30:07.277Z"
   },
   {
    "duration": 11,
    "start_time": "2023-08-23T09:30:19.457Z"
   },
   {
    "duration": 9,
    "start_time": "2023-08-23T09:30:19.470Z"
   },
   {
    "duration": 44314,
    "start_time": "2023-08-23T09:30:19.482Z"
   },
   {
    "duration": 4,
    "start_time": "2023-08-23T09:31:03.798Z"
   },
   {
    "duration": 38,
    "start_time": "2023-08-23T09:31:03.803Z"
   },
   {
    "duration": 7,
    "start_time": "2023-08-23T09:31:03.843Z"
   },
   {
    "duration": 446,
    "start_time": "2023-08-23T09:31:03.853Z"
   },
   {
    "duration": 37,
    "start_time": "2023-08-23T09:31:04.300Z"
   },
   {
    "duration": 36,
    "start_time": "2023-08-23T09:31:04.339Z"
   },
   {
    "duration": 3189,
    "start_time": "2023-08-23T09:31:04.378Z"
   },
   {
    "duration": 12,
    "start_time": "2023-08-23T09:31:07.569Z"
   },
   {
    "duration": 7,
    "start_time": "2023-08-23T09:31:07.583Z"
   },
   {
    "duration": 124,
    "start_time": "2023-08-23T09:31:07.591Z"
   },
   {
    "duration": 58,
    "start_time": "2023-08-23T09:31:07.717Z"
   },
   {
    "duration": 11,
    "start_time": "2023-08-23T09:31:07.777Z"
   },
   {
    "duration": 117,
    "start_time": "2023-08-23T09:31:07.790Z"
   },
   {
    "duration": 3,
    "start_time": "2023-08-23T09:31:07.910Z"
   },
   {
    "duration": 15,
    "start_time": "2023-08-23T09:31:07.915Z"
   },
   {
    "duration": 539,
    "start_time": "2023-08-23T09:31:07.933Z"
   },
   {
    "duration": 844,
    "start_time": "2023-08-23T09:31:08.475Z"
   },
   {
    "duration": 705,
    "start_time": "2023-08-23T09:31:54.565Z"
   },
   {
    "duration": 668,
    "start_time": "2023-08-23T09:32:07.239Z"
   },
   {
    "duration": 8,
    "start_time": "2023-08-23T09:33:33.762Z"
   },
   {
    "duration": 6,
    "start_time": "2023-08-23T09:33:36.542Z"
   },
   {
    "duration": 4,
    "start_time": "2023-08-23T09:33:48.398Z"
   },
   {
    "duration": 6,
    "start_time": "2023-08-23T09:33:49.450Z"
   },
   {
    "duration": 65683,
    "start_time": "2023-08-23T09:33:50.380Z"
   },
   {
    "duration": 6,
    "start_time": "2023-08-23T09:35:01.564Z"
   },
   {
    "duration": 30,
    "start_time": "2023-08-23T09:35:02.160Z"
   },
   {
    "duration": 4,
    "start_time": "2023-08-23T09:36:20.597Z"
   },
   {
    "duration": 4,
    "start_time": "2023-08-23T09:36:22.114Z"
   },
   {
    "duration": 90124,
    "start_time": "2023-08-23T09:36:22.661Z"
   },
   {
    "duration": 4,
    "start_time": "2023-08-23T09:38:05.480Z"
   },
   {
    "duration": 31,
    "start_time": "2023-08-23T09:38:06.274Z"
   },
   {
    "duration": 3,
    "start_time": "2023-08-23T09:38:17.613Z"
   },
   {
    "duration": 462,
    "start_time": "2023-08-23T09:38:18.680Z"
   },
   {
    "duration": 28,
    "start_time": "2023-08-23T09:38:19.145Z"
   },
   {
    "duration": 51,
    "start_time": "2023-08-23T09:38:20.714Z"
   },
   {
    "duration": 5,
    "start_time": "2023-08-23T09:38:40.664Z"
   },
   {
    "duration": 485,
    "start_time": "2023-08-23T09:38:41.587Z"
   },
   {
    "duration": 29,
    "start_time": "2023-08-23T09:38:43.064Z"
   },
   {
    "duration": 31,
    "start_time": "2023-08-23T09:38:43.961Z"
   },
   {
    "duration": 6,
    "start_time": "2023-08-23T09:42:12.367Z"
   },
   {
    "duration": 7,
    "start_time": "2023-08-23T09:42:15.754Z"
   },
   {
    "duration": 2949,
    "start_time": "2023-08-23T09:42:16.612Z"
   },
   {
    "duration": 6,
    "start_time": "2023-08-23T09:42:25.160Z"
   },
   {
    "duration": 11745,
    "start_time": "2023-08-23T09:42:26.961Z"
   },
   {
    "duration": 14,
    "start_time": "2023-08-23T09:42:43.246Z"
   },
   {
    "duration": 11757,
    "start_time": "2023-08-23T09:42:47.151Z"
   },
   {
    "duration": 193,
    "start_time": "2023-08-23T09:43:10.887Z"
   },
   {
    "duration": 17,
    "start_time": "2023-08-23T09:43:17.451Z"
   },
   {
    "duration": 11728,
    "start_time": "2023-08-23T09:43:19.590Z"
   },
   {
    "duration": 15,
    "start_time": "2023-08-23T09:43:31.325Z"
   },
   {
    "duration": 11882,
    "start_time": "2023-08-23T09:43:32.614Z"
   },
   {
    "duration": 6,
    "start_time": "2023-08-23T09:45:06.362Z"
   },
   {
    "duration": 16,
    "start_time": "2023-08-23T09:45:25.121Z"
   },
   {
    "duration": 8,
    "start_time": "2023-08-23T09:45:29.091Z"
   },
   {
    "duration": 7,
    "start_time": "2023-08-23T09:45:31.475Z"
   },
   {
    "duration": 266,
    "start_time": "2023-08-23T09:45:32.251Z"
   },
   {
    "duration": 16,
    "start_time": "2023-08-23T09:46:03.843Z"
   },
   {
    "duration": 3,
    "start_time": "2023-08-23T09:46:04.962Z"
   },
   {
    "duration": 16341,
    "start_time": "2023-08-23T09:46:05.662Z"
   },
   {
    "duration": 29,
    "start_time": "2023-08-23T09:46:48.119Z"
   },
   {
    "duration": 6,
    "start_time": "2023-08-23T09:46:50.224Z"
   },
   {
    "duration": 17036,
    "start_time": "2023-08-23T09:46:51.055Z"
   },
   {
    "duration": 6,
    "start_time": "2023-08-23T09:47:08.094Z"
   },
   {
    "duration": 3,
    "start_time": "2023-08-23T09:49:13.413Z"
   },
   {
    "duration": 792,
    "start_time": "2023-08-23T09:49:16.396Z"
   },
   {
    "duration": 1582,
    "start_time": "2023-08-23T09:58:49.551Z"
   },
   {
    "duration": 31,
    "start_time": "2023-08-23T09:58:51.146Z"
   },
   {
    "duration": 15,
    "start_time": "2023-08-23T09:58:51.179Z"
   },
   {
    "duration": 13,
    "start_time": "2023-08-23T09:58:51.196Z"
   },
   {
    "duration": 62,
    "start_time": "2023-08-23T09:58:51.212Z"
   },
   {
    "duration": 8,
    "start_time": "2023-08-23T09:58:51.276Z"
   },
   {
    "duration": 20,
    "start_time": "2023-08-23T09:58:51.286Z"
   },
   {
    "duration": 47,
    "start_time": "2023-08-23T09:58:51.308Z"
   },
   {
    "duration": 14,
    "start_time": "2023-08-23T09:58:51.358Z"
   },
   {
    "duration": 23,
    "start_time": "2023-08-23T09:58:51.374Z"
   },
   {
    "duration": 14,
    "start_time": "2023-08-23T09:58:51.399Z"
   },
   {
    "duration": 659,
    "start_time": "2023-08-23T09:58:51.415Z"
   },
   {
    "duration": 318,
    "start_time": "2023-08-23T09:58:52.076Z"
   },
   {
    "duration": 6,
    "start_time": "2023-08-23T09:58:52.398Z"
   },
   {
    "duration": 48,
    "start_time": "2023-08-23T09:58:52.405Z"
   },
   {
    "duration": 15923,
    "start_time": "2023-08-23T09:58:52.456Z"
   },
   {
    "duration": 4,
    "start_time": "2023-08-23T09:59:08.381Z"
   },
   {
    "duration": 26,
    "start_time": "2023-08-23T09:59:08.386Z"
   },
   {
    "duration": 81593,
    "start_time": "2023-08-23T09:59:08.414Z"
   },
   {
    "duration": 4,
    "start_time": "2023-08-23T10:00:30.009Z"
   },
   {
    "duration": 93,
    "start_time": "2023-08-23T10:00:30.014Z"
   },
   {
    "duration": 4,
    "start_time": "2023-08-23T10:00:30.108Z"
   },
   {
    "duration": 453,
    "start_time": "2023-08-23T10:00:30.113Z"
   },
   {
    "duration": 22,
    "start_time": "2023-08-23T10:00:30.568Z"
   },
   {
    "duration": 48,
    "start_time": "2023-08-23T10:00:30.592Z"
   },
   {
    "duration": 3808,
    "start_time": "2023-08-23T10:00:30.642Z"
   },
   {
    "duration": 13,
    "start_time": "2023-08-23T10:00:34.452Z"
   },
   {
    "duration": 8,
    "start_time": "2023-08-23T10:00:34.466Z"
   },
   {
    "duration": 78,
    "start_time": "2023-08-23T10:00:34.475Z"
   },
   {
    "duration": 43,
    "start_time": "2023-08-23T10:00:34.555Z"
   },
   {
    "duration": 7,
    "start_time": "2023-08-23T10:00:34.600Z"
   },
   {
    "duration": 99,
    "start_time": "2023-08-23T10:00:34.609Z"
   },
   {
    "duration": 5,
    "start_time": "2023-08-23T10:00:34.710Z"
   },
   {
    "duration": 19,
    "start_time": "2023-08-23T10:00:34.717Z"
   },
   {
    "duration": 808,
    "start_time": "2023-08-23T10:00:34.742Z"
   },
   {
    "duration": 7,
    "start_time": "2023-08-23T10:04:59.074Z"
   },
   {
    "duration": 144,
    "start_time": "2023-08-23T10:09:33.802Z"
   },
   {
    "duration": 5,
    "start_time": "2023-08-23T10:09:37.921Z"
   },
   {
    "duration": 115,
    "start_time": "2023-08-23T10:10:04.602Z"
   },
   {
    "duration": 6,
    "start_time": "2023-08-23T10:11:27.181Z"
   },
   {
    "duration": 127,
    "start_time": "2023-08-23T10:11:29.531Z"
   },
   {
    "duration": 349,
    "start_time": "2023-08-23T10:12:16.236Z"
   },
   {
    "duration": 398,
    "start_time": "2023-08-23T10:12:28.379Z"
   },
   {
    "duration": 5,
    "start_time": "2023-08-23T10:13:00.973Z"
   },
   {
    "duration": 17659,
    "start_time": "2023-08-23T10:13:11.322Z"
   },
   {
    "duration": 17293,
    "start_time": "2023-08-23T10:13:48.252Z"
   },
   {
    "duration": 11,
    "start_time": "2023-08-23T10:14:18.352Z"
   },
   {
    "duration": 621,
    "start_time": "2023-08-23T10:17:08.052Z"
   },
   {
    "duration": 7,
    "start_time": "2023-08-23T10:22:04.801Z"
   },
   {
    "duration": 3,
    "start_time": "2023-08-23T10:22:07.503Z"
   },
   {
    "duration": 957,
    "start_time": "2023-08-23T10:22:08.003Z"
   },
   {
    "duration": 672,
    "start_time": "2023-08-23T10:22:20.423Z"
   },
   {
    "duration": 942,
    "start_time": "2023-08-23T10:22:52.147Z"
   },
   {
    "duration": 5,
    "start_time": "2023-08-23T10:23:07.367Z"
   },
   {
    "duration": 754,
    "start_time": "2023-08-23T10:23:08.849Z"
   },
   {
    "duration": 8,
    "start_time": "2023-08-23T10:36:23.577Z"
   },
   {
    "duration": 64440,
    "start_time": "2023-08-23T10:36:25.878Z"
   },
   {
    "duration": 0,
    "start_time": "2023-08-23T10:39:12.898Z"
   },
   {
    "duration": 1,
    "start_time": "2023-08-23T10:39:12.899Z"
   },
   {
    "duration": 0,
    "start_time": "2023-08-23T10:39:12.901Z"
   },
   {
    "duration": 24,
    "start_time": "2023-08-23T10:39:31.915Z"
   },
   {
    "duration": 77,
    "start_time": "2023-08-23T10:39:37.018Z"
   },
   {
    "duration": 1689,
    "start_time": "2023-08-23T10:40:30.109Z"
   },
   {
    "duration": 43,
    "start_time": "2023-08-23T10:40:31.800Z"
   },
   {
    "duration": 19,
    "start_time": "2023-08-23T10:40:31.847Z"
   },
   {
    "duration": 23,
    "start_time": "2023-08-23T10:40:31.868Z"
   },
   {
    "duration": 42,
    "start_time": "2023-08-23T10:40:31.893Z"
   },
   {
    "duration": 4,
    "start_time": "2023-08-23T10:40:31.936Z"
   },
   {
    "duration": 31,
    "start_time": "2023-08-23T10:40:31.942Z"
   },
   {
    "duration": 21,
    "start_time": "2023-08-23T10:40:31.976Z"
   },
   {
    "duration": 49,
    "start_time": "2023-08-23T10:40:31.999Z"
   },
   {
    "duration": 23,
    "start_time": "2023-08-23T10:40:32.055Z"
   },
   {
    "duration": 14,
    "start_time": "2023-08-23T10:40:32.081Z"
   },
   {
    "duration": 18,
    "start_time": "2023-08-23T10:40:32.098Z"
   },
   {
    "duration": 904,
    "start_time": "2023-08-23T10:40:32.118Z"
   },
   {
    "duration": 480,
    "start_time": "2023-08-23T10:40:33.024Z"
   },
   {
    "duration": 384,
    "start_time": "2023-08-23T10:40:33.506Z"
   },
   {
    "duration": 5,
    "start_time": "2023-08-23T10:40:33.891Z"
   },
   {
    "duration": 50,
    "start_time": "2023-08-23T10:40:33.898Z"
   },
   {
    "duration": 15831,
    "start_time": "2023-08-23T10:40:33.950Z"
   },
   {
    "duration": 17297,
    "start_time": "2023-08-23T10:40:49.783Z"
   },
   {
    "duration": 5,
    "start_time": "2023-08-23T10:41:07.086Z"
   },
   {
    "duration": 218,
    "start_time": "2023-08-23T10:41:07.096Z"
   },
   {
    "duration": 76211,
    "start_time": "2023-08-23T10:41:07.317Z"
   },
   {
    "duration": 5,
    "start_time": "2023-08-23T10:42:23.530Z"
   },
   {
    "duration": 47,
    "start_time": "2023-08-23T10:42:23.539Z"
   },
   {
    "duration": 4,
    "start_time": "2023-08-23T10:42:23.588Z"
   },
   {
    "duration": 465,
    "start_time": "2023-08-23T10:42:23.594Z"
   },
   {
    "duration": 23,
    "start_time": "2023-08-23T10:42:24.063Z"
   },
   {
    "duration": 25,
    "start_time": "2023-08-23T10:42:24.090Z"
   },
   {
    "duration": 3869,
    "start_time": "2023-08-23T10:42:24.126Z"
   },
   {
    "duration": 19,
    "start_time": "2023-08-23T10:42:27.998Z"
   },
   {
    "duration": 39,
    "start_time": "2023-08-23T10:42:28.019Z"
   },
   {
    "duration": 291,
    "start_time": "2023-08-23T10:42:28.061Z"
   },
   {
    "duration": 54,
    "start_time": "2023-08-23T10:42:28.354Z"
   },
   {
    "duration": 7,
    "start_time": "2023-08-23T10:42:28.410Z"
   },
   {
    "duration": 99,
    "start_time": "2023-08-23T10:42:28.419Z"
   },
   {
    "duration": 4,
    "start_time": "2023-08-23T10:42:28.520Z"
   },
   {
    "duration": 20,
    "start_time": "2023-08-23T10:42:28.530Z"
   },
   {
    "duration": 604,
    "start_time": "2023-08-23T10:42:28.554Z"
   },
   {
    "duration": 3715,
    "start_time": "2023-08-23T10:42:29.160Z"
   },
   {
    "duration": 3726,
    "start_time": "2023-08-23T10:42:43.884Z"
   },
   {
    "duration": 218,
    "start_time": "2023-08-23T10:43:05.442Z"
   },
   {
    "duration": 18,
    "start_time": "2023-08-23T10:43:21.562Z"
   },
   {
    "duration": 15409,
    "start_time": "2023-08-23T10:44:06.611Z"
   },
   {
    "duration": 279,
    "start_time": "2023-08-23T10:46:36.705Z"
   },
   {
    "duration": 77,
    "start_time": "2023-08-23T10:47:07.702Z"
   },
   {
    "duration": 307,
    "start_time": "2023-08-23T10:48:21.369Z"
   },
   {
    "duration": 248,
    "start_time": "2023-08-23T10:49:39.044Z"
   },
   {
    "duration": 267,
    "start_time": "2023-08-23T10:50:01.702Z"
   },
   {
    "duration": 257,
    "start_time": "2023-08-23T10:50:14.199Z"
   },
   {
    "duration": 291,
    "start_time": "2023-08-23T10:50:38.359Z"
   },
   {
    "duration": 731,
    "start_time": "2023-08-23T10:51:01.063Z"
   },
   {
    "duration": 447,
    "start_time": "2023-08-23T10:52:00.850Z"
   },
   {
    "duration": 385,
    "start_time": "2023-08-23T10:52:29.614Z"
   },
   {
    "duration": 16,
    "start_time": "2023-08-23T10:52:52.666Z"
   },
   {
    "duration": 196,
    "start_time": "2023-08-23T10:53:30.583Z"
   },
   {
    "duration": 18,
    "start_time": "2023-08-23T11:03:59.385Z"
   },
   {
    "duration": 29,
    "start_time": "2023-08-23T11:04:09.447Z"
   },
   {
    "duration": 61,
    "start_time": "2023-08-23T11:04:26.198Z"
   },
   {
    "duration": 41,
    "start_time": "2023-08-23T11:04:44.276Z"
   },
   {
    "duration": 17,
    "start_time": "2023-08-23T11:04:45.249Z"
   },
   {
    "duration": 99,
    "start_time": "2023-08-23T11:05:14.553Z"
   },
   {
    "duration": 18,
    "start_time": "2023-08-23T11:06:26.956Z"
   },
   {
    "duration": 7,
    "start_time": "2023-08-23T11:06:27.977Z"
   },
   {
    "duration": 139,
    "start_time": "2023-08-23T11:06:30.118Z"
   },
   {
    "duration": 17,
    "start_time": "2023-08-23T11:07:30.978Z"
   },
   {
    "duration": 17,
    "start_time": "2023-08-23T11:07:31.442Z"
   },
   {
    "duration": 223,
    "start_time": "2023-08-23T11:07:38.321Z"
   },
   {
    "duration": 66,
    "start_time": "2023-08-23T11:07:38.850Z"
   },
   {
    "duration": 23,
    "start_time": "2023-08-23T11:07:49.261Z"
   },
   {
    "duration": 8,
    "start_time": "2023-08-23T11:07:52.606Z"
   },
   {
    "duration": 6,
    "start_time": "2023-08-23T11:09:05.415Z"
   },
   {
    "duration": 3,
    "start_time": "2023-08-23T11:09:06.494Z"
   },
   {
    "duration": 612,
    "start_time": "2023-08-23T11:09:07.688Z"
   },
   {
    "duration": 2144,
    "start_time": "2023-08-23T11:10:46.192Z"
   },
   {
    "duration": 53,
    "start_time": "2023-08-23T11:10:48.338Z"
   },
   {
    "duration": 17,
    "start_time": "2023-08-23T11:10:48.393Z"
   },
   {
    "duration": 22,
    "start_time": "2023-08-23T11:10:48.412Z"
   },
   {
    "duration": 47,
    "start_time": "2023-08-23T11:10:48.450Z"
   },
   {
    "duration": 5,
    "start_time": "2023-08-23T11:10:48.499Z"
   },
   {
    "duration": 10,
    "start_time": "2023-08-23T11:10:48.506Z"
   },
   {
    "duration": 5,
    "start_time": "2023-08-23T11:10:48.521Z"
   },
   {
    "duration": 14,
    "start_time": "2023-08-23T11:10:48.530Z"
   },
   {
    "duration": 6,
    "start_time": "2023-08-23T11:10:48.547Z"
   },
   {
    "duration": 11,
    "start_time": "2023-08-23T11:10:48.555Z"
   },
   {
    "duration": 8,
    "start_time": "2023-08-23T11:10:48.570Z"
   },
   {
    "duration": 558,
    "start_time": "2023-08-23T11:10:48.580Z"
   },
   {
    "duration": 442,
    "start_time": "2023-08-23T11:10:49.142Z"
   },
   {
    "duration": 16,
    "start_time": "2023-08-23T11:10:49.593Z"
   },
   {
    "duration": 179,
    "start_time": "2023-08-23T11:10:49.611Z"
   },
   {
    "duration": 5,
    "start_time": "2023-08-23T11:10:49.792Z"
   },
   {
    "duration": 10,
    "start_time": "2023-08-23T11:10:49.799Z"
   },
   {
    "duration": 18015,
    "start_time": "2023-08-23T11:10:49.812Z"
   },
   {
    "duration": 28,
    "start_time": "2023-08-23T11:11:07.831Z"
   },
   {
    "duration": 301,
    "start_time": "2023-08-23T11:11:07.865Z"
   },
   {
    "duration": 67,
    "start_time": "2023-08-23T11:11:08.169Z"
   },
   {
    "duration": 14,
    "start_time": "2023-08-23T11:11:08.238Z"
   },
   {
    "duration": 13,
    "start_time": "2023-08-23T11:11:08.254Z"
   },
   {
    "duration": 113933,
    "start_time": "2023-08-23T11:11:08.270Z"
   },
   {
    "duration": 5,
    "start_time": "2023-08-23T11:13:02.206Z"
   },
   {
    "duration": 46,
    "start_time": "2023-08-23T11:13:02.224Z"
   },
   {
    "duration": 703,
    "start_time": "2023-08-23T11:13:02.272Z"
   },
   {
    "duration": 49,
    "start_time": "2023-08-23T11:13:02.981Z"
   },
   {
    "duration": 60,
    "start_time": "2023-08-23T11:13:03.035Z"
   },
   {
    "duration": 766,
    "start_time": "2023-08-23T11:13:03.100Z"
   },
   {
    "duration": 18,
    "start_time": "2023-08-23T11:13:03.872Z"
   },
   {
    "duration": 10,
    "start_time": "2023-08-23T11:13:03.892Z"
   },
   {
    "duration": 62,
    "start_time": "2023-08-23T11:13:03.904Z"
   },
   {
    "duration": 19,
    "start_time": "2023-08-23T11:13:03.973Z"
   },
   {
    "duration": 121,
    "start_time": "2023-08-23T11:13:03.994Z"
   },
   {
    "duration": 24,
    "start_time": "2023-08-23T11:13:04.118Z"
   },
   {
    "duration": 20,
    "start_time": "2023-08-23T11:13:04.144Z"
   },
   {
    "duration": 96,
    "start_time": "2023-08-23T11:13:04.166Z"
   },
   {
    "duration": 10,
    "start_time": "2023-08-23T11:13:04.269Z"
   },
   {
    "duration": 5,
    "start_time": "2023-08-23T11:13:04.288Z"
   },
   {
    "duration": 793,
    "start_time": "2023-08-23T11:13:04.294Z"
   },
   {
    "duration": 6,
    "start_time": "2023-08-23T11:13:47.307Z"
   },
   {
    "duration": 4,
    "start_time": "2023-08-23T11:13:48.816Z"
   },
   {
    "duration": 126633,
    "start_time": "2023-08-23T11:13:51.009Z"
   },
   {
    "duration": 7,
    "start_time": "2023-08-23T11:19:31.114Z"
   },
   {
    "duration": 8,
    "start_time": "2023-08-23T11:25:17.714Z"
   },
   {
    "duration": 211,
    "start_time": "2023-08-23T11:30:52.540Z"
   },
   {
    "duration": 172,
    "start_time": "2023-08-23T11:31:06.254Z"
   },
   {
    "duration": 126,
    "start_time": "2023-08-23T11:31:15.785Z"
   },
   {
    "duration": 136,
    "start_time": "2023-08-23T11:31:33.700Z"
   },
   {
    "duration": 6,
    "start_time": "2023-08-23T11:33:35.399Z"
   },
   {
    "duration": 675,
    "start_time": "2023-08-23T11:33:52.241Z"
   },
   {
    "duration": 6,
    "start_time": "2023-08-23T11:39:04.073Z"
   },
   {
    "duration": 586,
    "start_time": "2023-08-23T11:39:05.710Z"
   },
   {
    "duration": 12,
    "start_time": "2023-08-23T11:39:58.156Z"
   },
   {
    "duration": 4,
    "start_time": "2023-08-23T11:39:59.449Z"
   },
   {
    "duration": 174,
    "start_time": "2023-08-23T11:40:00.203Z"
   },
   {
    "duration": 11,
    "start_time": "2023-08-23T11:40:06.755Z"
   },
   {
    "duration": 588,
    "start_time": "2023-08-23T11:40:08.770Z"
   },
   {
    "duration": 5,
    "start_time": "2023-08-23T11:40:24.485Z"
   },
   {
    "duration": 578,
    "start_time": "2023-08-23T11:40:26.005Z"
   },
   {
    "duration": 13,
    "start_time": "2023-08-23T11:40:37.059Z"
   },
   {
    "duration": 472,
    "start_time": "2023-08-23T11:40:38.503Z"
   },
   {
    "duration": 9,
    "start_time": "2023-08-23T11:41:26.391Z"
   },
   {
    "duration": 423,
    "start_time": "2023-08-23T11:41:28.084Z"
   },
   {
    "duration": 4,
    "start_time": "2023-08-23T11:41:39.074Z"
   },
   {
    "duration": 529,
    "start_time": "2023-08-23T11:41:40.277Z"
   },
   {
    "duration": 10,
    "start_time": "2023-08-23T11:49:11.046Z"
   },
   {
    "duration": 6,
    "start_time": "2023-08-23T11:50:02.052Z"
   },
   {
    "duration": 627,
    "start_time": "2023-08-23T11:50:04.654Z"
   },
   {
    "duration": 4,
    "start_time": "2023-08-23T11:50:37.475Z"
   },
   {
    "duration": 10,
    "start_time": "2023-08-23T11:50:38.353Z"
   },
   {
    "duration": 482,
    "start_time": "2023-08-23T11:50:39.165Z"
   },
   {
    "duration": 7,
    "start_time": "2023-08-23T11:50:54.687Z"
   },
   {
    "duration": 602,
    "start_time": "2023-08-23T11:50:55.385Z"
   },
   {
    "duration": 5,
    "start_time": "2023-08-23T11:51:02.511Z"
   },
   {
    "duration": 386,
    "start_time": "2023-08-23T11:51:02.944Z"
   },
   {
    "duration": 20,
    "start_time": "2023-08-23T11:52:45.427Z"
   },
   {
    "duration": 7,
    "start_time": "2023-08-23T11:52:56.476Z"
   },
   {
    "duration": 5,
    "start_time": "2023-08-23T11:54:59.118Z"
   },
   {
    "duration": 8,
    "start_time": "2023-08-23T11:54:59.927Z"
   },
   {
    "duration": 760,
    "start_time": "2023-08-23T11:55:00.503Z"
   },
   {
    "duration": 6,
    "start_time": "2023-08-23T11:55:31.385Z"
   },
   {
    "duration": 381,
    "start_time": "2023-08-23T11:55:32.217Z"
   },
   {
    "duration": 4,
    "start_time": "2023-08-23T11:55:41.017Z"
   },
   {
    "duration": 6,
    "start_time": "2023-08-23T11:55:41.659Z"
   },
   {
    "duration": 415,
    "start_time": "2023-08-23T11:55:41.950Z"
   },
   {
    "duration": 3,
    "start_time": "2023-08-23T11:58:59.557Z"
   },
   {
    "duration": 4,
    "start_time": "2023-08-23T12:00:05.354Z"
   },
   {
    "duration": 5,
    "start_time": "2023-08-23T12:00:14.105Z"
   },
   {
    "duration": 6,
    "start_time": "2023-08-23T12:00:49.107Z"
   },
   {
    "duration": 850,
    "start_time": "2023-08-23T12:00:51.259Z"
   },
   {
    "duration": 5,
    "start_time": "2023-08-23T12:01:02.167Z"
   },
   {
    "duration": 128,
    "start_time": "2023-08-23T12:01:48.082Z"
   },
   {
    "duration": 6,
    "start_time": "2023-08-23T12:01:54.754Z"
   },
   {
    "duration": 467,
    "start_time": "2023-08-23T12:01:57.961Z"
   },
   {
    "duration": 5,
    "start_time": "2023-08-23T12:03:04.487Z"
   },
   {
    "duration": 1931,
    "start_time": "2023-08-23T12:03:06.403Z"
   },
   {
    "duration": 7,
    "start_time": "2023-08-23T12:04:50.652Z"
   },
   {
    "duration": 695,
    "start_time": "2023-08-23T12:05:04.016Z"
   },
   {
    "duration": 4,
    "start_time": "2023-08-23T12:05:15.710Z"
   },
   {
    "duration": 544,
    "start_time": "2023-08-23T12:05:17.932Z"
   },
   {
    "duration": 19,
    "start_time": "2023-08-23T12:05:29.020Z"
   },
   {
    "duration": 18,
    "start_time": "2023-08-23T12:11:14.404Z"
   },
   {
    "duration": 3,
    "start_time": "2023-08-23T12:11:21.588Z"
   },
   {
    "duration": 4,
    "start_time": "2023-08-23T12:11:22.102Z"
   },
   {
    "duration": 354,
    "start_time": "2023-08-23T12:11:22.486Z"
   },
   {
    "duration": 18,
    "start_time": "2023-08-23T12:11:23.785Z"
   },
   {
    "duration": 20,
    "start_time": "2023-08-23T12:11:51.123Z"
   },
   {
    "duration": 25,
    "start_time": "2023-08-23T12:12:03.221Z"
   },
   {
    "duration": 15,
    "start_time": "2023-08-23T12:12:13.170Z"
   },
   {
    "duration": 4,
    "start_time": "2023-08-23T12:13:33.830Z"
   },
   {
    "duration": 3,
    "start_time": "2023-08-23T12:13:54.062Z"
   },
   {
    "duration": 381,
    "start_time": "2023-08-23T12:13:55.005Z"
   },
   {
    "duration": 6,
    "start_time": "2023-08-23T12:13:55.506Z"
   },
   {
    "duration": 5,
    "start_time": "2023-08-23T12:14:07.045Z"
   },
   {
    "duration": 11,
    "start_time": "2023-08-23T12:14:12.646Z"
   },
   {
    "duration": 6,
    "start_time": "2023-08-23T12:16:22.340Z"
   },
   {
    "duration": 11,
    "start_time": "2023-08-23T12:16:22.905Z"
   },
   {
    "duration": 22,
    "start_time": "2023-08-23T12:17:23.667Z"
   },
   {
    "duration": 17,
    "start_time": "2023-08-23T12:17:28.716Z"
   },
   {
    "duration": 4,
    "start_time": "2023-08-23T12:17:34.507Z"
   },
   {
    "duration": 369,
    "start_time": "2023-08-23T12:17:34.911Z"
   },
   {
    "duration": 5,
    "start_time": "2023-08-23T12:17:35.349Z"
   },
   {
    "duration": 17,
    "start_time": "2023-08-23T12:17:35.877Z"
   },
   {
    "duration": 3,
    "start_time": "2023-08-23T12:17:38.363Z"
   },
   {
    "duration": 3,
    "start_time": "2023-08-23T12:17:38.662Z"
   },
   {
    "duration": 397,
    "start_time": "2023-08-23T12:17:39.018Z"
   },
   {
    "duration": 10,
    "start_time": "2023-08-23T12:17:39.429Z"
   },
   {
    "duration": 16,
    "start_time": "2023-08-23T12:17:40.134Z"
   },
   {
    "duration": 3,
    "start_time": "2023-08-23T12:17:58.638Z"
   },
   {
    "duration": 4,
    "start_time": "2023-08-23T12:17:59.105Z"
   },
   {
    "duration": 155,
    "start_time": "2023-08-23T12:17:59.593Z"
   },
   {
    "duration": 3,
    "start_time": "2023-08-23T12:18:24.853Z"
   },
   {
    "duration": 302,
    "start_time": "2023-08-23T12:18:25.464Z"
   },
   {
    "duration": 5,
    "start_time": "2023-08-23T12:18:27.219Z"
   },
   {
    "duration": 3,
    "start_time": "2023-08-23T12:18:51.145Z"
   },
   {
    "duration": 601,
    "start_time": "2023-08-23T12:18:51.804Z"
   },
   {
    "duration": 5,
    "start_time": "2023-08-23T12:18:52.406Z"
   },
   {
    "duration": 4,
    "start_time": "2023-08-23T12:23:17.118Z"
   },
   {
    "duration": 65,
    "start_time": "2023-08-23T12:23:17.767Z"
   },
   {
    "duration": 4,
    "start_time": "2023-08-23T12:23:27.277Z"
   },
   {
    "duration": 114,
    "start_time": "2023-08-23T12:23:27.803Z"
   },
   {
    "duration": 3,
    "start_time": "2023-08-23T12:23:33.403Z"
   },
   {
    "duration": 4,
    "start_time": "2023-08-23T12:23:33.702Z"
   },
   {
    "duration": 390,
    "start_time": "2023-08-23T12:23:33.930Z"
   },
   {
    "duration": 5,
    "start_time": "2023-08-23T12:23:34.861Z"
   },
   {
    "duration": 6,
    "start_time": "2023-08-23T12:24:16.383Z"
   },
   {
    "duration": 14,
    "start_time": "2023-08-23T12:24:34.474Z"
   },
   {
    "duration": 11,
    "start_time": "2023-08-23T12:24:38.448Z"
   },
   {
    "duration": 9,
    "start_time": "2023-08-23T12:24:58.053Z"
   },
   {
    "duration": 6,
    "start_time": "2023-08-23T12:25:16.488Z"
   },
   {
    "duration": 11,
    "start_time": "2023-08-23T12:25:29.503Z"
   },
   {
    "duration": 5,
    "start_time": "2023-08-23T12:25:43.914Z"
   },
   {
    "duration": 18,
    "start_time": "2023-08-23T12:28:05.543Z"
   },
   {
    "duration": 5,
    "start_time": "2023-08-23T12:28:14.451Z"
   },
   {
    "duration": 5,
    "start_time": "2023-08-23T12:28:35.555Z"
   },
   {
    "duration": 206,
    "start_time": "2023-08-23T12:30:06.109Z"
   },
   {
    "duration": 4,
    "start_time": "2023-08-23T12:30:09.141Z"
   },
   {
    "duration": 5,
    "start_time": "2023-08-23T12:30:14.204Z"
   },
   {
    "duration": 3,
    "start_time": "2023-08-23T12:32:43.049Z"
   },
   {
    "duration": 4,
    "start_time": "2023-08-23T12:32:47.256Z"
   },
   {
    "duration": 3,
    "start_time": "2023-08-23T12:34:43.058Z"
   },
   {
    "duration": 3,
    "start_time": "2023-08-23T12:34:43.568Z"
   },
   {
    "duration": 127,
    "start_time": "2023-08-23T12:35:52.207Z"
   },
   {
    "duration": 3,
    "start_time": "2023-08-23T12:36:03.081Z"
   },
   {
    "duration": 4,
    "start_time": "2023-08-23T12:36:09.820Z"
   },
   {
    "duration": 4,
    "start_time": "2023-08-23T12:36:13.223Z"
   },
   {
    "duration": 4,
    "start_time": "2023-08-23T12:36:13.977Z"
   },
   {
    "duration": 4,
    "start_time": "2023-08-23T12:36:14.436Z"
   },
   {
    "duration": 3,
    "start_time": "2023-08-23T12:36:58.140Z"
   },
   {
    "duration": 4,
    "start_time": "2023-08-23T12:36:58.813Z"
   },
   {
    "duration": 4,
    "start_time": "2023-08-23T12:37:07.312Z"
   },
   {
    "duration": 4,
    "start_time": "2023-08-23T12:37:07.775Z"
   },
   {
    "duration": 3,
    "start_time": "2023-08-23T12:37:19.945Z"
   },
   {
    "duration": 4,
    "start_time": "2023-08-23T12:37:20.574Z"
   },
   {
    "duration": 3,
    "start_time": "2023-08-23T12:37:23.061Z"
   },
   {
    "duration": 5,
    "start_time": "2023-08-23T12:37:23.413Z"
   },
   {
    "duration": 5,
    "start_time": "2023-08-23T12:37:23.716Z"
   },
   {
    "duration": 47,
    "start_time": "2023-08-23T12:37:37.287Z"
   },
   {
    "duration": 4,
    "start_time": "2023-08-23T12:37:46.215Z"
   },
   {
    "duration": 5,
    "start_time": "2023-08-23T12:37:46.845Z"
   },
   {
    "duration": 4,
    "start_time": "2023-08-23T12:37:52.882Z"
   },
   {
    "duration": 431,
    "start_time": "2023-08-23T12:37:53.301Z"
   },
   {
    "duration": 5,
    "start_time": "2023-08-23T12:37:56.139Z"
   },
   {
    "duration": 3,
    "start_time": "2023-08-23T12:38:33.484Z"
   },
   {
    "duration": 74,
    "start_time": "2023-08-23T12:38:34.026Z"
   },
   {
    "duration": 3,
    "start_time": "2023-08-23T12:38:40.148Z"
   },
   {
    "duration": 363,
    "start_time": "2023-08-23T12:38:40.713Z"
   },
   {
    "duration": 8,
    "start_time": "2023-08-23T12:38:42.033Z"
   },
   {
    "duration": 4,
    "start_time": "2023-08-23T12:39:14.249Z"
   },
   {
    "duration": 5,
    "start_time": "2023-08-23T12:39:16.435Z"
   },
   {
    "duration": 4,
    "start_time": "2023-08-23T12:39:16.673Z"
   },
   {
    "duration": 358,
    "start_time": "2023-08-23T12:39:17.423Z"
   },
   {
    "duration": 4,
    "start_time": "2023-08-23T12:39:18.063Z"
   },
   {
    "duration": 4,
    "start_time": "2023-08-23T12:39:28.413Z"
   },
   {
    "duration": 253,
    "start_time": "2023-08-23T12:39:28.623Z"
   },
   {
    "duration": 5,
    "start_time": "2023-08-23T12:39:28.937Z"
   },
   {
    "duration": 3,
    "start_time": "2023-08-23T12:39:38.957Z"
   },
   {
    "duration": 3,
    "start_time": "2023-08-23T12:39:39.241Z"
   },
   {
    "duration": 276,
    "start_time": "2023-08-23T12:39:39.579Z"
   },
   {
    "duration": 4,
    "start_time": "2023-08-23T12:39:40.007Z"
   },
   {
    "duration": 2,
    "start_time": "2023-08-23T12:39:57.846Z"
   },
   {
    "duration": 3,
    "start_time": "2023-08-23T12:39:58.111Z"
   },
   {
    "duration": 441,
    "start_time": "2023-08-23T12:39:58.457Z"
   },
   {
    "duration": 4,
    "start_time": "2023-08-23T12:39:58.900Z"
   },
   {
    "duration": 4,
    "start_time": "2023-08-23T12:40:23.262Z"
   },
   {
    "duration": 40,
    "start_time": "2023-08-23T12:40:23.757Z"
   },
   {
    "duration": 3,
    "start_time": "2023-08-23T12:40:24.084Z"
   },
   {
    "duration": 4,
    "start_time": "2023-08-23T12:40:30.008Z"
   },
   {
    "duration": 440,
    "start_time": "2023-08-23T12:40:30.358Z"
   },
   {
    "duration": 6,
    "start_time": "2023-08-23T12:40:31.253Z"
   },
   {
    "duration": 5,
    "start_time": "2023-08-23T12:41:09.986Z"
   },
   {
    "duration": 5,
    "start_time": "2023-08-23T12:41:13.665Z"
   },
   {
    "duration": 5,
    "start_time": "2023-08-23T12:42:44.774Z"
   },
   {
    "duration": 4,
    "start_time": "2023-08-23T12:43:44.286Z"
   },
   {
    "duration": 5,
    "start_time": "2023-08-23T12:43:49.245Z"
   },
   {
    "duration": 5,
    "start_time": "2023-08-23T12:44:14.310Z"
   },
   {
    "duration": 9,
    "start_time": "2023-08-23T12:44:14.908Z"
   },
   {
    "duration": 5,
    "start_time": "2023-08-23T12:45:56.012Z"
   },
   {
    "duration": 4,
    "start_time": "2023-08-23T12:46:46.655Z"
   },
   {
    "duration": 55,
    "start_time": "2023-08-23T12:46:47.439Z"
   },
   {
    "duration": 4,
    "start_time": "2023-08-23T12:46:56.166Z"
   },
   {
    "duration": 3,
    "start_time": "2023-08-23T12:46:57.012Z"
   },
   {
    "duration": 46,
    "start_time": "2023-08-23T12:46:57.522Z"
   },
   {
    "duration": 3,
    "start_time": "2023-08-23T12:47:20.317Z"
   },
   {
    "duration": 613,
    "start_time": "2023-08-23T12:47:20.845Z"
   },
   {
    "duration": 6,
    "start_time": "2023-08-23T12:47:22.805Z"
   },
   {
    "duration": 13,
    "start_time": "2023-08-23T12:47:36.335Z"
   },
   {
    "duration": 8,
    "start_time": "2023-08-23T12:47:42.414Z"
   },
   {
    "duration": 102,
    "start_time": "2023-08-23T12:48:02.925Z"
   },
   {
    "duration": 4,
    "start_time": "2023-08-23T12:48:11.549Z"
   },
   {
    "duration": 9,
    "start_time": "2023-08-23T12:48:35.721Z"
   },
   {
    "duration": 157,
    "start_time": "2023-08-23T12:49:31.982Z"
   },
   {
    "duration": 102,
    "start_time": "2023-08-23T12:49:36.638Z"
   },
   {
    "duration": 11,
    "start_time": "2023-08-23T12:49:40.843Z"
   },
   {
    "duration": 9,
    "start_time": "2023-08-23T12:50:10.135Z"
   },
   {
    "duration": 99,
    "start_time": "2023-08-23T12:50:28.933Z"
   },
   {
    "duration": 11,
    "start_time": "2023-08-23T12:50:32.651Z"
   },
   {
    "duration": 16,
    "start_time": "2023-08-23T12:50:49.138Z"
   },
   {
    "duration": 9,
    "start_time": "2023-08-23T12:51:07.514Z"
   },
   {
    "duration": 1542,
    "start_time": "2023-08-23T12:51:33.516Z"
   },
   {
    "duration": 5,
    "start_time": "2023-08-23T12:51:47.754Z"
   },
   {
    "duration": 3,
    "start_time": "2023-08-23T12:51:48.480Z"
   },
   {
    "duration": 4,
    "start_time": "2023-08-23T12:51:48.883Z"
   },
   {
    "duration": 562,
    "start_time": "2023-08-23T12:51:49.363Z"
   },
   {
    "duration": 10,
    "start_time": "2023-08-23T12:51:49.928Z"
   },
   {
    "duration": 8,
    "start_time": "2023-08-23T12:51:52.712Z"
   },
   {
    "duration": 2950,
    "start_time": "2023-08-23T12:51:53.039Z"
   },
   {
    "duration": 20,
    "start_time": "2023-08-23T12:52:09.818Z"
   },
   {
    "duration": 10,
    "start_time": "2023-08-23T12:52:59.112Z"
   },
   {
    "duration": 16,
    "start_time": "2023-08-23T12:53:15.521Z"
   },
   {
    "duration": 16,
    "start_time": "2023-08-23T12:53:20.621Z"
   },
   {
    "duration": 6,
    "start_time": "2023-08-23T12:54:57.713Z"
   },
   {
    "duration": 4,
    "start_time": "2023-08-23T12:54:58.141Z"
   },
   {
    "duration": 3,
    "start_time": "2023-08-23T12:54:58.538Z"
   },
   {
    "duration": 299,
    "start_time": "2023-08-23T12:54:58.938Z"
   },
   {
    "duration": 11,
    "start_time": "2023-08-23T12:54:59.312Z"
   },
   {
    "duration": 4,
    "start_time": "2023-08-23T12:54:59.683Z"
   },
   {
    "duration": 13,
    "start_time": "2023-08-23T12:55:13.767Z"
   },
   {
    "duration": 11,
    "start_time": "2023-08-23T12:56:01.750Z"
   },
   {
    "duration": 3,
    "start_time": "2023-08-23T12:56:50.514Z"
   },
   {
    "duration": 3,
    "start_time": "2023-08-23T12:56:51.055Z"
   },
   {
    "duration": 5,
    "start_time": "2023-08-23T12:57:28.945Z"
   },
   {
    "duration": 9,
    "start_time": "2023-08-23T12:57:46.896Z"
   },
   {
    "duration": 128,
    "start_time": "2023-08-23T12:58:51.560Z"
   },
   {
    "duration": 7,
    "start_time": "2023-08-23T12:58:55.417Z"
   },
   {
    "duration": 5,
    "start_time": "2023-08-23T12:59:27.740Z"
   },
   {
    "duration": 14,
    "start_time": "2023-08-23T12:59:31.986Z"
   },
   {
    "duration": 4,
    "start_time": "2023-08-23T12:59:59.568Z"
   },
   {
    "duration": 9,
    "start_time": "2023-08-23T13:00:00.036Z"
   },
   {
    "duration": 9,
    "start_time": "2023-08-23T13:00:22.514Z"
   },
   {
    "duration": 3,
    "start_time": "2023-08-23T13:00:29.979Z"
   },
   {
    "duration": 4,
    "start_time": "2023-08-23T13:00:30.472Z"
   },
   {
    "duration": 538,
    "start_time": "2023-08-23T13:01:10.998Z"
   },
   {
    "duration": 13,
    "start_time": "2023-08-23T13:01:12.209Z"
   },
   {
    "duration": 4,
    "start_time": "2023-08-23T13:01:17.472Z"
   },
   {
    "duration": 10,
    "start_time": "2023-08-23T13:01:23.815Z"
   },
   {
    "duration": 11,
    "start_time": "2023-08-23T13:01:31.193Z"
   },
   {
    "duration": 5,
    "start_time": "2023-08-23T13:01:35.246Z"
   },
   {
    "duration": 6,
    "start_time": "2023-08-23T13:01:40.123Z"
   },
   {
    "duration": 5,
    "start_time": "2023-08-23T13:03:31.720Z"
   },
   {
    "duration": 7,
    "start_time": "2023-08-23T13:03:39.455Z"
   },
   {
    "duration": 5,
    "start_time": "2023-08-23T13:03:47.036Z"
   },
   {
    "duration": 13,
    "start_time": "2023-08-23T13:04:03.118Z"
   },
   {
    "duration": 5,
    "start_time": "2023-08-23T13:04:26.472Z"
   },
   {
    "duration": 8,
    "start_time": "2023-08-23T13:04:54.645Z"
   },
   {
    "duration": 15,
    "start_time": "2023-08-23T13:04:55.740Z"
   },
   {
    "duration": 6,
    "start_time": "2023-08-23T13:05:42.834Z"
   },
   {
    "duration": 142,
    "start_time": "2023-08-23T13:06:18.186Z"
   },
   {
    "duration": 16,
    "start_time": "2023-08-23T13:06:30.231Z"
   },
   {
    "duration": 14,
    "start_time": "2023-08-23T13:06:47.230Z"
   },
   {
    "duration": 12,
    "start_time": "2023-08-23T13:07:15.375Z"
   },
   {
    "duration": 6,
    "start_time": "2023-08-23T13:07:20.075Z"
   },
   {
    "duration": 4,
    "start_time": "2023-08-23T13:07:20.425Z"
   },
   {
    "duration": 4,
    "start_time": "2023-08-23T13:07:20.868Z"
   },
   {
    "duration": 409,
    "start_time": "2023-08-23T13:07:21.330Z"
   },
   {
    "duration": 5,
    "start_time": "2023-08-23T13:07:21.838Z"
   },
   {
    "duration": 19,
    "start_time": "2023-08-23T13:07:36.682Z"
   },
   {
    "duration": 6,
    "start_time": "2023-08-23T13:08:14.225Z"
   },
   {
    "duration": 14,
    "start_time": "2023-08-23T13:08:22.628Z"
   },
   {
    "duration": 6,
    "start_time": "2023-08-23T13:08:28.821Z"
   },
   {
    "duration": 4,
    "start_time": "2023-08-23T13:10:38.847Z"
   },
   {
    "duration": 463,
    "start_time": "2023-08-23T13:10:54.751Z"
   },
   {
    "duration": 115,
    "start_time": "2023-08-23T13:12:44.548Z"
   },
   {
    "duration": 2,
    "start_time": "2023-08-23T13:23:19.248Z"
   },
   {
    "duration": 4,
    "start_time": "2023-08-23T13:23:46.631Z"
   },
   {
    "duration": 4,
    "start_time": "2023-08-23T13:23:50.818Z"
   },
   {
    "duration": 325,
    "start_time": "2023-08-23T13:23:57.560Z"
   },
   {
    "duration": 5,
    "start_time": "2023-08-23T13:24:01.961Z"
   },
   {
    "duration": 6,
    "start_time": "2023-08-23T13:24:32.430Z"
   },
   {
    "duration": 21,
    "start_time": "2023-08-23T13:25:00.615Z"
   },
   {
    "duration": 3,
    "start_time": "2023-08-23T13:25:09.919Z"
   },
   {
    "duration": 4,
    "start_time": "2023-08-23T13:25:13.456Z"
   },
   {
    "duration": 325,
    "start_time": "2023-08-23T13:27:20.209Z"
   },
   {
    "duration": 311,
    "start_time": "2023-08-23T13:27:42.652Z"
   },
   {
    "duration": 383,
    "start_time": "2023-08-23T13:28:22.712Z"
   },
   {
    "duration": 335,
    "start_time": "2023-08-23T13:28:56.614Z"
   },
   {
    "duration": 323,
    "start_time": "2023-08-23T13:29:28.112Z"
   },
   {
    "duration": 303,
    "start_time": "2023-08-23T13:29:44.783Z"
   },
   {
    "duration": 296,
    "start_time": "2023-08-23T13:30:13.751Z"
   },
   {
    "duration": 290,
    "start_time": "2023-08-23T13:30:30.599Z"
   },
   {
    "duration": 388,
    "start_time": "2023-08-23T13:30:35.919Z"
   },
   {
    "duration": 294,
    "start_time": "2023-08-23T13:30:40.100Z"
   },
   {
    "duration": 295,
    "start_time": "2023-08-23T13:30:43.071Z"
   },
   {
    "duration": 273,
    "start_time": "2023-08-23T13:31:23.153Z"
   },
   {
    "duration": 258,
    "start_time": "2023-08-23T13:31:28.142Z"
   },
   {
    "duration": 404,
    "start_time": "2023-08-23T13:31:47.501Z"
   },
   {
    "duration": 314,
    "start_time": "2023-08-23T13:31:56.420Z"
   },
   {
    "duration": 293,
    "start_time": "2023-08-23T13:32:04.867Z"
   },
   {
    "duration": 259,
    "start_time": "2023-08-23T13:32:52.467Z"
   },
   {
    "duration": 282,
    "start_time": "2023-08-23T13:33:22.854Z"
   },
   {
    "duration": 277,
    "start_time": "2023-08-23T13:34:58.722Z"
   },
   {
    "duration": 3,
    "start_time": "2023-08-23T13:37:05.635Z"
   },
   {
    "duration": 3,
    "start_time": "2023-08-23T13:37:06.117Z"
   },
   {
    "duration": 344,
    "start_time": "2023-08-23T13:37:06.542Z"
   },
   {
    "duration": 3,
    "start_time": "2023-08-23T13:37:06.889Z"
   },
   {
    "duration": 3,
    "start_time": "2023-08-23T13:37:07.253Z"
   },
   {
    "duration": 276,
    "start_time": "2023-08-23T13:37:07.692Z"
   },
   {
    "duration": 255,
    "start_time": "2023-08-23T13:38:05.464Z"
   },
   {
    "duration": 283,
    "start_time": "2023-08-23T13:38:17.310Z"
   },
   {
    "duration": 266,
    "start_time": "2023-08-23T13:38:21.041Z"
   },
   {
    "duration": 325,
    "start_time": "2023-08-23T13:38:24.348Z"
   },
   {
    "duration": 441,
    "start_time": "2023-08-23T13:38:36.536Z"
   },
   {
    "duration": 3,
    "start_time": "2023-08-23T13:41:46.106Z"
   },
   {
    "duration": 5,
    "start_time": "2023-08-23T13:41:46.437Z"
   },
   {
    "duration": 386,
    "start_time": "2023-08-23T13:41:46.722Z"
   },
   {
    "duration": 2,
    "start_time": "2023-08-23T13:41:47.110Z"
   },
   {
    "duration": 3,
    "start_time": "2023-08-23T13:41:47.440Z"
   },
   {
    "duration": 293,
    "start_time": "2023-08-23T13:41:47.978Z"
   },
   {
    "duration": 9,
    "start_time": "2023-08-23T13:43:48.511Z"
   },
   {
    "duration": 5,
    "start_time": "2023-08-23T13:44:06.868Z"
   },
   {
    "duration": 2,
    "start_time": "2023-08-23T13:49:38.491Z"
   },
   {
    "duration": 3,
    "start_time": "2023-08-23T13:51:54.867Z"
   },
   {
    "duration": 3,
    "start_time": "2023-08-23T13:51:57.599Z"
   },
   {
    "duration": 14,
    "start_time": "2023-08-23T13:52:05.961Z"
   },
   {
    "duration": 137,
    "start_time": "2023-08-23T13:53:16.459Z"
   },
   {
    "duration": 12,
    "start_time": "2023-08-23T13:53:47.463Z"
   },
   {
    "duration": 1499,
    "start_time": "2023-08-23T13:53:57.582Z"
   },
   {
    "duration": 31,
    "start_time": "2023-08-23T13:53:59.083Z"
   },
   {
    "duration": 20,
    "start_time": "2023-08-23T13:53:59.116Z"
   },
   {
    "duration": 15,
    "start_time": "2023-08-23T13:53:59.138Z"
   },
   {
    "duration": 22,
    "start_time": "2023-08-23T13:53:59.155Z"
   },
   {
    "duration": 5,
    "start_time": "2023-08-23T13:53:59.179Z"
   },
   {
    "duration": 18,
    "start_time": "2023-08-23T13:53:59.185Z"
   },
   {
    "duration": 37,
    "start_time": "2023-08-23T13:53:59.205Z"
   },
   {
    "duration": 10,
    "start_time": "2023-08-23T13:53:59.245Z"
   },
   {
    "duration": 13,
    "start_time": "2023-08-23T13:53:59.258Z"
   },
   {
    "duration": 12,
    "start_time": "2023-08-23T13:53:59.273Z"
   },
   {
    "duration": 5,
    "start_time": "2023-08-23T13:53:59.287Z"
   },
   {
    "duration": 9,
    "start_time": "2023-08-23T13:53:59.294Z"
   },
   {
    "duration": 433,
    "start_time": "2023-08-23T13:53:59.305Z"
   },
   {
    "duration": 354,
    "start_time": "2023-08-23T13:53:59.740Z"
   },
   {
    "duration": 13,
    "start_time": "2023-08-23T13:54:00.096Z"
   },
   {
    "duration": 234,
    "start_time": "2023-08-23T13:54:00.111Z"
   },
   {
    "duration": 8,
    "start_time": "2023-08-23T13:54:00.349Z"
   },
   {
    "duration": 74,
    "start_time": "2023-08-23T13:54:00.359Z"
   },
   {
    "duration": 14353,
    "start_time": "2023-08-23T13:54:00.434Z"
   },
   {
    "duration": 16,
    "start_time": "2023-08-23T13:54:14.788Z"
   },
   {
    "duration": 275,
    "start_time": "2023-08-23T13:54:14.806Z"
   },
   {
    "duration": 73,
    "start_time": "2023-08-23T13:54:15.083Z"
   },
   {
    "duration": 4,
    "start_time": "2023-08-23T13:54:15.158Z"
   },
   {
    "duration": 37,
    "start_time": "2023-08-23T13:54:15.163Z"
   },
   {
    "duration": 61974,
    "start_time": "2023-08-23T13:54:15.202Z"
   },
   {
    "duration": 3,
    "start_time": "2023-08-23T13:55:17.178Z"
   },
   {
    "duration": 52,
    "start_time": "2023-08-23T13:55:17.186Z"
   },
   {
    "duration": 461,
    "start_time": "2023-08-23T13:55:17.247Z"
   },
   {
    "duration": 41,
    "start_time": "2023-08-23T13:55:17.710Z"
   },
   {
    "duration": 24,
    "start_time": "2023-08-23T13:55:17.755Z"
   },
   {
    "duration": 397,
    "start_time": "2023-08-23T13:55:17.781Z"
   },
   {
    "duration": 11,
    "start_time": "2023-08-23T13:55:18.179Z"
   },
   {
    "duration": 77,
    "start_time": "2023-08-23T13:55:18.192Z"
   },
   {
    "duration": 107,
    "start_time": "2023-08-23T13:55:18.271Z"
   },
   {
    "duration": 7,
    "start_time": "2023-08-23T13:55:18.379Z"
   },
   {
    "duration": 101,
    "start_time": "2023-08-23T13:55:18.387Z"
   },
   {
    "duration": 11,
    "start_time": "2023-08-23T13:55:18.489Z"
   },
   {
    "duration": 55,
    "start_time": "2023-08-23T13:55:18.502Z"
   },
   {
    "duration": 125,
    "start_time": "2023-08-23T13:55:18.559Z"
   },
   {
    "duration": 3,
    "start_time": "2023-08-23T13:55:18.686Z"
   },
   {
    "duration": 28,
    "start_time": "2023-08-23T13:55:18.690Z"
   },
   {
    "duration": 772,
    "start_time": "2023-08-23T13:55:18.719Z"
   },
   {
    "duration": 5,
    "start_time": "2023-08-23T13:55:19.493Z"
   },
   {
    "duration": 386,
    "start_time": "2023-08-23T13:55:19.500Z"
   },
   {
    "duration": 3,
    "start_time": "2023-08-23T13:55:19.888Z"
   },
   {
    "duration": 97,
    "start_time": "2023-08-23T13:55:19.892Z"
   },
   {
    "duration": 543,
    "start_time": "2023-08-23T13:55:19.991Z"
   },
   {
    "duration": 5,
    "start_time": "2023-08-23T13:55:20.536Z"
   },
   {
    "duration": 369,
    "start_time": "2023-08-23T13:55:20.542Z"
   },
   {
    "duration": 11,
    "start_time": "2023-08-23T14:01:21.424Z"
   },
   {
    "duration": 7,
    "start_time": "2023-08-23T14:01:26.485Z"
   },
   {
    "duration": 1598,
    "start_time": "2023-08-23T14:33:34.883Z"
   },
   {
    "duration": 30,
    "start_time": "2023-08-23T14:33:36.483Z"
   },
   {
    "duration": 18,
    "start_time": "2023-08-23T14:33:36.515Z"
   },
   {
    "duration": 18,
    "start_time": "2023-08-23T14:33:36.536Z"
   },
   {
    "duration": 6,
    "start_time": "2023-08-23T14:33:36.557Z"
   },
   {
    "duration": 29,
    "start_time": "2023-08-23T14:33:36.564Z"
   },
   {
    "duration": 6,
    "start_time": "2023-08-23T14:33:36.595Z"
   },
   {
    "duration": 5,
    "start_time": "2023-08-23T14:33:36.603Z"
   },
   {
    "duration": 17,
    "start_time": "2023-08-23T14:33:36.640Z"
   },
   {
    "duration": 7,
    "start_time": "2023-08-23T14:33:36.663Z"
   },
   {
    "duration": 4,
    "start_time": "2023-08-23T14:33:36.672Z"
   },
   {
    "duration": 10,
    "start_time": "2023-08-23T14:33:36.678Z"
   },
   {
    "duration": 5,
    "start_time": "2023-08-23T14:33:36.690Z"
   },
   {
    "duration": 4,
    "start_time": "2023-08-23T14:33:36.697Z"
   },
   {
    "duration": 454,
    "start_time": "2023-08-23T14:33:36.703Z"
   },
   {
    "duration": 364,
    "start_time": "2023-08-23T14:33:37.158Z"
   },
   {
    "duration": 18,
    "start_time": "2023-08-23T14:33:37.524Z"
   },
   {
    "duration": 170,
    "start_time": "2023-08-23T14:33:37.545Z"
   },
   {
    "duration": 5,
    "start_time": "2023-08-23T14:33:37.717Z"
   },
   {
    "duration": 6,
    "start_time": "2023-08-23T14:33:37.728Z"
   },
   {
    "duration": 16125,
    "start_time": "2023-08-23T14:33:37.736Z"
   },
   {
    "duration": 18,
    "start_time": "2023-08-23T14:33:53.863Z"
   },
   {
    "duration": 309,
    "start_time": "2023-08-23T14:33:53.883Z"
   },
   {
    "duration": 73,
    "start_time": "2023-08-23T14:33:54.194Z"
   },
   {
    "duration": 3,
    "start_time": "2023-08-23T14:33:54.269Z"
   },
   {
    "duration": 8,
    "start_time": "2023-08-23T14:33:54.274Z"
   },
   {
    "duration": 62622,
    "start_time": "2023-08-23T14:33:54.284Z"
   },
   {
    "duration": 4,
    "start_time": "2023-08-23T14:34:56.909Z"
   },
   {
    "duration": 24,
    "start_time": "2023-08-23T14:34:56.915Z"
   },
   {
    "duration": 379,
    "start_time": "2023-08-23T14:34:56.942Z"
   },
   {
    "duration": 28,
    "start_time": "2023-08-23T14:34:57.326Z"
   },
   {
    "duration": 26,
    "start_time": "2023-08-23T14:34:57.357Z"
   },
   {
    "duration": 366,
    "start_time": "2023-08-23T14:34:57.386Z"
   },
   {
    "duration": 11,
    "start_time": "2023-08-23T14:34:57.756Z"
   },
   {
    "duration": 28,
    "start_time": "2023-08-23T14:34:57.769Z"
   },
   {
    "duration": 62,
    "start_time": "2023-08-23T14:34:57.799Z"
   },
   {
    "duration": 6,
    "start_time": "2023-08-23T14:34:57.862Z"
   },
   {
    "duration": 81,
    "start_time": "2023-08-23T14:34:57.869Z"
   },
   {
    "duration": 10,
    "start_time": "2023-08-23T14:34:57.952Z"
   },
   {
    "duration": 31,
    "start_time": "2023-08-23T14:34:57.964Z"
   },
   {
    "duration": 148,
    "start_time": "2023-08-23T14:34:57.997Z"
   },
   {
    "duration": 10,
    "start_time": "2023-08-23T14:34:58.147Z"
   },
   {
    "duration": 26,
    "start_time": "2023-08-23T14:34:58.159Z"
   },
   {
    "duration": 484,
    "start_time": "2023-08-23T14:34:58.187Z"
   },
   {
    "duration": 4,
    "start_time": "2023-08-23T14:34:58.673Z"
   },
   {
    "duration": 455,
    "start_time": "2023-08-23T14:34:58.678Z"
   },
   {
    "duration": 7,
    "start_time": "2023-08-23T14:34:59.135Z"
   },
   {
    "duration": 18,
    "start_time": "2023-08-23T14:34:59.143Z"
   },
   {
    "duration": 506,
    "start_time": "2023-08-23T14:34:59.162Z"
   },
   {
    "duration": 3,
    "start_time": "2023-08-23T14:34:59.670Z"
   },
   {
    "duration": 320,
    "start_time": "2023-08-23T14:34:59.674Z"
   },
   {
    "duration": 4,
    "start_time": "2023-08-23T14:34:59.996Z"
   },
   {
    "duration": 297,
    "start_time": "2023-08-23T14:35:45.066Z"
   },
   {
    "duration": 1689,
    "start_time": "2023-08-23T14:37:20.598Z"
   },
   {
    "duration": 30,
    "start_time": "2023-08-23T14:37:22.290Z"
   },
   {
    "duration": 32,
    "start_time": "2023-08-23T14:37:22.322Z"
   },
   {
    "duration": 20,
    "start_time": "2023-08-23T14:37:22.358Z"
   },
   {
    "duration": 28,
    "start_time": "2023-08-23T14:37:22.379Z"
   },
   {
    "duration": 73,
    "start_time": "2023-08-23T14:37:22.408Z"
   },
   {
    "duration": 6,
    "start_time": "2023-08-23T14:37:22.483Z"
   },
   {
    "duration": 24,
    "start_time": "2023-08-23T14:37:22.490Z"
   },
   {
    "duration": 12,
    "start_time": "2023-08-23T14:37:22.516Z"
   },
   {
    "duration": 28,
    "start_time": "2023-08-23T14:37:22.531Z"
   },
   {
    "duration": 11,
    "start_time": "2023-08-23T14:37:22.560Z"
   },
   {
    "duration": 39,
    "start_time": "2023-08-23T14:37:22.572Z"
   },
   {
    "duration": 28,
    "start_time": "2023-08-23T14:37:22.613Z"
   },
   {
    "duration": 8,
    "start_time": "2023-08-23T14:37:22.644Z"
   },
   {
    "duration": 471,
    "start_time": "2023-08-23T14:37:22.654Z"
   },
   {
    "duration": 337,
    "start_time": "2023-08-23T14:37:23.133Z"
   },
   {
    "duration": 13,
    "start_time": "2023-08-23T14:37:23.472Z"
   },
   {
    "duration": 194,
    "start_time": "2023-08-23T14:37:23.487Z"
   },
   {
    "duration": 5,
    "start_time": "2023-08-23T14:37:23.683Z"
   },
   {
    "duration": 19,
    "start_time": "2023-08-23T14:37:23.689Z"
   },
   {
    "duration": 14518,
    "start_time": "2023-08-23T14:37:23.709Z"
   },
   {
    "duration": 19,
    "start_time": "2023-08-23T14:37:38.229Z"
   },
   {
    "duration": 259,
    "start_time": "2023-08-23T14:37:38.250Z"
   },
   {
    "duration": 66,
    "start_time": "2023-08-23T14:37:38.511Z"
   },
   {
    "duration": 4,
    "start_time": "2023-08-23T14:37:38.578Z"
   },
   {
    "duration": 6,
    "start_time": "2023-08-23T14:37:38.583Z"
   },
   {
    "duration": 78088,
    "start_time": "2023-08-23T14:37:38.590Z"
   },
   {
    "duration": 4,
    "start_time": "2023-08-23T14:38:56.682Z"
   },
   {
    "duration": 73,
    "start_time": "2023-08-23T14:38:56.688Z"
   },
   {
    "duration": 368,
    "start_time": "2023-08-23T14:38:56.765Z"
   },
   {
    "duration": 24,
    "start_time": "2023-08-23T14:38:57.135Z"
   },
   {
    "duration": 24,
    "start_time": "2023-08-23T14:38:57.161Z"
   },
   {
    "duration": 365,
    "start_time": "2023-08-23T14:38:57.186Z"
   },
   {
    "duration": 11,
    "start_time": "2023-08-23T14:38:57.553Z"
   },
   {
    "duration": 7,
    "start_time": "2023-08-23T14:38:57.566Z"
   },
   {
    "duration": 42,
    "start_time": "2023-08-23T14:38:57.574Z"
   },
   {
    "duration": 15,
    "start_time": "2023-08-23T14:38:57.618Z"
   },
   {
    "duration": 72,
    "start_time": "2023-08-23T14:38:57.636Z"
   },
   {
    "duration": 10,
    "start_time": "2023-08-23T14:38:57.710Z"
   },
   {
    "duration": 31,
    "start_time": "2023-08-23T14:38:57.722Z"
   },
   {
    "duration": 69,
    "start_time": "2023-08-23T14:38:57.756Z"
   },
   {
    "duration": 4,
    "start_time": "2023-08-23T14:38:57.827Z"
   },
   {
    "duration": 15,
    "start_time": "2023-08-23T14:38:57.833Z"
   },
   {
    "duration": 370,
    "start_time": "2023-08-23T14:38:57.852Z"
   },
   {
    "duration": 9,
    "start_time": "2023-08-23T14:38:58.226Z"
   },
   {
    "duration": 414,
    "start_time": "2023-08-23T14:38:58.237Z"
   },
   {
    "duration": 3,
    "start_time": "2023-08-23T14:38:58.653Z"
   },
   {
    "duration": 10,
    "start_time": "2023-08-23T14:38:58.658Z"
   },
   {
    "duration": 373,
    "start_time": "2023-08-23T14:38:58.669Z"
   },
   {
    "duration": 5,
    "start_time": "2023-08-23T14:38:59.049Z"
   },
   {
    "duration": 297,
    "start_time": "2023-08-23T14:38:59.056Z"
   },
   {
    "duration": 1787,
    "start_time": "2023-08-24T08:52:44.786Z"
   },
   {
    "duration": 67,
    "start_time": "2023-08-24T08:52:46.576Z"
   },
   {
    "duration": 24,
    "start_time": "2023-08-24T08:52:46.645Z"
   },
   {
    "duration": 18,
    "start_time": "2023-08-24T08:52:46.672Z"
   },
   {
    "duration": 13,
    "start_time": "2023-08-24T08:52:46.692Z"
   },
   {
    "duration": 37,
    "start_time": "2023-08-24T08:52:46.707Z"
   },
   {
    "duration": 25,
    "start_time": "2023-08-24T08:52:46.746Z"
   },
   {
    "duration": 32,
    "start_time": "2023-08-24T08:52:46.773Z"
   },
   {
    "duration": 11,
    "start_time": "2023-08-24T08:52:46.807Z"
   },
   {
    "duration": 21,
    "start_time": "2023-08-24T08:52:46.821Z"
   },
   {
    "duration": 7,
    "start_time": "2023-08-24T08:52:46.845Z"
   },
   {
    "duration": 42,
    "start_time": "2023-08-24T08:52:46.854Z"
   },
   {
    "duration": 16,
    "start_time": "2023-08-24T08:52:46.899Z"
   },
   {
    "duration": 10,
    "start_time": "2023-08-24T08:52:46.921Z"
   },
   {
    "duration": 431,
    "start_time": "2023-08-24T08:52:46.934Z"
   },
   {
    "duration": 394,
    "start_time": "2023-08-24T08:52:47.367Z"
   },
   {
    "duration": 18,
    "start_time": "2023-08-24T08:52:47.764Z"
   },
   {
    "duration": 235,
    "start_time": "2023-08-24T08:52:47.784Z"
   },
   {
    "duration": 6,
    "start_time": "2023-08-24T08:52:48.023Z"
   },
   {
    "duration": 30,
    "start_time": "2023-08-24T08:52:48.031Z"
   },
   {
    "duration": 15539,
    "start_time": "2023-08-24T08:52:48.064Z"
   },
   {
    "duration": 18,
    "start_time": "2023-08-24T08:53:03.606Z"
   },
   {
    "duration": 266,
    "start_time": "2023-08-24T08:53:03.627Z"
   },
   {
    "duration": 90,
    "start_time": "2023-08-24T08:53:03.895Z"
   },
   {
    "duration": 5,
    "start_time": "2023-08-24T08:53:03.987Z"
   },
   {
    "duration": 51,
    "start_time": "2023-08-24T08:53:03.994Z"
   },
   {
    "duration": 56296,
    "start_time": "2023-08-24T08:53:04.048Z"
   },
   {
    "duration": 4,
    "start_time": "2023-08-24T08:54:00.346Z"
   },
   {
    "duration": 35,
    "start_time": "2023-08-24T08:54:00.351Z"
   },
   {
    "duration": 409,
    "start_time": "2023-08-24T08:54:00.389Z"
   },
   {
    "duration": 25,
    "start_time": "2023-08-24T08:54:00.801Z"
   },
   {
    "duration": 70,
    "start_time": "2023-08-24T08:54:00.828Z"
   },
   {
    "duration": 505,
    "start_time": "2023-08-24T08:54:00.900Z"
   },
   {
    "duration": 13,
    "start_time": "2023-08-24T08:54:01.407Z"
   },
   {
    "duration": 101,
    "start_time": "2023-08-24T08:54:01.423Z"
   },
   {
    "duration": 154,
    "start_time": "2023-08-24T08:54:01.527Z"
   },
   {
    "duration": 22,
    "start_time": "2023-08-24T08:54:01.683Z"
   },
   {
    "duration": 117,
    "start_time": "2023-08-24T08:54:01.707Z"
   },
   {
    "duration": 13,
    "start_time": "2023-08-24T08:54:01.826Z"
   },
   {
    "duration": 76,
    "start_time": "2023-08-24T08:54:01.841Z"
   },
   {
    "duration": 177,
    "start_time": "2023-08-24T08:54:01.921Z"
   },
   {
    "duration": 5,
    "start_time": "2023-08-24T08:54:02.100Z"
   },
   {
    "duration": 41,
    "start_time": "2023-08-24T08:54:02.108Z"
   },
   {
    "duration": 781,
    "start_time": "2023-08-24T08:54:02.151Z"
   },
   {
    "duration": 7,
    "start_time": "2023-08-24T08:54:02.935Z"
   },
   {
    "duration": 399,
    "start_time": "2023-08-24T08:54:02.944Z"
   },
   {
    "duration": 3,
    "start_time": "2023-08-24T08:54:03.345Z"
   },
   {
    "duration": 28,
    "start_time": "2023-08-24T08:54:03.350Z"
   },
   {
    "duration": 366,
    "start_time": "2023-08-24T08:54:03.380Z"
   },
   {
    "duration": 3,
    "start_time": "2023-08-24T08:54:03.748Z"
   },
   {
    "duration": 349,
    "start_time": "2023-08-24T08:54:03.753Z"
   },
   {
    "duration": 11,
    "start_time": "2023-08-24T08:54:04.104Z"
   },
   {
    "duration": 124,
    "start_time": "2023-08-24T09:21:07.636Z"
   },
   {
    "duration": 1553,
    "start_time": "2023-08-24T09:21:27.607Z"
   },
   {
    "duration": 31,
    "start_time": "2023-08-24T09:21:32.191Z"
   },
   {
    "duration": 9,
    "start_time": "2023-08-24T10:30:31.262Z"
   },
   {
    "duration": 8,
    "start_time": "2023-08-24T10:30:32.598Z"
   },
   {
    "duration": 129,
    "start_time": "2023-08-24T10:30:35.819Z"
   },
   {
    "duration": 8,
    "start_time": "2023-08-24T10:30:53.598Z"
   },
   {
    "duration": 3,
    "start_time": "2023-08-24T10:33:01.862Z"
   },
   {
    "duration": 22,
    "start_time": "2023-08-24T10:40:11.391Z"
   },
   {
    "duration": 6,
    "start_time": "2023-08-24T10:40:33.899Z"
   },
   {
    "duration": 25,
    "start_time": "2023-08-24T10:41:14.084Z"
   },
   {
    "duration": 15,
    "start_time": "2023-08-24T10:41:31.284Z"
   },
   {
    "duration": 11,
    "start_time": "2023-08-24T10:43:35.752Z"
   },
   {
    "duration": 11,
    "start_time": "2023-08-24T10:48:36.314Z"
   },
   {
    "duration": 5,
    "start_time": "2023-08-24T10:48:47.496Z"
   },
   {
    "duration": 118,
    "start_time": "2023-08-24T11:02:39.889Z"
   },
   {
    "duration": 4,
    "start_time": "2023-08-24T11:02:45.199Z"
   },
   {
    "duration": 6,
    "start_time": "2023-08-24T11:03:01.604Z"
   },
   {
    "duration": 5,
    "start_time": "2023-08-24T11:03:12.484Z"
   },
   {
    "duration": 121,
    "start_time": "2023-08-24T11:03:20.752Z"
   },
   {
    "duration": 4,
    "start_time": "2023-08-24T11:03:25.854Z"
   },
   {
    "duration": 10,
    "start_time": "2023-08-24T11:03:53.275Z"
   },
   {
    "duration": 3,
    "start_time": "2023-08-24T11:04:15.303Z"
   },
   {
    "duration": 4,
    "start_time": "2023-08-24T11:04:19.090Z"
   },
   {
    "duration": 4,
    "start_time": "2023-08-24T11:05:15.949Z"
   },
   {
    "duration": 5,
    "start_time": "2023-08-24T11:05:16.709Z"
   },
   {
    "duration": 53,
    "start_time": "2023-08-24T11:05:28.334Z"
   },
   {
    "duration": 119,
    "start_time": "2023-08-24T11:06:15.425Z"
   },
   {
    "duration": 154,
    "start_time": "2023-08-24T11:06:24.469Z"
   },
   {
    "duration": 51,
    "start_time": "2023-08-24T11:07:00.152Z"
   },
   {
    "duration": 17,
    "start_time": "2023-08-24T11:07:49.745Z"
   },
   {
    "duration": 12,
    "start_time": "2023-08-24T11:07:59.738Z"
   },
   {
    "duration": 16,
    "start_time": "2023-08-24T11:08:12.767Z"
   },
   {
    "duration": 12,
    "start_time": "2023-08-24T11:08:16.104Z"
   },
   {
    "duration": 20,
    "start_time": "2023-08-24T11:08:21.766Z"
   },
   {
    "duration": 4,
    "start_time": "2023-08-24T11:11:13.405Z"
   },
   {
    "duration": 56,
    "start_time": "2023-08-24T11:11:35.832Z"
   },
   {
    "duration": 34,
    "start_time": "2023-08-24T11:12:05.657Z"
   },
   {
    "duration": 52,
    "start_time": "2023-08-24T11:12:31.296Z"
   },
   {
    "duration": 5,
    "start_time": "2023-08-24T11:13:19.234Z"
   },
   {
    "duration": 131,
    "start_time": "2023-08-24T11:14:05.011Z"
   },
   {
    "duration": 20,
    "start_time": "2023-08-24T11:14:08.500Z"
   },
   {
    "duration": 16,
    "start_time": "2023-08-24T11:15:02.880Z"
   },
   {
    "duration": 17,
    "start_time": "2023-08-24T11:15:05.672Z"
   },
   {
    "duration": 9,
    "start_time": "2023-08-24T11:19:01.161Z"
   },
   {
    "duration": 3,
    "start_time": "2023-08-24T12:06:24.623Z"
   },
   {
    "duration": 9,
    "start_time": "2023-08-24T12:06:25.510Z"
   },
   {
    "duration": 9,
    "start_time": "2023-08-24T12:06:41.628Z"
   },
   {
    "duration": 8,
    "start_time": "2023-08-24T12:06:52.710Z"
   },
   {
    "duration": 4,
    "start_time": "2023-08-24T12:15:38.735Z"
   },
   {
    "duration": 3,
    "start_time": "2023-08-24T12:16:36.156Z"
   },
   {
    "duration": 15,
    "start_time": "2023-08-24T12:17:36.604Z"
   },
   {
    "duration": 10,
    "start_time": "2023-08-24T12:17:48.743Z"
   },
   {
    "duration": 19,
    "start_time": "2023-08-24T12:17:58.982Z"
   },
   {
    "duration": 10,
    "start_time": "2023-08-24T12:18:05.943Z"
   },
   {
    "duration": 4,
    "start_time": "2023-08-24T12:18:27.825Z"
   },
   {
    "duration": 16,
    "start_time": "2023-08-24T12:20:27.806Z"
   },
   {
    "duration": 1843,
    "start_time": "2023-08-24T12:21:15.926Z"
   },
   {
    "duration": 66,
    "start_time": "2023-08-24T12:21:20.863Z"
   },
   {
    "duration": 126,
    "start_time": "2023-08-24T12:21:29.319Z"
   },
   {
    "duration": 6,
    "start_time": "2023-08-24T12:21:48.714Z"
   },
   {
    "duration": 13,
    "start_time": "2023-08-24T12:21:54.515Z"
   },
   {
    "duration": 9,
    "start_time": "2023-08-24T12:30:16.806Z"
   },
   {
    "duration": 6,
    "start_time": "2023-08-24T12:30:19.920Z"
   },
   {
    "duration": 4,
    "start_time": "2023-08-24T12:30:23.920Z"
   },
   {
    "duration": 9,
    "start_time": "2023-08-24T12:30:28.209Z"
   },
   {
    "duration": 4,
    "start_time": "2023-08-24T12:36:35.898Z"
   },
   {
    "duration": 4,
    "start_time": "2023-08-24T12:37:34.249Z"
   },
   {
    "duration": 21,
    "start_time": "2023-08-24T12:47:46.857Z"
   },
   {
    "duration": 1519,
    "start_time": "2023-08-24T12:49:58.283Z"
   },
   {
    "duration": 30,
    "start_time": "2023-08-24T12:49:59.804Z"
   },
   {
    "duration": 16,
    "start_time": "2023-08-24T12:49:59.836Z"
   },
   {
    "duration": 43,
    "start_time": "2023-08-24T12:49:59.854Z"
   },
   {
    "duration": 25,
    "start_time": "2023-08-24T12:49:59.899Z"
   },
   {
    "duration": 35,
    "start_time": "2023-08-24T12:49:59.925Z"
   },
   {
    "duration": 17,
    "start_time": "2023-08-24T12:49:59.962Z"
   },
   {
    "duration": 15,
    "start_time": "2023-08-24T12:49:59.981Z"
   },
   {
    "duration": 9,
    "start_time": "2023-08-24T12:49:59.997Z"
   },
   {
    "duration": 50,
    "start_time": "2023-08-24T12:50:00.009Z"
   },
   {
    "duration": 73,
    "start_time": "2023-08-24T12:50:00.061Z"
   },
   {
    "duration": 63,
    "start_time": "2023-08-24T12:50:00.136Z"
   },
   {
    "duration": 63,
    "start_time": "2023-08-24T12:50:00.201Z"
   },
   {
    "duration": 96,
    "start_time": "2023-08-24T12:50:00.268Z"
   },
   {
    "duration": 31,
    "start_time": "2023-08-24T12:50:00.366Z"
   },
   {
    "duration": 64,
    "start_time": "2023-08-24T12:50:00.399Z"
   },
   {
    "duration": 51,
    "start_time": "2023-08-24T12:50:00.465Z"
   },
   {
    "duration": 57,
    "start_time": "2023-08-24T12:50:00.518Z"
   },
   {
    "duration": 48,
    "start_time": "2023-08-24T12:50:00.577Z"
   },
   {
    "duration": 341,
    "start_time": "2023-08-24T12:50:00.627Z"
   },
   {
    "duration": 327,
    "start_time": "2023-08-24T12:50:00.970Z"
   },
   {
    "duration": 9,
    "start_time": "2023-08-24T12:50:01.299Z"
   },
   {
    "duration": 329,
    "start_time": "2023-08-24T12:50:01.309Z"
   },
   {
    "duration": 6,
    "start_time": "2023-08-24T12:50:01.639Z"
   },
   {
    "duration": 159,
    "start_time": "2023-08-24T12:50:01.646Z"
   },
   {
    "duration": 12541,
    "start_time": "2023-08-24T12:50:01.807Z"
   },
   {
    "duration": 42,
    "start_time": "2023-08-24T12:50:14.350Z"
   },
   {
    "duration": 240,
    "start_time": "2023-08-24T12:50:14.397Z"
   },
   {
    "duration": 86,
    "start_time": "2023-08-24T12:50:14.639Z"
   },
   {
    "duration": 4,
    "start_time": "2023-08-24T12:50:14.726Z"
   },
   {
    "duration": 6,
    "start_time": "2023-08-24T12:50:14.732Z"
   },
   {
    "duration": 47159,
    "start_time": "2023-08-24T12:50:14.739Z"
   },
   {
    "duration": 3,
    "start_time": "2023-08-24T12:51:01.900Z"
   },
   {
    "duration": 57,
    "start_time": "2023-08-24T12:51:01.905Z"
   },
   {
    "duration": 94,
    "start_time": "2023-08-24T12:51:01.963Z"
   },
   {
    "duration": 75,
    "start_time": "2023-08-24T12:51:02.060Z"
   },
   {
    "duration": 176,
    "start_time": "2023-08-24T12:51:02.137Z"
   },
   {
    "duration": 0,
    "start_time": "2023-08-24T12:51:02.315Z"
   },
   {
    "duration": 0,
    "start_time": "2023-08-24T12:51:02.316Z"
   },
   {
    "duration": 0,
    "start_time": "2023-08-24T12:51:02.317Z"
   },
   {
    "duration": 0,
    "start_time": "2023-08-24T12:51:02.318Z"
   },
   {
    "duration": 0,
    "start_time": "2023-08-24T12:51:02.320Z"
   },
   {
    "duration": 0,
    "start_time": "2023-08-24T12:51:02.321Z"
   },
   {
    "duration": 0,
    "start_time": "2023-08-24T12:51:02.322Z"
   },
   {
    "duration": 0,
    "start_time": "2023-08-24T12:51:02.323Z"
   },
   {
    "duration": 0,
    "start_time": "2023-08-24T12:51:02.324Z"
   },
   {
    "duration": 0,
    "start_time": "2023-08-24T12:51:02.325Z"
   },
   {
    "duration": 0,
    "start_time": "2023-08-24T12:51:02.326Z"
   },
   {
    "duration": 0,
    "start_time": "2023-08-24T12:51:02.328Z"
   },
   {
    "duration": 0,
    "start_time": "2023-08-24T12:51:02.329Z"
   },
   {
    "duration": 0,
    "start_time": "2023-08-24T12:51:02.330Z"
   },
   {
    "duration": 0,
    "start_time": "2023-08-24T12:51:02.331Z"
   },
   {
    "duration": 0,
    "start_time": "2023-08-24T12:51:02.332Z"
   },
   {
    "duration": 0,
    "start_time": "2023-08-24T12:51:02.333Z"
   },
   {
    "duration": 0,
    "start_time": "2023-08-24T12:51:02.334Z"
   },
   {
    "duration": 0,
    "start_time": "2023-08-24T12:51:02.335Z"
   },
   {
    "duration": 0,
    "start_time": "2023-08-24T12:51:02.336Z"
   },
   {
    "duration": 0,
    "start_time": "2023-08-24T12:51:02.367Z"
   },
   {
    "duration": 240,
    "start_time": "2023-08-24T12:52:46.386Z"
   },
   {
    "duration": 257,
    "start_time": "2023-08-24T12:52:54.682Z"
   },
   {
    "duration": 10,
    "start_time": "2023-08-24T12:53:38.714Z"
   },
   {
    "duration": 9,
    "start_time": "2023-08-24T12:54:43.318Z"
   },
   {
    "duration": 9,
    "start_time": "2023-08-24T12:54:50.792Z"
   },
   {
    "duration": 3,
    "start_time": "2023-08-24T12:55:28.631Z"
   },
   {
    "duration": 10,
    "start_time": "2023-08-24T12:55:31.246Z"
   },
   {
    "duration": 5,
    "start_time": "2023-08-24T12:55:31.743Z"
   },
   {
    "duration": 304,
    "start_time": "2023-08-24T12:56:32.409Z"
   },
   {
    "duration": 11,
    "start_time": "2023-08-24T12:56:33.976Z"
   },
   {
    "duration": 6,
    "start_time": "2023-08-24T12:56:34.794Z"
   },
   {
    "duration": 14,
    "start_time": "2023-08-24T12:56:36.498Z"
   },
   {
    "duration": 7,
    "start_time": "2023-08-24T12:56:37.015Z"
   },
   {
    "duration": 81,
    "start_time": "2023-08-24T12:56:37.880Z"
   },
   {
    "duration": 6,
    "start_time": "2023-08-24T12:56:39.463Z"
   },
   {
    "duration": 6,
    "start_time": "2023-08-24T12:56:41.449Z"
   },
   {
    "duration": 87,
    "start_time": "2023-08-24T12:56:42.222Z"
   },
   {
    "duration": 5,
    "start_time": "2023-08-24T12:56:57.431Z"
   },
   {
    "duration": 3,
    "start_time": "2023-08-24T12:56:58.550Z"
   },
   {
    "duration": 539,
    "start_time": "2023-08-24T12:56:59.645Z"
   },
   {
    "duration": 4,
    "start_time": "2023-08-24T12:57:41.674Z"
   },
   {
    "duration": 283,
    "start_time": "2023-08-24T12:57:43.369Z"
   },
   {
    "duration": 3,
    "start_time": "2023-08-24T12:57:48.769Z"
   },
   {
    "duration": 23,
    "start_time": "2023-08-24T12:57:48.774Z"
   },
   {
    "duration": 263,
    "start_time": "2023-08-24T12:57:50.752Z"
   },
   {
    "duration": 3,
    "start_time": "2023-08-24T12:57:51.639Z"
   },
   {
    "duration": 299,
    "start_time": "2023-08-24T12:57:53.730Z"
   },
   {
    "duration": 1677,
    "start_time": "2023-08-24T13:41:24.093Z"
   },
   {
    "duration": 33,
    "start_time": "2023-08-24T13:41:25.773Z"
   },
   {
    "duration": 15,
    "start_time": "2023-08-24T13:41:25.808Z"
   },
   {
    "duration": 28,
    "start_time": "2023-08-24T13:41:25.825Z"
   },
   {
    "duration": 16,
    "start_time": "2023-08-24T13:41:25.855Z"
   },
   {
    "duration": 41,
    "start_time": "2023-08-24T13:41:25.873Z"
   },
   {
    "duration": 12,
    "start_time": "2023-08-24T13:41:25.916Z"
   },
   {
    "duration": 35,
    "start_time": "2023-08-24T13:41:25.929Z"
   },
   {
    "duration": 6,
    "start_time": "2023-08-24T13:41:25.967Z"
   },
   {
    "duration": 8,
    "start_time": "2023-08-24T13:41:25.975Z"
   },
   {
    "duration": 28,
    "start_time": "2023-08-24T13:41:25.984Z"
   },
   {
    "duration": 27,
    "start_time": "2023-08-24T13:41:26.014Z"
   },
   {
    "duration": 38,
    "start_time": "2023-08-24T13:41:26.043Z"
   },
   {
    "duration": 36,
    "start_time": "2023-08-24T13:41:26.083Z"
   },
   {
    "duration": 39,
    "start_time": "2023-08-24T13:41:26.121Z"
   },
   {
    "duration": 27,
    "start_time": "2023-08-24T13:41:26.162Z"
   },
   {
    "duration": 9,
    "start_time": "2023-08-24T13:41:26.191Z"
   },
   {
    "duration": 13,
    "start_time": "2023-08-24T13:41:26.203Z"
   },
   {
    "duration": 18,
    "start_time": "2023-08-24T13:41:26.218Z"
   },
   {
    "duration": 274,
    "start_time": "2023-08-24T13:41:26.238Z"
   },
   {
    "duration": 311,
    "start_time": "2023-08-24T13:41:26.514Z"
   },
   {
    "duration": 10,
    "start_time": "2023-08-24T13:41:26.827Z"
   },
   {
    "duration": 211,
    "start_time": "2023-08-24T13:41:26.839Z"
   },
   {
    "duration": 6,
    "start_time": "2023-08-24T13:41:27.051Z"
   },
   {
    "duration": 11,
    "start_time": "2023-08-24T13:41:27.059Z"
   },
   {
    "duration": 11879,
    "start_time": "2023-08-24T13:41:27.072Z"
   },
   {
    "duration": 36,
    "start_time": "2023-08-24T13:41:38.953Z"
   },
   {
    "duration": 265,
    "start_time": "2023-08-24T13:41:38.993Z"
   },
   {
    "duration": 81,
    "start_time": "2023-08-24T13:41:39.259Z"
   },
   {
    "duration": 3,
    "start_time": "2023-08-24T13:41:39.342Z"
   },
   {
    "duration": 9,
    "start_time": "2023-08-24T13:41:39.347Z"
   },
   {
    "duration": 47243,
    "start_time": "2023-08-24T13:41:39.366Z"
   },
   {
    "duration": 3,
    "start_time": "2023-08-24T13:42:26.611Z"
   },
   {
    "duration": 27,
    "start_time": "2023-08-24T13:42:26.616Z"
   },
   {
    "duration": 12,
    "start_time": "2023-08-24T13:42:26.645Z"
   },
   {
    "duration": 16,
    "start_time": "2023-08-24T13:42:26.659Z"
   },
   {
    "duration": 25,
    "start_time": "2023-08-24T13:42:26.677Z"
   },
   {
    "duration": 27,
    "start_time": "2023-08-24T13:42:26.704Z"
   },
   {
    "duration": 14,
    "start_time": "2023-08-24T13:42:26.732Z"
   },
   {
    "duration": 305,
    "start_time": "2023-08-24T13:42:26.747Z"
   },
   {
    "duration": 7,
    "start_time": "2023-08-24T13:42:27.053Z"
   },
   {
    "duration": 14,
    "start_time": "2023-08-24T13:42:27.062Z"
   },
   {
    "duration": 31,
    "start_time": "2023-08-24T13:42:27.078Z"
   },
   {
    "duration": 14,
    "start_time": "2023-08-24T13:42:27.110Z"
   },
   {
    "duration": 65,
    "start_time": "2023-08-24T13:42:27.126Z"
   },
   {
    "duration": 6,
    "start_time": "2023-08-24T13:42:27.193Z"
   },
   {
    "duration": 12,
    "start_time": "2023-08-24T13:42:27.201Z"
   },
   {
    "duration": 76,
    "start_time": "2023-08-24T13:42:27.215Z"
   },
   {
    "duration": 3,
    "start_time": "2023-08-24T13:42:27.293Z"
   },
   {
    "duration": 16,
    "start_time": "2023-08-24T13:42:27.298Z"
   },
   {
    "duration": 547,
    "start_time": "2023-08-24T13:42:27.315Z"
   },
   {
    "duration": 4,
    "start_time": "2023-08-24T13:42:27.865Z"
   },
   {
    "duration": 306,
    "start_time": "2023-08-24T13:42:27.871Z"
   },
   {
    "duration": 2,
    "start_time": "2023-08-24T13:42:28.180Z"
   },
   {
    "duration": 7,
    "start_time": "2023-08-24T13:42:28.184Z"
   },
   {
    "duration": 297,
    "start_time": "2023-08-24T13:42:28.193Z"
   },
   {
    "duration": 3,
    "start_time": "2023-08-24T13:42:28.491Z"
   },
   {
    "duration": 272,
    "start_time": "2023-08-24T13:42:28.496Z"
   },
   {
    "duration": 1692,
    "start_time": "2023-08-24T16:28:21.416Z"
   },
   {
    "duration": 118,
    "start_time": "2023-08-24T16:28:23.110Z"
   },
   {
    "duration": 13,
    "start_time": "2023-08-24T16:28:23.230Z"
   },
   {
    "duration": 11,
    "start_time": "2023-08-24T16:28:23.245Z"
   },
   {
    "duration": 16,
    "start_time": "2023-08-24T16:28:23.258Z"
   },
   {
    "duration": 35,
    "start_time": "2023-08-24T16:28:23.275Z"
   },
   {
    "duration": 5,
    "start_time": "2023-08-24T16:28:23.311Z"
   },
   {
    "duration": 11,
    "start_time": "2023-08-24T16:28:23.318Z"
   },
   {
    "duration": 3,
    "start_time": "2023-08-24T16:28:23.330Z"
   },
   {
    "duration": 7,
    "start_time": "2023-08-24T16:28:23.335Z"
   },
   {
    "duration": 8,
    "start_time": "2023-08-24T16:28:23.343Z"
   },
   {
    "duration": 7,
    "start_time": "2023-08-24T16:28:23.352Z"
   },
   {
    "duration": 14,
    "start_time": "2023-08-24T16:28:23.360Z"
   },
   {
    "duration": 13,
    "start_time": "2023-08-24T16:28:23.377Z"
   },
   {
    "duration": 6,
    "start_time": "2023-08-24T16:28:23.391Z"
   },
   {
    "duration": 5,
    "start_time": "2023-08-24T16:28:23.398Z"
   },
   {
    "duration": 20,
    "start_time": "2023-08-24T16:28:23.404Z"
   },
   {
    "duration": 331,
    "start_time": "2023-08-24T16:28:23.426Z"
   },
   {
    "duration": 262,
    "start_time": "2023-08-24T16:28:23.758Z"
   },
   {
    "duration": 12,
    "start_time": "2023-08-24T16:28:24.022Z"
   },
   {
    "duration": 267,
    "start_time": "2023-08-24T16:28:24.036Z"
   },
   {
    "duration": 5,
    "start_time": "2023-08-24T16:28:24.304Z"
   },
   {
    "duration": 13,
    "start_time": "2023-08-24T16:28:24.311Z"
   },
   {
    "duration": 12092,
    "start_time": "2023-08-24T16:28:24.326Z"
   },
   {
    "duration": 18,
    "start_time": "2023-08-24T16:28:36.420Z"
   },
   {
    "duration": 276,
    "start_time": "2023-08-24T16:28:36.440Z"
   },
   {
    "duration": 62,
    "start_time": "2023-08-24T16:28:36.718Z"
   },
   {
    "duration": 3,
    "start_time": "2023-08-24T16:28:36.782Z"
   },
   {
    "duration": 4,
    "start_time": "2023-08-24T16:28:36.787Z"
   },
   {
    "duration": 37755,
    "start_time": "2023-08-24T16:28:36.793Z"
   },
   {
    "duration": 4,
    "start_time": "2023-08-24T16:29:14.550Z"
   },
   {
    "duration": 15,
    "start_time": "2023-08-24T16:29:14.556Z"
   },
   {
    "duration": 5,
    "start_time": "2023-08-24T16:29:14.573Z"
   },
   {
    "duration": 4,
    "start_time": "2023-08-24T16:29:14.580Z"
   },
   {
    "duration": 14,
    "start_time": "2023-08-24T16:29:14.586Z"
   },
   {
    "duration": 25,
    "start_time": "2023-08-24T16:29:14.602Z"
   },
   {
    "duration": 5,
    "start_time": "2023-08-24T16:29:14.629Z"
   },
   {
    "duration": 312,
    "start_time": "2023-08-24T16:29:14.636Z"
   },
   {
    "duration": 8,
    "start_time": "2023-08-24T16:29:14.950Z"
   },
   {
    "duration": 22,
    "start_time": "2023-08-24T16:29:14.960Z"
   },
   {
    "duration": 17,
    "start_time": "2023-08-24T16:29:14.986Z"
   },
   {
    "duration": 6,
    "start_time": "2023-08-24T16:29:15.004Z"
   },
   {
    "duration": 170,
    "start_time": "2023-08-24T16:29:15.012Z"
   },
   {
    "duration": 9,
    "start_time": "2023-08-24T16:29:15.184Z"
   },
   {
    "duration": 8,
    "start_time": "2023-08-24T16:29:15.194Z"
   },
   {
    "duration": 68,
    "start_time": "2023-08-24T16:29:15.204Z"
   },
   {
    "duration": 2,
    "start_time": "2023-08-24T16:29:15.274Z"
   },
   {
    "duration": 4,
    "start_time": "2023-08-24T16:29:15.278Z"
   },
   {
    "duration": 483,
    "start_time": "2023-08-24T16:29:15.283Z"
   },
   {
    "duration": 4,
    "start_time": "2023-08-24T16:29:15.767Z"
   },
   {
    "duration": 341,
    "start_time": "2023-08-24T16:29:15.772Z"
   },
   {
    "duration": 12,
    "start_time": "2023-08-24T16:29:16.115Z"
   },
   {
    "duration": 4,
    "start_time": "2023-08-24T16:29:16.129Z"
   },
   {
    "duration": 571,
    "start_time": "2023-08-24T16:29:16.135Z"
   },
   {
    "duration": 3,
    "start_time": "2023-08-24T16:29:16.707Z"
   },
   {
    "duration": 252,
    "start_time": "2023-08-24T16:29:16.712Z"
   },
   {
    "duration": 3,
    "start_time": "2023-08-24T16:35:12.353Z"
   },
   {
    "duration": 3,
    "start_time": "2023-08-24T16:37:06.796Z"
   },
   {
    "duration": 1464,
    "start_time": "2023-08-24T16:41:32.148Z"
   },
   {
    "duration": 36,
    "start_time": "2023-08-24T16:41:37.931Z"
   },
   {
    "duration": 14,
    "start_time": "2023-08-24T16:41:40.206Z"
   },
   {
    "duration": 4,
    "start_time": "2023-08-24T16:41:49.778Z"
   },
   {
    "duration": 5,
    "start_time": "2023-08-24T16:41:50.976Z"
   },
   {
    "duration": 6,
    "start_time": "2023-08-24T16:41:54.947Z"
   },
   {
    "duration": 4,
    "start_time": "2023-08-24T16:41:56.104Z"
   },
   {
    "duration": 8,
    "start_time": "2023-08-24T16:41:56.624Z"
   },
   {
    "duration": 8,
    "start_time": "2023-08-24T16:42:11.122Z"
   },
   {
    "duration": 100,
    "start_time": "2023-08-24T16:49:13.801Z"
   },
   {
    "duration": 3,
    "start_time": "2023-08-24T16:49:20.900Z"
   },
   {
    "duration": 9,
    "start_time": "2023-08-24T16:49:21.562Z"
   },
   {
    "duration": 8,
    "start_time": "2023-08-24T16:49:29.057Z"
   },
   {
    "duration": 1450,
    "start_time": "2023-08-24T16:51:02.035Z"
   },
   {
    "duration": 30,
    "start_time": "2023-08-24T16:51:03.487Z"
   },
   {
    "duration": 13,
    "start_time": "2023-08-24T16:51:03.519Z"
   },
   {
    "duration": 11,
    "start_time": "2023-08-24T16:51:03.534Z"
   },
   {
    "duration": 10,
    "start_time": "2023-08-24T16:51:03.546Z"
   },
   {
    "duration": 21,
    "start_time": "2023-08-24T16:51:03.557Z"
   },
   {
    "duration": 5,
    "start_time": "2023-08-24T16:51:03.579Z"
   },
   {
    "duration": 12,
    "start_time": "2023-08-24T16:51:03.586Z"
   },
   {
    "duration": 3,
    "start_time": "2023-08-24T16:51:03.599Z"
   },
   {
    "duration": 19,
    "start_time": "2023-08-24T16:51:03.604Z"
   },
   {
    "duration": 12,
    "start_time": "2023-08-24T16:51:03.625Z"
   },
   {
    "duration": 7,
    "start_time": "2023-08-24T16:51:03.638Z"
   },
   {
    "duration": 9,
    "start_time": "2023-08-24T16:51:03.650Z"
   },
   {
    "duration": 8,
    "start_time": "2023-08-24T16:51:03.660Z"
   },
   {
    "duration": 4,
    "start_time": "2023-08-24T16:51:03.669Z"
   },
   {
    "duration": 14,
    "start_time": "2023-08-24T16:51:03.674Z"
   },
   {
    "duration": 7,
    "start_time": "2023-08-24T16:51:03.689Z"
   },
   {
    "duration": 5,
    "start_time": "2023-08-24T16:51:03.698Z"
   },
   {
    "duration": 10,
    "start_time": "2023-08-24T16:51:03.704Z"
   },
   {
    "duration": 31,
    "start_time": "2023-08-24T16:51:03.715Z"
   },
   {
    "duration": 27,
    "start_time": "2023-08-24T16:51:03.747Z"
   },
   {
    "duration": 244,
    "start_time": "2023-08-24T16:51:03.776Z"
   },
   {
    "duration": 262,
    "start_time": "2023-08-24T16:51:04.022Z"
   },
   {
    "duration": 8,
    "start_time": "2023-08-24T16:51:04.286Z"
   },
   {
    "duration": 434,
    "start_time": "2023-08-24T16:51:04.295Z"
   },
   {
    "duration": 5,
    "start_time": "2023-08-24T16:51:04.731Z"
   },
   {
    "duration": 38,
    "start_time": "2023-08-24T16:51:04.738Z"
   },
   {
    "duration": 10732,
    "start_time": "2023-08-24T16:51:04.780Z"
   },
   {
    "duration": 14,
    "start_time": "2023-08-24T16:51:15.513Z"
   },
   {
    "duration": 232,
    "start_time": "2023-08-24T16:51:15.528Z"
   },
   {
    "duration": 55,
    "start_time": "2023-08-24T16:51:15.762Z"
   },
   {
    "duration": 4,
    "start_time": "2023-08-24T16:51:15.819Z"
   },
   {
    "duration": 5,
    "start_time": "2023-08-24T16:51:15.824Z"
   },
   {
    "duration": 40139,
    "start_time": "2023-08-24T16:51:15.850Z"
   },
   {
    "duration": 5,
    "start_time": "2023-08-24T16:51:55.991Z"
   },
   {
    "duration": 23,
    "start_time": "2023-08-24T16:51:55.997Z"
   },
   {
    "duration": 21,
    "start_time": "2023-08-24T16:51:56.022Z"
   },
   {
    "duration": 11,
    "start_time": "2023-08-24T16:51:56.045Z"
   },
   {
    "duration": 5,
    "start_time": "2023-08-24T16:51:56.058Z"
   },
   {
    "duration": 47,
    "start_time": "2023-08-24T16:51:56.065Z"
   },
   {
    "duration": 5,
    "start_time": "2023-08-24T16:51:56.114Z"
   },
   {
    "duration": 378,
    "start_time": "2023-08-24T16:51:56.120Z"
   },
   {
    "duration": 8,
    "start_time": "2023-08-24T16:51:56.500Z"
   },
   {
    "duration": 11,
    "start_time": "2023-08-24T16:51:56.509Z"
   },
   {
    "duration": 12,
    "start_time": "2023-08-24T16:51:56.521Z"
   },
   {
    "duration": 12,
    "start_time": "2023-08-24T16:51:56.534Z"
   },
   {
    "duration": 60,
    "start_time": "2023-08-24T16:51:56.548Z"
   },
   {
    "duration": 5,
    "start_time": "2023-08-24T16:51:56.610Z"
   },
   {
    "duration": 5,
    "start_time": "2023-08-24T16:51:56.617Z"
   },
   {
    "duration": 88,
    "start_time": "2023-08-24T16:51:56.623Z"
   },
   {
    "duration": 3,
    "start_time": "2023-08-24T16:51:56.713Z"
   },
   {
    "duration": 41,
    "start_time": "2023-08-24T16:51:56.717Z"
   },
   {
    "duration": 453,
    "start_time": "2023-08-24T16:51:56.760Z"
   },
   {
    "duration": 3,
    "start_time": "2023-08-24T16:51:57.215Z"
   },
   {
    "duration": 306,
    "start_time": "2023-08-24T16:51:57.219Z"
   },
   {
    "duration": 3,
    "start_time": "2023-08-24T16:51:57.526Z"
   },
   {
    "duration": 5,
    "start_time": "2023-08-24T16:51:57.530Z"
   },
   {
    "duration": 268,
    "start_time": "2023-08-24T16:51:57.536Z"
   },
   {
    "duration": 3,
    "start_time": "2023-08-24T16:51:57.806Z"
   },
   {
    "duration": 255,
    "start_time": "2023-08-24T16:51:57.810Z"
   },
   {
    "duration": 1456,
    "start_time": "2023-08-24T17:11:07.238Z"
   },
   {
    "duration": 31,
    "start_time": "2023-08-24T17:11:08.695Z"
   },
   {
    "duration": 13,
    "start_time": "2023-08-24T17:11:08.727Z"
   },
   {
    "duration": 16,
    "start_time": "2023-08-24T17:11:08.743Z"
   },
   {
    "duration": 14,
    "start_time": "2023-08-24T17:11:08.761Z"
   },
   {
    "duration": 25,
    "start_time": "2023-08-24T17:11:08.777Z"
   },
   {
    "duration": 6,
    "start_time": "2023-08-24T17:11:08.804Z"
   },
   {
    "duration": 18,
    "start_time": "2023-08-24T17:11:08.812Z"
   },
   {
    "duration": 4,
    "start_time": "2023-08-24T17:11:08.831Z"
   },
   {
    "duration": 22,
    "start_time": "2023-08-24T17:11:08.837Z"
   },
   {
    "duration": 13,
    "start_time": "2023-08-24T17:11:08.861Z"
   },
   {
    "duration": 9,
    "start_time": "2023-08-24T17:11:08.876Z"
   },
   {
    "duration": 15,
    "start_time": "2023-08-24T17:11:08.887Z"
   },
   {
    "duration": 2,
    "start_time": "2023-08-24T17:11:08.904Z"
   },
   {
    "duration": 9,
    "start_time": "2023-08-24T17:11:08.908Z"
   },
   {
    "duration": 13,
    "start_time": "2023-08-24T17:11:08.918Z"
   },
   {
    "duration": 10,
    "start_time": "2023-08-24T17:11:08.932Z"
   },
   {
    "duration": 11,
    "start_time": "2023-08-24T17:11:08.943Z"
   },
   {
    "duration": 18,
    "start_time": "2023-08-24T17:11:08.956Z"
   },
   {
    "duration": 12,
    "start_time": "2023-08-24T17:11:08.976Z"
   },
   {
    "duration": 233,
    "start_time": "2023-08-24T17:11:08.989Z"
   },
   {
    "duration": 269,
    "start_time": "2023-08-24T17:11:09.223Z"
   },
   {
    "duration": 9,
    "start_time": "2023-08-24T17:11:09.495Z"
   },
   {
    "duration": 117,
    "start_time": "2023-08-24T17:11:09.506Z"
   },
   {
    "duration": 5,
    "start_time": "2023-08-24T17:11:09.625Z"
   },
   {
    "duration": 4,
    "start_time": "2023-08-24T17:11:09.632Z"
   },
   {
    "duration": 10749,
    "start_time": "2023-08-24T17:11:09.638Z"
   },
   {
    "duration": 14,
    "start_time": "2023-08-24T17:11:20.390Z"
   },
   {
    "duration": 472,
    "start_time": "2023-08-24T17:11:20.405Z"
   },
   {
    "duration": 107,
    "start_time": "2023-08-24T17:11:20.879Z"
   },
   {
    "duration": 3,
    "start_time": "2023-08-24T17:11:20.988Z"
   },
   {
    "duration": 61,
    "start_time": "2023-08-24T17:11:20.992Z"
   },
   {
    "duration": 39823,
    "start_time": "2023-08-24T17:11:21.054Z"
   },
   {
    "duration": 4,
    "start_time": "2023-08-24T17:12:00.878Z"
   },
   {
    "duration": 28,
    "start_time": "2023-08-24T17:12:00.884Z"
   },
   {
    "duration": 54,
    "start_time": "2023-08-24T17:12:00.914Z"
   },
   {
    "duration": 44,
    "start_time": "2023-08-24T17:12:00.970Z"
   },
   {
    "duration": 46,
    "start_time": "2023-08-24T17:12:01.016Z"
   },
   {
    "duration": 61,
    "start_time": "2023-08-24T17:12:01.064Z"
   },
   {
    "duration": 28,
    "start_time": "2023-08-24T17:12:01.127Z"
   },
   {
    "duration": 620,
    "start_time": "2023-08-24T17:12:01.157Z"
   },
   {
    "duration": 6,
    "start_time": "2023-08-24T17:12:01.778Z"
   },
   {
    "duration": 26,
    "start_time": "2023-08-24T17:12:01.786Z"
   },
   {
    "duration": 42,
    "start_time": "2023-08-24T17:12:01.814Z"
   },
   {
    "duration": 10,
    "start_time": "2023-08-24T17:12:01.858Z"
   },
   {
    "duration": 100,
    "start_time": "2023-08-24T17:12:01.870Z"
   },
   {
    "duration": 6,
    "start_time": "2023-08-24T17:12:01.972Z"
   },
   {
    "duration": 42,
    "start_time": "2023-08-24T17:12:01.979Z"
   },
   {
    "duration": 113,
    "start_time": "2023-08-24T17:12:02.022Z"
   },
   {
    "duration": 3,
    "start_time": "2023-08-24T17:12:02.137Z"
   },
   {
    "duration": 16,
    "start_time": "2023-08-24T17:12:02.142Z"
   },
   {
    "duration": 488,
    "start_time": "2023-08-24T17:12:02.160Z"
   },
   {
    "duration": 4,
    "start_time": "2023-08-24T17:12:02.649Z"
   },
   {
    "duration": 336,
    "start_time": "2023-08-24T17:12:02.654Z"
   },
   {
    "duration": 3,
    "start_time": "2023-08-24T17:12:02.992Z"
   },
   {
    "duration": 20,
    "start_time": "2023-08-24T17:12:02.996Z"
   },
   {
    "duration": 295,
    "start_time": "2023-08-24T17:12:03.017Z"
   },
   {
    "duration": 3,
    "start_time": "2023-08-24T17:12:03.313Z"
   },
   {
    "duration": 263,
    "start_time": "2023-08-24T17:12:03.318Z"
   }
  ],
  "kernelspec": {
   "display_name": "Python 3 (ipykernel)",
   "language": "python",
   "name": "python3"
  },
  "language_info": {
   "codemirror_mode": {
    "name": "ipython",
    "version": 3
   },
   "file_extension": ".py",
   "mimetype": "text/x-python",
   "name": "python",
   "nbconvert_exporter": "python",
   "pygments_lexer": "ipython3",
   "version": "3.10.12"
  },
  "toc": {
   "base_numbering": 1,
   "nav_menu": {},
   "number_sections": true,
   "sideBar": true,
   "skip_h1_title": true,
   "title_cell": "Table of Contents",
   "title_sidebar": "Contents",
   "toc_cell": true,
   "toc_position": {
    "height": "calc(100% - 180px)",
    "left": "10px",
    "top": "150px",
    "width": "371px"
   },
   "toc_section_display": true,
   "toc_window_display": true
  }
 },
 "nbformat": 4,
 "nbformat_minor": 4
}
