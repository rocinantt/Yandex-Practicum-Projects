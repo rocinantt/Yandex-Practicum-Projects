{
 "cells": [
  {
   "cell_type": "markdown",
   "metadata": {},
   "source": [
    "# Выбор локации для скважины"
   ]
  },
  {
   "cell_type": "markdown",
   "metadata": {},
   "source": [
    "Допустим, вы работаете в добывающей компании. Нужно решить, где бурить новую скважину.\n",
    "\n",
    "Вам предоставлены пробы нефти в трёх регионах: в каждом 10 000 месторождений, где измерили качество нефти и объём её запасов. Постройте модель машинного обучения, которая поможет определить регион, где добыча принесёт наибольшую прибыль. Проанализируйте возможную прибыль и риски техникой *Bootstrap.*\n",
    "\n",
    "Шаги для выбора локации:\n",
    "\n",
    "- В избранном регионе ищут месторождения, для каждого определяют значения признаков;\n",
    "- Строят модель и оценивают объём запасов;\n",
    "- Выбирают месторождения с самым высокими оценками значений. Количество месторождений зависит от бюджета компании и стоимости разработки одной скважины;\n",
    "- Прибыль равна суммарной прибыли отобранных месторождений."
   ]
  },
  {
   "cell_type": "markdown",
   "metadata": {},
   "source": [
    "# План проекта\n",
    "\n",
    "1. Загрузим и подготовим данные\n",
    "  - Изучим данные\n",
    "  - Проверим корреляцию\n",
    "  - Напишем функцию отделения целевого и ненужных признаков и разделения на обучающую и валидационную выборки\n",
    "  - Создадим пайплайн масштабирования и обучения модели линейной регрессии\n",
    "2. Обучим и проверим модель для каждого региона\n",
    "  - Применим наши функции к данным каждого региона\n",
    "  - Сохраним правильные ответы и предсказания на валидационной выборке\n",
    "  - Выведем средний запас предсказанного сырья и RMSE модели и проанализируем результаты\n",
    "3. Подготовимся к расчету прибыли\n",
    "  - Сохраним все ключевые значения для расчетов в отдельных переменных\n",
    "  - Рассчитаем достаточный объем сырья для безубыточной разработки скважины и сравним со средним запасом в каждом регионе\n",
    "  - Напишем промежуточный вывод\n",
    "4. Напишем функцию для расчета прибыли по выбранным скважинам и предсказаниям модели\n",
    "  - Выберем 200 скважин с максимальными значениями предсказаний\n",
    "  - Просуммируем целевое значение объема сырья, соответствующее этим предсказаниям\n",
    "  - Рассчитаем прибыль для полученного объема сырья\n",
    "5. Посчитаем риски и прибыль для каждого региона\n",
    "  - Применим технику `Bootstrap` с `1000` выборок, чтобы найти распределение прибыли\n",
    "  - Найдем среднюю прибыль, 95%-й доверительный интервал и риски убытков.\n",
    "6. Напишем вывод, предложим регион для разработки\n",
    "\n",
    "**Наша цель - определить оптимальный регион с точки зрения потенциальной прибыли и рисков**"
   ]
  },
  {
   "cell_type": "markdown",
   "metadata": {},
   "source": [
    "## Загрузка и подготовка данных"
   ]
  },
  {
   "cell_type": "markdown",
   "metadata": {},
   "source": [
    "### Импортируем необходимые библиотеки"
   ]
  },
  {
   "cell_type": "code",
   "execution_count": 1,
   "metadata": {},
   "outputs": [],
   "source": [
    "!pip -q install -U scikit-learn\n",
    "!pip -q install imblearn\n",
    "!pip install -q fast_ml"
   ]
  },
  {
   "cell_type": "code",
   "execution_count": 2,
   "metadata": {},
   "outputs": [],
   "source": [
    "import pandas as pd\n",
    "import matplotlib.pyplot as plt\n",
    "import seaborn as sns\n",
    "import numpy as np\n",
    "import random\n",
    "from scipy.stats import randint\n",
    "from imblearn.pipeline import Pipeline\n",
    "from imblearn.over_sampling import SMOTE\n",
    "from imblearn.under_sampling import RandomUnderSampler\n",
    "from sklearn.dummy import DummyClassifier\n",
    "from sklearn.compose import ColumnTransformer\n",
    "from sklearn.linear_model import LinearRegression\n",
    "from sklearn.preprocessing import StandardScaler, OneHotEncoder, FunctionTransformer\n",
    "from sklearn.utils import shuffle\n",
    "from sklearn.model_selection import GridSearchCV, RandomizedSearchCV, train_test_split\n",
    "from sklearn.metrics import mean_squared_error"
   ]
  },
  {
   "cell_type": "markdown",
   "metadata": {},
   "source": [
    "### Загрузим и изучим данные"
   ]
  },
  {
   "cell_type": "code",
   "execution_count": 3,
   "metadata": {},
   "outputs": [],
   "source": [
    "df_1 = pd.read_csv('/datasets/geo_data_0.csv')\n",
    "df_2 = pd.read_csv('/datasets/geo_data_1.csv')\n",
    "df_3 = pd.read_csv('/datasets/geo_data_2.csv')"
   ]
  },
  {
   "cell_type": "markdown",
   "metadata": {},
   "source": [
    "Создадим словарь с нашими датафреймами"
   ]
  },
  {
   "cell_type": "code",
   "execution_count": 4,
   "metadata": {},
   "outputs": [],
   "source": [
    "df_dict = {\n",
    "    'df_1' : df_1,\n",
    "    'df_2' : df_2,\n",
    "    'df_3' : df_3\n",
    "}"
   ]
  },
  {
   "cell_type": "markdown",
   "metadata": {},
   "source": [
    "Напишем функцию, принимающую на вход имя функции и выводящая результат ее применения для каждого датафрейма в нашем списке"
   ]
  },
  {
   "cell_type": "code",
   "execution_count": null,
   "metadata": {},
   "outputs": [],
   "source": []
  },
  {
   "cell_type": "code",
   "execution_count": 5,
   "metadata": {},
   "outputs": [],
   "source": [
    "def get_info(func, title=''):\n",
    "    for name, df in df_dict.items():\n",
    "        print(title, name)\n",
    "        display(func(df))"
   ]
  },
  {
   "cell_type": "markdown",
   "metadata": {},
   "source": [
    "Выведем первые 5 строк наших датафреймов"
   ]
  },
  {
   "cell_type": "code",
   "execution_count": 6,
   "metadata": {},
   "outputs": [
    {
     "name": "stdout",
     "output_type": "stream",
     "text": [
      " df_1\n"
     ]
    },
    {
     "data": {
      "text/html": [
       "<div>\n",
       "<style scoped>\n",
       "    .dataframe tbody tr th:only-of-type {\n",
       "        vertical-align: middle;\n",
       "    }\n",
       "\n",
       "    .dataframe tbody tr th {\n",
       "        vertical-align: top;\n",
       "    }\n",
       "\n",
       "    .dataframe thead th {\n",
       "        text-align: right;\n",
       "    }\n",
       "</style>\n",
       "<table border=\"1\" class=\"dataframe\">\n",
       "  <thead>\n",
       "    <tr style=\"text-align: right;\">\n",
       "      <th></th>\n",
       "      <th>id</th>\n",
       "      <th>f0</th>\n",
       "      <th>f1</th>\n",
       "      <th>f2</th>\n",
       "      <th>product</th>\n",
       "    </tr>\n",
       "  </thead>\n",
       "  <tbody>\n",
       "    <tr>\n",
       "      <th>0</th>\n",
       "      <td>txEyH</td>\n",
       "      <td>0.705745</td>\n",
       "      <td>-0.497823</td>\n",
       "      <td>1.221170</td>\n",
       "      <td>105.280062</td>\n",
       "    </tr>\n",
       "    <tr>\n",
       "      <th>1</th>\n",
       "      <td>2acmU</td>\n",
       "      <td>1.334711</td>\n",
       "      <td>-0.340164</td>\n",
       "      <td>4.365080</td>\n",
       "      <td>73.037750</td>\n",
       "    </tr>\n",
       "    <tr>\n",
       "      <th>2</th>\n",
       "      <td>409Wp</td>\n",
       "      <td>1.022732</td>\n",
       "      <td>0.151990</td>\n",
       "      <td>1.419926</td>\n",
       "      <td>85.265647</td>\n",
       "    </tr>\n",
       "    <tr>\n",
       "      <th>3</th>\n",
       "      <td>iJLyR</td>\n",
       "      <td>-0.032172</td>\n",
       "      <td>0.139033</td>\n",
       "      <td>2.978566</td>\n",
       "      <td>168.620776</td>\n",
       "    </tr>\n",
       "    <tr>\n",
       "      <th>4</th>\n",
       "      <td>Xdl7t</td>\n",
       "      <td>1.988431</td>\n",
       "      <td>0.155413</td>\n",
       "      <td>4.751769</td>\n",
       "      <td>154.036647</td>\n",
       "    </tr>\n",
       "  </tbody>\n",
       "</table>\n",
       "</div>"
      ],
      "text/plain": [
       "      id        f0        f1        f2     product\n",
       "0  txEyH  0.705745 -0.497823  1.221170  105.280062\n",
       "1  2acmU  1.334711 -0.340164  4.365080   73.037750\n",
       "2  409Wp  1.022732  0.151990  1.419926   85.265647\n",
       "3  iJLyR -0.032172  0.139033  2.978566  168.620776\n",
       "4  Xdl7t  1.988431  0.155413  4.751769  154.036647"
      ]
     },
     "metadata": {},
     "output_type": "display_data"
    },
    {
     "name": "stdout",
     "output_type": "stream",
     "text": [
      " df_2\n"
     ]
    },
    {
     "data": {
      "text/html": [
       "<div>\n",
       "<style scoped>\n",
       "    .dataframe tbody tr th:only-of-type {\n",
       "        vertical-align: middle;\n",
       "    }\n",
       "\n",
       "    .dataframe tbody tr th {\n",
       "        vertical-align: top;\n",
       "    }\n",
       "\n",
       "    .dataframe thead th {\n",
       "        text-align: right;\n",
       "    }\n",
       "</style>\n",
       "<table border=\"1\" class=\"dataframe\">\n",
       "  <thead>\n",
       "    <tr style=\"text-align: right;\">\n",
       "      <th></th>\n",
       "      <th>id</th>\n",
       "      <th>f0</th>\n",
       "      <th>f1</th>\n",
       "      <th>f2</th>\n",
       "      <th>product</th>\n",
       "    </tr>\n",
       "  </thead>\n",
       "  <tbody>\n",
       "    <tr>\n",
       "      <th>0</th>\n",
       "      <td>kBEdx</td>\n",
       "      <td>-15.001348</td>\n",
       "      <td>-8.276000</td>\n",
       "      <td>-0.005876</td>\n",
       "      <td>3.179103</td>\n",
       "    </tr>\n",
       "    <tr>\n",
       "      <th>1</th>\n",
       "      <td>62mP7</td>\n",
       "      <td>14.272088</td>\n",
       "      <td>-3.475083</td>\n",
       "      <td>0.999183</td>\n",
       "      <td>26.953261</td>\n",
       "    </tr>\n",
       "    <tr>\n",
       "      <th>2</th>\n",
       "      <td>vyE1P</td>\n",
       "      <td>6.263187</td>\n",
       "      <td>-5.948386</td>\n",
       "      <td>5.001160</td>\n",
       "      <td>134.766305</td>\n",
       "    </tr>\n",
       "    <tr>\n",
       "      <th>3</th>\n",
       "      <td>KcrkZ</td>\n",
       "      <td>-13.081196</td>\n",
       "      <td>-11.506057</td>\n",
       "      <td>4.999415</td>\n",
       "      <td>137.945408</td>\n",
       "    </tr>\n",
       "    <tr>\n",
       "      <th>4</th>\n",
       "      <td>AHL4O</td>\n",
       "      <td>12.702195</td>\n",
       "      <td>-8.147433</td>\n",
       "      <td>5.004363</td>\n",
       "      <td>134.766305</td>\n",
       "    </tr>\n",
       "  </tbody>\n",
       "</table>\n",
       "</div>"
      ],
      "text/plain": [
       "      id         f0         f1        f2     product\n",
       "0  kBEdx -15.001348  -8.276000 -0.005876    3.179103\n",
       "1  62mP7  14.272088  -3.475083  0.999183   26.953261\n",
       "2  vyE1P   6.263187  -5.948386  5.001160  134.766305\n",
       "3  KcrkZ -13.081196 -11.506057  4.999415  137.945408\n",
       "4  AHL4O  12.702195  -8.147433  5.004363  134.766305"
      ]
     },
     "metadata": {},
     "output_type": "display_data"
    },
    {
     "name": "stdout",
     "output_type": "stream",
     "text": [
      " df_3\n"
     ]
    },
    {
     "data": {
      "text/html": [
       "<div>\n",
       "<style scoped>\n",
       "    .dataframe tbody tr th:only-of-type {\n",
       "        vertical-align: middle;\n",
       "    }\n",
       "\n",
       "    .dataframe tbody tr th {\n",
       "        vertical-align: top;\n",
       "    }\n",
       "\n",
       "    .dataframe thead th {\n",
       "        text-align: right;\n",
       "    }\n",
       "</style>\n",
       "<table border=\"1\" class=\"dataframe\">\n",
       "  <thead>\n",
       "    <tr style=\"text-align: right;\">\n",
       "      <th></th>\n",
       "      <th>id</th>\n",
       "      <th>f0</th>\n",
       "      <th>f1</th>\n",
       "      <th>f2</th>\n",
       "      <th>product</th>\n",
       "    </tr>\n",
       "  </thead>\n",
       "  <tbody>\n",
       "    <tr>\n",
       "      <th>0</th>\n",
       "      <td>fwXo0</td>\n",
       "      <td>-1.146987</td>\n",
       "      <td>0.963328</td>\n",
       "      <td>-0.828965</td>\n",
       "      <td>27.758673</td>\n",
       "    </tr>\n",
       "    <tr>\n",
       "      <th>1</th>\n",
       "      <td>WJtFt</td>\n",
       "      <td>0.262778</td>\n",
       "      <td>0.269839</td>\n",
       "      <td>-2.530187</td>\n",
       "      <td>56.069697</td>\n",
       "    </tr>\n",
       "    <tr>\n",
       "      <th>2</th>\n",
       "      <td>ovLUW</td>\n",
       "      <td>0.194587</td>\n",
       "      <td>0.289035</td>\n",
       "      <td>-5.586433</td>\n",
       "      <td>62.871910</td>\n",
       "    </tr>\n",
       "    <tr>\n",
       "      <th>3</th>\n",
       "      <td>q6cA6</td>\n",
       "      <td>2.236060</td>\n",
       "      <td>-0.553760</td>\n",
       "      <td>0.930038</td>\n",
       "      <td>114.572842</td>\n",
       "    </tr>\n",
       "    <tr>\n",
       "      <th>4</th>\n",
       "      <td>WPMUX</td>\n",
       "      <td>-0.515993</td>\n",
       "      <td>1.716266</td>\n",
       "      <td>5.899011</td>\n",
       "      <td>149.600746</td>\n",
       "    </tr>\n",
       "  </tbody>\n",
       "</table>\n",
       "</div>"
      ],
      "text/plain": [
       "      id        f0        f1        f2     product\n",
       "0  fwXo0 -1.146987  0.963328 -0.828965   27.758673\n",
       "1  WJtFt  0.262778  0.269839 -2.530187   56.069697\n",
       "2  ovLUW  0.194587  0.289035 -5.586433   62.871910\n",
       "3  q6cA6  2.236060 -0.553760  0.930038  114.572842\n",
       "4  WPMUX -0.515993  1.716266  5.899011  149.600746"
      ]
     },
     "metadata": {},
     "output_type": "display_data"
    }
   ],
   "source": [
    "get_info(lambda df: df.head())"
   ]
  },
  {
   "cell_type": "code",
   "execution_count": 7,
   "metadata": {},
   "outputs": [
    {
     "name": "stdout",
     "output_type": "stream",
     "text": [
      "Размер df_1\n"
     ]
    },
    {
     "data": {
      "text/plain": [
       "(100000, 5)"
      ]
     },
     "metadata": {},
     "output_type": "display_data"
    },
    {
     "name": "stdout",
     "output_type": "stream",
     "text": [
      "Размер df_2\n"
     ]
    },
    {
     "data": {
      "text/plain": [
       "(100000, 5)"
      ]
     },
     "metadata": {},
     "output_type": "display_data"
    },
    {
     "name": "stdout",
     "output_type": "stream",
     "text": [
      "Размер df_3\n"
     ]
    },
    {
     "data": {
      "text/plain": [
       "(100000, 5)"
      ]
     },
     "metadata": {},
     "output_type": "display_data"
    }
   ],
   "source": [
    "get_info(lambda df: df.shape, 'Размер')"
   ]
  },
  {
   "cell_type": "code",
   "execution_count": 8,
   "metadata": {},
   "outputs": [
    {
     "name": "stdout",
     "output_type": "stream",
     "text": [
      " df_1\n",
      "<class 'pandas.core.frame.DataFrame'>\n",
      "RangeIndex: 100000 entries, 0 to 99999\n",
      "Data columns (total 5 columns):\n",
      " #   Column   Non-Null Count   Dtype  \n",
      "---  ------   --------------   -----  \n",
      " 0   id       100000 non-null  object \n",
      " 1   f0       100000 non-null  float64\n",
      " 2   f1       100000 non-null  float64\n",
      " 3   f2       100000 non-null  float64\n",
      " 4   product  100000 non-null  float64\n",
      "dtypes: float64(4), object(1)\n",
      "memory usage: 3.8+ MB\n"
     ]
    },
    {
     "data": {
      "text/plain": [
       "None"
      ]
     },
     "metadata": {},
     "output_type": "display_data"
    },
    {
     "name": "stdout",
     "output_type": "stream",
     "text": [
      " df_2\n",
      "<class 'pandas.core.frame.DataFrame'>\n",
      "RangeIndex: 100000 entries, 0 to 99999\n",
      "Data columns (total 5 columns):\n",
      " #   Column   Non-Null Count   Dtype  \n",
      "---  ------   --------------   -----  \n",
      " 0   id       100000 non-null  object \n",
      " 1   f0       100000 non-null  float64\n",
      " 2   f1       100000 non-null  float64\n",
      " 3   f2       100000 non-null  float64\n",
      " 4   product  100000 non-null  float64\n",
      "dtypes: float64(4), object(1)\n",
      "memory usage: 3.8+ MB\n"
     ]
    },
    {
     "data": {
      "text/plain": [
       "None"
      ]
     },
     "metadata": {},
     "output_type": "display_data"
    },
    {
     "name": "stdout",
     "output_type": "stream",
     "text": [
      " df_3\n",
      "<class 'pandas.core.frame.DataFrame'>\n",
      "RangeIndex: 100000 entries, 0 to 99999\n",
      "Data columns (total 5 columns):\n",
      " #   Column   Non-Null Count   Dtype  \n",
      "---  ------   --------------   -----  \n",
      " 0   id       100000 non-null  object \n",
      " 1   f0       100000 non-null  float64\n",
      " 2   f1       100000 non-null  float64\n",
      " 3   f2       100000 non-null  float64\n",
      " 4   product  100000 non-null  float64\n",
      "dtypes: float64(4), object(1)\n",
      "memory usage: 3.8+ MB\n"
     ]
    },
    {
     "data": {
      "text/plain": [
       "None"
      ]
     },
     "metadata": {},
     "output_type": "display_data"
    }
   ],
   "source": [
    "get_info(lambda df: df.info())"
   ]
  },
  {
   "cell_type": "code",
   "execution_count": 9,
   "metadata": {},
   "outputs": [
    {
     "name": "stdout",
     "output_type": "stream",
     "text": [
      " df_1\n"
     ]
    },
    {
     "data": {
      "text/html": [
       "<div>\n",
       "<style scoped>\n",
       "    .dataframe tbody tr th:only-of-type {\n",
       "        vertical-align: middle;\n",
       "    }\n",
       "\n",
       "    .dataframe tbody tr th {\n",
       "        vertical-align: top;\n",
       "    }\n",
       "\n",
       "    .dataframe thead th {\n",
       "        text-align: right;\n",
       "    }\n",
       "</style>\n",
       "<table border=\"1\" class=\"dataframe\">\n",
       "  <thead>\n",
       "    <tr style=\"text-align: right;\">\n",
       "      <th></th>\n",
       "      <th>count</th>\n",
       "      <th>mean</th>\n",
       "      <th>std</th>\n",
       "      <th>min</th>\n",
       "      <th>25%</th>\n",
       "      <th>50%</th>\n",
       "      <th>75%</th>\n",
       "      <th>max</th>\n",
       "    </tr>\n",
       "  </thead>\n",
       "  <tbody>\n",
       "    <tr>\n",
       "      <th>f0</th>\n",
       "      <td>100000.0</td>\n",
       "      <td>0.500419</td>\n",
       "      <td>0.871832</td>\n",
       "      <td>-1.408605</td>\n",
       "      <td>-0.072580</td>\n",
       "      <td>0.502360</td>\n",
       "      <td>1.073581</td>\n",
       "      <td>2.362331</td>\n",
       "    </tr>\n",
       "    <tr>\n",
       "      <th>f1</th>\n",
       "      <td>100000.0</td>\n",
       "      <td>0.250143</td>\n",
       "      <td>0.504433</td>\n",
       "      <td>-0.848218</td>\n",
       "      <td>-0.200881</td>\n",
       "      <td>0.250252</td>\n",
       "      <td>0.700646</td>\n",
       "      <td>1.343769</td>\n",
       "    </tr>\n",
       "    <tr>\n",
       "      <th>f2</th>\n",
       "      <td>100000.0</td>\n",
       "      <td>2.502647</td>\n",
       "      <td>3.248248</td>\n",
       "      <td>-12.088328</td>\n",
       "      <td>0.287748</td>\n",
       "      <td>2.515969</td>\n",
       "      <td>4.715088</td>\n",
       "      <td>16.003790</td>\n",
       "    </tr>\n",
       "    <tr>\n",
       "      <th>product</th>\n",
       "      <td>100000.0</td>\n",
       "      <td>92.500000</td>\n",
       "      <td>44.288691</td>\n",
       "      <td>0.000000</td>\n",
       "      <td>56.497507</td>\n",
       "      <td>91.849972</td>\n",
       "      <td>128.564089</td>\n",
       "      <td>185.364347</td>\n",
       "    </tr>\n",
       "  </tbody>\n",
       "</table>\n",
       "</div>"
      ],
      "text/plain": [
       "            count       mean        std        min        25%        50%  \\\n",
       "f0       100000.0   0.500419   0.871832  -1.408605  -0.072580   0.502360   \n",
       "f1       100000.0   0.250143   0.504433  -0.848218  -0.200881   0.250252   \n",
       "f2       100000.0   2.502647   3.248248 -12.088328   0.287748   2.515969   \n",
       "product  100000.0  92.500000  44.288691   0.000000  56.497507  91.849972   \n",
       "\n",
       "                75%         max  \n",
       "f0         1.073581    2.362331  \n",
       "f1         0.700646    1.343769  \n",
       "f2         4.715088   16.003790  \n",
       "product  128.564089  185.364347  "
      ]
     },
     "metadata": {},
     "output_type": "display_data"
    },
    {
     "name": "stdout",
     "output_type": "stream",
     "text": [
      " df_2\n"
     ]
    },
    {
     "data": {
      "text/html": [
       "<div>\n",
       "<style scoped>\n",
       "    .dataframe tbody tr th:only-of-type {\n",
       "        vertical-align: middle;\n",
       "    }\n",
       "\n",
       "    .dataframe tbody tr th {\n",
       "        vertical-align: top;\n",
       "    }\n",
       "\n",
       "    .dataframe thead th {\n",
       "        text-align: right;\n",
       "    }\n",
       "</style>\n",
       "<table border=\"1\" class=\"dataframe\">\n",
       "  <thead>\n",
       "    <tr style=\"text-align: right;\">\n",
       "      <th></th>\n",
       "      <th>count</th>\n",
       "      <th>mean</th>\n",
       "      <th>std</th>\n",
       "      <th>min</th>\n",
       "      <th>25%</th>\n",
       "      <th>50%</th>\n",
       "      <th>75%</th>\n",
       "      <th>max</th>\n",
       "    </tr>\n",
       "  </thead>\n",
       "  <tbody>\n",
       "    <tr>\n",
       "      <th>f0</th>\n",
       "      <td>100000.0</td>\n",
       "      <td>1.141296</td>\n",
       "      <td>8.965932</td>\n",
       "      <td>-31.609576</td>\n",
       "      <td>-6.298551</td>\n",
       "      <td>1.153055</td>\n",
       "      <td>8.621015</td>\n",
       "      <td>29.421755</td>\n",
       "    </tr>\n",
       "    <tr>\n",
       "      <th>f1</th>\n",
       "      <td>100000.0</td>\n",
       "      <td>-4.796579</td>\n",
       "      <td>5.119872</td>\n",
       "      <td>-26.358598</td>\n",
       "      <td>-8.267985</td>\n",
       "      <td>-4.813172</td>\n",
       "      <td>-1.332816</td>\n",
       "      <td>18.734063</td>\n",
       "    </tr>\n",
       "    <tr>\n",
       "      <th>f2</th>\n",
       "      <td>100000.0</td>\n",
       "      <td>2.494541</td>\n",
       "      <td>1.703572</td>\n",
       "      <td>-0.018144</td>\n",
       "      <td>1.000021</td>\n",
       "      <td>2.011479</td>\n",
       "      <td>3.999904</td>\n",
       "      <td>5.019721</td>\n",
       "    </tr>\n",
       "    <tr>\n",
       "      <th>product</th>\n",
       "      <td>100000.0</td>\n",
       "      <td>68.825000</td>\n",
       "      <td>45.944423</td>\n",
       "      <td>0.000000</td>\n",
       "      <td>26.953261</td>\n",
       "      <td>57.085625</td>\n",
       "      <td>107.813044</td>\n",
       "      <td>137.945408</td>\n",
       "    </tr>\n",
       "  </tbody>\n",
       "</table>\n",
       "</div>"
      ],
      "text/plain": [
       "            count       mean        std        min        25%        50%  \\\n",
       "f0       100000.0   1.141296   8.965932 -31.609576  -6.298551   1.153055   \n",
       "f1       100000.0  -4.796579   5.119872 -26.358598  -8.267985  -4.813172   \n",
       "f2       100000.0   2.494541   1.703572  -0.018144   1.000021   2.011479   \n",
       "product  100000.0  68.825000  45.944423   0.000000  26.953261  57.085625   \n",
       "\n",
       "                75%         max  \n",
       "f0         8.621015   29.421755  \n",
       "f1        -1.332816   18.734063  \n",
       "f2         3.999904    5.019721  \n",
       "product  107.813044  137.945408  "
      ]
     },
     "metadata": {},
     "output_type": "display_data"
    },
    {
     "name": "stdout",
     "output_type": "stream",
     "text": [
      " df_3\n"
     ]
    },
    {
     "data": {
      "text/html": [
       "<div>\n",
       "<style scoped>\n",
       "    .dataframe tbody tr th:only-of-type {\n",
       "        vertical-align: middle;\n",
       "    }\n",
       "\n",
       "    .dataframe tbody tr th {\n",
       "        vertical-align: top;\n",
       "    }\n",
       "\n",
       "    .dataframe thead th {\n",
       "        text-align: right;\n",
       "    }\n",
       "</style>\n",
       "<table border=\"1\" class=\"dataframe\">\n",
       "  <thead>\n",
       "    <tr style=\"text-align: right;\">\n",
       "      <th></th>\n",
       "      <th>count</th>\n",
       "      <th>mean</th>\n",
       "      <th>std</th>\n",
       "      <th>min</th>\n",
       "      <th>25%</th>\n",
       "      <th>50%</th>\n",
       "      <th>75%</th>\n",
       "      <th>max</th>\n",
       "    </tr>\n",
       "  </thead>\n",
       "  <tbody>\n",
       "    <tr>\n",
       "      <th>f0</th>\n",
       "      <td>100000.0</td>\n",
       "      <td>0.002023</td>\n",
       "      <td>1.732045</td>\n",
       "      <td>-8.760004</td>\n",
       "      <td>-1.162288</td>\n",
       "      <td>0.009424</td>\n",
       "      <td>1.158535</td>\n",
       "      <td>7.238262</td>\n",
       "    </tr>\n",
       "    <tr>\n",
       "      <th>f1</th>\n",
       "      <td>100000.0</td>\n",
       "      <td>-0.002081</td>\n",
       "      <td>1.730417</td>\n",
       "      <td>-7.084020</td>\n",
       "      <td>-1.174820</td>\n",
       "      <td>-0.009482</td>\n",
       "      <td>1.163678</td>\n",
       "      <td>7.844801</td>\n",
       "    </tr>\n",
       "    <tr>\n",
       "      <th>f2</th>\n",
       "      <td>100000.0</td>\n",
       "      <td>2.495128</td>\n",
       "      <td>3.473445</td>\n",
       "      <td>-11.970335</td>\n",
       "      <td>0.130359</td>\n",
       "      <td>2.484236</td>\n",
       "      <td>4.858794</td>\n",
       "      <td>16.739402</td>\n",
       "    </tr>\n",
       "    <tr>\n",
       "      <th>product</th>\n",
       "      <td>100000.0</td>\n",
       "      <td>95.000000</td>\n",
       "      <td>44.749921</td>\n",
       "      <td>0.000000</td>\n",
       "      <td>59.450441</td>\n",
       "      <td>94.925613</td>\n",
       "      <td>130.595027</td>\n",
       "      <td>190.029838</td>\n",
       "    </tr>\n",
       "  </tbody>\n",
       "</table>\n",
       "</div>"
      ],
      "text/plain": [
       "            count       mean        std        min        25%        50%  \\\n",
       "f0       100000.0   0.002023   1.732045  -8.760004  -1.162288   0.009424   \n",
       "f1       100000.0  -0.002081   1.730417  -7.084020  -1.174820  -0.009482   \n",
       "f2       100000.0   2.495128   3.473445 -11.970335   0.130359   2.484236   \n",
       "product  100000.0  95.000000  44.749921   0.000000  59.450441  94.925613   \n",
       "\n",
       "                75%         max  \n",
       "f0         1.158535    7.238262  \n",
       "f1         1.163678    7.844801  \n",
       "f2         4.858794   16.739402  \n",
       "product  130.595027  190.029838  "
      ]
     },
     "metadata": {},
     "output_type": "display_data"
    }
   ],
   "source": [
    "get_info(lambda df: df.describe().T)"
   ]
  },
  {
   "cell_type": "markdown",
   "metadata": {},
   "source": [
    "Проверим корреляцию между признаками в нашем датафрейме"
   ]
  },
  {
   "cell_type": "code",
   "execution_count": 10,
   "metadata": {},
   "outputs": [
    {
     "data": {
      "image/png": "[encoded data removed]",
      "text/plain": [
       "<Figure size 2520x1008 with 3 Axes>"
      ]
     },
     "metadata": {
      "needs_background": "light"
     },
     "output_type": "display_data"
    }
   ],
   "source": [
    "fig, axs = plt.subplots(ncols=3, nrows=1)\n",
    "fig.set_size_inches(35, 14)\n",
    "j = 0\n",
    "for name, df in df_dict.items():\n",
    "    mask = np.triu(df.corr())\n",
    "    ax = sns.heatmap(df.corr(), annot=True, fmt='.3f', linewidths=2, mask=mask, annot_kws={\"size\":22},\n",
    "                     square=True, cmap='coolwarm', cbar=False, center=0, ax=axs[j])\n",
    "    axs[j].xaxis.set_tick_params(labelsize=22) \n",
    "    axs[j].yaxis.set_tick_params(labelsize=22)\n",
    "    axs[j].set_title(f'Тепловая карта корреляции признаков {name}', fontsize=25)\n",
    "    \n",
    "    j += 1"
   ]
  },
  {
   "cell_type": "markdown",
   "metadata": {},
   "source": [
    "Проверим на наличие строк дубликатов"
   ]
  },
  {
   "cell_type": "code",
   "execution_count": 11,
   "metadata": {
    "scrolled": true
   },
   "outputs": [
    {
     "name": "stdout",
     "output_type": "stream",
     "text": [
      "Количество строк-дубликатов в df_1\n"
     ]
    },
    {
     "data": {
      "text/plain": [
       "0"
      ]
     },
     "metadata": {},
     "output_type": "display_data"
    },
    {
     "name": "stdout",
     "output_type": "stream",
     "text": [
      "Количество строк-дубликатов в df_2\n"
     ]
    },
    {
     "data": {
      "text/plain": [
       "0"
      ]
     },
     "metadata": {},
     "output_type": "display_data"
    },
    {
     "name": "stdout",
     "output_type": "stream",
     "text": [
      "Количество строк-дубликатов в df_3\n"
     ]
    },
    {
     "data": {
      "text/plain": [
       "0"
      ]
     },
     "metadata": {},
     "output_type": "display_data"
    }
   ],
   "source": [
    "get_info(lambda df: df.duplicated().sum(), 'Количество строк-дубликатов в')"
   ]
  },
  {
   "cell_type": "markdown",
   "metadata": {},
   "source": [
    "### Промежуточный вывод"
   ]
  },
  {
   "cell_type": "markdown",
   "metadata": {},
   "source": [
    "Мы загрузили и изучили данные\n",
    "\n",
    "- В данных присутствуют информация о характеристиках скважин и объеме запасов нефти в трех регионах.\n",
    "- Пропусков и дубликатов в данных нет\n",
    "- Так как данные сентетические, мы не можем оценить реалистичность показателей и определить аномалии, будем считать, что раз данные сентетические, аномалий в них нет\n",
    "- Проверили корреляцию между признаками\n",
    "  + В первом регионе наблюдается слабая корреляция между признаками `f0` и `f1`. Так как корреляция недостаточно высокая чтобы однозначно утверждать о риске мультиколлинеарности, а признаков для обучения всего 3, отбрасывать один из них не будем. \n",
    "  + Во всех трех регионах имеется корреляция между обучающим признаков `f2` и целевым `product`. В 1 и 3 регионах корреляция слабая, а во 2 корреляция практически максимальная - `0.999`. Это может говорить о более высоком предсказательном потенциале модели для этого региона и, соответственном, наибольшем потенциале для разработки месторождений. Однако это предположение требует дальнейшей проверки  "
   ]
  },
  {
   "cell_type": "markdown",
   "metadata": {},
   "source": [
    "### Подготовка данных"
   ]
  },
  {
   "cell_type": "code",
   "execution_count": 12,
   "metadata": {},
   "outputs": [],
   "source": [
    "random_state = 1"
   ]
  },
  {
   "cell_type": "markdown",
   "metadata": {},
   "source": [
    "Напишем функцию для отеделения целевого признака и разделения выборок на обучающую и валидационную"
   ]
  },
  {
   "cell_type": "code",
   "execution_count": 13,
   "metadata": {},
   "outputs": [],
   "source": [
    "def split(df):\n",
    "    \"\"\"\n",
    "    Функция отделяет целевой признак, отбрасывает `id`\n",
    "    и разделяет данные на обучающую и валидационные выборки \n",
    "    \"\"\"\n",
    "        \n",
    "    features = df.drop(['id', 'product'], axis=1)\n",
    "    target = df['product']\n",
    "    f_train, f_valid, t_train, t_valid = (\n",
    "        train_test_split(features, target, test_size=0.25, random_state=random_state))\n",
    "    return f_train, f_valid, t_train, t_valid"
   ]
  },
  {
   "cell_type": "markdown",
   "metadata": {},
   "source": [
    "Создадим пайплайн масштабирования данных и обучения модели"
   ]
  },
  {
   "cell_type": "code",
   "execution_count": 14,
   "metadata": {},
   "outputs": [],
   "source": [
    "model = LinearRegression()"
   ]
  },
  {
   "cell_type": "code",
   "execution_count": 15,
   "metadata": {},
   "outputs": [],
   "source": [
    "pipe = Pipeline(steps=[('scaler', StandardScaler()),\n",
    "                       ('Linear Regression', model)\n",
    "                      ])"
   ]
  },
  {
   "cell_type": "markdown",
   "metadata": {},
   "source": [
    "Напишем функцию для получения словаря с выборками"
   ]
  },
  {
   "cell_type": "code",
   "execution_count": 16,
   "metadata": {},
   "outputs": [],
   "source": [
    "def get_dict(f_train, f_valid, t_train, t_valid):\n",
    "    '''\n",
    "    Функция возвращает словарь с образцами данных для обучения и тестирования модели.\n",
    "    '''\n",
    "    samples = {\n",
    "        'features_train': f_train,\n",
    "        'features_valid': f_valid,\n",
    "        'target_train': t_train,\n",
    "        'target_valid': t_valid,    \n",
    "    }\n",
    "    return samples"
   ]
  },
  {
   "cell_type": "markdown",
   "metadata": {},
   "source": [
    "Напишем функцию для вывода размера выборок из переданного словаря"
   ]
  },
  {
   "cell_type": "code",
   "execution_count": 17,
   "metadata": {},
   "outputs": [],
   "source": [
    "def get_size(samples):\n",
    "    '''\n",
    "    Функция выводит размеры выборок и соотношение классов (если выборка является pd.Series).\n",
    "    '''\n",
    "    for name, sample in samples.items():\n",
    "        print(f'- Размер выборки {name}: {sample.shape}')"
   ]
  },
  {
   "cell_type": "markdown",
   "metadata": {},
   "source": [
    "Напишем функцию-контейнер последовательно выполняющую предыдущие функции"
   ]
  },
  {
   "cell_type": "code",
   "execution_count": 18,
   "metadata": {},
   "outputs": [],
   "source": [
    "def split_train_predict(df):\n",
    "    \"\"\"\n",
    "    Функция выполняет разделение данных, масштабирование, обучение модели, предсказание на валидационной выборке\n",
    "    и вычисление среднего запаса предсказанного сырья и RMSE модели.\n",
    "\n",
    "    Parameters:\n",
    "    df (pandas.DataFrame): Исходный набор данных.\n",
    "\n",
    "    Returns:\n",
    "    t_valid (pandas.Series): Валидационный целевой признак.\n",
    "    predictions (pandas.Series): Предсказания модели.\n",
    "    new_col (tuple): Кортеж с средними запасами предсказанного сырья и целевого сырья, и RMSE модели.\n",
    "    \"\"\"\n",
    "    \n",
    "    f_train, f_valid, t_train, t_valid = split(df)\n",
    "    pipe.fit(f_train, t_train)\n",
    "    predictions = pipe.predict(f_valid)\n",
    "    \n",
    "    print('Размер выборок:')\n",
    "    get_size(get_dict(f_train, f_valid, t_train, t_valid))\n",
    "    \n",
    "    new_col = predictions.mean(), t_valid.mean(), np.sqrt(mean_squared_error(t_valid, predictions))\n",
    "    predictions = pd.Series(predictions)\n",
    "    t_valid = t_valid.reset_index(drop=True)\n",
    "    \n",
    "    return t_valid, predictions, new_col  "
   ]
  },
  {
   "cell_type": "markdown",
   "metadata": {},
   "source": [
    "## Обучение и проверка модели"
   ]
  },
  {
   "cell_type": "markdown",
   "metadata": {},
   "source": [
    "Создадим таблицу для добавления среднего объема предсказанного сырья и RMSE модели"
   ]
  },
  {
   "cell_type": "code",
   "execution_count": 19,
   "metadata": {},
   "outputs": [],
   "source": [
    "comparison_regions = pd.DataFrame(index=['predict_mean', 'target_mean', 'rmse'])"
   ]
  },
  {
   "cell_type": "markdown",
   "metadata": {},
   "source": [
    "Поочередно применим функцию-контейнер к данным каждого региона и сохраним правильные ответы,\n",
    "предсказания и показатели для таблицы"
   ]
  },
  {
   "cell_type": "code",
   "execution_count": 20,
   "metadata": {},
   "outputs": [
    {
     "name": "stdout",
     "output_type": "stream",
     "text": [
      "Размер выборок:\n",
      "- Размер выборки features_train: (75000, 3)\n",
      "- Размер выборки features_valid: (25000, 3)\n",
      "- Размер выборки target_train: (75000,)\n",
      "- Размер выборки target_valid: (25000,)\n"
     ]
    }
   ],
   "source": [
    "t_valid_1, predictions_1, comparison_regions['region_1'] = split_train_predict(df_1);"
   ]
  },
  {
   "cell_type": "code",
   "execution_count": 21,
   "metadata": {},
   "outputs": [
    {
     "name": "stdout",
     "output_type": "stream",
     "text": [
      "Размер выборок:\n",
      "- Размер выборки features_train: (75000, 3)\n",
      "- Размер выборки features_valid: (25000, 3)\n",
      "- Размер выборки target_train: (75000,)\n",
      "- Размер выборки target_valid: (25000,)\n"
     ]
    }
   ],
   "source": [
    "t_valid_2, predictions_2, comparison_regions['region_2'] = split_train_predict(df_2);"
   ]
  },
  {
   "cell_type": "code",
   "execution_count": 22,
   "metadata": {},
   "outputs": [
    {
     "name": "stdout",
     "output_type": "stream",
     "text": [
      "Размер выборок:\n",
      "- Размер выборки features_train: (75000, 3)\n",
      "- Размер выборки features_valid: (25000, 3)\n",
      "- Размер выборки target_train: (75000,)\n",
      "- Размер выборки target_valid: (25000,)\n"
     ]
    }
   ],
   "source": [
    "t_valid_3, predictions_3, comparison_regions['region_3'] = split_train_predict(df_3);"
   ]
  },
  {
   "cell_type": "markdown",
   "metadata": {},
   "source": [
    "Выведем нашу таблицу и изучим результаты"
   ]
  },
  {
   "cell_type": "code",
   "execution_count": 23,
   "metadata": {},
   "outputs": [
    {
     "data": {
      "text/html": [
       "<div>\n",
       "<style scoped>\n",
       "    .dataframe tbody tr th:only-of-type {\n",
       "        vertical-align: middle;\n",
       "    }\n",
       "\n",
       "    .dataframe tbody tr th {\n",
       "        vertical-align: top;\n",
       "    }\n",
       "\n",
       "    .dataframe thead th {\n",
       "        text-align: right;\n",
       "    }\n",
       "</style>\n",
       "<table border=\"1\" class=\"dataframe\">\n",
       "  <thead>\n",
       "    <tr style=\"text-align: right;\">\n",
       "      <th></th>\n",
       "      <th>region_1</th>\n",
       "      <th>region_2</th>\n",
       "      <th>region_3</th>\n",
       "    </tr>\n",
       "  </thead>\n",
       "  <tbody>\n",
       "    <tr>\n",
       "      <th>predict_mean</th>\n",
       "      <td>92.492625</td>\n",
       "      <td>69.120405</td>\n",
       "      <td>94.956830</td>\n",
       "    </tr>\n",
       "    <tr>\n",
       "      <th>target_mean</th>\n",
       "      <td>92.423414</td>\n",
       "      <td>69.117765</td>\n",
       "      <td>95.245631</td>\n",
       "    </tr>\n",
       "    <tr>\n",
       "      <th>rmse</th>\n",
       "      <td>37.742587</td>\n",
       "      <td>0.894338</td>\n",
       "      <td>39.866711</td>\n",
       "    </tr>\n",
       "  </tbody>\n",
       "</table>\n",
       "</div>"
      ],
      "text/plain": [
       "               region_1   region_2   region_3\n",
       "predict_mean  92.492625  69.120405  94.956830\n",
       "target_mean   92.423414  69.117765  95.245631\n",
       "rmse          37.742587   0.894338  39.866711"
      ]
     },
     "execution_count": 23,
     "metadata": {},
     "output_type": "execute_result"
    }
   ],
   "source": [
    "comparison_regions"
   ]
  },
  {
   "cell_type": "markdown",
   "metadata": {},
   "source": [
    "### Промежуточный вывод"
   ]
  },
  {
   "cell_type": "markdown",
   "metadata": {},
   "source": [
    "На основе этих результатов можно сделать следующие выводы:\n",
    "\n",
    "  - В регионе 2 модель показывает наиболее точное предсказание запасов с минимальным значением RMSE.\n",
    "  - В регионах 1 и 3 модели имеют более высокие значения RMSE, что указывает на большую погрешность предсказания.\n",
    "  - Средние объемы предсказанных и целевых запасов в каждом регионе достаточно близки.\n",
    "  - Средние объемы запасов в 1 и 3 регионах практически идентичны и превосходят средние запасы во 2 регионе более чем на треть, однако, с учетом разницы в `RMSE`, для однозначного выбора наиболее перспективного региона требуется дальнейшее изучение"
   ]
  },
  {
   "cell_type": "markdown",
   "metadata": {},
   "source": [
    "## Подготовка к расчёту прибыли"
   ]
  },
  {
   "cell_type": "markdown",
   "metadata": {},
   "source": [
    "Создадим словарь хранящий название региона, предсказания и целевой признак"
   ]
  },
  {
   "cell_type": "code",
   "execution_count": 24,
   "metadata": {},
   "outputs": [],
   "source": [
    "region_dict = {\n",
    "    'region_1' : [predictions_1, t_valid_1],\n",
    "    'region_2' : [predictions_2, t_valid_2],\n",
    "    'region_3' : [predictions_3, t_valid_3],    \n",
    "}"
   ]
  },
  {
   "cell_type": "markdown",
   "metadata": {},
   "source": [
    "Зададим переменные, хранящие ключевые значения для расчетов"
   ]
  },
  {
   "cell_type": "code",
   "execution_count": 25,
   "metadata": {},
   "outputs": [],
   "source": [
    "BUDGET = 10000000000 # Бюджет на разработку месторождений в регионе\n",
    "REVENUE_PER_UNIT = 450000 # Доход с одной единицы продукта\n",
    "TOTAL_FIELDS = 500 # Количество точек, исследуемых при разведке региона\n",
    "SELECTED_FIELDS = 200 # Количество лучших точек, отбираемых по результатам разведки"
   ]
  },
  {
   "cell_type": "markdown",
   "metadata": {},
   "source": [
    "Рассчитаем минимальный объем запасов одного месторождения для безубыточной разработки"
   ]
  },
  {
   "cell_type": "code",
   "execution_count": 26,
   "metadata": {},
   "outputs": [],
   "source": [
    "min_volume = BUDGET / SELECTED_FIELDS / REVENUE_PER_UNIT"
   ]
  },
  {
   "cell_type": "code",
   "execution_count": 27,
   "metadata": {},
   "outputs": [
    {
     "data": {
      "text/plain": [
       "111.11111111111111"
      ]
     },
     "execution_count": 27,
     "metadata": {},
     "output_type": "execute_result"
    }
   ],
   "source": [
    "min_volume"
   ]
  },
  {
   "cell_type": "code",
   "execution_count": 28,
   "metadata": {},
   "outputs": [
    {
     "data": {
      "text/html": [
       "<div>\n",
       "<style scoped>\n",
       "    .dataframe tbody tr th:only-of-type {\n",
       "        vertical-align: middle;\n",
       "    }\n",
       "\n",
       "    .dataframe tbody tr th {\n",
       "        vertical-align: top;\n",
       "    }\n",
       "\n",
       "    .dataframe thead th {\n",
       "        text-align: right;\n",
       "    }\n",
       "</style>\n",
       "<table border=\"1\" class=\"dataframe\">\n",
       "  <thead>\n",
       "    <tr style=\"text-align: right;\">\n",
       "      <th></th>\n",
       "      <th>region_1</th>\n",
       "      <th>region_2</th>\n",
       "      <th>region_3</th>\n",
       "    </tr>\n",
       "  </thead>\n",
       "  <tbody>\n",
       "    <tr>\n",
       "      <th>predict_mean</th>\n",
       "      <td>92.492625</td>\n",
       "      <td>69.120405</td>\n",
       "      <td>94.956830</td>\n",
       "    </tr>\n",
       "    <tr>\n",
       "      <th>target_mean</th>\n",
       "      <td>92.423414</td>\n",
       "      <td>69.117765</td>\n",
       "      <td>95.245631</td>\n",
       "    </tr>\n",
       "    <tr>\n",
       "      <th>rmse</th>\n",
       "      <td>37.742587</td>\n",
       "      <td>0.894338</td>\n",
       "      <td>39.866711</td>\n",
       "    </tr>\n",
       "  </tbody>\n",
       "</table>\n",
       "</div>"
      ],
      "text/plain": [
       "               region_1   region_2   region_3\n",
       "predict_mean  92.492625  69.120405  94.956830\n",
       "target_mean   92.423414  69.117765  95.245631\n",
       "rmse          37.742587   0.894338  39.866711"
      ]
     },
     "execution_count": 28,
     "metadata": {},
     "output_type": "execute_result"
    }
   ],
   "source": [
    "comparison_regions"
   ]
  },
  {
   "cell_type": "markdown",
   "metadata": {},
   "source": [
    "### Промежуточный вывод"
   ]
  },
  {
   "cell_type": "markdown",
   "metadata": {},
   "source": [
    "- Мы рассчитали минимальный объем месторождения для его безубыточной разработки исходя из бюджета на регион и количества разрабатываемых месторождений - `111.1`\n",
    "- Средний запас в регионах 1 и 3 несколько меньше минимального, а во 2 регионе средний запас меньше в 1.5 раза, однако, потенциал добычи в регионе будет зависеть от способности отбирать лучшие месторождения"
   ]
  },
  {
   "cell_type": "markdown",
   "metadata": {},
   "source": [
    "## Расчёт прибыли и рисков "
   ]
  },
  {
   "cell_type": "markdown",
   "metadata": {},
   "source": [
    "Напишем функцию для расчета прибыли по выбранным скважинам и предсказаниям модели"
   ]
  },
  {
   "cell_type": "code",
   "execution_count": 29,
   "metadata": {},
   "outputs": [],
   "source": [
    "def calculate_profit(predictions, target, count=SELECTED_FIELDS):\n",
    "    \"\"\"\n",
    "    Функция отбирает заданное количество лучших месторождений на основе предсказаний\n",
    "    и высчитывает прибыль в соответствии с целевыми значениями\n",
    "    \"\"\"\n",
    "    \n",
    "    probs_sorted = predictions.sort_values(ascending=False)\n",
    "    selected = target[probs_sorted.index][:count]\n",
    "    return REVENUE_PER_UNIT * selected.sum()"
   ]
  },
  {
   "cell_type": "markdown",
   "metadata": {},
   "source": [
    "Напишем функцию с использованием bootstrap для нахождения распределения прибыли "
   ]
  },
  {
   "cell_type": "code",
   "execution_count": 30,
   "metadata": {},
   "outputs": [],
   "source": [
    "def bootstrap(predictions, target, n=TOTAL_FIELDS):\n",
    "    \"\"\"\n",
    "    Функция применяет технику Bootstrap с 1000 выборок с заданным количеством месторождений\n",
    "    и применяет функцию calculate_profit для нахождения распределения прибыли \n",
    "    \"\"\"\n",
    "\n",
    "    state = np.random.RandomState(12345)\n",
    "    values = []\n",
    "    \n",
    "    for i in range(1000):\n",
    "        target_subsample = target.sample(n=n, replace=True, random_state=state)\n",
    "        predictions_subsample = predictions[target_subsample.index]\n",
    "        values.append(calculate_profit(predictions_subsample, target_subsample))\n",
    "    values = pd.Series(values)\n",
    "    return values"
   ]
  },
  {
   "cell_type": "markdown",
   "metadata": {},
   "source": [
    "С помощью цикла рассчитаем среднюю прибыль, 95%-й доверительный интервал и риск убытков для каждого региона"
   ]
  },
  {
   "cell_type": "code",
   "execution_count": 31,
   "metadata": {},
   "outputs": [],
   "source": [
    "comparison_regions_2 = pd.DataFrame(index=['mean_revenue', 'lower_bound_ci', 'upper_bound_ci', 'loss_risk'])"
   ]
  },
  {
   "cell_type": "code",
   "execution_count": 32,
   "metadata": {},
   "outputs": [],
   "source": [
    "for name, data in region_dict.items():\n",
    "    predictions, target = data\n",
    "    values = bootstrap(predictions, target)\n",
    "    loss_risk = ((values - BUDGET) < 0).mean() * 100\n",
    "    new_col =(\n",
    "        values.mean().round(0),\n",
    "        values.quantile(0.025).round(0),\n",
    "        values.quantile(0.975).round(0),\n",
    "        str(f'{loss_risk} %')\n",
    "    )\n",
    "    comparison_regions_2[name] = new_col"
   ]
  },
  {
   "cell_type": "code",
   "execution_count": 33,
   "metadata": {},
   "outputs": [
    {
     "data": {
      "text/html": [
       "<div>\n",
       "<style scoped>\n",
       "    .dataframe tbody tr th:only-of-type {\n",
       "        vertical-align: middle;\n",
       "    }\n",
       "\n",
       "    .dataframe tbody tr th {\n",
       "        vertical-align: top;\n",
       "    }\n",
       "\n",
       "    .dataframe thead th {\n",
       "        text-align: right;\n",
       "    }\n",
       "</style>\n",
       "<table border=\"1\" class=\"dataframe\">\n",
       "  <thead>\n",
       "    <tr style=\"text-align: right;\">\n",
       "      <th></th>\n",
       "      <th>mean_revenue</th>\n",
       "      <th>lower_bound_ci</th>\n",
       "      <th>upper_bound_ci</th>\n",
       "      <th>loss_risk</th>\n",
       "    </tr>\n",
       "  </thead>\n",
       "  <tbody>\n",
       "    <tr>\n",
       "      <th>region_1</th>\n",
       "      <td>10458100402.0</td>\n",
       "      <td>9908061547.0</td>\n",
       "      <td>11015824889.0</td>\n",
       "      <td>4.6 %</td>\n",
       "    </tr>\n",
       "    <tr>\n",
       "      <th>region_2</th>\n",
       "      <td>10533609293.0</td>\n",
       "      <td>10098001407.0</td>\n",
       "      <td>10966461913.0</td>\n",
       "      <td>0.1 %</td>\n",
       "    </tr>\n",
       "    <tr>\n",
       "      <th>region_3</th>\n",
       "      <td>10426348386.0</td>\n",
       "      <td>9883377372.0</td>\n",
       "      <td>10980501750.0</td>\n",
       "      <td>6.1 %</td>\n",
       "    </tr>\n",
       "  </tbody>\n",
       "</table>\n",
       "</div>"
      ],
      "text/plain": [
       "           mean_revenue lower_bound_ci upper_bound_ci loss_risk\n",
       "region_1  10458100402.0   9908061547.0  11015824889.0     4.6 %\n",
       "region_2  10533609293.0  10098001407.0  10966461913.0     0.1 %\n",
       "region_3  10426348386.0   9883377372.0  10980501750.0     6.1 %"
      ]
     },
     "execution_count": 33,
     "metadata": {},
     "output_type": "execute_result"
    }
   ],
   "source": [
    "comparison_regions_2.T"
   ]
  },
  {
   "cell_type": "markdown",
   "metadata": {},
   "source": [
    "## Вывод"
   ]
  },
  {
   "cell_type": "markdown",
   "metadata": {},
   "source": [
    "В результате выполнения проекта исследованы 3 региона для разработки месторождений нефти. \n",
    "Несмотря на то, что средний запас месторождений в `регионе 2` значительно меньше чем в 2 других, модель на данных `региона 2` добилась значительно большой точности\n",
    "\n",
    "|     | region_1 | region_2 | region_3 |\n",
    "| --- | --- | --- | --- |\n",
    "| predict_mean | 92.492625 | 69.120405 | 94.956830 |\n",
    "| target_mean | 92.423414 | 69.117765 | 95.245631 |\n",
    "| rmse | 37.742587 | 0.894338 | 39.866711 |\n",
    "\n",
    "Применив технику Bootstrap, мы нашли распределение прибыли, 95% доверительный интервал и риск убытков\n",
    "\n",
    "|     | mean_revenue | lower\\_bound\\_ci | upper\\_bound\\_ci | loss_risk |                        \n",
    "| --- | --- | --- | --- | --- |\n",
    "| region_1 | 10458100402.0 | 9908061547.0 | 11015824889.0 | 4.6 % |\n",
    "| region_2 | 10533609293.0 | 10098001407.0 | 10966461913.0 | 0.1 % |\n",
    "| region_3 | 10426348386.0 | 9883377372.0 | 10980501750.0 | 6.1 % |\n",
    "\n",
    "`Регион 2` не только опередил два других региона по средней прибыли, но и продемонстрировал минимальный риск убытков по сравнению с остальными регионами. По условию задания, необходимо оставить только регионы, в которых вероятность убытков меньше `2.5%`. Таким образом, с учетом условий, `регион 2` не только наиболее перспективный, но и единственный кандидат на разработку скважин."
   ]
  }
 ],
 "metadata": {
  "ExecuteTimeLog": [
   {
    "duration": 11851,
    "start_time": "2023-09-21T10:41:09.870Z"
   },
   {
    "duration": 1758,
    "start_time": "2023-09-21T10:41:21.723Z"
   },
   {
    "duration": 4,
    "start_time": "2023-09-21T10:41:46.947Z"
   },
   {
    "duration": 3,
    "start_time": "2023-09-21T10:42:00.177Z"
   },
   {
    "duration": 8,
    "start_time": "2023-09-21T10:42:08.855Z"
   },
   {
    "duration": 901,
    "start_time": "2023-09-21T11:59:55.382Z"
   },
   {
    "duration": 3,
    "start_time": "2023-09-21T12:02:12.794Z"
   },
   {
    "duration": 131,
    "start_time": "2023-09-21T12:02:25.563Z"
   },
   {
    "duration": 9,
    "start_time": "2023-09-21T12:02:35.082Z"
   },
   {
    "duration": 3,
    "start_time": "2023-09-21T12:02:39.910Z"
   },
   {
    "duration": 9,
    "start_time": "2023-09-21T12:02:40.571Z"
   },
   {
    "duration": 9,
    "start_time": "2023-09-21T12:03:07.183Z"
   },
   {
    "duration": 3,
    "start_time": "2023-09-21T12:04:19.121Z"
   },
   {
    "duration": 9,
    "start_time": "2023-09-21T12:04:21.331Z"
   },
   {
    "duration": 14,
    "start_time": "2023-09-21T12:04:28.106Z"
   },
   {
    "duration": 3,
    "start_time": "2023-09-21T12:04:41.626Z"
   },
   {
    "duration": 2,
    "start_time": "2023-09-21T12:04:42.127Z"
   },
   {
    "duration": 47,
    "start_time": "2023-09-21T12:04:42.446Z"
   },
   {
    "duration": 25,
    "start_time": "2023-09-21T12:06:08.297Z"
   },
   {
    "duration": 15,
    "start_time": "2023-09-21T12:07:46.260Z"
   },
   {
    "duration": 24,
    "start_time": "2023-09-21T12:08:41.366Z"
   },
   {
    "duration": 3,
    "start_time": "2023-09-21T12:10:57.208Z"
   },
   {
    "duration": 3,
    "start_time": "2023-09-21T12:11:20.872Z"
   },
   {
    "duration": 3,
    "start_time": "2023-09-21T12:11:35.943Z"
   },
   {
    "duration": 15,
    "start_time": "2023-09-21T12:11:38.117Z"
   },
   {
    "duration": 3,
    "start_time": "2023-09-21T12:11:49.514Z"
   },
   {
    "duration": 16,
    "start_time": "2023-09-21T12:11:50.383Z"
   },
   {
    "duration": 4,
    "start_time": "2023-09-21T12:12:05.908Z"
   },
   {
    "duration": 24,
    "start_time": "2023-09-21T12:12:06.395Z"
   },
   {
    "duration": 3,
    "start_time": "2023-09-21T12:12:13.887Z"
   },
   {
    "duration": 26,
    "start_time": "2023-09-21T12:12:14.391Z"
   },
   {
    "duration": 3,
    "start_time": "2023-09-21T12:12:27.297Z"
   },
   {
    "duration": 27,
    "start_time": "2023-09-21T12:12:27.835Z"
   },
   {
    "duration": 17,
    "start_time": "2023-09-21T12:13:30.056Z"
   },
   {
    "duration": 13,
    "start_time": "2023-09-21T12:13:39.480Z"
   },
   {
    "duration": 143,
    "start_time": "2023-09-21T12:14:47.162Z"
   },
   {
    "duration": 4,
    "start_time": "2023-09-21T12:14:53.890Z"
   },
   {
    "duration": 11,
    "start_time": "2023-09-21T12:15:01.887Z"
   },
   {
    "duration": 15,
    "start_time": "2023-09-21T12:15:54.992Z"
   },
   {
    "duration": 15,
    "start_time": "2023-09-21T12:20:50.461Z"
   },
   {
    "duration": 4,
    "start_time": "2023-09-21T12:20:58.386Z"
   },
   {
    "duration": 5,
    "start_time": "2023-09-21T12:20:59.331Z"
   },
   {
    "duration": 4,
    "start_time": "2023-09-21T12:21:39.019Z"
   },
   {
    "duration": 15,
    "start_time": "2023-09-21T12:21:39.814Z"
   },
   {
    "duration": 18,
    "start_time": "2023-09-21T12:21:45.461Z"
   },
   {
    "duration": 4,
    "start_time": "2023-09-21T12:22:15.986Z"
   },
   {
    "duration": 25,
    "start_time": "2023-09-21T12:22:21.194Z"
   },
   {
    "duration": 3,
    "start_time": "2023-09-21T12:22:37.118Z"
   },
   {
    "duration": 10,
    "start_time": "2023-09-21T12:22:42.846Z"
   },
   {
    "duration": 36,
    "start_time": "2023-09-21T12:22:46.079Z"
   },
   {
    "duration": 10,
    "start_time": "2023-09-21T12:22:59.157Z"
   },
   {
    "duration": 16,
    "start_time": "2023-09-21T12:23:01.689Z"
   },
   {
    "duration": 148,
    "start_time": "2023-09-21T12:23:30.707Z"
   },
   {
    "duration": 0,
    "start_time": "2023-09-21T12:23:30.857Z"
   },
   {
    "duration": 3,
    "start_time": "2023-09-21T12:23:41.704Z"
   },
   {
    "duration": 26,
    "start_time": "2023-09-21T12:23:42.742Z"
   },
   {
    "duration": 7,
    "start_time": "2023-09-21T12:23:45.766Z"
   },
   {
    "duration": 50,
    "start_time": "2023-09-21T12:24:09.050Z"
   },
   {
    "duration": 20,
    "start_time": "2023-09-21T12:24:50.213Z"
   },
   {
    "duration": 19,
    "start_time": "2023-09-21T12:24:57.600Z"
   },
   {
    "duration": 23,
    "start_time": "2023-09-21T12:25:04.592Z"
   },
   {
    "duration": 124,
    "start_time": "2023-09-21T12:25:09.027Z"
   },
   {
    "duration": 11,
    "start_time": "2023-09-21T12:31:39.285Z"
   },
   {
    "duration": 22,
    "start_time": "2023-09-21T12:32:27.888Z"
   },
   {
    "duration": 1184,
    "start_time": "2023-09-21T12:32:41.757Z"
   },
   {
    "duration": 743,
    "start_time": "2023-09-21T12:33:13.090Z"
   },
   {
    "duration": 699,
    "start_time": "2023-09-21T12:34:22.289Z"
   },
   {
    "duration": 377,
    "start_time": "2023-09-21T12:36:45.981Z"
   },
   {
    "duration": 240,
    "start_time": "2023-09-21T12:36:52.919Z"
   },
   {
    "duration": 235,
    "start_time": "2023-09-21T12:37:07.526Z"
   },
   {
    "duration": 548,
    "start_time": "2023-09-21T12:37:12.782Z"
   },
   {
    "duration": 774,
    "start_time": "2023-09-21T12:39:11.879Z"
   },
   {
    "duration": 484,
    "start_time": "2023-09-21T12:39:22.214Z"
   },
   {
    "duration": 769,
    "start_time": "2023-09-21T12:39:33.282Z"
   },
   {
    "duration": 734,
    "start_time": "2023-09-21T12:41:46.946Z"
   },
   {
    "duration": 820,
    "start_time": "2023-09-21T12:42:09.718Z"
   },
   {
    "duration": 764,
    "start_time": "2023-09-21T12:42:16.911Z"
   },
   {
    "duration": 868,
    "start_time": "2023-09-21T12:42:19.951Z"
   },
   {
    "duration": 748,
    "start_time": "2023-09-21T12:42:36.330Z"
   },
   {
    "duration": 776,
    "start_time": "2023-09-21T12:42:42.289Z"
   },
   {
    "duration": 777,
    "start_time": "2023-09-21T12:43:30.271Z"
   },
   {
    "duration": 804,
    "start_time": "2023-09-21T12:43:43.504Z"
   },
   {
    "duration": 891,
    "start_time": "2023-09-21T12:43:54.549Z"
   },
   {
    "duration": 781,
    "start_time": "2023-09-21T12:44:05.415Z"
   },
   {
    "duration": 132,
    "start_time": "2023-09-21T12:45:54.621Z"
   },
   {
    "duration": 767,
    "start_time": "2023-09-21T12:45:58.906Z"
   },
   {
    "duration": 777,
    "start_time": "2023-09-21T12:46:05.659Z"
   },
   {
    "duration": 768,
    "start_time": "2023-09-21T12:46:17.522Z"
   },
   {
    "duration": 769,
    "start_time": "2023-09-21T12:46:23.814Z"
   },
   {
    "duration": 927,
    "start_time": "2023-09-21T12:46:31.310Z"
   },
   {
    "duration": 20,
    "start_time": "2023-09-21T12:48:17.208Z"
   },
   {
    "duration": 154,
    "start_time": "2023-09-21T12:48:23.132Z"
   },
   {
    "duration": 20,
    "start_time": "2023-09-21T12:48:30.905Z"
   },
   {
    "duration": 29,
    "start_time": "2023-09-21T12:48:35.936Z"
   },
   {
    "duration": 10,
    "start_time": "2023-09-21T12:49:11.159Z"
   },
   {
    "duration": 18,
    "start_time": "2023-09-21T12:49:19.604Z"
   },
   {
    "duration": 3,
    "start_time": "2023-09-21T12:52:32.202Z"
   },
   {
    "duration": 34,
    "start_time": "2023-09-21T12:54:26.677Z"
   },
   {
    "duration": 31,
    "start_time": "2023-09-21T12:54:32.493Z"
   },
   {
    "duration": 859,
    "start_time": "2023-09-21T12:55:26.253Z"
   },
   {
    "duration": 4,
    "start_time": "2023-09-21T12:55:40.526Z"
   },
   {
    "duration": 10,
    "start_time": "2023-09-21T12:55:55.890Z"
   },
   {
    "duration": 11,
    "start_time": "2023-09-21T12:56:00.771Z"
   },
   {
    "duration": 4,
    "start_time": "2023-09-21T12:56:10.877Z"
   },
   {
    "duration": 10,
    "start_time": "2023-09-21T12:56:11.091Z"
   },
   {
    "duration": 3,
    "start_time": "2023-09-21T12:56:17.853Z"
   },
   {
    "duration": 29,
    "start_time": "2023-09-21T12:56:17.858Z"
   },
   {
    "duration": 87,
    "start_time": "2023-09-21T12:56:35.844Z"
   },
   {
    "duration": 3,
    "start_time": "2023-09-21T12:56:39.469Z"
   },
   {
    "duration": 12,
    "start_time": "2023-09-21T12:56:40.371Z"
   },
   {
    "duration": 28,
    "start_time": "2023-09-21T12:56:42.844Z"
   },
   {
    "duration": 30,
    "start_time": "2023-09-21T12:56:59.287Z"
   },
   {
    "duration": 8,
    "start_time": "2023-09-21T12:57:21.767Z"
   },
   {
    "duration": 88,
    "start_time": "2023-09-21T12:58:23.201Z"
   },
   {
    "duration": 6,
    "start_time": "2023-09-21T12:58:41.854Z"
   },
   {
    "duration": 25,
    "start_time": "2023-09-21T12:58:44.444Z"
   },
   {
    "duration": 3,
    "start_time": "2023-09-21T12:58:50.484Z"
   },
   {
    "duration": 26,
    "start_time": "2023-09-21T12:58:51.225Z"
   },
   {
    "duration": 9,
    "start_time": "2023-09-21T12:59:07.659Z"
   },
   {
    "duration": 10,
    "start_time": "2023-09-21T12:59:13.714Z"
   },
   {
    "duration": 3,
    "start_time": "2023-09-21T13:00:32.018Z"
   },
   {
    "duration": 11,
    "start_time": "2023-09-21T13:00:40.296Z"
   },
   {
    "duration": 16,
    "start_time": "2023-09-21T13:00:58.901Z"
   },
   {
    "duration": 10,
    "start_time": "2023-09-21T13:01:07.921Z"
   },
   {
    "duration": 3,
    "start_time": "2023-09-21T13:01:29.809Z"
   },
   {
    "duration": 31,
    "start_time": "2023-09-21T13:01:35.769Z"
   },
   {
    "duration": 35,
    "start_time": "2023-09-21T13:01:40.636Z"
   },
   {
    "duration": 10,
    "start_time": "2023-09-21T13:01:45.259Z"
   },
   {
    "duration": 29,
    "start_time": "2023-09-21T13:01:58.310Z"
   },
   {
    "duration": 51,
    "start_time": "2023-09-21T13:02:02.342Z"
   },
   {
    "duration": 119,
    "start_time": "2023-09-21T13:02:21.791Z"
   },
   {
    "duration": 202,
    "start_time": "2023-09-21T13:02:55.161Z"
   },
   {
    "duration": 148,
    "start_time": "2023-09-21T13:03:38.937Z"
   },
   {
    "duration": 148,
    "start_time": "2023-09-21T13:03:50.359Z"
   },
   {
    "duration": 3,
    "start_time": "2023-09-21T13:09:41.413Z"
   },
   {
    "duration": 25,
    "start_time": "2023-09-21T13:09:48.501Z"
   },
   {
    "duration": 8,
    "start_time": "2023-09-21T13:10:53.243Z"
   },
   {
    "duration": 3,
    "start_time": "2023-09-21T13:11:28.919Z"
   },
   {
    "duration": 31,
    "start_time": "2023-09-21T13:11:31.212Z"
   },
   {
    "duration": 30,
    "start_time": "2023-09-21T13:11:33.864Z"
   },
   {
    "duration": 121,
    "start_time": "2023-09-21T13:12:32.456Z"
   },
   {
    "duration": 319,
    "start_time": "2023-09-21T13:13:41.437Z"
   },
   {
    "duration": 4,
    "start_time": "2023-09-21T13:13:47.514Z"
   },
   {
    "duration": 31,
    "start_time": "2023-09-21T13:13:56.743Z"
   },
   {
    "duration": 31,
    "start_time": "2023-09-21T13:14:30.603Z"
   },
   {
    "duration": 3,
    "start_time": "2023-09-21T13:15:11.902Z"
   },
   {
    "duration": 30,
    "start_time": "2023-09-21T13:15:16.126Z"
   },
   {
    "duration": 10,
    "start_time": "2023-09-21T13:15:58.658Z"
   },
   {
    "duration": 33,
    "start_time": "2023-09-21T13:16:26.758Z"
   },
   {
    "duration": 31,
    "start_time": "2023-09-21T13:16:34.529Z"
   },
   {
    "duration": 3,
    "start_time": "2023-09-21T13:16:45.791Z"
   },
   {
    "duration": 31,
    "start_time": "2023-09-21T13:16:55.414Z"
   },
   {
    "duration": 11,
    "start_time": "2023-09-21T13:17:06.505Z"
   },
   {
    "duration": 4,
    "start_time": "2023-09-21T13:17:16.508Z"
   },
   {
    "duration": 30,
    "start_time": "2023-09-21T13:17:19.430Z"
   },
   {
    "duration": 4,
    "start_time": "2023-09-21T13:17:35.754Z"
   },
   {
    "duration": 17,
    "start_time": "2023-09-21T13:17:38.271Z"
   },
   {
    "duration": 4,
    "start_time": "2023-09-21T13:17:41.277Z"
   },
   {
    "duration": 34,
    "start_time": "2023-09-21T13:17:41.892Z"
   },
   {
    "duration": 4,
    "start_time": "2023-09-21T13:17:52.426Z"
   },
   {
    "duration": 38,
    "start_time": "2023-09-21T13:17:55.085Z"
   },
   {
    "duration": 3,
    "start_time": "2023-09-21T13:18:01.596Z"
   },
   {
    "duration": 8583,
    "start_time": "2023-09-21T13:22:51.754Z"
   },
   {
    "duration": 21,
    "start_time": "2023-09-21T13:24:01.823Z"
   },
   {
    "duration": 7,
    "start_time": "2023-09-21T13:32:53.422Z"
   },
   {
    "duration": 4,
    "start_time": "2023-09-21T13:34:35.247Z"
   },
   {
    "duration": 4,
    "start_time": "2023-09-21T13:34:36.972Z"
   },
   {
    "duration": 23,
    "start_time": "2023-09-21T13:34:45.237Z"
   },
   {
    "duration": 4,
    "start_time": "2023-09-21T13:34:59.794Z"
   },
   {
    "duration": 27,
    "start_time": "2023-09-21T13:35:01.016Z"
   },
   {
    "duration": 8,
    "start_time": "2023-09-21T13:35:17.458Z"
   },
   {
    "duration": 3,
    "start_time": "2023-09-21T13:35:26.742Z"
   },
   {
    "duration": 23,
    "start_time": "2023-09-21T13:35:29.294Z"
   },
   {
    "duration": 8,
    "start_time": "2023-09-21T13:35:32.687Z"
   },
   {
    "duration": 3,
    "start_time": "2023-09-21T13:35:47.485Z"
   },
   {
    "duration": 3,
    "start_time": "2023-09-21T13:50:25.063Z"
   },
   {
    "duration": 20,
    "start_time": "2023-09-21T13:56:13.024Z"
   },
   {
    "duration": 4,
    "start_time": "2023-09-21T13:56:21.652Z"
   },
   {
    "duration": 17,
    "start_time": "2023-09-21T13:56:23.172Z"
   },
   {
    "duration": 4,
    "start_time": "2023-09-21T13:58:08.422Z"
   },
   {
    "duration": 18,
    "start_time": "2023-09-21T13:58:08.658Z"
   },
   {
    "duration": 4,
    "start_time": "2023-09-21T14:02:40.323Z"
   },
   {
    "duration": 35,
    "start_time": "2023-09-21T14:02:40.805Z"
   },
   {
    "duration": 4,
    "start_time": "2023-09-21T14:02:49.788Z"
   },
   {
    "duration": 31,
    "start_time": "2023-09-21T14:02:50.264Z"
   },
   {
    "duration": 3,
    "start_time": "2023-09-21T14:03:10.405Z"
   },
   {
    "duration": 14,
    "start_time": "2023-09-21T14:03:10.893Z"
   },
   {
    "duration": 64,
    "start_time": "2023-09-22T15:45:16.640Z"
   },
   {
    "duration": 20187,
    "start_time": "2023-09-22T15:45:24.391Z"
   },
   {
    "duration": 1653,
    "start_time": "2023-09-22T15:45:44.582Z"
   },
   {
    "duration": 4,
    "start_time": "2023-09-22T15:45:46.237Z"
   },
   {
    "duration": 22,
    "start_time": "2023-09-22T15:45:46.243Z"
   },
   {
    "duration": 867,
    "start_time": "2023-09-22T15:45:46.267Z"
   },
   {
    "duration": 3,
    "start_time": "2023-09-22T15:45:47.136Z"
   },
   {
    "duration": 5,
    "start_time": "2023-09-22T15:45:47.141Z"
   },
   {
    "duration": 48,
    "start_time": "2023-09-22T15:45:47.148Z"
   },
   {
    "duration": 9,
    "start_time": "2023-09-22T15:45:47.201Z"
   },
   {
    "duration": 51,
    "start_time": "2023-09-22T15:45:47.213Z"
   },
   {
    "duration": 141,
    "start_time": "2023-09-22T15:45:47.301Z"
   },
   {
    "duration": 778,
    "start_time": "2023-09-22T15:45:47.444Z"
   },
   {
    "duration": 156,
    "start_time": "2023-09-22T15:45:48.225Z"
   },
   {
    "duration": 146,
    "start_time": "2023-09-22T15:45:48.383Z"
   },
   {
    "duration": 0,
    "start_time": "2023-09-22T15:45:48.532Z"
   },
   {
    "duration": 0,
    "start_time": "2023-09-22T15:45:48.534Z"
   },
   {
    "duration": 0,
    "start_time": "2023-09-22T15:45:48.535Z"
   },
   {
    "duration": 33,
    "start_time": "2023-09-22T15:46:03.720Z"
   },
   {
    "duration": 13,
    "start_time": "2023-09-22T15:46:34.085Z"
   },
   {
    "duration": 13,
    "start_time": "2023-09-22T15:46:43.656Z"
   },
   {
    "duration": 26,
    "start_time": "2023-09-22T15:46:53.609Z"
   },
   {
    "duration": 29,
    "start_time": "2023-09-22T15:47:26.672Z"
   },
   {
    "duration": 15,
    "start_time": "2023-09-22T15:49:51.902Z"
   },
   {
    "duration": 4,
    "start_time": "2023-09-22T15:52:24.592Z"
   },
   {
    "duration": 3,
    "start_time": "2023-09-22T16:06:33.437Z"
   },
   {
    "duration": 4,
    "start_time": "2023-09-22T16:06:35.900Z"
   },
   {
    "duration": 32,
    "start_time": "2023-09-22T16:10:48.284Z"
   },
   {
    "duration": 5,
    "start_time": "2023-09-22T16:11:15.959Z"
   },
   {
    "duration": 3,
    "start_time": "2023-09-22T16:11:16.396Z"
   },
   {
    "duration": 3,
    "start_time": "2023-09-22T16:11:16.656Z"
   },
   {
    "duration": 46,
    "start_time": "2023-09-22T16:11:17.536Z"
   },
   {
    "duration": 17,
    "start_time": "2023-09-22T16:11:55.909Z"
   },
   {
    "duration": 4,
    "start_time": "2023-09-22T16:12:23.609Z"
   },
   {
    "duration": 3,
    "start_time": "2023-09-22T16:12:23.903Z"
   },
   {
    "duration": 3,
    "start_time": "2023-09-22T16:12:24.181Z"
   },
   {
    "duration": 17,
    "start_time": "2023-09-22T16:12:25.122Z"
   },
   {
    "duration": 4,
    "start_time": "2023-09-22T16:12:58.302Z"
   },
   {
    "duration": 4,
    "start_time": "2023-09-22T16:13:03.481Z"
   },
   {
    "duration": 20,
    "start_time": "2023-09-22T16:13:22.675Z"
   },
   {
    "duration": 12,
    "start_time": "2023-09-22T16:13:33.005Z"
   },
   {
    "duration": 4,
    "start_time": "2023-09-22T16:13:41.207Z"
   },
   {
    "duration": 17,
    "start_time": "2023-09-22T16:13:44.216Z"
   },
   {
    "duration": 15,
    "start_time": "2023-09-22T16:13:46.160Z"
   },
   {
    "duration": 4,
    "start_time": "2023-09-22T16:19:50.357Z"
   },
   {
    "duration": 4,
    "start_time": "2023-09-22T16:19:50.725Z"
   },
   {
    "duration": 3,
    "start_time": "2023-09-22T16:19:52.722Z"
   },
   {
    "duration": 97,
    "start_time": "2023-09-22T16:21:55.484Z"
   },
   {
    "duration": 25,
    "start_time": "2023-09-22T16:22:31.224Z"
   },
   {
    "duration": 11,
    "start_time": "2023-09-22T16:22:56.222Z"
   },
   {
    "duration": 4,
    "start_time": "2023-09-22T16:27:38.908Z"
   },
   {
    "duration": 10,
    "start_time": "2023-09-22T16:27:46.563Z"
   },
   {
    "duration": 3,
    "start_time": "2023-09-22T16:27:53.036Z"
   },
   {
    "duration": 2,
    "start_time": "2023-09-22T16:30:18.574Z"
   },
   {
    "duration": 22,
    "start_time": "2023-09-22T16:30:22.519Z"
   },
   {
    "duration": 9,
    "start_time": "2023-09-22T16:33:05.212Z"
   },
   {
    "duration": 5,
    "start_time": "2023-09-22T16:35:41.200Z"
   },
   {
    "duration": 4,
    "start_time": "2023-09-22T16:35:51.830Z"
   },
   {
    "duration": 5,
    "start_time": "2023-09-22T16:39:34.250Z"
   },
   {
    "duration": 5,
    "start_time": "2023-09-22T16:42:44.759Z"
   },
   {
    "duration": 4,
    "start_time": "2023-09-22T16:43:57.131Z"
   },
   {
    "duration": 13,
    "start_time": "2023-09-22T16:45:14.222Z"
   },
   {
    "duration": 13,
    "start_time": "2023-09-22T16:45:25.416Z"
   },
   {
    "duration": 20,
    "start_time": "2023-09-22T16:45:32.903Z"
   },
   {
    "duration": 4,
    "start_time": "2023-09-22T16:45:36.306Z"
   },
   {
    "duration": 5,
    "start_time": "2023-09-22T16:45:38.193Z"
   },
   {
    "duration": 13,
    "start_time": "2023-09-22T16:53:48.765Z"
   },
   {
    "duration": 16,
    "start_time": "2023-09-22T16:53:52.100Z"
   },
   {
    "duration": 5,
    "start_time": "2023-09-22T16:53:57.879Z"
   },
   {
    "duration": 18,
    "start_time": "2023-09-22T16:54:05.950Z"
   },
   {
    "duration": 15,
    "start_time": "2023-09-22T16:54:10.309Z"
   },
   {
    "duration": 6,
    "start_time": "2023-09-22T16:57:29.949Z"
   },
   {
    "duration": 4,
    "start_time": "2023-09-22T16:57:38.619Z"
   },
   {
    "duration": 6,
    "start_time": "2023-09-22T16:57:45.651Z"
   },
   {
    "duration": 84,
    "start_time": "2023-09-22T17:06:15.214Z"
   },
   {
    "duration": 4,
    "start_time": "2023-09-22T17:10:18.345Z"
   },
   {
    "duration": 73,
    "start_time": "2023-09-22T17:10:28.963Z"
   },
   {
    "duration": 36,
    "start_time": "2023-09-22T17:10:44.131Z"
   },
   {
    "duration": 4,
    "start_time": "2023-09-22T17:11:03.074Z"
   },
   {
    "duration": 46,
    "start_time": "2023-09-22T17:11:04.259Z"
   },
   {
    "duration": 5,
    "start_time": "2023-09-22T17:15:26.865Z"
   },
   {
    "duration": 9,
    "start_time": "2023-09-22T17:15:29.103Z"
   },
   {
    "duration": 57,
    "start_time": "2023-09-22T17:15:57.570Z"
   },
   {
    "duration": 60,
    "start_time": "2023-09-22T17:16:19.881Z"
   },
   {
    "duration": 40,
    "start_time": "2023-09-22T17:16:33.251Z"
   },
   {
    "duration": 10,
    "start_time": "2023-09-22T17:16:43.585Z"
   },
   {
    "duration": 3,
    "start_time": "2023-09-22T17:19:37.881Z"
   },
   {
    "duration": 4,
    "start_time": "2023-09-22T17:22:42.519Z"
   },
   {
    "duration": 3,
    "start_time": "2023-09-22T17:26:42.889Z"
   },
   {
    "duration": 3,
    "start_time": "2023-09-22T17:27:22.016Z"
   },
   {
    "duration": 3,
    "start_time": "2023-09-22T17:34:07.688Z"
   },
   {
    "duration": 8,
    "start_time": "2023-09-22T17:34:15.604Z"
   },
   {
    "duration": 4,
    "start_time": "2023-09-22T17:35:00.571Z"
   },
   {
    "duration": 5,
    "start_time": "2023-09-22T17:36:52.088Z"
   },
   {
    "duration": 3,
    "start_time": "2023-09-22T17:36:57.083Z"
   },
   {
    "duration": 9,
    "start_time": "2023-09-22T17:36:57.421Z"
   },
   {
    "duration": 4,
    "start_time": "2023-09-22T17:36:57.759Z"
   },
   {
    "duration": 134,
    "start_time": "2023-09-22T17:42:21.627Z"
   },
   {
    "duration": 4,
    "start_time": "2023-09-22T17:46:16.034Z"
   },
   {
    "duration": 4,
    "start_time": "2023-09-22T17:47:54.776Z"
   },
   {
    "duration": 104,
    "start_time": "2023-09-22T17:48:22.577Z"
   },
   {
    "duration": 3,
    "start_time": "2023-09-22T17:48:34.774Z"
   },
   {
    "duration": 12,
    "start_time": "2023-09-22T17:49:01.176Z"
   },
   {
    "duration": 23,
    "start_time": "2023-09-22T17:51:20.717Z"
   },
   {
    "duration": 23,
    "start_time": "2023-09-22T17:51:40.346Z"
   },
   {
    "duration": 5,
    "start_time": "2023-09-22T17:52:19.753Z"
   },
   {
    "duration": 42,
    "start_time": "2023-09-22T17:52:20.245Z"
   },
   {
    "duration": 34,
    "start_time": "2023-09-22T17:53:16.217Z"
   },
   {
    "duration": 4,
    "start_time": "2023-09-22T18:01:37.011Z"
   },
   {
    "duration": 35,
    "start_time": "2023-09-22T18:01:40.337Z"
   },
   {
    "duration": 4,
    "start_time": "2023-09-22T18:01:48.625Z"
   },
   {
    "duration": 22,
    "start_time": "2023-09-22T18:01:49.022Z"
   },
   {
    "duration": 33,
    "start_time": "2023-09-22T18:02:00.999Z"
   },
   {
    "duration": 12,
    "start_time": "2023-09-22T18:02:11.228Z"
   },
   {
    "duration": 8,
    "start_time": "2023-09-22T18:02:18.251Z"
   },
   {
    "duration": 7,
    "start_time": "2023-09-22T18:02:22.325Z"
   },
   {
    "duration": 6,
    "start_time": "2023-09-22T18:03:14.688Z"
   },
   {
    "duration": 1756,
    "start_time": "2023-09-22T18:04:21.744Z"
   },
   {
    "duration": 1293,
    "start_time": "2023-09-22T18:04:31.489Z"
   },
   {
    "duration": 4,
    "start_time": "2023-09-22T18:04:38.267Z"
   },
   {
    "duration": 5,
    "start_time": "2023-09-22T18:04:42.159Z"
   },
   {
    "duration": 9,
    "start_time": "2023-09-22T18:04:46.031Z"
   },
   {
    "duration": 7,
    "start_time": "2023-09-22T18:04:56.171Z"
   },
   {
    "duration": 7,
    "start_time": "2023-09-22T18:04:59.933Z"
   },
   {
    "duration": 4,
    "start_time": "2023-09-22T18:05:57.402Z"
   },
   {
    "duration": 18,
    "start_time": "2023-09-22T18:06:01.086Z"
   },
   {
    "duration": 5,
    "start_time": "2023-09-22T18:06:41.588Z"
   },
   {
    "duration": 10,
    "start_time": "2023-09-22T18:06:49.810Z"
   },
   {
    "duration": 4,
    "start_time": "2023-09-22T18:07:02.060Z"
   },
   {
    "duration": 21,
    "start_time": "2023-09-22T18:07:04.201Z"
   },
   {
    "duration": 5,
    "start_time": "2023-09-22T18:07:17.166Z"
   },
   {
    "duration": 20,
    "start_time": "2023-09-22T18:07:18.254Z"
   },
   {
    "duration": 4,
    "start_time": "2023-09-22T18:07:54.890Z"
   },
   {
    "duration": 22,
    "start_time": "2023-09-22T18:07:56.443Z"
   },
   {
    "duration": 5,
    "start_time": "2023-09-22T18:08:15.228Z"
   },
   {
    "duration": 28,
    "start_time": "2023-09-22T18:08:16.070Z"
   },
   {
    "duration": 4,
    "start_time": "2023-09-22T18:08:22.516Z"
   },
   {
    "duration": 27,
    "start_time": "2023-09-22T18:08:24.535Z"
   },
   {
    "duration": 3,
    "start_time": "2023-09-22T18:09:23.277Z"
   },
   {
    "duration": 24,
    "start_time": "2023-09-22T18:09:24.566Z"
   },
   {
    "duration": 4,
    "start_time": "2023-09-22T18:09:58.418Z"
   },
   {
    "duration": 18,
    "start_time": "2023-09-22T18:10:10.073Z"
   },
   {
    "duration": 3,
    "start_time": "2023-09-22T18:11:14.093Z"
   },
   {
    "duration": 5,
    "start_time": "2023-09-22T18:11:14.741Z"
   },
   {
    "duration": 33,
    "start_time": "2023-09-22T18:11:14.992Z"
   },
   {
    "duration": 4,
    "start_time": "2023-09-22T18:11:16.886Z"
   },
   {
    "duration": 25,
    "start_time": "2023-09-22T18:11:19.371Z"
   },
   {
    "duration": 4,
    "start_time": "2023-09-22T18:11:54.811Z"
   },
   {
    "duration": 8,
    "start_time": "2023-09-22T18:11:55.756Z"
   },
   {
    "duration": 4,
    "start_time": "2023-09-22T18:12:00.322Z"
   },
   {
    "duration": 25,
    "start_time": "2023-09-22T18:13:38.235Z"
   },
   {
    "duration": 20,
    "start_time": "2023-09-22T18:13:48.494Z"
   },
   {
    "duration": 830,
    "start_time": "2023-09-22T20:09:02.458Z"
   },
   {
    "duration": 749,
    "start_time": "2023-09-22T20:12:19.462Z"
   },
   {
    "duration": 760,
    "start_time": "2023-09-22T20:12:25.347Z"
   },
   {
    "duration": 788,
    "start_time": "2023-09-22T20:12:37.269Z"
   },
   {
    "duration": 842,
    "start_time": "2023-09-22T20:13:34.234Z"
   },
   {
    "duration": 783,
    "start_time": "2023-09-22T20:13:38.554Z"
   },
   {
    "duration": 857,
    "start_time": "2023-09-22T20:13:44.731Z"
   },
   {
    "duration": 745,
    "start_time": "2023-09-22T20:13:58.443Z"
   },
   {
    "duration": 11,
    "start_time": "2023-09-22T20:20:09.861Z"
   },
   {
    "duration": 10,
    "start_time": "2023-09-22T20:20:21.818Z"
   },
   {
    "duration": 14,
    "start_time": "2023-09-22T20:20:31.747Z"
   },
   {
    "duration": 3,
    "start_time": "2023-09-22T20:20:36.128Z"
   },
   {
    "duration": 5541,
    "start_time": "2023-09-22T20:20:36.431Z"
   },
   {
    "duration": 13,
    "start_time": "2023-09-22T20:21:17.303Z"
   },
   {
    "duration": 4,
    "start_time": "2023-09-22T20:21:21.428Z"
   },
   {
    "duration": 5597,
    "start_time": "2023-09-22T20:21:21.851Z"
   },
   {
    "duration": 4,
    "start_time": "2023-09-22T20:21:27.451Z"
   },
   {
    "duration": 6,
    "start_time": "2023-09-22T20:21:33.493Z"
   },
   {
    "duration": 11,
    "start_time": "2023-09-22T20:23:19.071Z"
   },
   {
    "duration": 5,
    "start_time": "2023-09-22T20:23:33.414Z"
   },
   {
    "duration": 12,
    "start_time": "2023-09-22T20:26:48.915Z"
   },
   {
    "duration": 4,
    "start_time": "2023-09-22T20:27:08.955Z"
   },
   {
    "duration": 18,
    "start_time": "2023-09-22T20:30:41.242Z"
   },
   {
    "duration": 3,
    "start_time": "2023-09-22T20:31:03.164Z"
   },
   {
    "duration": 5670,
    "start_time": "2023-09-22T20:31:06.426Z"
   },
   {
    "duration": 4,
    "start_time": "2023-09-22T20:31:13.620Z"
   },
   {
    "duration": 5,
    "start_time": "2023-09-22T20:31:14.468Z"
   },
   {
    "duration": 7,
    "start_time": "2023-09-22T20:31:21.426Z"
   },
   {
    "duration": 3,
    "start_time": "2023-09-22T20:31:32.271Z"
   },
   {
    "duration": 12305,
    "start_time": "2023-09-23T10:24:43.207Z"
   },
   {
    "duration": 1485,
    "start_time": "2023-09-23T10:24:55.515Z"
   },
   {
    "duration": 1698,
    "start_time": "2023-09-23T10:24:57.002Z"
   },
   {
    "duration": 3,
    "start_time": "2023-09-23T10:24:58.702Z"
   },
   {
    "duration": 12,
    "start_time": "2023-09-23T10:24:58.708Z"
   },
   {
    "duration": 30,
    "start_time": "2023-09-23T10:24:58.722Z"
   },
   {
    "duration": 9,
    "start_time": "2023-09-23T10:24:58.754Z"
   },
   {
    "duration": 42,
    "start_time": "2023-09-23T10:24:58.765Z"
   },
   {
    "duration": 128,
    "start_time": "2023-09-23T10:24:58.845Z"
   },
   {
    "duration": 692,
    "start_time": "2023-09-23T10:24:58.976Z"
   },
   {
    "duration": 141,
    "start_time": "2023-09-23T10:24:59.669Z"
   },
   {
    "duration": 3,
    "start_time": "2023-09-23T10:24:59.812Z"
   },
   {
    "duration": 4,
    "start_time": "2023-09-23T10:24:59.818Z"
   },
   {
    "duration": 13,
    "start_time": "2023-09-23T10:24:59.843Z"
   },
   {
    "duration": 15,
    "start_time": "2023-09-23T10:24:59.857Z"
   },
   {
    "duration": 9,
    "start_time": "2023-09-23T10:24:59.875Z"
   },
   {
    "duration": 5,
    "start_time": "2023-09-23T10:24:59.885Z"
   },
   {
    "duration": 9,
    "start_time": "2023-09-23T10:24:59.892Z"
   },
   {
    "duration": 7,
    "start_time": "2023-09-23T10:24:59.903Z"
   },
   {
    "duration": 346,
    "start_time": "2023-09-23T10:24:59.912Z"
   },
   {
    "duration": 0,
    "start_time": "2023-09-23T10:25:00.260Z"
   },
   {
    "duration": 0,
    "start_time": "2023-09-23T10:25:00.262Z"
   },
   {
    "duration": 0,
    "start_time": "2023-09-23T10:25:00.263Z"
   },
   {
    "duration": 0,
    "start_time": "2023-09-23T10:25:00.264Z"
   },
   {
    "duration": 0,
    "start_time": "2023-09-23T10:25:00.266Z"
   },
   {
    "duration": 0,
    "start_time": "2023-09-23T10:25:00.268Z"
   },
   {
    "duration": 0,
    "start_time": "2023-09-23T10:25:00.269Z"
   },
   {
    "duration": 0,
    "start_time": "2023-09-23T10:25:00.270Z"
   },
   {
    "duration": 0,
    "start_time": "2023-09-23T10:25:00.272Z"
   },
   {
    "duration": 0,
    "start_time": "2023-09-23T10:25:00.275Z"
   },
   {
    "duration": 0,
    "start_time": "2023-09-23T10:25:00.276Z"
   },
   {
    "duration": 0,
    "start_time": "2023-09-23T10:25:00.278Z"
   },
   {
    "duration": 0,
    "start_time": "2023-09-23T10:25:00.279Z"
   },
   {
    "duration": 0,
    "start_time": "2023-09-23T10:25:00.281Z"
   },
   {
    "duration": 0,
    "start_time": "2023-09-23T10:25:00.283Z"
   },
   {
    "duration": 0,
    "start_time": "2023-09-23T10:25:00.284Z"
   },
   {
    "duration": 3,
    "start_time": "2023-09-23T10:31:23.755Z"
   },
   {
    "duration": 3,
    "start_time": "2023-09-23T10:31:28.676Z"
   },
   {
    "duration": 49,
    "start_time": "2023-09-23T10:31:30.797Z"
   },
   {
    "duration": 28,
    "start_time": "2023-09-23T10:31:33.874Z"
   },
   {
    "duration": 34,
    "start_time": "2023-09-23T10:31:34.167Z"
   },
   {
    "duration": 6,
    "start_time": "2023-09-23T10:31:45.896Z"
   },
   {
    "duration": 3,
    "start_time": "2023-09-23T10:31:46.182Z"
   },
   {
    "duration": 3,
    "start_time": "2023-09-23T10:31:50.374Z"
   },
   {
    "duration": 3,
    "start_time": "2023-09-23T10:31:50.629Z"
   },
   {
    "duration": 3,
    "start_time": "2023-09-23T10:31:50.853Z"
   },
   {
    "duration": 3,
    "start_time": "2023-09-23T10:41:13.355Z"
   },
   {
    "duration": 4,
    "start_time": "2023-09-23T10:41:14.207Z"
   },
   {
    "duration": 29,
    "start_time": "2023-09-23T10:41:15.336Z"
   },
   {
    "duration": 27,
    "start_time": "2023-09-23T10:41:18.593Z"
   },
   {
    "duration": 28,
    "start_time": "2023-09-23T10:41:18.961Z"
   },
   {
    "duration": 7,
    "start_time": "2023-09-23T10:41:20.798Z"
   },
   {
    "duration": 3,
    "start_time": "2023-09-23T10:41:28.841Z"
   },
   {
    "duration": 7,
    "start_time": "2023-09-23T10:41:30.356Z"
   },
   {
    "duration": 12,
    "start_time": "2023-09-23T10:41:36.286Z"
   },
   {
    "duration": 6428,
    "start_time": "2023-09-23T10:44:27.672Z"
   },
   {
    "duration": 1165,
    "start_time": "2023-09-23T10:44:34.104Z"
   },
   {
    "duration": 363,
    "start_time": "2023-09-23T10:44:35.270Z"
   },
   {
    "duration": 3,
    "start_time": "2023-09-23T10:44:35.635Z"
   },
   {
    "duration": 12,
    "start_time": "2023-09-23T10:44:35.639Z"
   },
   {
    "duration": 27,
    "start_time": "2023-09-23T10:44:35.652Z"
   },
   {
    "duration": 6,
    "start_time": "2023-09-23T10:44:35.680Z"
   },
   {
    "duration": 59,
    "start_time": "2023-09-23T10:44:35.688Z"
   },
   {
    "duration": 106,
    "start_time": "2023-09-23T10:44:35.749Z"
   },
   {
    "duration": 598,
    "start_time": "2023-09-23T10:44:35.858Z"
   },
   {
    "duration": 120,
    "start_time": "2023-09-23T10:44:36.458Z"
   },
   {
    "duration": 2,
    "start_time": "2023-09-23T10:44:36.580Z"
   },
   {
    "duration": 6,
    "start_time": "2023-09-23T10:44:36.583Z"
   },
   {
    "duration": 9,
    "start_time": "2023-09-23T10:44:36.590Z"
   },
   {
    "duration": 8,
    "start_time": "2023-09-23T10:44:36.600Z"
   },
   {
    "duration": 8,
    "start_time": "2023-09-23T10:44:36.610Z"
   },
   {
    "duration": 32,
    "start_time": "2023-09-23T10:44:36.619Z"
   },
   {
    "duration": 23,
    "start_time": "2023-09-23T10:44:36.653Z"
   },
   {
    "duration": 18,
    "start_time": "2023-09-23T10:44:36.677Z"
   },
   {
    "duration": 48,
    "start_time": "2023-09-23T10:44:36.696Z"
   },
   {
    "duration": 209,
    "start_time": "2023-09-23T10:44:36.746Z"
   },
   {
    "duration": 199,
    "start_time": "2023-09-23T10:44:37.045Z"
   },
   {
    "duration": 97,
    "start_time": "2023-09-23T10:44:37.248Z"
   },
   {
    "duration": 5,
    "start_time": "2023-09-23T10:44:37.347Z"
   },
   {
    "duration": 5,
    "start_time": "2023-09-23T10:44:37.353Z"
   },
   {
    "duration": 6,
    "start_time": "2023-09-23T10:44:37.359Z"
   },
   {
    "duration": 7,
    "start_time": "2023-09-23T10:44:37.366Z"
   },
   {
    "duration": 4,
    "start_time": "2023-09-23T10:44:37.375Z"
   },
   {
    "duration": 30,
    "start_time": "2023-09-23T10:44:37.380Z"
   },
   {
    "duration": 16,
    "start_time": "2023-09-23T10:44:37.412Z"
   },
   {
    "duration": 3,
    "start_time": "2023-09-23T10:44:37.429Z"
   },
   {
    "duration": 4244,
    "start_time": "2023-09-23T10:44:37.433Z"
   },
   {
    "duration": 4,
    "start_time": "2023-09-23T10:44:41.678Z"
   },
   {
    "duration": 6,
    "start_time": "2023-09-23T10:44:41.683Z"
   },
   {
    "duration": 7,
    "start_time": "2023-09-23T10:44:41.691Z"
   },
   {
    "duration": 2,
    "start_time": "2023-09-23T10:45:53.752Z"
   },
   {
    "duration": 124,
    "start_time": "2023-09-23T10:45:54.208Z"
   },
   {
    "duration": 3968,
    "start_time": "2023-09-23T10:46:12.315Z"
   },
   {
    "duration": 3,
    "start_time": "2023-09-23T10:46:31.153Z"
   },
   {
    "duration": 4,
    "start_time": "2023-09-23T10:46:31.408Z"
   },
   {
    "duration": 5,
    "start_time": "2023-09-23T10:46:32.925Z"
   },
   {
    "duration": 6712,
    "start_time": "2023-09-23T10:46:50.774Z"
   },
   {
    "duration": 1207,
    "start_time": "2023-09-23T10:46:57.488Z"
   },
   {
    "duration": 388,
    "start_time": "2023-09-23T10:46:58.697Z"
   },
   {
    "duration": 2,
    "start_time": "2023-09-23T10:46:59.087Z"
   },
   {
    "duration": 38,
    "start_time": "2023-09-23T10:46:59.091Z"
   },
   {
    "duration": 35,
    "start_time": "2023-09-23T10:46:59.131Z"
   },
   {
    "duration": 6,
    "start_time": "2023-09-23T10:46:59.168Z"
   },
   {
    "duration": 174,
    "start_time": "2023-09-23T10:46:59.176Z"
   },
   {
    "duration": 101,
    "start_time": "2023-09-23T10:46:59.351Z"
   },
   {
    "duration": 622,
    "start_time": "2023-09-23T10:46:59.454Z"
   },
   {
    "duration": 127,
    "start_time": "2023-09-23T10:47:00.078Z"
   },
   {
    "duration": 3,
    "start_time": "2023-09-23T10:47:00.206Z"
   },
   {
    "duration": 38,
    "start_time": "2023-09-23T10:47:00.210Z"
   },
   {
    "duration": 59,
    "start_time": "2023-09-23T10:47:00.250Z"
   },
   {
    "duration": 42,
    "start_time": "2023-09-23T10:47:00.310Z"
   },
   {
    "duration": 107,
    "start_time": "2023-09-23T10:47:00.354Z"
   },
   {
    "duration": 69,
    "start_time": "2023-09-23T10:47:00.463Z"
   },
   {
    "duration": 38,
    "start_time": "2023-09-23T10:47:00.533Z"
   },
   {
    "duration": 33,
    "start_time": "2023-09-23T10:47:00.572Z"
   },
   {
    "duration": 73,
    "start_time": "2023-09-23T10:47:00.606Z"
   },
   {
    "duration": 198,
    "start_time": "2023-09-23T10:47:00.747Z"
   },
   {
    "duration": 193,
    "start_time": "2023-09-23T10:47:00.952Z"
   },
   {
    "duration": 96,
    "start_time": "2023-09-23T10:47:01.150Z"
   },
   {
    "duration": 23,
    "start_time": "2023-09-23T10:47:01.247Z"
   },
   {
    "duration": 43,
    "start_time": "2023-09-23T10:47:01.271Z"
   },
   {
    "duration": 53,
    "start_time": "2023-09-23T10:47:01.315Z"
   },
   {
    "duration": 46,
    "start_time": "2023-09-23T10:47:01.369Z"
   },
   {
    "duration": 24,
    "start_time": "2023-09-23T10:47:01.419Z"
   },
   {
    "duration": 48,
    "start_time": "2023-09-23T10:47:01.444Z"
   },
   {
    "duration": 48,
    "start_time": "2023-09-23T10:47:01.493Z"
   },
   {
    "duration": 54,
    "start_time": "2023-09-23T10:47:01.542Z"
   },
   {
    "duration": 4016,
    "start_time": "2023-09-23T10:47:01.597Z"
   },
   {
    "duration": 2,
    "start_time": "2023-09-23T10:47:05.615Z"
   },
   {
    "duration": 8,
    "start_time": "2023-09-23T10:47:05.619Z"
   },
   {
    "duration": 11,
    "start_time": "2023-09-23T10:47:05.629Z"
   },
   {
    "duration": 5,
    "start_time": "2023-09-23T10:47:16.393Z"
   },
   {
    "duration": 6,
    "start_time": "2023-09-23T10:47:23.607Z"
   },
   {
    "duration": 124,
    "start_time": "2023-09-23T10:47:26.312Z"
   },
   {
    "duration": 103,
    "start_time": "2023-09-23T10:56:57.563Z"
   },
   {
    "duration": 6,
    "start_time": "2023-09-23T10:57:00.936Z"
   },
   {
    "duration": 7514,
    "start_time": "2023-09-23T10:58:52.763Z"
   },
   {
    "duration": 1226,
    "start_time": "2023-09-23T10:59:00.281Z"
   },
   {
    "duration": 394,
    "start_time": "2023-09-23T10:59:01.508Z"
   },
   {
    "duration": 3,
    "start_time": "2023-09-23T10:59:01.904Z"
   },
   {
    "duration": 24,
    "start_time": "2023-09-23T10:59:01.908Z"
   },
   {
    "duration": 53,
    "start_time": "2023-09-23T10:59:01.934Z"
   },
   {
    "duration": 7,
    "start_time": "2023-09-23T10:59:01.989Z"
   },
   {
    "duration": 47,
    "start_time": "2023-09-23T10:59:01.998Z"
   },
   {
    "duration": 115,
    "start_time": "2023-09-23T10:59:02.046Z"
   },
   {
    "duration": 608,
    "start_time": "2023-09-23T10:59:02.164Z"
   },
   {
    "duration": 116,
    "start_time": "2023-09-23T10:59:02.773Z"
   },
   {
    "duration": 3,
    "start_time": "2023-09-23T10:59:02.890Z"
   },
   {
    "duration": 10,
    "start_time": "2023-09-23T10:59:02.894Z"
   },
   {
    "duration": 6,
    "start_time": "2023-09-23T10:59:02.906Z"
   },
   {
    "duration": 4,
    "start_time": "2023-09-23T10:59:02.913Z"
   },
   {
    "duration": 5,
    "start_time": "2023-09-23T10:59:02.918Z"
   },
   {
    "duration": 20,
    "start_time": "2023-09-23T10:59:02.924Z"
   },
   {
    "duration": 7,
    "start_time": "2023-09-23T10:59:02.946Z"
   },
   {
    "duration": 4,
    "start_time": "2023-09-23T10:59:02.954Z"
   },
   {
    "duration": 84,
    "start_time": "2023-09-23T10:59:02.960Z"
   },
   {
    "duration": 112,
    "start_time": "2023-09-23T10:59:03.049Z"
   },
   {
    "duration": 192,
    "start_time": "2023-09-23T10:59:03.163Z"
   },
   {
    "duration": 89,
    "start_time": "2023-09-23T10:59:03.357Z"
   },
   {
    "duration": 4,
    "start_time": "2023-09-23T10:59:03.448Z"
   },
   {
    "duration": 88,
    "start_time": "2023-09-23T10:59:03.456Z"
   },
   {
    "duration": 6,
    "start_time": "2023-09-23T10:59:03.546Z"
   },
   {
    "duration": 8,
    "start_time": "2023-09-23T10:59:03.553Z"
   },
   {
    "duration": 15,
    "start_time": "2023-09-23T10:59:03.562Z"
   },
   {
    "duration": 8,
    "start_time": "2023-09-23T10:59:03.579Z"
   },
   {
    "duration": 15,
    "start_time": "2023-09-23T10:59:03.588Z"
   },
   {
    "duration": 2,
    "start_time": "2023-09-23T10:59:03.604Z"
   },
   {
    "duration": 1436,
    "start_time": "2023-09-23T10:59:03.608Z"
   },
   {
    "duration": 3,
    "start_time": "2023-09-23T10:59:05.046Z"
   },
   {
    "duration": 21,
    "start_time": "2023-09-23T10:59:05.051Z"
   },
   {
    "duration": 55,
    "start_time": "2023-09-23T10:59:05.074Z"
   },
   {
    "duration": 5,
    "start_time": "2023-09-23T10:59:19.231Z"
   },
   {
    "duration": 2,
    "start_time": "2023-09-23T10:59:44.499Z"
   },
   {
    "duration": 1499,
    "start_time": "2023-09-23T10:59:44.827Z"
   },
   {
    "duration": 3,
    "start_time": "2023-09-23T10:59:46.328Z"
   },
   {
    "duration": 4,
    "start_time": "2023-09-23T10:59:47.025Z"
   },
   {
    "duration": 5,
    "start_time": "2023-09-23T10:59:48.214Z"
   },
   {
    "duration": 109,
    "start_time": "2023-09-23T10:59:53.709Z"
   },
   {
    "duration": 2,
    "start_time": "2023-09-23T10:59:59.113Z"
   },
   {
    "duration": 1353,
    "start_time": "2023-09-23T10:59:59.362Z"
   },
   {
    "duration": 3,
    "start_time": "2023-09-23T11:00:00.716Z"
   },
   {
    "duration": 83,
    "start_time": "2023-09-23T11:00:00.720Z"
   },
   {
    "duration": 5,
    "start_time": "2023-09-23T11:00:02.509Z"
   },
   {
    "duration": 3,
    "start_time": "2023-09-23T11:01:00.475Z"
   },
   {
    "duration": 3,
    "start_time": "2023-09-23T11:01:00.989Z"
   },
   {
    "duration": 1181,
    "start_time": "2023-09-23T11:01:01.430Z"
   },
   {
    "duration": 3,
    "start_time": "2023-09-23T11:01:03.310Z"
   },
   {
    "duration": 4,
    "start_time": "2023-09-23T11:01:03.935Z"
   },
   {
    "duration": 4,
    "start_time": "2023-09-23T11:01:05.753Z"
   },
   {
    "duration": 3,
    "start_time": "2023-09-23T11:01:22.052Z"
   },
   {
    "duration": 3,
    "start_time": "2023-09-23T11:01:28.101Z"
   },
   {
    "duration": 7218,
    "start_time": "2023-09-23T11:01:38.432Z"
   },
   {
    "duration": 1341,
    "start_time": "2023-09-23T11:01:45.652Z"
   },
   {
    "duration": 416,
    "start_time": "2023-09-23T11:01:46.994Z"
   },
   {
    "duration": 3,
    "start_time": "2023-09-23T11:01:47.411Z"
   },
   {
    "duration": 6,
    "start_time": "2023-09-23T11:01:47.417Z"
   },
   {
    "duration": 39,
    "start_time": "2023-09-23T11:01:47.424Z"
   },
   {
    "duration": 6,
    "start_time": "2023-09-23T11:01:47.465Z"
   },
   {
    "duration": 35,
    "start_time": "2023-09-23T11:01:47.472Z"
   },
   {
    "duration": 147,
    "start_time": "2023-09-23T11:01:47.509Z"
   },
   {
    "duration": 612,
    "start_time": "2023-09-23T11:01:47.660Z"
   },
   {
    "duration": 120,
    "start_time": "2023-09-23T11:01:48.273Z"
   },
   {
    "duration": 2,
    "start_time": "2023-09-23T11:01:48.394Z"
   },
   {
    "duration": 5,
    "start_time": "2023-09-23T11:01:48.398Z"
   },
   {
    "duration": 3,
    "start_time": "2023-09-23T11:01:48.406Z"
   },
   {
    "duration": 4,
    "start_time": "2023-09-23T11:01:48.410Z"
   },
   {
    "duration": 28,
    "start_time": "2023-09-23T11:01:48.416Z"
   },
   {
    "duration": 3,
    "start_time": "2023-09-23T11:01:48.446Z"
   },
   {
    "duration": 7,
    "start_time": "2023-09-23T11:01:48.450Z"
   },
   {
    "duration": 5,
    "start_time": "2023-09-23T11:01:48.458Z"
   },
   {
    "duration": 82,
    "start_time": "2023-09-23T11:01:48.464Z"
   },
   {
    "duration": 198,
    "start_time": "2023-09-23T11:01:48.548Z"
   },
   {
    "duration": 120,
    "start_time": "2023-09-23T11:01:48.749Z"
   },
   {
    "duration": 94,
    "start_time": "2023-09-23T11:01:48.871Z"
   },
   {
    "duration": 3,
    "start_time": "2023-09-23T11:01:49.045Z"
   },
   {
    "duration": 6,
    "start_time": "2023-09-23T11:01:49.049Z"
   },
   {
    "duration": 14,
    "start_time": "2023-09-23T11:01:49.056Z"
   },
   {
    "duration": 7,
    "start_time": "2023-09-23T11:01:49.071Z"
   },
   {
    "duration": 3,
    "start_time": "2023-09-23T11:01:49.079Z"
   },
   {
    "duration": 9,
    "start_time": "2023-09-23T11:01:49.083Z"
   },
   {
    "duration": 16,
    "start_time": "2023-09-23T11:01:49.093Z"
   },
   {
    "duration": 3,
    "start_time": "2023-09-23T11:01:49.111Z"
   },
   {
    "duration": 29,
    "start_time": "2023-09-23T11:01:49.115Z"
   },
   {
    "duration": 1252,
    "start_time": "2023-09-23T11:01:49.146Z"
   },
   {
    "duration": 4,
    "start_time": "2023-09-23T11:01:50.399Z"
   },
   {
    "duration": 162,
    "start_time": "2023-09-23T11:01:50.405Z"
   },
   {
    "duration": 14,
    "start_time": "2023-09-23T11:01:50.569Z"
   },
   {
    "duration": 3,
    "start_time": "2023-09-23T11:05:51.442Z"
   },
   {
    "duration": 4,
    "start_time": "2023-09-23T11:05:51.662Z"
   },
   {
    "duration": 5,
    "start_time": "2023-09-23T11:06:12.503Z"
   },
   {
    "duration": 4,
    "start_time": "2023-09-23T11:06:17.338Z"
   },
   {
    "duration": 3,
    "start_time": "2023-09-23T11:06:43.850Z"
   },
   {
    "duration": 6,
    "start_time": "2023-09-23T11:06:44.340Z"
   },
   {
    "duration": 4,
    "start_time": "2023-09-23T11:06:44.762Z"
   },
   {
    "duration": 5,
    "start_time": "2023-09-23T11:06:48.344Z"
   },
   {
    "duration": 2,
    "start_time": "2023-09-23T11:07:13.518Z"
   },
   {
    "duration": 3,
    "start_time": "2023-09-23T11:07:25.498Z"
   },
   {
    "duration": 3,
    "start_time": "2023-09-23T11:07:25.716Z"
   },
   {
    "duration": 5,
    "start_time": "2023-09-23T11:07:26.218Z"
   },
   {
    "duration": 4,
    "start_time": "2023-09-23T11:07:26.652Z"
   },
   {
    "duration": 6,
    "start_time": "2023-09-23T11:07:43.872Z"
   },
   {
    "duration": 15,
    "start_time": "2023-09-23T11:07:49.842Z"
   },
   {
    "duration": 6,
    "start_time": "2023-09-23T11:07:50.644Z"
   },
   {
    "duration": 4,
    "start_time": "2023-09-23T11:07:51.001Z"
   },
   {
    "duration": 7,
    "start_time": "2023-09-23T11:07:51.756Z"
   },
   {
    "duration": 7299,
    "start_time": "2023-09-23T11:08:02.466Z"
   },
   {
    "duration": 1385,
    "start_time": "2023-09-23T11:08:09.768Z"
   },
   {
    "duration": 408,
    "start_time": "2023-09-23T11:08:11.157Z"
   },
   {
    "duration": 3,
    "start_time": "2023-09-23T11:08:11.567Z"
   },
   {
    "duration": 8,
    "start_time": "2023-09-23T11:08:11.571Z"
   },
   {
    "duration": 37,
    "start_time": "2023-09-23T11:08:11.580Z"
   },
   {
    "duration": 30,
    "start_time": "2023-09-23T11:08:11.619Z"
   },
   {
    "duration": 45,
    "start_time": "2023-09-23T11:08:11.656Z"
   },
   {
    "duration": 156,
    "start_time": "2023-09-23T11:08:11.702Z"
   },
   {
    "duration": 695,
    "start_time": "2023-09-23T11:08:11.861Z"
   },
   {
    "duration": 135,
    "start_time": "2023-09-23T11:08:12.561Z"
   },
   {
    "duration": 3,
    "start_time": "2023-09-23T11:08:12.698Z"
   },
   {
    "duration": 17,
    "start_time": "2023-09-23T11:08:12.703Z"
   },
   {
    "duration": 11,
    "start_time": "2023-09-23T11:08:12.722Z"
   },
   {
    "duration": 11,
    "start_time": "2023-09-23T11:08:12.735Z"
   },
   {
    "duration": 8,
    "start_time": "2023-09-23T11:08:12.751Z"
   },
   {
    "duration": 13,
    "start_time": "2023-09-23T11:08:12.761Z"
   },
   {
    "duration": 7,
    "start_time": "2023-09-23T11:08:12.775Z"
   },
   {
    "duration": 8,
    "start_time": "2023-09-23T11:08:12.784Z"
   },
   {
    "duration": 61,
    "start_time": "2023-09-23T11:08:12.793Z"
   },
   {
    "duration": 188,
    "start_time": "2023-09-23T11:08:12.858Z"
   },
   {
    "duration": 123,
    "start_time": "2023-09-23T11:08:13.052Z"
   },
   {
    "duration": 75,
    "start_time": "2023-09-23T11:08:13.177Z"
   },
   {
    "duration": 3,
    "start_time": "2023-09-23T11:08:13.256Z"
   },
   {
    "duration": 242,
    "start_time": "2023-09-23T11:08:13.261Z"
   },
   {
    "duration": 6,
    "start_time": "2023-09-23T11:08:13.505Z"
   },
   {
    "duration": 5,
    "start_time": "2023-09-23T11:08:13.513Z"
   },
   {
    "duration": 4,
    "start_time": "2023-09-23T11:08:13.522Z"
   },
   {
    "duration": 21,
    "start_time": "2023-09-23T11:08:13.528Z"
   },
   {
    "duration": 2,
    "start_time": "2023-09-23T11:08:13.551Z"
   },
   {
    "duration": 4,
    "start_time": "2023-09-23T11:08:13.555Z"
   },
   {
    "duration": 6,
    "start_time": "2023-09-23T11:08:13.560Z"
   },
   {
    "duration": 9,
    "start_time": "2023-09-23T11:08:13.568Z"
   },
   {
    "duration": 12,
    "start_time": "2023-09-23T11:08:13.578Z"
   },
   {
    "duration": 8668,
    "start_time": "2023-09-23T11:09:05.114Z"
   },
   {
    "duration": 1319,
    "start_time": "2023-09-23T11:09:13.785Z"
   },
   {
    "duration": 382,
    "start_time": "2023-09-23T11:09:15.105Z"
   },
   {
    "duration": 3,
    "start_time": "2023-09-23T11:09:15.489Z"
   },
   {
    "duration": 10,
    "start_time": "2023-09-23T11:09:15.494Z"
   },
   {
    "duration": 39,
    "start_time": "2023-09-23T11:09:15.506Z"
   },
   {
    "duration": 14,
    "start_time": "2023-09-23T11:09:15.552Z"
   },
   {
    "duration": 38,
    "start_time": "2023-09-23T11:09:15.567Z"
   },
   {
    "duration": 139,
    "start_time": "2023-09-23T11:09:15.606Z"
   },
   {
    "duration": 655,
    "start_time": "2023-09-23T11:09:15.760Z"
   },
   {
    "duration": 146,
    "start_time": "2023-09-23T11:09:16.417Z"
   },
   {
    "duration": 4,
    "start_time": "2023-09-23T11:09:16.565Z"
   },
   {
    "duration": 5,
    "start_time": "2023-09-23T11:09:16.571Z"
   },
   {
    "duration": 4,
    "start_time": "2023-09-23T11:09:16.577Z"
   },
   {
    "duration": 12,
    "start_time": "2023-09-23T11:09:16.584Z"
   },
   {
    "duration": 8,
    "start_time": "2023-09-23T11:09:16.597Z"
   },
   {
    "duration": 8,
    "start_time": "2023-09-23T11:09:16.607Z"
   },
   {
    "duration": 9,
    "start_time": "2023-09-23T11:09:16.616Z"
   },
   {
    "duration": 14,
    "start_time": "2023-09-23T11:09:16.626Z"
   },
   {
    "duration": 105,
    "start_time": "2023-09-23T11:09:16.642Z"
   },
   {
    "duration": 120,
    "start_time": "2023-09-23T11:09:16.749Z"
   },
   {
    "duration": 197,
    "start_time": "2023-09-23T11:09:16.871Z"
   },
   {
    "duration": 89,
    "start_time": "2023-09-23T11:09:17.070Z"
   },
   {
    "duration": 3,
    "start_time": "2023-09-23T11:09:17.161Z"
   },
   {
    "duration": 80,
    "start_time": "2023-09-23T11:09:17.166Z"
   },
   {
    "duration": 7,
    "start_time": "2023-09-23T11:09:17.248Z"
   },
   {
    "duration": 6,
    "start_time": "2023-09-23T11:09:17.256Z"
   },
   {
    "duration": 3,
    "start_time": "2023-09-23T11:09:17.265Z"
   },
   {
    "duration": 16,
    "start_time": "2023-09-23T11:09:17.270Z"
   },
   {
    "duration": 3,
    "start_time": "2023-09-23T11:09:17.288Z"
   },
   {
    "duration": 9,
    "start_time": "2023-09-23T11:09:17.292Z"
   },
   {
    "duration": 7,
    "start_time": "2023-09-23T11:09:17.302Z"
   },
   {
    "duration": 7,
    "start_time": "2023-09-23T11:09:17.310Z"
   },
   {
    "duration": 94,
    "start_time": "2023-09-23T11:10:32.095Z"
   },
   {
    "duration": 3,
    "start_time": "2023-09-23T11:10:48.329Z"
   },
   {
    "duration": 1243,
    "start_time": "2023-09-23T11:10:50.714Z"
   },
   {
    "duration": 4,
    "start_time": "2023-09-23T11:10:51.959Z"
   },
   {
    "duration": 5,
    "start_time": "2023-09-23T11:10:54.587Z"
   },
   {
    "duration": 3662,
    "start_time": "2023-09-23T11:14:33.096Z"
   },
   {
    "duration": 3783,
    "start_time": "2023-09-23T11:19:15.932Z"
   },
   {
    "duration": 3818,
    "start_time": "2023-09-23T11:20:16.685Z"
   },
   {
    "duration": 3835,
    "start_time": "2023-09-23T11:20:44.758Z"
   },
   {
    "duration": 3689,
    "start_time": "2023-09-23T11:20:55.553Z"
   },
   {
    "duration": 109,
    "start_time": "2023-09-23T11:26:58.510Z"
   },
   {
    "duration": 3,
    "start_time": "2023-09-23T11:28:43.307Z"
   },
   {
    "duration": 4,
    "start_time": "2023-09-23T11:28:57.201Z"
   },
   {
    "duration": 4,
    "start_time": "2023-09-23T11:29:15.694Z"
   },
   {
    "duration": 5,
    "start_time": "2023-09-23T11:39:59.483Z"
   },
   {
    "duration": 54,
    "start_time": "2023-09-23T11:40:01.490Z"
   },
   {
    "duration": 4,
    "start_time": "2023-09-23T11:40:07.825Z"
   },
   {
    "duration": 31,
    "start_time": "2023-09-23T11:40:09.350Z"
   },
   {
    "duration": 4,
    "start_time": "2023-09-23T11:40:21.307Z"
   },
   {
    "duration": 31,
    "start_time": "2023-09-23T11:40:23.057Z"
   },
   {
    "duration": 4,
    "start_time": "2023-09-23T11:45:05.839Z"
   },
   {
    "duration": 3,
    "start_time": "2023-09-23T11:45:10.112Z"
   },
   {
    "duration": 8,
    "start_time": "2023-09-23T11:48:04.545Z"
   },
   {
    "duration": 4,
    "start_time": "2023-09-23T11:50:47.443Z"
   },
   {
    "duration": 26,
    "start_time": "2023-09-23T11:50:47.735Z"
   },
   {
    "duration": 25,
    "start_time": "2023-09-23T11:50:48.324Z"
   },
   {
    "duration": 4,
    "start_time": "2023-09-23T11:51:37.478Z"
   },
   {
    "duration": 3,
    "start_time": "2023-09-23T11:51:38.323Z"
   },
   {
    "duration": 27,
    "start_time": "2023-09-23T11:51:38.615Z"
   },
   {
    "duration": 101,
    "start_time": "2023-09-23T11:52:44.150Z"
   },
   {
    "duration": 26,
    "start_time": "2023-09-23T11:52:44.820Z"
   },
   {
    "duration": 7,
    "start_time": "2023-09-23T11:52:45.525Z"
   },
   {
    "duration": 33,
    "start_time": "2023-09-23T12:18:17.254Z"
   },
   {
    "duration": 4,
    "start_time": "2023-09-23T12:42:34.335Z"
   },
   {
    "duration": 2,
    "start_time": "2023-09-23T12:42:35.734Z"
   },
   {
    "duration": 26,
    "start_time": "2023-09-23T12:42:36.557Z"
   },
   {
    "duration": 30,
    "start_time": "2023-09-23T12:42:36.933Z"
   },
   {
    "duration": 28,
    "start_time": "2023-09-23T12:42:37.349Z"
   },
   {
    "duration": 7,
    "start_time": "2023-09-23T12:42:39.208Z"
   },
   {
    "duration": 3,
    "start_time": "2023-09-23T12:55:59.379Z"
   },
   {
    "duration": 7,
    "start_time": "2023-09-23T13:04:40.871Z"
   },
   {
    "duration": 3,
    "start_time": "2023-09-23T13:08:39.534Z"
   },
   {
    "duration": 133,
    "start_time": "2023-09-23T13:10:53.542Z"
   },
   {
    "duration": 2,
    "start_time": "2023-09-23T13:10:55.773Z"
   },
   {
    "duration": 3,
    "start_time": "2023-09-23T13:10:56.006Z"
   },
   {
    "duration": 4,
    "start_time": "2023-09-23T13:15:27.161Z"
   },
   {
    "duration": 15,
    "start_time": "2023-09-23T13:18:18.397Z"
   },
   {
    "duration": 17,
    "start_time": "2023-09-23T13:18:24.686Z"
   },
   {
    "duration": 4,
    "start_time": "2023-09-23T13:27:49.974Z"
   },
   {
    "duration": 7426,
    "start_time": "2023-09-23T13:29:57.510Z"
   },
   {
    "duration": 1299,
    "start_time": "2023-09-23T13:30:04.939Z"
   },
   {
    "duration": 429,
    "start_time": "2023-09-23T13:30:06.239Z"
   },
   {
    "duration": 3,
    "start_time": "2023-09-23T13:30:06.670Z"
   },
   {
    "duration": 10,
    "start_time": "2023-09-23T13:30:06.674Z"
   },
   {
    "duration": 40,
    "start_time": "2023-09-23T13:30:06.686Z"
   },
   {
    "duration": 23,
    "start_time": "2023-09-23T13:30:06.728Z"
   },
   {
    "duration": 47,
    "start_time": "2023-09-23T13:30:06.754Z"
   },
   {
    "duration": 143,
    "start_time": "2023-09-23T13:30:06.803Z"
   },
   {
    "duration": 676,
    "start_time": "2023-09-23T13:30:06.951Z"
   },
   {
    "duration": 150,
    "start_time": "2023-09-23T13:30:07.629Z"
   },
   {
    "duration": 3,
    "start_time": "2023-09-23T13:30:07.781Z"
   },
   {
    "duration": 5,
    "start_time": "2023-09-23T13:30:07.785Z"
   },
   {
    "duration": 4,
    "start_time": "2023-09-23T13:30:07.792Z"
   },
   {
    "duration": 6,
    "start_time": "2023-09-23T13:30:07.798Z"
   },
   {
    "duration": 5,
    "start_time": "2023-09-23T13:30:07.806Z"
   },
   {
    "duration": 4,
    "start_time": "2023-09-23T13:30:07.812Z"
   },
   {
    "duration": 38,
    "start_time": "2023-09-23T13:30:07.818Z"
   },
   {
    "duration": 6,
    "start_time": "2023-09-23T13:30:07.857Z"
   },
   {
    "duration": 86,
    "start_time": "2023-09-23T13:30:07.864Z"
   },
   {
    "duration": 119,
    "start_time": "2023-09-23T13:30:07.951Z"
   },
   {
    "duration": 197,
    "start_time": "2023-09-23T13:30:08.072Z"
   },
   {
    "duration": 81,
    "start_time": "2023-09-23T13:30:08.271Z"
   },
   {
    "duration": 6,
    "start_time": "2023-09-23T13:30:08.354Z"
   },
   {
    "duration": 85,
    "start_time": "2023-09-23T13:30:08.364Z"
   },
   {
    "duration": 10,
    "start_time": "2023-09-23T13:30:08.451Z"
   },
   {
    "duration": 6,
    "start_time": "2023-09-23T13:30:08.462Z"
   },
   {
    "duration": 8,
    "start_time": "2023-09-23T13:30:08.471Z"
   },
   {
    "duration": 5,
    "start_time": "2023-09-23T13:30:08.481Z"
   },
   {
    "duration": 7,
    "start_time": "2023-09-23T13:30:08.487Z"
   },
   {
    "duration": 143,
    "start_time": "2023-09-23T13:30:08.495Z"
   },
   {
    "duration": 4,
    "start_time": "2023-09-23T13:31:17.025Z"
   },
   {
    "duration": 3,
    "start_time": "2023-09-23T13:31:17.909Z"
   },
   {
    "duration": 3808,
    "start_time": "2023-09-23T13:31:18.790Z"
   },
   {
    "duration": 4444,
    "start_time": "2023-09-23T13:31:52.584Z"
   },
   {
    "duration": 3631,
    "start_time": "2023-09-23T13:33:02.771Z"
   },
   {
    "duration": 4,
    "start_time": "2023-09-23T13:41:38.669Z"
   },
   {
    "duration": 121,
    "start_time": "2023-09-23T13:44:04.788Z"
   },
   {
    "duration": 1522,
    "start_time": "2023-09-23T13:44:21.582Z"
   },
   {
    "duration": 144,
    "start_time": "2023-09-23T13:45:29.832Z"
   },
   {
    "duration": 1394,
    "start_time": "2023-09-23T13:45:34.731Z"
   },
   {
    "duration": 4347,
    "start_time": "2023-09-23T13:45:42.808Z"
   },
   {
    "duration": 8,
    "start_time": "2023-09-23T13:45:53.975Z"
   },
   {
    "duration": 9,
    "start_time": "2023-09-23T13:48:23.671Z"
   },
   {
    "duration": 4497,
    "start_time": "2023-09-23T13:48:51.630Z"
   },
   {
    "duration": 4,
    "start_time": "2023-09-23T13:48:56.278Z"
   },
   {
    "duration": 4304,
    "start_time": "2023-09-23T13:48:56.744Z"
   },
   {
    "duration": 23,
    "start_time": "2023-09-23T13:49:01.061Z"
   },
   {
    "duration": 3911,
    "start_time": "2023-09-23T13:49:38.819Z"
   },
   {
    "duration": 7,
    "start_time": "2023-09-23T13:49:47.303Z"
   },
   {
    "duration": 4,
    "start_time": "2023-09-23T13:52:04.298Z"
   },
   {
    "duration": 3990,
    "start_time": "2023-09-23T13:52:39.078Z"
   },
   {
    "duration": 8,
    "start_time": "2023-09-23T13:52:43.776Z"
   },
   {
    "duration": 3,
    "start_time": "2023-09-23T13:53:51.030Z"
   },
   {
    "duration": 3986,
    "start_time": "2023-09-23T13:53:51.323Z"
   },
   {
    "duration": 10,
    "start_time": "2023-09-23T13:53:55.310Z"
   },
   {
    "duration": 7,
    "start_time": "2023-09-23T13:59:43.217Z"
   },
   {
    "duration": 8,
    "start_time": "2023-09-23T14:00:40.677Z"
   },
   {
    "duration": 10853,
    "start_time": "2023-09-23T14:12:13.015Z"
   },
   {
    "duration": 2582,
    "start_time": "2023-09-23T14:12:23.871Z"
   },
   {
    "duration": 2241,
    "start_time": "2023-09-23T14:12:26.455Z"
   },
   {
    "duration": 3,
    "start_time": "2023-09-23T14:12:28.699Z"
   },
   {
    "duration": 4,
    "start_time": "2023-09-23T14:12:28.705Z"
   },
   {
    "duration": 33,
    "start_time": "2023-09-23T14:12:28.711Z"
   },
   {
    "duration": 13,
    "start_time": "2023-09-23T14:12:28.746Z"
   },
   {
    "duration": 57,
    "start_time": "2023-09-23T14:12:28.760Z"
   },
   {
    "duration": 154,
    "start_time": "2023-09-23T14:12:28.818Z"
   },
   {
    "duration": 752,
    "start_time": "2023-09-23T14:12:28.975Z"
   },
   {
    "duration": 195,
    "start_time": "2023-09-23T14:12:29.729Z"
   },
   {
    "duration": 2,
    "start_time": "2023-09-23T14:12:29.925Z"
   },
   {
    "duration": 5,
    "start_time": "2023-09-23T14:12:29.929Z"
   },
   {
    "duration": 29,
    "start_time": "2023-09-23T14:12:29.935Z"
   },
   {
    "duration": 12,
    "start_time": "2023-09-23T14:12:29.977Z"
   },
   {
    "duration": 3,
    "start_time": "2023-09-23T14:12:29.995Z"
   },
   {
    "duration": 13,
    "start_time": "2023-09-23T14:12:30.000Z"
   },
   {
    "duration": 38,
    "start_time": "2023-09-23T14:12:30.016Z"
   },
   {
    "duration": 58,
    "start_time": "2023-09-23T14:12:30.056Z"
   },
   {
    "duration": 140,
    "start_time": "2023-09-23T14:12:30.116Z"
   },
   {
    "duration": 140,
    "start_time": "2023-09-23T14:12:30.265Z"
   },
   {
    "duration": 234,
    "start_time": "2023-09-23T14:12:30.411Z"
   },
   {
    "duration": 84,
    "start_time": "2023-09-23T14:12:30.663Z"
   },
   {
    "duration": 5,
    "start_time": "2023-09-23T14:12:30.750Z"
   },
   {
    "duration": 40,
    "start_time": "2023-09-23T14:12:30.757Z"
   },
   {
    "duration": 85,
    "start_time": "2023-09-23T14:12:30.800Z"
   },
   {
    "duration": 29,
    "start_time": "2023-09-23T14:12:30.888Z"
   },
   {
    "duration": 55,
    "start_time": "2023-09-23T14:12:30.920Z"
   },
   {
    "duration": 22,
    "start_time": "2023-09-23T14:12:30.977Z"
   },
   {
    "duration": 27,
    "start_time": "2023-09-23T14:12:31.001Z"
   },
   {
    "duration": 41,
    "start_time": "2023-09-23T14:12:31.030Z"
   },
   {
    "duration": 4617,
    "start_time": "2023-09-23T14:12:31.073Z"
   },
   {
    "duration": 8,
    "start_time": "2023-09-23T14:12:35.691Z"
   },
   {
    "duration": 15308,
    "start_time": "2023-09-24T14:55:11.444Z"
   },
   {
    "duration": 1740,
    "start_time": "2023-09-24T14:55:26.754Z"
   },
   {
    "duration": 1254,
    "start_time": "2023-09-24T14:55:28.496Z"
   },
   {
    "duration": 3,
    "start_time": "2023-09-24T14:55:29.753Z"
   },
   {
    "duration": 11,
    "start_time": "2023-09-24T14:55:29.759Z"
   },
   {
    "duration": 46,
    "start_time": "2023-09-24T14:55:29.772Z"
   },
   {
    "duration": 14,
    "start_time": "2023-09-24T14:55:29.825Z"
   },
   {
    "duration": 94,
    "start_time": "2023-09-24T14:55:29.841Z"
   },
   {
    "duration": 141,
    "start_time": "2023-09-24T14:55:29.938Z"
   },
   {
    "duration": 825,
    "start_time": "2023-09-24T14:55:30.082Z"
   },
   {
    "duration": 179,
    "start_time": "2023-09-24T14:55:30.909Z"
   },
   {
    "duration": 10,
    "start_time": "2023-09-24T14:55:31.102Z"
   },
   {
    "duration": 250,
    "start_time": "2023-09-24T14:55:31.117Z"
   },
   {
    "duration": 462,
    "start_time": "2023-09-24T14:55:31.369Z"
   },
   {
    "duration": 36,
    "start_time": "2023-09-24T14:55:31.833Z"
   },
   {
    "duration": 59,
    "start_time": "2023-09-24T14:55:31.871Z"
   },
   {
    "duration": 80,
    "start_time": "2023-09-24T14:55:31.932Z"
   },
   {
    "duration": 71,
    "start_time": "2023-09-24T14:55:32.025Z"
   },
   {
    "duration": 80,
    "start_time": "2023-09-24T14:55:32.098Z"
   },
   {
    "duration": 231,
    "start_time": "2023-09-24T14:55:32.179Z"
   },
   {
    "duration": 129,
    "start_time": "2023-09-24T14:55:32.421Z"
   },
   {
    "duration": 185,
    "start_time": "2023-09-24T14:55:32.552Z"
   },
   {
    "duration": 77,
    "start_time": "2023-09-24T14:55:32.740Z"
   },
   {
    "duration": 84,
    "start_time": "2023-09-24T14:55:32.822Z"
   },
   {
    "duration": 31,
    "start_time": "2023-09-24T14:55:32.908Z"
   },
   {
    "duration": 54,
    "start_time": "2023-09-24T14:55:32.941Z"
   },
   {
    "duration": 290,
    "start_time": "2023-09-24T14:55:32.996Z"
   },
   {
    "duration": 48,
    "start_time": "2023-09-24T14:55:33.290Z"
   },
   {
    "duration": 213,
    "start_time": "2023-09-24T14:55:33.340Z"
   },
   {
    "duration": 0,
    "start_time": "2023-09-24T14:55:33.555Z"
   },
   {
    "duration": 0,
    "start_time": "2023-09-24T14:55:33.556Z"
   },
   {
    "duration": 1,
    "start_time": "2023-09-24T14:55:33.557Z"
   },
   {
    "duration": 0,
    "start_time": "2023-09-24T14:55:33.559Z"
   },
   {
    "duration": 4,
    "start_time": "2023-09-24T14:56:11.873Z"
   },
   {
    "duration": 5,
    "start_time": "2023-09-24T14:56:16.470Z"
   },
   {
    "duration": 4,
    "start_time": "2023-09-24T14:56:17.469Z"
   },
   {
    "duration": 4756,
    "start_time": "2023-09-24T14:56:17.989Z"
   },
   {
    "duration": 11,
    "start_time": "2023-09-24T14:56:23.888Z"
   },
   {
    "duration": 4930,
    "start_time": "2023-09-24T14:57:37.822Z"
   },
   {
    "duration": 113,
    "start_time": "2023-09-24T14:57:54.735Z"
   },
   {
    "duration": 4870,
    "start_time": "2023-09-24T14:57:59.791Z"
   },
   {
    "duration": 5034,
    "start_time": "2023-09-24T14:58:10.218Z"
   },
   {
    "duration": 4950,
    "start_time": "2023-09-24T14:58:44.498Z"
   },
   {
    "duration": 10,
    "start_time": "2023-09-24T14:58:57.227Z"
   },
   {
    "duration": 8734,
    "start_time": "2023-09-24T15:00:28.787Z"
   },
   {
    "duration": 1713,
    "start_time": "2023-09-24T15:00:37.524Z"
   },
   {
    "duration": 501,
    "start_time": "2023-09-24T15:00:39.239Z"
   },
   {
    "duration": 6,
    "start_time": "2023-09-24T15:00:39.744Z"
   },
   {
    "duration": 30,
    "start_time": "2023-09-24T15:00:39.753Z"
   },
   {
    "duration": 68,
    "start_time": "2023-09-24T15:00:39.785Z"
   },
   {
    "duration": 11,
    "start_time": "2023-09-24T15:00:39.855Z"
   },
   {
    "duration": 93,
    "start_time": "2023-09-24T15:00:39.867Z"
   },
   {
    "duration": 185,
    "start_time": "2023-09-24T15:00:39.963Z"
   },
   {
    "duration": 834,
    "start_time": "2023-09-24T15:00:40.152Z"
   },
   {
    "duration": 193,
    "start_time": "2023-09-24T15:00:40.988Z"
   },
   {
    "duration": 3,
    "start_time": "2023-09-24T15:00:41.182Z"
   },
   {
    "duration": 36,
    "start_time": "2023-09-24T15:00:41.187Z"
   },
   {
    "duration": 36,
    "start_time": "2023-09-24T15:00:41.226Z"
   },
   {
    "duration": 47,
    "start_time": "2023-09-24T15:00:41.264Z"
   },
   {
    "duration": 32,
    "start_time": "2023-09-24T15:00:41.313Z"
   },
   {
    "duration": 54,
    "start_time": "2023-09-24T15:00:41.348Z"
   },
   {
    "duration": 38,
    "start_time": "2023-09-24T15:00:41.405Z"
   },
   {
    "duration": 63,
    "start_time": "2023-09-24T15:00:41.446Z"
   },
   {
    "duration": 83,
    "start_time": "2023-09-24T15:00:41.512Z"
   },
   {
    "duration": 124,
    "start_time": "2023-09-24T15:00:41.603Z"
   },
   {
    "duration": 197,
    "start_time": "2023-09-24T15:00:41.810Z"
   },
   {
    "duration": 96,
    "start_time": "2023-09-24T15:00:42.011Z"
   },
   {
    "duration": 44,
    "start_time": "2023-09-24T15:00:42.110Z"
   },
   {
    "duration": 31,
    "start_time": "2023-09-24T15:00:42.156Z"
   },
   {
    "duration": 54,
    "start_time": "2023-09-24T15:00:42.189Z"
   },
   {
    "duration": 86,
    "start_time": "2023-09-24T15:00:42.245Z"
   },
   {
    "duration": 55,
    "start_time": "2023-09-24T15:00:42.334Z"
   },
   {
    "duration": 54,
    "start_time": "2023-09-24T15:00:42.392Z"
   },
   {
    "duration": 35,
    "start_time": "2023-09-24T15:00:42.448Z"
   },
   {
    "duration": 39,
    "start_time": "2023-09-24T15:00:42.486Z"
   },
   {
    "duration": 5012,
    "start_time": "2023-09-24T15:00:42.528Z"
   },
   {
    "duration": 14,
    "start_time": "2023-09-24T15:00:47.542Z"
   }
  ],
  "kernelspec": {
   "display_name": "Python 3 (ipykernel)",
   "language": "python",
   "name": "python3"
  },
  "language_info": {
   "codemirror_mode": {
    "name": "ipython",
    "version": 3
   },
   "file_extension": ".py",
   "mimetype": "text/x-python",
   "name": "python",
   "nbconvert_exporter": "python",
   "pygments_lexer": "ipython3",
   "version": "3.10.12"
  },
  "toc": {
   "base_numbering": 1,
   "nav_menu": {},
   "number_sections": true,
   "sideBar": true,
   "skip_h1_title": true,
   "title_cell": "Table of Contents",
   "title_sidebar": "Contents",
   "toc_cell": false,
   "toc_position": {
    "height": "calc(100% - 180px)",
    "left": "10px",
    "top": "150px",
    "width": "371px"
   },
   "toc_section_display": true,
   "toc_window_display": true
  }
 },
 "nbformat": 4,
 "nbformat_minor": 4
}
