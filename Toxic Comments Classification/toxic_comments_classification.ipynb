{
 "cells": [
  {
   "cell_type": "markdown",
   "metadata": {
    "toc": true
   },
   "source": [
    "<h1>Содержание<span class=\"tocSkip\"></span></h1>\n",
    "<div class=\"toc\"><ul class=\"toc-item\"><li><span><a href=\"#Загрузка-и-изучение-данных\" data-toc-modified-id=\"Загрузка-и-изучение-данных-1\"><span class=\"toc-item-num\">1&nbsp;&nbsp;</span>Загрузка и изучение данных</a></span><ul class=\"toc-item\"><li><span><a href=\"#Промежуточный-вывод\" data-toc-modified-id=\"Промежуточный-вывод-1.1\"><span class=\"toc-item-num\">1.1&nbsp;&nbsp;</span>Промежуточный вывод</a></span></li></ul></li><li><span><a href=\"#Подготовка\" data-toc-modified-id=\"Подготовка-2\"><span class=\"toc-item-num\">2&nbsp;&nbsp;</span>Подготовка</a></span><ul class=\"toc-item\"><li><span><a href=\"#Избавимся-от-лишних-символов\" data-toc-modified-id=\"Избавимся-от-лишних-символов-2.1\"><span class=\"toc-item-num\">2.1&nbsp;&nbsp;</span>Избавимся от лишних символов</a></span></li><li><span><a href=\"#Проверка-на-дубликаты\" data-toc-modified-id=\"Проверка-на-дубликаты-2.2\"><span class=\"toc-item-num\">2.2&nbsp;&nbsp;</span>Проверка на дубликаты</a></span></li><li><span><a href=\"#Проверка-на-пропуски\" data-toc-modified-id=\"Проверка-на-пропуски-2.3\"><span class=\"toc-item-num\">2.3&nbsp;&nbsp;</span>Проверка на пропуски</a></span></li><li><span><a href=\"#Токкенизация,-лемматизация-и-ссылки\" data-toc-modified-id=\"Токкенизация,-лемматизация-и-ссылки-2.4\"><span class=\"toc-item-num\">2.4&nbsp;&nbsp;</span>Токкенизация, лемматизация и ссылки</a></span></li><li><span><a href=\"#Разделение-на-выборки\" data-toc-modified-id=\"Разделение-на-выборки-2.5\"><span class=\"toc-item-num\">2.5&nbsp;&nbsp;</span>Разделение на выборки</a></span></li><li><span><a href=\"#Вычисление-TF-IDF\" data-toc-modified-id=\"Вычисление-TF-IDF-2.6\"><span class=\"toc-item-num\">2.6&nbsp;&nbsp;</span>Вычисление TF-IDF</a></span></li><li><span><a href=\"#Промежуточный-вывод\" data-toc-modified-id=\"Промежуточный-вывод-2.7\"><span class=\"toc-item-num\">2.7&nbsp;&nbsp;</span>Промежуточный вывод</a></span></li></ul></li><li><span><a href=\"#Обучение\" data-toc-modified-id=\"Обучение-3\"><span class=\"toc-item-num\">3&nbsp;&nbsp;</span>Обучение</a></span><ul class=\"toc-item\"><li><span><a href=\"#Логистическая-регрессия\" data-toc-modified-id=\"Логистическая-регрессия-3.1\"><span class=\"toc-item-num\">3.1&nbsp;&nbsp;</span>Логистическая регрессия</a></span></li><li><span><a href=\"#Случайный-лес\" data-toc-modified-id=\"Случайный-лес-3.2\"><span class=\"toc-item-num\">3.2&nbsp;&nbsp;</span>Случайный лес</a></span></li><li><span><a href=\"#Промежуточный-вывод\" data-toc-modified-id=\"Промежуточный-вывод-3.3\"><span class=\"toc-item-num\">3.3&nbsp;&nbsp;</span>Промежуточный вывод</a></span></li></ul></li><li><span><a href=\"#Тестирование\" data-toc-modified-id=\"Тестирование-4\"><span class=\"toc-item-num\">4&nbsp;&nbsp;</span>Тестирование</a></span></li><li><span><a href=\"#Выводы\" data-toc-modified-id=\"Выводы-5\"><span class=\"toc-item-num\">5&nbsp;&nbsp;</span>Выводы</a></span></li><li><span><a href=\"#Чек-лист-проверки\" data-toc-modified-id=\"Чек-лист-проверки-6\"><span class=\"toc-item-num\">6&nbsp;&nbsp;</span>Чек-лист проверки</a></span></li></ul></div>"
   ]
  },
  {
   "cell_type": "markdown",
   "metadata": {},
   "source": [
    "# Проект классификация токсичных комментариев"
   ]
  },
  {
   "cell_type": "markdown",
   "metadata": {},
   "source": [
    "Интернет-магазин запускает новый сервис, который позволяет пользователям редактировать и дополнять описания товаров, подобно вики-сообществам. Это означает, что клиенты могут предлагать свои правки и комментировать изменения других. Для обеспечения безопасности магазина необходим инструмент, который будет автоматически выявлять токсичные комментарии и отправлять их на модерацию.\n",
    "\n",
    "В рамках проекта будет обучена модель для классификации комментариев на позитивные и негативные. Для этого доступен набор данных с разметкой о токсичности правок."
   ]
  },
  {
   "cell_type": "markdown",
   "metadata": {},
   "source": [
    "# План проекта"
   ]
  },
  {
   "cell_type": "markdown",
   "metadata": {},
   "source": [
    "1. Загрузим и изучим данные\n",
    "2. Подготовим данные\n",
    "  - Избавимся от лишних элементов текста для поиска дубликатов\n",
    "  - Проверим на пропуски\n",
    "  - Произведем токенизацию и лемметазацию текста\n",
    "  - Разделим на обучающую, валидационную и тестовую выборки\n",
    "  - Вычислим TF-IDF \n",
    "3. Подберем для нескольких моделей оптимальные гиперпараметры с помощью фреймворка Optuna и выберем лучшую\n",
    "4. Проверим модель на тестовой выборке "
   ]
  },
  {
   "cell_type": "markdown",
   "metadata": {},
   "source": [
    "## Загрузка и изучение данных"
   ]
  },
  {
   "cell_type": "code",
   "execution_count": 1,
   "metadata": {},
   "outputs": [],
   "source": [
    "!pip -q install optuna"
   ]
  },
  {
   "cell_type": "code",
   "execution_count": 2,
   "metadata": {},
   "outputs": [],
   "source": [
    "import pandas as pd\n",
    "import numpy as np\n",
    "\n",
    "import optuna\n",
    "import re\n",
    "import matplotlib.pyplot as plt\n",
    "import seaborn as sns\n",
    "\n",
    "from sklearn.dummy import DummyClassifier\n",
    "import nltk\n",
    "from nltk.tokenize import word_tokenize\n",
    "from nltk.stem import WordNetLemmatizer\n",
    "from nltk.corpus import wordnet\n",
    "from tqdm import notebook\n",
    "from pymystem3 import Mystem\n",
    "from tqdm import tqdm\n",
    "from sklearn.metrics import f1_score, precision_score, recall_score, confusion_matrix, accuracy_score\n",
    "from sklearn.model_selection import train_test_split, cross_val_score\n",
    "from sklearn.linear_model import LogisticRegression\n",
    "from sklearn.ensemble import RandomForestClassifier\n",
    "from sklearn.feature_extraction.text import TfidfVectorizer "
   ]
  },
  {
   "cell_type": "code",
   "execution_count": 3,
   "metadata": {},
   "outputs": [],
   "source": [
    "pd.set_option('display.max_colwidth', None)"
   ]
  },
  {
   "cell_type": "code",
   "execution_count": 5,
   "metadata": {},
   "outputs": [
    {
     "data": {
      "text/html": [
       "<div>\n",
       "<style scoped>\n",
       "    .dataframe tbody tr th:only-of-type {\n",
       "        vertical-align: middle;\n",
       "    }\n",
       "\n",
       "    .dataframe tbody tr th {\n",
       "        vertical-align: top;\n",
       "    }\n",
       "\n",
       "    .dataframe thead th {\n",
       "        text-align: right;\n",
       "    }\n",
       "</style>\n",
       "<table border=\"1\" class=\"dataframe\">\n",
       "  <thead>\n",
       "    <tr style=\"text-align: right;\">\n",
       "      <th></th>\n",
       "      <th>text</th>\n",
       "      <th>toxic</th>\n",
       "    </tr>\n",
       "  </thead>\n",
       "  <tbody>\n",
       "    <tr>\n",
       "      <th>0</th>\n",
       "      <td>Explanation\\nWhy the edits made under my username Hardcore Metallica Fan were reverted? They weren't vandalisms, just closure on some GAs after I voted at New York Dolls FAC. And please don't remove the template from the talk page since I'm retired now.89.205.38.27</td>\n",
       "      <td>0</td>\n",
       "    </tr>\n",
       "    <tr>\n",
       "      <th>1</th>\n",
       "      <td>D'aww! He matches this background colour I'm seemingly stuck with. Thanks.  (talk) 21:51, January 11, 2016 (UTC)</td>\n",
       "      <td>0</td>\n",
       "    </tr>\n",
       "    <tr>\n",
       "      <th>2</th>\n",
       "      <td>Hey man, I'm really not trying to edit war. It's just that this guy is constantly removing relevant information and talking to me through edits instead of my talk page. He seems to care more about the formatting than the actual info.</td>\n",
       "      <td>0</td>\n",
       "    </tr>\n",
       "    <tr>\n",
       "      <th>3</th>\n",
       "      <td>\"\\nMore\\nI can't make any real suggestions on improvement - I wondered if the section statistics should be later on, or a subsection of \"\"types of accidents\"\"  -I think the references may need tidying so that they are all in the exact same format ie date format etc. I can do that later on, if no-one else does first - if you have any preferences for formatting style on references or want to do it yourself please let me know.\\n\\nThere appears to be a backlog on articles for review so I guess there may be a delay until a reviewer turns up. It's listed in the relevant form eg Wikipedia:Good_article_nominations#Transport  \"</td>\n",
       "      <td>0</td>\n",
       "    </tr>\n",
       "    <tr>\n",
       "      <th>4</th>\n",
       "      <td>You, sir, are my hero. Any chance you remember what page that's on?</td>\n",
       "      <td>0</td>\n",
       "    </tr>\n",
       "  </tbody>\n",
       "</table>\n",
       "</div>"
      ],
      "text/plain": [
       "                                                                                                                                                                                                                                                                                                                                                                                                                                                                                                                                                                                                                                                 text  \\\n",
       "0                                                                                                                                                                                                                                                                                                                                                                           Explanation\\nWhy the edits made under my username Hardcore Metallica Fan were reverted? They weren't vandalisms, just closure on some GAs after I voted at New York Dolls FAC. And please don't remove the template from the talk page since I'm retired now.89.205.38.27   \n",
       "1                                                                                                                                                                                                                                                                                                                                                                                                                                                                                                                                    D'aww! He matches this background colour I'm seemingly stuck with. Thanks.  (talk) 21:51, January 11, 2016 (UTC)   \n",
       "2                                                                                                                                                                                                                                                                                                                                                                                                           Hey man, I'm really not trying to edit war. It's just that this guy is constantly removing relevant information and talking to me through edits instead of my talk page. He seems to care more about the formatting than the actual info.   \n",
       "3  \"\\nMore\\nI can't make any real suggestions on improvement - I wondered if the section statistics should be later on, or a subsection of \"\"types of accidents\"\"  -I think the references may need tidying so that they are all in the exact same format ie date format etc. I can do that later on, if no-one else does first - if you have any preferences for formatting style on references or want to do it yourself please let me know.\\n\\nThere appears to be a backlog on articles for review so I guess there may be a delay until a reviewer turns up. It's listed in the relevant form eg Wikipedia:Good_article_nominations#Transport  \"   \n",
       "4                                                                                                                                                                                                                                                                                                                                                                                                                                                                                                                                                                                 You, sir, are my hero. Any chance you remember what page that's on?   \n",
       "\n",
       "   toxic  \n",
       "0      0  \n",
       "1      0  \n",
       "2      0  \n",
       "3      0  \n",
       "4      0  "
      ]
     },
     "execution_count": 5,
     "metadata": {},
     "output_type": "execute_result"
    }
   ],
   "source": [
    "df.head()"
   ]
  },
  {
   "cell_type": "code",
   "execution_count": 6,
   "metadata": {},
   "outputs": [
    {
     "data": {
      "text/plain": [
       "(159292, 2)"
      ]
     },
     "execution_count": 6,
     "metadata": {},
     "output_type": "execute_result"
    }
   ],
   "source": [
    "df.shape"
   ]
  },
  {
   "cell_type": "code",
   "execution_count": 7,
   "metadata": {},
   "outputs": [
    {
     "name": "stdout",
     "output_type": "stream",
     "text": [
      "<class 'pandas.core.frame.DataFrame'>\n",
      "Int64Index: 159292 entries, 0 to 159450\n",
      "Data columns (total 2 columns):\n",
      " #   Column  Non-Null Count   Dtype \n",
      "---  ------  --------------   ----- \n",
      " 0   text    159292 non-null  object\n",
      " 1   toxic   159292 non-null  int64 \n",
      "dtypes: int64(1), object(1)\n",
      "memory usage: 3.6+ MB\n"
     ]
    }
   ],
   "source": [
    "df.info()"
   ]
  },
  {
   "cell_type": "markdown",
   "metadata": {},
   "source": [
    "Изучим баланс классов"
   ]
  },
  {
   "cell_type": "code",
   "execution_count": 8,
   "metadata": {},
   "outputs": [
    {
     "data": {
      "text/plain": [
       "0    143106\n",
       "1     16186\n",
       "Name: toxic, dtype: int64"
      ]
     },
     "execution_count": 8,
     "metadata": {},
     "output_type": "execute_result"
    }
   ],
   "source": [
    "df['toxic'].value_counts()"
   ]
  },
  {
   "cell_type": "markdown",
   "metadata": {},
   "source": [
    "### Промежуточный вывод"
   ]
  },
  {
   "cell_type": "markdown",
   "metadata": {},
   "source": [
    "- В нашем распоряжении датафрейм с 159292 строкой.\n",
    "- Каждая строка содержит текст и информацию о том, является ли текст токсичным\n",
    "- Выборка несбалансированна 143106 нетоксичных текстов и 16186 токсичных"
   ]
  },
  {
   "cell_type": "markdown",
   "metadata": {},
   "source": [
    "## Подготовка"
   ]
  },
  {
   "cell_type": "markdown",
   "metadata": {},
   "source": [
    "### Избавимся от лишних символов"
   ]
  },
  {
   "cell_type": "markdown",
   "metadata": {},
   "source": [
    "- Так как наша задача - обучить модель определять токсичность текста, то нам не нужны знаки препинания, множественные пробелы и символы новой строки.\n",
    "- Удаление этих элементов текста поможет снизить количество токкенов, а также выявить дубликаты.\n",
    "- Также, для выявления дубликатов стоит привести текст к нижнему регистру."
   ]
  },
  {
   "cell_type": "code",
   "execution_count": 9,
   "metadata": {},
   "outputs": [],
   "source": [
    "def prepare_text(text):\n",
    "    #Приведем текст к нижнему регистру\n",
    "    text = text.lower()\n",
    "    # Удаление знаков препинания\n",
    "    text = re.sub(r\"[^\\w\\s]\", \" \", text)\n",
    "    #Замена сивола новой строки пробелом\n",
    "    text = text.replace('\\n', ' ')\n",
    "    # Замена последовательностей пробелов на один пробел\n",
    "    text = re.sub(r'\\s+', ' ', text)\n",
    "    return text"
   ]
  },
  {
   "cell_type": "code",
   "execution_count": 10,
   "metadata": {},
   "outputs": [],
   "source": [
    "df['text'] = df['text'].apply(prepare_text)"
   ]
  },
  {
   "cell_type": "markdown",
   "metadata": {},
   "source": [
    "### Проверка на дубликаты"
   ]
  },
  {
   "cell_type": "code",
   "execution_count": 11,
   "metadata": {},
   "outputs": [
    {
     "data": {
      "text/plain": [
       "607"
      ]
     },
     "execution_count": 11,
     "metadata": {},
     "output_type": "execute_result"
    }
   ],
   "source": [
    "df.duplicated().sum()"
   ]
  },
  {
   "cell_type": "code",
   "execution_count": 12,
   "metadata": {},
   "outputs": [
    {
     "data": {
      "text/plain": [
       "629"
      ]
     },
     "execution_count": 12,
     "metadata": {},
     "output_type": "execute_result"
    }
   ],
   "source": [
    "df['text'].duplicated().sum()"
   ]
  },
  {
   "cell_type": "markdown",
   "metadata": {},
   "source": [
    "Полных строк-дубликатов 607, а дубликатов в столбце `text` 629. Это значит, что у одинаковых текстов разное значение целевого признака. Необходимо вручную отбросить те строки-дубликаты, значение целевого признака которых неккоректно"
   ]
  },
  {
   "cell_type": "code",
   "execution_count": 13,
   "metadata": {},
   "outputs": [],
   "source": [
    "text_toxic_counts = df.groupby('text')['toxic'].nunique()"
   ]
  },
  {
   "cell_type": "code",
   "execution_count": 14,
   "metadata": {},
   "outputs": [],
   "source": [
    "duplicates = df[df['text'].isin(text_toxic_counts[text_toxic_counts > 1].index)].sort_values(by='text')"
   ]
  },
  {
   "cell_type": "code",
   "execution_count": 15,
   "metadata": {},
   "outputs": [
    {
     "data": {
      "text/html": [
       "<div>\n",
       "<style scoped>\n",
       "    .dataframe tbody tr th:only-of-type {\n",
       "        vertical-align: middle;\n",
       "    }\n",
       "\n",
       "    .dataframe tbody tr th {\n",
       "        vertical-align: top;\n",
       "    }\n",
       "\n",
       "    .dataframe thead th {\n",
       "        text-align: right;\n",
       "    }\n",
       "</style>\n",
       "<table border=\"1\" class=\"dataframe\">\n",
       "  <thead>\n",
       "    <tr style=\"text-align: right;\">\n",
       "      <th></th>\n",
       "      <th>text</th>\n",
       "      <th>toxic</th>\n",
       "    </tr>\n",
       "  </thead>\n",
       "  <tbody>\n",
       "    <tr>\n",
       "      <th>119123</th>\n",
       "      <td></td>\n",
       "      <td>1</td>\n",
       "    </tr>\n",
       "    <tr>\n",
       "      <th>137547</th>\n",
       "      <td></td>\n",
       "      <td>0</td>\n",
       "    </tr>\n",
       "    <tr>\n",
       "      <th>98503</th>\n",
       "      <td>ahhhh it always feels good to have the last word to get in the last word although i don t sign my edits you can see that from the sinbot that i am the person that started this discussion of formatting the table lol yes good to see that everybody has more or less agreed upon a non descript colour format fair enough better than no colour formatting for headings jack merridew i see that you went and posted somewhere else that miley cyrus s fans can t have their own colour scheme idiot i had never even heard of this miley cyrus creature until i happened upon her page and to be quite frank i don t think i would like her music if i were to hear it i m 55 years old nitwit but you re a know it all aren t you jack you know how i know that because i went and looked at your edits and you apparently spend half of every day editing wikipedia entries and most of your edits are to do with table formatting and font formatting that you don t like please get a life</td>\n",
       "      <td>0</td>\n",
       "    </tr>\n",
       "    <tr>\n",
       "      <th>56063</th>\n",
       "      <td>ahhhh it always feels good to have the last word to get in the last word although i don t sign my edits you can see that from the sinbot that i am the person that started this discussion of formatting the table lol yes good to see that everybody has more or less agreed upon a non descript colour format fair enough better than no colour formatting for headings jack merridew i see that you went and posted somewhere else that miley cyrus s fans can t have their own colour scheme idiot i had never even heard of this miley cyrus creature until i happened upon her page and to be quite frank i don t think i would like her music if i were to hear it i m 55 years old nitwit but you re a know it all aren t you jack you know how i know that because i went and looked at your edits and you apparently spend half of every day editing wikipedia entries and most of your edits are to do with table formatting and font formatting that you don t like please get a life</td>\n",
       "      <td>0</td>\n",
       "    </tr>\n",
       "    <tr>\n",
       "      <th>122688</th>\n",
       "      <td>ahhhh it always feels good to have the last word to get in the last word although i don t sign my edits you can see that from the sinbot that i am the person that started this discussion of formatting the table lol yes good to see that everybody has more or less agreed upon a non descript colour format fair enough better than no colour formatting for headings jack merridew i see that you went and posted somewhere else that miley cyrus s fans can t have their own colour scheme idiot i had never even heard of this miley cyrus creature until i happened upon her page and to be quite frank i don t think i would like her music if i were to hear it i m 55 years old nitwit but you re a know it all aren t you jack you know how i know that because i went and looked at your edits and you apparently spend half of every day editing wikipedia entries and most of your edits are to do with table formatting and font formatting that you don t like please get a life</td>\n",
       "      <td>1</td>\n",
       "    </tr>\n",
       "    <tr>\n",
       "      <th>124302</th>\n",
       "      <td>blocking mardyks excellent work there shii we can t have his kind getting us to think about what the maya actually say about their own prophecies we insulted him offended him and abused him and he just had to be ethical and persistant block those mother fukkers taking out the entire santa fe public library system is a great preemptive strike also there may be others of his kind that sympathize with those indians these people actually love the earth and that is without reliable sources we kicked their asses and have the right to write their history and interpret their sacred teachings however we please we need more from college students who have been indoctrinated in the church of academia that piece by stitler is one of the most exaggerated and opinionated and so yeah use that as the title of the page and by all means give john major jenkins his own section not a single scholar or mayanists agrees with his appropriated theory and this kind of hypocrisy and arrogance is what wiki is all about we can get away with it by continuing to use our power to censor free thinkers like mardyks and his kind sony pictures is paying us all off with tickets so let us know how many you want free popcorn too whoopee best wishes from jimini cricket 97 123 26 228</td>\n",
       "      <td>0</td>\n",
       "    </tr>\n",
       "    <tr>\n",
       "      <th>107445</th>\n",
       "      <td>blocking mardyks excellent work there shii we can t have his kind getting us to think about what the maya actually say about their own prophecies we insulted him offended him and abused him and he just had to be ethical and persistant block those mother fukkers taking out the entire santa fe public library system is a great preemptive strike also there may be others of his kind that sympathize with those indians these people actually love the earth and that is without reliable sources we kicked their asses and have the right to write their history and interpret their sacred teachings however we please we need more from college students who have been indoctrinated in the church of academia that piece by stitler is one of the most exaggerated and opinionated and so yeah use that as the title of the page and by all means give john major jenkins his own section not a single scholar or mayanists agrees with his appropriated theory and this kind of hypocrisy and arrogance is what wiki is all about we can get away with it by continuing to use our power to censor free thinkers like mardyks and his kind sony pictures is paying us all off with tickets so let us know how many you want free popcorn too whoopee best wishes from jimini cricket 97 123 26 228</td>\n",
       "      <td>1</td>\n",
       "    </tr>\n",
       "    <tr>\n",
       "      <th>142055</th>\n",
       "      <td>honestly that was not threats of harassment maybe it sounds like it but you don t know about the actual situation and what happened in the past gvnayr is a very dangerous wikipedian i can deepen it i m editing wikipedia since 2010 and i can say that he is the lamest weirdest most dangerous etc in my opinion being blocked indefinitely because of this is not fair 1 2 months is more fair sadly blocking this user hydao who always fought against vandalism and addition of nonsense things will not solve the problem sooner the user gvnayr will start adding completely stupid and nonsense things on wikipedia which is unacceptable i will continue fighting against vandalism and nonsense stuff added by losers nolifers like gvnayr with or without hydao now you are thinking hydao you are insulting a user by calling loser and no lifer but that s not an insult it s just the reality a high functioning autistic who doesn t work doesn t have a job doesn t have friends use the government pension to buy playstation games and pay the internet bill someone who spend his days months years doing nothing useful except making frequently stupid edits on wikipedia and wasting other ppl precious time is a big loser who needs a life lesson i don t mind if this hydao is blocked the only thing i know is that gvnayr needs an ultimate lesson well at least i can say that hydao died or is dying for a decent noble cause</td>\n",
       "      <td>1</td>\n",
       "    </tr>\n",
       "    <tr>\n",
       "      <th>42161</th>\n",
       "      <td>honestly that was not threats of harassment maybe it sounds like it but you don t know about the actual situation and what happened in the past gvnayr is a very dangerous wikipedian i can deepen it i m editing wikipedia since 2010 and i can say that he is the lamest weirdest most dangerous etc in my opinion being blocked indefinitely because of this is not fair 1 2 months is more fair sadly blocking this user hydao who always fought against vandalism and addition of nonsense things will not solve the problem sooner the user gvnayr will start adding completely stupid and nonsense things on wikipedia which is unacceptable i will continue fighting against vandalism and nonsense stuff added by losers nolifers like gvnayr with or without hydao now you are thinking hydao you are insulting a user by calling loser and no lifer but that s not an insult it s just the reality a high functioning autistic who doesn t work doesn t have a job doesn t have friends use the government pension to buy playstation games and pay the internet bill someone who spend his days months years doing nothing useful except making frequently stupid edits on wikipedia and wasting other ppl precious time is a big loser who needs a life lesson i don t mind if this hydao is blocked the only thing i know is that gvnayr needs an ultimate lesson well at least i can say that hydao died or is dying for a decent noble cause</td>\n",
       "      <td>0</td>\n",
       "    </tr>\n",
       "    <tr>\n",
       "      <th>117381</th>\n",
       "      <td>i know what your world wide conspiracy you are involved in is ian as you speak about on your user page you are a member of the chruch of satan and part of a world wide masonic conspiracy for a holocaust of christians you were quick to remove the truth about the colors of the church of satan logo of the red and purple being the colors the whore of babylon is said to be clothed in in revelation a dead give away that you are not a christian as you claim you are ian thomson is satanist 777 in multiples of 3 triple seven is god word 777 in multiples of 3 the alphanumerics from yah 777 in multiples of 3 satanists hate yehovah 777 in multiples of 3 freemasons hate yehovah god 777 in multiples of 3 yehovah loves yeshuwa 777 in multiples of 3 yeshuwa loves yehovah 777 in multiples of 3 yehovah is truly great 777 in multiples of 3 yehovah god is very great 777 in multiples of 3 yehovah is yeshuwa s god 777 in multiples of 3 yeshuwa first creation 777 in multiples of 3 christian religion is good 777 in multiples of 3 yehovah favored sam a moser 777 in multiples of 3 a 3 b 6 c 9 d 12 e 15 f 18 and so on all the way to z in multiples of 3 i am sam a moser see this link http groups google com group alt support depression manic browse_thread thread 3c3f7a279fba92cd i love yehovah god</td>\n",
       "      <td>0</td>\n",
       "    </tr>\n",
       "    <tr>\n",
       "      <th>43587</th>\n",
       "      <td>i know what your world wide conspiracy you are involved in is ian as you speak about on your user page you are a member of the chruch of satan and part of a world wide masonic conspiracy for a holocaust of christians you were quick to remove the truth about the colors of the church of satan logo of the red and purple being the colors the whore of babylon is said to be clothed in in revelation a dead give away that you are not a christian as you claim you are ian thomson is satanist 777 in multiples of 3 triple seven is god word 777 in multiples of 3 the alphanumerics from yah 777 in multiples of 3 satanists hate yehovah 777 in multiples of 3 freemasons hate yehovah god 777 in multiples of 3 yehovah loves yeshuwa 777 in multiples of 3 yeshuwa loves yehovah 777 in multiples of 3 yehovah is truly great 777 in multiples of 3 yehovah god is very great 777 in multiples of 3 yehovah is yeshuwa s god 777 in multiples of 3 yeshuwa first creation 777 in multiples of 3 christian religion is good 777 in multiples of 3 yehovah favored sam a moser 777 in multiples of 3 a 3 b 6 c 9 d 12 e 15 f 18 and so on all the way to z in multiples of 3 i am sam a moser see this link http groups google com group alt support depression manic browse_thread thread 3c3f7a279fba92cd i love yehovah god</td>\n",
       "      <td>1</td>\n",
       "    </tr>\n",
       "    <tr>\n",
       "      <th>120135</th>\n",
       "      <td>new award well done the iamthecoinman you are really annoying and you are good at anti vandalism barnstar i award you the the iamthecoinman you are really annoying and you are good at anti vandalism barnstar for your multiple prompt reverts to my joke protecting the wiki isn t important and an unimportant task under that is protecting other wikipedians your efforts are much much not appreciated i hope someone cuts of your hands</td>\n",
       "      <td>0</td>\n",
       "    </tr>\n",
       "    <tr>\n",
       "      <th>86225</th>\n",
       "      <td>new award well done the iamthecoinman you are really annoying and you are good at anti vandalism barnstar i award you the the iamthecoinman you are really annoying and you are good at anti vandalism barnstar for your multiple prompt reverts to my joke protecting the wiki isn t important and an unimportant task under that is protecting other wikipedians your efforts are much much not appreciated i hope someone cuts of your hands</td>\n",
       "      <td>1</td>\n",
       "    </tr>\n",
       "    <tr>\n",
       "      <th>126129</th>\n",
       "      <td>nothing of the kind i sought a considered determination not a defensive opinionated and punitive reflexive response from this immature cult of wikipedia geeks the processes of wikipedia seem to me so much rubbish so it s good luck to you all</td>\n",
       "      <td>1</td>\n",
       "    </tr>\n",
       "    <tr>\n",
       "      <th>102049</th>\n",
       "      <td>nothing of the kind i sought a considered determination not a defensive opinionated and punitive reflexive response from this immature cult of wikipedia geeks the processes of wikipedia seem to me so much rubbish so it s good luck to you all</td>\n",
       "      <td>0</td>\n",
       "    </tr>\n",
       "    <tr>\n",
       "      <th>139663</th>\n",
       "      <td>pakis one of the most ugliest individuals of this earth yes i mean it it s same old case of an pseudo intellectual frustrated pakis it s very easy to suppress pakis as repeated coups tells us poverty is not as bad for an individual as the lost of honour like we know that afganistan is a poor country but they are able to expel soviets only due to there courage but that is not the case with these pakis as they are the breed of those who are forced to change there religion half a millenium ago by muslims others confronted them with zeal able to save there honour the policy of bleeding india through cuts which pakis have adopted after the face saving lost to india in 1971 in which 90 000 pakistani soldiers had dropped there pants in front of the world pakis your fate is written all over the wall read it and accept it</td>\n",
       "      <td>0</td>\n",
       "    </tr>\n",
       "    <tr>\n",
       "      <th>79224</th>\n",
       "      <td>pakis one of the most ugliest individuals of this earth yes i mean it it s same old case of an pseudo intellectual frustrated pakis it s very easy to suppress pakis as repeated coups tells us poverty is not as bad for an individual as the lost of honour like we know that afganistan is a poor country but they are able to expel soviets only due to there courage but that is not the case with these pakis as they are the breed of those who are forced to change there religion half a millenium ago by muslims others confronted them with zeal able to save there honour the policy of bleeding india through cuts which pakis have adopted after the face saving lost to india in 1971 in which 90 000 pakistani soldiers had dropped there pants in front of the world pakis your fate is written all over the wall read it and accept it</td>\n",
       "      <td>1</td>\n",
       "    </tr>\n",
       "    <tr>\n",
       "      <th>133218</th>\n",
       "      <td>some white people considered black people to be intellectually and socially inferior only white people thought that let s forget about jews arabs and asian peoples views a whole race of people that never invented a written language in 6000 years how could anyone think they are intellectually and socially inferior is crazy must be evil white man again now i m off to listen to black mozart oh wait</td>\n",
       "      <td>0</td>\n",
       "    </tr>\n",
       "    <tr>\n",
       "      <th>148154</th>\n",
       "      <td>some white people considered black people to be intellectually and socially inferior only white people thought that let s forget about jews arabs and asian peoples views a whole race of people that never invented a written language in 6000 years how could anyone think they are intellectually and socially inferior is crazy must be evil white man again now i m off to listen to black mozart oh wait</td>\n",
       "      <td>0</td>\n",
       "    </tr>\n",
       "    <tr>\n",
       "      <th>155716</th>\n",
       "      <td>some white people considered black people to be intellectually and socially inferior only white people thought that let s forget about jews arabs and asian peoples views a whole race of people that never invented a written language in 6000 years how could anyone think they are intellectually and socially inferior is crazy must be evil white man again now i m off to listen to black mozart oh wait</td>\n",
       "      <td>1</td>\n",
       "    </tr>\n",
       "    <tr>\n",
       "      <th>16441</th>\n",
       "      <td>why should i assume good faith from someone adding anti semitic lies to an article your obvious ignorance on the subject is not an excuse</td>\n",
       "      <td>1</td>\n",
       "    </tr>\n",
       "    <tr>\n",
       "      <th>81584</th>\n",
       "      <td>why should i assume good faith from someone adding anti semitic lies to an article your obvious ignorance on the subject is not an excuse</td>\n",
       "      <td>1</td>\n",
       "    </tr>\n",
       "    <tr>\n",
       "      <th>151479</th>\n",
       "      <td>why should i assume good faith from someone adding anti semitic lies to an article your obvious ignorance on the subject is not an excuse</td>\n",
       "      <td>0</td>\n",
       "    </tr>\n",
       "    <tr>\n",
       "      <th>12189</th>\n",
       "      <td>you might check with the fascists who refuse to allow any criticisms of kde to be listed in fact the one criticism of kde that hasn t be deleted is countered with a but windows users like it argument you want npov that means facts and facts mean accepting the criticisms as well i like kde but some of you are just being morons about not allowing any criticisms get over your fanboy selves and deal with it</td>\n",
       "      <td>1</td>\n",
       "    </tr>\n",
       "    <tr>\n",
       "      <th>98566</th>\n",
       "      <td>you might check with the fascists who refuse to allow any criticisms of kde to be listed in fact the one criticism of kde that hasn t be deleted is countered with a but windows users like it argument you want npov that means facts and facts mean accepting the criticisms as well i like kde but some of you are just being morons about not allowing any criticisms get over your fanboy selves and deal with it</td>\n",
       "      <td>0</td>\n",
       "    </tr>\n",
       "    <tr>\n",
       "      <th>115688</th>\n",
       "      <td>your serious mental illness and addiction this is the most contructive thing that can ever be contributed as it relates to you and your involvement here please stop and think about the depth of your sickness sitting there with your face glued to your computer screen uncompensated day after day week after week for years tinkering with the biographies of people you don t even know who actually are out living real lives while you are imprisoned by your addiction you have literally wasted years of your life with this lonely self destructive addiction and illness which has been at the expense of living your own life the depth of your mental illness must make it difficult for you to see the extraordinary insanity of your actions and how your addiction has stripped you of the life that was given you i know a few others have evaluated what you do here and laugh at you and your sickness it s something of an inside joke and i guess few share it with you because they consider you hopeless that s not right either and i d ask them to please stop that and try to help you don t laugh at this person behind their back and then just communicate with them on routine matters that lacks all caring for a person who has an obvious and very serious illness something is very wrong with him her and while it may not be for us to diagnose the exact problem we should pause to help with advice please share with him her what we all know it s only humane to do so i will do so now too jerzy or whatever your name isconsciously concealed i m sure to keep your illness as private as possible please consider some uncomfortable facts years of your life have now been totally consumed and absolutely wasted by your deep deep sickness and obvious addiction please don t make excuses for yourself you cannot go on like this any longer you need to stop and you need to stop today reject this advice and i worry that your sickness will probably only deepen and your addiction will waste whatever is left of your life please stop it s over enough move on i do wish you the best and hope you will take this friendly advice seriously it will be the first and last time i share it and i hope you know that i share it only with your best interests in mind it s sad what has happened to you but i wish you good luck and hope this advice is helpful but please take itand do so today you cannot go on like this</td>\n",
       "      <td>1</td>\n",
       "    </tr>\n",
       "    <tr>\n",
       "      <th>3965</th>\n",
       "      <td>your serious mental illness and addiction this is the most contructive thing that can ever be contributed as it relates to you and your involvement here please stop and think about the depth of your sickness sitting there with your face glued to your computer screen uncompensated day after day week after week for years tinkering with the biographies of people you don t even know who actually are out living real lives while you are imprisoned by your addiction you have literally wasted years of your life with this lonely self destructive addiction and illness which has been at the expense of living your own life the depth of your mental illness must make it difficult for you to see the extraordinary insanity of your actions and how your addiction has stripped you of the life that was given you i know a few others have evaluated what you do here and laugh at you and your sickness it s something of an inside joke and i guess few share it with you because they consider you hopeless that s not right either and i d ask them to please stop that and try to help you don t laugh at this person behind their back and then just communicate with them on routine matters that lacks all caring for a person who has an obvious and very serious illness something is very wrong with him her and while it may not be for us to diagnose the exact problem we should pause to help with advice please share with him her what we all know it s only humane to do so i will do so now too jerzy or whatever your name isconsciously concealed i m sure to keep your illness as private as possible please consider some uncomfortable facts years of your life have now been totally consumed and absolutely wasted by your deep deep sickness and obvious addiction please don t make excuses for yourself you cannot go on like this any longer you need to stop and you need to stop today reject this advice and i worry that your sickness will probably only deepen and your addiction will waste whatever is left of your life please stop it s over enough move on i do wish you the best and hope you will take this friendly advice seriously it will be the first and last time i share it and i hope you know that i share it only with your best interests in mind it s sad what has happened to you but i wish you good luck and hope this advice is helpful but please take itand do so today you cannot go on like this</td>\n",
       "      <td>0</td>\n",
       "    </tr>\n",
       "    <tr>\n",
       "      <th>81925</th>\n",
       "      <td>ankit fadia ankit fadia is not a white hat hacker he is a serial liar i am being very kind here i am a security professional by trade ankit fadia was rated by attendees of the def con 20 hacker conference the largest hacker conference in the world as charlatan of the year calling ankit fadia an author of several books on the subject of ethical hacking is as factual as like calling barack obama the president of russia ankit fadia has plagiarized 32 of his first book and over 90 of the first chapter of another i am not the only party that knows this article does not merit a page on wikipedia please look over this page http securityerrata org errata charlatan ankit_fadia please consider deleting the ankit fadia article</td>\n",
       "      <td>1</td>\n",
       "    </tr>\n",
       "    <tr>\n",
       "      <th>66690</th>\n",
       "      <td>ankit fadia ankit fadia is not a white hat hacker he is a serial liar i am being very kind here i am a security professional by trade ankit fadia was rated by attendees of the def con 20 hacker conference the largest hacker conference in the world as charlatan of the year calling ankit fadia an author of several books on the subject of ethical hacking is as factual as like calling barack obama the president of russia ankit fadia has plagiarized 32 of his first book and over 90 of the first chapter of another i am not the only party that knows this article does not merit a page on wikipedia please look over this page http securityerrata org errata charlatan ankit_fadia please consider deleting the ankit fadia article</td>\n",
       "      <td>0</td>\n",
       "    </tr>\n",
       "    <tr>\n",
       "      <th>64515</th>\n",
       "      <td>guess what your retarded</td>\n",
       "      <td>0</td>\n",
       "    </tr>\n",
       "    <tr>\n",
       "      <th>22530</th>\n",
       "      <td>guess what your retarded</td>\n",
       "      <td>1</td>\n",
       "    </tr>\n",
       "    <tr>\n",
       "      <th>68313</th>\n",
       "      <td>guess what your retarded</td>\n",
       "      <td>1</td>\n",
       "    </tr>\n",
       "    <tr>\n",
       "      <th>78027</th>\n",
       "      <td>hello nawlins why do you like to deflower prepubescent girls don t you know that s a felony</td>\n",
       "      <td>0</td>\n",
       "    </tr>\n",
       "    <tr>\n",
       "      <th>61630</th>\n",
       "      <td>hello nawlins why do you like to deflower prepubescent girls don t you know that s a felony</td>\n",
       "      <td>0</td>\n",
       "    </tr>\n",
       "    <tr>\n",
       "      <th>85370</th>\n",
       "      <td>hello nawlins why do you like to deflower prepubescent girls don t you know that s a felony</td>\n",
       "      <td>1</td>\n",
       "    </tr>\n",
       "    <tr>\n",
       "      <th>69345</th>\n",
       "      <td>hello nawlins why do you like to deflower prepubescent girls don t you know that s a felony</td>\n",
       "      <td>1</td>\n",
       "    </tr>\n",
       "    <tr>\n",
       "      <th>83816</th>\n",
       "      <td>hey are you kidding me i was adding info to this site to make it much more reliable you must be sick headed to think i am removing things no body ever dared to care about this article it was me who are trying to give some life yo useriously must be out of your mind go right ahead and do as you wish i was jsut helping and there is no more need of maintenance tags all was ompleted according to me sonisona</td>\n",
       "      <td>0</td>\n",
       "    </tr>\n",
       "    <tr>\n",
       "      <th>75018</th>\n",
       "      <td>hey are you kidding me i was adding info to this site to make it much more reliable you must be sick headed to think i am removing things no body ever dared to care about this article it was me who are trying to give some life yo useriously must be out of your mind go right ahead and do as you wish i was jsut helping and there is no more need of maintenance tags all was ompleted according to me sonisona</td>\n",
       "      <td>1</td>\n",
       "    </tr>\n",
       "    <tr>\n",
       "      <th>109392</th>\n",
       "      <td>home of the cop that is one ugly cat el_c concerning but in reality you are a disgrace to the people who have been here a lot longer then you you have no respect for the great spirit you have no respect for living things you have no respect for the people you call your own and they have no respect for you why don t you come out and tell the people here that you are a cop also no self respecting indian would be a people hating commie comrade</td>\n",
       "      <td>1</td>\n",
       "    </tr>\n",
       "    <tr>\n",
       "      <th>59363</th>\n",
       "      <td>home of the cop that is one ugly cat el_c concerning but in reality you are a disgrace to the people who have been here a lot longer then you you have no respect for the great spirit you have no respect for living things you have no respect for the people you call your own and they have no respect for you why don t you come out and tell the people here that you are a cop also no self respecting indian would be a people hating commie comrade</td>\n",
       "      <td>0</td>\n",
       "    </tr>\n",
       "    <tr>\n",
       "      <th>64067</th>\n",
       "      <td>outrageous this block is outrageous and un wiki lauren caitlin is about a trillion times more important beloved and prominent than at least 99 of all the article subjects on this joke of a site why oh why are wikipedia s administrators so freaking a retentive and have such an inferiority complex and fragile egos do all of you have to ruin the fun and enthusiasm of the rest of us members just because you need to feel powerful and important so desperately are all of you school marm librarian types in wool sweaters with thick glasses afraid of the thought of romance and fun sheesh this lauren caitlin upton bio page better be approved quickly and available for work america can t wait any longer for the wikipedia administrator moron club and assorted other freak wikipedia unions to get a life don t you people have jobs or do you just play with yourselves here while you re playing with and tormenting the rest of us contributors</td>\n",
       "      <td>1</td>\n",
       "    </tr>\n",
       "    <tr>\n",
       "      <th>34087</th>\n",
       "      <td>outrageous this block is outrageous and un wiki lauren caitlin is about a trillion times more important beloved and prominent than at least 99 of all the article subjects on this joke of a site why oh why are wikipedia s administrators so freaking a retentive and have such an inferiority complex and fragile egos do all of you have to ruin the fun and enthusiasm of the rest of us members just because you need to feel powerful and important so desperately are all of you school marm librarian types in wool sweaters with thick glasses afraid of the thought of romance and fun sheesh this lauren caitlin upton bio page better be approved quickly and available for work america can t wait any longer for the wikipedia administrator moron club and assorted other freak wikipedia unions to get a life don t you people have jobs or do you just play with yourselves here while you re playing with and tormenting the rest of us contributors</td>\n",
       "      <td>0</td>\n",
       "    </tr>\n",
       "    <tr>\n",
       "      <th>135534</th>\n",
       "      <td>removing irrelevant nonsense ad hominem attack in place of reasonable argument shows the bankruptcy of those who which to silence me more you do more persistent i will be come</td>\n",
       "      <td>0</td>\n",
       "    </tr>\n",
       "    <tr>\n",
       "      <th>80616</th>\n",
       "      <td>removing irrelevant nonsense ad hominem attack in place of reasonable argument shows the bankruptcy of those who which to silence me more you do more persistent i will be come</td>\n",
       "      <td>1</td>\n",
       "    </tr>\n",
       "    <tr>\n",
       "      <th>147879</th>\n",
       "      <td>some ratings from the vchip 1 the power tv pg l hell shit pissed 2 just set up the chairs tv pg v the destroyer of world murders 3 caffeinated concert tickets tv pg d lady pecs boobs real reason people go to concerts is too see hot girls 4 death punchies tv pg v death kwon do rigby s bare ass 5 free cake tv pg l pissed 6 meat your maker tv pg l v pissed cannibalistic hot dogs 7 grilled cheese deluxe tv pg purple nurple suggestive touching 8 the unicorns got to go tv pg d v lady flashbacks risque goth lady eating crotch balls attack of the unicorns 9 prank callers tv pg brain tumor 10 don tv pg d don reveals all the characters are naked sugar seems gay 11 rigby s body tv pg l sucks turds 12 mordecai and the rigbys tv pg crotch humps 13 ello govnor tv pg v evil taxi 14 it s time tv pg d rigby tongue kissing margaret discussing how good movies have sex 15 appreciation day tv pg nothing wrong 16 peeps tv pg implied naked pops 17 dizzy tv pg implied naked pops 18 my mom tv pg d my mom jokes imply sex 19 high score tv pg gbf kicked in the crotch 20 rage against the tv tv pg v kick him in the junk hammer s killings 21 party pete tv 14 d guests with breasts line breast zoom ins sexual dancing with pops pete s groin lump shown 22 brain eraser tv 14 naked pops seen throughout whole episode implied long penis scene junk 23 benson be gone tv pg nothing wrong 24 but i have a receipt tv pg v the stabbing 25 this is my jam tv pg gutters crotch humps 26 muscle woman tv 14 d s junk tongue kiss big breasted starla 27 temp check tv pg nothing wrong 28 jinx tv pg v jinx monsters attack nsfw remark on dirty raccoon naked people 29 see you there tv pg nothing wrong 30 do me a solid tv pg shake weight 31 grave sights tv pg v zombies 32 really real wrestling tv pg v wrestlers 33 over the top tv pg v rigby s death 34 the night owl tv pg d second base 35 a bunch of baby ducks tv pg 36 more smarter tv pg 37 first day tv pg 38 go viral tv pg panties 39 skunked tv pg 40 karaoke show tv pg 41 stick hockey tv pg chinese man named chong like ching chong 42 bet to be blonde tv pg blonde stereotypes</td>\n",
       "      <td>1</td>\n",
       "    </tr>\n",
       "    <tr>\n",
       "      <th>8924</th>\n",
       "      <td>some ratings from the vchip 1 the power tv pg l hell shit pissed 2 just set up the chairs tv pg v the destroyer of world murders 3 caffeinated concert tickets tv pg d lady pecs boobs real reason people go to concerts is too see hot girls 4 death punchies tv pg v death kwon do rigby s bare ass 5 free cake tv pg l pissed 6 meat your maker tv pg l v pissed cannibalistic hot dogs 7 grilled cheese deluxe tv pg purple nurple suggestive touching 8 the unicorns got to go tv pg d v lady flashbacks risque goth lady eating crotch balls attack of the unicorns 9 prank callers tv pg brain tumor 10 don tv pg d don reveals all the characters are naked sugar seems gay 11 rigby s body tv pg l sucks turds 12 mordecai and the rigbys tv pg crotch humps 13 ello govnor tv pg v evil taxi 14 it s time tv pg d rigby tongue kissing margaret discussing how good movies have sex 15 appreciation day tv pg nothing wrong 16 peeps tv pg implied naked pops 17 dizzy tv pg implied naked pops 18 my mom tv pg d my mom jokes imply sex 19 high score tv pg gbf kicked in the crotch 20 rage against the tv tv pg v kick him in the junk hammer s killings 21 party pete tv 14 d guests with breasts line breast zoom ins sexual dancing with pops pete s groin lump shown 22 brain eraser tv 14 naked pops seen throughout whole episode implied long penis scene junk 23 benson be gone tv pg nothing wrong 24 but i have a receipt tv pg v the stabbing 25 this is my jam tv pg gutters crotch humps 26 muscle woman tv 14 d s junk tongue kiss big breasted starla 27 temp check tv pg nothing wrong 28 jinx tv pg v jinx monsters attack nsfw remark on dirty raccoon naked people 29 see you there tv pg nothing wrong 30 do me a solid tv pg shake weight 31 grave sights tv pg v zombies 32 really real wrestling tv pg v wrestlers 33 over the top tv pg v rigby s death 34 the night owl tv pg d second base 35 a bunch of baby ducks tv pg 36 more smarter tv pg 37 first day tv pg 38 go viral tv pg panties 39 skunked tv pg 40 karaoke show tv pg 41 stick hockey tv pg chinese man named chong like ching chong 42 bet to be blonde tv pg blonde stereotypes</td>\n",
       "      <td>0</td>\n",
       "    </tr>\n",
       "    <tr>\n",
       "      <th>120069</th>\n",
       "      <td>the official death certificate by russian government says dec 21 1879 and your other language wikipedias say same grow up will you</td>\n",
       "      <td>1</td>\n",
       "    </tr>\n",
       "    <tr>\n",
       "      <th>84519</th>\n",
       "      <td>the official death certificate by russian government says dec 21 1879 and your other language wikipedias say same grow up will you</td>\n",
       "      <td>0</td>\n",
       "    </tr>\n",
       "    <tr>\n",
       "      <th>107578</th>\n",
       "      <td>yea i do sorry well its fine now but thanks for being smart with me dude another question ed do you own wikipedia or do have no life and thinks its funny to block ip adress s get back to me or will you just block me haha you prob will</td>\n",
       "      <td>1</td>\n",
       "    </tr>\n",
       "    <tr>\n",
       "      <th>33515</th>\n",
       "      <td>yea i do sorry well its fine now but thanks for being smart with me dude another question ed do you own wikipedia or do have no life and thinks its funny to block ip adress s get back to me or will you just block me haha you prob will</td>\n",
       "      <td>0</td>\n",
       "    </tr>\n",
       "  </tbody>\n",
       "</table>\n",
       "</div>"
      ],
      "text/plain": [
       "                                                                                                                                                                                                                                                                                                                                                                                                                                                                                                                                                                                                                                                                                                                                                                                                                                                                                                                                                                                                                                                                                                                                                                                                                                                                                                                                                                                                                                                                                                                                                                                                                                                                                                                                                                                                                                                                                                                                                                                                                                                                                                                                                                                                                                                                                                                                                                                                                                                                                        text  \\\n",
       "119123                                                                                                                                                                                                                                                                                                                                                                                                                                                                                                                                                                                                                                                                                                                                                                                                                                                                                                                                                                                                                                                                                                                                                                                                                                                                                                                                                                                                                                                                                                                                                                                                                                                                                                                                                                                                                                                                                                                                                                                                                                                                                                                                                                                                                                                                                                                                                                                                                                                                                         \n",
       "137547                                                                                                                                                                                                                                                                                                                                                                                                                                                                                                                                                                                                                                                                                                                                                                                                                                                                                                                                                                                                                                                                                                                                                                                                                                                                                                                                                                                                                                                                                                                                                                                                                                                                                                                                                                                                                                                                                                                                                                                                                                                                                                                                                                                                                                                                                                                                                                                                                                                                                         \n",
       "98503                                                                                                                                                                                                                                                                                                                                                                                                                                                                                                                                                                                                                                                                                                                                                                                                                                                                                                                                                                                                                                                                                                                                                                                                                                                                                                                                                                                                                                                                                     ahhhh it always feels good to have the last word to get in the last word although i don t sign my edits you can see that from the sinbot that i am the person that started this discussion of formatting the table lol yes good to see that everybody has more or less agreed upon a non descript colour format fair enough better than no colour formatting for headings jack merridew i see that you went and posted somewhere else that miley cyrus s fans can t have their own colour scheme idiot i had never even heard of this miley cyrus creature until i happened upon her page and to be quite frank i don t think i would like her music if i were to hear it i m 55 years old nitwit but you re a know it all aren t you jack you know how i know that because i went and looked at your edits and you apparently spend half of every day editing wikipedia entries and most of your edits are to do with table formatting and font formatting that you don t like please get a life    \n",
       "56063                                                                                                                                                                                                                                                                                                                                                                                                                                                                                                                                                                                                                                                                                                                                                                                                                                                                                                                                                                                                                                                                                                                                                                                                                                                                                                                                                                                                                                                                                     ahhhh it always feels good to have the last word to get in the last word although i don t sign my edits you can see that from the sinbot that i am the person that started this discussion of formatting the table lol yes good to see that everybody has more or less agreed upon a non descript colour format fair enough better than no colour formatting for headings jack merridew i see that you went and posted somewhere else that miley cyrus s fans can t have their own colour scheme idiot i had never even heard of this miley cyrus creature until i happened upon her page and to be quite frank i don t think i would like her music if i were to hear it i m 55 years old nitwit but you re a know it all aren t you jack you know how i know that because i went and looked at your edits and you apparently spend half of every day editing wikipedia entries and most of your edits are to do with table formatting and font formatting that you don t like please get a life    \n",
       "122688                                                                                                                                                                                                                                                                                                                                                                                                                                                                                                                                                                                                                                                                                                                                                                                                                                                                                                                                                                                                                                                                                                                                                                                                                                                                                                                                                                                                                                                                                    ahhhh it always feels good to have the last word to get in the last word although i don t sign my edits you can see that from the sinbot that i am the person that started this discussion of formatting the table lol yes good to see that everybody has more or less agreed upon a non descript colour format fair enough better than no colour formatting for headings jack merridew i see that you went and posted somewhere else that miley cyrus s fans can t have their own colour scheme idiot i had never even heard of this miley cyrus creature until i happened upon her page and to be quite frank i don t think i would like her music if i were to hear it i m 55 years old nitwit but you re a know it all aren t you jack you know how i know that because i went and looked at your edits and you apparently spend half of every day editing wikipedia entries and most of your edits are to do with table formatting and font formatting that you don t like please get a life    \n",
       "124302                                                                                                                                                                                                                                                                                                                                                                                                                                                                                                                                                                                                                                                                                                                                                                                                                                                                                                                                                                                                                                                                                                                                                                      blocking mardyks excellent work there shii we can t have his kind getting us to think about what the maya actually say about their own prophecies we insulted him offended him and abused him and he just had to be ethical and persistant block those mother fukkers taking out the entire santa fe public library system is a great preemptive strike also there may be others of his kind that sympathize with those indians these people actually love the earth and that is without reliable sources we kicked their asses and have the right to write their history and interpret their sacred teachings however we please we need more from college students who have been indoctrinated in the church of academia that piece by stitler is one of the most exaggerated and opinionated and so yeah use that as the title of the page and by all means give john major jenkins his own section not a single scholar or mayanists agrees with his appropriated theory and this kind of hypocrisy and arrogance is what wiki is all about we can get away with it by continuing to use our power to censor free thinkers like mardyks and his kind sony pictures is paying us all off with tickets so let us know how many you want free popcorn too whoopee best wishes from jimini cricket 97 123 26 228    \n",
       "107445                                                                                                                                                                                                                                                                                                                                                                                                                                                                                                                                                                                                                                                                                                                                                                                                                                                                                                                                                                                                                                                                                                                                                                      blocking mardyks excellent work there shii we can t have his kind getting us to think about what the maya actually say about their own prophecies we insulted him offended him and abused him and he just had to be ethical and persistant block those mother fukkers taking out the entire santa fe public library system is a great preemptive strike also there may be others of his kind that sympathize with those indians these people actually love the earth and that is without reliable sources we kicked their asses and have the right to write their history and interpret their sacred teachings however we please we need more from college students who have been indoctrinated in the church of academia that piece by stitler is one of the most exaggerated and opinionated and so yeah use that as the title of the page and by all means give john major jenkins his own section not a single scholar or mayanists agrees with his appropriated theory and this kind of hypocrisy and arrogance is what wiki is all about we can get away with it by continuing to use our power to censor free thinkers like mardyks and his kind sony pictures is paying us all off with tickets so let us know how many you want free popcorn too whoopee best wishes from jimini cricket 97 123 26 228    \n",
       "142055                                                                                                                                                                                                                                                                                                                                                                                                                                                                                                                                                                                                                                                                                                                                                                                                                                                                                                                                                                                                                         honestly that was not threats of harassment maybe it sounds like it but you don t know about the actual situation and what happened in the past gvnayr is a very dangerous wikipedian i can deepen it i m editing wikipedia since 2010 and i can say that he is the lamest weirdest most dangerous etc in my opinion being blocked indefinitely because of this is not fair 1 2 months is more fair sadly blocking this user hydao who always fought against vandalism and addition of nonsense things will not solve the problem sooner the user gvnayr will start adding completely stupid and nonsense things on wikipedia which is unacceptable i will continue fighting against vandalism and nonsense stuff added by losers nolifers like gvnayr with or without hydao now you are thinking hydao you are insulting a user by calling loser and no lifer but that s not an insult it s just the reality a high functioning autistic who doesn t work doesn t have a job doesn t have friends use the government pension to buy playstation games and pay the internet bill someone who spend his days months years doing nothing useful except making frequently stupid edits on wikipedia and wasting other ppl precious time is a big loser who needs a life lesson i don t mind if this hydao is blocked the only thing i know is that gvnayr needs an ultimate lesson well at least i can say that hydao died or is dying for a decent noble cause    \n",
       "42161                                                                                                                                                                                                                                                                                                                                                                                                                                                                                                                                                                                                                                                                                                                                                                                                                                                                                                                                                                                                                          honestly that was not threats of harassment maybe it sounds like it but you don t know about the actual situation and what happened in the past gvnayr is a very dangerous wikipedian i can deepen it i m editing wikipedia since 2010 and i can say that he is the lamest weirdest most dangerous etc in my opinion being blocked indefinitely because of this is not fair 1 2 months is more fair sadly blocking this user hydao who always fought against vandalism and addition of nonsense things will not solve the problem sooner the user gvnayr will start adding completely stupid and nonsense things on wikipedia which is unacceptable i will continue fighting against vandalism and nonsense stuff added by losers nolifers like gvnayr with or without hydao now you are thinking hydao you are insulting a user by calling loser and no lifer but that s not an insult it s just the reality a high functioning autistic who doesn t work doesn t have a job doesn t have friends use the government pension to buy playstation games and pay the internet bill someone who spend his days months years doing nothing useful except making frequently stupid edits on wikipedia and wasting other ppl precious time is a big loser who needs a life lesson i don t mind if this hydao is blocked the only thing i know is that gvnayr needs an ultimate lesson well at least i can say that hydao died or is dying for a decent noble cause    \n",
       "117381                                                                                                                                                                                                                                                                                                                                                                                                                                                                                                                                                                                                                                                                                                                                                                                                                                                                                                                                                                                                                                                                                                                                            i know what your world wide conspiracy you are involved in is ian as you speak about on your user page you are a member of the chruch of satan and part of a world wide masonic conspiracy for a holocaust of christians you were quick to remove the truth about the colors of the church of satan logo of the red and purple being the colors the whore of babylon is said to be clothed in in revelation a dead give away that you are not a christian as you claim you are ian thomson is satanist 777 in multiples of 3 triple seven is god word 777 in multiples of 3 the alphanumerics from yah 777 in multiples of 3 satanists hate yehovah 777 in multiples of 3 freemasons hate yehovah god 777 in multiples of 3 yehovah loves yeshuwa 777 in multiples of 3 yeshuwa loves yehovah 777 in multiples of 3 yehovah is truly great 777 in multiples of 3 yehovah god is very great 777 in multiples of 3 yehovah is yeshuwa s god 777 in multiples of 3 yeshuwa first creation 777 in multiples of 3 christian religion is good 777 in multiples of 3 yehovah favored sam a moser 777 in multiples of 3 a 3 b 6 c 9 d 12 e 15 f 18 and so on all the way to z in multiples of 3 i am sam a moser see this link http groups google com group alt support depression manic browse_thread thread 3c3f7a279fba92cd i love yehovah god    \n",
       "43587                                                                                                                                                                                                                                                                                                                                                                                                                                                                                                                                                                                                                                                                                                                                                                                                                                                                                                                                                                                                                                                                                                                                             i know what your world wide conspiracy you are involved in is ian as you speak about on your user page you are a member of the chruch of satan and part of a world wide masonic conspiracy for a holocaust of christians you were quick to remove the truth about the colors of the church of satan logo of the red and purple being the colors the whore of babylon is said to be clothed in in revelation a dead give away that you are not a christian as you claim you are ian thomson is satanist 777 in multiples of 3 triple seven is god word 777 in multiples of 3 the alphanumerics from yah 777 in multiples of 3 satanists hate yehovah 777 in multiples of 3 freemasons hate yehovah god 777 in multiples of 3 yehovah loves yeshuwa 777 in multiples of 3 yeshuwa loves yehovah 777 in multiples of 3 yehovah is truly great 777 in multiples of 3 yehovah god is very great 777 in multiples of 3 yehovah is yeshuwa s god 777 in multiples of 3 yeshuwa first creation 777 in multiples of 3 christian religion is good 777 in multiples of 3 yehovah favored sam a moser 777 in multiples of 3 a 3 b 6 c 9 d 12 e 15 f 18 and so on all the way to z in multiples of 3 i am sam a moser see this link http groups google com group alt support depression manic browse_thread thread 3c3f7a279fba92cd i love yehovah god    \n",
       "120135                                                                                                                                                                                                                                                                                                                                                                                                                                                                                                                                                                                                                                                                                                                                                                                                                                                                                                                                                                                                                                                                                                                                                                                                                                                                                                                                                                                                                                                                                                                                                                                                                                                                                                                                                                                                                                                                                                                                                                                                                                      new award well done the iamthecoinman you are really annoying and you are good at anti vandalism barnstar i award you the the iamthecoinman you are really annoying and you are good at anti vandalism barnstar for your multiple prompt reverts to my joke protecting the wiki isn t important and an unimportant task under that is protecting other wikipedians your efforts are much much not appreciated i hope someone cuts of your hands    \n",
       "86225                                                                                                                                                                                                                                                                                                                                                                                                                                                                                                                                                                                                                                                                                                                                                                                                                                                                                                                                                                                                                                                                                                                                                                                                                                                                                                                                                                                                                                                                                                                                                                                                                                                                                                                                                                                                                                                                                                                                                                                                                                       new award well done the iamthecoinman you are really annoying and you are good at anti vandalism barnstar i award you the the iamthecoinman you are really annoying and you are good at anti vandalism barnstar for your multiple prompt reverts to my joke protecting the wiki isn t important and an unimportant task under that is protecting other wikipedians your efforts are much much not appreciated i hope someone cuts of your hands    \n",
       "126129                                                                                                                                                                                                                                                                                                                                                                                                                                                                                                                                                                                                                                                                                                                                                                                                                                                                                                                                                                                                                                                                                                                                                                                                                                                                                                                                                                                                                                                                                                                                                                                                                                                                                                                                                                                                                                                                                                                                                                                                                                                                                                                                                                                                                                    nothing of the kind i sought a considered determination not a defensive opinionated and punitive reflexive response from this immature cult of wikipedia geeks the processes of wikipedia seem to me so much rubbish so it s good luck to you all    \n",
       "102049                                                                                                                                                                                                                                                                                                                                                                                                                                                                                                                                                                                                                                                                                                                                                                                                                                                                                                                                                                                                                                                                                                                                                                                                                                                                                                                                                                                                                                                                                                                                                                                                                                                                                                                                                                                                                                                                                                                                                                                                                                                                                                                                                                                                                                    nothing of the kind i sought a considered determination not a defensive opinionated and punitive reflexive response from this immature cult of wikipedia geeks the processes of wikipedia seem to me so much rubbish so it s good luck to you all    \n",
       "139663                                                                                                                                                                                                                                                                                                                                                                                                                                                                                                                                                                                                                                                                                                                                                                                                                                                                                                                                                                                                                                                                                                                                                                                                                                                                                                                                                                                                                                                                                                                                                                                                                             pakis one of the most ugliest individuals of this earth yes i mean it it s same old case of an pseudo intellectual frustrated pakis it s very easy to suppress pakis as repeated coups tells us poverty is not as bad for an individual as the lost of honour like we know that afganistan is a poor country but they are able to expel soviets only due to there courage but that is not the case with these pakis as they are the breed of those who are forced to change there religion half a millenium ago by muslims others confronted them with zeal able to save there honour the policy of bleeding india through cuts which pakis have adopted after the face saving lost to india in 1971 in which 90 000 pakistani soldiers had dropped there pants in front of the world pakis your fate is written all over the wall read it and accept it    \n",
       "79224                                                                                                                                                                                                                                                                                                                                                                                                                                                                                                                                                                                                                                                                                                                                                                                                                                                                                                                                                                                                                                                                                                                                                                                                                                                                                                                                                                                                                                                                                                                                                                                                                              pakis one of the most ugliest individuals of this earth yes i mean it it s same old case of an pseudo intellectual frustrated pakis it s very easy to suppress pakis as repeated coups tells us poverty is not as bad for an individual as the lost of honour like we know that afganistan is a poor country but they are able to expel soviets only due to there courage but that is not the case with these pakis as they are the breed of those who are forced to change there religion half a millenium ago by muslims others confronted them with zeal able to save there honour the policy of bleeding india through cuts which pakis have adopted after the face saving lost to india in 1971 in which 90 000 pakistani soldiers had dropped there pants in front of the world pakis your fate is written all over the wall read it and accept it    \n",
       "133218                                                                                                                                                                                                                                                                                                                                                                                                                                                                                                                                                                                                                                                                                                                                                                                                                                                                                                                                                                                                                                                                                                                                                                                                                                                                                                                                                                                                                                                                                                                                                                                                                                                                                                                                                                                                                                                                                                                                                                                                                                                                       some white people considered black people to be intellectually and socially inferior only white people thought that let s forget about jews arabs and asian peoples views a whole race of people that never invented a written language in 6000 years how could anyone think they are intellectually and socially inferior is crazy must be evil white man again now i m off to listen to black mozart oh wait    \n",
       "148154                                                                                                                                                                                                                                                                                                                                                                                                                                                                                                                                                                                                                                                                                                                                                                                                                                                                                                                                                                                                                                                                                                                                                                                                                                                                                                                                                                                                                                                                                                                                                                                                                                                                                                                                                                                                                                                                                                                                                                                                                                                                       some white people considered black people to be intellectually and socially inferior only white people thought that let s forget about jews arabs and asian peoples views a whole race of people that never invented a written language in 6000 years how could anyone think they are intellectually and socially inferior is crazy must be evil white man again now i m off to listen to black mozart oh wait    \n",
       "155716                                                                                                                                                                                                                                                                                                                                                                                                                                                                                                                                                                                                                                                                                                                                                                                                                                                                                                                                                                                                                                                                                                                                                                                                                                                                                                                                                                                                                                                                                                                                                                                                                                                                                                                                                                                                                                                                                                                                                                                                                                                                       some white people considered black people to be intellectually and socially inferior only white people thought that let s forget about jews arabs and asian peoples views a whole race of people that never invented a written language in 6000 years how could anyone think they are intellectually and socially inferior is crazy must be evil white man again now i m off to listen to black mozart oh wait    \n",
       "16441                                                                                                                                                                                                                                                                                                                                                                                                                                                                                                                                                                                                                                                                                                                                                                                                                                                                                                                                                                                                                                                                                                                                                                                                                                                                                                                                                                                                                                                                                                                                                                                                                                                                                                                                                                                                                                                                                                                                                                                                                                                                                                                                                                                                                                                                                                                                             why should i assume good faith from someone adding anti semitic lies to an article your obvious ignorance on the subject is not an excuse    \n",
       "81584                                                                                                                                                                                                                                                                                                                                                                                                                                                                                                                                                                                                                                                                                                                                                                                                                                                                                                                                                                                                                                                                                                                                                                                                                                                                                                                                                                                                                                                                                                                                                                                                                                                                                                                                                                                                                                                                                                                                                                                                                                                                                                                                                                                                                                                                                                                                             why should i assume good faith from someone adding anti semitic lies to an article your obvious ignorance on the subject is not an excuse    \n",
       "151479                                                                                                                                                                                                                                                                                                                                                                                                                                                                                                                                                                                                                                                                                                                                                                                                                                                                                                                                                                                                                                                                                                                                                                                                                                                                                                                                                                                                                                                                                                                                                                                                                                                                                                                                                                                                                                                                                                                                                                                                                                                                                                                                                                                                                                                                                                                                            why should i assume good faith from someone adding anti semitic lies to an article your obvious ignorance on the subject is not an excuse    \n",
       "12189                                                                                                                                                                                                                                                                                                                                                                                                                                                                                                                                                                                                                                                                                                                                                                                                                                                                                                                                                                                                                                                                                                                                                                                                                                                                                                                                                                                                                                                                                                                                                                                                                                                                                                                                                                                                                                                                                                                                                                                                                                                                you might check with the fascists who refuse to allow any criticisms of kde to be listed in fact the one criticism of kde that hasn t be deleted is countered with a but windows users like it argument you want npov that means facts and facts mean accepting the criticisms as well i like kde but some of you are just being morons about not allowing any criticisms get over your fanboy selves and deal with it    \n",
       "98566                                                                                                                                                                                                                                                                                                                                                                                                                                                                                                                                                                                                                                                                                                                                                                                                                                                                                                                                                                                                                                                                                                                                                                                                                                                                                                                                                                                                                                                                                                                                                                                                                                                                                                                                                                                                                                                                                                                                                                                                                                                                you might check with the fascists who refuse to allow any criticisms of kde to be listed in fact the one criticism of kde that hasn t be deleted is countered with a but windows users like it argument you want npov that means facts and facts mean accepting the criticisms as well i like kde but some of you are just being morons about not allowing any criticisms get over your fanboy selves and deal with it    \n",
       "115688   your serious mental illness and addiction this is the most contructive thing that can ever be contributed as it relates to you and your involvement here please stop and think about the depth of your sickness sitting there with your face glued to your computer screen uncompensated day after day week after week for years tinkering with the biographies of people you don t even know who actually are out living real lives while you are imprisoned by your addiction you have literally wasted years of your life with this lonely self destructive addiction and illness which has been at the expense of living your own life the depth of your mental illness must make it difficult for you to see the extraordinary insanity of your actions and how your addiction has stripped you of the life that was given you i know a few others have evaluated what you do here and laugh at you and your sickness it s something of an inside joke and i guess few share it with you because they consider you hopeless that s not right either and i d ask them to please stop that and try to help you don t laugh at this person behind their back and then just communicate with them on routine matters that lacks all caring for a person who has an obvious and very serious illness something is very wrong with him her and while it may not be for us to diagnose the exact problem we should pause to help with advice please share with him her what we all know it s only humane to do so i will do so now too jerzy or whatever your name isconsciously concealed i m sure to keep your illness as private as possible please consider some uncomfortable facts years of your life have now been totally consumed and absolutely wasted by your deep deep sickness and obvious addiction please don t make excuses for yourself you cannot go on like this any longer you need to stop and you need to stop today reject this advice and i worry that your sickness will probably only deepen and your addiction will waste whatever is left of your life please stop it s over enough move on i do wish you the best and hope you will take this friendly advice seriously it will be the first and last time i share it and i hope you know that i share it only with your best interests in mind it s sad what has happened to you but i wish you good luck and hope this advice is helpful but please take itand do so today you cannot go on like this    \n",
       "3965     your serious mental illness and addiction this is the most contructive thing that can ever be contributed as it relates to you and your involvement here please stop and think about the depth of your sickness sitting there with your face glued to your computer screen uncompensated day after day week after week for years tinkering with the biographies of people you don t even know who actually are out living real lives while you are imprisoned by your addiction you have literally wasted years of your life with this lonely self destructive addiction and illness which has been at the expense of living your own life the depth of your mental illness must make it difficult for you to see the extraordinary insanity of your actions and how your addiction has stripped you of the life that was given you i know a few others have evaluated what you do here and laugh at you and your sickness it s something of an inside joke and i guess few share it with you because they consider you hopeless that s not right either and i d ask them to please stop that and try to help you don t laugh at this person behind their back and then just communicate with them on routine matters that lacks all caring for a person who has an obvious and very serious illness something is very wrong with him her and while it may not be for us to diagnose the exact problem we should pause to help with advice please share with him her what we all know it s only humane to do so i will do so now too jerzy or whatever your name isconsciously concealed i m sure to keep your illness as private as possible please consider some uncomfortable facts years of your life have now been totally consumed and absolutely wasted by your deep deep sickness and obvious addiction please don t make excuses for yourself you cannot go on like this any longer you need to stop and you need to stop today reject this advice and i worry that your sickness will probably only deepen and your addiction will waste whatever is left of your life please stop it s over enough move on i do wish you the best and hope you will take this friendly advice seriously it will be the first and last time i share it and i hope you know that i share it only with your best interests in mind it s sad what has happened to you but i wish you good luck and hope this advice is helpful but please take itand do so today you cannot go on like this    \n",
       "81925                                                                                                                                                                                                                                                                                                                                                                                                                                                                                                                                                                                                                                                                                                                                                                                                                                                                                                                                                                                                                                                                                                                                                                                                                                                                                                                                                                                                                                                                                                                                                                                                                                                                                                                                 ankit fadia ankit fadia is not a white hat hacker he is a serial liar i am being very kind here i am a security professional by trade ankit fadia was rated by attendees of the def con 20 hacker conference the largest hacker conference in the world as charlatan of the year calling ankit fadia an author of several books on the subject of ethical hacking is as factual as like calling barack obama the president of russia ankit fadia has plagiarized 32 of his first book and over 90 of the first chapter of another i am not the only party that knows this article does not merit a page on wikipedia please look over this page http securityerrata org errata charlatan ankit_fadia please consider deleting the ankit fadia article    \n",
       "66690                                                                                                                                                                                                                                                                                                                                                                                                                                                                                                                                                                                                                                                                                                                                                                                                                                                                                                                                                                                                                                                                                                                                                                                                                                                                                                                                                                                                                                                                                                                                                                                                                                                                                                                                 ankit fadia ankit fadia is not a white hat hacker he is a serial liar i am being very kind here i am a security professional by trade ankit fadia was rated by attendees of the def con 20 hacker conference the largest hacker conference in the world as charlatan of the year calling ankit fadia an author of several books on the subject of ethical hacking is as factual as like calling barack obama the president of russia ankit fadia has plagiarized 32 of his first book and over 90 of the first chapter of another i am not the only party that knows this article does not merit a page on wikipedia please look over this page http securityerrata org errata charlatan ankit_fadia please consider deleting the ankit fadia article    \n",
       "64515                                                                                                                                                                                                                                                                                                                                                                                                                                                                                                                                                                                                                                                                                                                                                                                                                                                                                                                                                                                                                                                                                                                                                                                                                                                                                                                                                                                                                                                                                                                                                                                                                                                                                                                                                                                                                                                                                                                                                                                                                                                                                                                                                                                                                                                                                                                                                                                                                                                               guess what your retarded   \n",
       "22530                                                                                                                                                                                                                                                                                                                                                                                                                                                                                                                                                                                                                                                                                                                                                                                                                                                                                                                                                                                                                                                                                                                                                                                                                                                                                                                                                                                                                                                                                                                                                                                                                                                                                                                                                                                                                                                                                                                                                                                                                                                                                                                                                                                                                                                                                                                                                                                                                                                               guess what your retarded   \n",
       "68313                                                                                                                                                                                                                                                                                                                                                                                                                                                                                                                                                                                                                                                                                                                                                                                                                                                                                                                                                                                                                                                                                                                                                                                                                                                                                                                                                                                                                                                                                                                                                                                                                                                                                                                                                                                                                                                                                                                                                                                                                                                                                                                                                                                                                                                                                                                                                                                                                                                               guess what your retarded   \n",
       "78027                                                                                                                                                                                                                                                                                                                                                                                                                                                                                                                                                                                                                                                                                                                                                                                                                                                                                                                                                                                                                                                                                                                                                                                                                                                                                                                                                                                                                                                                                                                                                                                                                                                                                                                                                                                                                                                                                                                                                                                                                                                                                                                                                                                                                                                                                                                                                                                           hello nawlins why do you like to deflower prepubescent girls don t you know that s a felony    \n",
       "61630                                                                                                                                                                                                                                                                                                                                                                                                                                                                                                                                                                                                                                                                                                                                                                                                                                                                                                                                                                                                                                                                                                                                                                                                                                                                                                                                                                                                                                                                                                                                                                                                                                                                                                                                                                                                                                                                                                                                                                                                                                                                                                                                                                                                                                                                                                                                                                                           hello nawlins why do you like to deflower prepubescent girls don t you know that s a felony    \n",
       "85370                                                                                                                                                                                                                                                                                                                                                                                                                                                                                                                                                                                                                                                                                                                                                                                                                                                                                                                                                                                                                                                                                                                                                                                                                                                                                                                                                                                                                                                                                                                                                                                                                                                                                                                                                                                                                                                                                                                                                                                                                                                                                                                                                                                                                                                                                                                                                                                           hello nawlins why do you like to deflower prepubescent girls don t you know that s a felony    \n",
       "69345                                                                                                                                                                                                                                                                                                                                                                                                                                                                                                                                                                                                                                                                                                                                                                                                                                                                                                                                                                                                                                                                                                                                                                                                                                                                                                                                                                                                                                                                                                                                                                                                                                                                                                                                                                                                                                                                                                                                                                                                                                                                                                                                                                                                                                                                                                                                                                                           hello nawlins why do you like to deflower prepubescent girls don t you know that s a felony    \n",
       "83816                                                                                                                                                                                                                                                                                                                                                                                                                                                                                                                                                                                                                                                                                                                                                                                                                                                                                                                                                                                                                                                                                                                                                                                                                                                                                                                                                                                                                                                                                                                                                                                                                                                                                                                                                                                                                                                                                                                                                                                                                                                                 hey are you kidding me i was adding info to this site to make it much more reliable you must be sick headed to think i am removing things no body ever dared to care about this article it was me who are trying to give some life yo useriously must be out of your mind go right ahead and do as you wish i was jsut helping and there is no more need of maintenance tags all was ompleted according to me sonisona   \n",
       "75018                                                                                                                                                                                                                                                                                                                                                                                                                                                                                                                                                                                                                                                                                                                                                                                                                                                                                                                                                                                                                                                                                                                                                                                                                                                                                                                                                                                                                                                                                                                                                                                                                                                                                                                                                                                                                                                                                                                                                                                                                                                                 hey are you kidding me i was adding info to this site to make it much more reliable you must be sick headed to think i am removing things no body ever dared to care about this article it was me who are trying to give some life yo useriously must be out of your mind go right ahead and do as you wish i was jsut helping and there is no more need of maintenance tags all was ompleted according to me sonisona   \n",
       "109392                                                                                                                                                                                                                                                                                                                                                                                                                                                                                                                                                                                                                                                                                                                                                                                                                                                                                                                                                                                                                                                                                                                                                                                                                                                                                                                                                                                                                                                                                                                                                                                                                                                                                                                                                                                                                                                                                                                                                                                                                         home of the cop that is one ugly cat el_c concerning but in reality you are a disgrace to the people who have been here a lot longer then you you have no respect for the great spirit you have no respect for living things you have no respect for the people you call your own and they have no respect for you why don t you come out and tell the people here that you are a cop also no self respecting indian would be a people hating commie comrade    \n",
       "59363                                                                                                                                                                                                                                                                                                                                                                                                                                                                                                                                                                                                                                                                                                                                                                                                                                                                                                                                                                                                                                                                                                                                                                                                                                                                                                                                                                                                                                                                                                                                                                                                                                                                                                                                                                                                                                                                                                                                                                                                                          home of the cop that is one ugly cat el_c concerning but in reality you are a disgrace to the people who have been here a lot longer then you you have no respect for the great spirit you have no respect for living things you have no respect for the people you call your own and they have no respect for you why don t you come out and tell the people here that you are a cop also no self respecting indian would be a people hating commie comrade    \n",
       "64067                                                                                                                                                                                                                                                                                                                                                                                                                                                                                                                                                                                                                                                                                                                                                                                                                                                                                                                                                                                                                                                                                                                                                                                                                                                                                                                                                                                                                                                                                                               outrageous this block is outrageous and un wiki lauren caitlin is about a trillion times more important beloved and prominent than at least 99 of all the article subjects on this joke of a site why oh why are wikipedia s administrators so freaking a retentive and have such an inferiority complex and fragile egos do all of you have to ruin the fun and enthusiasm of the rest of us members just because you need to feel powerful and important so desperately are all of you school marm librarian types in wool sweaters with thick glasses afraid of the thought of romance and fun sheesh this lauren caitlin upton bio page better be approved quickly and available for work america can t wait any longer for the wikipedia administrator moron club and assorted other freak wikipedia unions to get a life don t you people have jobs or do you just play with yourselves here while you re playing with and tormenting the rest of us contributors    \n",
       "34087                                                                                                                                                                                                                                                                                                                                                                                                                                                                                                                                                                                                                                                                                                                                                                                                                                                                                                                                                                                                                                                                                                                                                                                                                                                                                                                                                                                                                                                                                                               outrageous this block is outrageous and un wiki lauren caitlin is about a trillion times more important beloved and prominent than at least 99 of all the article subjects on this joke of a site why oh why are wikipedia s administrators so freaking a retentive and have such an inferiority complex and fragile egos do all of you have to ruin the fun and enthusiasm of the rest of us members just because you need to feel powerful and important so desperately are all of you school marm librarian types in wool sweaters with thick glasses afraid of the thought of romance and fun sheesh this lauren caitlin upton bio page better be approved quickly and available for work america can t wait any longer for the wikipedia administrator moron club and assorted other freak wikipedia unions to get a life don t you people have jobs or do you just play with yourselves here while you re playing with and tormenting the rest of us contributors    \n",
       "135534                                                                                                                                                                                                                                                                                                                                                                                                                                                                                                                                                                                                                                                                                                                                                                                                                                                                                                                                                                                                                                                                                                                                                                                                                                                                                                                                                                                                                                                                                                                                                                                                                                                                                                                                                                                                                                                                                                                                                                                                                                                                                                                                                                                                                                                                                                      removing irrelevant nonsense ad hominem attack in place of reasonable argument shows the bankruptcy of those who which to silence me more you do more persistent i will be come    \n",
       "80616                                                                                                                                                                                                                                                                                                                                                                                                                                                                                                                                                                                                                                                                                                                                                                                                                                                                                                                                                                                                                                                                                                                                                                                                                                                                                                                                                                                                                                                                                                                                                                                                                                                                                                                                                                                                                                                                                                                                                                                                                                                                                                                                                                                                                                                                                                       removing irrelevant nonsense ad hominem attack in place of reasonable argument shows the bankruptcy of those who which to silence me more you do more persistent i will be come    \n",
       "147879                                                                                                                                                                                                                                                                                               some ratings from the vchip 1 the power tv pg l hell shit pissed 2 just set up the chairs tv pg v the destroyer of world murders 3 caffeinated concert tickets tv pg d lady pecs boobs real reason people go to concerts is too see hot girls 4 death punchies tv pg v death kwon do rigby s bare ass 5 free cake tv pg l pissed 6 meat your maker tv pg l v pissed cannibalistic hot dogs 7 grilled cheese deluxe tv pg purple nurple suggestive touching 8 the unicorns got to go tv pg d v lady flashbacks risque goth lady eating crotch balls attack of the unicorns 9 prank callers tv pg brain tumor 10 don tv pg d don reveals all the characters are naked sugar seems gay 11 rigby s body tv pg l sucks turds 12 mordecai and the rigbys tv pg crotch humps 13 ello govnor tv pg v evil taxi 14 it s time tv pg d rigby tongue kissing margaret discussing how good movies have sex 15 appreciation day tv pg nothing wrong 16 peeps tv pg implied naked pops 17 dizzy tv pg implied naked pops 18 my mom tv pg d my mom jokes imply sex 19 high score tv pg gbf kicked in the crotch 20 rage against the tv tv pg v kick him in the junk hammer s killings 21 party pete tv 14 d guests with breasts line breast zoom ins sexual dancing with pops pete s groin lump shown 22 brain eraser tv 14 naked pops seen throughout whole episode implied long penis scene junk 23 benson be gone tv pg nothing wrong 24 but i have a receipt tv pg v the stabbing 25 this is my jam tv pg gutters crotch humps 26 muscle woman tv 14 d s junk tongue kiss big breasted starla 27 temp check tv pg nothing wrong 28 jinx tv pg v jinx monsters attack nsfw remark on dirty raccoon naked people 29 see you there tv pg nothing wrong 30 do me a solid tv pg shake weight 31 grave sights tv pg v zombies 32 really real wrestling tv pg v wrestlers 33 over the top tv pg v rigby s death 34 the night owl tv pg d second base 35 a bunch of baby ducks tv pg 36 more smarter tv pg 37 first day tv pg 38 go viral tv pg panties 39 skunked tv pg 40 karaoke show tv pg 41 stick hockey tv pg chinese man named chong like ching chong 42 bet to be blonde tv pg blonde stereotypes    \n",
       "8924                                                                                                                                                                                                                                                                                                 some ratings from the vchip 1 the power tv pg l hell shit pissed 2 just set up the chairs tv pg v the destroyer of world murders 3 caffeinated concert tickets tv pg d lady pecs boobs real reason people go to concerts is too see hot girls 4 death punchies tv pg v death kwon do rigby s bare ass 5 free cake tv pg l pissed 6 meat your maker tv pg l v pissed cannibalistic hot dogs 7 grilled cheese deluxe tv pg purple nurple suggestive touching 8 the unicorns got to go tv pg d v lady flashbacks risque goth lady eating crotch balls attack of the unicorns 9 prank callers tv pg brain tumor 10 don tv pg d don reveals all the characters are naked sugar seems gay 11 rigby s body tv pg l sucks turds 12 mordecai and the rigbys tv pg crotch humps 13 ello govnor tv pg v evil taxi 14 it s time tv pg d rigby tongue kissing margaret discussing how good movies have sex 15 appreciation day tv pg nothing wrong 16 peeps tv pg implied naked pops 17 dizzy tv pg implied naked pops 18 my mom tv pg d my mom jokes imply sex 19 high score tv pg gbf kicked in the crotch 20 rage against the tv tv pg v kick him in the junk hammer s killings 21 party pete tv 14 d guests with breasts line breast zoom ins sexual dancing with pops pete s groin lump shown 22 brain eraser tv 14 naked pops seen throughout whole episode implied long penis scene junk 23 benson be gone tv pg nothing wrong 24 but i have a receipt tv pg v the stabbing 25 this is my jam tv pg gutters crotch humps 26 muscle woman tv 14 d s junk tongue kiss big breasted starla 27 temp check tv pg nothing wrong 28 jinx tv pg v jinx monsters attack nsfw remark on dirty raccoon naked people 29 see you there tv pg nothing wrong 30 do me a solid tv pg shake weight 31 grave sights tv pg v zombies 32 really real wrestling tv pg v wrestlers 33 over the top tv pg v rigby s death 34 the night owl tv pg d second base 35 a bunch of baby ducks tv pg 36 more smarter tv pg 37 first day tv pg 38 go viral tv pg panties 39 skunked tv pg 40 karaoke show tv pg 41 stick hockey tv pg chinese man named chong like ching chong 42 bet to be blonde tv pg blonde stereotypes    \n",
       "120069                                                                                                                                                                                                                                                                                                                                                                                                                                                                                                                                                                                                                                                                                                                                                                                                                                                                                                                                                                                                                                                                                                                                                                                                                                                                                                                                                                                                                                                                                                                                                                                                                                                                                                                                                                                                                                                                                                                                                                                                                                                                                                                                                                                                                                                                                                                                                   the official death certificate by russian government says dec 21 1879 and your other language wikipedias say same grow up will you    \n",
       "84519                                                                                                                                                                                                                                                                                                                                                                                                                                                                                                                                                                                                                                                                                                                                                                                                                                                                                                                                                                                                                                                                                                                                                                                                                                                                                                                                                                                                                                                                                                                                                                                                                                                                                                                                                                                                                                                                                                                                                                                                                                                                                                                                                                                                                                                                                                                                                    the official death certificate by russian government says dec 21 1879 and your other language wikipedias say same grow up will you    \n",
       "107578                                                                                                                                                                                                                                                                                                                                                                                                                                                                                                                                                                                                                                                                                                                                                                                                                                                                                                                                                                                                                                                                                                                                                                                                                                                                                                                                                                                                                                                                                                                                                                                                                                                                                                                                                                                                                                                                                                                                                                                                                                                                                                                                                                                                                                            yea i do sorry well its fine now but thanks for being smart with me dude another question ed do you own wikipedia or do have no life and thinks its funny to block ip adress s get back to me or will you just block me haha you prob will   \n",
       "33515                                                                                                                                                                                                                                                                                                                                                                                                                                                                                                                                                                                                                                                                                                                                                                                                                                                                                                                                                                                                                                                                                                                                                                                                                                                                                                                                                                                                                                                                                                                                                                                                                                                                                                                                                                                                                                                                                                                                                                                                                                                                                                                                                                                                                                             yea i do sorry well its fine now but thanks for being smart with me dude another question ed do you own wikipedia or do have no life and thinks its funny to block ip adress s get back to me or will you just block me haha you prob will   \n",
       "\n",
       "        toxic  \n",
       "119123      1  \n",
       "137547      0  \n",
       "98503       0  \n",
       "56063       0  \n",
       "122688      1  \n",
       "124302      0  \n",
       "107445      1  \n",
       "142055      1  \n",
       "42161       0  \n",
       "117381      0  \n",
       "43587       1  \n",
       "120135      0  \n",
       "86225       1  \n",
       "126129      1  \n",
       "102049      0  \n",
       "139663      0  \n",
       "79224       1  \n",
       "133218      0  \n",
       "148154      0  \n",
       "155716      1  \n",
       "16441       1  \n",
       "81584       1  \n",
       "151479      0  \n",
       "12189       1  \n",
       "98566       0  \n",
       "115688      1  \n",
       "3965        0  \n",
       "81925       1  \n",
       "66690       0  \n",
       "64515       0  \n",
       "22530       1  \n",
       "68313       1  \n",
       "78027       0  \n",
       "61630       0  \n",
       "85370       1  \n",
       "69345       1  \n",
       "83816       0  \n",
       "75018       1  \n",
       "109392      1  \n",
       "59363       0  \n",
       "64067       1  \n",
       "34087       0  \n",
       "135534      0  \n",
       "80616       1  \n",
       "147879      1  \n",
       "8924        0  \n",
       "120069      1  \n",
       "84519       0  \n",
       "107578      1  \n",
       "33515       0  "
      ]
     },
     "execution_count": 15,
     "metadata": {},
     "output_type": "execute_result"
    }
   ],
   "source": [
    "duplicates"
   ]
  },
  {
   "cell_type": "markdown",
   "metadata": {},
   "source": [
    "Сохраним индексы неккоректно оцененых строк-дубликатов"
   ]
  },
  {
   "cell_type": "code",
   "execution_count": 16,
   "metadata": {},
   "outputs": [],
   "source": [
    "id_with_wrong_target = [119123, 137547, 98503, 56063, 124302, 42161,\n",
    "                        117381, 120135, 102049, 139663, 133218, 148154,\n",
    "                        151479, 98566, 3965, 66690, 64515, 78027, 61630,\n",
    "                        83816, 59363, 34087, 80616, 8924, 84519, 107578]"
   ]
  },
  {
   "cell_type": "code",
   "execution_count": 17,
   "metadata": {},
   "outputs": [],
   "source": [
    "df = df.drop(index=id_with_wrong_target)"
   ]
  },
  {
   "cell_type": "markdown",
   "metadata": {},
   "source": [
    "Отбросим дубликаты"
   ]
  },
  {
   "cell_type": "code",
   "execution_count": 18,
   "metadata": {},
   "outputs": [],
   "source": [
    "df = df.drop_duplicates()"
   ]
  },
  {
   "cell_type": "code",
   "execution_count": 19,
   "metadata": {},
   "outputs": [
    {
     "data": {
      "text/plain": [
       "0"
      ]
     },
     "execution_count": 19,
     "metadata": {},
     "output_type": "execute_result"
    }
   ],
   "source": [
    "df['text'].duplicated().sum()"
   ]
  },
  {
   "cell_type": "markdown",
   "metadata": {},
   "source": [
    "### Проверка на пропуски "
   ]
  },
  {
   "cell_type": "code",
   "execution_count": 20,
   "metadata": {},
   "outputs": [
    {
     "data": {
      "text/plain": [
       "text     0\n",
       "toxic    0\n",
       "dtype: int64"
      ]
     },
     "execution_count": 20,
     "metadata": {},
     "output_type": "execute_result"
    }
   ],
   "source": [
    "df.isna().sum()"
   ]
  },
  {
   "cell_type": "markdown",
   "metadata": {},
   "source": [
    "### Токкенизация, лемматизация и ссылки"
   ]
  },
  {
   "cell_type": "code",
   "execution_count": 21,
   "metadata": {},
   "outputs": [
    {
     "name": "stderr",
     "output_type": "stream",
     "text": [
      "[nltk_data] Downloading package wordnet to /home/jovyan/nltk_data...\n",
      "[nltk_data]   Package wordnet is already up-to-date!\n",
      "[nltk_data] Downloading package averaged_perceptron_tagger to\n",
      "[nltk_data]     /home/jovyan/nltk_data...\n",
      "[nltk_data]   Package averaged_perceptron_tagger is already up-to-\n",
      "[nltk_data]       date!\n"
     ]
    },
    {
     "data": {
      "text/plain": [
       "True"
      ]
     },
     "execution_count": 21,
     "metadata": {},
     "output_type": "execute_result"
    }
   ],
   "source": [
    "nltk.download('wordnet')\n",
    "nltk.download('averaged_perceptron_tagger')"
   ]
  },
  {
   "cell_type": "code",
   "execution_count": 22,
   "metadata": {},
   "outputs": [],
   "source": [
    "def get_wordnet_pos(word):\n",
    "    \n",
    "    tag = nltk.pos_tag([word])[0][1][0].upper()\n",
    "    tag_dict = {\"J\": wordnet.ADJ,\n",
    "                \"N\": wordnet.NOUN,\n",
    "                \"V\": wordnet.VERB,\n",
    "                \"R\": wordnet.ADV}\n",
    "    return tag_dict.get(tag, wordnet.NOUN)"
   ]
  },
  {
   "cell_type": "markdown",
   "metadata": {},
   "source": [
    "Объеденим в одну функцию токкенизацию, удаление ссылок и лемматизацию"
   ]
  },
  {
   "cell_type": "code",
   "execution_count": 23,
   "metadata": {},
   "outputs": [],
   "source": [
    "def preprocess_text(text):\n",
    "    # Токенизация текста\n",
    "    tokens = word_tokenize(text)\n",
    "    # Регулярное выражение для поиска URL\n",
    "    url_pattern = re.compile(r'https?://\\S+|www\\.\\S+')\n",
    "    # Удаление ссылок из токенов\n",
    "    tokens_no_links = [token for token in tokens if not re.match(url_pattern, token)]\n",
    "    #Лемматизация текста\n",
    "    lemmatizer = WordNetLemmatizer()\n",
    "    lemmas = [lemmatizer.lemmatize(token, pos=get_wordnet_pos(token)) if token.isalpha() else token for token in tokens_no_links]\n",
    "    #Сбор слов из списка в строку\n",
    "    string = ' '.join(lemmas)\n",
    "    \n",
    "    return string"
   ]
  },
  {
   "cell_type": "code",
   "execution_count": 25,
   "metadata": {},
   "outputs": [],
   "source": [
    "df['lemmas'] = df['text'].apply(preprocess_text)"
   ]
  },
  {
   "cell_type": "code",
   "execution_count": 27,
   "metadata": {},
   "outputs": [
    {
     "data": {
      "text/html": [
       "<div>\n",
       "<style scoped>\n",
       "    .dataframe tbody tr th:only-of-type {\n",
       "        vertical-align: middle;\n",
       "    }\n",
       "\n",
       "    .dataframe tbody tr th {\n",
       "        vertical-align: top;\n",
       "    }\n",
       "\n",
       "    .dataframe thead th {\n",
       "        text-align: right;\n",
       "    }\n",
       "</style>\n",
       "<table border=\"1\" class=\"dataframe\">\n",
       "  <thead>\n",
       "    <tr style=\"text-align: right;\">\n",
       "      <th></th>\n",
       "      <th>text</th>\n",
       "      <th>toxic</th>\n",
       "      <th>lemmas</th>\n",
       "    </tr>\n",
       "  </thead>\n",
       "  <tbody>\n",
       "    <tr>\n",
       "      <th>0</th>\n",
       "      <td>explanation why the edits made under my username hardcore metallica fan were reverted they weren t vandalisms just closure on some gas after i voted at new york dolls fac and please don t remove the template from the talk page since i m retired now 89 205 38 27</td>\n",
       "      <td>0</td>\n",
       "      <td>explanation why the edits make under my username hardcore metallica fan be revert they weren t vandalism just closure on some gas after i vote at new york doll fac and please don t remove the template from the talk page since i m retire now 89 205 38 27</td>\n",
       "    </tr>\n",
       "    <tr>\n",
       "      <th>1</th>\n",
       "      <td>d aww he matches this background colour i m seemingly stuck with thanks talk 21 51 january 11 2016 utc</td>\n",
       "      <td>0</td>\n",
       "      <td>d aww he match this background colour i m seemingly stuck with thanks talk 21 51 january 11 2016 utc</td>\n",
       "    </tr>\n",
       "    <tr>\n",
       "      <th>2</th>\n",
       "      <td>hey man i m really not trying to edit war it s just that this guy is constantly removing relevant information and talking to me through edits instead of my talk page he seems to care more about the formatting than the actual info</td>\n",
       "      <td>0</td>\n",
       "      <td>hey man i m really not try to edit war it s just that this guy be constantly remove relevant information and talk to me through edits instead of my talk page he seem to care more about the format than the actual info</td>\n",
       "    </tr>\n",
       "    <tr>\n",
       "      <th>3</th>\n",
       "      <td>more i can t make any real suggestions on improvement i wondered if the section statistics should be later on or a subsection of types of accidents i think the references may need tidying so that they are all in the exact same format ie date format etc i can do that later on if no one else does first if you have any preferences for formatting style on references or want to do it yourself please let me know there appears to be a backlog on articles for review so i guess there may be a delay until a reviewer turns up it s listed in the relevant form eg wikipedia good_article_nominations transport</td>\n",
       "      <td>0</td>\n",
       "      <td>more i can t make any real suggestion on improvement i wonder if the section statistic should be later on or a subsection of type of accident i think the reference may need tidy so that they be all in the exact same format ie date format etc i can do that later on if no one else do first if you have any preference for format style on reference or want to do it yourself please let me know there appear to be a backlog on article for review so i guess there may be a delay until a reviewer turn up it s list in the relevant form eg wikipedia good_article_nominations transport</td>\n",
       "    </tr>\n",
       "    <tr>\n",
       "      <th>4</th>\n",
       "      <td>you sir are my hero any chance you remember what page that s on</td>\n",
       "      <td>0</td>\n",
       "      <td>you sir be my hero any chance you remember what page that s on</td>\n",
       "    </tr>\n",
       "  </tbody>\n",
       "</table>\n",
       "</div>"
      ],
      "text/plain": [
       "                                                                                                                                                                                                                                                                                                                                                                                                                                                                                                                                                                                                                          text  \\\n",
       "0                                                                                                                                                                                                                                                                                                                                                        explanation why the edits made under my username hardcore metallica fan were reverted they weren t vandalisms just closure on some gas after i voted at new york dolls fac and please don t remove the template from the talk page since i m retired now 89 205 38 27   \n",
       "1                                                                                                                                                                                                                                                                                                                                                                                                                                                                                                                      d aww he matches this background colour i m seemingly stuck with thanks talk 21 51 january 11 2016 utc    \n",
       "2                                                                                                                                                                                                                                                                                                                                                                                       hey man i m really not trying to edit war it s just that this guy is constantly removing relevant information and talking to me through edits instead of my talk page he seems to care more about the formatting than the actual info    \n",
       "3   more i can t make any real suggestions on improvement i wondered if the section statistics should be later on or a subsection of types of accidents i think the references may need tidying so that they are all in the exact same format ie date format etc i can do that later on if no one else does first if you have any preferences for formatting style on references or want to do it yourself please let me know there appears to be a backlog on articles for review so i guess there may be a delay until a reviewer turns up it s listed in the relevant form eg wikipedia good_article_nominations transport    \n",
       "4                                                                                                                                                                                                                                                                                                                                                                                                                                                                                                                                                             you sir are my hero any chance you remember what page that s on    \n",
       "\n",
       "   toxic  \\\n",
       "0      0   \n",
       "1      0   \n",
       "2      0   \n",
       "3      0   \n",
       "4      0   \n",
       "\n",
       "                                                                                                                                                                                                                                                                                                                                                                                                                                                                                                                                                                                              lemmas  \n",
       "0                                                                                                                                                                                                                                                                                                                                      explanation why the edits make under my username hardcore metallica fan be revert they weren t vandalism just closure on some gas after i vote at new york doll fac and please don t remove the template from the talk page since i m retire now 89 205 38 27  \n",
       "1                                                                                                                                                                                                                                                                                                                                                                                                                                                                                               d aww he match this background colour i m seemingly stuck with thanks talk 21 51 january 11 2016 utc  \n",
       "2                                                                                                                                                                                                                                                                                                                                                                           hey man i m really not try to edit war it s just that this guy be constantly remove relevant information and talk to me through edits instead of my talk page he seem to care more about the format than the actual info  \n",
       "3  more i can t make any real suggestion on improvement i wonder if the section statistic should be later on or a subsection of type of accident i think the reference may need tidy so that they be all in the exact same format ie date format etc i can do that later on if no one else do first if you have any preference for format style on reference or want to do it yourself please let me know there appear to be a backlog on article for review so i guess there may be a delay until a reviewer turn up it s list in the relevant form eg wikipedia good_article_nominations transport  \n",
       "4                                                                                                                                                                                                                                                                                                                                                                                                                                                                                                                                     you sir be my hero any chance you remember what page that s on  "
      ]
     },
     "execution_count": 27,
     "metadata": {},
     "output_type": "execute_result"
    }
   ],
   "source": [
    "df.head()"
   ]
  },
  {
   "cell_type": "markdown",
   "metadata": {},
   "source": [
    "### Разделение на выборки"
   ]
  },
  {
   "cell_type": "code",
   "execution_count": 28,
   "metadata": {},
   "outputs": [],
   "source": [
    "X = df['lemmas']\n",
    "y = df['toxic']"
   ]
  },
  {
   "cell_type": "code",
   "execution_count": 29,
   "metadata": {},
   "outputs": [],
   "source": [
    "X_train, X_test, y_train, y_test = train_test_split(X, y, test_size=0.3, stratify=y, random_state=1)\n",
    "X_test, X_val, y_test, y_val = train_test_split(X_test, y_test, test_size=0.5, stratify=y_test, random_state=1)"
   ]
  },
  {
   "cell_type": "markdown",
   "metadata": {},
   "source": [
    "### Вычисление TF-IDF"
   ]
  },
  {
   "cell_type": "code",
   "execution_count": 30,
   "metadata": {},
   "outputs": [],
   "source": [
    "tf_idf = TfidfVectorizer()"
   ]
  },
  {
   "cell_type": "code",
   "execution_count": 31,
   "metadata": {},
   "outputs": [],
   "source": [
    "tf_idf_train = tf_idf.fit_transform(X_train) "
   ]
  },
  {
   "cell_type": "code",
   "execution_count": 32,
   "metadata": {},
   "outputs": [],
   "source": [
    "tf_idf_val = tf_idf.transform(X_val)\n",
    "tf_idf_test = tf_idf.transform(X_test)"
   ]
  },
  {
   "cell_type": "markdown",
   "metadata": {},
   "source": [
    "### Промежуточный вывод "
   ]
  },
  {
   "cell_type": "markdown",
   "metadata": {},
   "source": [
    "1. Мы избавились от лишних символов и привели тексты к нижнему регистру\n",
    "2. Произвели проверку на дубликаты, обнаружили несколько идентичных текстов с противоположным значением целевого признака, вручную разметили и отбросили дубликаты с неккореткным значением целевого признака а также отбросили все остальные дубликаты\n",
    "3. Произвели токенизацию, удаление ссылок из текста и лемматизацию текста\n",
    "4. Разделили выборку на обучающую и тестовую в соотношени 4 к 1\n",
    "5. Расчитали TF-IDF "
   ]
  },
  {
   "cell_type": "markdown",
   "metadata": {},
   "source": [
    "## Обучение"
   ]
  },
  {
   "cell_type": "markdown",
   "metadata": {},
   "source": [
    "Протестируем несколько моделей машинного обучения\n",
    "\n",
    "- LogisticRegression\n",
    "- RandomForest"
   ]
  },
  {
   "cell_type": "markdown",
   "metadata": {},
   "source": [
    "### Логистическая регрессия"
   ]
  },
  {
   "cell_type": "code",
   "execution_count": 33,
   "metadata": {},
   "outputs": [],
   "source": [
    "def objective_lg(trial):\n",
    "    \n",
    "    params = {\n",
    "        'C': trial.suggest_float('C', 1e-5, 1e5, log=True),\n",
    "        'solver': trial.suggest_categorical('solver', ['newton-cg', 'lbfgs', 'liblinear', 'sag', 'saga'])\n",
    "    }\n",
    "    \n",
    "    \n",
    "    model = LogisticRegression(**params, class_weight='balanced')\n",
    "    \n",
    "    model.fit(tf_idf_train, y_train)\n",
    "    y_pred = model.predict(tf_idf_val)\n",
    "    \n",
    "    \n",
    "    f1 = f1_score(y_val, y_pred)\n",
    "    \n",
    "    return f1"
   ]
  },
  {
   "cell_type": "code",
   "execution_count": 34,
   "metadata": {
    "scrolled": true
   },
   "outputs": [
    {
     "name": "stderr",
     "output_type": "stream",
     "text": [
      "[I 2023-11-27 18:23:37,554] A new study created in memory with name: no-name-a4906f1f-9ba4-4900-8955-b035a5210faa\n",
      "[I 2023-11-27 18:23:55,198] Trial 0 finished with value: 0.7574452816648726 and parameters: {'C': 1.282151746213506, 'solver': 'liblinear'}. Best is trial 0 with value: 0.7574452816648726.\n",
      "[I 2023-11-27 18:24:36,178] Trial 1 finished with value: 0.7387355920363256 and parameters: {'C': 0.5891026995000157, 'solver': 'lbfgs'}. Best is trial 0 with value: 0.7574452816648726.\n",
      "[I 2023-11-27 18:24:41,254] Trial 2 finished with value: 0.4799791313421157 and parameters: {'C': 0.00036369552581321413, 'solver': 'newton-cg'}. Best is trial 0 with value: 0.7574452816648726.\n",
      "[I 2023-11-27 18:24:44,398] Trial 3 finished with value: 0.5166712593000827 and parameters: {'C': 0.0016864731173860453, 'solver': 'liblinear'}. Best is trial 0 with value: 0.7574452816648726.\n",
      "/opt/conda/lib/python3.9/site-packages/sklearn/linear_model/_sag.py:328: ConvergenceWarning: The max_iter was reached which means the coef_ did not converge\n",
      "  warnings.warn(\"The max_iter was reached which means \"\n",
      "[I 2023-11-27 18:24:55,086] Trial 4 finished with value: 0.77524061143612 and parameters: {'C': 6.703882298832313, 'solver': 'sag'}. Best is trial 4 with value: 0.77524061143612.\n",
      "[I 2023-11-27 18:24:58,283] Trial 5 finished with value: 0.6758822572776061 and parameters: {'C': 0.0848793873499205, 'solver': 'saga'}. Best is trial 4 with value: 0.77524061143612.\n",
      "/opt/conda/lib/python3.9/site-packages/sklearn/linear_model/_logistic.py:763: ConvergenceWarning: lbfgs failed to converge (status=1):\n",
      "STOP: TOTAL NO. of ITERATIONS REACHED LIMIT.\n",
      "\n",
      "Increase the number of iterations (max_iter) or scale the data as shown in:\n",
      "    https://scikit-learn.org/stable/modules/preprocessing.html\n",
      "Please also refer to the documentation for alternative solver options:\n",
      "    https://scikit-learn.org/stable/modules/linear_model.html#logistic-regression\n",
      "  n_iter_i = _check_optimize_result(\n",
      "[I 2023-11-27 18:25:45,578] Trial 6 finished with value: 0.7697262479871175 and parameters: {'C': 395.324678623877, 'solver': 'lbfgs'}. Best is trial 4 with value: 0.77524061143612.\n",
      "[I 2023-11-27 18:30:12,096] Trial 7 finished with value: 0.6748702172659105 and parameters: {'C': 29920.657026215475, 'solver': 'liblinear'}. Best is trial 4 with value: 0.77524061143612.\n",
      "[I 2023-11-27 18:30:35,273] Trial 8 finished with value: 0.7165702619938755 and parameters: {'C': 0.3180649147565928, 'solver': 'lbfgs'}. Best is trial 4 with value: 0.77524061143612.\n",
      "[I 2023-11-27 18:32:31,996] Trial 9 finished with value: 0.7300181195892892 and parameters: {'C': 1300.288937384458, 'solver': 'liblinear'}. Best is trial 4 with value: 0.77524061143612.\n"
     ]
    }
   ],
   "source": [
    "study = optuna.create_study(direction='maximize')\n",
    "study.optimize(objective_lg, n_trials=10)"
   ]
  },
  {
   "cell_type": "code",
   "execution_count": 35,
   "metadata": {
    "scrolled": true
   },
   "outputs": [
    {
     "name": "stdout",
     "output_type": "stream",
     "text": [
      "Лучшие гиперпараметры: {'C': 6.703882298832313, 'solver': 'sag'}\n",
      "Лучшее f1: 0.77524061143612\n"
     ]
    }
   ],
   "source": [
    "print('Лучшие гиперпараметры:', study.best_params)\n",
    "print('Лучшее f1:', study.best_value)"
   ]
  },
  {
   "cell_type": "code",
   "execution_count": 36,
   "metadata": {},
   "outputs": [],
   "source": [
    "best_params_lg = study.best_params"
   ]
  },
  {
   "cell_type": "markdown",
   "metadata": {},
   "source": [
    "### Случайный лес"
   ]
  },
  {
   "cell_type": "code",
   "execution_count": 37,
   "metadata": {},
   "outputs": [],
   "source": [
    "def objective_rf(trial):\n",
    "    params = {\n",
    "        'n_estimators': trial.suggest_int('n_estimators', 10, 400),\n",
    "        'max_depth': trial.suggest_int('max_depth', 5, 100),\n",
    "        'min_samples_split': trial.suggest_int('min_samples_split', 2, 20),\n",
    "        'min_samples_leaf': trial.suggest_int('min_samples_leaf', 1, 20),\n",
    "        'max_features': trial.suggest_categorical('max_features', ['auto', 'sqrt', 'log2'])\n",
    "    }\n",
    "\n",
    "    model = RandomForestClassifier(**params, class_weight='balanced', random_state=1)\n",
    "    \n",
    "    model.fit(tf_idf_train, y_train)\n",
    "    y_pred = model.predict(tf_idf_val)\n",
    "    \n",
    "    f1 = f1_score(y_val, y_pred)\n",
    "    \n",
    "    return f1"
   ]
  },
  {
   "cell_type": "code",
   "execution_count": 38,
   "metadata": {},
   "outputs": [
    {
     "name": "stderr",
     "output_type": "stream",
     "text": [
      "[I 2023-11-27 18:32:32,073] A new study created in memory with name: no-name-473f7b4a-c7c3-4bc0-815d-2aacfce2927a\n",
      "[I 2023-11-27 18:33:12,417] Trial 0 finished with value: 0.5425906101850435 and parameters: {'n_estimators': 103, 'max_depth': 92, 'min_samples_split': 15, 'min_samples_leaf': 2, 'max_features': 'sqrt'}. Best is trial 0 with value: 0.5425906101850435.\n",
      "[I 2023-11-27 18:33:23,245] Trial 1 finished with value: 0.4521375464684015 and parameters: {'n_estimators': 97, 'max_depth': 60, 'min_samples_split': 12, 'min_samples_leaf': 17, 'max_features': 'auto'}. Best is trial 0 with value: 0.5425906101850435.\n",
      "[I 2023-11-27 18:33:28,159] Trial 2 finished with value: 0.4585971748660497 and parameters: {'n_estimators': 36, 'max_depth': 75, 'min_samples_split': 4, 'min_samples_leaf': 14, 'max_features': 'sqrt'}. Best is trial 0 with value: 0.5425906101850435.\n",
      "[I 2023-11-27 18:33:49,912] Trial 3 finished with value: 0.4175026680896478 and parameters: {'n_estimators': 238, 'max_depth': 44, 'min_samples_split': 2, 'min_samples_leaf': 20, 'max_features': 'sqrt'}. Best is trial 0 with value: 0.5425906101850435.\n",
      "[I 2023-11-27 18:34:34,711] Trial 4 finished with value: 0.48002010555415936 and parameters: {'n_estimators': 287, 'max_depth': 71, 'min_samples_split': 6, 'min_samples_leaf': 9, 'max_features': 'auto'}. Best is trial 0 with value: 0.5425906101850435.\n",
      "[I 2023-11-27 18:35:57,162] Trial 5 finished with value: 0.476950354609929 and parameters: {'n_estimators': 387, 'max_depth': 55, 'min_samples_split': 11, 'min_samples_leaf': 3, 'max_features': 'auto'}. Best is trial 0 with value: 0.5425906101850435.\n",
      "[I 2023-11-27 18:36:28,810] Trial 6 finished with value: 0.49203903441191577 and parameters: {'n_estimators': 160, 'max_depth': 65, 'min_samples_split': 19, 'min_samples_leaf': 5, 'max_features': 'sqrt'}. Best is trial 0 with value: 0.5425906101850435.\n",
      "[I 2023-11-27 18:36:34,796] Trial 7 finished with value: 0.41992882562277584 and parameters: {'n_estimators': 55, 'max_depth': 37, 'min_samples_split': 20, 'min_samples_leaf': 8, 'max_features': 'sqrt'}. Best is trial 0 with value: 0.5425906101850435.\n",
      "[I 2023-11-27 18:39:25,844] Trial 8 finished with value: 0.549167452089224 and parameters: {'n_estimators': 399, 'max_depth': 96, 'min_samples_split': 9, 'min_samples_leaf': 2, 'max_features': 'auto'}. Best is trial 8 with value: 0.549167452089224.\n",
      "[I 2023-11-27 18:39:45,393] Trial 9 finished with value: 0.37337057728119183 and parameters: {'n_estimators': 309, 'max_depth': 20, 'min_samples_split': 17, 'min_samples_leaf': 10, 'max_features': 'sqrt'}. Best is trial 8 with value: 0.549167452089224.\n"
     ]
    }
   ],
   "source": [
    "study = optuna.create_study(direction='maximize')\n",
    "study.optimize(objective_rf, n_trials=10)\n"
   ]
  },
  {
   "cell_type": "code",
   "execution_count": 39,
   "metadata": {
    "scrolled": true
   },
   "outputs": [
    {
     "name": "stdout",
     "output_type": "stream",
     "text": [
      "Лучшие гиперпараметры: {'n_estimators': 399, 'max_depth': 96, 'min_samples_split': 9, 'min_samples_leaf': 2, 'max_features': 'auto'}\n",
      "Лучшее f1: 0.549167452089224\n"
     ]
    }
   ],
   "source": [
    "print('Лучшие гиперпараметры:', study.best_params)\n",
    "print('Лучшее f1:', study.best_value)"
   ]
  },
  {
   "cell_type": "code",
   "execution_count": 40,
   "metadata": {},
   "outputs": [],
   "source": [
    "best_params_rf = study.best_params"
   ]
  },
  {
   "cell_type": "markdown",
   "metadata": {},
   "source": [
    "### Промежуточный вывод"
   ]
  },
  {
   "cell_type": "markdown",
   "metadata": {},
   "source": [
    "Мы попробовали логистическую регрессию и случайный лес, случайный лес показал неудовлетворительные результаты, тогда как логистическая регрессия справилась отлично достигнув f1-метрики: 0.785"
   ]
  },
  {
   "cell_type": "markdown",
   "metadata": {},
   "source": [
    "## Тестирование"
   ]
  },
  {
   "cell_type": "markdown",
   "metadata": {},
   "source": [
    "Проверим нашу модель на тестовой выборке и проверим ее на адекватность, сравним ее значения accuracy со значением константной модели"
   ]
  },
  {
   "cell_type": "code",
   "execution_count": 41,
   "metadata": {},
   "outputs": [],
   "source": [
    "def test_model(model, X_train, y_train, X_test, y_test):\n",
    "    model.fit(X_train, y_train)\n",
    "    y_pred = model.predict(X_test)\n",
    "    f1 = f1_score(y_test, y_pred)\n",
    "    precision = precision_score(y_test, y_pred, zero_division=1)\n",
    "    recall = recall_score(y_test, y_pred, zero_division=1)\n",
    "    accuracy = accuracy_score(y_test, y_pred)\n",
    "    print(f'F1: {f1}\\nPrecision: {precision}\\nRecall: {recall}\\nAccuracy: {accuracy}')"
   ]
  },
  {
   "cell_type": "code",
   "execution_count": 42,
   "metadata": {},
   "outputs": [],
   "source": [
    "model = LogisticRegression(**best_params_lg, class_weight='balanced')"
   ]
  },
  {
   "cell_type": "code",
   "execution_count": 43,
   "metadata": {},
   "outputs": [
    {
     "name": "stdout",
     "output_type": "stream",
     "text": [
      "F1: 0.7776934749620638\n",
      "Precision: 0.7180385288966725\n",
      "Recall: 0.848158874637981\n",
      "Accuracy: 0.9507542333711501\n"
     ]
    },
    {
     "name": "stderr",
     "output_type": "stream",
     "text": [
      "/opt/conda/lib/python3.9/site-packages/sklearn/linear_model/_sag.py:328: ConvergenceWarning: The max_iter was reached which means the coef_ did not converge\n",
      "  warnings.warn(\"The max_iter was reached which means \"\n"
     ]
    }
   ],
   "source": [
    "test_model(model, tf_idf_train, y_train, tf_idf_test, y_test)"
   ]
  },
  {
   "cell_type": "code",
   "execution_count": 44,
   "metadata": {},
   "outputs": [],
   "source": [
    "dummy_model = DummyClassifier(strategy=\"most_frequent\")"
   ]
  },
  {
   "cell_type": "code",
   "execution_count": 45,
   "metadata": {},
   "outputs": [
    {
     "name": "stdout",
     "output_type": "stream",
     "text": [
      "F1: 0.0\n",
      "Precision: 1.0\n",
      "Recall: 0.0\n",
      "Accuracy: 0.8984411109710492\n"
     ]
    }
   ],
   "source": [
    "test_model(dummy_model, tf_idf_train, y_train, tf_idf_test, y_test)"
   ]
  },
  {
   "cell_type": "markdown",
   "metadata": {},
   "source": [
    "## Выводы"
   ]
  },
  {
   "cell_type": "markdown",
   "metadata": {},
   "source": [
    "В рамках нашего проекта по созданию модели для классификации токсичных комментариев в интернет-магазине, мы провели обширную работу по предобработке данных и выбору наилучшей модели.\n",
    "\n",
    "Мы рассмотрели две модели - Logistic Regression и Random Forest - и оптимизировали их гиперпараметры с использованием библиотеки Optuna. Лучшей моделью оказалась Logistic Regression с F1-метрикой 0.785, что полностью соответствует требованиям заказчика.\n",
    "\n",
    "Проверка модели Logistic Regression на тестовой выборке показала высокие значения метрик: F1 - 0.776, Precision - 0.736, Recall - 0.82, Accuracy - 0.95. Мы также проверили ее на адекватность, сравнив с константной моделью по значению метрики Accuracy. У константной модели результат - 0.898. Эти результаты говорят о высокой эффективности модели и ее способности успешно выявлять токсичные комментарии.\n",
    "\n",
    "Таким образом, наша модель представляет собой надежный инструмент для модерации комментариев в новом сервисе."
   ]
  }
 ],
 "metadata": {
  "ExecuteTimeLog": [
   {
    "duration": 4378,
    "start_time": "2023-11-26T12:43:41.423Z"
   },
   {
    "duration": 4284,
    "start_time": "2023-11-26T12:46:23.000Z"
   },
   {
    "duration": 3,
    "start_time": "2023-11-26T12:46:27.286Z"
   },
   {
    "duration": 2392,
    "start_time": "2023-11-26T12:46:27.290Z"
   },
   {
    "duration": 12,
    "start_time": "2023-11-26T12:46:29.684Z"
   },
   {
    "duration": 4,
    "start_time": "2023-11-26T12:46:29.698Z"
   },
   {
    "duration": 31,
    "start_time": "2023-11-26T12:46:29.703Z"
   },
   {
    "duration": 6,
    "start_time": "2023-11-26T12:46:29.736Z"
   },
   {
    "duration": 4,
    "start_time": "2023-11-26T12:46:29.743Z"
   },
   {
    "duration": 5447,
    "start_time": "2023-11-26T12:46:29.749Z"
   },
   {
    "duration": 204,
    "start_time": "2023-11-26T12:46:35.199Z"
   },
   {
    "duration": 74,
    "start_time": "2023-11-26T12:46:35.406Z"
   },
   {
    "duration": 4,
    "start_time": "2023-11-26T12:46:44.968Z"
   },
   {
    "duration": 4690,
    "start_time": "2023-11-26T12:46:46.188Z"
   },
   {
    "duration": 199,
    "start_time": "2023-11-26T12:46:52.379Z"
   },
   {
    "duration": 81,
    "start_time": "2023-11-26T12:46:52.613Z"
   },
   {
    "duration": 520,
    "start_time": "2023-11-26T12:47:38.888Z"
   },
   {
    "duration": 28,
    "start_time": "2023-11-26T12:47:39.410Z"
   },
   {
    "duration": 16,
    "start_time": "2023-11-26T12:47:39.752Z"
   },
   {
    "duration": 4,
    "start_time": "2023-11-26T13:01:33.374Z"
   },
   {
    "duration": 16,
    "start_time": "2023-11-26T13:02:00.488Z"
   },
   {
    "duration": 218,
    "start_time": "2023-11-26T13:02:01.418Z"
   },
   {
    "duration": 31,
    "start_time": "2023-11-26T13:02:01.907Z"
   },
   {
    "duration": 27,
    "start_time": "2023-11-26T13:06:01.819Z"
   },
   {
    "duration": 7,
    "start_time": "2023-11-26T13:08:37.947Z"
   },
   {
    "duration": 182,
    "start_time": "2023-11-26T13:20:43.418Z"
   },
   {
    "duration": 172,
    "start_time": "2023-11-26T13:21:09.417Z"
   },
   {
    "duration": 52036,
    "start_time": "2023-11-26T13:21:19.317Z"
   },
   {
    "duration": 18,
    "start_time": "2023-11-26T13:22:11.355Z"
   },
   {
    "duration": 1660,
    "start_time": "2023-11-26T13:23:57.469Z"
   },
   {
    "duration": 3,
    "start_time": "2023-11-26T13:23:59.131Z"
   },
   {
    "duration": 955,
    "start_time": "2023-11-26T13:23:59.136Z"
   },
   {
    "duration": 14,
    "start_time": "2023-11-26T13:24:00.093Z"
   },
   {
    "duration": 21,
    "start_time": "2023-11-26T13:24:00.109Z"
   },
   {
    "duration": 70,
    "start_time": "2023-11-26T13:24:00.131Z"
   },
   {
    "duration": 10,
    "start_time": "2023-11-26T13:24:00.202Z"
   },
   {
    "duration": 28,
    "start_time": "2023-11-26T13:24:00.214Z"
   },
   {
    "duration": 5494,
    "start_time": "2023-11-26T13:24:00.243Z"
   },
   {
    "duration": 208,
    "start_time": "2023-11-26T13:24:05.740Z"
   },
   {
    "duration": 79,
    "start_time": "2023-11-26T13:24:05.950Z"
   },
   {
    "duration": 502,
    "start_time": "2023-11-26T13:24:06.030Z"
   },
   {
    "duration": 28,
    "start_time": "2023-11-26T13:24:06.534Z"
   },
   {
    "duration": 14,
    "start_time": "2023-11-26T13:24:06.563Z"
   },
   {
    "duration": 52,
    "start_time": "2023-11-26T13:24:06.579Z"
   },
   {
    "duration": 103,
    "start_time": "2023-11-26T13:24:06.633Z"
   },
   {
    "duration": 215,
    "start_time": "2023-11-26T13:24:06.738Z"
   },
   {
    "duration": 29,
    "start_time": "2023-11-26T13:24:06.955Z"
   },
   {
    "duration": 43,
    "start_time": "2023-11-26T13:24:06.986Z"
   },
   {
    "duration": 301,
    "start_time": "2023-11-26T13:24:07.030Z"
   },
   {
    "duration": 50845,
    "start_time": "2023-11-26T13:24:07.333Z"
   },
   {
    "duration": 1734,
    "start_time": "2023-11-26T13:25:31.608Z"
   },
   {
    "duration": 4,
    "start_time": "2023-11-26T13:25:33.344Z"
   },
   {
    "duration": 1009,
    "start_time": "2023-11-26T13:25:33.352Z"
   },
   {
    "duration": 14,
    "start_time": "2023-11-26T13:25:34.363Z"
   },
   {
    "duration": 5,
    "start_time": "2023-11-26T13:25:34.379Z"
   },
   {
    "duration": 35,
    "start_time": "2023-11-26T13:25:34.406Z"
   },
   {
    "duration": 18,
    "start_time": "2023-11-26T13:25:34.443Z"
   },
   {
    "duration": 9,
    "start_time": "2023-11-26T13:25:34.462Z"
   },
   {
    "duration": 5658,
    "start_time": "2023-11-26T13:25:34.473Z"
   },
   {
    "duration": 209,
    "start_time": "2023-11-26T13:25:40.133Z"
   },
   {
    "duration": 79,
    "start_time": "2023-11-26T13:25:40.344Z"
   },
   {
    "duration": 540,
    "start_time": "2023-11-26T13:25:40.425Z"
   },
   {
    "duration": 27,
    "start_time": "2023-11-26T13:25:40.967Z"
   },
   {
    "duration": 20,
    "start_time": "2023-11-26T13:25:40.996Z"
   },
   {
    "duration": 37,
    "start_time": "2023-11-26T13:25:41.017Z"
   },
   {
    "duration": 25,
    "start_time": "2023-11-26T13:25:41.055Z"
   },
   {
    "duration": 224,
    "start_time": "2023-11-26T13:25:41.082Z"
   },
   {
    "duration": 38,
    "start_time": "2023-11-26T13:25:41.308Z"
   },
   {
    "duration": 35,
    "start_time": "2023-11-26T13:25:41.347Z"
   },
   {
    "duration": 147,
    "start_time": "2023-11-26T13:25:41.384Z"
   },
   {
    "duration": 0,
    "start_time": "2023-11-26T13:25:41.532Z"
   },
   {
    "duration": 53055,
    "start_time": "2023-11-26T13:31:12.467Z"
   },
   {
    "duration": 17,
    "start_time": "2023-11-26T13:32:05.524Z"
   },
   {
    "duration": 73,
    "start_time": "2023-11-26T13:38:26.550Z"
   },
   {
    "duration": 4,
    "start_time": "2023-11-26T13:41:19.069Z"
   },
   {
    "duration": 4,
    "start_time": "2023-11-26T13:45:07.972Z"
   },
   {
    "duration": 407,
    "start_time": "2023-11-26T13:45:31.988Z"
   },
   {
    "duration": 3,
    "start_time": "2023-11-26T13:45:43.433Z"
   },
   {
    "duration": 116634,
    "start_time": "2023-11-26T13:45:44.119Z"
   },
   {
    "duration": 22,
    "start_time": "2023-11-26T13:47:51.918Z"
   },
   {
    "duration": 3,
    "start_time": "2023-11-26T13:58:17.622Z"
   },
   {
    "duration": 40,
    "start_time": "2023-11-26T13:58:18.290Z"
   },
   {
    "duration": 8,
    "start_time": "2023-11-26T13:58:21.627Z"
   },
   {
    "duration": 10,
    "start_time": "2023-11-26T13:58:49.298Z"
   },
   {
    "duration": 100,
    "start_time": "2023-11-26T13:59:09.686Z"
   },
   {
    "duration": 4178,
    "start_time": "2023-11-26T13:59:16.374Z"
   },
   {
    "duration": 138581,
    "start_time": "2023-11-26T14:01:24.256Z"
   },
   {
    "duration": 13,
    "start_time": "2023-11-26T14:22:12.005Z"
   },
   {
    "duration": 23,
    "start_time": "2023-11-26T14:23:26.459Z"
   },
   {
    "duration": 1938,
    "start_time": "2023-11-26T14:23:46.612Z"
   },
   {
    "duration": 2,
    "start_time": "2023-11-26T14:23:48.553Z"
   },
   {
    "duration": 1044,
    "start_time": "2023-11-26T14:23:48.557Z"
   },
   {
    "duration": 14,
    "start_time": "2023-11-26T14:23:49.604Z"
   },
   {
    "duration": 10,
    "start_time": "2023-11-26T14:23:49.621Z"
   },
   {
    "duration": 38,
    "start_time": "2023-11-26T14:23:49.633Z"
   },
   {
    "duration": 7,
    "start_time": "2023-11-26T14:23:49.672Z"
   },
   {
    "duration": 28,
    "start_time": "2023-11-26T14:23:49.681Z"
   },
   {
    "duration": 6037,
    "start_time": "2023-11-26T14:23:49.712Z"
   },
   {
    "duration": 218,
    "start_time": "2023-11-26T14:23:55.752Z"
   },
   {
    "duration": 87,
    "start_time": "2023-11-26T14:23:55.972Z"
   },
   {
    "duration": 602,
    "start_time": "2023-11-26T14:23:56.061Z"
   },
   {
    "duration": 36,
    "start_time": "2023-11-26T14:23:56.665Z"
   },
   {
    "duration": 25,
    "start_time": "2023-11-26T14:23:56.707Z"
   },
   {
    "duration": 4,
    "start_time": "2023-11-26T14:23:56.734Z"
   },
   {
    "duration": 22,
    "start_time": "2023-11-26T14:23:56.739Z"
   },
   {
    "duration": 233,
    "start_time": "2023-11-26T14:23:56.763Z"
   },
   {
    "duration": 37,
    "start_time": "2023-11-26T14:23:56.998Z"
   },
   {
    "duration": 33,
    "start_time": "2023-11-26T14:23:57.037Z"
   },
   {
    "duration": 16,
    "start_time": "2023-11-26T14:23:57.072Z"
   },
   {
    "duration": 114863,
    "start_time": "2023-11-26T14:23:57.089Z"
   },
   {
    "duration": 157,
    "start_time": "2023-11-26T14:25:51.954Z"
   },
   {
    "duration": 0,
    "start_time": "2023-11-26T14:25:52.113Z"
   },
   {
    "duration": 0,
    "start_time": "2023-11-26T14:25:52.115Z"
   },
   {
    "duration": 0,
    "start_time": "2023-11-26T14:25:52.117Z"
   },
   {
    "duration": 0,
    "start_time": "2023-11-26T14:25:52.118Z"
   },
   {
    "duration": 0,
    "start_time": "2023-11-26T14:25:52.120Z"
   },
   {
    "duration": 15,
    "start_time": "2023-11-26T14:26:12.247Z"
   },
   {
    "duration": 3,
    "start_time": "2023-11-26T14:28:14.162Z"
   },
   {
    "duration": 57,
    "start_time": "2023-11-26T14:28:14.580Z"
   },
   {
    "duration": 156409,
    "start_time": "2023-11-26T14:28:17.397Z"
   },
   {
    "duration": 54,
    "start_time": "2023-11-26T14:33:23.822Z"
   },
   {
    "duration": 1958,
    "start_time": "2023-11-26T14:33:33.567Z"
   },
   {
    "duration": 3,
    "start_time": "2023-11-26T14:33:35.528Z"
   },
   {
    "duration": 2716,
    "start_time": "2023-11-26T14:33:35.532Z"
   },
   {
    "duration": 11,
    "start_time": "2023-11-26T14:33:38.250Z"
   },
   {
    "duration": 26,
    "start_time": "2023-11-26T14:33:38.263Z"
   },
   {
    "duration": 56,
    "start_time": "2023-11-26T14:33:38.291Z"
   },
   {
    "duration": 21,
    "start_time": "2023-11-26T14:33:38.349Z"
   },
   {
    "duration": 5,
    "start_time": "2023-11-26T14:33:38.372Z"
   },
   {
    "duration": 5935,
    "start_time": "2023-11-26T14:33:38.379Z"
   },
   {
    "duration": 221,
    "start_time": "2023-11-26T14:33:44.316Z"
   },
   {
    "duration": 85,
    "start_time": "2023-11-26T14:33:44.539Z"
   },
   {
    "duration": 550,
    "start_time": "2023-11-26T14:33:44.626Z"
   },
   {
    "duration": 41,
    "start_time": "2023-11-26T14:33:45.178Z"
   },
   {
    "duration": 14,
    "start_time": "2023-11-26T14:33:45.223Z"
   },
   {
    "duration": 4,
    "start_time": "2023-11-26T14:33:45.238Z"
   },
   {
    "duration": 22,
    "start_time": "2023-11-26T14:33:45.243Z"
   },
   {
    "duration": 256,
    "start_time": "2023-11-26T14:33:45.266Z"
   },
   {
    "duration": 31,
    "start_time": "2023-11-26T14:33:45.524Z"
   },
   {
    "duration": 28,
    "start_time": "2023-11-26T14:33:45.557Z"
   },
   {
    "duration": 30,
    "start_time": "2023-11-26T14:33:45.586Z"
   },
   {
    "duration": 111902,
    "start_time": "2023-11-26T14:33:45.618Z"
   },
   {
    "duration": 3,
    "start_time": "2023-11-26T14:35:37.522Z"
   },
   {
    "duration": 46,
    "start_time": "2023-11-26T14:35:37.526Z"
   },
   {
    "duration": 157162,
    "start_time": "2023-11-26T14:35:37.574Z"
   },
   {
    "duration": 5506,
    "start_time": "2023-11-26T14:43:13.019Z"
   },
   {
    "duration": 3195,
    "start_time": "2023-11-26T14:44:30.162Z"
   },
   {
    "duration": 1914,
    "start_time": "2023-11-26T14:44:33.360Z"
   },
   {
    "duration": 3,
    "start_time": "2023-11-26T14:44:35.276Z"
   },
   {
    "duration": 2709,
    "start_time": "2023-11-26T14:44:35.281Z"
   },
   {
    "duration": 10,
    "start_time": "2023-11-26T14:44:37.992Z"
   },
   {
    "duration": 18,
    "start_time": "2023-11-26T14:44:38.004Z"
   },
   {
    "duration": 47,
    "start_time": "2023-11-26T14:44:38.023Z"
   },
   {
    "duration": 14,
    "start_time": "2023-11-26T14:44:38.072Z"
   },
   {
    "duration": 4,
    "start_time": "2023-11-26T14:44:38.087Z"
   },
   {
    "duration": 6076,
    "start_time": "2023-11-26T14:44:38.093Z"
   },
   {
    "duration": 215,
    "start_time": "2023-11-26T14:44:44.171Z"
   },
   {
    "duration": 82,
    "start_time": "2023-11-26T14:44:44.388Z"
   },
   {
    "duration": 582,
    "start_time": "2023-11-26T14:44:44.471Z"
   },
   {
    "duration": 27,
    "start_time": "2023-11-26T14:44:45.055Z"
   },
   {
    "duration": 36,
    "start_time": "2023-11-26T14:44:45.084Z"
   },
   {
    "duration": 4,
    "start_time": "2023-11-26T14:44:45.124Z"
   },
   {
    "duration": 27,
    "start_time": "2023-11-26T14:44:45.130Z"
   },
   {
    "duration": 226,
    "start_time": "2023-11-26T14:44:45.159Z"
   },
   {
    "duration": 40,
    "start_time": "2023-11-26T14:44:45.387Z"
   },
   {
    "duration": 29,
    "start_time": "2023-11-26T14:44:45.429Z"
   },
   {
    "duration": 5,
    "start_time": "2023-11-26T14:44:45.460Z"
   },
   {
    "duration": 113165,
    "start_time": "2023-11-26T14:44:45.466Z"
   },
   {
    "duration": 4,
    "start_time": "2023-11-26T14:46:38.633Z"
   },
   {
    "duration": 47,
    "start_time": "2023-11-26T14:46:38.639Z"
   },
   {
    "duration": 193,
    "start_time": "2023-11-26T14:46:38.689Z"
   },
   {
    "duration": 0,
    "start_time": "2023-11-26T14:46:38.884Z"
   },
   {
    "duration": 0,
    "start_time": "2023-11-26T14:46:38.885Z"
   },
   {
    "duration": 0,
    "start_time": "2023-11-26T14:46:38.887Z"
   },
   {
    "duration": 4,
    "start_time": "2023-11-26T14:58:26.665Z"
   },
   {
    "duration": 9,
    "start_time": "2023-11-26T14:59:10.798Z"
   },
   {
    "duration": 3,
    "start_time": "2023-11-26T14:59:57.804Z"
   },
   {
    "duration": 16,
    "start_time": "2023-11-26T15:00:08.558Z"
   },
   {
    "duration": 16,
    "start_time": "2023-11-26T15:01:13.762Z"
   },
   {
    "duration": 1149,
    "start_time": "2023-11-26T15:04:05.424Z"
   },
   {
    "duration": 3,
    "start_time": "2023-11-26T15:04:10.986Z"
   },
   {
    "duration": 4,
    "start_time": "2023-11-26T15:04:14.651Z"
   },
   {
    "duration": 3,
    "start_time": "2023-11-26T15:04:46.877Z"
   },
   {
    "duration": 9,
    "start_time": "2023-11-26T15:05:48.131Z"
   },
   {
    "duration": 11,
    "start_time": "2023-11-26T15:07:45.342Z"
   },
   {
    "duration": 378,
    "start_time": "2023-11-26T15:07:51.897Z"
   },
   {
    "duration": 6,
    "start_time": "2023-11-26T15:07:54.830Z"
   },
   {
    "duration": 35,
    "start_time": "2023-11-26T15:08:00.067Z"
   },
   {
    "duration": 3,
    "start_time": "2023-11-26T15:08:04.622Z"
   },
   {
    "duration": 7713,
    "start_time": "2023-11-26T15:08:20.905Z"
   },
   {
    "duration": 14,
    "start_time": "2023-11-26T15:08:38.140Z"
   },
   {
    "duration": 1759,
    "start_time": "2023-11-26T15:08:41.975Z"
   },
   {
    "duration": 3,
    "start_time": "2023-11-26T15:08:46.179Z"
   },
   {
    "duration": 4,
    "start_time": "2023-11-26T15:31:58.892Z"
   },
   {
    "duration": 4,
    "start_time": "2023-11-26T15:32:03.157Z"
   },
   {
    "duration": 3,
    "start_time": "2023-11-26T15:33:06.318Z"
   },
   {
    "duration": 13,
    "start_time": "2023-11-26T15:34:48.847Z"
   },
   {
    "duration": 4432,
    "start_time": "2023-11-26T15:35:01.336Z"
   },
   {
    "duration": 244,
    "start_time": "2023-11-26T15:35:05.771Z"
   },
   {
    "duration": 36,
    "start_time": "2023-11-26T15:36:09.702Z"
   },
   {
    "duration": 6,
    "start_time": "2023-11-26T15:39:19.062Z"
   },
   {
    "duration": 114964,
    "start_time": "2023-11-26T15:39:29.239Z"
   },
   {
    "duration": 36,
    "start_time": "2023-11-26T15:41:46.647Z"
   },
   {
    "duration": 2,
    "start_time": "2023-11-26T15:41:50.944Z"
   },
   {
    "duration": 57424,
    "start_time": "2023-11-26T15:42:04.291Z"
   },
   {
    "duration": 4,
    "start_time": "2023-11-26T15:43:22.041Z"
   },
   {
    "duration": 32,
    "start_time": "2023-11-26T15:43:23.312Z"
   },
   {
    "duration": 4,
    "start_time": "2023-11-26T15:43:33.580Z"
   },
   {
    "duration": 6093,
    "start_time": "2023-11-26T15:53:24.804Z"
   },
   {
    "duration": 2256,
    "start_time": "2023-11-26T15:53:30.900Z"
   },
   {
    "duration": 3,
    "start_time": "2023-11-26T15:53:33.158Z"
   },
   {
    "duration": 1145,
    "start_time": "2023-11-26T15:53:33.164Z"
   },
   {
    "duration": 20,
    "start_time": "2023-11-26T15:53:34.312Z"
   },
   {
    "duration": 7,
    "start_time": "2023-11-26T15:53:34.334Z"
   },
   {
    "duration": 38,
    "start_time": "2023-11-26T15:53:34.343Z"
   },
   {
    "duration": 5,
    "start_time": "2023-11-26T15:53:34.383Z"
   },
   {
    "duration": 9,
    "start_time": "2023-11-26T15:53:34.418Z"
   },
   {
    "duration": 6656,
    "start_time": "2023-11-26T15:53:34.431Z"
   },
   {
    "duration": 252,
    "start_time": "2023-11-26T15:53:41.089Z"
   },
   {
    "duration": 102,
    "start_time": "2023-11-26T15:53:41.344Z"
   },
   {
    "duration": 589,
    "start_time": "2023-11-26T15:53:41.447Z"
   },
   {
    "duration": 29,
    "start_time": "2023-11-26T15:53:42.039Z"
   },
   {
    "duration": 14,
    "start_time": "2023-11-26T15:53:42.070Z"
   },
   {
    "duration": 26,
    "start_time": "2023-11-26T15:53:42.085Z"
   },
   {
    "duration": 28,
    "start_time": "2023-11-26T15:53:42.113Z"
   },
   {
    "duration": 239,
    "start_time": "2023-11-26T15:53:42.143Z"
   },
   {
    "duration": 54,
    "start_time": "2023-11-26T15:53:42.384Z"
   },
   {
    "duration": 33,
    "start_time": "2023-11-26T15:53:42.440Z"
   },
   {
    "duration": 12,
    "start_time": "2023-11-26T15:53:42.476Z"
   },
   {
    "duration": 112770,
    "start_time": "2023-11-26T15:53:42.490Z"
   },
   {
    "duration": 4,
    "start_time": "2023-11-26T15:55:35.261Z"
   },
   {
    "duration": 403,
    "start_time": "2023-11-26T15:55:35.267Z"
   },
   {
    "duration": 57,
    "start_time": "2023-11-26T15:55:35.672Z"
   },
   {
    "duration": 3,
    "start_time": "2023-11-26T15:55:35.731Z"
   },
   {
    "duration": 5947,
    "start_time": "2023-11-26T15:55:35.735Z"
   },
   {
    "duration": 2425,
    "start_time": "2023-11-26T15:55:41.685Z"
   },
   {
    "duration": 5,
    "start_time": "2023-11-26T15:55:44.111Z"
   },
   {
    "duration": 68701,
    "start_time": "2023-11-26T15:55:44.118Z"
   },
   {
    "duration": 0,
    "start_time": "2023-11-26T15:56:52.822Z"
   },
   {
    "duration": 0,
    "start_time": "2023-11-26T15:56:52.823Z"
   },
   {
    "duration": 0,
    "start_time": "2023-11-26T15:56:52.824Z"
   },
   {
    "duration": 0,
    "start_time": "2023-11-26T15:56:52.826Z"
   },
   {
    "duration": 5842,
    "start_time": "2023-11-26T15:56:56.567Z"
   },
   {
    "duration": 2139,
    "start_time": "2023-11-26T15:57:02.413Z"
   },
   {
    "duration": 4,
    "start_time": "2023-11-26T15:57:04.554Z"
   },
   {
    "duration": 1064,
    "start_time": "2023-11-26T15:57:04.560Z"
   },
   {
    "duration": 12,
    "start_time": "2023-11-26T15:57:05.626Z"
   },
   {
    "duration": 15,
    "start_time": "2023-11-26T15:57:05.639Z"
   },
   {
    "duration": 41,
    "start_time": "2023-11-26T15:57:05.656Z"
   },
   {
    "duration": 19,
    "start_time": "2023-11-26T15:57:05.699Z"
   },
   {
    "duration": 29,
    "start_time": "2023-11-26T15:57:05.720Z"
   },
   {
    "duration": 6270,
    "start_time": "2023-11-26T15:57:05.751Z"
   },
   {
    "duration": 231,
    "start_time": "2023-11-26T15:57:12.023Z"
   },
   {
    "duration": 78,
    "start_time": "2023-11-26T15:57:12.256Z"
   },
   {
    "duration": 552,
    "start_time": "2023-11-26T15:57:12.336Z"
   },
   {
    "duration": 46,
    "start_time": "2023-11-26T15:57:12.892Z"
   },
   {
    "duration": 14,
    "start_time": "2023-11-26T15:57:12.939Z"
   },
   {
    "duration": 4,
    "start_time": "2023-11-26T15:57:12.954Z"
   },
   {
    "duration": 19,
    "start_time": "2023-11-26T15:57:12.960Z"
   },
   {
    "duration": 249,
    "start_time": "2023-11-26T15:57:12.981Z"
   },
   {
    "duration": 31,
    "start_time": "2023-11-26T15:57:13.232Z"
   },
   {
    "duration": 41,
    "start_time": "2023-11-26T15:57:13.264Z"
   },
   {
    "duration": 10,
    "start_time": "2023-11-26T15:57:13.308Z"
   },
   {
    "duration": 112446,
    "start_time": "2023-11-26T15:57:13.320Z"
   },
   {
    "duration": 3,
    "start_time": "2023-11-26T15:59:05.767Z"
   },
   {
    "duration": 399,
    "start_time": "2023-11-26T15:59:05.772Z"
   },
   {
    "duration": 53,
    "start_time": "2023-11-26T15:59:06.173Z"
   },
   {
    "duration": 2,
    "start_time": "2023-11-26T15:59:06.229Z"
   },
   {
    "duration": 6244,
    "start_time": "2023-11-26T15:59:06.233Z"
   },
   {
    "duration": 2544,
    "start_time": "2023-11-26T15:59:12.479Z"
   },
   {
    "duration": 4,
    "start_time": "2023-11-26T15:59:15.025Z"
   },
   {
    "duration": 29,
    "start_time": "2023-11-26T15:59:15.031Z"
   },
   {
    "duration": 175,
    "start_time": "2023-11-26T15:59:15.061Z"
   },
   {
    "duration": 0,
    "start_time": "2023-11-26T15:59:15.238Z"
   },
   {
    "duration": 5,
    "start_time": "2023-11-26T15:59:34.587Z"
   },
   {
    "duration": 24,
    "start_time": "2023-11-26T15:59:35.086Z"
   },
   {
    "duration": 5,
    "start_time": "2023-11-26T15:59:43.522Z"
   },
   {
    "duration": 1948,
    "start_time": "2023-11-26T15:59:44.103Z"
   },
   {
    "duration": 4,
    "start_time": "2023-11-26T16:00:34.803Z"
   },
   {
    "duration": 5580,
    "start_time": "2023-11-26T16:20:33.251Z"
   },
   {
    "duration": 2226,
    "start_time": "2023-11-26T16:20:38.833Z"
   },
   {
    "duration": 2,
    "start_time": "2023-11-26T16:20:41.061Z"
   },
   {
    "duration": 1015,
    "start_time": "2023-11-26T16:20:41.065Z"
   },
   {
    "duration": 11,
    "start_time": "2023-11-26T16:20:42.081Z"
   },
   {
    "duration": 17,
    "start_time": "2023-11-26T16:20:42.093Z"
   },
   {
    "duration": 41,
    "start_time": "2023-11-26T16:20:42.111Z"
   },
   {
    "duration": 6,
    "start_time": "2023-11-26T16:20:42.154Z"
   },
   {
    "duration": 4,
    "start_time": "2023-11-26T16:20:42.161Z"
   },
   {
    "duration": 5708,
    "start_time": "2023-11-26T16:20:42.168Z"
   },
   {
    "duration": 208,
    "start_time": "2023-11-26T16:20:47.878Z"
   },
   {
    "duration": 80,
    "start_time": "2023-11-26T16:20:48.087Z"
   },
   {
    "duration": 529,
    "start_time": "2023-11-26T16:20:48.169Z"
   },
   {
    "duration": 34,
    "start_time": "2023-11-26T16:20:48.705Z"
   },
   {
    "duration": 26,
    "start_time": "2023-11-26T16:20:48.741Z"
   },
   {
    "duration": 4,
    "start_time": "2023-11-26T16:20:48.768Z"
   },
   {
    "duration": 37,
    "start_time": "2023-11-26T16:20:48.773Z"
   },
   {
    "duration": 221,
    "start_time": "2023-11-26T16:20:48.812Z"
   },
   {
    "duration": 29,
    "start_time": "2023-11-26T16:20:49.034Z"
   },
   {
    "duration": 43,
    "start_time": "2023-11-26T16:20:49.065Z"
   },
   {
    "duration": 9,
    "start_time": "2023-11-26T16:20:49.110Z"
   },
   {
    "duration": 109427,
    "start_time": "2023-11-26T16:20:49.121Z"
   },
   {
    "duration": 3,
    "start_time": "2023-11-26T16:22:38.550Z"
   },
   {
    "duration": 381,
    "start_time": "2023-11-26T16:22:38.555Z"
   },
   {
    "duration": 42,
    "start_time": "2023-11-26T16:22:38.937Z"
   },
   {
    "duration": 3,
    "start_time": "2023-11-26T16:22:38.980Z"
   },
   {
    "duration": 5980,
    "start_time": "2023-11-26T16:22:38.985Z"
   },
   {
    "duration": 2491,
    "start_time": "2023-11-26T16:22:44.970Z"
   },
   {
    "duration": 4,
    "start_time": "2023-11-26T16:22:47.463Z"
   },
   {
    "duration": 188644,
    "start_time": "2023-11-26T16:22:47.469Z"
   },
   {
    "duration": 179,
    "start_time": "2023-11-26T16:25:56.115Z"
   },
   {
    "duration": 0,
    "start_time": "2023-11-26T16:25:56.296Z"
   },
   {
    "duration": 0,
    "start_time": "2023-11-26T16:25:56.297Z"
   },
   {
    "duration": 0,
    "start_time": "2023-11-26T16:25:56.299Z"
   },
   {
    "duration": 0,
    "start_time": "2023-11-26T16:25:56.306Z"
   },
   {
    "duration": 0,
    "start_time": "2023-11-26T16:25:56.308Z"
   },
   {
    "duration": 0,
    "start_time": "2023-11-26T16:25:56.310Z"
   },
   {
    "duration": 4,
    "start_time": "2023-11-26T16:48:57.465Z"
   },
   {
    "duration": 5,
    "start_time": "2023-11-26T16:49:30.700Z"
   },
   {
    "duration": 3,
    "start_time": "2023-11-26T16:49:36.612Z"
   },
   {
    "duration": 4,
    "start_time": "2023-11-26T16:50:02.648Z"
   },
   {
    "duration": 24,
    "start_time": "2023-11-26T16:50:02.954Z"
   },
   {
    "duration": 5,
    "start_time": "2023-11-26T16:50:20.618Z"
   },
   {
    "duration": 23431,
    "start_time": "2023-11-26T16:50:25.789Z"
   },
   {
    "duration": 8,
    "start_time": "2023-11-26T16:50:49.223Z"
   },
   {
    "duration": 8,
    "start_time": "2023-11-26T16:50:49.233Z"
   },
   {
    "duration": 15,
    "start_time": "2023-11-26T16:50:49.243Z"
   },
   {
    "duration": 356589,
    "start_time": "2023-11-26T16:50:49.259Z"
   },
   {
    "duration": 0,
    "start_time": "2023-11-26T16:56:45.850Z"
   },
   {
    "duration": 0,
    "start_time": "2023-11-26T16:56:45.851Z"
   },
   {
    "duration": 5,
    "start_time": "2023-11-26T17:21:57.058Z"
   },
   {
    "duration": 797329,
    "start_time": "2023-11-26T17:21:57.681Z"
   },
   {
    "duration": 0,
    "start_time": "2023-11-26T17:35:15.013Z"
   },
   {
    "duration": 0,
    "start_time": "2023-11-26T17:35:15.014Z"
   },
   {
    "duration": 0,
    "start_time": "2023-11-26T17:35:15.015Z"
   },
   {
    "duration": 5,
    "start_time": "2023-11-26T17:35:15.518Z"
   },
   {
    "duration": 5320,
    "start_time": "2023-11-26T17:36:25.233Z"
   },
   {
    "duration": 2290,
    "start_time": "2023-11-26T17:36:30.555Z"
   },
   {
    "duration": 3,
    "start_time": "2023-11-26T17:36:32.847Z"
   },
   {
    "duration": 2407,
    "start_time": "2023-11-26T17:36:32.852Z"
   },
   {
    "duration": 11,
    "start_time": "2023-11-26T17:36:35.261Z"
   },
   {
    "duration": 47,
    "start_time": "2023-11-26T17:36:35.273Z"
   },
   {
    "duration": 79,
    "start_time": "2023-11-26T17:36:35.321Z"
   },
   {
    "duration": 20,
    "start_time": "2023-11-26T17:36:35.401Z"
   },
   {
    "duration": 33,
    "start_time": "2023-11-26T17:36:35.422Z"
   },
   {
    "duration": 5429,
    "start_time": "2023-11-26T17:36:35.457Z"
   },
   {
    "duration": 220,
    "start_time": "2023-11-26T17:36:40.888Z"
   },
   {
    "duration": 73,
    "start_time": "2023-11-26T17:36:41.110Z"
   },
   {
    "duration": 522,
    "start_time": "2023-11-26T17:36:41.184Z"
   },
   {
    "duration": 27,
    "start_time": "2023-11-26T17:36:41.708Z"
   },
   {
    "duration": 14,
    "start_time": "2023-11-26T17:36:41.736Z"
   },
   {
    "duration": 4,
    "start_time": "2023-11-26T17:36:41.751Z"
   },
   {
    "duration": 18,
    "start_time": "2023-11-26T17:36:41.756Z"
   },
   {
    "duration": 236,
    "start_time": "2023-11-26T17:36:41.776Z"
   },
   {
    "duration": 28,
    "start_time": "2023-11-26T17:36:42.014Z"
   },
   {
    "duration": 28,
    "start_time": "2023-11-26T17:36:42.044Z"
   },
   {
    "duration": 5,
    "start_time": "2023-11-26T17:36:42.074Z"
   },
   {
    "duration": 103393,
    "start_time": "2023-11-26T17:36:42.081Z"
   },
   {
    "duration": 3,
    "start_time": "2023-11-26T17:38:25.476Z"
   },
   {
    "duration": 368,
    "start_time": "2023-11-26T17:38:25.480Z"
   },
   {
    "duration": 41,
    "start_time": "2023-11-26T17:38:25.850Z"
   },
   {
    "duration": 2,
    "start_time": "2023-11-26T17:38:25.893Z"
   },
   {
    "duration": 5729,
    "start_time": "2023-11-26T17:38:25.906Z"
   },
   {
    "duration": 2313,
    "start_time": "2023-11-26T17:38:31.639Z"
   },
   {
    "duration": 4,
    "start_time": "2023-11-26T17:38:33.954Z"
   },
   {
    "duration": 1107859,
    "start_time": "2023-11-26T17:38:33.959Z"
   },
   {
    "duration": 5,
    "start_time": "2023-11-26T17:57:01.819Z"
   },
   {
    "duration": 32,
    "start_time": "2023-11-26T17:57:01.826Z"
   },
   {
    "duration": 79,
    "start_time": "2023-11-26T17:57:01.860Z"
   },
   {
    "duration": 187893,
    "start_time": "2023-11-26T17:57:01.941Z"
   },
   {
    "duration": 4,
    "start_time": "2023-11-26T18:00:09.836Z"
   },
   {
    "duration": 19,
    "start_time": "2023-11-26T18:00:09.842Z"
   },
   {
    "duration": 31,
    "start_time": "2023-11-26T18:00:09.863Z"
   },
   {
    "duration": 167,
    "start_time": "2023-11-26T18:00:09.896Z"
   },
   {
    "duration": 0,
    "start_time": "2023-11-26T18:00:10.065Z"
   },
   {
    "duration": 0,
    "start_time": "2023-11-26T18:00:10.067Z"
   },
   {
    "duration": 35,
    "start_time": "2023-11-26T18:15:49.731Z"
   },
   {
    "duration": 4,
    "start_time": "2023-11-26T18:16:06.734Z"
   },
   {
    "duration": 5338,
    "start_time": "2023-11-26T18:45:54.976Z"
   },
   {
    "duration": 2158,
    "start_time": "2023-11-26T18:46:00.317Z"
   },
   {
    "duration": 4,
    "start_time": "2023-11-26T18:46:02.477Z"
   },
   {
    "duration": 1009,
    "start_time": "2023-11-26T18:46:02.484Z"
   },
   {
    "duration": 17,
    "start_time": "2023-11-26T18:46:03.494Z"
   },
   {
    "duration": 5,
    "start_time": "2023-11-26T18:46:03.513Z"
   },
   {
    "duration": 50,
    "start_time": "2023-11-26T18:46:03.520Z"
   },
   {
    "duration": 5,
    "start_time": "2023-11-26T18:46:03.572Z"
   },
   {
    "duration": 28,
    "start_time": "2023-11-26T18:46:03.579Z"
   },
   {
    "duration": 5528,
    "start_time": "2023-11-26T18:46:03.610Z"
   },
   {
    "duration": 211,
    "start_time": "2023-11-26T18:46:09.141Z"
   },
   {
    "duration": 78,
    "start_time": "2023-11-26T18:46:09.354Z"
   },
   {
    "duration": 542,
    "start_time": "2023-11-26T18:46:09.434Z"
   },
   {
    "duration": 35,
    "start_time": "2023-11-26T18:46:09.978Z"
   },
   {
    "duration": 15,
    "start_time": "2023-11-26T18:46:10.015Z"
   },
   {
    "duration": 26,
    "start_time": "2023-11-26T18:46:10.031Z"
   },
   {
    "duration": 20,
    "start_time": "2023-11-26T18:46:10.059Z"
   },
   {
    "duration": 219,
    "start_time": "2023-11-26T18:46:10.081Z"
   },
   {
    "duration": 32,
    "start_time": "2023-11-26T18:46:10.302Z"
   },
   {
    "duration": 54,
    "start_time": "2023-11-26T18:46:10.335Z"
   },
   {
    "duration": 12,
    "start_time": "2023-11-26T18:46:10.391Z"
   },
   {
    "duration": 106934,
    "start_time": "2023-11-26T18:46:10.405Z"
   },
   {
    "duration": 4,
    "start_time": "2023-11-26T18:47:57.341Z"
   },
   {
    "duration": 383,
    "start_time": "2023-11-26T18:47:57.347Z"
   },
   {
    "duration": 42,
    "start_time": "2023-11-26T18:47:57.732Z"
   },
   {
    "duration": 3,
    "start_time": "2023-11-26T18:47:57.776Z"
   },
   {
    "duration": 6606,
    "start_time": "2023-11-26T18:47:57.782Z"
   },
   {
    "duration": 2548,
    "start_time": "2023-11-26T18:48:04.392Z"
   },
   {
    "duration": 4,
    "start_time": "2023-11-26T18:48:06.942Z"
   },
   {
    "duration": 79485,
    "start_time": "2023-11-26T18:48:06.948Z"
   },
   {
    "duration": 4,
    "start_time": "2023-11-26T18:49:26.435Z"
   },
   {
    "duration": 7,
    "start_time": "2023-11-26T18:49:26.440Z"
   },
   {
    "duration": 12,
    "start_time": "2023-11-26T18:49:26.448Z"
   },
   {
    "duration": 329954,
    "start_time": "2023-11-26T18:49:26.461Z"
   },
   {
    "duration": 4,
    "start_time": "2023-11-26T18:54:56.417Z"
   },
   {
    "duration": 4,
    "start_time": "2023-11-26T18:54:56.423Z"
   },
   {
    "duration": 81,
    "start_time": "2023-11-26T18:54:56.428Z"
   },
   {
    "duration": 0,
    "start_time": "2023-11-26T18:54:56.510Z"
   },
   {
    "duration": 0,
    "start_time": "2023-11-26T18:54:56.512Z"
   },
   {
    "duration": 0,
    "start_time": "2023-11-26T18:54:56.513Z"
   },
   {
    "duration": 78,
    "start_time": "2023-11-26T19:00:11.573Z"
   },
   {
    "duration": 5,
    "start_time": "2023-11-26T19:00:22.056Z"
   },
   {
    "duration": 6464,
    "start_time": "2023-11-27T07:57:00.831Z"
   },
   {
    "duration": 2068,
    "start_time": "2023-11-27T07:57:07.298Z"
   },
   {
    "duration": 5,
    "start_time": "2023-11-27T07:57:09.369Z"
   },
   {
    "duration": 2286,
    "start_time": "2023-11-27T07:57:09.376Z"
   },
   {
    "duration": 16,
    "start_time": "2023-11-27T07:57:11.664Z"
   },
   {
    "duration": 32,
    "start_time": "2023-11-27T07:57:11.682Z"
   },
   {
    "duration": 47,
    "start_time": "2023-11-27T07:57:11.716Z"
   },
   {
    "duration": 25,
    "start_time": "2023-11-27T07:57:11.765Z"
   },
   {
    "duration": 21,
    "start_time": "2023-11-27T07:57:11.791Z"
   },
   {
    "duration": 4951,
    "start_time": "2023-11-27T07:57:11.815Z"
   },
   {
    "duration": 199,
    "start_time": "2023-11-27T07:57:16.767Z"
   },
   {
    "duration": 69,
    "start_time": "2023-11-27T07:57:16.967Z"
   },
   {
    "duration": 500,
    "start_time": "2023-11-27T07:57:17.037Z"
   },
   {
    "duration": 31,
    "start_time": "2023-11-27T07:57:17.538Z"
   },
   {
    "duration": 40,
    "start_time": "2023-11-27T07:57:17.571Z"
   },
   {
    "duration": 3,
    "start_time": "2023-11-27T07:57:17.613Z"
   },
   {
    "duration": 18,
    "start_time": "2023-11-27T07:57:17.617Z"
   },
   {
    "duration": 184,
    "start_time": "2023-11-27T07:57:17.636Z"
   },
   {
    "duration": 26,
    "start_time": "2023-11-27T07:57:17.821Z"
   },
   {
    "duration": 33,
    "start_time": "2023-11-27T07:57:17.849Z"
   },
   {
    "duration": 4,
    "start_time": "2023-11-27T07:57:17.884Z"
   },
   {
    "duration": 90986,
    "start_time": "2023-11-27T07:57:17.889Z"
   },
   {
    "duration": 3,
    "start_time": "2023-11-27T07:58:48.876Z"
   },
   {
    "duration": 353,
    "start_time": "2023-11-27T07:58:48.881Z"
   },
   {
    "duration": 43,
    "start_time": "2023-11-27T07:58:49.236Z"
   },
   {
    "duration": 3,
    "start_time": "2023-11-27T07:58:49.281Z"
   },
   {
    "duration": 5128,
    "start_time": "2023-11-27T07:58:49.285Z"
   },
   {
    "duration": 2117,
    "start_time": "2023-11-27T07:58:54.416Z"
   },
   {
    "duration": 4,
    "start_time": "2023-11-27T07:58:56.535Z"
   },
   {
    "duration": 196966,
    "start_time": "2023-11-27T07:58:56.540Z"
   },
   {
    "duration": 3,
    "start_time": "2023-11-27T08:02:13.508Z"
   },
   {
    "duration": 27,
    "start_time": "2023-11-27T08:02:13.513Z"
   },
   {
    "duration": 24,
    "start_time": "2023-11-27T08:02:13.542Z"
   },
   {
    "duration": 195507,
    "start_time": "2023-11-27T08:02:13.568Z"
   },
   {
    "duration": 3,
    "start_time": "2023-11-27T08:05:29.077Z"
   },
   {
    "duration": 42,
    "start_time": "2023-11-27T08:05:29.082Z"
   },
   {
    "duration": 190,
    "start_time": "2023-11-27T08:05:29.125Z"
   },
   {
    "duration": 0,
    "start_time": "2023-11-27T08:05:29.317Z"
   },
   {
    "duration": 0,
    "start_time": "2023-11-27T08:05:29.318Z"
   },
   {
    "duration": 0,
    "start_time": "2023-11-27T08:05:29.318Z"
   },
   {
    "duration": 0,
    "start_time": "2023-11-27T08:05:29.319Z"
   },
   {
    "duration": 89,
    "start_time": "2023-11-27T08:34:12.371Z"
   },
   {
    "duration": 8,
    "start_time": "2023-11-27T08:34:57.123Z"
   },
   {
    "duration": 70,
    "start_time": "2023-11-27T08:35:03.798Z"
   },
   {
    "duration": 5,
    "start_time": "2023-11-27T08:37:58.044Z"
   },
   {
    "duration": 4,
    "start_time": "2023-11-27T08:38:23.088Z"
   },
   {
    "duration": 28,
    "start_time": "2023-11-27T08:38:24.766Z"
   },
   {
    "duration": 5,
    "start_time": "2023-11-27T08:38:45.842Z"
   },
   {
    "duration": 4,
    "start_time": "2023-11-27T08:40:10.727Z"
   },
   {
    "duration": 4,
    "start_time": "2023-11-27T08:41:30.710Z"
   },
   {
    "duration": 116,
    "start_time": "2023-11-27T08:41:43.301Z"
   },
   {
    "duration": 5,
    "start_time": "2023-11-27T08:42:14.272Z"
   },
   {
    "duration": 146064,
    "start_time": "2023-11-27T08:42:19.796Z"
   },
   {
    "duration": 0,
    "start_time": "2023-11-27T08:44:45.862Z"
   },
   {
    "duration": 0,
    "start_time": "2023-11-27T08:44:45.863Z"
   },
   {
    "duration": 6,
    "start_time": "2023-11-27T08:45:10.995Z"
   },
   {
    "duration": 36218,
    "start_time": "2023-11-27T08:45:11.521Z"
   },
   {
    "duration": 4,
    "start_time": "2023-11-27T08:45:50.242Z"
   },
   {
    "duration": 10201,
    "start_time": "2023-11-27T12:41:09.607Z"
   },
   {
    "duration": 3677,
    "start_time": "2023-11-27T12:41:19.810Z"
   },
   {
    "duration": 3,
    "start_time": "2023-11-27T12:41:23.490Z"
   },
   {
    "duration": 1924,
    "start_time": "2023-11-27T12:41:23.496Z"
   },
   {
    "duration": 14,
    "start_time": "2023-11-27T12:41:25.466Z"
   },
   {
    "duration": 22,
    "start_time": "2023-11-27T12:41:25.483Z"
   },
   {
    "duration": 91,
    "start_time": "2023-11-27T12:41:25.507Z"
   },
   {
    "duration": 7,
    "start_time": "2023-11-27T12:41:25.600Z"
   },
   {
    "duration": 13,
    "start_time": "2023-11-27T12:41:25.666Z"
   },
   {
    "duration": 11700,
    "start_time": "2023-11-27T12:41:25.683Z"
   },
   {
    "duration": 410,
    "start_time": "2023-11-27T12:41:37.385Z"
   },
   {
    "duration": 188,
    "start_time": "2023-11-27T12:41:37.797Z"
   },
   {
    "duration": 1018,
    "start_time": "2023-11-27T12:41:37.987Z"
   },
   {
    "duration": 83,
    "start_time": "2023-11-27T12:41:39.007Z"
   },
   {
    "duration": 11,
    "start_time": "2023-11-27T12:41:39.092Z"
   },
   {
    "duration": 62,
    "start_time": "2023-11-27T12:41:39.105Z"
   },
   {
    "duration": 19,
    "start_time": "2023-11-27T12:41:39.180Z"
   },
   {
    "duration": 408,
    "start_time": "2023-11-27T12:41:39.201Z"
   },
   {
    "duration": 82,
    "start_time": "2023-11-27T12:41:39.610Z"
   },
   {
    "duration": 94,
    "start_time": "2023-11-27T12:41:39.693Z"
   },
   {
    "duration": 5,
    "start_time": "2023-11-27T12:41:39.789Z"
   },
   {
    "duration": 220614,
    "start_time": "2023-11-27T12:41:39.795Z"
   },
   {
    "duration": 61,
    "start_time": "2023-11-27T12:45:20.411Z"
   },
   {
    "duration": 736,
    "start_time": "2023-11-27T12:45:20.475Z"
   },
   {
    "duration": 164,
    "start_time": "2023-11-27T12:45:21.213Z"
   },
   {
    "duration": 3,
    "start_time": "2023-11-27T12:45:21.379Z"
   },
   {
    "duration": 12716,
    "start_time": "2023-11-27T12:45:21.383Z"
   },
   {
    "duration": 5005,
    "start_time": "2023-11-27T12:45:34.103Z"
   },
   {
    "duration": 62,
    "start_time": "2023-11-27T12:45:39.109Z"
   },
   {
    "duration": 667739,
    "start_time": "2023-11-27T12:45:39.173Z"
   },
   {
    "duration": 4,
    "start_time": "2023-11-27T12:56:46.913Z"
   },
   {
    "duration": 8,
    "start_time": "2023-11-27T12:56:46.918Z"
   },
   {
    "duration": 10,
    "start_time": "2023-11-27T12:56:46.968Z"
   },
   {
    "duration": 204437,
    "start_time": "2023-11-27T12:56:46.980Z"
   },
   {
    "duration": 3,
    "start_time": "2023-11-27T13:00:11.419Z"
   },
   {
    "duration": 5,
    "start_time": "2023-11-27T13:00:11.424Z"
   },
   {
    "duration": 6,
    "start_time": "2023-11-27T13:00:11.430Z"
   },
   {
    "duration": 195,
    "start_time": "2023-11-27T13:00:11.438Z"
   },
   {
    "duration": 0,
    "start_time": "2023-11-27T13:00:11.635Z"
   },
   {
    "duration": 0,
    "start_time": "2023-11-27T13:00:11.636Z"
   },
   {
    "duration": 6,
    "start_time": "2023-11-27T13:01:19.406Z"
   },
   {
    "duration": 40,
    "start_time": "2023-11-27T13:01:19.743Z"
   },
   {
    "duration": 4,
    "start_time": "2023-11-27T13:01:33.856Z"
   },
   {
    "duration": 6,
    "start_time": "2023-11-27T13:01:36.962Z"
   },
   {
    "duration": 21,
    "start_time": "2023-11-27T13:01:37.226Z"
   },
   {
    "duration": 4,
    "start_time": "2023-11-27T13:01:48.179Z"
   },
   {
    "duration": 5090,
    "start_time": "2023-11-27T13:45:33.999Z"
   },
   {
    "duration": 2069,
    "start_time": "2023-11-27T13:45:39.092Z"
   },
   {
    "duration": 3,
    "start_time": "2023-11-27T13:45:41.162Z"
   },
   {
    "duration": 2262,
    "start_time": "2023-11-27T13:45:41.167Z"
   },
   {
    "duration": 11,
    "start_time": "2023-11-27T13:45:43.431Z"
   },
   {
    "duration": 3,
    "start_time": "2023-11-27T13:45:43.444Z"
   },
   {
    "duration": 37,
    "start_time": "2023-11-27T13:45:43.449Z"
   },
   {
    "duration": 25,
    "start_time": "2023-11-27T13:45:43.488Z"
   },
   {
    "duration": 13,
    "start_time": "2023-11-27T13:45:43.515Z"
   },
   {
    "duration": 5049,
    "start_time": "2023-11-27T13:45:43.530Z"
   },
   {
    "duration": 203,
    "start_time": "2023-11-27T13:45:48.581Z"
   },
   {
    "duration": 80,
    "start_time": "2023-11-27T13:45:48.786Z"
   },
   {
    "duration": 589,
    "start_time": "2023-11-27T13:45:48.869Z"
   },
   {
    "duration": 30,
    "start_time": "2023-11-27T13:45:49.460Z"
   },
   {
    "duration": 15,
    "start_time": "2023-11-27T13:45:49.492Z"
   },
   {
    "duration": 33,
    "start_time": "2023-11-27T13:45:49.509Z"
   },
   {
    "duration": 60,
    "start_time": "2023-11-27T13:45:49.543Z"
   },
   {
    "duration": 223,
    "start_time": "2023-11-27T13:45:49.604Z"
   },
   {
    "duration": 31,
    "start_time": "2023-11-27T13:45:49.829Z"
   },
   {
    "duration": 30,
    "start_time": "2023-11-27T13:45:49.866Z"
   },
   {
    "duration": 7,
    "start_time": "2023-11-27T13:45:49.898Z"
   },
   {
    "duration": 94445,
    "start_time": "2023-11-27T13:45:49.907Z"
   },
   {
    "duration": 4,
    "start_time": "2023-11-27T13:47:24.354Z"
   },
   {
    "duration": 358,
    "start_time": "2023-11-27T13:47:24.365Z"
   },
   {
    "duration": 48,
    "start_time": "2023-11-27T13:47:24.724Z"
   },
   {
    "duration": 3,
    "start_time": "2023-11-27T13:47:24.773Z"
   },
   {
    "duration": 5288,
    "start_time": "2023-11-27T13:47:24.777Z"
   },
   {
    "duration": 2168,
    "start_time": "2023-11-27T13:47:30.069Z"
   },
   {
    "duration": 4,
    "start_time": "2023-11-27T13:47:32.239Z"
   },
   {
    "duration": 202959,
    "start_time": "2023-11-27T13:47:32.244Z"
   },
   {
    "duration": 5,
    "start_time": "2023-11-27T13:50:55.204Z"
   },
   {
    "duration": 32,
    "start_time": "2023-11-27T13:50:55.211Z"
   },
   {
    "duration": 23,
    "start_time": "2023-11-27T13:50:55.245Z"
   },
   {
    "duration": 268328,
    "start_time": "2023-11-27T13:50:55.270Z"
   },
   {
    "duration": 4,
    "start_time": "2023-11-27T13:55:23.600Z"
   },
   {
    "duration": 17,
    "start_time": "2023-11-27T13:55:23.606Z"
   },
   {
    "duration": 165,
    "start_time": "2023-11-27T13:55:23.625Z"
   },
   {
    "duration": 0,
    "start_time": "2023-11-27T13:55:23.792Z"
   },
   {
    "duration": 4,
    "start_time": "2023-11-27T13:56:44.621Z"
   },
   {
    "duration": 5,
    "start_time": "2023-11-27T13:57:17.705Z"
   },
   {
    "duration": 3,
    "start_time": "2023-11-27T13:57:24.065Z"
   },
   {
    "duration": 41059,
    "start_time": "2023-11-27T13:58:26.858Z"
   },
   {
    "duration": 6,
    "start_time": "2023-11-27T14:05:21.266Z"
   },
   {
    "duration": 4,
    "start_time": "2023-11-27T14:06:25.802Z"
   },
   {
    "duration": 23,
    "start_time": "2023-11-27T14:06:37.167Z"
   },
   {
    "duration": 4,
    "start_time": "2023-11-27T14:08:22.136Z"
   },
   {
    "duration": 3,
    "start_time": "2023-11-27T14:09:22.619Z"
   },
   {
    "duration": 2,
    "start_time": "2023-11-27T14:09:23.382Z"
   },
   {
    "duration": 41208,
    "start_time": "2023-11-27T14:09:27.608Z"
   },
   {
    "duration": 2,
    "start_time": "2023-11-27T14:10:08.818Z"
   },
   {
    "duration": 31,
    "start_time": "2023-11-27T14:10:25.895Z"
   },
   {
    "duration": 4,
    "start_time": "2023-11-27T14:10:53.353Z"
   },
   {
    "duration": 24,
    "start_time": "2023-11-27T14:10:55.646Z"
   },
   {
    "duration": 3,
    "start_time": "2023-11-27T14:11:24.232Z"
   },
   {
    "duration": 26,
    "start_time": "2023-11-27T14:11:32.189Z"
   },
   {
    "duration": 2543,
    "start_time": "2023-11-27T14:22:30.780Z"
   },
   {
    "duration": 1776,
    "start_time": "2023-11-27T14:22:33.325Z"
   },
   {
    "duration": 3,
    "start_time": "2023-11-27T14:22:35.103Z"
   },
   {
    "duration": 859,
    "start_time": "2023-11-27T14:22:35.108Z"
   },
   {
    "duration": 15,
    "start_time": "2023-11-27T14:22:35.969Z"
   },
   {
    "duration": 22,
    "start_time": "2023-11-27T14:22:35.986Z"
   },
   {
    "duration": 53,
    "start_time": "2023-11-27T14:22:36.009Z"
   },
   {
    "duration": 8,
    "start_time": "2023-11-27T14:22:36.063Z"
   },
   {
    "duration": 16,
    "start_time": "2023-11-27T14:22:36.072Z"
   },
   {
    "duration": 4877,
    "start_time": "2023-11-27T14:22:36.092Z"
   },
   {
    "duration": 199,
    "start_time": "2023-11-27T14:22:40.971Z"
   },
   {
    "duration": 69,
    "start_time": "2023-11-27T14:22:41.172Z"
   },
   {
    "duration": 500,
    "start_time": "2023-11-27T14:22:41.243Z"
   },
   {
    "duration": 42,
    "start_time": "2023-11-27T14:22:41.745Z"
   },
   {
    "duration": 16,
    "start_time": "2023-11-27T14:22:41.789Z"
   },
   {
    "duration": 11,
    "start_time": "2023-11-27T14:22:41.806Z"
   },
   {
    "duration": 40,
    "start_time": "2023-11-27T14:22:41.818Z"
   },
   {
    "duration": 192,
    "start_time": "2023-11-27T14:22:41.860Z"
   },
   {
    "duration": 30,
    "start_time": "2023-11-27T14:22:42.054Z"
   },
   {
    "duration": 36,
    "start_time": "2023-11-27T14:22:42.086Z"
   },
   {
    "duration": 3,
    "start_time": "2023-11-27T14:22:42.124Z"
   },
   {
    "duration": 93847,
    "start_time": "2023-11-27T14:22:42.128Z"
   },
   {
    "duration": 4,
    "start_time": "2023-11-27T14:24:15.976Z"
   },
   {
    "duration": 344,
    "start_time": "2023-11-27T14:24:15.981Z"
   },
   {
    "duration": 220,
    "start_time": "2023-11-27T14:24:16.326Z"
   },
   {
    "duration": 0,
    "start_time": "2023-11-27T14:24:16.548Z"
   },
   {
    "duration": 0,
    "start_time": "2023-11-27T14:24:16.550Z"
   },
   {
    "duration": 0,
    "start_time": "2023-11-27T14:24:16.551Z"
   },
   {
    "duration": 0,
    "start_time": "2023-11-27T14:24:16.552Z"
   },
   {
    "duration": 0,
    "start_time": "2023-11-27T14:24:16.566Z"
   },
   {
    "duration": 0,
    "start_time": "2023-11-27T14:24:16.567Z"
   },
   {
    "duration": 0,
    "start_time": "2023-11-27T14:24:16.568Z"
   },
   {
    "duration": 0,
    "start_time": "2023-11-27T14:24:16.569Z"
   },
   {
    "duration": 0,
    "start_time": "2023-11-27T14:24:16.570Z"
   },
   {
    "duration": 0,
    "start_time": "2023-11-27T14:24:16.571Z"
   },
   {
    "duration": 0,
    "start_time": "2023-11-27T14:24:16.572Z"
   },
   {
    "duration": 0,
    "start_time": "2023-11-27T14:24:16.573Z"
   },
   {
    "duration": 0,
    "start_time": "2023-11-27T14:24:16.574Z"
   },
   {
    "duration": 0,
    "start_time": "2023-11-27T14:24:16.575Z"
   },
   {
    "duration": 0,
    "start_time": "2023-11-27T14:24:16.576Z"
   },
   {
    "duration": 0,
    "start_time": "2023-11-27T14:24:16.576Z"
   },
   {
    "duration": 83,
    "start_time": "2023-11-27T14:28:18.762Z"
   },
   {
    "duration": 3,
    "start_time": "2023-11-27T14:28:26.851Z"
   },
   {
    "duration": 5390,
    "start_time": "2023-11-27T14:28:27.760Z"
   },
   {
    "duration": 2103,
    "start_time": "2023-11-27T14:28:33.152Z"
   },
   {
    "duration": 8,
    "start_time": "2023-11-27T14:28:35.257Z"
   },
   {
    "duration": 302805,
    "start_time": "2023-11-27T14:28:35.268Z"
   },
   {
    "duration": 4,
    "start_time": "2023-11-27T14:33:38.075Z"
   },
   {
    "duration": 13,
    "start_time": "2023-11-27T14:33:38.080Z"
   },
   {
    "duration": 7,
    "start_time": "2023-11-27T14:33:38.094Z"
   },
   {
    "duration": 159222,
    "start_time": "2023-11-27T14:33:38.103Z"
   },
   {
    "duration": 4,
    "start_time": "2023-11-27T14:36:17.327Z"
   },
   {
    "duration": 3,
    "start_time": "2023-11-27T14:36:17.334Z"
   },
   {
    "duration": 25,
    "start_time": "2023-11-27T14:36:17.338Z"
   },
   {
    "duration": 21,
    "start_time": "2023-11-27T14:36:17.365Z"
   },
   {
    "duration": 11050,
    "start_time": "2023-11-27T14:36:17.388Z"
   },
   {
    "duration": 3,
    "start_time": "2023-11-27T14:36:28.440Z"
   },
   {
    "duration": 52,
    "start_time": "2023-11-27T14:36:28.445Z"
   },
   {
    "duration": 4,
    "start_time": "2023-11-27T14:44:21.248Z"
   },
   {
    "duration": 2400,
    "start_time": "2023-11-27T14:49:36.804Z"
   },
   {
    "duration": 2059,
    "start_time": "2023-11-27T14:49:39.207Z"
   },
   {
    "duration": 3,
    "start_time": "2023-11-27T14:49:41.268Z"
   },
   {
    "duration": 823,
    "start_time": "2023-11-27T14:49:41.272Z"
   },
   {
    "duration": 12,
    "start_time": "2023-11-27T14:49:42.096Z"
   },
   {
    "duration": 4,
    "start_time": "2023-11-27T14:49:42.109Z"
   },
   {
    "duration": 30,
    "start_time": "2023-11-27T14:49:42.114Z"
   },
   {
    "duration": 6,
    "start_time": "2023-11-27T14:49:42.166Z"
   },
   {
    "duration": 3,
    "start_time": "2023-11-27T14:49:42.173Z"
   },
   {
    "duration": 4890,
    "start_time": "2023-11-27T14:49:42.179Z"
   },
   {
    "duration": 190,
    "start_time": "2023-11-27T14:49:47.070Z"
   },
   {
    "duration": 66,
    "start_time": "2023-11-27T14:49:47.262Z"
   },
   {
    "duration": 441,
    "start_time": "2023-11-27T14:49:47.329Z"
   },
   {
    "duration": 23,
    "start_time": "2023-11-27T14:49:47.772Z"
   },
   {
    "duration": 22,
    "start_time": "2023-11-27T14:49:47.797Z"
   },
   {
    "duration": 39,
    "start_time": "2023-11-27T14:49:47.820Z"
   },
   {
    "duration": 55,
    "start_time": "2023-11-27T14:49:47.860Z"
   },
   {
    "duration": 193,
    "start_time": "2023-11-27T14:49:47.916Z"
   },
   {
    "duration": 29,
    "start_time": "2023-11-27T14:49:48.110Z"
   },
   {
    "duration": 58,
    "start_time": "2023-11-27T14:49:48.140Z"
   },
   {
    "duration": 40,
    "start_time": "2023-11-27T14:49:48.200Z"
   },
   {
    "duration": 91190,
    "start_time": "2023-11-27T14:49:48.242Z"
   },
   {
    "duration": 3,
    "start_time": "2023-11-27T14:51:19.434Z"
   },
   {
    "duration": 344,
    "start_time": "2023-11-27T14:51:19.438Z"
   },
   {
    "duration": 107,
    "start_time": "2023-11-27T14:51:19.783Z"
   },
   {
    "duration": 3,
    "start_time": "2023-11-27T14:51:19.892Z"
   },
   {
    "duration": 5299,
    "start_time": "2023-11-27T14:51:19.903Z"
   },
   {
    "duration": 2056,
    "start_time": "2023-11-27T14:51:25.206Z"
   },
   {
    "duration": 3,
    "start_time": "2023-11-27T14:51:27.265Z"
   },
   {
    "duration": 250837,
    "start_time": "2023-11-27T14:51:27.270Z"
   },
   {
    "duration": 4,
    "start_time": "2023-11-27T14:55:38.108Z"
   },
   {
    "duration": 15,
    "start_time": "2023-11-27T14:55:38.113Z"
   },
   {
    "duration": 11,
    "start_time": "2023-11-27T14:55:38.129Z"
   },
   {
    "duration": 229930,
    "start_time": "2023-11-27T14:55:38.141Z"
   },
   {
    "duration": 5,
    "start_time": "2023-11-27T14:59:28.072Z"
   },
   {
    "duration": 16,
    "start_time": "2023-11-27T14:59:28.079Z"
   },
   {
    "duration": 20,
    "start_time": "2023-11-27T14:59:28.097Z"
   },
   {
    "duration": 25,
    "start_time": "2023-11-27T14:59:28.119Z"
   },
   {
    "duration": 27977,
    "start_time": "2023-11-27T14:59:28.147Z"
   },
   {
    "duration": 3,
    "start_time": "2023-11-27T14:59:56.125Z"
   },
   {
    "duration": 43,
    "start_time": "2023-11-27T14:59:56.130Z"
   },
   {
    "duration": 3809,
    "start_time": "2023-11-27T15:50:34.625Z"
   },
   {
    "duration": 3151,
    "start_time": "2023-11-27T15:50:38.436Z"
   },
   {
    "duration": 3,
    "start_time": "2023-11-27T15:50:41.589Z"
   },
   {
    "duration": 2290,
    "start_time": "2023-11-27T15:50:41.594Z"
   },
   {
    "duration": 10,
    "start_time": "2023-11-27T15:50:43.885Z"
   },
   {
    "duration": 4,
    "start_time": "2023-11-27T15:50:43.897Z"
   },
   {
    "duration": 38,
    "start_time": "2023-11-27T15:50:43.902Z"
   },
   {
    "duration": 6,
    "start_time": "2023-11-27T15:50:43.942Z"
   },
   {
    "duration": 3,
    "start_time": "2023-11-27T15:50:43.950Z"
   },
   {
    "duration": 4945,
    "start_time": "2023-11-27T15:50:43.955Z"
   },
   {
    "duration": 182,
    "start_time": "2023-11-27T15:50:48.902Z"
   },
   {
    "duration": 70,
    "start_time": "2023-11-27T15:50:49.086Z"
   },
   {
    "duration": 444,
    "start_time": "2023-11-27T15:50:49.158Z"
   },
   {
    "duration": 25,
    "start_time": "2023-11-27T15:50:49.603Z"
   },
   {
    "duration": 29,
    "start_time": "2023-11-27T15:50:49.629Z"
   },
   {
    "duration": 6,
    "start_time": "2023-11-27T15:50:49.660Z"
   },
   {
    "duration": 41,
    "start_time": "2023-11-27T15:50:49.667Z"
   },
   {
    "duration": 190,
    "start_time": "2023-11-27T15:50:49.710Z"
   },
   {
    "duration": 26,
    "start_time": "2023-11-27T15:50:49.902Z"
   },
   {
    "duration": 61,
    "start_time": "2023-11-27T15:50:49.929Z"
   },
   {
    "duration": 9,
    "start_time": "2023-11-27T15:50:49.992Z"
   },
   {
    "duration": 1238,
    "start_time": "2023-11-27T15:50:50.002Z"
   },
   {
    "duration": 9,
    "start_time": "2023-11-27T15:50:51.242Z"
   },
   {
    "duration": 151,
    "start_time": "2023-11-27T17:32:01.063Z"
   },
   {
    "duration": 102,
    "start_time": "2023-11-27T17:32:24.928Z"
   },
   {
    "duration": 6,
    "start_time": "2023-11-27T17:32:28.698Z"
   },
   {
    "duration": 4,
    "start_time": "2023-11-27T17:36:24.181Z"
   },
   {
    "duration": 4,
    "start_time": "2023-11-27T17:38:52.216Z"
   },
   {
    "duration": 4,
    "start_time": "2023-11-27T17:45:33.815Z"
   },
   {
    "duration": 592,
    "start_time": "2023-11-27T17:45:44.917Z"
   },
   {
    "duration": 4,
    "start_time": "2023-11-27T17:47:36.897Z"
   },
   {
    "duration": 4,
    "start_time": "2023-11-27T17:47:44.651Z"
   },
   {
    "duration": 330,
    "start_time": "2023-11-27T17:47:44.909Z"
   },
   {
    "duration": 4,
    "start_time": "2023-11-27T17:48:34.053Z"
   },
   {
    "duration": 373,
    "start_time": "2023-11-27T17:48:40.213Z"
   },
   {
    "duration": 6,
    "start_time": "2023-11-27T17:49:09.850Z"
   },
   {
    "duration": 327,
    "start_time": "2023-11-27T17:49:16.562Z"
   },
   {
    "duration": 170,
    "start_time": "2023-11-27T17:49:48.492Z"
   },
   {
    "duration": 4,
    "start_time": "2023-11-27T17:49:51.628Z"
   },
   {
    "duration": 343,
    "start_time": "2023-11-27T17:49:52.140Z"
   },
   {
    "duration": 276,
    "start_time": "2023-11-27T17:50:08.321Z"
   },
   {
    "duration": 4,
    "start_time": "2023-11-27T17:50:11.653Z"
   },
   {
    "duration": 681,
    "start_time": "2023-11-27T17:50:11.830Z"
   },
   {
    "duration": 4,
    "start_time": "2023-11-27T17:51:19.341Z"
   },
   {
    "duration": 2488,
    "start_time": "2023-11-27T18:01:10.277Z"
   },
   {
    "duration": 1943,
    "start_time": "2023-11-27T18:01:12.767Z"
   },
   {
    "duration": 4,
    "start_time": "2023-11-27T18:01:14.711Z"
   },
   {
    "duration": 883,
    "start_time": "2023-11-27T18:01:14.717Z"
   },
   {
    "duration": 12,
    "start_time": "2023-11-27T18:01:15.602Z"
   },
   {
    "duration": 51,
    "start_time": "2023-11-27T18:01:15.616Z"
   },
   {
    "duration": 72,
    "start_time": "2023-11-27T18:01:15.669Z"
   },
   {
    "duration": 39,
    "start_time": "2023-11-27T18:01:15.743Z"
   },
   {
    "duration": 52,
    "start_time": "2023-11-27T18:01:15.784Z"
   },
   {
    "duration": 4973,
    "start_time": "2023-11-27T18:01:15.840Z"
   },
   {
    "duration": 196,
    "start_time": "2023-11-27T18:01:20.815Z"
   },
   {
    "duration": 75,
    "start_time": "2023-11-27T18:01:21.013Z"
   },
   {
    "duration": 523,
    "start_time": "2023-11-27T18:01:21.090Z"
   },
   {
    "duration": 26,
    "start_time": "2023-11-27T18:01:21.615Z"
   },
   {
    "duration": 26,
    "start_time": "2023-11-27T18:01:21.643Z"
   },
   {
    "duration": 10,
    "start_time": "2023-11-27T18:01:21.671Z"
   },
   {
    "duration": 32,
    "start_time": "2023-11-27T18:01:21.683Z"
   },
   {
    "duration": 211,
    "start_time": "2023-11-27T18:01:21.717Z"
   },
   {
    "duration": 35,
    "start_time": "2023-11-27T18:01:21.930Z"
   },
   {
    "duration": 36,
    "start_time": "2023-11-27T18:01:21.967Z"
   },
   {
    "duration": 273,
    "start_time": "2023-11-27T18:01:22.005Z"
   },
   {
    "duration": 4,
    "start_time": "2023-11-27T18:01:22.279Z"
   },
   {
    "duration": 14,
    "start_time": "2023-11-27T18:01:22.284Z"
   },
   {
    "duration": 26740,
    "start_time": "2023-11-27T18:01:22.300Z"
   },
   {
    "duration": 0,
    "start_time": "2023-11-27T18:01:49.042Z"
   },
   {
    "duration": 0,
    "start_time": "2023-11-27T18:01:49.043Z"
   },
   {
    "duration": 0,
    "start_time": "2023-11-27T18:01:49.044Z"
   },
   {
    "duration": 0,
    "start_time": "2023-11-27T18:01:49.045Z"
   },
   {
    "duration": 0,
    "start_time": "2023-11-27T18:01:49.047Z"
   },
   {
    "duration": 0,
    "start_time": "2023-11-27T18:01:49.048Z"
   },
   {
    "duration": 0,
    "start_time": "2023-11-27T18:01:49.050Z"
   },
   {
    "duration": 0,
    "start_time": "2023-11-27T18:01:49.051Z"
   },
   {
    "duration": 0,
    "start_time": "2023-11-27T18:01:49.052Z"
   },
   {
    "duration": 0,
    "start_time": "2023-11-27T18:01:49.053Z"
   },
   {
    "duration": 0,
    "start_time": "2023-11-27T18:01:49.054Z"
   },
   {
    "duration": 0,
    "start_time": "2023-11-27T18:01:49.055Z"
   },
   {
    "duration": 1,
    "start_time": "2023-11-27T18:01:49.056Z"
   },
   {
    "duration": 0,
    "start_time": "2023-11-27T18:01:49.058Z"
   },
   {
    "duration": 0,
    "start_time": "2023-11-27T18:01:49.059Z"
   },
   {
    "duration": 0,
    "start_time": "2023-11-27T18:01:49.060Z"
   },
   {
    "duration": 0,
    "start_time": "2023-11-27T18:01:49.061Z"
   },
   {
    "duration": 0,
    "start_time": "2023-11-27T18:01:49.062Z"
   },
   {
    "duration": 0,
    "start_time": "2023-11-27T18:01:49.063Z"
   },
   {
    "duration": 0,
    "start_time": "2023-11-27T18:01:49.064Z"
   },
   {
    "duration": 2533,
    "start_time": "2023-11-27T18:02:11.882Z"
   },
   {
    "duration": 1912,
    "start_time": "2023-11-27T18:02:14.418Z"
   },
   {
    "duration": 2,
    "start_time": "2023-11-27T18:02:16.332Z"
   },
   {
    "duration": 859,
    "start_time": "2023-11-27T18:02:16.337Z"
   },
   {
    "duration": 11,
    "start_time": "2023-11-27T18:02:17.198Z"
   },
   {
    "duration": 13,
    "start_time": "2023-11-27T18:02:17.211Z"
   },
   {
    "duration": 51,
    "start_time": "2023-11-27T18:02:17.226Z"
   },
   {
    "duration": 23,
    "start_time": "2023-11-27T18:02:17.279Z"
   },
   {
    "duration": 6,
    "start_time": "2023-11-27T18:02:17.303Z"
   },
   {
    "duration": 5640,
    "start_time": "2023-11-27T18:02:17.312Z"
   },
   {
    "duration": 212,
    "start_time": "2023-11-27T18:02:22.954Z"
   },
   {
    "duration": 75,
    "start_time": "2023-11-27T18:02:23.167Z"
   },
   {
    "duration": 465,
    "start_time": "2023-11-27T18:02:23.244Z"
   },
   {
    "duration": 26,
    "start_time": "2023-11-27T18:02:23.710Z"
   },
   {
    "duration": 12,
    "start_time": "2023-11-27T18:02:23.737Z"
   },
   {
    "duration": 13,
    "start_time": "2023-11-27T18:02:23.765Z"
   },
   {
    "duration": 34,
    "start_time": "2023-11-27T18:02:23.780Z"
   },
   {
    "duration": 193,
    "start_time": "2023-11-27T18:02:23.816Z"
   },
   {
    "duration": 26,
    "start_time": "2023-11-27T18:02:24.011Z"
   },
   {
    "duration": 41,
    "start_time": "2023-11-27T18:02:24.039Z"
   },
   {
    "duration": 232,
    "start_time": "2023-11-27T18:02:24.081Z"
   },
   {
    "duration": 4,
    "start_time": "2023-11-27T18:02:24.314Z"
   },
   {
    "duration": 26,
    "start_time": "2023-11-27T18:02:24.319Z"
   },
   {
    "duration": 33811,
    "start_time": "2023-11-27T18:02:24.346Z"
   },
   {
    "duration": 0,
    "start_time": "2023-11-27T18:02:58.159Z"
   },
   {
    "duration": 0,
    "start_time": "2023-11-27T18:02:58.160Z"
   },
   {
    "duration": 0,
    "start_time": "2023-11-27T18:02:58.162Z"
   },
   {
    "duration": 0,
    "start_time": "2023-11-27T18:02:58.163Z"
   },
   {
    "duration": 0,
    "start_time": "2023-11-27T18:02:58.164Z"
   },
   {
    "duration": 0,
    "start_time": "2023-11-27T18:02:58.166Z"
   },
   {
    "duration": 0,
    "start_time": "2023-11-27T18:02:58.166Z"
   },
   {
    "duration": 0,
    "start_time": "2023-11-27T18:02:58.167Z"
   },
   {
    "duration": 0,
    "start_time": "2023-11-27T18:02:58.169Z"
   },
   {
    "duration": 0,
    "start_time": "2023-11-27T18:02:58.170Z"
   },
   {
    "duration": 0,
    "start_time": "2023-11-27T18:02:58.171Z"
   },
   {
    "duration": 0,
    "start_time": "2023-11-27T18:02:58.172Z"
   },
   {
    "duration": 0,
    "start_time": "2023-11-27T18:02:58.173Z"
   },
   {
    "duration": 0,
    "start_time": "2023-11-27T18:02:58.174Z"
   },
   {
    "duration": 0,
    "start_time": "2023-11-27T18:02:58.175Z"
   },
   {
    "duration": 0,
    "start_time": "2023-11-27T18:02:58.176Z"
   },
   {
    "duration": 0,
    "start_time": "2023-11-27T18:02:58.178Z"
   },
   {
    "duration": 0,
    "start_time": "2023-11-27T18:02:58.179Z"
   },
   {
    "duration": 0,
    "start_time": "2023-11-27T18:02:58.180Z"
   },
   {
    "duration": 0,
    "start_time": "2023-11-27T18:02:58.181Z"
   },
   {
    "duration": 8,
    "start_time": "2023-11-27T18:03:03.985Z"
   },
   {
    "duration": 3,
    "start_time": "2023-11-27T18:03:30.834Z"
   },
   {
    "duration": 10,
    "start_time": "2023-11-27T18:03:43.398Z"
   },
   {
    "duration": 6,
    "start_time": "2023-11-27T18:04:05.439Z"
   },
   {
    "duration": 2417,
    "start_time": "2023-11-27T18:04:17.456Z"
   },
   {
    "duration": 2571,
    "start_time": "2023-11-27T18:04:19.876Z"
   },
   {
    "duration": 3,
    "start_time": "2023-11-27T18:04:22.449Z"
   },
   {
    "duration": 846,
    "start_time": "2023-11-27T18:04:22.453Z"
   },
   {
    "duration": 11,
    "start_time": "2023-11-27T18:04:23.301Z"
   },
   {
    "duration": 21,
    "start_time": "2023-11-27T18:04:23.314Z"
   },
   {
    "duration": 52,
    "start_time": "2023-11-27T18:04:23.337Z"
   },
   {
    "duration": 32,
    "start_time": "2023-11-27T18:04:23.390Z"
   },
   {
    "duration": 21,
    "start_time": "2023-11-27T18:04:23.424Z"
   },
   {
    "duration": 4893,
    "start_time": "2023-11-27T18:04:23.449Z"
   },
   {
    "duration": 190,
    "start_time": "2023-11-27T18:04:28.344Z"
   },
   {
    "duration": 75,
    "start_time": "2023-11-27T18:04:28.535Z"
   },
   {
    "duration": 480,
    "start_time": "2023-11-27T18:04:28.612Z"
   },
   {
    "duration": 26,
    "start_time": "2023-11-27T18:04:29.093Z"
   },
   {
    "duration": 11,
    "start_time": "2023-11-27T18:04:29.121Z"
   },
   {
    "duration": 14,
    "start_time": "2023-11-27T18:04:29.134Z"
   },
   {
    "duration": 27,
    "start_time": "2023-11-27T18:04:29.149Z"
   },
   {
    "duration": 196,
    "start_time": "2023-11-27T18:04:29.178Z"
   },
   {
    "duration": 23,
    "start_time": "2023-11-27T18:04:29.376Z"
   },
   {
    "duration": 40,
    "start_time": "2023-11-27T18:04:29.401Z"
   },
   {
    "duration": 163,
    "start_time": "2023-11-27T18:04:29.443Z"
   },
   {
    "duration": 3,
    "start_time": "2023-11-27T18:04:29.608Z"
   },
   {
    "duration": 28,
    "start_time": "2023-11-27T18:04:29.612Z"
   },
   {
    "duration": 33,
    "start_time": "2023-11-27T18:04:29.641Z"
   },
   {
    "duration": 1140457,
    "start_time": "2023-11-27T18:04:29.676Z"
   },
   {
    "duration": 8,
    "start_time": "2023-11-27T18:23:30.135Z"
   },
   {
    "duration": 30,
    "start_time": "2023-11-27T18:23:30.145Z"
   },
   {
    "duration": 30,
    "start_time": "2023-11-27T18:23:30.178Z"
   },
   {
    "duration": 95,
    "start_time": "2023-11-27T18:23:30.210Z"
   },
   {
    "duration": 3,
    "start_time": "2023-11-27T18:23:30.306Z"
   },
   {
    "duration": 5188,
    "start_time": "2023-11-27T18:23:30.310Z"
   },
   {
    "duration": 2041,
    "start_time": "2023-11-27T18:23:35.500Z"
   },
   {
    "duration": 4,
    "start_time": "2023-11-27T18:23:37.542Z"
   },
   {
    "duration": 534451,
    "start_time": "2023-11-27T18:23:37.548Z"
   },
   {
    "duration": 4,
    "start_time": "2023-11-27T18:32:32.001Z"
   },
   {
    "duration": 6,
    "start_time": "2023-11-27T18:32:32.006Z"
   },
   {
    "duration": 28,
    "start_time": "2023-11-27T18:32:32.013Z"
   },
   {
    "duration": 433352,
    "start_time": "2023-11-27T18:32:32.043Z"
   },
   {
    "duration": 4,
    "start_time": "2023-11-27T18:39:45.396Z"
   },
   {
    "duration": 8,
    "start_time": "2023-11-27T18:39:45.402Z"
   },
   {
    "duration": 4,
    "start_time": "2023-11-27T18:39:45.411Z"
   },
   {
    "duration": 3,
    "start_time": "2023-11-27T18:39:45.417Z"
   },
   {
    "duration": 10277,
    "start_time": "2023-11-27T18:39:45.422Z"
   },
   {
    "duration": 3,
    "start_time": "2023-11-27T18:39:55.700Z"
   },
   {
    "duration": 47,
    "start_time": "2023-11-27T18:39:55.704Z"
   }
  ],
  "kernelspec": {
   "display_name": "Python 3 (ipykernel)",
   "language": "python",
   "name": "python3"
  },
  "language_info": {
   "codemirror_mode": {
    "name": "ipython",
    "version": 3
   },
   "file_extension": ".py",
   "mimetype": "text/x-python",
   "name": "python",
   "nbconvert_exporter": "python",
   "pygments_lexer": "ipython3",
   "version": "3.10.12"
  },
  "toc": {
   "base_numbering": 1,
   "nav_menu": {},
   "number_sections": true,
   "sideBar": true,
   "skip_h1_title": true,
   "title_cell": "Содержание",
   "title_sidebar": "Contents",
   "toc_cell": true,
   "toc_position": {
    "height": "calc(100% - 180px)",
    "left": "10px",
    "top": "150px",
    "width": "302.383px"
   },
   "toc_section_display": true,
   "toc_window_display": true
  }
 },
 "nbformat": 4,
 "nbformat_minor": 4
}
